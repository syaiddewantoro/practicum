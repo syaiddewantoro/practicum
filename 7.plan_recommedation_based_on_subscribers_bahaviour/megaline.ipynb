{
  "cells": [
    {
      "cell_type": "markdown",
      "source": [
        "# Customers Plan Behavior"
      ],
      "metadata": {
        "id": "6ONRPXUMitCd"
      }
    },
    {
      "cell_type": "markdown",
      "source": [
        "# Table of Contents\n",
        "- [Megaline (Introduce to Machine Learning)](#scrollTo=HFVBp3qwiTvA)\n",
        "\n",
        "    - [Initialization](#scrollTo=PiDM_Gd0iTvO)\n",
        "\n",
        "    - [Load the Data and Preparation](#scrollTo=if03W1oCiTvS)\n",
        "\n",
        "        - [2.1. Menampilkan sample data and mempelajarinya](#scrollTo=4ENFHQpTiTvT)\n",
        "\n",
        "        - [2.2. Memperbaiki kualitas data](#scrollTo=298uMRwWiTve)\n",
        "\n",
        "    - [EDA and Data Visualization](#scrollTo=wmzRRWxPiTvj)\n",
        "\n",
        "    - [Split the Data](#scrollTo=OARiaTeWiTvo)\n",
        "\n",
        "    - [Models](#scrollTo=wk0E7kcxiTvx)\n",
        "\n",
        "        - [5.1. Logistic Regression](#scrollTo=kcyF3SDriTvy)\n",
        "\n",
        "        - [5.2. Decision Tree](#scrollTo=ozwoXLqviTv-)\n",
        "\n",
        "        - [5.3. Random Forest](#scrollTo=nCThytaviTwK)\n",
        "\n",
        "        - [5.4. KNN](#scrollTo=lGhO-2HSiTwR)\n",
        "\n",
        "- [Consclusions](#scrollTo=1Pk9EbU3iTwV)\n",
        "\n"
      ],
      "metadata": {
        "colab_type": "toc",
        "id": "OQa37M-XiaU2"
      }
    },
    {
      "cell_type": "markdown",
      "metadata": {
        "id": "HFVBp3qwiTvA"
      },
      "source": [
        "# Megaline (Introduce to Machine Learning)\n",
        "\n",
        "Operator seluler Megaline merasa tidak puas karena banyak pelanggan mereka yang masih menggunakan paket lama. Perusahaan tersebut ingin mengembangkan sebuah model yang dapat menganalisis perilaku konsumen dan merekomendasikan salah satu dari kedua paket terbaru Megaline: Smart atau Ultra.\n",
        "\n",
        "Kami memiliki akses terhadap data perilaku para pelanggan yang sudah beralih ke paket terbaru (dari proyek kursus Analisis Data Statistik). Dalam tugas klasifikasi ini, Kami perlu mengembangkan sebuah model yang mampu memilih paket dengan tepat. Mengingat Kami telah menyelesaikan langkah pra-pemrosesan data, Kami bisa langsung menuju ke tahap pembuatan model.\n",
        "\n",
        "Kami akan mengembangkan sebuah model yang memiliki accuracy setinggi mungkin. Pada proyek ini, ambang batas untuk tingkat accuracy-nya adalah 0,75. Kami akan memeriksa metrik accuracy model dengan menggunakan test dataset.\n",
        "\n",
        "**Goals :**\n",
        "1. Memisahkan data sumber menjadi training set, validation set, dan test set.\n",
        "2. Memeriksa kualitas model yang berbeda dengan mengubah hyperparameter-nya. Menjelaskan secara singkat temuan-temuan yang  didapatkan dari penelitian ini.\n",
        "3. Memeriksa kualitas model dengan menggunakan test set.\n",
        "4. Melakukan sanity check terhadap model. "
      ]
    },
    {
      "cell_type": "markdown",
      "metadata": {
        "id": "PiDM_Gd0iTvO"
      },
      "source": [
        "## 1. Initialization"
      ]
    },
    {
      "cell_type": "code",
      "execution_count": 1,
      "metadata": {
        "colab": {
          "base_uri": "https://localhost:8080/"
        },
        "collapsed": true,
        "id": "jm9g7AtOiTvP",
        "outputId": "3ed67a2c-4df3-4831-d1ca-69cd2259f4f7"
      },
      "outputs": [
        {
          "output_type": "stream",
          "name": "stdout",
          "text": [
            "Looking in indexes: https://pypi.org/simple, https://us-python.pkg.dev/colab-wheels/public/simple/\n",
            "Collecting fast_ml\n",
            "  Downloading fast_ml-3.68-py3-none-any.whl (42 kB)\n",
            "\u001b[2K     \u001b[90m━━━━━━━━━━━━━━━━━━━━━━━━━━━━━━━━━━━━━━━━\u001b[0m \u001b[32m42.1/42.1 KB\u001b[0m \u001b[31m1.9 MB/s\u001b[0m eta \u001b[36m0:00:00\u001b[0m\n",
            "\u001b[?25hInstalling collected packages: fast_ml\n",
            "Successfully installed fast_ml-3.68\n"
          ]
        }
      ],
      "source": [
        "# Load all libraries\n",
        "import pandas as pd\n",
        "import numpy as np\n",
        "import matplotlib.pyplot as plt\n",
        "import seaborn as sns\n",
        "from collections import defaultdict\n",
        "\n",
        "# ml libraries\n",
        "!pip install fast_ml\n",
        "from sklearn.model_selection import train_test_split\n",
        "from fast_ml.model_development import train_valid_test_split\n",
        "from sklearn.metrics import accuracy_score, confusion_matrix, classification_report, ConfusionMatrixDisplay\n",
        "from sklearn.tree import DecisionTreeClassifier\n",
        "from sklearn.ensemble import RandomForestClassifier\n",
        "from sklearn.linear_model import LogisticRegression\n",
        "from sklearn.naive_bayes import GaussianNB\n",
        "from sklearn.neighbors import KNeighborsClassifier"
      ]
    },
    {
      "cell_type": "markdown",
      "metadata": {
        "id": "if03W1oCiTvS"
      },
      "source": [
        "## 2. Load the Data and Preparation"
      ]
    },
    {
      "cell_type": "markdown",
      "metadata": {
        "id": "4ENFHQpTiTvT"
      },
      "source": [
        "### 2.1. Menampilkan *sample* data and mempelajarinya"
      ]
    },
    {
      "cell_type": "code",
      "execution_count": 2,
      "metadata": {
        "id": "q2i1kE0CiTvU"
      },
      "outputs": [],
      "source": [
        "# Load the data\n",
        "df = pd.read_csv('/content/users_behavior.csv')"
      ]
    },
    {
      "cell_type": "code",
      "execution_count": 3,
      "metadata": {
        "scrolled": false,
        "colab": {
          "base_uri": "https://localhost:8080/",
          "height": 424
        },
        "id": "HxX_27KXiTvX",
        "outputId": "e8fbc01b-e407-4535-a904-df25998aeda7"
      },
      "outputs": [
        {
          "output_type": "execute_result",
          "data": {
            "text/plain": [
              "      calls  minutes  messages   mb_used  is_ultra\n",
              "0      40.0   311.90      83.0  19915.42         0\n",
              "1      85.0   516.75      56.0  22696.96         0\n",
              "2      77.0   467.66      86.0  21060.45         0\n",
              "3     106.0   745.53      81.0   8437.39         1\n",
              "4      66.0   418.74       1.0  14502.75         0\n",
              "...     ...      ...       ...       ...       ...\n",
              "3209  122.0   910.98      20.0  35124.90         1\n",
              "3210   25.0   190.36       0.0   3275.61         0\n",
              "3211   97.0   634.44      70.0  13974.06         0\n",
              "3212   64.0   462.32      90.0  31239.78         0\n",
              "3213   80.0   566.09       6.0  29480.52         1\n",
              "\n",
              "[3214 rows x 5 columns]"
            ],
            "text/html": [
              "\n",
              "  <div id=\"df-0bd0536b-095a-4956-b272-65e46b0c67f3\">\n",
              "    <div class=\"colab-df-container\">\n",
              "      <div>\n",
              "<style scoped>\n",
              "    .dataframe tbody tr th:only-of-type {\n",
              "        vertical-align: middle;\n",
              "    }\n",
              "\n",
              "    .dataframe tbody tr th {\n",
              "        vertical-align: top;\n",
              "    }\n",
              "\n",
              "    .dataframe thead th {\n",
              "        text-align: right;\n",
              "    }\n",
              "</style>\n",
              "<table border=\"1\" class=\"dataframe\">\n",
              "  <thead>\n",
              "    <tr style=\"text-align: right;\">\n",
              "      <th></th>\n",
              "      <th>calls</th>\n",
              "      <th>minutes</th>\n",
              "      <th>messages</th>\n",
              "      <th>mb_used</th>\n",
              "      <th>is_ultra</th>\n",
              "    </tr>\n",
              "  </thead>\n",
              "  <tbody>\n",
              "    <tr>\n",
              "      <th>0</th>\n",
              "      <td>40.0</td>\n",
              "      <td>311.90</td>\n",
              "      <td>83.0</td>\n",
              "      <td>19915.42</td>\n",
              "      <td>0</td>\n",
              "    </tr>\n",
              "    <tr>\n",
              "      <th>1</th>\n",
              "      <td>85.0</td>\n",
              "      <td>516.75</td>\n",
              "      <td>56.0</td>\n",
              "      <td>22696.96</td>\n",
              "      <td>0</td>\n",
              "    </tr>\n",
              "    <tr>\n",
              "      <th>2</th>\n",
              "      <td>77.0</td>\n",
              "      <td>467.66</td>\n",
              "      <td>86.0</td>\n",
              "      <td>21060.45</td>\n",
              "      <td>0</td>\n",
              "    </tr>\n",
              "    <tr>\n",
              "      <th>3</th>\n",
              "      <td>106.0</td>\n",
              "      <td>745.53</td>\n",
              "      <td>81.0</td>\n",
              "      <td>8437.39</td>\n",
              "      <td>1</td>\n",
              "    </tr>\n",
              "    <tr>\n",
              "      <th>4</th>\n",
              "      <td>66.0</td>\n",
              "      <td>418.74</td>\n",
              "      <td>1.0</td>\n",
              "      <td>14502.75</td>\n",
              "      <td>0</td>\n",
              "    </tr>\n",
              "    <tr>\n",
              "      <th>...</th>\n",
              "      <td>...</td>\n",
              "      <td>...</td>\n",
              "      <td>...</td>\n",
              "      <td>...</td>\n",
              "      <td>...</td>\n",
              "    </tr>\n",
              "    <tr>\n",
              "      <th>3209</th>\n",
              "      <td>122.0</td>\n",
              "      <td>910.98</td>\n",
              "      <td>20.0</td>\n",
              "      <td>35124.90</td>\n",
              "      <td>1</td>\n",
              "    </tr>\n",
              "    <tr>\n",
              "      <th>3210</th>\n",
              "      <td>25.0</td>\n",
              "      <td>190.36</td>\n",
              "      <td>0.0</td>\n",
              "      <td>3275.61</td>\n",
              "      <td>0</td>\n",
              "    </tr>\n",
              "    <tr>\n",
              "      <th>3211</th>\n",
              "      <td>97.0</td>\n",
              "      <td>634.44</td>\n",
              "      <td>70.0</td>\n",
              "      <td>13974.06</td>\n",
              "      <td>0</td>\n",
              "    </tr>\n",
              "    <tr>\n",
              "      <th>3212</th>\n",
              "      <td>64.0</td>\n",
              "      <td>462.32</td>\n",
              "      <td>90.0</td>\n",
              "      <td>31239.78</td>\n",
              "      <td>0</td>\n",
              "    </tr>\n",
              "    <tr>\n",
              "      <th>3213</th>\n",
              "      <td>80.0</td>\n",
              "      <td>566.09</td>\n",
              "      <td>6.0</td>\n",
              "      <td>29480.52</td>\n",
              "      <td>1</td>\n",
              "    </tr>\n",
              "  </tbody>\n",
              "</table>\n",
              "<p>3214 rows × 5 columns</p>\n",
              "</div>\n",
              "      <button class=\"colab-df-convert\" onclick=\"convertToInteractive('df-0bd0536b-095a-4956-b272-65e46b0c67f3')\"\n",
              "              title=\"Convert this dataframe to an interactive table.\"\n",
              "              style=\"display:none;\">\n",
              "        \n",
              "  <svg xmlns=\"http://www.w3.org/2000/svg\" height=\"24px\"viewBox=\"0 0 24 24\"\n",
              "       width=\"24px\">\n",
              "    <path d=\"M0 0h24v24H0V0z\" fill=\"none\"/>\n",
              "    <path d=\"M18.56 5.44l.94 2.06.94-2.06 2.06-.94-2.06-.94-.94-2.06-.94 2.06-2.06.94zm-11 1L8.5 8.5l.94-2.06 2.06-.94-2.06-.94L8.5 2.5l-.94 2.06-2.06.94zm10 10l.94 2.06.94-2.06 2.06-.94-2.06-.94-.94-2.06-.94 2.06-2.06.94z\"/><path d=\"M17.41 7.96l-1.37-1.37c-.4-.4-.92-.59-1.43-.59-.52 0-1.04.2-1.43.59L10.3 9.45l-7.72 7.72c-.78.78-.78 2.05 0 2.83L4 21.41c.39.39.9.59 1.41.59.51 0 1.02-.2 1.41-.59l7.78-7.78 2.81-2.81c.8-.78.8-2.07 0-2.86zM5.41 20L4 18.59l7.72-7.72 1.47 1.35L5.41 20z\"/>\n",
              "  </svg>\n",
              "      </button>\n",
              "      \n",
              "  <style>\n",
              "    .colab-df-container {\n",
              "      display:flex;\n",
              "      flex-wrap:wrap;\n",
              "      gap: 12px;\n",
              "    }\n",
              "\n",
              "    .colab-df-convert {\n",
              "      background-color: #E8F0FE;\n",
              "      border: none;\n",
              "      border-radius: 50%;\n",
              "      cursor: pointer;\n",
              "      display: none;\n",
              "      fill: #1967D2;\n",
              "      height: 32px;\n",
              "      padding: 0 0 0 0;\n",
              "      width: 32px;\n",
              "    }\n",
              "\n",
              "    .colab-df-convert:hover {\n",
              "      background-color: #E2EBFA;\n",
              "      box-shadow: 0px 1px 2px rgba(60, 64, 67, 0.3), 0px 1px 3px 1px rgba(60, 64, 67, 0.15);\n",
              "      fill: #174EA6;\n",
              "    }\n",
              "\n",
              "    [theme=dark] .colab-df-convert {\n",
              "      background-color: #3B4455;\n",
              "      fill: #D2E3FC;\n",
              "    }\n",
              "\n",
              "    [theme=dark] .colab-df-convert:hover {\n",
              "      background-color: #434B5C;\n",
              "      box-shadow: 0px 1px 3px 1px rgba(0, 0, 0, 0.15);\n",
              "      filter: drop-shadow(0px 1px 2px rgba(0, 0, 0, 0.3));\n",
              "      fill: #FFFFFF;\n",
              "    }\n",
              "  </style>\n",
              "\n",
              "      <script>\n",
              "        const buttonEl =\n",
              "          document.querySelector('#df-0bd0536b-095a-4956-b272-65e46b0c67f3 button.colab-df-convert');\n",
              "        buttonEl.style.display =\n",
              "          google.colab.kernel.accessAllowed ? 'block' : 'none';\n",
              "\n",
              "        async function convertToInteractive(key) {\n",
              "          const element = document.querySelector('#df-0bd0536b-095a-4956-b272-65e46b0c67f3');\n",
              "          const dataTable =\n",
              "            await google.colab.kernel.invokeFunction('convertToInteractive',\n",
              "                                                     [key], {});\n",
              "          if (!dataTable) return;\n",
              "\n",
              "          const docLinkHtml = 'Like what you see? Visit the ' +\n",
              "            '<a target=\"_blank\" href=https://colab.research.google.com/notebooks/data_table.ipynb>data table notebook</a>'\n",
              "            + ' to learn more about interactive tables.';\n",
              "          element.innerHTML = '';\n",
              "          dataTable['output_type'] = 'display_data';\n",
              "          await google.colab.output.renderOutput(dataTable, element);\n",
              "          const docLink = document.createElement('div');\n",
              "          docLink.innerHTML = docLinkHtml;\n",
              "          element.appendChild(docLink);\n",
              "        }\n",
              "      </script>\n",
              "    </div>\n",
              "  </div>\n",
              "  "
            ]
          },
          "metadata": {},
          "execution_count": 3
        }
      ],
      "source": [
        "# menampilkan sample dataset\n",
        "df"
      ]
    },
    {
      "cell_type": "code",
      "execution_count": 4,
      "metadata": {
        "colab": {
          "base_uri": "https://localhost:8080/"
        },
        "id": "WJfK-P_liTvc",
        "outputId": "ea04abf2-7b21-418a-c1e1-ccc405328896"
      },
      "outputs": [
        {
          "output_type": "stream",
          "name": "stdout",
          "text": [
            "<class 'pandas.core.frame.DataFrame'>\n",
            "RangeIndex: 3214 entries, 0 to 3213\n",
            "Data columns (total 5 columns):\n",
            " #   Column    Non-Null Count  Dtype  \n",
            "---  ------    --------------  -----  \n",
            " 0   calls     3214 non-null   float64\n",
            " 1   minutes   3214 non-null   float64\n",
            " 2   messages  3214 non-null   float64\n",
            " 3   mb_used   3214 non-null   float64\n",
            " 4   is_ultra  3214 non-null   int64  \n",
            "dtypes: float64(4), int64(1)\n",
            "memory usage: 125.7 KB\n"
          ]
        }
      ],
      "source": [
        "# menampilkan informasi dataset\n",
        "df.info()"
      ]
    },
    {
      "cell_type": "markdown",
      "metadata": {
        "id": "oI_fs4cXiTvd"
      },
      "source": [
        "Dataset kita terdiri dari **4** kolom dan **3214** baris, ada 4 kolom dideskripsikan sebagai **float** yaitu kolom `calls`, `minutes`, `messages`, dan `mb_used`. Kolom `minutes` dan `mb_used` seharusnya sudah memiliki type data yang sesuai karena memuat jumlah menit panggilan dan penggunaan data dalam *megabytes*, sedangkan kolom `calls` dan `messages` seharusnya memiliki type data **int** karena memuat jumlah panggilan dan jumlah pesan teks. Kolom `is_ultra` sudah memiliki type data yang sesuai."
      ]
    },
    {
      "cell_type": "markdown",
      "metadata": {
        "id": "298uMRwWiTve"
      },
      "source": [
        "### 2.2. Memperbaiki kualitas data"
      ]
    },
    {
      "cell_type": "code",
      "execution_count": 5,
      "metadata": {
        "colab": {
          "base_uri": "https://localhost:8080/"
        },
        "id": "usXgJL5-iTvf",
        "outputId": "ab25addd-0b52-41f2-fa58-6c84889e8417"
      },
      "outputs": [
        {
          "output_type": "stream",
          "name": "stdout",
          "text": [
            "<class 'pandas.core.frame.DataFrame'>\n",
            "RangeIndex: 3214 entries, 0 to 3213\n",
            "Data columns (total 5 columns):\n",
            " #   Column    Non-Null Count  Dtype  \n",
            "---  ------    --------------  -----  \n",
            " 0   calls     3214 non-null   int64  \n",
            " 1   minutes   3214 non-null   float64\n",
            " 2   messages  3214 non-null   int64  \n",
            " 3   mb_used   3214 non-null   float64\n",
            " 4   is_ultra  3214 non-null   int64  \n",
            "dtypes: float64(2), int64(3)\n",
            "memory usage: 125.7 KB\n"
          ]
        }
      ],
      "source": [
        "# memperbaiki type data\n",
        "for col in ['calls', 'messages']:\n",
        "    df[col] = df[col].apply(np.int64)\n",
        "    \n",
        "df.info()"
      ]
    },
    {
      "cell_type": "markdown",
      "metadata": {
        "id": "QkfuZ4pPiTvg"
      },
      "source": [
        "Kita telah memperbaiki type data kolom."
      ]
    },
    {
      "cell_type": "code",
      "execution_count": 6,
      "metadata": {
        "colab": {
          "base_uri": "https://localhost:8080/",
          "height": 300
        },
        "id": "wPVSLwpKiTvh",
        "outputId": "528d3d42-76af-474d-ecc5-acabc7b0cc4b"
      },
      "outputs": [
        {
          "output_type": "execute_result",
          "data": {
            "text/plain": [
              "             calls      minutes     messages       mb_used     is_ultra\n",
              "count  3214.000000  3214.000000  3214.000000   3214.000000  3214.000000\n",
              "mean     63.038892   438.208787    38.281269  17207.673836     0.306472\n",
              "std      33.236368   234.569872    36.148326   7570.968246     0.461100\n",
              "min       0.000000     0.000000     0.000000      0.000000     0.000000\n",
              "25%      40.000000   274.575000     9.000000  12491.902500     0.000000\n",
              "50%      62.000000   430.600000    30.000000  16943.235000     0.000000\n",
              "75%      82.000000   571.927500    57.000000  21424.700000     1.000000\n",
              "max     244.000000  1632.060000   224.000000  49745.730000     1.000000"
            ],
            "text/html": [
              "\n",
              "  <div id=\"df-4f3c8735-27a1-4891-b668-ba695995bd5e\">\n",
              "    <div class=\"colab-df-container\">\n",
              "      <div>\n",
              "<style scoped>\n",
              "    .dataframe tbody tr th:only-of-type {\n",
              "        vertical-align: middle;\n",
              "    }\n",
              "\n",
              "    .dataframe tbody tr th {\n",
              "        vertical-align: top;\n",
              "    }\n",
              "\n",
              "    .dataframe thead th {\n",
              "        text-align: right;\n",
              "    }\n",
              "</style>\n",
              "<table border=\"1\" class=\"dataframe\">\n",
              "  <thead>\n",
              "    <tr style=\"text-align: right;\">\n",
              "      <th></th>\n",
              "      <th>calls</th>\n",
              "      <th>minutes</th>\n",
              "      <th>messages</th>\n",
              "      <th>mb_used</th>\n",
              "      <th>is_ultra</th>\n",
              "    </tr>\n",
              "  </thead>\n",
              "  <tbody>\n",
              "    <tr>\n",
              "      <th>count</th>\n",
              "      <td>3214.000000</td>\n",
              "      <td>3214.000000</td>\n",
              "      <td>3214.000000</td>\n",
              "      <td>3214.000000</td>\n",
              "      <td>3214.000000</td>\n",
              "    </tr>\n",
              "    <tr>\n",
              "      <th>mean</th>\n",
              "      <td>63.038892</td>\n",
              "      <td>438.208787</td>\n",
              "      <td>38.281269</td>\n",
              "      <td>17207.673836</td>\n",
              "      <td>0.306472</td>\n",
              "    </tr>\n",
              "    <tr>\n",
              "      <th>std</th>\n",
              "      <td>33.236368</td>\n",
              "      <td>234.569872</td>\n",
              "      <td>36.148326</td>\n",
              "      <td>7570.968246</td>\n",
              "      <td>0.461100</td>\n",
              "    </tr>\n",
              "    <tr>\n",
              "      <th>min</th>\n",
              "      <td>0.000000</td>\n",
              "      <td>0.000000</td>\n",
              "      <td>0.000000</td>\n",
              "      <td>0.000000</td>\n",
              "      <td>0.000000</td>\n",
              "    </tr>\n",
              "    <tr>\n",
              "      <th>25%</th>\n",
              "      <td>40.000000</td>\n",
              "      <td>274.575000</td>\n",
              "      <td>9.000000</td>\n",
              "      <td>12491.902500</td>\n",
              "      <td>0.000000</td>\n",
              "    </tr>\n",
              "    <tr>\n",
              "      <th>50%</th>\n",
              "      <td>62.000000</td>\n",
              "      <td>430.600000</td>\n",
              "      <td>30.000000</td>\n",
              "      <td>16943.235000</td>\n",
              "      <td>0.000000</td>\n",
              "    </tr>\n",
              "    <tr>\n",
              "      <th>75%</th>\n",
              "      <td>82.000000</td>\n",
              "      <td>571.927500</td>\n",
              "      <td>57.000000</td>\n",
              "      <td>21424.700000</td>\n",
              "      <td>1.000000</td>\n",
              "    </tr>\n",
              "    <tr>\n",
              "      <th>max</th>\n",
              "      <td>244.000000</td>\n",
              "      <td>1632.060000</td>\n",
              "      <td>224.000000</td>\n",
              "      <td>49745.730000</td>\n",
              "      <td>1.000000</td>\n",
              "    </tr>\n",
              "  </tbody>\n",
              "</table>\n",
              "</div>\n",
              "      <button class=\"colab-df-convert\" onclick=\"convertToInteractive('df-4f3c8735-27a1-4891-b668-ba695995bd5e')\"\n",
              "              title=\"Convert this dataframe to an interactive table.\"\n",
              "              style=\"display:none;\">\n",
              "        \n",
              "  <svg xmlns=\"http://www.w3.org/2000/svg\" height=\"24px\"viewBox=\"0 0 24 24\"\n",
              "       width=\"24px\">\n",
              "    <path d=\"M0 0h24v24H0V0z\" fill=\"none\"/>\n",
              "    <path d=\"M18.56 5.44l.94 2.06.94-2.06 2.06-.94-2.06-.94-.94-2.06-.94 2.06-2.06.94zm-11 1L8.5 8.5l.94-2.06 2.06-.94-2.06-.94L8.5 2.5l-.94 2.06-2.06.94zm10 10l.94 2.06.94-2.06 2.06-.94-2.06-.94-.94-2.06-.94 2.06-2.06.94z\"/><path d=\"M17.41 7.96l-1.37-1.37c-.4-.4-.92-.59-1.43-.59-.52 0-1.04.2-1.43.59L10.3 9.45l-7.72 7.72c-.78.78-.78 2.05 0 2.83L4 21.41c.39.39.9.59 1.41.59.51 0 1.02-.2 1.41-.59l7.78-7.78 2.81-2.81c.8-.78.8-2.07 0-2.86zM5.41 20L4 18.59l7.72-7.72 1.47 1.35L5.41 20z\"/>\n",
              "  </svg>\n",
              "      </button>\n",
              "      \n",
              "  <style>\n",
              "    .colab-df-container {\n",
              "      display:flex;\n",
              "      flex-wrap:wrap;\n",
              "      gap: 12px;\n",
              "    }\n",
              "\n",
              "    .colab-df-convert {\n",
              "      background-color: #E8F0FE;\n",
              "      border: none;\n",
              "      border-radius: 50%;\n",
              "      cursor: pointer;\n",
              "      display: none;\n",
              "      fill: #1967D2;\n",
              "      height: 32px;\n",
              "      padding: 0 0 0 0;\n",
              "      width: 32px;\n",
              "    }\n",
              "\n",
              "    .colab-df-convert:hover {\n",
              "      background-color: #E2EBFA;\n",
              "      box-shadow: 0px 1px 2px rgba(60, 64, 67, 0.3), 0px 1px 3px 1px rgba(60, 64, 67, 0.15);\n",
              "      fill: #174EA6;\n",
              "    }\n",
              "\n",
              "    [theme=dark] .colab-df-convert {\n",
              "      background-color: #3B4455;\n",
              "      fill: #D2E3FC;\n",
              "    }\n",
              "\n",
              "    [theme=dark] .colab-df-convert:hover {\n",
              "      background-color: #434B5C;\n",
              "      box-shadow: 0px 1px 3px 1px rgba(0, 0, 0, 0.15);\n",
              "      filter: drop-shadow(0px 1px 2px rgba(0, 0, 0, 0.3));\n",
              "      fill: #FFFFFF;\n",
              "    }\n",
              "  </style>\n",
              "\n",
              "      <script>\n",
              "        const buttonEl =\n",
              "          document.querySelector('#df-4f3c8735-27a1-4891-b668-ba695995bd5e button.colab-df-convert');\n",
              "        buttonEl.style.display =\n",
              "          google.colab.kernel.accessAllowed ? 'block' : 'none';\n",
              "\n",
              "        async function convertToInteractive(key) {\n",
              "          const element = document.querySelector('#df-4f3c8735-27a1-4891-b668-ba695995bd5e');\n",
              "          const dataTable =\n",
              "            await google.colab.kernel.invokeFunction('convertToInteractive',\n",
              "                                                     [key], {});\n",
              "          if (!dataTable) return;\n",
              "\n",
              "          const docLinkHtml = 'Like what you see? Visit the ' +\n",
              "            '<a target=\"_blank\" href=https://colab.research.google.com/notebooks/data_table.ipynb>data table notebook</a>'\n",
              "            + ' to learn more about interactive tables.';\n",
              "          element.innerHTML = '';\n",
              "          dataTable['output_type'] = 'display_data';\n",
              "          await google.colab.output.renderOutput(dataTable, element);\n",
              "          const docLink = document.createElement('div');\n",
              "          docLink.innerHTML = docLinkHtml;\n",
              "          element.appendChild(docLink);\n",
              "        }\n",
              "      </script>\n",
              "    </div>\n",
              "  </div>\n",
              "  "
            ]
          },
          "metadata": {},
          "execution_count": 6
        }
      ],
      "source": [
        "# menampilkan statistik deskriptif dari dataset\n",
        "df.describe()"
      ]
    },
    {
      "cell_type": "markdown",
      "metadata": {
        "id": "XjarxKMLiTvi"
      },
      "source": [
        "Dari tabel diatas kita mengetahui rata-rata pelanggan menghabiskan **63** jumlah panggilan, **438** menit waktu bicara, **38** pesan teks, dan **17** gb data dalam periode tersebut. Sementara untuk jumlah minimun pemakaian oleh pelanngan adalah tidak menggunakan semua kuota yang terjadi pada setiap layanan yang kita sediakan. Pemakaian tertinggi yaitu sebanyak **244** panggilan, **1632** menit, **244** teks, dan **49** gb data dalam periode tersebut."
      ]
    },
    {
      "cell_type": "code",
      "execution_count": 7,
      "metadata": {
        "colab": {
          "base_uri": "https://localhost:8080/"
        },
        "id": "ZqFW_OVZiTvi",
        "outputId": "36f88d69-2a5a-40d8-bf5f-def1b0bd9f3e"
      },
      "outputs": [
        {
          "output_type": "execute_result",
          "data": {
            "text/plain": [
              "calls       0\n",
              "minutes     0\n",
              "messages    0\n",
              "mb_used     0\n",
              "is_ultra    0\n",
              "dtype: int64"
            ]
          },
          "metadata": {},
          "execution_count": 7
        }
      ],
      "source": [
        "# memeriksa missing value\n",
        "df.isna().sum()"
      ]
    },
    {
      "cell_type": "markdown",
      "metadata": {
        "id": "51FsXzMviTvj"
      },
      "source": [
        "Tidak ada *missing value* ditemukan."
      ]
    },
    {
      "cell_type": "markdown",
      "metadata": {
        "id": "wmzRRWxPiTvj"
      },
      "source": [
        "## 3. EDA and Data Visualization"
      ]
    },
    {
      "cell_type": "code",
      "execution_count": 8,
      "metadata": {
        "scrolled": false,
        "colab": {
          "base_uri": "https://localhost:8080/",
          "height": 1000
        },
        "id": "GpXH0oCdiTvk",
        "outputId": "b365f4b3-5493-4a73-c916-1427784c235b"
      },
      "outputs": [
        {
          "output_type": "display_data",
          "data": {
            "text/plain": [
              "<Figure size 648x396 with 1 Axes>"
            ],
            "image/png": "[encoded data removed]"
          },
          "metadata": {}
        },
        {
          "output_type": "display_data",
          "data": {
            "text/plain": [
              "<Figure size 648x396 with 1 Axes>"
            ],
            "image/png": "[encoded data removed]"
          },
          "metadata": {}
        },
        {
          "output_type": "display_data",
          "data": {
            "text/plain": [
              "<Figure size 648x396 with 1 Axes>"
            ],
            "image/png": "[encoded data removed]"
          },
          "metadata": {}
        },
        {
          "output_type": "display_data",
          "data": {
            "text/plain": [
              "<Figure size 648x396 with 1 Axes>"
            ],
            "image/png": "[encoded data removed]"
          },
          "metadata": {}
        }
      ],
      "source": [
        "# Menampilkan visualisasi data\n",
        "sns.set()\n",
        "\n",
        "for label in df.columns[:-1]:\n",
        "    plt.figure(figsize=(9, 5.5))\n",
        "    plt.hist(df[df['is_ultra']==1][label], color='blue', label='Ultimate', alpha=0.7, density=True)\n",
        "    plt.hist(df[df['is_ultra']==0][label], color='red', label='Surf', alpha=0.7, density=True)\n",
        "    plt.title(label)\n",
        "    plt.ylabel('Amount')\n",
        "    plt.xlabel(label)\n",
        "    plt.legend()\n",
        "    plt.show()"
      ]
    },
    {
      "cell_type": "markdown",
      "metadata": {
        "id": "c0pVB6HtiTvm"
      },
      "source": [
        "**Temuan :**\n",
        "- Dari grafik banyaknya jumlah panggilan yang dilakukan, rata-rata pengguna melakukan panggilan sebanyak **30-80** dalam satu bulan.\n",
        "- Rata-rata pengguna menghabiskan **250-500** menit panggilan dalam satu bulan.\n",
        "- Para pengguna dari kedua paket rata-rata tidak menggunakan kuota pesan teks sama sekali, hal ini mungkin terjadi karena mereka sudah beralih pada aplikasi pesan *instant* atau *chatting* menggunakan data internet.\n",
        "- Data yang digunakan oleh pengguna dalam kedua paket berada di sekitar angka **10.000-20.000 mb** dalam satu bulan."
      ]
    },
    {
      "cell_type": "markdown",
      "metadata": {
        "id": "OARiaTeWiTvo"
      },
      "source": [
        "## 4. Split the Data"
      ]
    },
    {
      "cell_type": "code",
      "execution_count": 9,
      "metadata": {
        "colab": {
          "base_uri": "https://localhost:8080/",
          "height": 112
        },
        "id": "f2bhxdOwiTvp",
        "outputId": "ca353234-2c01-4b5c-8bf2-fb97bb130974"
      },
      "outputs": [
        {
          "output_type": "execute_result",
          "data": {
            "text/plain": [
              "   is_ultra  count\n",
              "0         0   2229\n",
              "1         1    985"
            ],
            "text/html": [
              "\n",
              "  <div id=\"df-aa365539-f398-4663-8d47-e7920d8a271b\">\n",
              "    <div class=\"colab-df-container\">\n",
              "      <div>\n",
              "<style scoped>\n",
              "    .dataframe tbody tr th:only-of-type {\n",
              "        vertical-align: middle;\n",
              "    }\n",
              "\n",
              "    .dataframe tbody tr th {\n",
              "        vertical-align: top;\n",
              "    }\n",
              "\n",
              "    .dataframe thead th {\n",
              "        text-align: right;\n",
              "    }\n",
              "</style>\n",
              "<table border=\"1\" class=\"dataframe\">\n",
              "  <thead>\n",
              "    <tr style=\"text-align: right;\">\n",
              "      <th></th>\n",
              "      <th>is_ultra</th>\n",
              "      <th>count</th>\n",
              "    </tr>\n",
              "  </thead>\n",
              "  <tbody>\n",
              "    <tr>\n",
              "      <th>0</th>\n",
              "      <td>0</td>\n",
              "      <td>2229</td>\n",
              "    </tr>\n",
              "    <tr>\n",
              "      <th>1</th>\n",
              "      <td>1</td>\n",
              "      <td>985</td>\n",
              "    </tr>\n",
              "  </tbody>\n",
              "</table>\n",
              "</div>\n",
              "      <button class=\"colab-df-convert\" onclick=\"convertToInteractive('df-aa365539-f398-4663-8d47-e7920d8a271b')\"\n",
              "              title=\"Convert this dataframe to an interactive table.\"\n",
              "              style=\"display:none;\">\n",
              "        \n",
              "  <svg xmlns=\"http://www.w3.org/2000/svg\" height=\"24px\"viewBox=\"0 0 24 24\"\n",
              "       width=\"24px\">\n",
              "    <path d=\"M0 0h24v24H0V0z\" fill=\"none\"/>\n",
              "    <path d=\"M18.56 5.44l.94 2.06.94-2.06 2.06-.94-2.06-.94-.94-2.06-.94 2.06-2.06.94zm-11 1L8.5 8.5l.94-2.06 2.06-.94-2.06-.94L8.5 2.5l-.94 2.06-2.06.94zm10 10l.94 2.06.94-2.06 2.06-.94-2.06-.94-.94-2.06-.94 2.06-2.06.94z\"/><path d=\"M17.41 7.96l-1.37-1.37c-.4-.4-.92-.59-1.43-.59-.52 0-1.04.2-1.43.59L10.3 9.45l-7.72 7.72c-.78.78-.78 2.05 0 2.83L4 21.41c.39.39.9.59 1.41.59.51 0 1.02-.2 1.41-.59l7.78-7.78 2.81-2.81c.8-.78.8-2.07 0-2.86zM5.41 20L4 18.59l7.72-7.72 1.47 1.35L5.41 20z\"/>\n",
              "  </svg>\n",
              "      </button>\n",
              "      \n",
              "  <style>\n",
              "    .colab-df-container {\n",
              "      display:flex;\n",
              "      flex-wrap:wrap;\n",
              "      gap: 12px;\n",
              "    }\n",
              "\n",
              "    .colab-df-convert {\n",
              "      background-color: #E8F0FE;\n",
              "      border: none;\n",
              "      border-radius: 50%;\n",
              "      cursor: pointer;\n",
              "      display: none;\n",
              "      fill: #1967D2;\n",
              "      height: 32px;\n",
              "      padding: 0 0 0 0;\n",
              "      width: 32px;\n",
              "    }\n",
              "\n",
              "    .colab-df-convert:hover {\n",
              "      background-color: #E2EBFA;\n",
              "      box-shadow: 0px 1px 2px rgba(60, 64, 67, 0.3), 0px 1px 3px 1px rgba(60, 64, 67, 0.15);\n",
              "      fill: #174EA6;\n",
              "    }\n",
              "\n",
              "    [theme=dark] .colab-df-convert {\n",
              "      background-color: #3B4455;\n",
              "      fill: #D2E3FC;\n",
              "    }\n",
              "\n",
              "    [theme=dark] .colab-df-convert:hover {\n",
              "      background-color: #434B5C;\n",
              "      box-shadow: 0px 1px 3px 1px rgba(0, 0, 0, 0.15);\n",
              "      filter: drop-shadow(0px 1px 2px rgba(0, 0, 0, 0.3));\n",
              "      fill: #FFFFFF;\n",
              "    }\n",
              "  </style>\n",
              "\n",
              "      <script>\n",
              "        const buttonEl =\n",
              "          document.querySelector('#df-aa365539-f398-4663-8d47-e7920d8a271b button.colab-df-convert');\n",
              "        buttonEl.style.display =\n",
              "          google.colab.kernel.accessAllowed ? 'block' : 'none';\n",
              "\n",
              "        async function convertToInteractive(key) {\n",
              "          const element = document.querySelector('#df-aa365539-f398-4663-8d47-e7920d8a271b');\n",
              "          const dataTable =\n",
              "            await google.colab.kernel.invokeFunction('convertToInteractive',\n",
              "                                                     [key], {});\n",
              "          if (!dataTable) return;\n",
              "\n",
              "          const docLinkHtml = 'Like what you see? Visit the ' +\n",
              "            '<a target=\"_blank\" href=https://colab.research.google.com/notebooks/data_table.ipynb>data table notebook</a>'\n",
              "            + ' to learn more about interactive tables.';\n",
              "          element.innerHTML = '';\n",
              "          dataTable['output_type'] = 'display_data';\n",
              "          await google.colab.output.renderOutput(dataTable, element);\n",
              "          const docLink = document.createElement('div');\n",
              "          docLink.innerHTML = docLinkHtml;\n",
              "          element.appendChild(docLink);\n",
              "        }\n",
              "      </script>\n",
              "    </div>\n",
              "  </div>\n",
              "  "
            ]
          },
          "metadata": {},
          "execution_count": 9
        }
      ],
      "source": [
        "# Menampilkan jumlah kolom is_ultra\n",
        "df.groupby('is_ultra').agg(count=('calls', 'count')).reset_index()"
      ]
    },
    {
      "cell_type": "code",
      "execution_count": 10,
      "metadata": {
        "colab": {
          "base_uri": "https://localhost:8080/"
        },
        "id": "tdM-9BWBiTvr",
        "outputId": "a72a39a1-a5f7-43ba-f6ce-383672fd5d70"
      },
      "outputs": [
        {
          "output_type": "execute_result",
          "data": {
            "text/plain": [
              "0    0.693528\n",
              "1    0.306472\n",
              "Name: is_ultra, dtype: float64"
            ]
          },
          "metadata": {},
          "execution_count": 10
        }
      ],
      "source": [
        "# menghitung rasio\n",
        "df['is_ultra'].value_counts() / df.shape[0]"
      ]
    },
    {
      "cell_type": "code",
      "execution_count": 11,
      "metadata": {
        "colab": {
          "base_uri": "https://localhost:8080/",
          "height": 301
        },
        "id": "s4XBqxxdiTvs",
        "outputId": "831683f9-b4ec-47c1-e09f-58ca5a0b02ff"
      },
      "outputs": [
        {
          "output_type": "display_data",
          "data": {
            "text/plain": [
              "<Figure size 288x288 with 1 Axes>"
            ],
            "image/png": "[encoded data removed]"
          },
          "metadata": {}
        }
      ],
      "source": [
        "# Membuat diagram\n",
        "plt.figure(figsize=(4,4))\n",
        "sns.countplot(x='is_ultra', data=df, order=df['is_ultra'].value_counts().index)\n",
        "plt.xlabel('Service')\n",
        "plt.ylabel('Amount')\n",
        "plt.title('Count of Package')\n",
        "plt.show()"
      ]
    },
    {
      "cell_type": "markdown",
      "metadata": {
        "id": "PepbkGB1iTvt"
      },
      "source": [
        "- Kita melihat jumlah yang tidak seimbang antara jumlah pengguna paket pada dataset, hal ini tentu akan berdampak pada model yang akan kita buat. \n",
        "\n",
        "- Rasio kolom `is_ultra` memiliki perbandingan **70:30 %**, hal ini dapat mengakibatkan model tidak dapat mempelajari data dengan baik."
      ]
    },
    {
      "cell_type": "code",
      "execution_count": 12,
      "metadata": {
        "id": "cLddhAEuiTvt"
      },
      "outputs": [],
      "source": [
        "# split the data in to training, validation, and test\n",
        "X_train, y_train, X_valid, y_valid, X_test, y_test = train_valid_test_split(df, target = 'is_ultra', train_size=0.70,\n",
        "                                                                            valid_size=0.15, test_size=0.15, random_state=12)"
      ]
    },
    {
      "cell_type": "markdown",
      "metadata": {
        "id": "yUxUr4JniTvu"
      },
      "source": [
        "Kita akan menggunakan proporsi data sebanyak **70%** untuk *data training*, **15%** untuk *data validation*, dan **15%** untuk *data test*, kita menetapkan nilai `random_state` untuk menghindari perbedaan hasil jika kita menjalankan ulang kode pada *notebook*."
      ]
    },
    {
      "cell_type": "code",
      "execution_count": 13,
      "metadata": {
        "scrolled": true,
        "colab": {
          "base_uri": "https://localhost:8080/"
        },
        "id": "EzMDqBn7iTvu",
        "outputId": "c3511c07-f8ef-468e-8fa2-1cb54c6e2667"
      },
      "outputs": [
        {
          "output_type": "execute_result",
          "data": {
            "text/plain": [
              "(2249, 4)"
            ]
          },
          "metadata": {},
          "execution_count": 13
        }
      ],
      "source": [
        "# memeriksa dimensi data X_train\n",
        "X_train.shape"
      ]
    },
    {
      "cell_type": "code",
      "execution_count": 14,
      "metadata": {
        "colab": {
          "base_uri": "https://localhost:8080/"
        },
        "id": "k10juzIYiTvv",
        "outputId": "0b9280a3-2b2a-4ecd-8011-b7762bbecaef"
      },
      "outputs": [
        {
          "output_type": "execute_result",
          "data": {
            "text/plain": [
              "(482, 4)"
            ]
          },
          "metadata": {},
          "execution_count": 14
        }
      ],
      "source": [
        "# memeriksa dimensi data X_valid\n",
        "X_valid.shape"
      ]
    },
    {
      "cell_type": "code",
      "execution_count": 15,
      "metadata": {
        "colab": {
          "base_uri": "https://localhost:8080/"
        },
        "id": "swok4NR7iTvw",
        "outputId": "bf803f52-037f-465c-86f0-72fa1ff59584"
      },
      "outputs": [
        {
          "output_type": "execute_result",
          "data": {
            "text/plain": [
              "(483, 4)"
            ]
          },
          "metadata": {},
          "execution_count": 15
        }
      ],
      "source": [
        "# memeriksa dimensi data X_test\n",
        "X_test.shape"
      ]
    },
    {
      "cell_type": "code",
      "execution_count": 16,
      "metadata": {
        "colab": {
          "base_uri": "https://localhost:8080/",
          "height": 206
        },
        "id": "68_XoR8CiTvw",
        "outputId": "ba608bc8-0065-47c3-875c-adda58248f3e"
      },
      "outputs": [
        {
          "output_type": "execute_result",
          "data": {
            "text/plain": [
              "      calls  minutes  messages   mb_used\n",
              "643     136   965.78         0  31992.10\n",
              "404      30   169.02        13  16626.53\n",
              "1637     50   282.87        53  13260.03\n",
              "551       0     0.00        24  18701.54\n",
              "3177    114   731.76        10  25311.22"
            ],
            "text/html": [
              "\n",
              "  <div id=\"df-f09e4903-ba5c-4230-bb06-6594a0a1299d\">\n",
              "    <div class=\"colab-df-container\">\n",
              "      <div>\n",
              "<style scoped>\n",
              "    .dataframe tbody tr th:only-of-type {\n",
              "        vertical-align: middle;\n",
              "    }\n",
              "\n",
              "    .dataframe tbody tr th {\n",
              "        vertical-align: top;\n",
              "    }\n",
              "\n",
              "    .dataframe thead th {\n",
              "        text-align: right;\n",
              "    }\n",
              "</style>\n",
              "<table border=\"1\" class=\"dataframe\">\n",
              "  <thead>\n",
              "    <tr style=\"text-align: right;\">\n",
              "      <th></th>\n",
              "      <th>calls</th>\n",
              "      <th>minutes</th>\n",
              "      <th>messages</th>\n",
              "      <th>mb_used</th>\n",
              "    </tr>\n",
              "  </thead>\n",
              "  <tbody>\n",
              "    <tr>\n",
              "      <th>643</th>\n",
              "      <td>136</td>\n",
              "      <td>965.78</td>\n",
              "      <td>0</td>\n",
              "      <td>31992.10</td>\n",
              "    </tr>\n",
              "    <tr>\n",
              "      <th>404</th>\n",
              "      <td>30</td>\n",
              "      <td>169.02</td>\n",
              "      <td>13</td>\n",
              "      <td>16626.53</td>\n",
              "    </tr>\n",
              "    <tr>\n",
              "      <th>1637</th>\n",
              "      <td>50</td>\n",
              "      <td>282.87</td>\n",
              "      <td>53</td>\n",
              "      <td>13260.03</td>\n",
              "    </tr>\n",
              "    <tr>\n",
              "      <th>551</th>\n",
              "      <td>0</td>\n",
              "      <td>0.00</td>\n",
              "      <td>24</td>\n",
              "      <td>18701.54</td>\n",
              "    </tr>\n",
              "    <tr>\n",
              "      <th>3177</th>\n",
              "      <td>114</td>\n",
              "      <td>731.76</td>\n",
              "      <td>10</td>\n",
              "      <td>25311.22</td>\n",
              "    </tr>\n",
              "  </tbody>\n",
              "</table>\n",
              "</div>\n",
              "      <button class=\"colab-df-convert\" onclick=\"convertToInteractive('df-f09e4903-ba5c-4230-bb06-6594a0a1299d')\"\n",
              "              title=\"Convert this dataframe to an interactive table.\"\n",
              "              style=\"display:none;\">\n",
              "        \n",
              "  <svg xmlns=\"http://www.w3.org/2000/svg\" height=\"24px\"viewBox=\"0 0 24 24\"\n",
              "       width=\"24px\">\n",
              "    <path d=\"M0 0h24v24H0V0z\" fill=\"none\"/>\n",
              "    <path d=\"M18.56 5.44l.94 2.06.94-2.06 2.06-.94-2.06-.94-.94-2.06-.94 2.06-2.06.94zm-11 1L8.5 8.5l.94-2.06 2.06-.94-2.06-.94L8.5 2.5l-.94 2.06-2.06.94zm10 10l.94 2.06.94-2.06 2.06-.94-2.06-.94-.94-2.06-.94 2.06-2.06.94z\"/><path d=\"M17.41 7.96l-1.37-1.37c-.4-.4-.92-.59-1.43-.59-.52 0-1.04.2-1.43.59L10.3 9.45l-7.72 7.72c-.78.78-.78 2.05 0 2.83L4 21.41c.39.39.9.59 1.41.59.51 0 1.02-.2 1.41-.59l7.78-7.78 2.81-2.81c.8-.78.8-2.07 0-2.86zM5.41 20L4 18.59l7.72-7.72 1.47 1.35L5.41 20z\"/>\n",
              "  </svg>\n",
              "      </button>\n",
              "      \n",
              "  <style>\n",
              "    .colab-df-container {\n",
              "      display:flex;\n",
              "      flex-wrap:wrap;\n",
              "      gap: 12px;\n",
              "    }\n",
              "\n",
              "    .colab-df-convert {\n",
              "      background-color: #E8F0FE;\n",
              "      border: none;\n",
              "      border-radius: 50%;\n",
              "      cursor: pointer;\n",
              "      display: none;\n",
              "      fill: #1967D2;\n",
              "      height: 32px;\n",
              "      padding: 0 0 0 0;\n",
              "      width: 32px;\n",
              "    }\n",
              "\n",
              "    .colab-df-convert:hover {\n",
              "      background-color: #E2EBFA;\n",
              "      box-shadow: 0px 1px 2px rgba(60, 64, 67, 0.3), 0px 1px 3px 1px rgba(60, 64, 67, 0.15);\n",
              "      fill: #174EA6;\n",
              "    }\n",
              "\n",
              "    [theme=dark] .colab-df-convert {\n",
              "      background-color: #3B4455;\n",
              "      fill: #D2E3FC;\n",
              "    }\n",
              "\n",
              "    [theme=dark] .colab-df-convert:hover {\n",
              "      background-color: #434B5C;\n",
              "      box-shadow: 0px 1px 3px 1px rgba(0, 0, 0, 0.15);\n",
              "      filter: drop-shadow(0px 1px 2px rgba(0, 0, 0, 0.3));\n",
              "      fill: #FFFFFF;\n",
              "    }\n",
              "  </style>\n",
              "\n",
              "      <script>\n",
              "        const buttonEl =\n",
              "          document.querySelector('#df-f09e4903-ba5c-4230-bb06-6594a0a1299d button.colab-df-convert');\n",
              "        buttonEl.style.display =\n",
              "          google.colab.kernel.accessAllowed ? 'block' : 'none';\n",
              "\n",
              "        async function convertToInteractive(key) {\n",
              "          const element = document.querySelector('#df-f09e4903-ba5c-4230-bb06-6594a0a1299d');\n",
              "          const dataTable =\n",
              "            await google.colab.kernel.invokeFunction('convertToInteractive',\n",
              "                                                     [key], {});\n",
              "          if (!dataTable) return;\n",
              "\n",
              "          const docLinkHtml = 'Like what you see? Visit the ' +\n",
              "            '<a target=\"_blank\" href=https://colab.research.google.com/notebooks/data_table.ipynb>data table notebook</a>'\n",
              "            + ' to learn more about interactive tables.';\n",
              "          element.innerHTML = '';\n",
              "          dataTable['output_type'] = 'display_data';\n",
              "          await google.colab.output.renderOutput(dataTable, element);\n",
              "          const docLink = document.createElement('div');\n",
              "          docLink.innerHTML = docLinkHtml;\n",
              "          element.appendChild(docLink);\n",
              "        }\n",
              "      </script>\n",
              "    </div>\n",
              "  </div>\n",
              "  "
            ]
          },
          "metadata": {},
          "execution_count": 16
        }
      ],
      "source": [
        "# menampilkan sample data training\n",
        "X_train.head()"
      ]
    },
    {
      "cell_type": "markdown",
      "metadata": {
        "id": "wk0E7kcxiTvx"
      },
      "source": [
        "## 5. Models"
      ]
    },
    {
      "cell_type": "markdown",
      "metadata": {
        "id": "kcyF3SDriTvy"
      },
      "source": [
        "### 5.1. Logistic Regression"
      ]
    },
    {
      "cell_type": "code",
      "execution_count": 17,
      "metadata": {
        "colab": {
          "base_uri": "https://localhost:8080/",
          "height": 224
        },
        "id": "rB10nYbsiTvz",
        "outputId": "b8ede61f-6c75-44cd-e981-13db3e016c9b"
      },
      "outputs": [
        {
          "output_type": "stream",
          "name": "stdout",
          "text": [
            "Logistic Regression Model\n"
          ]
        },
        {
          "output_type": "display_data",
          "data": {
            "text/plain": [
              "      solver  train_accuracy  valid_accuracy\n",
              "0  newton-cg        0.755002        0.742739\n",
              "1      lbfgs        0.738550        0.728216\n",
              "2  liblinear        0.745665        0.724066\n",
              "3        sag        0.703868        0.682573\n",
              "4       saga        0.703868        0.682573"
            ],
            "text/html": [
              "\n",
              "  <div id=\"df-91983d0b-2b87-4803-ab38-623629f24096\">\n",
              "    <div class=\"colab-df-container\">\n",
              "      <div>\n",
              "<style scoped>\n",
              "    .dataframe tbody tr th:only-of-type {\n",
              "        vertical-align: middle;\n",
              "    }\n",
              "\n",
              "    .dataframe tbody tr th {\n",
              "        vertical-align: top;\n",
              "    }\n",
              "\n",
              "    .dataframe thead th {\n",
              "        text-align: right;\n",
              "    }\n",
              "</style>\n",
              "<table border=\"1\" class=\"dataframe\">\n",
              "  <thead>\n",
              "    <tr style=\"text-align: right;\">\n",
              "      <th></th>\n",
              "      <th>solver</th>\n",
              "      <th>train_accuracy</th>\n",
              "      <th>valid_accuracy</th>\n",
              "    </tr>\n",
              "  </thead>\n",
              "  <tbody>\n",
              "    <tr>\n",
              "      <th>0</th>\n",
              "      <td>newton-cg</td>\n",
              "      <td>0.755002</td>\n",
              "      <td>0.742739</td>\n",
              "    </tr>\n",
              "    <tr>\n",
              "      <th>1</th>\n",
              "      <td>lbfgs</td>\n",
              "      <td>0.738550</td>\n",
              "      <td>0.728216</td>\n",
              "    </tr>\n",
              "    <tr>\n",
              "      <th>2</th>\n",
              "      <td>liblinear</td>\n",
              "      <td>0.745665</td>\n",
              "      <td>0.724066</td>\n",
              "    </tr>\n",
              "    <tr>\n",
              "      <th>3</th>\n",
              "      <td>sag</td>\n",
              "      <td>0.703868</td>\n",
              "      <td>0.682573</td>\n",
              "    </tr>\n",
              "    <tr>\n",
              "      <th>4</th>\n",
              "      <td>saga</td>\n",
              "      <td>0.703868</td>\n",
              "      <td>0.682573</td>\n",
              "    </tr>\n",
              "  </tbody>\n",
              "</table>\n",
              "</div>\n",
              "      <button class=\"colab-df-convert\" onclick=\"convertToInteractive('df-91983d0b-2b87-4803-ab38-623629f24096')\"\n",
              "              title=\"Convert this dataframe to an interactive table.\"\n",
              "              style=\"display:none;\">\n",
              "        \n",
              "  <svg xmlns=\"http://www.w3.org/2000/svg\" height=\"24px\"viewBox=\"0 0 24 24\"\n",
              "       width=\"24px\">\n",
              "    <path d=\"M0 0h24v24H0V0z\" fill=\"none\"/>\n",
              "    <path d=\"M18.56 5.44l.94 2.06.94-2.06 2.06-.94-2.06-.94-.94-2.06-.94 2.06-2.06.94zm-11 1L8.5 8.5l.94-2.06 2.06-.94-2.06-.94L8.5 2.5l-.94 2.06-2.06.94zm10 10l.94 2.06.94-2.06 2.06-.94-2.06-.94-.94-2.06-.94 2.06-2.06.94z\"/><path d=\"M17.41 7.96l-1.37-1.37c-.4-.4-.92-.59-1.43-.59-.52 0-1.04.2-1.43.59L10.3 9.45l-7.72 7.72c-.78.78-.78 2.05 0 2.83L4 21.41c.39.39.9.59 1.41.59.51 0 1.02-.2 1.41-.59l7.78-7.78 2.81-2.81c.8-.78.8-2.07 0-2.86zM5.41 20L4 18.59l7.72-7.72 1.47 1.35L5.41 20z\"/>\n",
              "  </svg>\n",
              "      </button>\n",
              "      \n",
              "  <style>\n",
              "    .colab-df-container {\n",
              "      display:flex;\n",
              "      flex-wrap:wrap;\n",
              "      gap: 12px;\n",
              "    }\n",
              "\n",
              "    .colab-df-convert {\n",
              "      background-color: #E8F0FE;\n",
              "      border: none;\n",
              "      border-radius: 50%;\n",
              "      cursor: pointer;\n",
              "      display: none;\n",
              "      fill: #1967D2;\n",
              "      height: 32px;\n",
              "      padding: 0 0 0 0;\n",
              "      width: 32px;\n",
              "    }\n",
              "\n",
              "    .colab-df-convert:hover {\n",
              "      background-color: #E2EBFA;\n",
              "      box-shadow: 0px 1px 2px rgba(60, 64, 67, 0.3), 0px 1px 3px 1px rgba(60, 64, 67, 0.15);\n",
              "      fill: #174EA6;\n",
              "    }\n",
              "\n",
              "    [theme=dark] .colab-df-convert {\n",
              "      background-color: #3B4455;\n",
              "      fill: #D2E3FC;\n",
              "    }\n",
              "\n",
              "    [theme=dark] .colab-df-convert:hover {\n",
              "      background-color: #434B5C;\n",
              "      box-shadow: 0px 1px 3px 1px rgba(0, 0, 0, 0.15);\n",
              "      filter: drop-shadow(0px 1px 2px rgba(0, 0, 0, 0.3));\n",
              "      fill: #FFFFFF;\n",
              "    }\n",
              "  </style>\n",
              "\n",
              "      <script>\n",
              "        const buttonEl =\n",
              "          document.querySelector('#df-91983d0b-2b87-4803-ab38-623629f24096 button.colab-df-convert');\n",
              "        buttonEl.style.display =\n",
              "          google.colab.kernel.accessAllowed ? 'block' : 'none';\n",
              "\n",
              "        async function convertToInteractive(key) {\n",
              "          const element = document.querySelector('#df-91983d0b-2b87-4803-ab38-623629f24096');\n",
              "          const dataTable =\n",
              "            await google.colab.kernel.invokeFunction('convertToInteractive',\n",
              "                                                     [key], {});\n",
              "          if (!dataTable) return;\n",
              "\n",
              "          const docLinkHtml = 'Like what you see? Visit the ' +\n",
              "            '<a target=\"_blank\" href=https://colab.research.google.com/notebooks/data_table.ipynb>data table notebook</a>'\n",
              "            + ' to learn more about interactive tables.';\n",
              "          element.innerHTML = '';\n",
              "          dataTable['output_type'] = 'display_data';\n",
              "          await google.colab.output.renderOutput(dataTable, element);\n",
              "          const docLink = document.createElement('div');\n",
              "          docLink.innerHTML = docLinkHtml;\n",
              "          element.appendChild(docLink);\n",
              "        }\n",
              "      </script>\n",
              "    </div>\n",
              "  </div>\n",
              "  "
            ]
          },
          "metadata": {}
        }
      ],
      "source": [
        "# accuracy score lr model training set and validation set\n",
        "print('Logistic Regression Model')\n",
        "lr_result = defaultdict(list)\n",
        "\n",
        "for solv in ['newton-cg', 'lbfgs', 'liblinear', 'sag', 'saga']:    \n",
        "    lr_model = LogisticRegression(solver=solv)\n",
        "    lr_model.fit(X_train, y_train)\n",
        "    lr_model_train_pred = lr_model.predict(X_train)\n",
        "    lr_model_valid_pred = lr_model.predict(X_valid)\n",
        "    lr_result['solver'].append(solv)\n",
        "    lr_result['train_accuracy'].append(accuracy_score(y_train, lr_model_train_pred))\n",
        "    lr_result['valid_accuracy'].append(accuracy_score(y_valid, lr_model_valid_pred))\n",
        "    \n",
        "display(pd.DataFrame(lr_result))"
      ]
    },
    {
      "cell_type": "markdown",
      "metadata": {
        "id": "koAPeF8wiTv1"
      },
      "source": [
        "Hasil dari **Logistic Regression Model** menghasilkan tingkat *accuracy* sebesar **75%** untuk *training test* dan **74%** pada *validation test* dengan menetapkan **newton-cg** pada parameter `solver`, artinya *validation set* tidak mampu mencapai batas ketentuan tingkat *accuracy* sebesar 75%. Selanjutnya kita akan mencoba menerapkan model ini pada *test set*."
      ]
    },
    {
      "cell_type": "code",
      "execution_count": 18,
      "metadata": {
        "colab": {
          "base_uri": "https://localhost:8080/"
        },
        "id": "6hoMI68wiTv2",
        "outputId": "40705a7a-6d52-41e0-e196-952f5472aae7"
      },
      "outputs": [
        {
          "output_type": "execute_result",
          "data": {
            "text/plain": [
              "LogisticRegression(solver='newton-cg')"
            ]
          },
          "metadata": {},
          "execution_count": 18
        }
      ],
      "source": [
        "# create the best logisticregression model\n",
        "lr_model = LogisticRegression(solver='newton-cg')\n",
        "lr_model.fit(X_train, y_train)"
      ]
    },
    {
      "cell_type": "code",
      "execution_count": 19,
      "metadata": {
        "colab": {
          "base_uri": "https://localhost:8080/"
        },
        "id": "gxzZqYkPiTv7",
        "outputId": "5733b5be-cdb2-455f-a8b0-e208b6cbe09b"
      },
      "outputs": [
        {
          "output_type": "stream",
          "name": "stdout",
          "text": [
            "Logistic Regression Model\n",
            "-------------------------\n",
            "Training set accuracy = 0.7550022232103157\n",
            "Validation set accuracy = 0.7427385892116183\n",
            "Test set accuracy 0.7080745341614907\n"
          ]
        }
      ],
      "source": [
        "# accuracy score lg model compare\n",
        "print('Logistic Regression Model')\n",
        "print('-------------------------')\n",
        "y_train_lr_pred = lr_model.predict(X_train)\n",
        "print('Training set accuracy =', accuracy_score(y_train, y_train_lr_pred))\n",
        "y_valid_lr_pred = lr_model.predict(X_valid)\n",
        "print('Validation set accuracy =', accuracy_score(y_valid, y_valid_lr_pred))\n",
        "y_test_lr_pred = lr_model.predict(X_test)\n",
        "print('Test set accuracy',  accuracy_score(y_test, y_test_lr_pred))"
      ]
    },
    {
      "cell_type": "markdown",
      "metadata": {
        "id": "mZdm-iY4iTv9"
      },
      "source": [
        "Hasil penerapan model pada data *test set* tidak mampu menaikkkan tingkat *accuracy* dan semakin terjadi penurunan pada *accuracy* menjadi **70.8%** yang menjadikan model ini tidak memenuh syarat untuk dijadikan sebagai model *machine learning*."
      ]
    },
    {
      "cell_type": "code",
      "execution_count": 20,
      "metadata": {
        "scrolled": false,
        "colab": {
          "base_uri": "https://localhost:8080/",
          "height": 459
        },
        "id": "6qUBAGVciTv9",
        "outputId": "b73e8fbb-a4b7-42cb-8631-3d1a3262e955"
      },
      "outputs": [
        {
          "output_type": "stream",
          "name": "stdout",
          "text": [
            "              precision    recall  f1-score   support\n",
            "\n",
            "        Surf       0.70      0.99      0.82       317\n",
            "    Ultimate       0.88      0.17      0.29       166\n",
            "\n",
            "    accuracy                           0.71       483\n",
            "   macro avg       0.79      0.58      0.55       483\n",
            "weighted avg       0.76      0.71      0.64       483\n",
            "\n",
            "\n"
          ]
        },
        {
          "output_type": "display_data",
          "data": {
            "text/plain": [
              "<Figure size 432x288 with 2 Axes>"
            ],
            "image/png": "[encoded data removed]"
          },
          "metadata": {}
        }
      ],
      "source": [
        "# classification report the lr model of data test\n",
        "print(classification_report(y_test, y_test_lr_pred, target_names=['Surf', 'Ultimate']))\n",
        "print()\n",
        "# menampilkan confusion matrix data test\n",
        "cm = confusion_matrix(y_test, y_test_lr_pred)\n",
        "disp = ConfusionMatrixDisplay(confusion_matrix = cm, display_labels = ['Surf', 'Ultimate'])\n",
        "disp.plot()\n",
        "plt.show() "
      ]
    },
    {
      "cell_type": "markdown",
      "metadata": {
        "id": "ASfqx5C1iTv-"
      },
      "source": [
        "- **Precision** pada paket ultimate lebih tinggi daripada paket surf, artinya prediksi pada paket ultimate lebih banyak yang benar daripada paket surf.\n",
        "\n",
        "- Nilai **recall** pada paket ultimate sangat rendah yang artinya dari semua data yang benar-benar ultimate hanya sedikit yang terprediksi dengan benar.\n",
        "\n",
        "Model ini tidak mampu memprediksi paket ultimate dengan baik, mungkin karena data yang kita punya tidak seimbang."
      ]
    },
    {
      "cell_type": "markdown",
      "metadata": {
        "id": "ozwoXLqviTv-"
      },
      "source": [
        "### 5.2. Decision Tree "
      ]
    },
    {
      "cell_type": "code",
      "execution_count": 21,
      "metadata": {
        "colab": {
          "base_uri": "https://localhost:8080/",
          "height": 380
        },
        "id": "BOaS_inJiTv_",
        "outputId": "eccba856-a324-4f01-deb0-acef45a347b5"
      },
      "outputs": [
        {
          "output_type": "stream",
          "name": "stdout",
          "text": [
            "Decision Tree Model\n"
          ]
        },
        {
          "output_type": "display_data",
          "data": {
            "text/plain": [
              "   max_depth  train_accuracy  valid_accuracy\n",
              "0          1        0.759893        0.744813\n",
              "1          2        0.790574        0.780083\n",
              "2          3        0.805247        0.792531\n",
              "3          4        0.813695        0.792531\n",
              "4          5        0.825700        0.773859\n",
              "5          6        0.837261        0.780083\n",
              "6          7        0.850156        0.769710\n",
              "7          8        0.861272        0.786307\n",
              "8          9        0.873277        0.767635\n",
              "9         10        0.887950        0.778008"
            ],
            "text/html": [
              "\n",
              "  <div id=\"df-7a137c0e-847c-4be5-9308-06450e56da7c\">\n",
              "    <div class=\"colab-df-container\">\n",
              "      <div>\n",
              "<style scoped>\n",
              "    .dataframe tbody tr th:only-of-type {\n",
              "        vertical-align: middle;\n",
              "    }\n",
              "\n",
              "    .dataframe tbody tr th {\n",
              "        vertical-align: top;\n",
              "    }\n",
              "\n",
              "    .dataframe thead th {\n",
              "        text-align: right;\n",
              "    }\n",
              "</style>\n",
              "<table border=\"1\" class=\"dataframe\">\n",
              "  <thead>\n",
              "    <tr style=\"text-align: right;\">\n",
              "      <th></th>\n",
              "      <th>max_depth</th>\n",
              "      <th>train_accuracy</th>\n",
              "      <th>valid_accuracy</th>\n",
              "    </tr>\n",
              "  </thead>\n",
              "  <tbody>\n",
              "    <tr>\n",
              "      <th>0</th>\n",
              "      <td>1</td>\n",
              "      <td>0.759893</td>\n",
              "      <td>0.744813</td>\n",
              "    </tr>\n",
              "    <tr>\n",
              "      <th>1</th>\n",
              "      <td>2</td>\n",
              "      <td>0.790574</td>\n",
              "      <td>0.780083</td>\n",
              "    </tr>\n",
              "    <tr>\n",
              "      <th>2</th>\n",
              "      <td>3</td>\n",
              "      <td>0.805247</td>\n",
              "      <td>0.792531</td>\n",
              "    </tr>\n",
              "    <tr>\n",
              "      <th>3</th>\n",
              "      <td>4</td>\n",
              "      <td>0.813695</td>\n",
              "      <td>0.792531</td>\n",
              "    </tr>\n",
              "    <tr>\n",
              "      <th>4</th>\n",
              "      <td>5</td>\n",
              "      <td>0.825700</td>\n",
              "      <td>0.773859</td>\n",
              "    </tr>\n",
              "    <tr>\n",
              "      <th>5</th>\n",
              "      <td>6</td>\n",
              "      <td>0.837261</td>\n",
              "      <td>0.780083</td>\n",
              "    </tr>\n",
              "    <tr>\n",
              "      <th>6</th>\n",
              "      <td>7</td>\n",
              "      <td>0.850156</td>\n",
              "      <td>0.769710</td>\n",
              "    </tr>\n",
              "    <tr>\n",
              "      <th>7</th>\n",
              "      <td>8</td>\n",
              "      <td>0.861272</td>\n",
              "      <td>0.786307</td>\n",
              "    </tr>\n",
              "    <tr>\n",
              "      <th>8</th>\n",
              "      <td>9</td>\n",
              "      <td>0.873277</td>\n",
              "      <td>0.767635</td>\n",
              "    </tr>\n",
              "    <tr>\n",
              "      <th>9</th>\n",
              "      <td>10</td>\n",
              "      <td>0.887950</td>\n",
              "      <td>0.778008</td>\n",
              "    </tr>\n",
              "  </tbody>\n",
              "</table>\n",
              "</div>\n",
              "      <button class=\"colab-df-convert\" onclick=\"convertToInteractive('df-7a137c0e-847c-4be5-9308-06450e56da7c')\"\n",
              "              title=\"Convert this dataframe to an interactive table.\"\n",
              "              style=\"display:none;\">\n",
              "        \n",
              "  <svg xmlns=\"http://www.w3.org/2000/svg\" height=\"24px\"viewBox=\"0 0 24 24\"\n",
              "       width=\"24px\">\n",
              "    <path d=\"M0 0h24v24H0V0z\" fill=\"none\"/>\n",
              "    <path d=\"M18.56 5.44l.94 2.06.94-2.06 2.06-.94-2.06-.94-.94-2.06-.94 2.06-2.06.94zm-11 1L8.5 8.5l.94-2.06 2.06-.94-2.06-.94L8.5 2.5l-.94 2.06-2.06.94zm10 10l.94 2.06.94-2.06 2.06-.94-2.06-.94-.94-2.06-.94 2.06-2.06.94z\"/><path d=\"M17.41 7.96l-1.37-1.37c-.4-.4-.92-.59-1.43-.59-.52 0-1.04.2-1.43.59L10.3 9.45l-7.72 7.72c-.78.78-.78 2.05 0 2.83L4 21.41c.39.39.9.59 1.41.59.51 0 1.02-.2 1.41-.59l7.78-7.78 2.81-2.81c.8-.78.8-2.07 0-2.86zM5.41 20L4 18.59l7.72-7.72 1.47 1.35L5.41 20z\"/>\n",
              "  </svg>\n",
              "      </button>\n",
              "      \n",
              "  <style>\n",
              "    .colab-df-container {\n",
              "      display:flex;\n",
              "      flex-wrap:wrap;\n",
              "      gap: 12px;\n",
              "    }\n",
              "\n",
              "    .colab-df-convert {\n",
              "      background-color: #E8F0FE;\n",
              "      border: none;\n",
              "      border-radius: 50%;\n",
              "      cursor: pointer;\n",
              "      display: none;\n",
              "      fill: #1967D2;\n",
              "      height: 32px;\n",
              "      padding: 0 0 0 0;\n",
              "      width: 32px;\n",
              "    }\n",
              "\n",
              "    .colab-df-convert:hover {\n",
              "      background-color: #E2EBFA;\n",
              "      box-shadow: 0px 1px 2px rgba(60, 64, 67, 0.3), 0px 1px 3px 1px rgba(60, 64, 67, 0.15);\n",
              "      fill: #174EA6;\n",
              "    }\n",
              "\n",
              "    [theme=dark] .colab-df-convert {\n",
              "      background-color: #3B4455;\n",
              "      fill: #D2E3FC;\n",
              "    }\n",
              "\n",
              "    [theme=dark] .colab-df-convert:hover {\n",
              "      background-color: #434B5C;\n",
              "      box-shadow: 0px 1px 3px 1px rgba(0, 0, 0, 0.15);\n",
              "      filter: drop-shadow(0px 1px 2px rgba(0, 0, 0, 0.3));\n",
              "      fill: #FFFFFF;\n",
              "    }\n",
              "  </style>\n",
              "\n",
              "      <script>\n",
              "        const buttonEl =\n",
              "          document.querySelector('#df-7a137c0e-847c-4be5-9308-06450e56da7c button.colab-df-convert');\n",
              "        buttonEl.style.display =\n",
              "          google.colab.kernel.accessAllowed ? 'block' : 'none';\n",
              "\n",
              "        async function convertToInteractive(key) {\n",
              "          const element = document.querySelector('#df-7a137c0e-847c-4be5-9308-06450e56da7c');\n",
              "          const dataTable =\n",
              "            await google.colab.kernel.invokeFunction('convertToInteractive',\n",
              "                                                     [key], {});\n",
              "          if (!dataTable) return;\n",
              "\n",
              "          const docLinkHtml = 'Like what you see? Visit the ' +\n",
              "            '<a target=\"_blank\" href=https://colab.research.google.com/notebooks/data_table.ipynb>data table notebook</a>'\n",
              "            + ' to learn more about interactive tables.';\n",
              "          element.innerHTML = '';\n",
              "          dataTable['output_type'] = 'display_data';\n",
              "          await google.colab.output.renderOutput(dataTable, element);\n",
              "          const docLink = document.createElement('div');\n",
              "          docLink.innerHTML = docLinkHtml;\n",
              "          element.appendChild(docLink);\n",
              "        }\n",
              "      </script>\n",
              "    </div>\n",
              "  </div>\n",
              "  "
            ]
          },
          "metadata": {}
        }
      ],
      "source": [
        "# Data train and validation set test\n",
        "print('Decision Tree Model')\n",
        "dt_result = defaultdict(list)\n",
        "\n",
        "for depth in range(1, 11):\n",
        "    dt_model = DecisionTreeClassifier(max_depth=depth)\n",
        "    dt_model.fit(X_train, y_train)\n",
        "    dt_model_train_pred = dt_model.predict(X_train)\n",
        "    dt_model_valid_pred = dt_model.predict(X_valid)\n",
        "    dt_result['max_depth'].append(depth)\n",
        "    dt_result['train_accuracy'].append(accuracy_score(y_train, dt_model_train_pred))\n",
        "    dt_result['valid_accuracy'].append(accuracy_score(y_valid, dt_model_valid_pred))\n",
        "    \n",
        "display(pd.DataFrame(dt_result))"
      ]
    },
    {
      "cell_type": "markdown",
      "metadata": {
        "id": "1G4kMaJpiTwA"
      },
      "source": [
        "Dari beberapa proses *looping* yang kita gunakan dalam **Decision Tree Model** kita menetapkan parameter **max_dept** dengan *range* **1-11** dan mendapatkan beberapa hasil tingkat *accuracy* maka kita menetapkan menggunakan nilai **max_depth = 3** karena nilai tersebut telah melewati nilai ambang batas yang ditentukan dan tingkat *accuracy* antara *data train testing*, *data validation testing*, dan *data test testing* menghasilkan tingkat *accuracy* yang paling konsisten atau tidak tejadi *overfitting*."
      ]
    },
    {
      "cell_type": "code",
      "execution_count": 22,
      "metadata": {
        "colab": {
          "base_uri": "https://localhost:8080/"
        },
        "id": "m4tqTaImiTwA",
        "outputId": "3e07ad64-bc22-46e2-f258-3979862d2a7b"
      },
      "outputs": [
        {
          "output_type": "execute_result",
          "data": {
            "text/plain": [
              "DecisionTreeClassifier(max_depth=3)"
            ]
          },
          "metadata": {},
          "execution_count": 22
        }
      ],
      "source": [
        "# create decision tree model\n",
        "dt_model = DecisionTreeClassifier(max_depth=3)\n",
        "dt_model.fit(X_train, y_train)"
      ]
    },
    {
      "cell_type": "code",
      "execution_count": 23,
      "metadata": {
        "colab": {
          "base_uri": "https://localhost:8080/"
        },
        "id": "ir_Vtv66iTwB",
        "outputId": "bc9df978-bb25-46f0-ed64-8701d0f31ab8"
      },
      "outputs": [
        {
          "output_type": "stream",
          "name": "stdout",
          "text": [
            "Decision Tree Model\n",
            "-------------------------\n",
            "Training set accuracy = 0.8052467763450423\n",
            "Validation set accuracy = 0.7925311203319502\n",
            "Test set accuracy 0.7660455486542443\n"
          ]
        }
      ],
      "source": [
        "# accuracy score dt model compare\n",
        "print('Decision Tree Model')\n",
        "print('-------------------------')\n",
        "y_train_dt_pred = dt_model.predict(X_train)\n",
        "print('Training set accuracy =', accuracy_score(y_train, y_train_dt_pred))\n",
        "y_valid_dt_pred = dt_model.predict(X_valid)\n",
        "print('Validation set accuracy =', accuracy_score(y_valid, y_valid_dt_pred))\n",
        "y_test_dt_pred = dt_model.predict(X_test)\n",
        "print('Test set accuracy',  accuracy_score(y_test, y_test_dt_pred))"
      ]
    },
    {
      "cell_type": "markdown",
      "metadata": {
        "id": "4pq1iCEdiTwD"
      },
      "source": [
        "Pada model ini tingkat *accuracy* pada *training set* menghasilkan angka **80%**, pada *validation set* menghasilkan angka **79.2%**, dan **76.6%** pada *test set* yang menjadikan model ini telah melewati *threshold* tingkat *accuracy* yang ditentukan."
      ]
    },
    {
      "cell_type": "code",
      "execution_count": 24,
      "metadata": {
        "scrolled": false,
        "colab": {
          "base_uri": "https://localhost:8080/",
          "height": 459
        },
        "id": "2C9VWINdiTwE",
        "outputId": "831b72cd-e058-432b-be14-20fa14a3d66e"
      },
      "outputs": [
        {
          "output_type": "stream",
          "name": "stdout",
          "text": [
            "              precision    recall  f1-score   support\n",
            "\n",
            "        Surf       0.76      0.93      0.84       317\n",
            "    Ultimate       0.78      0.45      0.57       166\n",
            "\n",
            "    accuracy                           0.77       483\n",
            "   macro avg       0.77      0.69      0.70       483\n",
            "weighted avg       0.77      0.77      0.75       483\n",
            "\n",
            "\n"
          ]
        },
        {
          "output_type": "display_data",
          "data": {
            "text/plain": [
              "<Figure size 432x288 with 2 Axes>"
            ],
            "image/png": "[encoded data removed]"
          },
          "metadata": {}
        }
      ],
      "source": [
        "# classification report the dt model of data test\n",
        "print(classification_report(y_test, y_test_dt_pred, target_names=['Surf', 'Ultimate']))\n",
        "print()\n",
        "# menampilkan confusion matrix data test\n",
        "cm = confusion_matrix(y_test, y_test_dt_pred)\n",
        "disp = ConfusionMatrixDisplay(confusion_matrix = cm, display_labels = ['Surf', 'Ultimate'])\n",
        "disp.plot()\n",
        "plt.show() "
      ]
    },
    {
      "cell_type": "markdown",
      "metadata": {
        "id": "-28oE5mBiTwI"
      },
      "source": [
        "- **Precision** pada paket ultimate hampir sama daripada paket surf, artinya prediksi yang benar pada paket ultimate dan paket surf ultimate hampir setara.\n",
        "\n",
        "- Pada model ini juga nilai **recall** pada paket ultimate sangat rendah yang artinya dari semua data yang benar-benar ultimate hanya sedikit yang terprediksi dengan benar.\n",
        "\n",
        "Model ini juga tidak mampu memprediksi paket ultimate dengan baik, hal ini mungkin terjadi karena data kita punya tidak seimbang."
      ]
    },
    {
      "cell_type": "markdown",
      "metadata": {
        "id": "nCThytaviTwK"
      },
      "source": [
        "### 5.3. Random Forest"
      ]
    },
    {
      "cell_type": "code",
      "execution_count": 25,
      "metadata": {
        "colab": {
          "base_uri": "https://localhost:8080/",
          "height": 224
        },
        "id": "Ixv1sJl5iTwL",
        "outputId": "f7b431e3-21eb-4a0a-fe9d-79210f291c7d"
      },
      "outputs": [
        {
          "output_type": "stream",
          "name": "stdout",
          "text": [
            "Random Forest Model\n"
          ]
        },
        {
          "output_type": "display_data",
          "data": {
            "text/plain": [
              "   n_estimators  train_accuracy  valid_accuracy\n",
              "0             1        0.905291        0.724066\n",
              "1             2        0.916407        0.769710\n",
              "2             3        0.955091        0.778008\n",
              "3             4        0.949755        0.769710\n",
              "4             5        0.966207        0.773859"
            ],
            "text/html": [
              "\n",
              "  <div id=\"df-f09bdefd-384b-46c4-9285-d1031ea1ee39\">\n",
              "    <div class=\"colab-df-container\">\n",
              "      <div>\n",
              "<style scoped>\n",
              "    .dataframe tbody tr th:only-of-type {\n",
              "        vertical-align: middle;\n",
              "    }\n",
              "\n",
              "    .dataframe tbody tr th {\n",
              "        vertical-align: top;\n",
              "    }\n",
              "\n",
              "    .dataframe thead th {\n",
              "        text-align: right;\n",
              "    }\n",
              "</style>\n",
              "<table border=\"1\" class=\"dataframe\">\n",
              "  <thead>\n",
              "    <tr style=\"text-align: right;\">\n",
              "      <th></th>\n",
              "      <th>n_estimators</th>\n",
              "      <th>train_accuracy</th>\n",
              "      <th>valid_accuracy</th>\n",
              "    </tr>\n",
              "  </thead>\n",
              "  <tbody>\n",
              "    <tr>\n",
              "      <th>0</th>\n",
              "      <td>1</td>\n",
              "      <td>0.905291</td>\n",
              "      <td>0.724066</td>\n",
              "    </tr>\n",
              "    <tr>\n",
              "      <th>1</th>\n",
              "      <td>2</td>\n",
              "      <td>0.916407</td>\n",
              "      <td>0.769710</td>\n",
              "    </tr>\n",
              "    <tr>\n",
              "      <th>2</th>\n",
              "      <td>3</td>\n",
              "      <td>0.955091</td>\n",
              "      <td>0.778008</td>\n",
              "    </tr>\n",
              "    <tr>\n",
              "      <th>3</th>\n",
              "      <td>4</td>\n",
              "      <td>0.949755</td>\n",
              "      <td>0.769710</td>\n",
              "    </tr>\n",
              "    <tr>\n",
              "      <th>4</th>\n",
              "      <td>5</td>\n",
              "      <td>0.966207</td>\n",
              "      <td>0.773859</td>\n",
              "    </tr>\n",
              "  </tbody>\n",
              "</table>\n",
              "</div>\n",
              "      <button class=\"colab-df-convert\" onclick=\"convertToInteractive('df-f09bdefd-384b-46c4-9285-d1031ea1ee39')\"\n",
              "              title=\"Convert this dataframe to an interactive table.\"\n",
              "              style=\"display:none;\">\n",
              "        \n",
              "  <svg xmlns=\"http://www.w3.org/2000/svg\" height=\"24px\"viewBox=\"0 0 24 24\"\n",
              "       width=\"24px\">\n",
              "    <path d=\"M0 0h24v24H0V0z\" fill=\"none\"/>\n",
              "    <path d=\"M18.56 5.44l.94 2.06.94-2.06 2.06-.94-2.06-.94-.94-2.06-.94 2.06-2.06.94zm-11 1L8.5 8.5l.94-2.06 2.06-.94-2.06-.94L8.5 2.5l-.94 2.06-2.06.94zm10 10l.94 2.06.94-2.06 2.06-.94-2.06-.94-.94-2.06-.94 2.06-2.06.94z\"/><path d=\"M17.41 7.96l-1.37-1.37c-.4-.4-.92-.59-1.43-.59-.52 0-1.04.2-1.43.59L10.3 9.45l-7.72 7.72c-.78.78-.78 2.05 0 2.83L4 21.41c.39.39.9.59 1.41.59.51 0 1.02-.2 1.41-.59l7.78-7.78 2.81-2.81c.8-.78.8-2.07 0-2.86zM5.41 20L4 18.59l7.72-7.72 1.47 1.35L5.41 20z\"/>\n",
              "  </svg>\n",
              "      </button>\n",
              "      \n",
              "  <style>\n",
              "    .colab-df-container {\n",
              "      display:flex;\n",
              "      flex-wrap:wrap;\n",
              "      gap: 12px;\n",
              "    }\n",
              "\n",
              "    .colab-df-convert {\n",
              "      background-color: #E8F0FE;\n",
              "      border: none;\n",
              "      border-radius: 50%;\n",
              "      cursor: pointer;\n",
              "      display: none;\n",
              "      fill: #1967D2;\n",
              "      height: 32px;\n",
              "      padding: 0 0 0 0;\n",
              "      width: 32px;\n",
              "    }\n",
              "\n",
              "    .colab-df-convert:hover {\n",
              "      background-color: #E2EBFA;\n",
              "      box-shadow: 0px 1px 2px rgba(60, 64, 67, 0.3), 0px 1px 3px 1px rgba(60, 64, 67, 0.15);\n",
              "      fill: #174EA6;\n",
              "    }\n",
              "\n",
              "    [theme=dark] .colab-df-convert {\n",
              "      background-color: #3B4455;\n",
              "      fill: #D2E3FC;\n",
              "    }\n",
              "\n",
              "    [theme=dark] .colab-df-convert:hover {\n",
              "      background-color: #434B5C;\n",
              "      box-shadow: 0px 1px 3px 1px rgba(0, 0, 0, 0.15);\n",
              "      filter: drop-shadow(0px 1px 2px rgba(0, 0, 0, 0.3));\n",
              "      fill: #FFFFFF;\n",
              "    }\n",
              "  </style>\n",
              "\n",
              "      <script>\n",
              "        const buttonEl =\n",
              "          document.querySelector('#df-f09bdefd-384b-46c4-9285-d1031ea1ee39 button.colab-df-convert');\n",
              "        buttonEl.style.display =\n",
              "          google.colab.kernel.accessAllowed ? 'block' : 'none';\n",
              "\n",
              "        async function convertToInteractive(key) {\n",
              "          const element = document.querySelector('#df-f09bdefd-384b-46c4-9285-d1031ea1ee39');\n",
              "          const dataTable =\n",
              "            await google.colab.kernel.invokeFunction('convertToInteractive',\n",
              "                                                     [key], {});\n",
              "          if (!dataTable) return;\n",
              "\n",
              "          const docLinkHtml = 'Like what you see? Visit the ' +\n",
              "            '<a target=\"_blank\" href=https://colab.research.google.com/notebooks/data_table.ipynb>data table notebook</a>'\n",
              "            + ' to learn more about interactive tables.';\n",
              "          element.innerHTML = '';\n",
              "          dataTable['output_type'] = 'display_data';\n",
              "          await google.colab.output.renderOutput(dataTable, element);\n",
              "          const docLink = document.createElement('div');\n",
              "          docLink.innerHTML = docLinkHtml;\n",
              "          element.appendChild(docLink);\n",
              "        }\n",
              "      </script>\n",
              "    </div>\n",
              "  </div>\n",
              "  "
            ]
          },
          "metadata": {}
        }
      ],
      "source": [
        "# accuracy score rf model training and validation set test\n",
        "print('Random Forest Model')\n",
        "rf_result = defaultdict(list)\n",
        "\n",
        "for n in range(1,6):\n",
        "    rf_model = RandomForestClassifier(random_state=42, n_estimators=n)\n",
        "    rf_model.fit(X_train, y_train) \n",
        "    rf_model_train_pred = rf_model.predict(X_train)\n",
        "    rf_model_valid_pred = rf_model.predict(X_valid)\n",
        "    rf_result['n_estimators'].append(n)\n",
        "    rf_result['train_accuracy'].append(accuracy_score(y_train, rf_model_train_pred))\n",
        "    rf_result['valid_accuracy'].append(accuracy_score(y_valid, rf_model_valid_pred))\n",
        "    \n",
        "display(pd.DataFrame(rf_result))"
      ]
    },
    {
      "cell_type": "markdown",
      "metadata": {
        "id": "oqpnVZNziTwN"
      },
      "source": [
        "Hasil dari **Random Forest Model** menunjukan terjadinya *overfitting* pada *training set* dengan angka **95%** terhadap *validation set* menghasilkan angka **77%**, dengan parameter `n-estimator` ditetapkan pada nilai **3**."
      ]
    },
    {
      "cell_type": "code",
      "execution_count": 26,
      "metadata": {
        "colab": {
          "base_uri": "https://localhost:8080/"
        },
        "id": "c8fGPxU0iTwO",
        "outputId": "0b1d7809-d1f0-44d4-e1f3-d5ae4d80a84c"
      },
      "outputs": [
        {
          "output_type": "execute_result",
          "data": {
            "text/plain": [
              "RandomForestClassifier(n_estimators=3, random_state=42)"
            ]
          },
          "metadata": {},
          "execution_count": 26
        }
      ],
      "source": [
        "# create RandomForestClassifier best model\n",
        "rf_model = RandomForestClassifier(random_state=42, n_estimators=3) \n",
        "rf_model.fit(X_train, y_train)"
      ]
    },
    {
      "cell_type": "code",
      "execution_count": 27,
      "metadata": {
        "colab": {
          "base_uri": "https://localhost:8080/"
        },
        "id": "tyNZ7IYZiTwO",
        "outputId": "614ad241-2f15-4364-dde5-4cd92db3c5be"
      },
      "outputs": [
        {
          "output_type": "stream",
          "name": "stdout",
          "text": [
            "Random Forest Model\n",
            "-------------------------\n",
            "Training set accuracy = 0.9550911516229436\n",
            "Validation set accuracy = 0.7780082987551867\n",
            "Test set accuracy 0.7536231884057971\n"
          ]
        }
      ],
      "source": [
        "# accuracy score rf model compare\n",
        "print('Random Forest Model')\n",
        "print('-------------------------')\n",
        "y_train_rf_pred = rf_model.predict(X_train)\n",
        "print('Training set accuracy =', accuracy_score(y_train, y_train_rf_pred))\n",
        "y_valid_rf_pred = rf_model.predict(X_valid)\n",
        "print('Validation set accuracy =', accuracy_score(y_valid, y_valid_rf_pred))\n",
        "y_test_rf_pred = rf_model.predict(X_test)\n",
        "print('Test set accuracy',  accuracy_score(y_test, y_test_rf_pred))"
      ]
    },
    {
      "cell_type": "markdown",
      "metadata": {
        "id": "aIiH9PUiiTwP"
      },
      "source": [
        "Pada *test set* juga tidak menghasilkan perbedaan yang signifikan dengan menghasilkan tingkat *accuracy* sebesar **75%**. Dengan demikian model ini memang melewati nilai *threshold* yang ditentukan tetapi terjadinya *overfitting* menjadikan model ini tidak bisa kita gunakan."
      ]
    },
    {
      "cell_type": "code",
      "execution_count": 28,
      "metadata": {
        "colab": {
          "base_uri": "https://localhost:8080/",
          "height": 459
        },
        "id": "sgUh82V2iTwP",
        "outputId": "962c27c3-4d19-4698-c35b-e68db1167f7b"
      },
      "outputs": [
        {
          "output_type": "stream",
          "name": "stdout",
          "text": [
            "              precision    recall  f1-score   support\n",
            "\n",
            "        Surf       0.79      0.86      0.82       317\n",
            "    Ultimate       0.67      0.55      0.61       166\n",
            "\n",
            "    accuracy                           0.75       483\n",
            "   macro avg       0.73      0.71      0.71       483\n",
            "weighted avg       0.75      0.75      0.75       483\n",
            "\n",
            "\n"
          ]
        },
        {
          "output_type": "display_data",
          "data": {
            "text/plain": [
              "<Figure size 432x288 with 2 Axes>"
            ],
            "image/png": "[encoded data removed]"
          },
          "metadata": {}
        }
      ],
      "source": [
        "# classification report the rf model of data test\n",
        "print(classification_report(y_test, y_test_rf_pred, target_names=['Surf', 'Ultimate']))\n",
        "print()\n",
        "# menampilkan confusion matrix data test\n",
        "cm = confusion_matrix(y_test, y_test_rf_pred)\n",
        "disp = ConfusionMatrixDisplay(confusion_matrix = cm, display_labels = ['Surf', 'Ultimate'])\n",
        "disp.plot()\n",
        "plt.show() "
      ]
    },
    {
      "cell_type": "markdown",
      "metadata": {
        "id": "nskgnD9qiTwQ"
      },
      "source": [
        "- **Precision** pada paket surf lebih tinggi daripada paket ultimate, artinya prediksi pada paket surf lebih banyak yang benar daripada paket ultimate, hal ini berbeda dengan dua prediksi sebelumnya.\n",
        "\n",
        "- Nilai **recall** pada paket ultimate lebih rendah dari paket surf tetapi lebih tinggi dari dua model sebelumnya yang artinya dari semua data yang benar-benar ultimate hanya sedikit yang terprediksi dengan benar.\n",
        "\n",
        "Model ini juga tidak mampu memprediksi paket ultimate dengan baik, ketindakseimbangan data mungkin berpengaruh pada hasil tersebut."
      ]
    },
    {
      "cell_type": "markdown",
      "metadata": {
        "id": "lGhO-2HSiTwR"
      },
      "source": [
        "### 5.4. KNN"
      ]
    },
    {
      "cell_type": "code",
      "execution_count": 29,
      "metadata": {
        "colab": {
          "base_uri": "https://localhost:8080/",
          "height": 443
        },
        "id": "5uP80p2CiTwR",
        "outputId": "c0567080-a033-4e8d-dd8b-46bcf30d4038"
      },
      "outputs": [
        {
          "output_type": "stream",
          "name": "stdout",
          "text": [
            "Random Forest Model\n"
          ]
        },
        {
          "output_type": "display_data",
          "data": {
            "text/plain": [
              "    n_estimators  train_accuracy  valid_accuracy\n",
              "0              1        1.000000        0.690871\n",
              "1              2        0.839484        0.744813\n",
              "2              3        0.854602        0.751037\n",
              "3              5        0.816807        0.753112\n",
              "4              7        0.807025        0.761411\n",
              "5             10        0.794131        0.761411\n",
              "6             13        0.794131        0.763485\n",
              "7             16        0.779902        0.751037\n",
              "8             21        0.779458        0.755187\n",
              "9             25        0.772788        0.755187\n",
              "10            29        0.771009        0.753112\n",
              "11            30        0.769231        0.753112"
            ],
            "text/html": [
              "\n",
              "  <div id=\"df-6649f5ed-5b26-49a0-a927-2cf0da0a7a8f\">\n",
              "    <div class=\"colab-df-container\">\n",
              "      <div>\n",
              "<style scoped>\n",
              "    .dataframe tbody tr th:only-of-type {\n",
              "        vertical-align: middle;\n",
              "    }\n",
              "\n",
              "    .dataframe tbody tr th {\n",
              "        vertical-align: top;\n",
              "    }\n",
              "\n",
              "    .dataframe thead th {\n",
              "        text-align: right;\n",
              "    }\n",
              "</style>\n",
              "<table border=\"1\" class=\"dataframe\">\n",
              "  <thead>\n",
              "    <tr style=\"text-align: right;\">\n",
              "      <th></th>\n",
              "      <th>n_estimators</th>\n",
              "      <th>train_accuracy</th>\n",
              "      <th>valid_accuracy</th>\n",
              "    </tr>\n",
              "  </thead>\n",
              "  <tbody>\n",
              "    <tr>\n",
              "      <th>0</th>\n",
              "      <td>1</td>\n",
              "      <td>1.000000</td>\n",
              "      <td>0.690871</td>\n",
              "    </tr>\n",
              "    <tr>\n",
              "      <th>1</th>\n",
              "      <td>2</td>\n",
              "      <td>0.839484</td>\n",
              "      <td>0.744813</td>\n",
              "    </tr>\n",
              "    <tr>\n",
              "      <th>2</th>\n",
              "      <td>3</td>\n",
              "      <td>0.854602</td>\n",
              "      <td>0.751037</td>\n",
              "    </tr>\n",
              "    <tr>\n",
              "      <th>3</th>\n",
              "      <td>5</td>\n",
              "      <td>0.816807</td>\n",
              "      <td>0.753112</td>\n",
              "    </tr>\n",
              "    <tr>\n",
              "      <th>4</th>\n",
              "      <td>7</td>\n",
              "      <td>0.807025</td>\n",
              "      <td>0.761411</td>\n",
              "    </tr>\n",
              "    <tr>\n",
              "      <th>5</th>\n",
              "      <td>10</td>\n",
              "      <td>0.794131</td>\n",
              "      <td>0.761411</td>\n",
              "    </tr>\n",
              "    <tr>\n",
              "      <th>6</th>\n",
              "      <td>13</td>\n",
              "      <td>0.794131</td>\n",
              "      <td>0.763485</td>\n",
              "    </tr>\n",
              "    <tr>\n",
              "      <th>7</th>\n",
              "      <td>16</td>\n",
              "      <td>0.779902</td>\n",
              "      <td>0.751037</td>\n",
              "    </tr>\n",
              "    <tr>\n",
              "      <th>8</th>\n",
              "      <td>21</td>\n",
              "      <td>0.779458</td>\n",
              "      <td>0.755187</td>\n",
              "    </tr>\n",
              "    <tr>\n",
              "      <th>9</th>\n",
              "      <td>25</td>\n",
              "      <td>0.772788</td>\n",
              "      <td>0.755187</td>\n",
              "    </tr>\n",
              "    <tr>\n",
              "      <th>10</th>\n",
              "      <td>29</td>\n",
              "      <td>0.771009</td>\n",
              "      <td>0.753112</td>\n",
              "    </tr>\n",
              "    <tr>\n",
              "      <th>11</th>\n",
              "      <td>30</td>\n",
              "      <td>0.769231</td>\n",
              "      <td>0.753112</td>\n",
              "    </tr>\n",
              "  </tbody>\n",
              "</table>\n",
              "</div>\n",
              "      <button class=\"colab-df-convert\" onclick=\"convertToInteractive('df-6649f5ed-5b26-49a0-a927-2cf0da0a7a8f')\"\n",
              "              title=\"Convert this dataframe to an interactive table.\"\n",
              "              style=\"display:none;\">\n",
              "        \n",
              "  <svg xmlns=\"http://www.w3.org/2000/svg\" height=\"24px\"viewBox=\"0 0 24 24\"\n",
              "       width=\"24px\">\n",
              "    <path d=\"M0 0h24v24H0V0z\" fill=\"none\"/>\n",
              "    <path d=\"M18.56 5.44l.94 2.06.94-2.06 2.06-.94-2.06-.94-.94-2.06-.94 2.06-2.06.94zm-11 1L8.5 8.5l.94-2.06 2.06-.94-2.06-.94L8.5 2.5l-.94 2.06-2.06.94zm10 10l.94 2.06.94-2.06 2.06-.94-2.06-.94-.94-2.06-.94 2.06-2.06.94z\"/><path d=\"M17.41 7.96l-1.37-1.37c-.4-.4-.92-.59-1.43-.59-.52 0-1.04.2-1.43.59L10.3 9.45l-7.72 7.72c-.78.78-.78 2.05 0 2.83L4 21.41c.39.39.9.59 1.41.59.51 0 1.02-.2 1.41-.59l7.78-7.78 2.81-2.81c.8-.78.8-2.07 0-2.86zM5.41 20L4 18.59l7.72-7.72 1.47 1.35L5.41 20z\"/>\n",
              "  </svg>\n",
              "      </button>\n",
              "      \n",
              "  <style>\n",
              "    .colab-df-container {\n",
              "      display:flex;\n",
              "      flex-wrap:wrap;\n",
              "      gap: 12px;\n",
              "    }\n",
              "\n",
              "    .colab-df-convert {\n",
              "      background-color: #E8F0FE;\n",
              "      border: none;\n",
              "      border-radius: 50%;\n",
              "      cursor: pointer;\n",
              "      display: none;\n",
              "      fill: #1967D2;\n",
              "      height: 32px;\n",
              "      padding: 0 0 0 0;\n",
              "      width: 32px;\n",
              "    }\n",
              "\n",
              "    .colab-df-convert:hover {\n",
              "      background-color: #E2EBFA;\n",
              "      box-shadow: 0px 1px 2px rgba(60, 64, 67, 0.3), 0px 1px 3px 1px rgba(60, 64, 67, 0.15);\n",
              "      fill: #174EA6;\n",
              "    }\n",
              "\n",
              "    [theme=dark] .colab-df-convert {\n",
              "      background-color: #3B4455;\n",
              "      fill: #D2E3FC;\n",
              "    }\n",
              "\n",
              "    [theme=dark] .colab-df-convert:hover {\n",
              "      background-color: #434B5C;\n",
              "      box-shadow: 0px 1px 3px 1px rgba(0, 0, 0, 0.15);\n",
              "      filter: drop-shadow(0px 1px 2px rgba(0, 0, 0, 0.3));\n",
              "      fill: #FFFFFF;\n",
              "    }\n",
              "  </style>\n",
              "\n",
              "      <script>\n",
              "        const buttonEl =\n",
              "          document.querySelector('#df-6649f5ed-5b26-49a0-a927-2cf0da0a7a8f button.colab-df-convert');\n",
              "        buttonEl.style.display =\n",
              "          google.colab.kernel.accessAllowed ? 'block' : 'none';\n",
              "\n",
              "        async function convertToInteractive(key) {\n",
              "          const element = document.querySelector('#df-6649f5ed-5b26-49a0-a927-2cf0da0a7a8f');\n",
              "          const dataTable =\n",
              "            await google.colab.kernel.invokeFunction('convertToInteractive',\n",
              "                                                     [key], {});\n",
              "          if (!dataTable) return;\n",
              "\n",
              "          const docLinkHtml = 'Like what you see? Visit the ' +\n",
              "            '<a target=\"_blank\" href=https://colab.research.google.com/notebooks/data_table.ipynb>data table notebook</a>'\n",
              "            + ' to learn more about interactive tables.';\n",
              "          element.innerHTML = '';\n",
              "          dataTable['output_type'] = 'display_data';\n",
              "          await google.colab.output.renderOutput(dataTable, element);\n",
              "          const docLink = document.createElement('div');\n",
              "          docLink.innerHTML = docLinkHtml;\n",
              "          element.appendChild(docLink);\n",
              "        }\n",
              "      </script>\n",
              "    </div>\n",
              "  </div>\n",
              "  "
            ]
          },
          "metadata": {}
        }
      ],
      "source": [
        "# accuracy score knn model training setand validation set test\n",
        "print('Random Forest Model')\n",
        "knn_result = defaultdict(list)\n",
        "\n",
        "for n in [1, 2, 3, 5, 7, 10, 13, 16, 21, 25, 29, 30]:\n",
        "    knn_model = KNeighborsClassifier(n_neighbors=n)\n",
        "    knn_model.fit(X_train, y_train) \n",
        "    knn_model_train_pred = knn_model.predict(X_train)\n",
        "    knn_model_valid_pred = knn_model.predict(X_valid)\n",
        "    knn_result['n_estimators'].append(n)\n",
        "    knn_result['train_accuracy'].append(accuracy_score(y_train, knn_model_train_pred))\n",
        "    knn_result['valid_accuracy'].append(accuracy_score(y_valid, knn_model_valid_pred))\n",
        "    \n",
        "display(pd.DataFrame(knn_result))"
      ]
    },
    {
      "cell_type": "code",
      "execution_count": 30,
      "metadata": {
        "colab": {
          "base_uri": "https://localhost:8080/"
        },
        "id": "gGKrvpIoiTwS",
        "outputId": "e561ad9c-df4c-40ba-95a4-d48b46451d6a"
      },
      "outputs": [
        {
          "output_type": "execute_result",
          "data": {
            "text/plain": [
              "KNeighborsClassifier(n_neighbors=30)"
            ]
          },
          "metadata": {},
          "execution_count": 30
        }
      ],
      "source": [
        "# create the best KNeighborsClassifier model\n",
        "knn_model = KNeighborsClassifier(n_neighbors=30)\n",
        "knn_model.fit(X_train, y_train)"
      ]
    },
    {
      "cell_type": "markdown",
      "metadata": {
        "id": "tqvSocRbiTwS"
      },
      "source": [
        "Hasil dari **K-Nearest Neighbors Classifier Model** menghasilkan tingkat *accuracy* pada *training test* yang cukup baik sebesar **76.9%**, pada *validation testing* menghasilkan tingkat accuracy sebesar **75%**. Angka-angka tersebut telah memenuhi kriteria ambang batas dari nilai minimal tingkat *accuracy* yang ditentukan dan tidak terjadi *overfitting*, selanjutnya kita akan menerapkannya pada *test set*."
      ]
    },
    {
      "cell_type": "code",
      "execution_count": 31,
      "metadata": {
        "colab": {
          "base_uri": "https://localhost:8080/"
        },
        "id": "94ruoSQtiTwT",
        "outputId": "e7035d63-7ebe-4858-9a60-05bb15fa2f19"
      },
      "outputs": [
        {
          "output_type": "stream",
          "name": "stdout",
          "text": [
            "K-Nearest Neighbors Model\n",
            "-------------------------\n",
            "Training set accuracy = 0.7692307692307693\n",
            "Validation set accuracy = 0.7531120331950207\n",
            "Test set accuracy 0.7184265010351967\n"
          ]
        }
      ],
      "source": [
        "# accuracy score knn model compare\n",
        "print('K-Nearest Neighbors Model')\n",
        "print('-------------------------')\n",
        "y_train_knn_pred = knn_model.predict(X_train)\n",
        "print('Training set accuracy =', accuracy_score(y_train, y_train_knn_pred))\n",
        "y_valid_knn_pred = knn_model.predict(X_valid)\n",
        "print('Validation set accuracy =', accuracy_score(y_valid, y_valid_knn_pred))\n",
        "y_test_knn_pred = knn_model.predict(X_test)\n",
        "print('Test set accuracy',  accuracy_score(y_test, y_test_knn_pred))"
      ]
    },
    {
      "cell_type": "markdown",
      "metadata": {
        "id": "mEpOXmkKiTwT"
      },
      "source": [
        "Pada *test set* menyajikan hasil yang tidak baik karena tingkat *accuracy* menurun cukup signifikan hingga berada dibawah ketentuan *threshold* dengan angka **71.8%** yang menjadikan model ini tidak bisa kita gunakan sebagai *machine learning*."
      ]
    },
    {
      "cell_type": "code",
      "execution_count": 32,
      "metadata": {
        "scrolled": false,
        "colab": {
          "base_uri": "https://localhost:8080/",
          "height": 459
        },
        "id": "aZ6-XjKtiTwU",
        "outputId": "9f494f7f-95cb-4e38-8069-8ed53679c5af"
      },
      "outputs": [
        {
          "output_type": "stream",
          "name": "stdout",
          "text": [
            "              precision    recall  f1-score   support\n",
            "\n",
            "        Surf       0.71      0.97      0.82       317\n",
            "    Ultimate       0.79      0.25      0.38       166\n",
            "\n",
            "    accuracy                           0.72       483\n",
            "   macro avg       0.75      0.61      0.60       483\n",
            "weighted avg       0.74      0.72      0.67       483\n",
            "\n",
            "\n"
          ]
        },
        {
          "output_type": "display_data",
          "data": {
            "text/plain": [
              "<Figure size 432x288 with 2 Axes>"
            ],
            "image/png": "[encoded data removed]"
          },
          "metadata": {}
        }
      ],
      "source": [
        "# classification report the knn model of data test\n",
        "print(classification_report(y_test, y_test_knn_pred, target_names=['Surf', 'Ultimate']))\n",
        "print()\n",
        "# menampilkan confusion matrix data test\n",
        "cm = confusion_matrix(y_test, y_test_knn_pred)\n",
        "disp = ConfusionMatrixDisplay(confusion_matrix = cm, display_labels = ['Surf', 'Ultimate'])\n",
        "disp.plot()\n",
        "plt.show() "
      ]
    },
    {
      "cell_type": "markdown",
      "metadata": {
        "id": "YT16oZfYiTwV"
      },
      "source": [
        "- Pada model ini hasil dari **classification report** hampir sama dengan hasil dari model **logistic regression**, **precision** pada paket ultimate lebih tinggi daripada paket surf, artinya prediksi pada paket ultimate lebih banyak yang benar daripada paket surf.\n",
        "\n",
        "- Hasil yang mirip juga didaptkan pada nilai **recall** pada paket ultimate sangat rendah yang artinya dari semua data yang benar-benar ultimate hanya sedikit yang terprediksi dengan benar.\n",
        "\n",
        "Model ini tidak mampu memprediksi paket ultimate dengan baik, data yang tidak seimbang bisa menjadi penyebab hal ini terjadi."
      ]
    },
    {
      "cell_type": "markdown",
      "metadata": {
        "id": "1Pk9EbU3iTwV"
      },
      "source": [
        "# Consclusions\n",
        "\n",
        "**1. Data Preparation**\n",
        "- Kita memulai dengan memauat dataset yang terdiri dari **4** kolom dan **3214** baris, ada 4 kolom dideskripsikan sebagai **float** yaitu kolom `calls`, `minutes`, `messages`, dan `mb_used`.\n",
        "- Kita mengubah kolom `calls` yang memuat jumlah panggilan dan `messages` yang memuat jumlah pesan terkirim menjadi **int**.\n",
        "\n",
        "**2. EDA and Data Visualization**\n",
        "- Dari grafik banyaknya jumlah panggilan yang dilakukan, rata-rata pengguna melakukan panggilan sebanyak **30-80** dalam satu bulan.\n",
        "- Rata-rata pengguna menghabiskan **250-500** menit panggilan dalam satu bulan.\n",
        "- Para pengguna dari kedua paket rata-rata tidak menggunakan kuota pesan teks sama sekali, hal ini mungkin terjadi karena mereka sudah beralih pada aplikasi pesan *instant* atau *chatting* menggunakan data internet.\n",
        "- Data yang digunakan oleh pengguna dalam kedua paket berada di sekitar angka **10.000-20.000 mb** dalam satu bulan.\n",
        "\n",
        "**3. Split the Data**\n",
        "- Kita menggunakan library `fast_ml.model_development` untuk membagi data langsung menjadi **3** jenis dengan proporsi **70%** *training set*, **15%** *validation set*, dan **15%** untuk *test set*.\n",
        "\n",
        "**4. Models**\n",
        "\n",
        "Kita menggunakan beberapa model dengan sejumlah pengaturan pada parameternya untuk mendapatkan hasil terbaik:\n",
        "1. Hasil dari **Logistic Regression Model** menghasilkan tingkat *accuracy* sebesar **75%** untuk *training test* dan **74%** pada *validation test* dengan menetapkan **newton-cg** pada parameter `solver`. Hasil penerapan model pada data *test set* tidak mampu menaikkkan tingkat *accuracy* dan semakin terjadi penurunan pada *accuracy* menjadi **70.8%** yang menjadikan model ini tidak memenuh syarat untuk dijadikan sebagai model *machine learning*.\n",
        "2. Dari beberapa proses *looping* yang kita gunakan dalam **Decision Tree Model** kita menetapkan parameter **max_dept** dengan *range* **1-11** dan mendapatkan beberapa hasil tingkat *accuracy* maka kita menetapkan menggunakan nilai **max_depth = 3**. Pada model ini tingkat *accuracy* pada *training set* menghasilkan angka **80%**, pada *validation set* menghasilkan angka **79.2%**, dan **76.6%** pada *test set* yang menjadikan model ini telah melewati *threshold* tingkat *accuracy* yang ditentukan.\n",
        "3. Hasil dari **Random Forest Model** menunjukan terjadinya *overfitting* pada *training set* dengan angka **95%** terhadap *validation set* menghasilkan angka **77%**, dengan parameter `n-estimator` ditetapkan pada nilai **3**. Pada *test set* juga tidak menghasilkan perbedaan yang signifikan dengan menghasilkan tingkat *accuracy* sebesar **75%**. Dengan demikian model ini memang melewati nilai *threshold* yang ditentukan tetapi terjadinya *overfitting* menjadikan model ini tidak bisa kita gunakan.\n",
        "4. Hasil dari **K-Nearest Neighbors Classifier Model** menghasilkan tingkat *accuracy* pada *training test* yang cukup baik sebesar **76.9%**, pada *validation testing* menghasilkan tingkat accuracy sebesar **75%**. Pada *test set* menyajikan hasil yang tidak baik karena tingkat *accuracy* menurun cukup signifikan hingga berada dibawah ketentuan *threshold* dengan angka **71.8%** yang menjadikan model ini tidak bisa kita gunakan sebagai *machine learning*.\n",
        "\n",
        "**Main Consclusion**\n",
        "\n",
        "Kita menemukan model terbaik dengan nilai *accuracy* paling tinggi dan *margin* paling rendah pada **Decision Tree Model** dengan parameter `max_dept` di-set ke angka **3**."
      ]
    }
  ],
  "metadata": {
    "kernelspec": {
      "display_name": "Python 3 (ipykernel)",
      "language": "python",
      "name": "python3"
    },
    "language_info": {
      "codemirror_mode": {
        "name": "ipython",
        "version": 3
      },
      "file_extension": ".py",
      "mimetype": "text/x-python",
      "name": "python",
      "nbconvert_exporter": "python",
      "pygments_lexer": "ipython3",
      "version": "3.10.6"
    },
    "toc": {
      "base_numbering": 1,
      "nav_menu": {},
      "number_sections": true,
      "sideBar": true,
      "skip_h1_title": true,
      "title_cell": "Table of Contents",
      "title_sidebar": "Contents",
      "toc_cell": false,
      "toc_position": {},
      "toc_section_display": true,
      "toc_window_display": false
    },
    "colab": {
      "provenance": []
    }
  },
  "nbformat": 4,
  "nbformat_minor": 0
}