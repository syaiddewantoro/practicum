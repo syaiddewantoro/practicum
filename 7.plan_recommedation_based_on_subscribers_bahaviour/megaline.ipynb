{
  "cells": [
    {
      "cell_type": "markdown",
      "metadata": {
        "id": "6ONRPXUMitCd"
      },
      "source": [
        "# Analyze Consumer Plans Behavior"
      ]
    },
    {
      "cell_type": "markdown",
      "metadata": {
        "colab_type": "toc",
        "id": "OQa37M-XiaU2"
      },
      "source": [
        "### Table of Contents\n",
        "* [Analyze Consumer Plans Behavior](#scrollTo=6ONRPXUMitCd)\n",
        "    * [Introduce to Machine Learning (Phone Plan)](#scrollTo=HFVBp3qwiTvA)\n",
        "    * [1. Initialization and Data Preparation](#scrollTo=PiDM_Gd0iTvO)\n",
        "        * [1.1. Display Sample Data and Study It](#scrollTo=4ENFHQpTiTvT)\n",
        "        * [1.2. Improve Data Quality](#scrollTo=298uMRwWiTve)\n",
        "    * [2. EDA and Data Visualization](#scrollTo=wmzRRWxPiTvj)\n",
        "    * [3. Split the Data](#scrollTo=OARiaTeWiTvo)\n",
        "    * [4. Models](#scrollTo=wk0E7kcxiTvx)\n",
        "        * [4.1. Logistic Regression](#scrollTo=kcyF3SDriTvy)\n",
        "        * [4.2. Decision Tree](#scrollTo=ozwoXLqviTv-)\n",
        "        * [4.3. Random Forest](#scrollTo=nCThytaviTwK)\n",
        "        * [4.4. KNN](#scrollTo=lGhO-2HSiTwR)\n",
        "    * [5. Perform Sanity Check](#scrollTo=s5fNseAeZeWJ)\n",
        "* [Conclusions](#scrollTo=1Pk9EbU3iTwV)\n",
        "\n"
      ]
    },
    {
      "cell_type": "markdown",
      "metadata": {
        "id": "HFVBp3qwiTvA"
      },
      "source": [
        "## Introduce to Machine Learning (Phone Plan)\n",
        "\n",
        "Mobile operator Megaline is dissatisfied because many customers still need to use old packages. The company wants to develop a model that can analyze consumer behavior and recommend one of the two new Megaline packages: Smart or Ultra.\n",
        "\n",
        "We have access to the behavioral data of customers who have switched to the latest package (from the Statistical Data Analysis course project). We must develop a model to choose the right package for this classification task. Considering that we have completed the data pre-processing step, we can go directly to the model-building stage.\n",
        "\n",
        "We will develop a model that has the highest possible accuracy. In this project, the threshold for the accuracy level is 0.75. We will examine the model accuracy metrics using a test dataset.\n",
        "\n",
        "**Goals:**\n",
        "1. Separating the source data into training, validation, and test sets.\n",
        "2. Check the quality of different models by changing their hyperparameters. Briefly explain the findings obtained from this study.\n",
        "3. Checking the quality of the model using a test set.\n",
        "4. Conduct a sanity check on the model."
      ]
    },
    {
      "cell_type": "markdown",
      "metadata": {
        "id": "PiDM_Gd0iTvO"
      },
      "source": [
        "## 1. Initialization and Data Preparation"
      ]
    },
    {
      "cell_type": "code",
      "execution_count": 1,
      "metadata": {
        "colab": {
          "base_uri": "https://localhost:8080/"
        },
        "collapsed": true,
        "id": "jm9g7AtOiTvP",
        "outputId": "e95e7e0c-6004-4536-9e34-b912c340979d"
      },
      "outputs": [
        {
          "output_type": "stream",
          "name": "stdout",
          "text": [
            "Looking in indexes: https://pypi.org/simple, https://us-python.pkg.dev/colab-wheels/public/simple/\n",
            "Requirement already satisfied: fast_ml in /usr/local/lib/python3.8/dist-packages (3.68)\n"
          ]
        }
      ],
      "source": [
        "# Load all libraries\n",
        "import pandas as pd\n",
        "import numpy as np\n",
        "import matplotlib.pyplot as plt\n",
        "import seaborn as sns\n",
        "from collections import defaultdict\n",
        "\n",
        "# ml libraries\n",
        "!pip install fast_ml\n",
        "from sklearn.model_selection import train_test_split\n",
        "from fast_ml.model_development import train_valid_test_split\n",
        "from sklearn.metrics import accuracy_score, confusion_matrix, classification_report, ConfusionMatrixDisplay\n",
        "from sklearn.tree import DecisionTreeClassifier\n",
        "from sklearn.ensemble import RandomForestClassifier\n",
        "from sklearn.linear_model import LogisticRegression\n",
        "from sklearn.naive_bayes import GaussianNB\n",
        "from sklearn.neighbors import KNeighborsClassifier\n",
        "from sklearn.dummy import DummyClassifier"
      ]
    },
    {
      "cell_type": "markdown",
      "metadata": {
        "id": "4ENFHQpTiTvT"
      },
      "source": [
        "### 1.1. Display Sample Data and Study It"
      ]
    },
    {
      "cell_type": "code",
      "execution_count": 2,
      "metadata": {
        "id": "q2i1kE0CiTvU"
      },
      "outputs": [],
      "source": [
        "# Load the data\n",
        "df = pd.read_csv('https://practicum-content.s3.us-west-1.amazonaws.com/datasets/users_behavior.csv')"
      ]
    },
    {
      "cell_type": "code",
      "execution_count": 3,
      "metadata": {
        "colab": {
          "base_uri": "https://localhost:8080/",
          "height": 424
        },
        "id": "HxX_27KXiTvX",
        "outputId": "8e531935-7a6b-4117-8932-731998a33d4c",
        "scrolled": false
      },
      "outputs": [
        {
          "output_type": "execute_result",
          "data": {
            "text/plain": [
              "      calls  minutes  messages   mb_used  is_ultra\n",
              "0      40.0   311.90      83.0  19915.42         0\n",
              "1      85.0   516.75      56.0  22696.96         0\n",
              "2      77.0   467.66      86.0  21060.45         0\n",
              "3     106.0   745.53      81.0   8437.39         1\n",
              "4      66.0   418.74       1.0  14502.75         0\n",
              "...     ...      ...       ...       ...       ...\n",
              "3209  122.0   910.98      20.0  35124.90         1\n",
              "3210   25.0   190.36       0.0   3275.61         0\n",
              "3211   97.0   634.44      70.0  13974.06         0\n",
              "3212   64.0   462.32      90.0  31239.78         0\n",
              "3213   80.0   566.09       6.0  29480.52         1\n",
              "\n",
              "[3214 rows x 5 columns]"
            ],
            "text/html": [
              "\n",
              "  <div id=\"df-03f33a07-833a-46c8-8f78-5f180cdcec20\">\n",
              "    <div class=\"colab-df-container\">\n",
              "      <div>\n",
              "<style scoped>\n",
              "    .dataframe tbody tr th:only-of-type {\n",
              "        vertical-align: middle;\n",
              "    }\n",
              "\n",
              "    .dataframe tbody tr th {\n",
              "        vertical-align: top;\n",
              "    }\n",
              "\n",
              "    .dataframe thead th {\n",
              "        text-align: right;\n",
              "    }\n",
              "</style>\n",
              "<table border=\"1\" class=\"dataframe\">\n",
              "  <thead>\n",
              "    <tr style=\"text-align: right;\">\n",
              "      <th></th>\n",
              "      <th>calls</th>\n",
              "      <th>minutes</th>\n",
              "      <th>messages</th>\n",
              "      <th>mb_used</th>\n",
              "      <th>is_ultra</th>\n",
              "    </tr>\n",
              "  </thead>\n",
              "  <tbody>\n",
              "    <tr>\n",
              "      <th>0</th>\n",
              "      <td>40.0</td>\n",
              "      <td>311.90</td>\n",
              "      <td>83.0</td>\n",
              "      <td>19915.42</td>\n",
              "      <td>0</td>\n",
              "    </tr>\n",
              "    <tr>\n",
              "      <th>1</th>\n",
              "      <td>85.0</td>\n",
              "      <td>516.75</td>\n",
              "      <td>56.0</td>\n",
              "      <td>22696.96</td>\n",
              "      <td>0</td>\n",
              "    </tr>\n",
              "    <tr>\n",
              "      <th>2</th>\n",
              "      <td>77.0</td>\n",
              "      <td>467.66</td>\n",
              "      <td>86.0</td>\n",
              "      <td>21060.45</td>\n",
              "      <td>0</td>\n",
              "    </tr>\n",
              "    <tr>\n",
              "      <th>3</th>\n",
              "      <td>106.0</td>\n",
              "      <td>745.53</td>\n",
              "      <td>81.0</td>\n",
              "      <td>8437.39</td>\n",
              "      <td>1</td>\n",
              "    </tr>\n",
              "    <tr>\n",
              "      <th>4</th>\n",
              "      <td>66.0</td>\n",
              "      <td>418.74</td>\n",
              "      <td>1.0</td>\n",
              "      <td>14502.75</td>\n",
              "      <td>0</td>\n",
              "    </tr>\n",
              "    <tr>\n",
              "      <th>...</th>\n",
              "      <td>...</td>\n",
              "      <td>...</td>\n",
              "      <td>...</td>\n",
              "      <td>...</td>\n",
              "      <td>...</td>\n",
              "    </tr>\n",
              "    <tr>\n",
              "      <th>3209</th>\n",
              "      <td>122.0</td>\n",
              "      <td>910.98</td>\n",
              "      <td>20.0</td>\n",
              "      <td>35124.90</td>\n",
              "      <td>1</td>\n",
              "    </tr>\n",
              "    <tr>\n",
              "      <th>3210</th>\n",
              "      <td>25.0</td>\n",
              "      <td>190.36</td>\n",
              "      <td>0.0</td>\n",
              "      <td>3275.61</td>\n",
              "      <td>0</td>\n",
              "    </tr>\n",
              "    <tr>\n",
              "      <th>3211</th>\n",
              "      <td>97.0</td>\n",
              "      <td>634.44</td>\n",
              "      <td>70.0</td>\n",
              "      <td>13974.06</td>\n",
              "      <td>0</td>\n",
              "    </tr>\n",
              "    <tr>\n",
              "      <th>3212</th>\n",
              "      <td>64.0</td>\n",
              "      <td>462.32</td>\n",
              "      <td>90.0</td>\n",
              "      <td>31239.78</td>\n",
              "      <td>0</td>\n",
              "    </tr>\n",
              "    <tr>\n",
              "      <th>3213</th>\n",
              "      <td>80.0</td>\n",
              "      <td>566.09</td>\n",
              "      <td>6.0</td>\n",
              "      <td>29480.52</td>\n",
              "      <td>1</td>\n",
              "    </tr>\n",
              "  </tbody>\n",
              "</table>\n",
              "<p>3214 rows × 5 columns</p>\n",
              "</div>\n",
              "      <button class=\"colab-df-convert\" onclick=\"convertToInteractive('df-03f33a07-833a-46c8-8f78-5f180cdcec20')\"\n",
              "              title=\"Convert this dataframe to an interactive table.\"\n",
              "              style=\"display:none;\">\n",
              "        \n",
              "  <svg xmlns=\"http://www.w3.org/2000/svg\" height=\"24px\"viewBox=\"0 0 24 24\"\n",
              "       width=\"24px\">\n",
              "    <path d=\"M0 0h24v24H0V0z\" fill=\"none\"/>\n",
              "    <path d=\"M18.56 5.44l.94 2.06.94-2.06 2.06-.94-2.06-.94-.94-2.06-.94 2.06-2.06.94zm-11 1L8.5 8.5l.94-2.06 2.06-.94-2.06-.94L8.5 2.5l-.94 2.06-2.06.94zm10 10l.94 2.06.94-2.06 2.06-.94-2.06-.94-.94-2.06-.94 2.06-2.06.94z\"/><path d=\"M17.41 7.96l-1.37-1.37c-.4-.4-.92-.59-1.43-.59-.52 0-1.04.2-1.43.59L10.3 9.45l-7.72 7.72c-.78.78-.78 2.05 0 2.83L4 21.41c.39.39.9.59 1.41.59.51 0 1.02-.2 1.41-.59l7.78-7.78 2.81-2.81c.8-.78.8-2.07 0-2.86zM5.41 20L4 18.59l7.72-7.72 1.47 1.35L5.41 20z\"/>\n",
              "  </svg>\n",
              "      </button>\n",
              "      \n",
              "  <style>\n",
              "    .colab-df-container {\n",
              "      display:flex;\n",
              "      flex-wrap:wrap;\n",
              "      gap: 12px;\n",
              "    }\n",
              "\n",
              "    .colab-df-convert {\n",
              "      background-color: #E8F0FE;\n",
              "      border: none;\n",
              "      border-radius: 50%;\n",
              "      cursor: pointer;\n",
              "      display: none;\n",
              "      fill: #1967D2;\n",
              "      height: 32px;\n",
              "      padding: 0 0 0 0;\n",
              "      width: 32px;\n",
              "    }\n",
              "\n",
              "    .colab-df-convert:hover {\n",
              "      background-color: #E2EBFA;\n",
              "      box-shadow: 0px 1px 2px rgba(60, 64, 67, 0.3), 0px 1px 3px 1px rgba(60, 64, 67, 0.15);\n",
              "      fill: #174EA6;\n",
              "    }\n",
              "\n",
              "    [theme=dark] .colab-df-convert {\n",
              "      background-color: #3B4455;\n",
              "      fill: #D2E3FC;\n",
              "    }\n",
              "\n",
              "    [theme=dark] .colab-df-convert:hover {\n",
              "      background-color: #434B5C;\n",
              "      box-shadow: 0px 1px 3px 1px rgba(0, 0, 0, 0.15);\n",
              "      filter: drop-shadow(0px 1px 2px rgba(0, 0, 0, 0.3));\n",
              "      fill: #FFFFFF;\n",
              "    }\n",
              "  </style>\n",
              "\n",
              "      <script>\n",
              "        const buttonEl =\n",
              "          document.querySelector('#df-03f33a07-833a-46c8-8f78-5f180cdcec20 button.colab-df-convert');\n",
              "        buttonEl.style.display =\n",
              "          google.colab.kernel.accessAllowed ? 'block' : 'none';\n",
              "\n",
              "        async function convertToInteractive(key) {\n",
              "          const element = document.querySelector('#df-03f33a07-833a-46c8-8f78-5f180cdcec20');\n",
              "          const dataTable =\n",
              "            await google.colab.kernel.invokeFunction('convertToInteractive',\n",
              "                                                     [key], {});\n",
              "          if (!dataTable) return;\n",
              "\n",
              "          const docLinkHtml = 'Like what you see? Visit the ' +\n",
              "            '<a target=\"_blank\" href=https://colab.research.google.com/notebooks/data_table.ipynb>data table notebook</a>'\n",
              "            + ' to learn more about interactive tables.';\n",
              "          element.innerHTML = '';\n",
              "          dataTable['output_type'] = 'display_data';\n",
              "          await google.colab.output.renderOutput(dataTable, element);\n",
              "          const docLink = document.createElement('div');\n",
              "          docLink.innerHTML = docLinkHtml;\n",
              "          element.appendChild(docLink);\n",
              "        }\n",
              "      </script>\n",
              "    </div>\n",
              "  </div>\n",
              "  "
            ]
          },
          "metadata": {},
          "execution_count": 3
        }
      ],
      "source": [
        "# Display the sample of dataset\n",
        "df"
      ]
    },
    {
      "cell_type": "code",
      "execution_count": 4,
      "metadata": {
        "colab": {
          "base_uri": "https://localhost:8080/"
        },
        "id": "WJfK-P_liTvc",
        "outputId": "535bb84f-97ac-4852-d9d7-5a5880989578"
      },
      "outputs": [
        {
          "output_type": "stream",
          "name": "stdout",
          "text": [
            "<class 'pandas.core.frame.DataFrame'>\n",
            "RangeIndex: 3214 entries, 0 to 3213\n",
            "Data columns (total 5 columns):\n",
            " #   Column    Non-Null Count  Dtype  \n",
            "---  ------    --------------  -----  \n",
            " 0   calls     3214 non-null   float64\n",
            " 1   minutes   3214 non-null   float64\n",
            " 2   messages  3214 non-null   float64\n",
            " 3   mb_used   3214 non-null   float64\n",
            " 4   is_ultra  3214 non-null   int64  \n",
            "dtypes: float64(4), int64(1)\n",
            "memory usage: 125.7 KB\n"
          ]
        }
      ],
      "source": [
        "# display dataset information\n",
        "df.info()"
      ]
    },
    {
      "cell_type": "markdown",
      "metadata": {
        "id": "oI_fs4cXiTvd"
      },
      "source": [
        "Our dataset consists of **4** columns and **3214** rows. There are 4 columns described as **float**, namely the `calls`, `minutes`, `messages`, and `mb_used` columns. The `minutes` and `mb_used` fields should have the appropriate data type as they contain the number of call minutes and data usage in *megabytes*, while the `calls` and `messages` fields should have an **int** data type as they contain the number of calls and the number of text messages. The `is_ultra` column already has the appropriate data type."
      ]
    },
    {
      "cell_type": "markdown",
      "metadata": {
        "id": "298uMRwWiTve"
      },
      "source": [
        "### 1.2. Improve Data Quality"
      ]
    },
    {
      "cell_type": "code",
      "execution_count": 5,
      "metadata": {
        "colab": {
          "base_uri": "https://localhost:8080/"
        },
        "id": "usXgJL5-iTvf",
        "outputId": "fa5c6a47-7cf0-42e3-a2bb-486baa72f8fc"
      },
      "outputs": [
        {
          "output_type": "stream",
          "name": "stdout",
          "text": [
            "<class 'pandas.core.frame.DataFrame'>\n",
            "RangeIndex: 3214 entries, 0 to 3213\n",
            "Data columns (total 5 columns):\n",
            " #   Column    Non-Null Count  Dtype  \n",
            "---  ------    --------------  -----  \n",
            " 0   calls     3214 non-null   int64  \n",
            " 1   minutes   3214 non-null   float64\n",
            " 2   messages  3214 non-null   int64  \n",
            " 3   mb_used   3214 non-null   float64\n",
            " 4   is_ultra  3214 non-null   int64  \n",
            "dtypes: float64(2), int64(3)\n",
            "memory usage: 125.7 KB\n"
          ]
        }
      ],
      "source": [
        "# fix data type\n",
        "for col in ['calls', 'messages']:\n",
        "    df[col] = df[col].apply(np.int64)\n",
        "    \n",
        "df.info()"
      ]
    },
    {
      "cell_type": "markdown",
      "metadata": {
        "id": "QkfuZ4pPiTvg"
      },
      "source": [
        "Kita telah memperbaiki type data kolom."
      ]
    },
    {
      "cell_type": "code",
      "execution_count": 6,
      "metadata": {
        "colab": {
          "base_uri": "https://localhost:8080/",
          "height": 300
        },
        "id": "wPVSLwpKiTvh",
        "outputId": "88747c61-dab2-476a-a697-ec1533779dc9"
      },
      "outputs": [
        {
          "output_type": "execute_result",
          "data": {
            "text/plain": [
              "             calls      minutes     messages       mb_used     is_ultra\n",
              "count  3214.000000  3214.000000  3214.000000   3214.000000  3214.000000\n",
              "mean     63.038892   438.208787    38.281269  17207.673836     0.306472\n",
              "std      33.236368   234.569872    36.148326   7570.968246     0.461100\n",
              "min       0.000000     0.000000     0.000000      0.000000     0.000000\n",
              "25%      40.000000   274.575000     9.000000  12491.902500     0.000000\n",
              "50%      62.000000   430.600000    30.000000  16943.235000     0.000000\n",
              "75%      82.000000   571.927500    57.000000  21424.700000     1.000000\n",
              "max     244.000000  1632.060000   224.000000  49745.730000     1.000000"
            ],
            "text/html": [
              "\n",
              "  <div id=\"df-9f9e5ff0-33c1-48b7-87f6-689140bcbd02\">\n",
              "    <div class=\"colab-df-container\">\n",
              "      <div>\n",
              "<style scoped>\n",
              "    .dataframe tbody tr th:only-of-type {\n",
              "        vertical-align: middle;\n",
              "    }\n",
              "\n",
              "    .dataframe tbody tr th {\n",
              "        vertical-align: top;\n",
              "    }\n",
              "\n",
              "    .dataframe thead th {\n",
              "        text-align: right;\n",
              "    }\n",
              "</style>\n",
              "<table border=\"1\" class=\"dataframe\">\n",
              "  <thead>\n",
              "    <tr style=\"text-align: right;\">\n",
              "      <th></th>\n",
              "      <th>calls</th>\n",
              "      <th>minutes</th>\n",
              "      <th>messages</th>\n",
              "      <th>mb_used</th>\n",
              "      <th>is_ultra</th>\n",
              "    </tr>\n",
              "  </thead>\n",
              "  <tbody>\n",
              "    <tr>\n",
              "      <th>count</th>\n",
              "      <td>3214.000000</td>\n",
              "      <td>3214.000000</td>\n",
              "      <td>3214.000000</td>\n",
              "      <td>3214.000000</td>\n",
              "      <td>3214.000000</td>\n",
              "    </tr>\n",
              "    <tr>\n",
              "      <th>mean</th>\n",
              "      <td>63.038892</td>\n",
              "      <td>438.208787</td>\n",
              "      <td>38.281269</td>\n",
              "      <td>17207.673836</td>\n",
              "      <td>0.306472</td>\n",
              "    </tr>\n",
              "    <tr>\n",
              "      <th>std</th>\n",
              "      <td>33.236368</td>\n",
              "      <td>234.569872</td>\n",
              "      <td>36.148326</td>\n",
              "      <td>7570.968246</td>\n",
              "      <td>0.461100</td>\n",
              "    </tr>\n",
              "    <tr>\n",
              "      <th>min</th>\n",
              "      <td>0.000000</td>\n",
              "      <td>0.000000</td>\n",
              "      <td>0.000000</td>\n",
              "      <td>0.000000</td>\n",
              "      <td>0.000000</td>\n",
              "    </tr>\n",
              "    <tr>\n",
              "      <th>25%</th>\n",
              "      <td>40.000000</td>\n",
              "      <td>274.575000</td>\n",
              "      <td>9.000000</td>\n",
              "      <td>12491.902500</td>\n",
              "      <td>0.000000</td>\n",
              "    </tr>\n",
              "    <tr>\n",
              "      <th>50%</th>\n",
              "      <td>62.000000</td>\n",
              "      <td>430.600000</td>\n",
              "      <td>30.000000</td>\n",
              "      <td>16943.235000</td>\n",
              "      <td>0.000000</td>\n",
              "    </tr>\n",
              "    <tr>\n",
              "      <th>75%</th>\n",
              "      <td>82.000000</td>\n",
              "      <td>571.927500</td>\n",
              "      <td>57.000000</td>\n",
              "      <td>21424.700000</td>\n",
              "      <td>1.000000</td>\n",
              "    </tr>\n",
              "    <tr>\n",
              "      <th>max</th>\n",
              "      <td>244.000000</td>\n",
              "      <td>1632.060000</td>\n",
              "      <td>224.000000</td>\n",
              "      <td>49745.730000</td>\n",
              "      <td>1.000000</td>\n",
              "    </tr>\n",
              "  </tbody>\n",
              "</table>\n",
              "</div>\n",
              "      <button class=\"colab-df-convert\" onclick=\"convertToInteractive('df-9f9e5ff0-33c1-48b7-87f6-689140bcbd02')\"\n",
              "              title=\"Convert this dataframe to an interactive table.\"\n",
              "              style=\"display:none;\">\n",
              "        \n",
              "  <svg xmlns=\"http://www.w3.org/2000/svg\" height=\"24px\"viewBox=\"0 0 24 24\"\n",
              "       width=\"24px\">\n",
              "    <path d=\"M0 0h24v24H0V0z\" fill=\"none\"/>\n",
              "    <path d=\"M18.56 5.44l.94 2.06.94-2.06 2.06-.94-2.06-.94-.94-2.06-.94 2.06-2.06.94zm-11 1L8.5 8.5l.94-2.06 2.06-.94-2.06-.94L8.5 2.5l-.94 2.06-2.06.94zm10 10l.94 2.06.94-2.06 2.06-.94-2.06-.94-.94-2.06-.94 2.06-2.06.94z\"/><path d=\"M17.41 7.96l-1.37-1.37c-.4-.4-.92-.59-1.43-.59-.52 0-1.04.2-1.43.59L10.3 9.45l-7.72 7.72c-.78.78-.78 2.05 0 2.83L4 21.41c.39.39.9.59 1.41.59.51 0 1.02-.2 1.41-.59l7.78-7.78 2.81-2.81c.8-.78.8-2.07 0-2.86zM5.41 20L4 18.59l7.72-7.72 1.47 1.35L5.41 20z\"/>\n",
              "  </svg>\n",
              "      </button>\n",
              "      \n",
              "  <style>\n",
              "    .colab-df-container {\n",
              "      display:flex;\n",
              "      flex-wrap:wrap;\n",
              "      gap: 12px;\n",
              "    }\n",
              "\n",
              "    .colab-df-convert {\n",
              "      background-color: #E8F0FE;\n",
              "      border: none;\n",
              "      border-radius: 50%;\n",
              "      cursor: pointer;\n",
              "      display: none;\n",
              "      fill: #1967D2;\n",
              "      height: 32px;\n",
              "      padding: 0 0 0 0;\n",
              "      width: 32px;\n",
              "    }\n",
              "\n",
              "    .colab-df-convert:hover {\n",
              "      background-color: #E2EBFA;\n",
              "      box-shadow: 0px 1px 2px rgba(60, 64, 67, 0.3), 0px 1px 3px 1px rgba(60, 64, 67, 0.15);\n",
              "      fill: #174EA6;\n",
              "    }\n",
              "\n",
              "    [theme=dark] .colab-df-convert {\n",
              "      background-color: #3B4455;\n",
              "      fill: #D2E3FC;\n",
              "    }\n",
              "\n",
              "    [theme=dark] .colab-df-convert:hover {\n",
              "      background-color: #434B5C;\n",
              "      box-shadow: 0px 1px 3px 1px rgba(0, 0, 0, 0.15);\n",
              "      filter: drop-shadow(0px 1px 2px rgba(0, 0, 0, 0.3));\n",
              "      fill: #FFFFFF;\n",
              "    }\n",
              "  </style>\n",
              "\n",
              "      <script>\n",
              "        const buttonEl =\n",
              "          document.querySelector('#df-9f9e5ff0-33c1-48b7-87f6-689140bcbd02 button.colab-df-convert');\n",
              "        buttonEl.style.display =\n",
              "          google.colab.kernel.accessAllowed ? 'block' : 'none';\n",
              "\n",
              "        async function convertToInteractive(key) {\n",
              "          const element = document.querySelector('#df-9f9e5ff0-33c1-48b7-87f6-689140bcbd02');\n",
              "          const dataTable =\n",
              "            await google.colab.kernel.invokeFunction('convertToInteractive',\n",
              "                                                     [key], {});\n",
              "          if (!dataTable) return;\n",
              "\n",
              "          const docLinkHtml = 'Like what you see? Visit the ' +\n",
              "            '<a target=\"_blank\" href=https://colab.research.google.com/notebooks/data_table.ipynb>data table notebook</a>'\n",
              "            + ' to learn more about interactive tables.';\n",
              "          element.innerHTML = '';\n",
              "          dataTable['output_type'] = 'display_data';\n",
              "          await google.colab.output.renderOutput(dataTable, element);\n",
              "          const docLink = document.createElement('div');\n",
              "          docLink.innerHTML = docLinkHtml;\n",
              "          element.appendChild(docLink);\n",
              "        }\n",
              "      </script>\n",
              "    </div>\n",
              "  </div>\n",
              "  "
            ]
          },
          "metadata": {},
          "execution_count": 6
        }
      ],
      "source": [
        "# displays descriptive statistics of the dataset\n",
        "df.describe()"
      ]
    },
    {
      "cell_type": "markdown",
      "metadata": {
        "id": "XjarxKMLiTvi"
      },
      "source": [
        "From the table above, we know that the average customer spends **63** on calls, **438** minutes of talk time, **38** on text messages, and **17** GB of data in that period. Meanwhile, the minimum usage by customers is using only some of the quota in every service we provide. The highest usage was **244** calls, **1632** minutes, **244** texts, and **49** gb data in that period."
      ]
    },
    {
      "cell_type": "code",
      "execution_count": 7,
      "metadata": {
        "colab": {
          "base_uri": "https://localhost:8080/"
        },
        "id": "ZqFW_OVZiTvi",
        "outputId": "bf745a1d-8e79-4b5e-82e6-3c2ec77b3a59"
      },
      "outputs": [
        {
          "output_type": "execute_result",
          "data": {
            "text/plain": [
              "calls       0\n",
              "minutes     0\n",
              "messages    0\n",
              "mb_used     0\n",
              "is_ultra    0\n",
              "dtype: int64"
            ]
          },
          "metadata": {},
          "execution_count": 7
        }
      ],
      "source": [
        "# check for missing values\n",
        "df.isna().sum()"
      ]
    },
    {
      "cell_type": "markdown",
      "metadata": {
        "id": "51FsXzMviTvj"
      },
      "source": [
        "No missing values were found."
      ]
    },
    {
      "cell_type": "markdown",
      "metadata": {
        "id": "wmzRRWxPiTvj"
      },
      "source": [
        "## 3. EDA and Data Visualization"
      ]
    },
    {
      "cell_type": "code",
      "execution_count": 8,
      "metadata": {
        "colab": {
          "base_uri": "https://localhost:8080/",
          "height": 1000
        },
        "id": "GpXH0oCdiTvk",
        "outputId": "7e2fd2e2-6996-496a-e9b3-db49023abf83",
        "scrolled": false
      },
      "outputs": [
        {
          "output_type": "display_data",
          "data": {
            "text/plain": [
              "<Figure size 648x396 with 1 Axes>"
            ],
            "image/png": "[encoded data removed]"
          },
          "metadata": {
            "needs_background": "light"
          }
        },
        {
          "output_type": "display_data",
          "data": {
            "text/plain": [
              "<Figure size 648x396 with 1 Axes>"
            ],
            "image/png": "[encoded data removed]"
          },
          "metadata": {
            "needs_background": "light"
          }
        },
        {
          "output_type": "display_data",
          "data": {
            "text/plain": [
              "<Figure size 648x396 with 1 Axes>"
            ],
            "image/png": "[encoded data removed]"
          },
          "metadata": {
            "needs_background": "light"
          }
        },
        {
          "output_type": "display_data",
          "data": {
            "text/plain": [
              "<Figure size 648x396 with 1 Axes>"
            ],
            "image/png": "[encoded data removed]"
          },
          "metadata": {
            "needs_background": "light"
          }
        }
      ],
      "source": [
        "# Display data visualization\n",
        "for label in df.columns[:-1]:\n",
        "    plt.figure(figsize=(9, 5.5))\n",
        "    plt.hist(df[df['is_ultra']==1][label], color='blue', label='Ultimate', alpha=0.7, density=True)\n",
        "    plt.hist(df[df['is_ultra']==0][label], color='red', label='Surf', alpha=0.7, density=True)\n",
        "    plt.title(label)\n",
        "    plt.ylabel('Amount')\n",
        "    plt.xlabel(label)\n",
        "    plt.legend()\n",
        "    plt.show()"
      ]
    },
    {
      "cell_type": "markdown",
      "metadata": {
        "id": "c0pVB6HtiTvm"
      },
      "source": [
        "**Findings:**\n",
        "- From the graph of the number of calls made, the average user makes **30-80** calls in one month.\n",
        "- The average user spends **250-500** minutes on calls in a month.\n",
        "- On average, users of both packages do not use their text message quota at all. This might be because they have switched to *instant* messaging or *chatting* applications using internet data.\n",
        "- Data users use on both plans is around the rate of **10,000-20,000 mb** in one month."
      ]
    },
    {
      "cell_type": "markdown",
      "metadata": {
        "id": "OARiaTeWiTvo"
      },
      "source": [
        "## 3. Split the Data"
      ]
    },
    {
      "cell_type": "code",
      "execution_count": 9,
      "metadata": {
        "colab": {
          "base_uri": "https://localhost:8080/",
          "height": 112
        },
        "id": "f2bhxdOwiTvp",
        "outputId": "02d7cc27-3fbd-4128-d118-7a3c3776d9a4"
      },
      "outputs": [
        {
          "output_type": "execute_result",
          "data": {
            "text/plain": [
              "   is_ultra  count\n",
              "0         0   2229\n",
              "1         1    985"
            ],
            "text/html": [
              "\n",
              "  <div id=\"df-ee82b11a-fe64-4d1a-8fdd-a724401ca0ee\">\n",
              "    <div class=\"colab-df-container\">\n",
              "      <div>\n",
              "<style scoped>\n",
              "    .dataframe tbody tr th:only-of-type {\n",
              "        vertical-align: middle;\n",
              "    }\n",
              "\n",
              "    .dataframe tbody tr th {\n",
              "        vertical-align: top;\n",
              "    }\n",
              "\n",
              "    .dataframe thead th {\n",
              "        text-align: right;\n",
              "    }\n",
              "</style>\n",
              "<table border=\"1\" class=\"dataframe\">\n",
              "  <thead>\n",
              "    <tr style=\"text-align: right;\">\n",
              "      <th></th>\n",
              "      <th>is_ultra</th>\n",
              "      <th>count</th>\n",
              "    </tr>\n",
              "  </thead>\n",
              "  <tbody>\n",
              "    <tr>\n",
              "      <th>0</th>\n",
              "      <td>0</td>\n",
              "      <td>2229</td>\n",
              "    </tr>\n",
              "    <tr>\n",
              "      <th>1</th>\n",
              "      <td>1</td>\n",
              "      <td>985</td>\n",
              "    </tr>\n",
              "  </tbody>\n",
              "</table>\n",
              "</div>\n",
              "      <button class=\"colab-df-convert\" onclick=\"convertToInteractive('df-ee82b11a-fe64-4d1a-8fdd-a724401ca0ee')\"\n",
              "              title=\"Convert this dataframe to an interactive table.\"\n",
              "              style=\"display:none;\">\n",
              "        \n",
              "  <svg xmlns=\"http://www.w3.org/2000/svg\" height=\"24px\"viewBox=\"0 0 24 24\"\n",
              "       width=\"24px\">\n",
              "    <path d=\"M0 0h24v24H0V0z\" fill=\"none\"/>\n",
              "    <path d=\"M18.56 5.44l.94 2.06.94-2.06 2.06-.94-2.06-.94-.94-2.06-.94 2.06-2.06.94zm-11 1L8.5 8.5l.94-2.06 2.06-.94-2.06-.94L8.5 2.5l-.94 2.06-2.06.94zm10 10l.94 2.06.94-2.06 2.06-.94-2.06-.94-.94-2.06-.94 2.06-2.06.94z\"/><path d=\"M17.41 7.96l-1.37-1.37c-.4-.4-.92-.59-1.43-.59-.52 0-1.04.2-1.43.59L10.3 9.45l-7.72 7.72c-.78.78-.78 2.05 0 2.83L4 21.41c.39.39.9.59 1.41.59.51 0 1.02-.2 1.41-.59l7.78-7.78 2.81-2.81c.8-.78.8-2.07 0-2.86zM5.41 20L4 18.59l7.72-7.72 1.47 1.35L5.41 20z\"/>\n",
              "  </svg>\n",
              "      </button>\n",
              "      \n",
              "  <style>\n",
              "    .colab-df-container {\n",
              "      display:flex;\n",
              "      flex-wrap:wrap;\n",
              "      gap: 12px;\n",
              "    }\n",
              "\n",
              "    .colab-df-convert {\n",
              "      background-color: #E8F0FE;\n",
              "      border: none;\n",
              "      border-radius: 50%;\n",
              "      cursor: pointer;\n",
              "      display: none;\n",
              "      fill: #1967D2;\n",
              "      height: 32px;\n",
              "      padding: 0 0 0 0;\n",
              "      width: 32px;\n",
              "    }\n",
              "\n",
              "    .colab-df-convert:hover {\n",
              "      background-color: #E2EBFA;\n",
              "      box-shadow: 0px 1px 2px rgba(60, 64, 67, 0.3), 0px 1px 3px 1px rgba(60, 64, 67, 0.15);\n",
              "      fill: #174EA6;\n",
              "    }\n",
              "\n",
              "    [theme=dark] .colab-df-convert {\n",
              "      background-color: #3B4455;\n",
              "      fill: #D2E3FC;\n",
              "    }\n",
              "\n",
              "    [theme=dark] .colab-df-convert:hover {\n",
              "      background-color: #434B5C;\n",
              "      box-shadow: 0px 1px 3px 1px rgba(0, 0, 0, 0.15);\n",
              "      filter: drop-shadow(0px 1px 2px rgba(0, 0, 0, 0.3));\n",
              "      fill: #FFFFFF;\n",
              "    }\n",
              "  </style>\n",
              "\n",
              "      <script>\n",
              "        const buttonEl =\n",
              "          document.querySelector('#df-ee82b11a-fe64-4d1a-8fdd-a724401ca0ee button.colab-df-convert');\n",
              "        buttonEl.style.display =\n",
              "          google.colab.kernel.accessAllowed ? 'block' : 'none';\n",
              "\n",
              "        async function convertToInteractive(key) {\n",
              "          const element = document.querySelector('#df-ee82b11a-fe64-4d1a-8fdd-a724401ca0ee');\n",
              "          const dataTable =\n",
              "            await google.colab.kernel.invokeFunction('convertToInteractive',\n",
              "                                                     [key], {});\n",
              "          if (!dataTable) return;\n",
              "\n",
              "          const docLinkHtml = 'Like what you see? Visit the ' +\n",
              "            '<a target=\"_blank\" href=https://colab.research.google.com/notebooks/data_table.ipynb>data table notebook</a>'\n",
              "            + ' to learn more about interactive tables.';\n",
              "          element.innerHTML = '';\n",
              "          dataTable['output_type'] = 'display_data';\n",
              "          await google.colab.output.renderOutput(dataTable, element);\n",
              "          const docLink = document.createElement('div');\n",
              "          docLink.innerHTML = docLinkHtml;\n",
              "          element.appendChild(docLink);\n",
              "        }\n",
              "      </script>\n",
              "    </div>\n",
              "  </div>\n",
              "  "
            ]
          },
          "metadata": {},
          "execution_count": 9
        }
      ],
      "source": [
        "# Display the number of columns is_ultra\n",
        "df.groupby('is_ultra').agg(count=('calls', 'count')).reset_index()"
      ]
    },
    {
      "cell_type": "code",
      "execution_count": 10,
      "metadata": {
        "colab": {
          "base_uri": "https://localhost:8080/"
        },
        "id": "tdM-9BWBiTvr",
        "outputId": "a49a0409-ee43-4a0f-85fd-c2292ead7931"
      },
      "outputs": [
        {
          "output_type": "execute_result",
          "data": {
            "text/plain": [
              "0    0.693528\n",
              "1    0.306472\n",
              "Name: is_ultra, dtype: float64"
            ]
          },
          "metadata": {},
          "execution_count": 10
        }
      ],
      "source": [
        "# calculate the ratio\n",
        "df['is_ultra'].value_counts() / df.shape[0]"
      ]
    },
    {
      "cell_type": "code",
      "execution_count": 11,
      "metadata": {
        "colab": {
          "base_uri": "https://localhost:8080/",
          "height": 295
        },
        "id": "s4XBqxxdiTvs",
        "outputId": "dfc7a2a9-571c-4ee7-f2f0-83aa1b1b4be3"
      },
      "outputs": [
        {
          "output_type": "display_data",
          "data": {
            "text/plain": [
              "<Figure size 288x288 with 1 Axes>"
            ],
            "image/png": "[encoded data removed]"
          },
          "metadata": {
            "needs_background": "light"
          }
        }
      ],
      "source": [
        "# Creating diagrams to count the plan distribution\n",
        "plt.figure(figsize=(4,4))\n",
        "sns.countplot(x='is_ultra', data=df, order=df['is_ultra'].value_counts().index)\n",
        "plt.xlabel('Service')\n",
        "plt.ylabel('Amount')\n",
        "plt.title('Count of Package')\n",
        "plt.show()"
      ]
    },
    {
      "cell_type": "markdown",
      "metadata": {
        "id": "PepbkGB1iTvt"
      },
      "source": [
        "- We see an unbalanced number of package users in the dataset. It will undoubtedly have an impact on the model we will make.\n",
        "\n",
        "- The ratio column `is_ultra` has a ratio of **70:30 %**. It may result in the model needing to learn the data properly."
      ]
    },
    {
      "cell_type": "code",
      "execution_count": 12,
      "metadata": {
        "id": "cLddhAEuiTvt"
      },
      "outputs": [],
      "source": [
        "# split the data in to training, validation, and test\n",
        "X_train, y_train, X_valid, y_valid, X_test, y_test = train_valid_test_split(df, target = 'is_ultra', train_size=0.70,\n",
        "                                                                            valid_size=0.15, test_size=0.15, random_state=12)"
      ]
    },
    {
      "cell_type": "markdown",
      "metadata": {
        "id": "yUxUr4JniTvu"
      },
      "source": [
        "We will use the proportion of data as **70%** for *data training*, **15%** for *data validation*, and **15%** for *data test*. We set the value `random_state` to avoid different results if we re-run the code on *notebook*."
      ]
    },
    {
      "cell_type": "code",
      "execution_count": 13,
      "metadata": {
        "colab": {
          "base_uri": "https://localhost:8080/"
        },
        "id": "EzMDqBn7iTvu",
        "outputId": "b9593b31-9d4d-4a31-dc38-bc9ebb51fae7",
        "scrolled": true
      },
      "outputs": [
        {
          "output_type": "execute_result",
          "data": {
            "text/plain": [
              "(2249, 4)"
            ]
          },
          "metadata": {},
          "execution_count": 13
        }
      ],
      "source": [
        "# check data dimension X_train\n",
        "X_train.shape"
      ]
    },
    {
      "cell_type": "code",
      "execution_count": 14,
      "metadata": {
        "colab": {
          "base_uri": "https://localhost:8080/"
        },
        "id": "k10juzIYiTvv",
        "outputId": "9347c614-5ac8-437f-dbac-ac9785d910d4"
      },
      "outputs": [
        {
          "output_type": "execute_result",
          "data": {
            "text/plain": [
              "(482, 4)"
            ]
          },
          "metadata": {},
          "execution_count": 14
        }
      ],
      "source": [
        "# check data dimension X_valid\n",
        "X_valid.shape"
      ]
    },
    {
      "cell_type": "code",
      "execution_count": 15,
      "metadata": {
        "colab": {
          "base_uri": "https://localhost:8080/"
        },
        "id": "swok4NR7iTvw",
        "outputId": "f04f5fca-ddda-4c12-b9ea-dd7bf4c478eb"
      },
      "outputs": [
        {
          "output_type": "execute_result",
          "data": {
            "text/plain": [
              "(483, 4)"
            ]
          },
          "metadata": {},
          "execution_count": 15
        }
      ],
      "source": [
        "# check data dimension X_test\n",
        "X_test.shape"
      ]
    },
    {
      "cell_type": "code",
      "execution_count": 16,
      "metadata": {
        "colab": {
          "base_uri": "https://localhost:8080/",
          "height": 206
        },
        "id": "68_XoR8CiTvw",
        "outputId": "65f5b936-a569-44d1-85cf-bffe45601833"
      },
      "outputs": [
        {
          "output_type": "execute_result",
          "data": {
            "text/plain": [
              "      calls  minutes  messages   mb_used\n",
              "643     136   965.78         0  31992.10\n",
              "404      30   169.02        13  16626.53\n",
              "1637     50   282.87        53  13260.03\n",
              "551       0     0.00        24  18701.54\n",
              "3177    114   731.76        10  25311.22"
            ],
            "text/html": [
              "\n",
              "  <div id=\"df-30b2add7-9cbc-4bd3-9d56-45b0ad23e9f5\">\n",
              "    <div class=\"colab-df-container\">\n",
              "      <div>\n",
              "<style scoped>\n",
              "    .dataframe tbody tr th:only-of-type {\n",
              "        vertical-align: middle;\n",
              "    }\n",
              "\n",
              "    .dataframe tbody tr th {\n",
              "        vertical-align: top;\n",
              "    }\n",
              "\n",
              "    .dataframe thead th {\n",
              "        text-align: right;\n",
              "    }\n",
              "</style>\n",
              "<table border=\"1\" class=\"dataframe\">\n",
              "  <thead>\n",
              "    <tr style=\"text-align: right;\">\n",
              "      <th></th>\n",
              "      <th>calls</th>\n",
              "      <th>minutes</th>\n",
              "      <th>messages</th>\n",
              "      <th>mb_used</th>\n",
              "    </tr>\n",
              "  </thead>\n",
              "  <tbody>\n",
              "    <tr>\n",
              "      <th>643</th>\n",
              "      <td>136</td>\n",
              "      <td>965.78</td>\n",
              "      <td>0</td>\n",
              "      <td>31992.10</td>\n",
              "    </tr>\n",
              "    <tr>\n",
              "      <th>404</th>\n",
              "      <td>30</td>\n",
              "      <td>169.02</td>\n",
              "      <td>13</td>\n",
              "      <td>16626.53</td>\n",
              "    </tr>\n",
              "    <tr>\n",
              "      <th>1637</th>\n",
              "      <td>50</td>\n",
              "      <td>282.87</td>\n",
              "      <td>53</td>\n",
              "      <td>13260.03</td>\n",
              "    </tr>\n",
              "    <tr>\n",
              "      <th>551</th>\n",
              "      <td>0</td>\n",
              "      <td>0.00</td>\n",
              "      <td>24</td>\n",
              "      <td>18701.54</td>\n",
              "    </tr>\n",
              "    <tr>\n",
              "      <th>3177</th>\n",
              "      <td>114</td>\n",
              "      <td>731.76</td>\n",
              "      <td>10</td>\n",
              "      <td>25311.22</td>\n",
              "    </tr>\n",
              "  </tbody>\n",
              "</table>\n",
              "</div>\n",
              "      <button class=\"colab-df-convert\" onclick=\"convertToInteractive('df-30b2add7-9cbc-4bd3-9d56-45b0ad23e9f5')\"\n",
              "              title=\"Convert this dataframe to an interactive table.\"\n",
              "              style=\"display:none;\">\n",
              "        \n",
              "  <svg xmlns=\"http://www.w3.org/2000/svg\" height=\"24px\"viewBox=\"0 0 24 24\"\n",
              "       width=\"24px\">\n",
              "    <path d=\"M0 0h24v24H0V0z\" fill=\"none\"/>\n",
              "    <path d=\"M18.56 5.44l.94 2.06.94-2.06 2.06-.94-2.06-.94-.94-2.06-.94 2.06-2.06.94zm-11 1L8.5 8.5l.94-2.06 2.06-.94-2.06-.94L8.5 2.5l-.94 2.06-2.06.94zm10 10l.94 2.06.94-2.06 2.06-.94-2.06-.94-.94-2.06-.94 2.06-2.06.94z\"/><path d=\"M17.41 7.96l-1.37-1.37c-.4-.4-.92-.59-1.43-.59-.52 0-1.04.2-1.43.59L10.3 9.45l-7.72 7.72c-.78.78-.78 2.05 0 2.83L4 21.41c.39.39.9.59 1.41.59.51 0 1.02-.2 1.41-.59l7.78-7.78 2.81-2.81c.8-.78.8-2.07 0-2.86zM5.41 20L4 18.59l7.72-7.72 1.47 1.35L5.41 20z\"/>\n",
              "  </svg>\n",
              "      </button>\n",
              "      \n",
              "  <style>\n",
              "    .colab-df-container {\n",
              "      display:flex;\n",
              "      flex-wrap:wrap;\n",
              "      gap: 12px;\n",
              "    }\n",
              "\n",
              "    .colab-df-convert {\n",
              "      background-color: #E8F0FE;\n",
              "      border: none;\n",
              "      border-radius: 50%;\n",
              "      cursor: pointer;\n",
              "      display: none;\n",
              "      fill: #1967D2;\n",
              "      height: 32px;\n",
              "      padding: 0 0 0 0;\n",
              "      width: 32px;\n",
              "    }\n",
              "\n",
              "    .colab-df-convert:hover {\n",
              "      background-color: #E2EBFA;\n",
              "      box-shadow: 0px 1px 2px rgba(60, 64, 67, 0.3), 0px 1px 3px 1px rgba(60, 64, 67, 0.15);\n",
              "      fill: #174EA6;\n",
              "    }\n",
              "\n",
              "    [theme=dark] .colab-df-convert {\n",
              "      background-color: #3B4455;\n",
              "      fill: #D2E3FC;\n",
              "    }\n",
              "\n",
              "    [theme=dark] .colab-df-convert:hover {\n",
              "      background-color: #434B5C;\n",
              "      box-shadow: 0px 1px 3px 1px rgba(0, 0, 0, 0.15);\n",
              "      filter: drop-shadow(0px 1px 2px rgba(0, 0, 0, 0.3));\n",
              "      fill: #FFFFFF;\n",
              "    }\n",
              "  </style>\n",
              "\n",
              "      <script>\n",
              "        const buttonEl =\n",
              "          document.querySelector('#df-30b2add7-9cbc-4bd3-9d56-45b0ad23e9f5 button.colab-df-convert');\n",
              "        buttonEl.style.display =\n",
              "          google.colab.kernel.accessAllowed ? 'block' : 'none';\n",
              "\n",
              "        async function convertToInteractive(key) {\n",
              "          const element = document.querySelector('#df-30b2add7-9cbc-4bd3-9d56-45b0ad23e9f5');\n",
              "          const dataTable =\n",
              "            await google.colab.kernel.invokeFunction('convertToInteractive',\n",
              "                                                     [key], {});\n",
              "          if (!dataTable) return;\n",
              "\n",
              "          const docLinkHtml = 'Like what you see? Visit the ' +\n",
              "            '<a target=\"_blank\" href=https://colab.research.google.com/notebooks/data_table.ipynb>data table notebook</a>'\n",
              "            + ' to learn more about interactive tables.';\n",
              "          element.innerHTML = '';\n",
              "          dataTable['output_type'] = 'display_data';\n",
              "          await google.colab.output.renderOutput(dataTable, element);\n",
              "          const docLink = document.createElement('div');\n",
              "          docLink.innerHTML = docLinkHtml;\n",
              "          element.appendChild(docLink);\n",
              "        }\n",
              "      </script>\n",
              "    </div>\n",
              "  </div>\n",
              "  "
            ]
          },
          "metadata": {},
          "execution_count": 16
        }
      ],
      "source": [
        "# display sample training data\n",
        "X_train.head()"
      ]
    },
    {
      "cell_type": "markdown",
      "metadata": {
        "id": "wk0E7kcxiTvx"
      },
      "source": [
        "## 4. Models"
      ]
    },
    {
      "cell_type": "markdown",
      "metadata": {
        "id": "kcyF3SDriTvy"
      },
      "source": [
        "### 4.1. Logistic Regression"
      ]
    },
    {
      "cell_type": "code",
      "execution_count": 17,
      "metadata": {
        "colab": {
          "base_uri": "https://localhost:8080/",
          "height": 224
        },
        "id": "rB10nYbsiTvz",
        "outputId": "33c264f0-5423-48c4-ba8c-544da2187c74"
      },
      "outputs": [
        {
          "output_type": "stream",
          "name": "stdout",
          "text": [
            "Logistic Regression Model\n"
          ]
        },
        {
          "output_type": "display_data",
          "data": {
            "text/plain": [
              "      solver  train_accuracy  valid_accuracy\n",
              "0  newton-cg        0.755002        0.742739\n",
              "1      lbfgs        0.738550        0.728216\n",
              "2  liblinear        0.745665        0.724066\n",
              "3        sag        0.703868        0.682573\n",
              "4       saga        0.703868        0.682573"
            ],
            "text/html": [
              "\n",
              "  <div id=\"df-7659a953-7333-47b5-900f-a364d9ebab84\">\n",
              "    <div class=\"colab-df-container\">\n",
              "      <div>\n",
              "<style scoped>\n",
              "    .dataframe tbody tr th:only-of-type {\n",
              "        vertical-align: middle;\n",
              "    }\n",
              "\n",
              "    .dataframe tbody tr th {\n",
              "        vertical-align: top;\n",
              "    }\n",
              "\n",
              "    .dataframe thead th {\n",
              "        text-align: right;\n",
              "    }\n",
              "</style>\n",
              "<table border=\"1\" class=\"dataframe\">\n",
              "  <thead>\n",
              "    <tr style=\"text-align: right;\">\n",
              "      <th></th>\n",
              "      <th>solver</th>\n",
              "      <th>train_accuracy</th>\n",
              "      <th>valid_accuracy</th>\n",
              "    </tr>\n",
              "  </thead>\n",
              "  <tbody>\n",
              "    <tr>\n",
              "      <th>0</th>\n",
              "      <td>newton-cg</td>\n",
              "      <td>0.755002</td>\n",
              "      <td>0.742739</td>\n",
              "    </tr>\n",
              "    <tr>\n",
              "      <th>1</th>\n",
              "      <td>lbfgs</td>\n",
              "      <td>0.738550</td>\n",
              "      <td>0.728216</td>\n",
              "    </tr>\n",
              "    <tr>\n",
              "      <th>2</th>\n",
              "      <td>liblinear</td>\n",
              "      <td>0.745665</td>\n",
              "      <td>0.724066</td>\n",
              "    </tr>\n",
              "    <tr>\n",
              "      <th>3</th>\n",
              "      <td>sag</td>\n",
              "      <td>0.703868</td>\n",
              "      <td>0.682573</td>\n",
              "    </tr>\n",
              "    <tr>\n",
              "      <th>4</th>\n",
              "      <td>saga</td>\n",
              "      <td>0.703868</td>\n",
              "      <td>0.682573</td>\n",
              "    </tr>\n",
              "  </tbody>\n",
              "</table>\n",
              "</div>\n",
              "      <button class=\"colab-df-convert\" onclick=\"convertToInteractive('df-7659a953-7333-47b5-900f-a364d9ebab84')\"\n",
              "              title=\"Convert this dataframe to an interactive table.\"\n",
              "              style=\"display:none;\">\n",
              "        \n",
              "  <svg xmlns=\"http://www.w3.org/2000/svg\" height=\"24px\"viewBox=\"0 0 24 24\"\n",
              "       width=\"24px\">\n",
              "    <path d=\"M0 0h24v24H0V0z\" fill=\"none\"/>\n",
              "    <path d=\"M18.56 5.44l.94 2.06.94-2.06 2.06-.94-2.06-.94-.94-2.06-.94 2.06-2.06.94zm-11 1L8.5 8.5l.94-2.06 2.06-.94-2.06-.94L8.5 2.5l-.94 2.06-2.06.94zm10 10l.94 2.06.94-2.06 2.06-.94-2.06-.94-.94-2.06-.94 2.06-2.06.94z\"/><path d=\"M17.41 7.96l-1.37-1.37c-.4-.4-.92-.59-1.43-.59-.52 0-1.04.2-1.43.59L10.3 9.45l-7.72 7.72c-.78.78-.78 2.05 0 2.83L4 21.41c.39.39.9.59 1.41.59.51 0 1.02-.2 1.41-.59l7.78-7.78 2.81-2.81c.8-.78.8-2.07 0-2.86zM5.41 20L4 18.59l7.72-7.72 1.47 1.35L5.41 20z\"/>\n",
              "  </svg>\n",
              "      </button>\n",
              "      \n",
              "  <style>\n",
              "    .colab-df-container {\n",
              "      display:flex;\n",
              "      flex-wrap:wrap;\n",
              "      gap: 12px;\n",
              "    }\n",
              "\n",
              "    .colab-df-convert {\n",
              "      background-color: #E8F0FE;\n",
              "      border: none;\n",
              "      border-radius: 50%;\n",
              "      cursor: pointer;\n",
              "      display: none;\n",
              "      fill: #1967D2;\n",
              "      height: 32px;\n",
              "      padding: 0 0 0 0;\n",
              "      width: 32px;\n",
              "    }\n",
              "\n",
              "    .colab-df-convert:hover {\n",
              "      background-color: #E2EBFA;\n",
              "      box-shadow: 0px 1px 2px rgba(60, 64, 67, 0.3), 0px 1px 3px 1px rgba(60, 64, 67, 0.15);\n",
              "      fill: #174EA6;\n",
              "    }\n",
              "\n",
              "    [theme=dark] .colab-df-convert {\n",
              "      background-color: #3B4455;\n",
              "      fill: #D2E3FC;\n",
              "    }\n",
              "\n",
              "    [theme=dark] .colab-df-convert:hover {\n",
              "      background-color: #434B5C;\n",
              "      box-shadow: 0px 1px 3px 1px rgba(0, 0, 0, 0.15);\n",
              "      filter: drop-shadow(0px 1px 2px rgba(0, 0, 0, 0.3));\n",
              "      fill: #FFFFFF;\n",
              "    }\n",
              "  </style>\n",
              "\n",
              "      <script>\n",
              "        const buttonEl =\n",
              "          document.querySelector('#df-7659a953-7333-47b5-900f-a364d9ebab84 button.colab-df-convert');\n",
              "        buttonEl.style.display =\n",
              "          google.colab.kernel.accessAllowed ? 'block' : 'none';\n",
              "\n",
              "        async function convertToInteractive(key) {\n",
              "          const element = document.querySelector('#df-7659a953-7333-47b5-900f-a364d9ebab84');\n",
              "          const dataTable =\n",
              "            await google.colab.kernel.invokeFunction('convertToInteractive',\n",
              "                                                     [key], {});\n",
              "          if (!dataTable) return;\n",
              "\n",
              "          const docLinkHtml = 'Like what you see? Visit the ' +\n",
              "            '<a target=\"_blank\" href=https://colab.research.google.com/notebooks/data_table.ipynb>data table notebook</a>'\n",
              "            + ' to learn more about interactive tables.';\n",
              "          element.innerHTML = '';\n",
              "          dataTable['output_type'] = 'display_data';\n",
              "          await google.colab.output.renderOutput(dataTable, element);\n",
              "          const docLink = document.createElement('div');\n",
              "          docLink.innerHTML = docLinkHtml;\n",
              "          element.appendChild(docLink);\n",
              "        }\n",
              "      </script>\n",
              "    </div>\n",
              "  </div>\n",
              "  "
            ]
          },
          "metadata": {}
        }
      ],
      "source": [
        "# accuracy score lr model training set and validation set\n",
        "print('Logistic Regression Model')\n",
        "lr_result = defaultdict(list)\n",
        "\n",
        "for solv in ['newton-cg', 'lbfgs', 'liblinear', 'sag', 'saga']:    \n",
        "    lr_model = LogisticRegression(solver=solv)\n",
        "    lr_model.fit(X_train, y_train)\n",
        "    lr_model_train_pred = lr_model.predict(X_train)\n",
        "    lr_model_valid_pred = lr_model.predict(X_valid)\n",
        "    lr_result['solver'].append(solv)\n",
        "    lr_result['train_accuracy'].append(accuracy_score(y_train, lr_model_train_pred))\n",
        "    lr_result['valid_accuracy'].append(accuracy_score(y_valid, lr_model_valid_pred))\n",
        "    \n",
        "display(pd.DataFrame(lr_result))"
      ]
    },
    {
      "cell_type": "markdown",
      "metadata": {
        "id": "koAPeF8wiTv1"
      },
      "source": [
        "The results of the **Logistic Regression Model** produce an *accuracy* level of **75%** for *training test* and **74%** for *validation test* by specifying **newton-cg** in the parameter ` solver`, meaning *validation set* is unable to reach the specified *accuracy* level of 75%. Next, we will apply this model to *test set*."
      ]
    },
    {
      "cell_type": "code",
      "execution_count": 18,
      "metadata": {
        "colab": {
          "base_uri": "https://localhost:8080/"
        },
        "id": "6hoMI68wiTv2",
        "outputId": "adfd462d-8d16-42a7-a668-a29b8879154c"
      },
      "outputs": [
        {
          "output_type": "execute_result",
          "data": {
            "text/plain": [
              "LogisticRegression(solver='newton-cg')"
            ]
          },
          "metadata": {},
          "execution_count": 18
        }
      ],
      "source": [
        "# create the best logisticregression model\n",
        "lr_model = LogisticRegression(solver='newton-cg')\n",
        "lr_model.fit(X_train, y_train)"
      ]
    },
    {
      "cell_type": "code",
      "execution_count": 19,
      "metadata": {
        "colab": {
          "base_uri": "https://localhost:8080/"
        },
        "id": "gxzZqYkPiTv7",
        "outputId": "63131648-cacb-4fa3-99a6-5b472ac84d94"
      },
      "outputs": [
        {
          "output_type": "stream",
          "name": "stdout",
          "text": [
            "Logistic Regression Model\n",
            "-------------------------\n",
            "Training set accuracy = 0.7550022232103157\n",
            "Validation set accuracy = 0.7427385892116183\n",
            "Test set accuracy 0.7080745341614907\n"
          ]
        }
      ],
      "source": [
        "# accuracy score lg model compare\n",
        "print('Logistic Regression Model')\n",
        "print('-------------------------')\n",
        "y_train_lr_pred = lr_model.predict(X_train)\n",
        "print('Training set accuracy =', accuracy_score(y_train, y_train_lr_pred))\n",
        "y_valid_lr_pred = lr_model.predict(X_valid)\n",
        "print('Validation set accuracy =', accuracy_score(y_valid, y_valid_lr_pred))\n",
        "y_test_lr_pred = lr_model.predict(X_test)\n",
        "print('Test set accuracy',  accuracy_score(y_test, y_test_lr_pred))"
      ]
    },
    {
      "cell_type": "markdown",
      "metadata": {
        "id": "mZdm-iY4iTv9"
      },
      "source": [
        "The results of applying the model to the *test set* data were unable to increase the *accuracy* level, and the *accuracy* continued to decrease to **70.8%**, which made this model ineligible to be used as a *machine learning* model."
      ]
    },
    {
      "cell_type": "code",
      "execution_count": 20,
      "metadata": {
        "colab": {
          "base_uri": "https://localhost:8080/",
          "height": 453
        },
        "id": "6qUBAGVciTv9",
        "outputId": "778fc0c2-f0a1-4fb6-d1d7-95beb2707d0d",
        "scrolled": false
      },
      "outputs": [
        {
          "output_type": "stream",
          "name": "stdout",
          "text": [
            "              precision    recall  f1-score   support\n",
            "\n",
            "        Surf       0.70      0.99      0.82       317\n",
            "    Ultimate       0.88      0.17      0.29       166\n",
            "\n",
            "    accuracy                           0.71       483\n",
            "   macro avg       0.79      0.58      0.55       483\n",
            "weighted avg       0.76      0.71      0.64       483\n",
            "\n",
            "\n"
          ]
        },
        {
          "output_type": "display_data",
          "data": {
            "text/plain": [
              "<Figure size 432x288 with 2 Axes>"
            ],
            "image/png": "[encoded data removed]"
          },
          "metadata": {
            "needs_background": "light"
          }
        }
      ],
      "source": [
        "# classification report the lr model of data test\n",
        "print(classification_report(y_test, y_test_lr_pred, target_names=['Surf', 'Ultimate'])), print()\n",
        "\n",
        "# display confusion matrix of test data\n",
        "cm = confusion_matrix(y_test, y_test_lr_pred)\n",
        "disp = ConfusionMatrixDisplay(confusion_matrix = cm, display_labels = ['Surf', 'Ultimate'])\n",
        "disp.plot()\n",
        "plt.show() "
      ]
    },
    {
      "cell_type": "markdown",
      "metadata": {
        "id": "ASfqx5C1iTv-"
      },
      "source": [
        "- **Precision** in the ultimate package is higher than in the surf package, meaning that the predictions in the ultimate package are more correct than the surf package.\n",
        "\n",
        "- The **recall** value for the ultimate package is meager, which means that of all the genuinely ultimate data, only a few are predicted correctly.\n",
        "\n",
        "This model cannot predict the ultimate package well because our data needs to be balanced."
      ]
    },
    {
      "cell_type": "markdown",
      "metadata": {
        "id": "ozwoXLqviTv-"
      },
      "source": [
        "### 4.2. Decision Tree "
      ]
    },
    {
      "cell_type": "code",
      "execution_count": 21,
      "metadata": {
        "colab": {
          "base_uri": "https://localhost:8080/",
          "height": 380
        },
        "id": "BOaS_inJiTv_",
        "outputId": "eb9f18cf-7ae9-46dc-b770-09fb73a5fa95"
      },
      "outputs": [
        {
          "output_type": "stream",
          "name": "stdout",
          "text": [
            "Decision Tree Model\n"
          ]
        },
        {
          "output_type": "display_data",
          "data": {
            "text/plain": [
              "   max_depth  train_accuracy  valid_accuracy\n",
              "0          1        0.759893        0.744813\n",
              "1          2        0.790574        0.780083\n",
              "2          3        0.805247        0.792531\n",
              "3          4        0.813695        0.792531\n",
              "4          5        0.825700        0.773859\n",
              "5          6        0.837261        0.780083\n",
              "6          7        0.850156        0.767635\n",
              "7          8        0.861272        0.786307\n",
              "8          9        0.872388        0.771784\n",
              "9         10        0.887950        0.780083"
            ],
            "text/html": [
              "\n",
              "  <div id=\"df-587ae2ec-0724-479a-b208-74bd86d4c77d\">\n",
              "    <div class=\"colab-df-container\">\n",
              "      <div>\n",
              "<style scoped>\n",
              "    .dataframe tbody tr th:only-of-type {\n",
              "        vertical-align: middle;\n",
              "    }\n",
              "\n",
              "    .dataframe tbody tr th {\n",
              "        vertical-align: top;\n",
              "    }\n",
              "\n",
              "    .dataframe thead th {\n",
              "        text-align: right;\n",
              "    }\n",
              "</style>\n",
              "<table border=\"1\" class=\"dataframe\">\n",
              "  <thead>\n",
              "    <tr style=\"text-align: right;\">\n",
              "      <th></th>\n",
              "      <th>max_depth</th>\n",
              "      <th>train_accuracy</th>\n",
              "      <th>valid_accuracy</th>\n",
              "    </tr>\n",
              "  </thead>\n",
              "  <tbody>\n",
              "    <tr>\n",
              "      <th>0</th>\n",
              "      <td>1</td>\n",
              "      <td>0.759893</td>\n",
              "      <td>0.744813</td>\n",
              "    </tr>\n",
              "    <tr>\n",
              "      <th>1</th>\n",
              "      <td>2</td>\n",
              "      <td>0.790574</td>\n",
              "      <td>0.780083</td>\n",
              "    </tr>\n",
              "    <tr>\n",
              "      <th>2</th>\n",
              "      <td>3</td>\n",
              "      <td>0.805247</td>\n",
              "      <td>0.792531</td>\n",
              "    </tr>\n",
              "    <tr>\n",
              "      <th>3</th>\n",
              "      <td>4</td>\n",
              "      <td>0.813695</td>\n",
              "      <td>0.792531</td>\n",
              "    </tr>\n",
              "    <tr>\n",
              "      <th>4</th>\n",
              "      <td>5</td>\n",
              "      <td>0.825700</td>\n",
              "      <td>0.773859</td>\n",
              "    </tr>\n",
              "    <tr>\n",
              "      <th>5</th>\n",
              "      <td>6</td>\n",
              "      <td>0.837261</td>\n",
              "      <td>0.780083</td>\n",
              "    </tr>\n",
              "    <tr>\n",
              "      <th>6</th>\n",
              "      <td>7</td>\n",
              "      <td>0.850156</td>\n",
              "      <td>0.767635</td>\n",
              "    </tr>\n",
              "    <tr>\n",
              "      <th>7</th>\n",
              "      <td>8</td>\n",
              "      <td>0.861272</td>\n",
              "      <td>0.786307</td>\n",
              "    </tr>\n",
              "    <tr>\n",
              "      <th>8</th>\n",
              "      <td>9</td>\n",
              "      <td>0.872388</td>\n",
              "      <td>0.771784</td>\n",
              "    </tr>\n",
              "    <tr>\n",
              "      <th>9</th>\n",
              "      <td>10</td>\n",
              "      <td>0.887950</td>\n",
              "      <td>0.780083</td>\n",
              "    </tr>\n",
              "  </tbody>\n",
              "</table>\n",
              "</div>\n",
              "      <button class=\"colab-df-convert\" onclick=\"convertToInteractive('df-587ae2ec-0724-479a-b208-74bd86d4c77d')\"\n",
              "              title=\"Convert this dataframe to an interactive table.\"\n",
              "              style=\"display:none;\">\n",
              "        \n",
              "  <svg xmlns=\"http://www.w3.org/2000/svg\" height=\"24px\"viewBox=\"0 0 24 24\"\n",
              "       width=\"24px\">\n",
              "    <path d=\"M0 0h24v24H0V0z\" fill=\"none\"/>\n",
              "    <path d=\"M18.56 5.44l.94 2.06.94-2.06 2.06-.94-2.06-.94-.94-2.06-.94 2.06-2.06.94zm-11 1L8.5 8.5l.94-2.06 2.06-.94-2.06-.94L8.5 2.5l-.94 2.06-2.06.94zm10 10l.94 2.06.94-2.06 2.06-.94-2.06-.94-.94-2.06-.94 2.06-2.06.94z\"/><path d=\"M17.41 7.96l-1.37-1.37c-.4-.4-.92-.59-1.43-.59-.52 0-1.04.2-1.43.59L10.3 9.45l-7.72 7.72c-.78.78-.78 2.05 0 2.83L4 21.41c.39.39.9.59 1.41.59.51 0 1.02-.2 1.41-.59l7.78-7.78 2.81-2.81c.8-.78.8-2.07 0-2.86zM5.41 20L4 18.59l7.72-7.72 1.47 1.35L5.41 20z\"/>\n",
              "  </svg>\n",
              "      </button>\n",
              "      \n",
              "  <style>\n",
              "    .colab-df-container {\n",
              "      display:flex;\n",
              "      flex-wrap:wrap;\n",
              "      gap: 12px;\n",
              "    }\n",
              "\n",
              "    .colab-df-convert {\n",
              "      background-color: #E8F0FE;\n",
              "      border: none;\n",
              "      border-radius: 50%;\n",
              "      cursor: pointer;\n",
              "      display: none;\n",
              "      fill: #1967D2;\n",
              "      height: 32px;\n",
              "      padding: 0 0 0 0;\n",
              "      width: 32px;\n",
              "    }\n",
              "\n",
              "    .colab-df-convert:hover {\n",
              "      background-color: #E2EBFA;\n",
              "      box-shadow: 0px 1px 2px rgba(60, 64, 67, 0.3), 0px 1px 3px 1px rgba(60, 64, 67, 0.15);\n",
              "      fill: #174EA6;\n",
              "    }\n",
              "\n",
              "    [theme=dark] .colab-df-convert {\n",
              "      background-color: #3B4455;\n",
              "      fill: #D2E3FC;\n",
              "    }\n",
              "\n",
              "    [theme=dark] .colab-df-convert:hover {\n",
              "      background-color: #434B5C;\n",
              "      box-shadow: 0px 1px 3px 1px rgba(0, 0, 0, 0.15);\n",
              "      filter: drop-shadow(0px 1px 2px rgba(0, 0, 0, 0.3));\n",
              "      fill: #FFFFFF;\n",
              "    }\n",
              "  </style>\n",
              "\n",
              "      <script>\n",
              "        const buttonEl =\n",
              "          document.querySelector('#df-587ae2ec-0724-479a-b208-74bd86d4c77d button.colab-df-convert');\n",
              "        buttonEl.style.display =\n",
              "          google.colab.kernel.accessAllowed ? 'block' : 'none';\n",
              "\n",
              "        async function convertToInteractive(key) {\n",
              "          const element = document.querySelector('#df-587ae2ec-0724-479a-b208-74bd86d4c77d');\n",
              "          const dataTable =\n",
              "            await google.colab.kernel.invokeFunction('convertToInteractive',\n",
              "                                                     [key], {});\n",
              "          if (!dataTable) return;\n",
              "\n",
              "          const docLinkHtml = 'Like what you see? Visit the ' +\n",
              "            '<a target=\"_blank\" href=https://colab.research.google.com/notebooks/data_table.ipynb>data table notebook</a>'\n",
              "            + ' to learn more about interactive tables.';\n",
              "          element.innerHTML = '';\n",
              "          dataTable['output_type'] = 'display_data';\n",
              "          await google.colab.output.renderOutput(dataTable, element);\n",
              "          const docLink = document.createElement('div');\n",
              "          docLink.innerHTML = docLinkHtml;\n",
              "          element.appendChild(docLink);\n",
              "        }\n",
              "      </script>\n",
              "    </div>\n",
              "  </div>\n",
              "  "
            ]
          },
          "metadata": {}
        }
      ],
      "source": [
        "# Data train and validation set test\n",
        "print('Decision Tree Model')\n",
        "dt_result = defaultdict(list)\n",
        "\n",
        "for depth in range(1, 11):\n",
        "    dt_model = DecisionTreeClassifier(max_depth=depth)\n",
        "    dt_model.fit(X_train, y_train)\n",
        "    dt_model_train_pred = dt_model.predict(X_train)\n",
        "    dt_model_valid_pred = dt_model.predict(X_valid)\n",
        "    dt_result['max_depth'].append(depth)\n",
        "    dt_result['train_accuracy'].append(accuracy_score(y_train, dt_model_train_pred))\n",
        "    dt_result['valid_accuracy'].append(accuracy_score(y_valid, dt_model_valid_pred))\n",
        "    \n",
        "display(pd.DataFrame(dt_result))"
      ]
    },
    {
      "cell_type": "markdown",
      "metadata": {
        "id": "1G4kMaJpiTwA"
      },
      "source": [
        "We set the **max_depth=3** parameter with a range of **1-11** and get some results of the *accuracy* level, then we use the value **max_depth = 3** because this value has passed the specified threshold value and the *accuracy* level between *data train testing*, *data validation testing*, and *data test testing* produces the most consistent *accuracy* level or whether overfitting or not overfitting\n"
      ]
    },
    {
      "cell_type": "code",
      "execution_count": 22,
      "metadata": {
        "colab": {
          "base_uri": "https://localhost:8080/"
        },
        "id": "m4tqTaImiTwA",
        "outputId": "544b2582-8458-409f-f3ec-62164e7a4576"
      },
      "outputs": [
        {
          "output_type": "execute_result",
          "data": {
            "text/plain": [
              "DecisionTreeClassifier(max_depth=3)"
            ]
          },
          "metadata": {},
          "execution_count": 22
        }
      ],
      "source": [
        "# create decision tree model\n",
        "dt_model = DecisionTreeClassifier(max_depth=3)\n",
        "dt_model.fit(X_train, y_train)"
      ]
    },
    {
      "cell_type": "code",
      "execution_count": 23,
      "metadata": {
        "colab": {
          "base_uri": "https://localhost:8080/"
        },
        "id": "ir_Vtv66iTwB",
        "outputId": "1bf0a2d0-838f-417a-9bd9-9f871e882a9d"
      },
      "outputs": [
        {
          "output_type": "stream",
          "name": "stdout",
          "text": [
            "Decision Tree Model\n",
            "-------------------------\n",
            "Training set accuracy = 0.8052467763450423\n",
            "Validation set accuracy = 0.7925311203319502\n",
            "Test set accuracy 0.7660455486542443\n"
          ]
        }
      ],
      "source": [
        "# accuracy score dt model compare\n",
        "print('Decision Tree Model')\n",
        "print('-------------------------')\n",
        "y_train_dt_pred = dt_model.predict(X_train)\n",
        "print('Training set accuracy =', accuracy_score(y_train, y_train_dt_pred))\n",
        "y_valid_dt_pred = dt_model.predict(X_valid)\n",
        "print('Validation set accuracy =', accuracy_score(y_valid, y_valid_dt_pred))\n",
        "y_test_dt_pred = dt_model.predict(X_test)\n",
        "print('Test set accuracy',  accuracy_score(y_test, y_test_dt_pred))"
      ]
    },
    {
      "cell_type": "markdown",
      "metadata": {
        "id": "4pq1iCEdiTwD"
      },
      "source": [
        "In this model, the *accuracy* level in the *training set* results in a value of **80%**, in the *validation set* results in a matter of **79.2%**, and **76.6%** in the *test set* which makes the model it has passed the *threshold* specified *accuracy* level."
      ]
    },
    {
      "cell_type": "code",
      "execution_count": 24,
      "metadata": {
        "colab": {
          "base_uri": "https://localhost:8080/",
          "height": 453
        },
        "id": "2C9VWINdiTwE",
        "outputId": "079559fb-7b19-436b-d7ee-edb9085895c4",
        "scrolled": false
      },
      "outputs": [
        {
          "output_type": "stream",
          "name": "stdout",
          "text": [
            "              precision    recall  f1-score   support\n",
            "\n",
            "        Surf       0.76      0.93      0.84       317\n",
            "    Ultimate       0.78      0.45      0.57       166\n",
            "\n",
            "    accuracy                           0.77       483\n",
            "   macro avg       0.77      0.69      0.70       483\n",
            "weighted avg       0.77      0.77      0.75       483\n",
            "\n",
            "\n"
          ]
        },
        {
          "output_type": "display_data",
          "data": {
            "text/plain": [
              "<Figure size 432x288 with 2 Axes>"
            ],
            "image/png": "[encoded data removed]"
          },
          "metadata": {
            "needs_background": "light"
          }
        }
      ],
      "source": [
        "# classification report the dt model of data test\n",
        "print(classification_report(y_test, y_test_dt_pred, target_names=['Surf', 'Ultimate'])), print()\n",
        "\n",
        "# display confusion matrix of test data\n",
        "cm = confusion_matrix(y_test, y_test_dt_pred)\n",
        "disp = ConfusionMatrixDisplay(confusion_matrix = cm, display_labels = ['Surf', 'Ultimate'])\n",
        "disp.plot()\n",
        "plt.show() "
      ]
    },
    {
      "cell_type": "markdown",
      "metadata": {
        "id": "-28oE5mBiTwI"
      },
      "source": [
        "- **Precision** for the ultimate package is almost the same as for the surf package, meaning that the correct predictions for the ultimate package and the ultimate surf package are practically equivalent.\n",
        "\n",
        "- In this model, the **recall** value in the ultimate package is shallow, which means that of all the genuinely ultimate data, only a few are predicted correctly.\n",
        "\n",
        "This model is also not able to predict the ultimate package well. It might happen because our data needs to be more balanced."
      ]
    },
    {
      "cell_type": "markdown",
      "metadata": {
        "id": "nCThytaviTwK"
      },
      "source": [
        "### 4.3. Random Forest"
      ]
    },
    {
      "cell_type": "code",
      "execution_count": 25,
      "metadata": {
        "colab": {
          "base_uri": "https://localhost:8080/",
          "height": 224
        },
        "id": "Ixv1sJl5iTwL",
        "outputId": "f8f4a50a-cba5-41ba-f58e-50774ebc08d6"
      },
      "outputs": [
        {
          "output_type": "stream",
          "name": "stdout",
          "text": [
            "Random Forest Model\n"
          ]
        },
        {
          "output_type": "display_data",
          "data": {
            "text/plain": [
              "   n_estimators  train_accuracy  valid_accuracy\n",
              "0             1        0.905291        0.724066\n",
              "1             2        0.916407        0.769710\n",
              "2             3        0.955091        0.778008\n",
              "3             4        0.949755        0.769710\n",
              "4             5        0.966207        0.773859"
            ],
            "text/html": [
              "\n",
              "  <div id=\"df-b68ffe1c-2e75-4ff9-a379-a1837c51b06e\">\n",
              "    <div class=\"colab-df-container\">\n",
              "      <div>\n",
              "<style scoped>\n",
              "    .dataframe tbody tr th:only-of-type {\n",
              "        vertical-align: middle;\n",
              "    }\n",
              "\n",
              "    .dataframe tbody tr th {\n",
              "        vertical-align: top;\n",
              "    }\n",
              "\n",
              "    .dataframe thead th {\n",
              "        text-align: right;\n",
              "    }\n",
              "</style>\n",
              "<table border=\"1\" class=\"dataframe\">\n",
              "  <thead>\n",
              "    <tr style=\"text-align: right;\">\n",
              "      <th></th>\n",
              "      <th>n_estimators</th>\n",
              "      <th>train_accuracy</th>\n",
              "      <th>valid_accuracy</th>\n",
              "    </tr>\n",
              "  </thead>\n",
              "  <tbody>\n",
              "    <tr>\n",
              "      <th>0</th>\n",
              "      <td>1</td>\n",
              "      <td>0.905291</td>\n",
              "      <td>0.724066</td>\n",
              "    </tr>\n",
              "    <tr>\n",
              "      <th>1</th>\n",
              "      <td>2</td>\n",
              "      <td>0.916407</td>\n",
              "      <td>0.769710</td>\n",
              "    </tr>\n",
              "    <tr>\n",
              "      <th>2</th>\n",
              "      <td>3</td>\n",
              "      <td>0.955091</td>\n",
              "      <td>0.778008</td>\n",
              "    </tr>\n",
              "    <tr>\n",
              "      <th>3</th>\n",
              "      <td>4</td>\n",
              "      <td>0.949755</td>\n",
              "      <td>0.769710</td>\n",
              "    </tr>\n",
              "    <tr>\n",
              "      <th>4</th>\n",
              "      <td>5</td>\n",
              "      <td>0.966207</td>\n",
              "      <td>0.773859</td>\n",
              "    </tr>\n",
              "  </tbody>\n",
              "</table>\n",
              "</div>\n",
              "      <button class=\"colab-df-convert\" onclick=\"convertToInteractive('df-b68ffe1c-2e75-4ff9-a379-a1837c51b06e')\"\n",
              "              title=\"Convert this dataframe to an interactive table.\"\n",
              "              style=\"display:none;\">\n",
              "        \n",
              "  <svg xmlns=\"http://www.w3.org/2000/svg\" height=\"24px\"viewBox=\"0 0 24 24\"\n",
              "       width=\"24px\">\n",
              "    <path d=\"M0 0h24v24H0V0z\" fill=\"none\"/>\n",
              "    <path d=\"M18.56 5.44l.94 2.06.94-2.06 2.06-.94-2.06-.94-.94-2.06-.94 2.06-2.06.94zm-11 1L8.5 8.5l.94-2.06 2.06-.94-2.06-.94L8.5 2.5l-.94 2.06-2.06.94zm10 10l.94 2.06.94-2.06 2.06-.94-2.06-.94-.94-2.06-.94 2.06-2.06.94z\"/><path d=\"M17.41 7.96l-1.37-1.37c-.4-.4-.92-.59-1.43-.59-.52 0-1.04.2-1.43.59L10.3 9.45l-7.72 7.72c-.78.78-.78 2.05 0 2.83L4 21.41c.39.39.9.59 1.41.59.51 0 1.02-.2 1.41-.59l7.78-7.78 2.81-2.81c.8-.78.8-2.07 0-2.86zM5.41 20L4 18.59l7.72-7.72 1.47 1.35L5.41 20z\"/>\n",
              "  </svg>\n",
              "      </button>\n",
              "      \n",
              "  <style>\n",
              "    .colab-df-container {\n",
              "      display:flex;\n",
              "      flex-wrap:wrap;\n",
              "      gap: 12px;\n",
              "    }\n",
              "\n",
              "    .colab-df-convert {\n",
              "      background-color: #E8F0FE;\n",
              "      border: none;\n",
              "      border-radius: 50%;\n",
              "      cursor: pointer;\n",
              "      display: none;\n",
              "      fill: #1967D2;\n",
              "      height: 32px;\n",
              "      padding: 0 0 0 0;\n",
              "      width: 32px;\n",
              "    }\n",
              "\n",
              "    .colab-df-convert:hover {\n",
              "      background-color: #E2EBFA;\n",
              "      box-shadow: 0px 1px 2px rgba(60, 64, 67, 0.3), 0px 1px 3px 1px rgba(60, 64, 67, 0.15);\n",
              "      fill: #174EA6;\n",
              "    }\n",
              "\n",
              "    [theme=dark] .colab-df-convert {\n",
              "      background-color: #3B4455;\n",
              "      fill: #D2E3FC;\n",
              "    }\n",
              "\n",
              "    [theme=dark] .colab-df-convert:hover {\n",
              "      background-color: #434B5C;\n",
              "      box-shadow: 0px 1px 3px 1px rgba(0, 0, 0, 0.15);\n",
              "      filter: drop-shadow(0px 1px 2px rgba(0, 0, 0, 0.3));\n",
              "      fill: #FFFFFF;\n",
              "    }\n",
              "  </style>\n",
              "\n",
              "      <script>\n",
              "        const buttonEl =\n",
              "          document.querySelector('#df-b68ffe1c-2e75-4ff9-a379-a1837c51b06e button.colab-df-convert');\n",
              "        buttonEl.style.display =\n",
              "          google.colab.kernel.accessAllowed ? 'block' : 'none';\n",
              "\n",
              "        async function convertToInteractive(key) {\n",
              "          const element = document.querySelector('#df-b68ffe1c-2e75-4ff9-a379-a1837c51b06e');\n",
              "          const dataTable =\n",
              "            await google.colab.kernel.invokeFunction('convertToInteractive',\n",
              "                                                     [key], {});\n",
              "          if (!dataTable) return;\n",
              "\n",
              "          const docLinkHtml = 'Like what you see? Visit the ' +\n",
              "            '<a target=\"_blank\" href=https://colab.research.google.com/notebooks/data_table.ipynb>data table notebook</a>'\n",
              "            + ' to learn more about interactive tables.';\n",
              "          element.innerHTML = '';\n",
              "          dataTable['output_type'] = 'display_data';\n",
              "          await google.colab.output.renderOutput(dataTable, element);\n",
              "          const docLink = document.createElement('div');\n",
              "          docLink.innerHTML = docLinkHtml;\n",
              "          element.appendChild(docLink);\n",
              "        }\n",
              "      </script>\n",
              "    </div>\n",
              "  </div>\n",
              "  "
            ]
          },
          "metadata": {}
        }
      ],
      "source": [
        "# accuracy score rf model training and validation set test\n",
        "print('Random Forest Model')\n",
        "rf_result = defaultdict(list)\n",
        "\n",
        "for n in range(1,6):\n",
        "    rf_model = RandomForestClassifier(random_state=42, n_estimators=n)\n",
        "    rf_model.fit(X_train, y_train) \n",
        "    rf_model_train_pred = rf_model.predict(X_train)\n",
        "    rf_model_valid_pred = rf_model.predict(X_valid)\n",
        "    rf_result['n_estimators'].append(n)\n",
        "    rf_result['train_accuracy'].append(accuracy_score(y_train, rf_model_train_pred))\n",
        "    rf_result['valid_accuracy'].append(accuracy_score(y_valid, rf_model_valid_pred))\n",
        "    \n",
        "display(pd.DataFrame(rf_result))"
      ]
    },
    {
      "cell_type": "markdown",
      "metadata": {
        "id": "oqpnVZNziTwN"
      },
      "source": [
        "The results of the **Random Forest Model** show *overfitting* in the *training set* with a value of **95%** against *validation set* resulting in a matter of **77%**, with the `n-estimator` parameter set at value **3**."
      ]
    },
    {
      "cell_type": "code",
      "execution_count": 26,
      "metadata": {
        "colab": {
          "base_uri": "https://localhost:8080/"
        },
        "id": "c8fGPxU0iTwO",
        "outputId": "d48ca799-857d-43db-b36e-5fba78232017"
      },
      "outputs": [
        {
          "output_type": "execute_result",
          "data": {
            "text/plain": [
              "RandomForestClassifier(n_estimators=3, random_state=42)"
            ]
          },
          "metadata": {},
          "execution_count": 26
        }
      ],
      "source": [
        "# create RandomForestClassifier best model\n",
        "rf_model = RandomForestClassifier(random_state=42, n_estimators=3) \n",
        "rf_model.fit(X_train, y_train)"
      ]
    },
    {
      "cell_type": "code",
      "execution_count": 27,
      "metadata": {
        "colab": {
          "base_uri": "https://localhost:8080/"
        },
        "id": "tyNZ7IYZiTwO",
        "outputId": "25fb5074-e4ee-44fd-e7aa-940a1b2a190c"
      },
      "outputs": [
        {
          "output_type": "stream",
          "name": "stdout",
          "text": [
            "Random Forest Model\n",
            "-------------------------\n",
            "Training set accuracy = 0.9550911516229436\n",
            "Validation set accuracy = 0.7780082987551867\n",
            "Test set accuracy 0.7536231884057971\n"
          ]
        }
      ],
      "source": [
        "# accuracy score rf model compare\n",
        "print('Random Forest Model')\n",
        "print('-------------------------')\n",
        "y_train_rf_pred = rf_model.predict(X_train)\n",
        "print('Training set accuracy =', accuracy_score(y_train, y_train_rf_pred))\n",
        "y_valid_rf_pred = rf_model.predict(X_valid)\n",
        "print('Validation set accuracy =', accuracy_score(y_valid, y_valid_rf_pred))\n",
        "y_test_rf_pred = rf_model.predict(X_test)\n",
        "print('Test set accuracy',  accuracy_score(y_test, y_test_rf_pred))"
      ]
    },
    {
      "cell_type": "markdown",
      "metadata": {
        "id": "aIiH9PUiiTwP"
      },
      "source": [
        "The *test set* also did not produce a significant difference by having an *accuracy* level of **75%**. Thus this model does exceed the specified *threshold* value, but *overfitting* occurs, so we cannot use this model."
      ]
    },
    {
      "cell_type": "code",
      "execution_count": 28,
      "metadata": {
        "colab": {
          "base_uri": "https://localhost:8080/",
          "height": 453
        },
        "id": "sgUh82V2iTwP",
        "outputId": "1de97022-2bbf-48f0-cd77-65fae8875020"
      },
      "outputs": [
        {
          "output_type": "stream",
          "name": "stdout",
          "text": [
            "              precision    recall  f1-score   support\n",
            "\n",
            "        Surf       0.79      0.86      0.82       317\n",
            "    Ultimate       0.67      0.55      0.61       166\n",
            "\n",
            "    accuracy                           0.75       483\n",
            "   macro avg       0.73      0.71      0.71       483\n",
            "weighted avg       0.75      0.75      0.75       483\n",
            "\n",
            "\n"
          ]
        },
        {
          "output_type": "display_data",
          "data": {
            "text/plain": [
              "<Figure size 432x288 with 2 Axes>"
            ],
            "image/png": "[encoded data removed]"
          },
          "metadata": {
            "needs_background": "light"
          }
        }
      ],
      "source": [
        "# classification report the rf model of data test\n",
        "print(classification_report(y_test, y_test_rf_pred, target_names=['Surf', 'Ultimate'])), print()\n",
        "\n",
        "# display confusion matrix of test data\n",
        "cm = confusion_matrix(y_test, y_test_rf_pred)\n",
        "disp = ConfusionMatrixDisplay(confusion_matrix = cm, display_labels = ['Surf', 'Ultimate'])\n",
        "disp.plot()\n",
        "plt.show() "
      ]
    },
    {
      "cell_type": "markdown",
      "metadata": {
        "id": "nskgnD9qiTwQ"
      },
      "source": [
        "- **Precision** in the surf package is higher than the ultimate package, meaning that the predictions in the surf package are more correct than the ultimate package. It is different from the two previous predictions.\n",
        "\n",
        "- The **recall** value in the ultimate package is lower than the surf package but higher than the two previous models, which means that only a few genuinely ultimate data are predicted correctly.\n",
        "\n",
        "This model is also unable to predict the ultimate package well. Data imbalance may affect these results."
      ]
    },
    {
      "cell_type": "markdown",
      "metadata": {
        "id": "lGhO-2HSiTwR"
      },
      "source": [
        "### 4.4. KNN"
      ]
    },
    {
      "cell_type": "code",
      "execution_count": 29,
      "metadata": {
        "colab": {
          "base_uri": "https://localhost:8080/",
          "height": 443
        },
        "id": "5uP80p2CiTwR",
        "outputId": "41202a1b-d1ac-42f4-e4ec-b21e8c0cc643"
      },
      "outputs": [
        {
          "output_type": "stream",
          "name": "stdout",
          "text": [
            "Random Forest Model\n"
          ]
        },
        {
          "output_type": "display_data",
          "data": {
            "text/plain": [
              "    n_estimators  train_accuracy  valid_accuracy\n",
              "0              1        1.000000        0.690871\n",
              "1              2        0.839484        0.744813\n",
              "2              3        0.854602        0.751037\n",
              "3              5        0.816807        0.753112\n",
              "4              7        0.807025        0.761411\n",
              "5             10        0.794131        0.761411\n",
              "6             13        0.794131        0.763485\n",
              "7             16        0.779902        0.751037\n",
              "8             21        0.779458        0.755187\n",
              "9             25        0.772788        0.755187\n",
              "10            29        0.771009        0.753112\n",
              "11            30        0.769231        0.753112"
            ],
            "text/html": [
              "\n",
              "  <div id=\"df-0cd8f10e-1876-440c-b217-bd131fb98567\">\n",
              "    <div class=\"colab-df-container\">\n",
              "      <div>\n",
              "<style scoped>\n",
              "    .dataframe tbody tr th:only-of-type {\n",
              "        vertical-align: middle;\n",
              "    }\n",
              "\n",
              "    .dataframe tbody tr th {\n",
              "        vertical-align: top;\n",
              "    }\n",
              "\n",
              "    .dataframe thead th {\n",
              "        text-align: right;\n",
              "    }\n",
              "</style>\n",
              "<table border=\"1\" class=\"dataframe\">\n",
              "  <thead>\n",
              "    <tr style=\"text-align: right;\">\n",
              "      <th></th>\n",
              "      <th>n_estimators</th>\n",
              "      <th>train_accuracy</th>\n",
              "      <th>valid_accuracy</th>\n",
              "    </tr>\n",
              "  </thead>\n",
              "  <tbody>\n",
              "    <tr>\n",
              "      <th>0</th>\n",
              "      <td>1</td>\n",
              "      <td>1.000000</td>\n",
              "      <td>0.690871</td>\n",
              "    </tr>\n",
              "    <tr>\n",
              "      <th>1</th>\n",
              "      <td>2</td>\n",
              "      <td>0.839484</td>\n",
              "      <td>0.744813</td>\n",
              "    </tr>\n",
              "    <tr>\n",
              "      <th>2</th>\n",
              "      <td>3</td>\n",
              "      <td>0.854602</td>\n",
              "      <td>0.751037</td>\n",
              "    </tr>\n",
              "    <tr>\n",
              "      <th>3</th>\n",
              "      <td>5</td>\n",
              "      <td>0.816807</td>\n",
              "      <td>0.753112</td>\n",
              "    </tr>\n",
              "    <tr>\n",
              "      <th>4</th>\n",
              "      <td>7</td>\n",
              "      <td>0.807025</td>\n",
              "      <td>0.761411</td>\n",
              "    </tr>\n",
              "    <tr>\n",
              "      <th>5</th>\n",
              "      <td>10</td>\n",
              "      <td>0.794131</td>\n",
              "      <td>0.761411</td>\n",
              "    </tr>\n",
              "    <tr>\n",
              "      <th>6</th>\n",
              "      <td>13</td>\n",
              "      <td>0.794131</td>\n",
              "      <td>0.763485</td>\n",
              "    </tr>\n",
              "    <tr>\n",
              "      <th>7</th>\n",
              "      <td>16</td>\n",
              "      <td>0.779902</td>\n",
              "      <td>0.751037</td>\n",
              "    </tr>\n",
              "    <tr>\n",
              "      <th>8</th>\n",
              "      <td>21</td>\n",
              "      <td>0.779458</td>\n",
              "      <td>0.755187</td>\n",
              "    </tr>\n",
              "    <tr>\n",
              "      <th>9</th>\n",
              "      <td>25</td>\n",
              "      <td>0.772788</td>\n",
              "      <td>0.755187</td>\n",
              "    </tr>\n",
              "    <tr>\n",
              "      <th>10</th>\n",
              "      <td>29</td>\n",
              "      <td>0.771009</td>\n",
              "      <td>0.753112</td>\n",
              "    </tr>\n",
              "    <tr>\n",
              "      <th>11</th>\n",
              "      <td>30</td>\n",
              "      <td>0.769231</td>\n",
              "      <td>0.753112</td>\n",
              "    </tr>\n",
              "  </tbody>\n",
              "</table>\n",
              "</div>\n",
              "      <button class=\"colab-df-convert\" onclick=\"convertToInteractive('df-0cd8f10e-1876-440c-b217-bd131fb98567')\"\n",
              "              title=\"Convert this dataframe to an interactive table.\"\n",
              "              style=\"display:none;\">\n",
              "        \n",
              "  <svg xmlns=\"http://www.w3.org/2000/svg\" height=\"24px\"viewBox=\"0 0 24 24\"\n",
              "       width=\"24px\">\n",
              "    <path d=\"M0 0h24v24H0V0z\" fill=\"none\"/>\n",
              "    <path d=\"M18.56 5.44l.94 2.06.94-2.06 2.06-.94-2.06-.94-.94-2.06-.94 2.06-2.06.94zm-11 1L8.5 8.5l.94-2.06 2.06-.94-2.06-.94L8.5 2.5l-.94 2.06-2.06.94zm10 10l.94 2.06.94-2.06 2.06-.94-2.06-.94-.94-2.06-.94 2.06-2.06.94z\"/><path d=\"M17.41 7.96l-1.37-1.37c-.4-.4-.92-.59-1.43-.59-.52 0-1.04.2-1.43.59L10.3 9.45l-7.72 7.72c-.78.78-.78 2.05 0 2.83L4 21.41c.39.39.9.59 1.41.59.51 0 1.02-.2 1.41-.59l7.78-7.78 2.81-2.81c.8-.78.8-2.07 0-2.86zM5.41 20L4 18.59l7.72-7.72 1.47 1.35L5.41 20z\"/>\n",
              "  </svg>\n",
              "      </button>\n",
              "      \n",
              "  <style>\n",
              "    .colab-df-container {\n",
              "      display:flex;\n",
              "      flex-wrap:wrap;\n",
              "      gap: 12px;\n",
              "    }\n",
              "\n",
              "    .colab-df-convert {\n",
              "      background-color: #E8F0FE;\n",
              "      border: none;\n",
              "      border-radius: 50%;\n",
              "      cursor: pointer;\n",
              "      display: none;\n",
              "      fill: #1967D2;\n",
              "      height: 32px;\n",
              "      padding: 0 0 0 0;\n",
              "      width: 32px;\n",
              "    }\n",
              "\n",
              "    .colab-df-convert:hover {\n",
              "      background-color: #E2EBFA;\n",
              "      box-shadow: 0px 1px 2px rgba(60, 64, 67, 0.3), 0px 1px 3px 1px rgba(60, 64, 67, 0.15);\n",
              "      fill: #174EA6;\n",
              "    }\n",
              "\n",
              "    [theme=dark] .colab-df-convert {\n",
              "      background-color: #3B4455;\n",
              "      fill: #D2E3FC;\n",
              "    }\n",
              "\n",
              "    [theme=dark] .colab-df-convert:hover {\n",
              "      background-color: #434B5C;\n",
              "      box-shadow: 0px 1px 3px 1px rgba(0, 0, 0, 0.15);\n",
              "      filter: drop-shadow(0px 1px 2px rgba(0, 0, 0, 0.3));\n",
              "      fill: #FFFFFF;\n",
              "    }\n",
              "  </style>\n",
              "\n",
              "      <script>\n",
              "        const buttonEl =\n",
              "          document.querySelector('#df-0cd8f10e-1876-440c-b217-bd131fb98567 button.colab-df-convert');\n",
              "        buttonEl.style.display =\n",
              "          google.colab.kernel.accessAllowed ? 'block' : 'none';\n",
              "\n",
              "        async function convertToInteractive(key) {\n",
              "          const element = document.querySelector('#df-0cd8f10e-1876-440c-b217-bd131fb98567');\n",
              "          const dataTable =\n",
              "            await google.colab.kernel.invokeFunction('convertToInteractive',\n",
              "                                                     [key], {});\n",
              "          if (!dataTable) return;\n",
              "\n",
              "          const docLinkHtml = 'Like what you see? Visit the ' +\n",
              "            '<a target=\"_blank\" href=https://colab.research.google.com/notebooks/data_table.ipynb>data table notebook</a>'\n",
              "            + ' to learn more about interactive tables.';\n",
              "          element.innerHTML = '';\n",
              "          dataTable['output_type'] = 'display_data';\n",
              "          await google.colab.output.renderOutput(dataTable, element);\n",
              "          const docLink = document.createElement('div');\n",
              "          docLink.innerHTML = docLinkHtml;\n",
              "          element.appendChild(docLink);\n",
              "        }\n",
              "      </script>\n",
              "    </div>\n",
              "  </div>\n",
              "  "
            ]
          },
          "metadata": {}
        }
      ],
      "source": [
        "# accuracy score knn model training setand validation set test\n",
        "print('Random Forest Model')\n",
        "knn_result = defaultdict(list)\n",
        "\n",
        "for n in [1, 2, 3, 5, 7, 10, 13, 16, 21, 25, 29, 30]:\n",
        "    knn_model = KNeighborsClassifier(n_neighbors=n)\n",
        "    knn_model.fit(X_train, y_train) \n",
        "    knn_model_train_pred = knn_model.predict(X_train)\n",
        "    knn_model_valid_pred = knn_model.predict(X_valid)\n",
        "    knn_result['n_estimators'].append(n)\n",
        "    knn_result['train_accuracy'].append(accuracy_score(y_train, knn_model_train_pred))\n",
        "    knn_result['valid_accuracy'].append(accuracy_score(y_valid, knn_model_valid_pred))\n",
        "    \n",
        "display(pd.DataFrame(knn_result))"
      ]
    },
    {
      "cell_type": "code",
      "execution_count": 30,
      "metadata": {
        "colab": {
          "base_uri": "https://localhost:8080/"
        },
        "id": "gGKrvpIoiTwS",
        "outputId": "6ebc16d5-285c-4c5f-bc39-056b0afd50c2"
      },
      "outputs": [
        {
          "output_type": "execute_result",
          "data": {
            "text/plain": [
              "KNeighborsClassifier(n_neighbors=30)"
            ]
          },
          "metadata": {},
          "execution_count": 30
        }
      ],
      "source": [
        "# create the best KNeighborsClassifier model\n",
        "knn_model = KNeighborsClassifier(n_neighbors=30)\n",
        "knn_model.fit(X_train, y_train)"
      ]
    },
    {
      "cell_type": "markdown",
      "metadata": {
        "id": "tqvSocRbiTwS"
      },
      "source": [
        "The results of the **K-Nearest Neighbors Classifier Model** produce a reasonably good *accuracy* level on *training test* of **76.9%**, and on *validation testing*, make an accuracy rate of **75%**. These numbers meet the threshold criteria of the specified minimum *accuracy* level, and if overfitting does not occur, then we will apply them to the *test set*."
      ]
    },
    {
      "cell_type": "code",
      "execution_count": 31,
      "metadata": {
        "colab": {
          "base_uri": "https://localhost:8080/"
        },
        "id": "94ruoSQtiTwT",
        "outputId": "42db3982-f139-4ce2-96a8-bdd83a5563d6"
      },
      "outputs": [
        {
          "output_type": "stream",
          "name": "stdout",
          "text": [
            "K-Nearest Neighbors Model\n",
            "-------------------------\n",
            "Training set accuracy = 0.7692307692307693\n",
            "Validation set accuracy = 0.7531120331950207\n",
            "Test set accuracy 0.7184265010351967\n"
          ]
        }
      ],
      "source": [
        "# accuracy score knn model compare\n",
        "print('K-Nearest Neighbors Model')\n",
        "print('-------------------------')\n",
        "y_train_knn_pred = knn_model.predict(X_train)\n",
        "print('Training set accuracy =', accuracy_score(y_train, y_train_knn_pred))\n",
        "y_valid_knn_pred = knn_model.predict(X_valid)\n",
        "print('Validation set accuracy =', accuracy_score(y_valid, y_valid_knn_pred))\n",
        "y_test_knn_pred = knn_model.predict(X_test)\n",
        "print('Test set accuracy',  accuracy_score(y_test, y_test_knn_pred))"
      ]
    },
    {
      "cell_type": "markdown",
      "metadata": {
        "id": "mEpOXmkKiTwT"
      },
      "source": [
        "The *test set* presents unfavorable results because the *accuracy* level drops significantly below the *threshold* with the number **71.8%**, which makes this model we cannot use as *machine learning*."
      ]
    },
    {
      "cell_type": "code",
      "execution_count": 32,
      "metadata": {
        "colab": {
          "base_uri": "https://localhost:8080/",
          "height": 453
        },
        "id": "aZ6-XjKtiTwU",
        "outputId": "0df42409-b557-43b2-c71f-d2b1f753d355",
        "scrolled": false
      },
      "outputs": [
        {
          "output_type": "stream",
          "name": "stdout",
          "text": [
            "              precision    recall  f1-score   support\n",
            "\n",
            "        Surf       0.71      0.97      0.82       317\n",
            "    Ultimate       0.79      0.25      0.38       166\n",
            "\n",
            "    accuracy                           0.72       483\n",
            "   macro avg       0.75      0.61      0.60       483\n",
            "weighted avg       0.74      0.72      0.67       483\n",
            "\n",
            "\n"
          ]
        },
        {
          "output_type": "display_data",
          "data": {
            "text/plain": [
              "<Figure size 432x288 with 2 Axes>"
            ],
            "image/png": "[encoded data removed]"
          },
          "metadata": {
            "needs_background": "light"
          }
        }
      ],
      "source": [
        "# classification report the knn model of data test\n",
        "print(classification_report(y_test, y_test_knn_pred, target_names=['Surf', 'Ultimate'])), print()\n",
        "\n",
        "# display confusion matrix of test data\n",
        "cm = confusion_matrix(y_test, y_test_knn_pred)\n",
        "disp = ConfusionMatrixDisplay(confusion_matrix = cm, display_labels = ['Surf', 'Ultimate'])\n",
        "disp.plot()\n",
        "plt.show() "
      ]
    },
    {
      "cell_type": "markdown",
      "metadata": {
        "id": "YT16oZfYiTwV"
      },
      "source": [
        "\n",
        "- In this model, the results of the **classification report** are almost the same as the results of the **logistic regression** model; **precision** in the ultimate package is higher than the surf package, meaning that the predictions in the ultimate package are more correct than the surf.\n",
        "\n",
        "- Similar results were obtained for the recall value in the ultimate package, which was very low, implying that only a small percentage of the genuinely ultimate data was correctly predicted.\n",
        "\n",
        "- This model needs to be able to predict the ultimate package correctly, and unbalanced data can cause this.\n",
        "\n"
      ]
    },
    {
      "cell_type": "markdown",
      "source": [
        "## 5. Perform Sanity Check"
      ],
      "metadata": {
        "id": "s5fNseAeZeWJ"
      }
    },
    {
      "cell_type": "markdown",
      "source": [
        "We will be doing a dummy classifier to make predictions without trying to find patterns in the data. The default model looks at what labels are most frequent in the training dataset and makes predictions based on those labels."
      ],
      "metadata": {
        "id": "qSGrzpJsdXTr"
      }
    },
    {
      "cell_type": "code",
      "source": [
        "# create the dummy classifier model\n",
        "dummy_model = DummyClassifier(random_state=42) \n",
        "dummy_model.fit(X_train, y_train)"
      ],
      "metadata": {
        "colab": {
          "base_uri": "https://localhost:8080/"
        },
        "id": "YyDee7dkaMZ1",
        "outputId": "c0f81fe1-38c7-4f03-c109-00ada7dcc927"
      },
      "execution_count": 33,
      "outputs": [
        {
          "output_type": "execute_result",
          "data": {
            "text/plain": [
              "DummyClassifier(random_state=42)"
            ]
          },
          "metadata": {},
          "execution_count": 33
        }
      ]
    },
    {
      "cell_type": "code",
      "source": [
        "# accuracy score dummy model compare\n",
        "print('Dummy Classifier Model')\n",
        "print('-------------------------')\n",
        "y_train_dummy_pred = dummy_model.predict(X_train)\n",
        "print('Training set accuracy =', accuracy_score(y_train, y_train_dummy_pred))\n",
        "y_valid_dummy_pred = dummy_model.predict(X_valid)\n",
        "print('Validation set accuracy =', accuracy_score(y_valid, y_valid_dummy_pred))\n",
        "y_test_dummy_pred = dummy_model.predict(X_test)\n",
        "print('Test set accuracy',  accuracy_score(y_test, y_test_dummy_pred))"
      ],
      "metadata": {
        "colab": {
          "base_uri": "https://localhost:8080/"
        },
        "id": "qqKbRhnka9R2",
        "outputId": "f4582b8d-00ad-4a7d-e329-b9fc74bd3838"
      },
      "execution_count": 34,
      "outputs": [
        {
          "output_type": "stream",
          "name": "stdout",
          "text": [
            "Dummy Classifier Model\n",
            "-------------------------\n",
            "Training set accuracy = 0.7038683859493108\n",
            "Validation set accuracy = 0.6825726141078838\n",
            "Test set accuracy 0.6563146997929606\n"
          ]
        }
      ]
    },
    {
      "cell_type": "code",
      "source": [
        "# classification report the dummy model of data test\n",
        "print(classification_report(y_test, y_test_dummy_pred, target_names=['Surf', 'Ultimate'])), print()\n",
        "\n",
        "# display confusion matrix of test data\n",
        "cm = confusion_matrix(y_test, y_test_dummy_pred)\n",
        "disp = ConfusionMatrixDisplay(confusion_matrix = cm, display_labels = ['Surf', 'Ultimate'])\n",
        "disp.plot()\n",
        "plt.show() "
      ],
      "metadata": {
        "colab": {
          "base_uri": "https://localhost:8080/",
          "height": 453
        },
        "id": "Oe0NJH5kbbZ5",
        "outputId": "322d0139-939f-4bb3-fb84-4a3649866a25"
      },
      "execution_count": 35,
      "outputs": [
        {
          "output_type": "stream",
          "name": "stdout",
          "text": [
            "              precision    recall  f1-score   support\n",
            "\n",
            "        Surf       0.66      1.00      0.79       317\n",
            "    Ultimate       0.00      0.00      0.00       166\n",
            "\n",
            "    accuracy                           0.66       483\n",
            "   macro avg       0.33      0.50      0.40       483\n",
            "weighted avg       0.43      0.66      0.52       483\n",
            "\n",
            "\n"
          ]
        },
        {
          "output_type": "display_data",
          "data": {
            "text/plain": [
              "<Figure size 432x288 with 2 Axes>"
            ],
            "image/png": "[encoded data removed]"
          },
          "metadata": {
            "needs_background": "light"
          }
        }
      ]
    },
    {
      "cell_type": "markdown",
      "source": [
        "Kita mendapatkan hasil untuk accuracy pada baseline model kita sebesar **65%**. Model ini selalu mengembalikan label ke dalam kelas yang paling sering muncul dalam pengamatan."
      ],
      "metadata": {
        "id": "GGdch1HibwG9"
      }
    },
    {
      "cell_type": "markdown",
      "metadata": {
        "id": "1Pk9EbU3iTwV"
      },
      "source": [
        "#Conclusions\n",
        "\n",
        "**1. Data Preparation**\n",
        "- We start by loading a dataset consisting of **4** columns and **3214** rows. There are 4 columns described as **float**, i.e., `calls`, `minutes`, `messages`, and `mb_used `.\n",
        "- We change the `calls` column, which contains the number of calls, and `messages`, which contains the number of sent messages to **int**.\n",
        "\n",
        "**2. EDA and Data Visualization**\n",
        "- From the graph of the number of calls made, the average user makes **30-80** calls in one month.\n",
        "- The average user spends **250-500** minutes on calls in a month.\n",
        "- On average, users of both packages do not use their text message quota; it might be because they have switched to *instant* messaging or *chatting* applications using internet data.\n",
        "- Data users use on both plans is around the rate of **10,000-20,000 mb** in one month.\n",
        "\n",
        "**3. Split the Data**\n",
        "- We use the `fast_ml.model_development` library to divide the data directly into **3** types in the proportion **70%** *training set*, **15%** *validation set*, and **15%* * for *test sets*.\n",
        "\n",
        "**4. Models**\n",
        "\n",
        "We use several models with several settings in the parameters to get the best results:\n",
        "\n",
        "1. The results of the **Logistic Regression Model** produce an *accuracy* level of **75%** for *training test* and **74%** for *validation test* by setting **newton-cg** on the `solver` parameter. The results of applying the model to the *test set* data were unable to increase the *accuracy* level, and the *accuracy* continued to decrease to **70.8%**, which made this model ineligible to be used as a *machine learning* model.\n",
        "\n",
        "2. From several *looping* processes that we use in the **Decision Tree Model** we set the **max_dept** parameter with *range* **1-11** and get some *accuracy* level results then we set using value **max_depth = 3**. In this model, the *accuracy* level in the *training set* results in a value of **80%**, in the *validation set* results in a value of **79.2%**, and **76.6%** in the *test set* which makes the model it has passed the *threshold* specified *accuracy* level.\n",
        "\n",
        "3. The results of the **Random Forest Model** show *overfitting* in the *training set* with a value of **95%** against *validation set* resulting in a value of **77%**, with the `n-estimator` parameter set at value **3**. The *test set* also did not produce a significant difference by producing an *accuracy* level of **75%**. Thus this model does exceed the specified *threshold* value, but *overfitting* occurs, so we cannot use this model.\n",
        "\n",
        "4. The results of **K-Nearest Neighbors Classifier Model** produce a fairly good *accuracy* level on *training test* of **76.9%**, on *validation testing* produce an accuracy rate of **75%** . The *test set* presents unfavorable results because the *accuracy* level drops significantly below the *threshold* with the number **71.8%**, which makes this model we cannot use as *machine learning*.\n",
        "\n",
        "All the accuracy results of the above models have surpassed the results of our dummy models.\n",
        "\n",
        "**Main Conclusion**\n",
        "\n",
        "We find the best model with the highest *accuracy* value and lowest *margin* in the **Decision Tree Model** with the `max_dept` parameter set to **3**."
      ]
    }
  ],
  "metadata": {
    "colab": {
      "provenance": []
    },
    "kernelspec": {
      "display_name": "Python 3 (ipykernel)",
      "language": "python",
      "name": "python3"
    },
    "language_info": {
      "codemirror_mode": {
        "name": "ipython",
        "version": 3
      },
      "file_extension": ".py",
      "mimetype": "text/x-python",
      "name": "python",
      "nbconvert_exporter": "python",
      "pygments_lexer": "ipython3",
      "version": "3.10.6"
    },
    "toc": {
      "base_numbering": 1,
      "nav_menu": {},
      "number_sections": true,
      "sideBar": true,
      "skip_h1_title": true,
      "title_cell": "Table of Contents",
      "title_sidebar": "Contents",
      "toc_cell": false,
      "toc_position": {},
      "toc_section_display": true,
      "toc_window_display": false
    }
  },
  "nbformat": 4,
  "nbformat_minor": 0
}