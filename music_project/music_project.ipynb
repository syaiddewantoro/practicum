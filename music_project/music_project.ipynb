{
 "cells": [
  {
   "cell_type": "markdown",
   "metadata": {
    "id": "E0vqbgi9ay0H"
   },
   "source": [
    "# Y.Music"
   ]
  },
  {
   "cell_type": "markdown",
   "metadata": {
    "id": "fhq_eyov_Zcs"
   },
   "source": [
    "# Konten <a id='back'></a>\n",
    "\n",
    "* [Pendahuluan](#intro)\n",
    "* [Tahap 1. Ikhtisar data](#data_review)\n",
    "    * [Kesimpulan](#data_review_conclusions)\n",
    "* [Tahap 2. Pra-pemrosesan data](#data_preprocessing)\n",
    "    * [2.1 Gaya penulisan judul](#header_style)\n",
    "    * [2.2 Nilai-nilai yang hilang](#missing_values)\n",
    "    * [2.3 Duplikat](#duplicates)\n",
    "    * [2.4 Kesimpulan](#data_preprocessing_conclusions)\n",
    "* [Tahap 3. Menguji hipotesis](#hypotheses)\n",
    "    * [3.1 Hipotesis 1: aktivitas pengguna di dua kota](#activity)\n",
    "    * [3.2 Hipotesis 2: preferensi musik pada hari Senin dan Jumat](#week)\n",
    "    * [3.3 Hipotesis 3: preferensi genre di kota Springfield dan Shelbyville](#genre)\n",
    "* [Temuan](#end)"
   ]
  },
  {
   "cell_type": "markdown",
   "metadata": {
    "id": "VUC88oWjTJw2"
   },
   "source": [
    "## Pendahuluan <a id='intro'></a>\n",
    "Setiap kali kita melakukan penelitian, kita perlu merumuskan hipotesis yang kemudian dapat kita uji. Terkadang kita menerima hipotesis ini; tetapi terkadang kita juga menolaknya. Untuk membuat keputusan yang tepat, sebuah bisnis harus dapat memahami apakah asumsi yang dibuatnya benar atau tidak.\n",
    "\n",
    "Dalam proyek kali ini, Anda akan membandingkan preferensi musik kota Springfield dan Shelbyville. Anda akan mempelajari data Y.Music yang sebenarnya untuk menguji hipotesis di bawah ini dan membandingkan perilaku pengguna di kedua kota ini.\n",
    "\n",
    "### Tujuan: \n",
    "Menguji tiga hipotesis:\n",
    "1. Aktivitas pengguna berbeda-beda tergantung pada hari dan kotanya.\n",
    "2. Pada senin pagi, penduduk Springfield dan Shelbyville mendengarkan genre yang berbeda. Hal ini juga ini juga berlaku untuk Jumat malam.\n",
    "3. Pendengar di Springfield dan Shelbyville memiliki preferensi yang berbeda. Di Springfield, mereka lebih suka musik pop, sementara Shelbyville, musik rap memiliki lebih banyak penggemar.\n",
    "\n",
    "### Tahapan\n",
    "Data tentang perilaku pengguna disimpan dalam berkas `/datasets/music_project_en.csv`. Tidak ada informasi tentang kualitas data, jadi Anda perlu memeriksanya lebih dahulu sebelum menguji hipotesis.\n",
    "\n",
    "Pertama, Anda akan mengevaluasi kualitas data dan melihat apakah masalahnya signifikan. Kemudian, selama pra-pemrosesan data, Anda akan mencoba memperhitungkan masalah yang paling serius.\n",
    " \n",
    "Proyek ini akan terdiri dari tiga tahap:\n",
    " 1. Ikhtisar data\n",
    " 2. Pra-pemrosesan data\n",
    " 3. Menguji hipotesis\n",
    "\n",
    " \n",
    "[Kembali ke Daftar Isi](#back)"
   ]
  },
  {
   "cell_type": "markdown",
   "metadata": {
    "id": "Ml1hmfXC_Zcs"
   },
   "source": [
    "## Tahap 1. Ikhtisar data <a id='data_review'></a>\n",
    "\n",
    "Buka data di Y.Music lalu jelajahi data yang ada di sana."
   ]
  },
  {
   "cell_type": "markdown",
   "metadata": {
    "id": "57eAOGIz_Zcs"
   },
   "source": [
    "Anda akan membutuhkan `pandas`, jadi Anda harus mengimpornya."
   ]
  },
  {
   "cell_type": "code",
   "execution_count": 7,
   "metadata": {
    "id": "AXN7PHPN_Zcs"
   },
   "outputs": [],
   "source": [
    "# mengimpor pandas\n",
    "import pandas as pd"
   ]
  },
  {
   "cell_type": "markdown",
   "metadata": {
    "id": "SG23P8tt_Zcs"
   },
   "source": [
    "Baca file `music_project_en.csv` dari folder `/datasets/` lalu simpan di variabel `df`:"
   ]
  },
  {
   "cell_type": "code",
   "execution_count": 8,
   "metadata": {
    "id": "fFVu7vqh_Zct"
   },
   "outputs": [],
   "source": [
    "# membaca berkas dan menyimpannya ke df\n",
    "df = pd.read_csv('/home/syaid/Downloads/music_project_en.csv')"
   ]
  },
  {
   "cell_type": "markdown",
   "metadata": {
    "id": "rDoOMd3uTqnZ"
   },
   "source": [
    "Tampilkan 10 baris tabel pertama:"
   ]
  },
  {
   "cell_type": "code",
   "execution_count": 9,
   "metadata": {
    "colab": {
     "base_uri": "https://localhost:8080/",
     "height": 363
    },
    "id": "oWTVX3gW_Zct",
    "outputId": "9615ac3e-8082-4aa5-cdab-d84889a1bc4d",
    "scrolled": true
   },
   "outputs": [
    {
     "data": {
      "text/html": [
       "<div>\n",
       "<style scoped>\n",
       "    .dataframe tbody tr th:only-of-type {\n",
       "        vertical-align: middle;\n",
       "    }\n",
       "\n",
       "    .dataframe tbody tr th {\n",
       "        vertical-align: top;\n",
       "    }\n",
       "\n",
       "    .dataframe thead th {\n",
       "        text-align: right;\n",
       "    }\n",
       "</style>\n",
       "<table border=\"1\" class=\"dataframe\">\n",
       "  <thead>\n",
       "    <tr style=\"text-align: right;\">\n",
       "      <th></th>\n",
       "      <th>userID</th>\n",
       "      <th>Track</th>\n",
       "      <th>artist</th>\n",
       "      <th>genre</th>\n",
       "      <th>City</th>\n",
       "      <th>time</th>\n",
       "      <th>Day</th>\n",
       "    </tr>\n",
       "  </thead>\n",
       "  <tbody>\n",
       "    <tr>\n",
       "      <th>0</th>\n",
       "      <td>FFB692EC</td>\n",
       "      <td>Kamigata To Boots</td>\n",
       "      <td>The Mass Missile</td>\n",
       "      <td>rock</td>\n",
       "      <td>Shelbyville</td>\n",
       "      <td>20:28:33</td>\n",
       "      <td>Wednesday</td>\n",
       "    </tr>\n",
       "    <tr>\n",
       "      <th>1</th>\n",
       "      <td>55204538</td>\n",
       "      <td>Delayed Because of Accident</td>\n",
       "      <td>Andreas Rönnberg</td>\n",
       "      <td>rock</td>\n",
       "      <td>Springfield</td>\n",
       "      <td>14:07:09</td>\n",
       "      <td>Friday</td>\n",
       "    </tr>\n",
       "    <tr>\n",
       "      <th>2</th>\n",
       "      <td>20EC38</td>\n",
       "      <td>Funiculì funiculà</td>\n",
       "      <td>Mario Lanza</td>\n",
       "      <td>pop</td>\n",
       "      <td>Shelbyville</td>\n",
       "      <td>20:58:07</td>\n",
       "      <td>Wednesday</td>\n",
       "    </tr>\n",
       "    <tr>\n",
       "      <th>3</th>\n",
       "      <td>A3DD03C9</td>\n",
       "      <td>Dragons in the Sunset</td>\n",
       "      <td>Fire + Ice</td>\n",
       "      <td>folk</td>\n",
       "      <td>Shelbyville</td>\n",
       "      <td>08:37:09</td>\n",
       "      <td>Monday</td>\n",
       "    </tr>\n",
       "    <tr>\n",
       "      <th>4</th>\n",
       "      <td>E2DC1FAE</td>\n",
       "      <td>Soul People</td>\n",
       "      <td>Space Echo</td>\n",
       "      <td>dance</td>\n",
       "      <td>Springfield</td>\n",
       "      <td>08:34:34</td>\n",
       "      <td>Monday</td>\n",
       "    </tr>\n",
       "    <tr>\n",
       "      <th>5</th>\n",
       "      <td>842029A1</td>\n",
       "      <td>Chains</td>\n",
       "      <td>Obladaet</td>\n",
       "      <td>rusrap</td>\n",
       "      <td>Shelbyville</td>\n",
       "      <td>13:09:41</td>\n",
       "      <td>Friday</td>\n",
       "    </tr>\n",
       "    <tr>\n",
       "      <th>6</th>\n",
       "      <td>4CB90AA5</td>\n",
       "      <td>True</td>\n",
       "      <td>Roman Messer</td>\n",
       "      <td>dance</td>\n",
       "      <td>Springfield</td>\n",
       "      <td>13:00:07</td>\n",
       "      <td>Wednesday</td>\n",
       "    </tr>\n",
       "    <tr>\n",
       "      <th>7</th>\n",
       "      <td>F03E1C1F</td>\n",
       "      <td>Feeling This Way</td>\n",
       "      <td>Polina Griffith</td>\n",
       "      <td>dance</td>\n",
       "      <td>Springfield</td>\n",
       "      <td>20:47:49</td>\n",
       "      <td>Wednesday</td>\n",
       "    </tr>\n",
       "    <tr>\n",
       "      <th>8</th>\n",
       "      <td>8FA1D3BE</td>\n",
       "      <td>L’estate</td>\n",
       "      <td>Julia Dalia</td>\n",
       "      <td>ruspop</td>\n",
       "      <td>Springfield</td>\n",
       "      <td>09:17:40</td>\n",
       "      <td>Friday</td>\n",
       "    </tr>\n",
       "    <tr>\n",
       "      <th>9</th>\n",
       "      <td>E772D5C0</td>\n",
       "      <td>Pessimist</td>\n",
       "      <td>NaN</td>\n",
       "      <td>dance</td>\n",
       "      <td>Shelbyville</td>\n",
       "      <td>21:20:49</td>\n",
       "      <td>Wednesday</td>\n",
       "    </tr>\n",
       "  </tbody>\n",
       "</table>\n",
       "</div>"
      ],
      "text/plain": [
       "     userID                        Track            artist   genre  \\\n",
       "0  FFB692EC            Kamigata To Boots  The Mass Missile    rock   \n",
       "1  55204538  Delayed Because of Accident  Andreas Rönnberg    rock   \n",
       "2    20EC38            Funiculì funiculà       Mario Lanza     pop   \n",
       "3  A3DD03C9        Dragons in the Sunset        Fire + Ice    folk   \n",
       "4  E2DC1FAE                  Soul People        Space Echo   dance   \n",
       "5  842029A1                       Chains          Obladaet  rusrap   \n",
       "6  4CB90AA5                         True      Roman Messer   dance   \n",
       "7  F03E1C1F             Feeling This Way   Polina Griffith   dance   \n",
       "8  8FA1D3BE                     L’estate       Julia Dalia  ruspop   \n",
       "9  E772D5C0                    Pessimist               NaN   dance   \n",
       "\n",
       "        City        time        Day  \n",
       "0  Shelbyville  20:28:33  Wednesday  \n",
       "1  Springfield  14:07:09     Friday  \n",
       "2  Shelbyville  20:58:07  Wednesday  \n",
       "3  Shelbyville  08:37:09     Monday  \n",
       "4  Springfield  08:34:34     Monday  \n",
       "5  Shelbyville  13:09:41     Friday  \n",
       "6  Springfield  13:00:07  Wednesday  \n",
       "7  Springfield  20:47:49  Wednesday  \n",
       "8  Springfield  09:17:40     Friday  \n",
       "9  Shelbyville  21:20:49  Wednesday  "
      ]
     },
     "execution_count": 9,
     "metadata": {},
     "output_type": "execute_result"
    }
   ],
   "source": [
    "# memperoleh 10 baris pertama dari tabel df\n",
    "df.head(10)"
   ]
  },
  {
   "cell_type": "markdown",
   "metadata": {
    "id": "EO73Kwic_Zct"
   },
   "source": [
    "Memperoleh informasi umum tentang tabel dengan satu perintah:"
   ]
  },
  {
   "cell_type": "code",
   "execution_count": 10,
   "metadata": {
    "colab": {
     "base_uri": "https://localhost:8080/"
    },
    "id": "DSf2kIb-_Zct",
    "outputId": "22fca9a2-3d16-4911-e41b-f4b334baab21",
    "scrolled": true
   },
   "outputs": [
    {
     "name": "stdout",
     "output_type": "stream",
     "text": [
      "<class 'pandas.core.frame.DataFrame'>\n",
      "RangeIndex: 65079 entries, 0 to 65078\n",
      "Data columns (total 7 columns):\n",
      " #   Column    Non-Null Count  Dtype \n",
      "---  ------    --------------  ----- \n",
      " 0     userID  65079 non-null  object\n",
      " 1   Track     63736 non-null  object\n",
      " 2   artist    57512 non-null  object\n",
      " 3   genre     63881 non-null  object\n",
      " 4     City    65079 non-null  object\n",
      " 5   time      65079 non-null  object\n",
      " 6   Day       65079 non-null  object\n",
      "dtypes: object(7)\n",
      "memory usage: 3.5+ MB\n"
     ]
    }
   ],
   "source": [
    "# memperoleh informasi umum tentang data di df\n",
    "df.info()"
   ]
  },
  {
   "cell_type": "markdown",
   "metadata": {
    "id": "TaQ2Iwbr_Zct"
   },
   "source": [
    "Tabel ini berisi tujuh kolom. Semuanya menyimpan tipe data yang sama, yaitu: `objek`.\n",
    "\n",
    "Berdasarkan dokumentasi:\n",
    "- `'userID'` — pengenal pengguna\n",
    "- `'Track'` — judul trek\n",
    "- `'artist'` — nama artis\n",
    "- `'genre'`\n",
    "- `'City'` — kota tempat pengguna berada\n",
    "- `'time'` — lama waktu lagu tersebut dimainkan\n",
    "- `'Day'` — nama hari\n",
    "\n",
    "Kita dapat melihat tiga masalah dengan gaya penulisan nama kolom:\n",
    "1. Beberapa nama huruf besar, beberapa huruf kecil.\n",
    "2. Ada penggunaan spasi pada beberapa nama.\n",
    "3. Kolom yang terdiri dari beberapa kata tidak dipisah.\n",
    "\n",
    "Jumlah nilai kolom berbeda. Ini berarti data mengandung nilai yang hilang.\n"
   ]
  },
  {
   "cell_type": "markdown",
   "metadata": {
    "id": "MCB6-dXG_Zct"
   },
   "source": [
    "### Kesimpulan <a id='data_review_conclusions'></a> \n",
    "\n",
    "Setiap baris dalam tabel menyimpan data pada lagu yang dimainkan. Beberapa kolom menggambarkan lagu itu sendiri: judul, artis, dan genre. Sisanya menyampaikan informasi tentang pengguna: kota asal mereka, waktu mereka memutar lagu.\n",
    "\n",
    "Jelas bahwa data tersebut cukup untuk menguji hipotesis. Namun, ada nilai-nilai yang hilang.\n",
    "\n",
    "Selanjutnya, kita perlu melakukan pra-pemrosesan data terlebih dahulu."
   ]
  },
  {
   "cell_type": "markdown",
   "metadata": {
    "id": "3eL__vcwViOi"
   },
   "source": [
    "[Kembali ke Daftar Isi](#back)"
   ]
  },
  {
   "cell_type": "markdown",
   "metadata": {
    "id": "SjYF6Ub9_Zct"
   },
   "source": [
    "## Tahap 2. Pra-pemrosesan data <a id='data_preprocessing'></a>\n",
    "Perbaiki format pada judul kolom dan atasi nilai yang hilang. Kemudian, periksa apakah ada duplikat dalam data."
   ]
  },
  {
   "cell_type": "markdown",
   "metadata": {
    "id": "dIaKXr29_Zct"
   },
   "source": [
    "### Gaya penulisan judul <a id='header_style'></a>\n",
    "Tampilkan judul kolom:\n"
   ]
  },
  {
   "cell_type": "code",
   "execution_count": 11,
   "metadata": {
    "colab": {
     "base_uri": "https://localhost:8080/"
    },
    "id": "oKOTdF_Q_Zct",
    "outputId": "6d355ec3-934b-4f73-ec0f-0d5b53265bfd"
   },
   "outputs": [
    {
     "data": {
      "text/plain": [
       "Index(['  userID', 'Track', 'artist', 'genre', '  City  ', 'time', 'Day'], dtype='object')"
      ]
     },
     "execution_count": 11,
     "metadata": {},
     "output_type": "execute_result"
    }
   ],
   "source": [
    "# daftar nama kolom di tabel df\n",
    "df.columns"
   ]
  },
  {
   "cell_type": "markdown",
   "metadata": {
    "id": "zj5534cv_Zct"
   },
   "source": [
    "Ubah nama kolom sesuai dengan aturan gaya penulisan yang baik:\n",
    "* Jika nama memiliki beberapa kata, gunakan snake_case\n",
    "* Semua karakter harus menggunakan huruf kecil\n",
    "* Hapus spasi"
   ]
  },
  {
   "cell_type": "code",
   "execution_count": 12,
   "metadata": {
    "id": "ISlFqs5y_Zct"
   },
   "outputs": [],
   "source": [
    "# mengganti nama kolom\n",
    "\n",
    "df.rename(columns={'  userID': 'user_id', 'Track': 'track', '  City  ': 'city', 'Day': 'day'}, inplace=True)"
   ]
  },
  {
   "cell_type": "markdown",
   "metadata": {
    "id": "1dqbh00J_Zct"
   },
   "source": [
    "Periksa hasilnya. Tampilkan nama kolom sekali lagi:"
   ]
  },
  {
   "cell_type": "code",
   "execution_count": 13,
   "metadata": {
    "colab": {
     "base_uri": "https://localhost:8080/"
    },
    "id": "d4NOAmTW_Zct",
    "outputId": "067f66e7-4a44-462d-b42d-abd69ddc9c07"
   },
   "outputs": [
    {
     "data": {
      "text/plain": [
       "Index(['user_id', 'track', 'artist', 'genre', 'city', 'time', 'day'], dtype='object')"
      ]
     },
     "execution_count": 13,
     "metadata": {},
     "output_type": "execute_result"
    }
   ],
   "source": [
    "# hasil pengecekan: daftar nama kolom\n",
    "df.columns"
   ]
  },
  {
   "cell_type": "markdown",
   "metadata": {
    "id": "xYJk6ksJVpOl"
   },
   "source": [
    "[Kembali ke Daftar Isi](#back)"
   ]
  },
  {
   "cell_type": "markdown",
   "metadata": {
    "id": "5ISfbcfY_Zct"
   },
   "source": [
    "### Nilai-nilai yang hilang <a id='missing_values'></a>\n",
    "Pertama, temukan jumlah nilai yang hilang dalam tabel. Untuk melakukannya, gunakan dua metode `pandas`:"
   ]
  },
  {
   "cell_type": "code",
   "execution_count": 14,
   "metadata": {
    "colab": {
     "base_uri": "https://localhost:8080/"
    },
    "id": "RskX29qr_Zct",
    "outputId": "dfd6f8a0-466b-4b57-d9e1-c366a4fb6a0e"
   },
   "outputs": [
    {
     "data": {
      "text/plain": [
       "user_id       0\n",
       "track      1343\n",
       "artist     7567\n",
       "genre      1198\n",
       "city          0\n",
       "time          0\n",
       "day           0\n",
       "dtype: int64"
      ]
     },
     "execution_count": 14,
     "metadata": {},
     "output_type": "execute_result"
    }
   ],
   "source": [
    "# menghitung nilai yang hilang\n",
    "df.isna().sum()"
   ]
  },
  {
   "cell_type": "markdown",
   "metadata": {
    "id": "qubhgnlO_Zct"
   },
   "source": [
    "Tidak semua nilai yang hilang berpengaruh terhadap penelitian. Misalnya, nilai yang hilang dalam `track` dan `artist` tidak begitu penting. Anda cukup menggantinya dengan tanda yang jelas.\n",
    "\n",
    "Namun nilai yang hilang dalam `'genre'` dapat memengaruhi perbandingan preferensi musik di Springfield dan Shelbyville. Dalam kehidupan nyata, ini akan berguna untuk mempelajari alasan mengapa data tersebut hilang dan mencoba memperbaikinya. Tetapi kita tidak memiliki kesempatan itu dalam proyek ini. Jadi Anda harus:\n",
    "* Isi nilai yang hilang ini dengan sebuah tanda\n",
    "* Evaluasi seberapa besar nilai yang hilang dapat memengaruhi perhitungan Anda"
   ]
  },
  {
   "cell_type": "markdown",
   "metadata": {
    "id": "fSv2laPA_Zct"
   },
   "source": [
    "Ganti nilai yang hilang pada `'track'`, `'artist'`, dan `'genre'` dengan string `'unknown'`. Untuk melakukannya, buat list `columns_to_replace`, ulangi dengan `for`, dan ganti nilai yang hilang di setiap kolom:"
   ]
  },
  {
   "cell_type": "code",
   "execution_count": 15,
   "metadata": {
    "id": "KplB5qWs_Zct"
   },
   "outputs": [],
   "source": [
    "# mengulang nama kolom dan mengganti nilai yang hilang dengan 'unknown'\n",
    "columns_to_replace = ['track', 'artist', 'genre']\n",
    "for column in columns_to_replace:\n",
    "    df[column] = df[column].fillna('unknown')"
   ]
  },
  {
   "cell_type": "markdown",
   "metadata": {
    "id": "Ilsm-MZo_Zct"
   },
   "source": [
    "Pastikan tidak ada tabel lagi yang berisi nilai yang hilang. Hitung kembali nilai yang hilang."
   ]
  },
  {
   "cell_type": "code",
   "execution_count": 16,
   "metadata": {
    "colab": {
     "base_uri": "https://localhost:8080/"
    },
    "id": "Tq4nYRX4_Zct",
    "outputId": "c0ad97b4-e454-40fb-bf83-6a8c4b6e8fef"
   },
   "outputs": [
    {
     "data": {
      "text/plain": [
       "user_id    0\n",
       "track      0\n",
       "artist     0\n",
       "genre      0\n",
       "city       0\n",
       "time       0\n",
       "day        0\n",
       "dtype: int64"
      ]
     },
     "execution_count": 16,
     "metadata": {},
     "output_type": "execute_result"
    }
   ],
   "source": [
    "# menghitung nilai yang hilang\n",
    "df.isna().sum()"
   ]
  },
  {
   "cell_type": "markdown",
   "metadata": {
    "id": "74ZIBmq9VrsK"
   },
   "source": [
    "[Kembali ke Daftar Isi](#back)"
   ]
  },
  {
   "cell_type": "markdown",
   "metadata": {
    "id": "BWKRtBJ3_Zct"
   },
   "source": [
    "### Duplikat <a id='duplicates'></a>\n",
    "Temukan jumlah duplikat yang jelas dalam tabel menggunakan satu perintah:"
   ]
  },
  {
   "cell_type": "code",
   "execution_count": 17,
   "metadata": {
    "id": "36eES_S0_Zct",
    "outputId": "3ce196fd-e335-4799-b74e-5cd4d1851e42"
   },
   "outputs": [
    {
     "data": {
      "text/plain": [
       "3826"
      ]
     },
     "execution_count": 17,
     "metadata": {},
     "output_type": "execute_result"
    }
   ],
   "source": [
    "# menghitung duplikat yang jelas\n",
    "df.duplicated().sum()"
   ]
  },
  {
   "cell_type": "markdown",
   "metadata": {
    "id": "Ot25h6XR_Zct"
   },
   "source": [
    "Panggil metode `pandas` untuk menghapus duplikat yang jelas:"
   ]
  },
  {
   "cell_type": "code",
   "execution_count": 18,
   "metadata": {
    "id": "exFHq6tt_Zct"
   },
   "outputs": [],
   "source": [
    "# menghapus duplikat yang jelas\n",
    "df = df.drop_duplicates().reset_index(drop=True)"
   ]
  },
  {
   "cell_type": "markdown",
   "metadata": {
    "id": "Im2YwBEG_Zct"
   },
   "source": [
    "Hitung duplikat yang jelas sekali lagi untuk memastikan Anda telah menghapus semuanya:"
   ]
  },
  {
   "cell_type": "code",
   "execution_count": 19,
   "metadata": {
    "id": "-8PuNWQ0_Zct",
    "outputId": "c13f1a64-7e8c-4605-a33c-563f1f8f4c32",
    "scrolled": true
   },
   "outputs": [
    {
     "name": "stdout",
     "output_type": "stream",
     "text": [
      "0\n"
     ]
    }
   ],
   "source": [
    "# memeriksa duplikat\n",
    "print(df.duplicated().sum())"
   ]
  },
  {
   "cell_type": "markdown",
   "metadata": {
    "id": "QlFBsxAr_Zct"
   },
   "source": [
    "Sekarang hapus duplikat implisit di kolom `genre`. Misalnya, nama genre dapat ditulis dengan cara yang berbeda. Kesalahan seperti ini juga akan memengaruhi hasil."
   ]
  },
  {
   "cell_type": "markdown",
   "metadata": {
    "id": "eSjWwsOh_Zct"
   },
   "source": [
    "Tampilkan daftar nama genre yang unik, urutkan berdasarkan abjad. Untuk melakukannya:\n",
    "* Ambil kolom DataFrame yang dimaksud\n",
    "* Terapkan metode pengurutan untuk itu\n",
    "* Untuk kolom yang diurutkan, panggil metode yang akan menghasilkan semua nilai kolom yang unik"
   ]
  },
  {
   "cell_type": "code",
   "execution_count": 20,
   "metadata": {
    "id": "JIUcqzZN_Zct",
    "outputId": "5b23767e-6ffe-4054-e3c1-4183a9257e7e"
   },
   "outputs": [
    {
     "data": {
      "text/plain": [
       "array(['acid', 'acoustic', 'action', 'adult', 'africa', 'afrikaans',\n",
       "       'alternative', 'ambient', 'americana', 'animated', 'anime',\n",
       "       'arabesk', 'arabic', 'arena', 'argentinetango', 'art', 'audiobook',\n",
       "       'avantgarde', 'axé', 'baile', 'balkan', 'beats', 'bigroom',\n",
       "       'black', 'bluegrass', 'blues', 'bollywood', 'bossa', 'brazilian',\n",
       "       'breakbeat', 'breaks', 'broadway', 'cantautori', 'cantopop',\n",
       "       'canzone', 'caribbean', 'caucasian', 'celtic', 'chamber',\n",
       "       'children', 'chill', 'chinese', 'choral', 'christian', 'christmas',\n",
       "       'classical', 'classicmetal', 'club', 'colombian', 'comedy',\n",
       "       'conjazz', 'contemporary', 'country', 'cuban', 'dance',\n",
       "       'dancehall', 'dancepop', 'dark', 'death', 'deep', 'deutschrock',\n",
       "       'deutschspr', 'dirty', 'disco', 'dnb', 'documentary', 'downbeat',\n",
       "       'downtempo', 'drum', 'dub', 'dubstep', 'eastern', 'easy',\n",
       "       'electronic', 'electropop', 'emo', 'entehno', 'epicmetal',\n",
       "       'estrada', 'ethnic', 'eurofolk', 'european', 'experimental',\n",
       "       'extrememetal', 'fado', 'film', 'fitness', 'flamenco', 'folk',\n",
       "       'folklore', 'folkmetal', 'folkrock', 'folktronica', 'forró',\n",
       "       'frankreich', 'französisch', 'french', 'funk', 'future', 'gangsta',\n",
       "       'garage', 'german', 'ghazal', 'gitarre', 'glitch', 'gospel',\n",
       "       'gothic', 'grime', 'grunge', 'gypsy', 'handsup', \"hard'n'heavy\",\n",
       "       'hardcore', 'hardstyle', 'hardtechno', 'hip', 'hip-hop', 'hiphop',\n",
       "       'historisch', 'holiday', 'hop', 'horror', 'house', 'idm',\n",
       "       'independent', 'indian', 'indie', 'indipop', 'industrial',\n",
       "       'inspirational', 'instrumental', 'international', 'irish', 'jam',\n",
       "       'japanese', 'jazz', 'jewish', 'jpop', 'jungle', 'k-pop',\n",
       "       'karadeniz', 'karaoke', 'kayokyoku', 'korean', 'laiko', 'latin',\n",
       "       'latino', 'leftfield', 'local', 'lounge', 'loungeelectronic',\n",
       "       'lovers', 'malaysian', 'mandopop', 'marschmusik', 'meditative',\n",
       "       'mediterranean', 'melodic', 'metal', 'metalcore', 'mexican',\n",
       "       'middle', 'minimal', 'miscellaneous', 'modern', 'mood', 'mpb',\n",
       "       'muslim', 'native', 'neoklassik', 'neue', 'new', 'newage',\n",
       "       'newwave', 'nu', 'nujazz', 'numetal', 'oceania', 'old', 'opera',\n",
       "       'orchestral', 'other', 'piano', 'pop', 'popelectronic',\n",
       "       'popeurodance', 'post', 'posthardcore', 'postrock', 'power',\n",
       "       'progmetal', 'progressive', 'psychedelic', 'punjabi', 'punk',\n",
       "       'quebecois', 'ragga', 'ram', 'rancheras', 'rap', 'rave', 'reggae',\n",
       "       'reggaeton', 'regional', 'relax', 'religious', 'retro', 'rhythm',\n",
       "       'rnb', 'rnr', 'rock', 'rockabilly', 'romance', 'roots', 'ruspop',\n",
       "       'rusrap', 'rusrock', 'salsa', 'samba', 'schlager', 'self',\n",
       "       'sertanejo', 'shoegazing', 'showtunes', 'singer', 'ska', 'slow',\n",
       "       'smooth', 'soul', 'soulful', 'sound', 'soundtrack', 'southern',\n",
       "       'specialty', 'speech', 'spiritual', 'sport', 'stonerrock', 'surf',\n",
       "       'swing', 'synthpop', 'sängerportrait', 'tango', 'tanzorchester',\n",
       "       'taraftar', 'tech', 'techno', 'thrash', 'top', 'traditional',\n",
       "       'tradjazz', 'trance', 'tribal', 'trip', 'triphop', 'tropical',\n",
       "       'türk', 'türkçe', 'unknown', 'urban', 'uzbek', 'variété', 'vi',\n",
       "       'videogame', 'vocal', 'western', 'world', 'worldbeat', 'ïîï'],\n",
       "      dtype=object)"
      ]
     },
     "execution_count": 20,
     "metadata": {},
     "output_type": "execute_result"
    }
   ],
   "source": [
    "# melihat nama genre yang unik\n",
    "df['genre'].sort_values().unique()"
   ]
  },
  {
   "cell_type": "markdown",
   "metadata": {
    "id": "qej-Qmuo_Zct"
   },
   "source": [
    "Lihat melalui list untuk menemukan duplikat implisit dari genre `hiphop`. Ini bisa berupa nama yang ditulis secara salah atau nama alternatif dari genre yang sama.\n",
    "\n",
    "Anda akan melihat duplikat implisit berikut:\n",
    "* `hip`\n",
    "* `hop`\n",
    "* `hip-hop`\n",
    "\n",
    "Untuk menghapusnya, gunakan fungsi `replace_wrong_genres()` dengan dua parameter:\n",
    "* `wrong_genres=` — daftar duplikat\n",
    "* `correct_genre=` — string dengan nilai yang benar\n",
    "\n",
    "Fungsi harus mengoreksi nama dalam kolom `'genre'` dari tabel `df`, yaitu mengganti setiap nilai dari daftar `wrong_genres` dengan nilai dalam `correct_genre`."
   ]
  },
  {
   "cell_type": "code",
   "execution_count": 21,
   "metadata": {
    "id": "ErNDkmns_Zct"
   },
   "outputs": [],
   "source": [
    "# fungsi untuk mengganti duplikat implisit\n",
    "\n",
    "def replace_wrong_genres(wrong_genres, correct_genre):\n",
    "    for wrong_genre in wrong_genres:\n",
    "        df['genre'] = df['genre'].replace(wrong_genre, correct_genre)"
   ]
  },
  {
   "cell_type": "markdown",
   "metadata": {
    "id": "aDoBJxbA_Zct"
   },
   "source": [
    "Panggil `replace_wrong_genres()` dan berikan argumennya sehingga menghapus duplikat implisit (`hip`, `hop`, dan `hip-hop`) dan menggantinya dengan `hiphop`:"
   ]
  },
  {
   "cell_type": "code",
   "execution_count": 22,
   "metadata": {
    "id": "YN5i2hpmSo09"
   },
   "outputs": [],
   "source": [
    "# menghapus duplikat implisit\n",
    "\n",
    "duplicates = ['hip', 'hop', 'hip-hop']\n",
    "genre = 'hiphop'\n",
    "replace_wrong_genres(duplicates, genre)"
   ]
  },
  {
   "cell_type": "markdown",
   "metadata": {
    "id": "zQKF16_RG15m"
   },
   "source": [
    "Pastikan nama duplikat telah dihapus. Tampilkan daftar nilai unik dari kolom `'genre'`:"
   ]
  },
  {
   "cell_type": "code",
   "execution_count": 23,
   "metadata": {
    "id": "wvixALnFG15m",
    "outputId": "9548ce06-bd24-46e2-a7d0-07dc74c54d9b"
   },
   "outputs": [
    {
     "data": {
      "text/plain": [
       "array(['acid', 'acoustic', 'action', 'adult', 'africa', 'afrikaans',\n",
       "       'alternative', 'ambient', 'americana', 'animated', 'anime',\n",
       "       'arabesk', 'arabic', 'arena', 'argentinetango', 'art', 'audiobook',\n",
       "       'avantgarde', 'axé', 'baile', 'balkan', 'beats', 'bigroom',\n",
       "       'black', 'bluegrass', 'blues', 'bollywood', 'bossa', 'brazilian',\n",
       "       'breakbeat', 'breaks', 'broadway', 'cantautori', 'cantopop',\n",
       "       'canzone', 'caribbean', 'caucasian', 'celtic', 'chamber',\n",
       "       'children', 'chill', 'chinese', 'choral', 'christian', 'christmas',\n",
       "       'classical', 'classicmetal', 'club', 'colombian', 'comedy',\n",
       "       'conjazz', 'contemporary', 'country', 'cuban', 'dance',\n",
       "       'dancehall', 'dancepop', 'dark', 'death', 'deep', 'deutschrock',\n",
       "       'deutschspr', 'dirty', 'disco', 'dnb', 'documentary', 'downbeat',\n",
       "       'downtempo', 'drum', 'dub', 'dubstep', 'eastern', 'easy',\n",
       "       'electronic', 'electropop', 'emo', 'entehno', 'epicmetal',\n",
       "       'estrada', 'ethnic', 'eurofolk', 'european', 'experimental',\n",
       "       'extrememetal', 'fado', 'film', 'fitness', 'flamenco', 'folk',\n",
       "       'folklore', 'folkmetal', 'folkrock', 'folktronica', 'forró',\n",
       "       'frankreich', 'französisch', 'french', 'funk', 'future', 'gangsta',\n",
       "       'garage', 'german', 'ghazal', 'gitarre', 'glitch', 'gospel',\n",
       "       'gothic', 'grime', 'grunge', 'gypsy', 'handsup', \"hard'n'heavy\",\n",
       "       'hardcore', 'hardstyle', 'hardtechno', 'hiphop', 'historisch',\n",
       "       'holiday', 'horror', 'house', 'idm', 'independent', 'indian',\n",
       "       'indie', 'indipop', 'industrial', 'inspirational', 'instrumental',\n",
       "       'international', 'irish', 'jam', 'japanese', 'jazz', 'jewish',\n",
       "       'jpop', 'jungle', 'k-pop', 'karadeniz', 'karaoke', 'kayokyoku',\n",
       "       'korean', 'laiko', 'latin', 'latino', 'leftfield', 'local',\n",
       "       'lounge', 'loungeelectronic', 'lovers', 'malaysian', 'mandopop',\n",
       "       'marschmusik', 'meditative', 'mediterranean', 'melodic', 'metal',\n",
       "       'metalcore', 'mexican', 'middle', 'minimal', 'miscellaneous',\n",
       "       'modern', 'mood', 'mpb', 'muslim', 'native', 'neoklassik', 'neue',\n",
       "       'new', 'newage', 'newwave', 'nu', 'nujazz', 'numetal', 'oceania',\n",
       "       'old', 'opera', 'orchestral', 'other', 'piano', 'pop',\n",
       "       'popelectronic', 'popeurodance', 'post', 'posthardcore',\n",
       "       'postrock', 'power', 'progmetal', 'progressive', 'psychedelic',\n",
       "       'punjabi', 'punk', 'quebecois', 'ragga', 'ram', 'rancheras', 'rap',\n",
       "       'rave', 'reggae', 'reggaeton', 'regional', 'relax', 'religious',\n",
       "       'retro', 'rhythm', 'rnb', 'rnr', 'rock', 'rockabilly', 'romance',\n",
       "       'roots', 'ruspop', 'rusrap', 'rusrock', 'salsa', 'samba',\n",
       "       'schlager', 'self', 'sertanejo', 'shoegazing', 'showtunes',\n",
       "       'singer', 'ska', 'slow', 'smooth', 'soul', 'soulful', 'sound',\n",
       "       'soundtrack', 'southern', 'specialty', 'speech', 'spiritual',\n",
       "       'sport', 'stonerrock', 'surf', 'swing', 'synthpop',\n",
       "       'sängerportrait', 'tango', 'tanzorchester', 'taraftar', 'tech',\n",
       "       'techno', 'thrash', 'top', 'traditional', 'tradjazz', 'trance',\n",
       "       'tribal', 'trip', 'triphop', 'tropical', 'türk', 'türkçe',\n",
       "       'unknown', 'urban', 'uzbek', 'variété', 'vi', 'videogame', 'vocal',\n",
       "       'western', 'world', 'worldbeat', 'ïîï'], dtype=object)"
      ]
     },
     "execution_count": 23,
     "metadata": {},
     "output_type": "execute_result"
    }
   ],
   "source": [
    "# memeriksa duplikat implisit\n",
    "df['genre'].sort_values().unique()"
   ]
  },
  {
   "cell_type": "markdown",
   "metadata": {
    "id": "ALgNbvF3VtPA"
   },
   "source": [
    "[Kembali ke Daftar Isi](#back)"
   ]
  },
  {
   "cell_type": "markdown",
   "metadata": {
    "id": "jz6a9-7HQUDd"
   },
   "source": [
    "### Kesimpulan <a id='data_preprocessing_conclusions'></a>\n",
    "Kita mendeteksi tiga masalah dengan data:\n",
    "\n",
    "- Gaya penulisan judul yang salah\n",
    "- Nilai-nilai yang hilang\n",
    "- Duplikat yang jelas dan implisit\n",
    "\n",
    "Judul telah dibersihkan untuk mempermudah pemrosesan tabel.\n",
    "\n",
    "Semua nilai yang hilang telah diganti dengan `'unknown'`. Tapi kita masih harus melihat apakah nilai yang hilang dalam `'genre'` akan memengaruhi perhitungan kita.\n",
    "\n",
    "Tidak adanya duplikat akan membuat hasil lebih tepat dan lebih mudah dipahami.\n",
    "\n",
    "Sekarang kita dapat melanjutkan ke pengujian hipotesis."
   ]
  },
  {
   "cell_type": "markdown",
   "metadata": {
    "id": "eK1es74rVujj"
   },
   "source": [
    "[Kembali ke Daftar Isi](#back)"
   ]
  },
  {
   "cell_type": "markdown",
   "metadata": {
    "id": "WttZHXH0SqKk"
   },
   "source": [
    "## Tahap 3. Menguji hipotesis <a id='hypotheses'></a>"
   ]
  },
  {
   "cell_type": "markdown",
   "metadata": {
    "id": "Im936VVi_Zcu"
   },
   "source": [
    "### Hipotesis 1: membandingkan perilaku pengguna di dua kota <a id='activity'></a>"
   ]
  },
  {
   "cell_type": "markdown",
   "metadata": {
    "id": "nwt_MuaL_Zcu"
   },
   "source": [
    "Menurut hipotesis pertama, pengguna dari Springfield dan Shelbyville memiliki perbedaan dalam mendengarkan musik. Pengujian ini menggunakan data pada hari: Senin, Rabu, dan Jumat.\n",
    "\n",
    "* pisahkan pengguna ke dalam kelompok berdasarkan kota.\n",
    "* Bandingkan berapa banyak lagu yang dimainkan setiap kelompok pada hari Senin, Rabu, dan Jumat."
   ]
  },
  {
   "cell_type": "markdown",
   "metadata": {
    "id": "8Dw_YMmT_Zcu"
   },
   "source": [
    "Untuk latihan, lakukan setiap perhitungan secara terpisah.\n",
    "\n",
    "Evaluasi aktivitas pengguna di setiap kota. Kelompokkan data berdasarkan kota dan temukan jumlah lagu yang diputar di setiap kelompok.\n",
    "\n"
   ]
  },
  {
   "cell_type": "code",
   "execution_count": 24,
   "metadata": {
    "id": "0_Qs96oh_Zcu",
    "outputId": "633f45ec-00cc-4d87-9d45-3378bad6c298",
    "scrolled": true
   },
   "outputs": [
    {
     "name": "stdout",
     "output_type": "stream",
     "text": [
      "city\n",
      "Shelbyville    18512\n",
      "Springfield    42741\n",
      "Name: city, dtype: int64\n"
     ]
    }
   ],
   "source": [
    "# Menghitung lagu yang diputar di setiap kota\n",
    "print(df.groupby('city')['city'].count()) "
   ]
  },
  {
   "cell_type": "markdown",
   "metadata": {
    "id": "dzli3w8o_Zcu"
   },
   "source": [
    "Springfield memiliki lebih banyak lagu yang dimainkan daripada Shelbyville. Namun bukan berarti warga Springfield lebih sering mendengarkan musik. Kota ini lebih besar, dan memiliki lebih banyak pengguna.\n",
    "\n",
    "Sekarang kelompokkan data menurut hari dan temukan jumlah lagu yang diputar pada hari Senin, Rabu, dan Jumat."
   ]
  },
  {
   "cell_type": "code",
   "execution_count": 25,
   "metadata": {
    "id": "uZMKjiJz_Zcu",
    "outputId": "5437cd92-9afd-4468-a76f-00b71e1e839f"
   },
   "outputs": [
    {
     "name": "stdout",
     "output_type": "stream",
     "text": [
      "day\n",
      "Friday       21840\n",
      "Monday       21354\n",
      "Wednesday    18059\n",
      "Name: day, dtype: int64\n"
     ]
    }
   ],
   "source": [
    "# Menghitung trek yang diputar pada masing-masing hari\n",
    "print(df.groupby('day')['day'].count()) "
   ]
  },
  {
   "cell_type": "markdown",
   "metadata": {
    "id": "cC2tNrlL_Zcu"
   },
   "source": [
    "Rabu adalah hari paling tenang secara keseluruhan. Tetapi jika kita mempertimbangkan kedua kota secara terpisah, kita mungkin akan memiliki kesimpulan yang berbeda."
   ]
  },
  {
   "cell_type": "markdown",
   "metadata": {
    "id": "POzs8bGa_Zcu"
   },
   "source": [
    "Anda telah melihat cara kerja pengelompokan berdasarkan kota atau hari. Sekarang tulis fungsi yang akan dikelompokkan berdasarkan keduanya.\n",
    "\n",
    "Buat fungsi `number_tracks()` untuk menghitung jumlah lagu yang diputar untuk hari dan kota tertentu. Ini akan membutuhkan dua parameter:\n",
    "* nama hari\n",
    "* nama kota\n",
    "\n",
    "Dalam fungsi, gunakan variabel untuk menyimpan baris dari tabel asli, di mana:\n",
    "  *  Nilai kolom `'day'` sama dengan parameter `day`\n",
    "  * Nilai kolom `'city'` sama dengan parameter `city`\n",
    "\n",
    "Terapkan pemfilteran berurutan dengan pengindeksan logis.\n",
    "\n",
    "Kemudian hitung nilai kolom `'user_id'` pada tabel yang dihasilkan. Simpan hasilnya ke variabel baru. Kembalikan variabel ini dari fungsi."
   ]
  },
  {
   "cell_type": "code",
   "execution_count": 26,
   "metadata": {
    "id": "Nz3GdQB1_Zcu",
    "scrolled": true
   },
   "outputs": [],
   "source": [
    "# <membuat fungsi number_tracks()>\n",
    "# Kita akan mendeklarasikan sebuah fungsi dengan dua parameter: day=, city=.\n",
    "# Biarkan variabel track_list menyimpan baris df di mana\n",
    "# nilai di kolom 'day' sama dengan parameter day= dan, pada saat yang sama,\n",
    "# nilai pada kolom 'city' sama dengan parameter city= (terapkan pemfilteran berurutan\n",
    "# dengan pengindeksan logis).\n",
    "# Biarkan variabel track_list_count menyimpan jumlah nilai kolom 'user_id' pada track_list\n",
    "# (temukan dengan metode count()).\n",
    "# Biarkan fungsi menghasilkan jumlah: nilai track_list_count.\n",
    "\n",
    "# Fungsi menghitung lagu yang diputar untuk kota dan hari tertentu.\n",
    "# Pertama-tama ini akan mengambil baris dengan hari yang diinginkan dari tabel,\n",
    "# kemudian memfilter baris hasilnya dengan kota yang dimaksud,\n",
    "# kemudian temukan jumlah nilai 'user_id' pada tabel yang difilter,\n",
    "# kemudian menghasilkan jumlah tersebut.\n",
    "# Untuk melihat apa yang dihasilkan, balut pemanggilan fungsi pada print().\n",
    "\n",
    "def number_tracks(df, day, city):\n",
    "    track_list = df[df['day'] == day]\n",
    "    track_list = track_list[track_list['city'] == city]                   \n",
    "    track_list_count = track_list['user_id'].count()\n",
    "    return(track_list_count)"
   ]
  },
  {
   "cell_type": "markdown",
   "metadata": {
    "id": "ytf7xFrFJQ2r"
   },
   "source": [
    "Panggil `number_tracks()` enam kali, mengubah nilai parameter, sehingga Anda mengambil data di kedua kota untuk masing-masing hari tersebut."
   ]
  },
  {
   "cell_type": "code",
   "execution_count": 27,
   "metadata": {
    "id": "rJcRATNQ_Zcu",
    "outputId": "275dee50-a8a2-4304-a630-4c71e94ea85e"
   },
   "outputs": [
    {
     "data": {
      "text/plain": [
       "15740"
      ]
     },
     "execution_count": 27,
     "metadata": {},
     "output_type": "execute_result"
    }
   ],
   "source": [
    "# jumlah lagu yang diputar di Springfield pada hari Senin\n",
    "spr_mon = number_tracks(df=df, day='Monday', city='Springfield')\n",
    "spr_mon"
   ]
  },
  {
   "cell_type": "code",
   "execution_count": 28,
   "metadata": {
    "id": "hq_ncZ5T_Zcu",
    "outputId": "6a21a863-665a-487d-b12e-67d7b3d9ce34"
   },
   "outputs": [
    {
     "data": {
      "text/plain": [
       "5614"
      ]
     },
     "execution_count": 28,
     "metadata": {},
     "output_type": "execute_result"
    }
   ],
   "source": [
    "# jumlah lagu yang diputar di Shelbyville pada hari Senin\n",
    "shel_mon = number_tracks(df=df, day='Monday', city='Shelbyville')\n",
    "shel_mon"
   ]
  },
  {
   "cell_type": "code",
   "execution_count": 29,
   "metadata": {
    "id": "_NTy2VPU_Zcu",
    "outputId": "b98cd67e-91b8-4022-cfaf-73d2a1f4556f"
   },
   "outputs": [
    {
     "data": {
      "text/plain": [
       "11056"
      ]
     },
     "execution_count": 29,
     "metadata": {},
     "output_type": "execute_result"
    }
   ],
   "source": [
    "#  jumlah lagu yang diputar di Springfield pada hari Rabu\n",
    "spr_wed = number_tracks(df=df, day='Wednesday', city='Springfield')\n",
    "spr_wed"
   ]
  },
  {
   "cell_type": "code",
   "execution_count": 30,
   "metadata": {
    "id": "j2y3TAwo_Zcu",
    "outputId": "18b06ad8-caa5-4aea-c627-4e690b0c90cb"
   },
   "outputs": [
    {
     "data": {
      "text/plain": [
       "7003"
      ]
     },
     "execution_count": 30,
     "metadata": {},
     "output_type": "execute_result"
    }
   ],
   "source": [
    "#  jumlah lagu yang diputar di Shelbyville pada hari Rabu\n",
    "shel_wed = number_tracks(df=df, day='Wednesday', city='Shelbyville')\n",
    "shel_wed"
   ]
  },
  {
   "cell_type": "code",
   "execution_count": 31,
   "metadata": {
    "id": "vYDw5u_K_Zcu",
    "outputId": "e625d14f-2355-4875-cae3-944741ad7cf2"
   },
   "outputs": [
    {
     "data": {
      "text/plain": [
       "15945"
      ]
     },
     "execution_count": 31,
     "metadata": {},
     "output_type": "execute_result"
    }
   ],
   "source": [
    "# jumlah lagu yang diputar di Springfield pada hari Jumat\n",
    "spr_fri = number_tracks(df=df, day='Friday', city='Springfield')\n",
    "spr_fri"
   ]
  },
  {
   "cell_type": "code",
   "execution_count": 32,
   "metadata": {
    "id": "8_yzFtW3_Zcu",
    "outputId": "d09be968-024c-4b0e-a88a-0419aace9965"
   },
   "outputs": [
    {
     "data": {
      "text/plain": [
       "5895"
      ]
     },
     "execution_count": 32,
     "metadata": {},
     "output_type": "execute_result"
    }
   ],
   "source": [
    "# jumlah lagu yang diputar di Shelbyville pada hari Jumat\n",
    "shel_fri= number_tracks(df=df, day='Friday', city='Shelbyville')\n",
    "shel_fri"
   ]
  },
  {
   "cell_type": "markdown",
   "metadata": {
    "id": "7QXffbO-_Zcu"
   },
   "source": [
    "Gunakan `pd.DataFrame` untuk membuat tabel, di mana\n",
    "* Nama kolom adalah: `['city', 'monday', 'wednesday', 'friday']`\n",
    "* Data adalah hasil yang Anda dapatkan dari `number_tracks()`"
   ]
  },
  {
   "cell_type": "code",
   "execution_count": 33,
   "metadata": {
    "id": "APAcLpOr_Zcu",
    "outputId": "d4edf27d-532c-42ee-9bb6-5ff8dcd2938d"
   },
   "outputs": [
    {
     "data": {
      "text/html": [
       "<div>\n",
       "<style scoped>\n",
       "    .dataframe tbody tr th:only-of-type {\n",
       "        vertical-align: middle;\n",
       "    }\n",
       "\n",
       "    .dataframe tbody tr th {\n",
       "        vertical-align: top;\n",
       "    }\n",
       "\n",
       "    .dataframe thead th {\n",
       "        text-align: right;\n",
       "    }\n",
       "</style>\n",
       "<table border=\"1\" class=\"dataframe\">\n",
       "  <thead>\n",
       "    <tr style=\"text-align: right;\">\n",
       "      <th></th>\n",
       "      <th>city</th>\n",
       "      <th>monday</th>\n",
       "      <th>wednesday</th>\n",
       "      <th>friday</th>\n",
       "    </tr>\n",
       "  </thead>\n",
       "  <tbody>\n",
       "    <tr>\n",
       "      <th>0</th>\n",
       "      <td>Springfield</td>\n",
       "      <td>15740</td>\n",
       "      <td>11056</td>\n",
       "      <td>15945</td>\n",
       "    </tr>\n",
       "    <tr>\n",
       "      <th>1</th>\n",
       "      <td>Shelbyville</td>\n",
       "      <td>5614</td>\n",
       "      <td>7003</td>\n",
       "      <td>5895</td>\n",
       "    </tr>\n",
       "  </tbody>\n",
       "</table>\n",
       "</div>"
      ],
      "text/plain": [
       "          city  monday  wednesday  friday\n",
       "0  Springfield   15740      11056   15945\n",
       "1  Shelbyville    5614       7003    5895"
      ]
     },
     "execution_count": 33,
     "metadata": {},
     "output_type": "execute_result"
    }
   ],
   "source": [
    "# tabel dengan hasil\n",
    "\n",
    "data = {\n",
    "    'city': ['Springfield', 'Shelbyville'],\n",
    "    'monday': [spr_mon, shel_mon],\n",
    "    'wednesday': [spr_wed, shel_wed],\n",
    "    'friday': [spr_fri, shel_fri]\n",
    "}\n",
    "  \n",
    "df_result = pd.DataFrame(data)\n",
    "df_result"
   ]
  },
  {
   "cell_type": "markdown",
   "metadata": {
    "id": "-EgPIHYu_Zcu"
   },
   "source": [
    "**Kesimpulan**\n",
    "\n",
    "Data mengungkapkan perbedaan perilaku pengguna:\n",
    "\n",
    "- Pada Springfield, jumlah lagu yang diputar mencapai puncaknya pada hari Senin dan Jumat, sedangkan pada hari Rabu terjadi penurunan aktivitas.\n",
    "- Di Shelbyville, sebaliknya, pengguna lebih banyak mendengarkan musik pada hari Rabu.\n",
    "\n",
    "Aktivitas pengguna pada hari Senin dan Jumat lebih sedikit."
   ]
  },
  {
   "cell_type": "markdown",
   "metadata": {
    "id": "p7nFQajCVw5B"
   },
   "source": [
    "[Kembali ke Daftar Isi](#back)"
   ]
  },
  {
   "cell_type": "markdown",
   "metadata": {
    "id": "atZAxtq4_Zcu"
   },
   "source": [
    "### Hipotesis 2: musik di awal dan akhir minggu <a id='week'></a>"
   ]
  },
  {
   "cell_type": "markdown",
   "metadata": {
    "id": "eXrQqXFH_Zcu"
   },
   "source": [
    "Menurut hipotesis kedua, pada Senin pagi dan Jumat malam, warga Springfield mendengarkan genre yang berbeda dari yang dinikmati warga Shelbyville."
   ]
  },
  {
   "cell_type": "markdown",
   "metadata": {
    "id": "S8UcW6Hw_Zcu"
   },
   "source": [
    "Dapatkan tabel (pastikan nama tabel gabungan Anda cocok dengan DataFrame yang diberikan dalam dua blok kode di bawah):\n",
    "* Untuk Springfield — `spr_general`\n",
    "* Untuk Shelbyville — `shel_general`"
   ]
  },
  {
   "cell_type": "code",
   "execution_count": 34,
   "metadata": {
    "colab": {
     "base_uri": "https://localhost:8080/",
     "height": 205
    },
    "id": "qeaFfM_P_Zcu",
    "outputId": "e4e7911f-f7ba-41e0-a161-b8fbb86838ea"
   },
   "outputs": [],
   "source": [
    "# mendapatkan tabel spr_general dari baris df,\n",
    "# dimana nilai dari kolom 'city' adalah 'Springfield'\n",
    "\n",
    "spr_general = df[df['city'] == 'Springfield']"
   ]
  },
  {
   "cell_type": "code",
   "execution_count": 35,
   "metadata": {
    "id": "ORaVRKto_Zcu"
   },
   "outputs": [],
   "source": [
    "# mendapatkan shel_general dari baris df,\n",
    "# dimana nilai dari kolom 'city' adalah 'Shelbyville'\n",
    "\n",
    "shel_general = df[df['city'] == 'Shelbyville']"
   ]
  },
  {
   "cell_type": "markdown",
   "metadata": {
    "id": "MEJV-CX2_Zcu"
   },
   "source": [
    "Tulis fungsi `genre_weekday()` dengan empat parameter:\n",
    "* Sebuah tabel untuk data\n",
    "* Nama hari\n",
    "* Tanda waktu pertama, dalam format 'hh:mm'\n",
    "* Tanda waktu terakhir, dalam format 'hh: mm'\n",
    "\n",
    "Fungsi tersebut harus menghasilkan info tentang 15 genre paling populer pada hari tertentu dalam periode diantara dua tanda waktu."
   ]
  },
  {
   "cell_type": "code",
   "execution_count": 36,
   "metadata": {
    "id": "laJT9BYl_Zcu"
   },
   "outputs": [],
   "source": [
    "# Mendeklarasikan fungsi genre_weekday() dengan parameter day=, time1=, dan time2=. Itu harus\n",
    "# memberikan informasi tentang genre paling populer pada hari dan waktu tertentu:\n",
    "\n",
    "# 1) Biarkan variabel genre_df menyimpan baris yang memenuhi beberapa ketentuan:\n",
    "#    - nilai pada kolom 'day' sama dengan nilai argumen hari=\n",
    "#    - nilai pada kolom 'time' lebih besar dari nilai argumen time1=\n",
    "#    - nilai pada kolom 'time' lebih kecil dari nilai argumen time2=\n",
    "#    Gunakan pemfilteran berurutan dengan pengindeksan logis.\n",
    "\n",
    "# 2) Kelompokkan genre_df berdasarkan kolom 'genre', lalu ambil salah satu kolomnya,\n",
    "#    dan gunakan metode count() untuk menemukan jumlah entri untuk masing-masing\n",
    "#    genre yang diwakili; simpan Series yang dihasilkan ke\n",
    "#    variabel genre_df_count\n",
    "\n",
    "# 3) Urutkan genre_df_count dalam urutan menurun dan simpan hasilnya\n",
    "#    ke variabel genre_df_sorted\n",
    "\n",
    "# 4) Menghasilkan objek Series dengan nilai 15 genre_df_sorted pertama - 15 genre paling\n",
    "#    populer (pada hari tertentu, dalam jangka waktu tertentu)\n",
    "\n",
    "# tulis fungsi Anda di sini\n",
    "def genre_weekday(df, day, time1, time2):\n",
    "    \n",
    "    # pemfilteran berturut-turut\n",
    "    # genre_df hanya akan menyimpan baris df di mana day sama dengan day=\n",
    "    genre_df = df[df['day'] == day] \n",
    "\n",
    "    # genre_df hanya akan menyimpan baris df di mana time lebih besar dari time1=\n",
    "    genre_df = genre_df[genre_df['time'] > time1]\n",
    "    \n",
    "    # genre_df hanya akan menyimpan baris df di mana time lebih kecil dari time2=\n",
    "    genre_df = genre_df[genre_df['time'] < time2] \n",
    "\n",
    "    # kelompokkan DataFrame yang difilter berdasarkan kolom dengan nama genre, ambil kolom genre, dan temukan jumlah baris untuk setiap genre dengan metode count()\n",
    "    genre_df_grouped = genre_df.groupby('genre')['genre'].count()\n",
    "\n",
    "    # kita akan mengurutkan hasilnya dalam urutan menurun (sehingga genre paling populer didahulukan pada objek Series\n",
    "    genre_df_sorted = genre_df_grouped.sort_values(ascending=False)\n",
    "\n",
    "    # kita akan menghasilkan objek Series yang menyimpan 15 genre paling populer pada hari tertentu dalam jangka waktu tertentu\n",
    "    return genre_df_sorted[:15]"
   ]
  },
  {
   "cell_type": "markdown",
   "metadata": {
    "id": "la2s2_PF_Zcu"
   },
   "source": [
    "Bandingkan hasil fungsi `genre_weekday()` untuk Springfield dan Shelbyville pada Senin pagi (dari pukul 07.00 hingga 11.00) dan pada Jumat malam (dari pukul 17:00 hingga 23:00):"
   ]
  },
  {
   "cell_type": "code",
   "execution_count": 37,
   "metadata": {
    "id": "yz7itPUQ_Zcu"
   },
   "outputs": [
    {
     "data": {
      "text/plain": [
       "genre\n",
       "pop            781\n",
       "dance          549\n",
       "electronic     480\n",
       "rock           474\n",
       "hiphop         286\n",
       "ruspop         186\n",
       "world          181\n",
       "rusrap         175\n",
       "alternative    164\n",
       "unknown        161\n",
       "classical      157\n",
       "metal          120\n",
       "jazz           100\n",
       "folk            97\n",
       "soundtrack      95\n",
       "Name: genre, dtype: int64"
      ]
     },
     "execution_count": 37,
     "metadata": {},
     "output_type": "execute_result"
    }
   ],
   "source": [
    "# memanggil fungsi untuk Senin pagi di Springfield (gunakan spr_general alih-alih tabel df)\n",
    "mon_mor_spr = genre_weekday(df=spr_general , day='Monday', time1='07:00', time2='11:00')\n",
    "mon_mor_spr"
   ]
  },
  {
   "cell_type": "code",
   "execution_count": 38,
   "metadata": {
    "id": "kwUcHPdy_Zcu"
   },
   "outputs": [
    {
     "data": {
      "text/plain": [
       "genre\n",
       "pop            218\n",
       "dance          182\n",
       "rock           162\n",
       "electronic     147\n",
       "hiphop          80\n",
       "ruspop          64\n",
       "alternative     58\n",
       "rusrap          55\n",
       "jazz            44\n",
       "classical       40\n",
       "world           36\n",
       "rap             32\n",
       "soundtrack      31\n",
       "rnb             27\n",
       "metal           27\n",
       "Name: genre, dtype: int64"
      ]
     },
     "execution_count": 38,
     "metadata": {},
     "output_type": "execute_result"
    }
   ],
   "source": [
    "# memanggil fungsi untuk Senin pagi di Shelbyville (gunakan shel_general alih-alih tabel df)\n",
    "mon_mor_shel = genre_weekday(df=shel_general , day='Monday', time1='07:00', time2='11:00')\n",
    "mon_mor_shel"
   ]
  },
  {
   "cell_type": "code",
   "execution_count": 39,
   "metadata": {
    "id": "EzXVRE1o_Zcu"
   },
   "outputs": [
    {
     "data": {
      "text/plain": [
       "genre\n",
       "pop            713\n",
       "rock           517\n",
       "dance          495\n",
       "electronic     482\n",
       "hiphop         273\n",
       "world          208\n",
       "ruspop         170\n",
       "classical      163\n",
       "alternative    163\n",
       "rusrap         142\n",
       "jazz           111\n",
       "unknown        110\n",
       "soundtrack     105\n",
       "rnb             90\n",
       "metal           88\n",
       "Name: genre, dtype: int64"
      ]
     },
     "execution_count": 39,
     "metadata": {},
     "output_type": "execute_result"
    }
   ],
   "source": [
    "# memanggil fungsi untuk Jumat malam di Springfield\n",
    "fri_eve_spr = genre_weekday(df=spr_general , day='Friday', time1='17:00', time2='23:00')\n",
    "fri_eve_spr"
   ]
  },
  {
   "cell_type": "code",
   "execution_count": 40,
   "metadata": {
    "id": "JZaEKu5v_Zcu",
    "scrolled": true
   },
   "outputs": [
    {
     "data": {
      "text/plain": [
       "genre\n",
       "pop            256\n",
       "rock           216\n",
       "electronic     216\n",
       "dance          210\n",
       "hiphop          97\n",
       "alternative     63\n",
       "jazz            61\n",
       "classical       60\n",
       "rusrap          59\n",
       "world           54\n",
       "unknown         47\n",
       "ruspop          47\n",
       "soundtrack      40\n",
       "metal           39\n",
       "rap             36\n",
       "Name: genre, dtype: int64"
      ]
     },
     "execution_count": 40,
     "metadata": {},
     "output_type": "execute_result"
    }
   ],
   "source": [
    "# memanggil fungsi untuk Jumat malam di Shelbyville\n",
    "fri_eve_shel = genre_weekday(df=shel_general , day='Friday', time1='17:00', time2='23:00')\n",
    "fri_eve_shel"
   ]
  },
  {
   "cell_type": "markdown",
   "metadata": {
    "id": "wrCe4MNX_Zcu"
   },
   "source": [
    "**Kesimpulan**\n",
    "\n",
    "Setelah membandingkan 15 genre teratas pada Senin pagi, kita dapat menarik kesimpulan berikut:\n",
    "\n",
    "1. Pengguna dari Springfield dan Shelbyville mendengarkan musik dengan genre yang sama. Lima genre teratas sama, hanya rock dan elektronik yang bertukar tempat.\n",
    "\n",
    "2. Di Springfield, jumlah nilai yang hilang ternyata sangat besar sehingga nilai `'unknown'` berada di urutan ke-10. Ini berarti bahwa nilai-nilai yang hilang memiliki jumlah data yang cukup besar, yang mungkin menjadi dasar untuk mempertanyakan ketepatan kesimpulan kita.\n",
    "\n",
    "Untuk Jumat malam, situasinya serupa. Genre individu agak bervariasi, tetapi secara keseluruhan, 15 besar genre untuk kedua kota sama.\n",
    "\n",
    "Dengan demikian, hipotesis kedua sebagian terbukti benar:\n",
    "* Pengguna mendengarkan musik yang sama di awal dan akhir minggu.\n",
    "* Tidak ada perbedaan yang mencolok antara Springfield dan Shelbyville. Pada kedua kota tersebut, pop adalah genre yang paling populer.\n",
    "\n",
    "Namun, jumlah nilai yang hilang membuat hasil ini dipertanyakan. Di Springfield, ada begitu banyak yang memengaruhi 15 teratas kita. Jika kita tidak mengabaikan nilai-nilai ini, hasilnya mungkin akan berbeda."
   ]
  },
  {
   "cell_type": "markdown",
   "metadata": {
    "id": "jLmXgdanVyhP"
   },
   "source": [
    "[Kembali ke Daftar Isi](#back)"
   ]
  },
  {
   "cell_type": "markdown",
   "metadata": {
    "id": "JolODAqr_Zcu"
   },
   "source": [
    "### Hipotesis 3: preferensi genre di Springfield dan Shelbyville <a id='genre'></a>\n",
    "\n",
    "Hipotesis: Shelbyville menyukai musik rap. Warga Springfield lebih menyukai pop."
   ]
  },
  {
   "cell_type": "markdown",
   "metadata": {
    "id": "DlegSvaT_Zcu"
   },
   "source": [
    "Kelompokkan tabel `spr_general` berdasarkan genre dan temukan jumlah lagu yang dimainkan untuk setiap genre dengan metode `count()`. Kemudian urutkan hasilnya dalam urutan menurun dan simpan ke `spr_genres`."
   ]
  },
  {
   "cell_type": "code",
   "execution_count": 41,
   "metadata": {
    "id": "r19lIPke_Zcu"
   },
   "outputs": [],
   "source": [
    "# pada satu baris: kelompokkan tabel spr_general berdasarkan kolom 'genre',\n",
    "# hitung nilai 'genre' dengan count() dalam pengelompokan,\n",
    "# urutkan Series yang dihasilkan dalam urutan menurun, lalu simpan ke spr_genres\n",
    "\n",
    "spr_genres = spr_general.groupby('genre')['genre'].count().sort_values(ascending=False)"
   ]
  },
  {
   "cell_type": "markdown",
   "metadata": {
    "id": "6kMuomxTiIr8"
   },
   "source": [
    "Tampilkan 10 baris pertama dari `spr_genres`:"
   ]
  },
  {
   "cell_type": "code",
   "execution_count": 42,
   "metadata": {
    "id": "WhCSooF8_Zcv",
    "outputId": "5c2f3a95-ad0f-4041-d9c9-e88789cdffe7"
   },
   "outputs": [
    {
     "data": {
      "text/plain": [
       "genre\n",
       "pop            5892\n",
       "dance          4435\n",
       "rock           3965\n",
       "electronic     3786\n",
       "hiphop         2096\n",
       "classical      1616\n",
       "world          1432\n",
       "alternative    1379\n",
       "ruspop         1372\n",
       "rusrap         1161\n",
       "Name: genre, dtype: int64"
      ]
     },
     "execution_count": 42,
     "metadata": {},
     "output_type": "execute_result"
    }
   ],
   "source": [
    "# menampilkan 10 baris pertama dari spr_genres\n",
    "spr_genres.head(10)"
   ]
  },
  {
   "cell_type": "markdown",
   "metadata": {
    "id": "cnPG2vnN_Zcv"
   },
   "source": [
    "Sekarang lakukan hal yang sama pada data di Shelbyville.\n",
    "\n",
    "Kelompokkan tabel `shel_general` berdasarkan genre dan temukan jumlah lagu yang dimainkan untuk setiap genre. Kemudian urutkan hasilnya dalam urutan menurun dan simpan ke tabel `shel_genres`:"
   ]
  },
  {
   "cell_type": "code",
   "execution_count": 43,
   "metadata": {
    "id": "gluLIpE7_Zcv"
   },
   "outputs": [],
   "source": [
    "# pada satu baris: kelompokkan tabel shel_general menurut kolom 'genre',\n",
    "# hitung nilai 'genre' dalam pengelompokan menggunakan count(),\n",
    "# urutkan Series yang dihasilkan dalam urutan menurun dan simpan ke shel_genres\n",
    "\n",
    "shel_genres = shel_general.groupby('genre')['genre'].count().sort_values(ascending=False)"
   ]
  },
  {
   "cell_type": "markdown",
   "metadata": {
    "id": "5Doha_ODgyQ8"
   },
   "source": [
    "Tampilkan 10 baris pertama dari `shel_genres`:"
   ]
  },
  {
   "cell_type": "code",
   "execution_count": 44,
   "metadata": {
    "id": "uaGJHjVU_Zcv",
    "outputId": "b6caab19-74f9-47e4-f403-c902b5c97507"
   },
   "outputs": [
    {
     "data": {
      "text/plain": [
       "genre\n",
       "pop            2431\n",
       "dance          1932\n",
       "rock           1879\n",
       "electronic     1736\n",
       "hiphop          960\n",
       "alternative     649\n",
       "classical       646\n",
       "rusrap          564\n",
       "ruspop          538\n",
       "world           515\n",
       "Name: genre, dtype: int64"
      ]
     },
     "execution_count": 44,
     "metadata": {},
     "output_type": "execute_result"
    }
   ],
   "source": [
    "# menampilkan 10 baris pertama dari shel_genres\n",
    "shel_genres.head(10)"
   ]
  },
  {
   "cell_type": "markdown",
   "metadata": {
    "id": "RY51YJYu_Zcv"
   },
   "source": [
    "**Kesimpulan**"
   ]
  },
  {
   "cell_type": "markdown",
   "metadata": {
    "id": "nVhnJEm__Zcv"
   },
   "source": [
    "Hipotesis terbukti benar sebagian:\n",
    "* Musik pop adalah genre paling populer di Springfield, seperti yang diharapkan.\n",
    "* Namun, musik pop ternyata sama populernya baik di Springfield maupun di Shelbyville, dan musik rap tidak berada di 5 besar untuk kedua kota tersebut.\n"
   ]
  },
  {
   "cell_type": "markdown",
   "metadata": {
    "id": "Byr0RfpPVz14"
   },
   "source": [
    "[Kembali ke Daftar Isi](#back)"
   ]
  },
  {
   "cell_type": "markdown",
   "metadata": {
    "id": "ykKQ0N65_Zcv"
   },
   "source": [
    "# Temuan <a id='end'></a>"
   ]
  },
  {
   "cell_type": "markdown",
   "metadata": {
    "id": "tjUwbHb3_Zcv"
   },
   "source": [
    "Kita telah menguji tiga hipotesis berikut:\n",
    "\n",
    "1. Aktivitas pengguna berbeda-beda tergantung pada hari dan kotanya.\n",
    "2. Pada senin pagi, penduduk Springfield dan Shelbyville mendengarkan genre yang berbeda. Hal ini juga ini juga berlaku untuk Jumat malam.\n",
    "3. Pendengar di Springfield dan Shelbyville memiliki preferensi yang berbeda. Baik Springfield maupun di Shelbyville, mereka lebih suka musik pop.\n",
    "\n",
    "Setelah menganalisis data, kita dapat menyimpulkan:\n",
    "\n",
    "1. Aktivitas pengguna di Springfield dan Shelbyville bergantung pada harinya, walaupun kotanya berbeda.\n",
    "\n",
    "Hipotesis pertama dapat diterima sepenuhnya.\n",
    "\n",
    "2. Preferensi musik tidak terlalu berbeda selama seminggu di Springfield dan Shelbyville. Kita dapat melihat perbedaan kecil dalam urutan pada hari Senin, tetapi:\n",
    "* Baik di Springfield maupun di Shelbyville, orang paling banyak mendengarkan musik pop.\n",
    "\n",
    "Jadi hipotesis ini tidak dapat kita terima. Kita juga harus ingat bahwa hasilnya bisa berbeda jika bukan karena nilai yang hilang.\n",
    "\n",
    "3. Ternyata preferensi musik pengguna dari Springfield dan Shelbyville sangat mirip.\n",
    "\n",
    "Hipotesis ketiga ditolak. Jika ada perbedaan preferensi, tidak dapat dilihat dari data ini.\n",
    "\n",
    "### Catatan\n",
    "Dalam proyek sesungguhnya, penelitian melibatkan pengujian hipotesis statistik, yang lebih tepat dan lebih kuantitatif. Perhatikan juga bahwa kamu tidak dapat selalu menarik kesimpulan tentang seluruh kota berdasarkan data dari satu sumber saja.\n",
    "\n",
    "Anda akan mempelajari pengujian hipotesis dalam sprint analisis data statistik."
   ]
  },
  {
   "cell_type": "markdown",
   "metadata": {
    "id": "Ju4AHDSgV1FE"
   },
   "source": [
    "[Kembali ke Daftar Isi](#back)"
   ]
  }
 ],
 "metadata": {
  "ExecuteTimeLog": [
   {
    "duration": 504,
    "start_time": "2022-07-25T07:49:19.949Z"
   },
   {
    "duration": 2,
    "start_time": "2022-07-25T07:51:59.978Z"
   },
   {
    "duration": 2,
    "start_time": "2022-07-25T07:52:03.862Z"
   },
   {
    "duration": 474,
    "start_time": "2022-07-25T11:39:33.584Z"
   },
   {
    "duration": 3,
    "start_time": "2022-07-25T12:50:10.319Z"
   },
   {
    "duration": 536,
    "start_time": "2022-07-25T12:50:19.959Z"
   },
   {
    "duration": 11,
    "start_time": "2022-07-25T12:51:12.400Z"
   },
   {
    "duration": 33,
    "start_time": "2022-07-25T12:51:37.253Z"
   },
   {
    "duration": 4,
    "start_time": "2022-07-25T12:57:59.973Z"
   },
   {
    "duration": 3,
    "start_time": "2022-07-25T12:58:06.869Z"
   },
   {
    "duration": 3,
    "start_time": "2022-07-25T12:58:16.030Z"
   },
   {
    "duration": 3,
    "start_time": "2022-07-25T12:58:27.722Z"
   },
   {
    "duration": 152,
    "start_time": "2022-07-25T13:01:04.917Z"
   },
   {
    "duration": 142,
    "start_time": "2022-07-25T13:01:11.066Z"
   },
   {
    "duration": 148,
    "start_time": "2022-07-25T13:02:01.293Z"
   },
   {
    "duration": 3,
    "start_time": "2022-07-25T13:05:19.022Z"
   },
   {
    "duration": 145,
    "start_time": "2022-07-25T13:06:34.161Z"
   },
   {
    "duration": 613,
    "start_time": "2022-07-25T15:50:45.326Z"
   },
   {
    "duration": 294,
    "start_time": "2022-07-25T15:53:29.409Z"
   },
   {
    "duration": 271,
    "start_time": "2022-07-25T15:54:44.153Z"
   },
   {
    "duration": 271,
    "start_time": "2022-07-25T15:54:48.118Z"
   },
   {
    "duration": 272,
    "start_time": "2022-07-25T15:55:03.520Z"
   },
   {
    "duration": 256,
    "start_time": "2022-07-25T15:55:11.056Z"
   },
   {
    "duration": 280,
    "start_time": "2022-07-25T15:55:39.916Z"
   },
   {
    "duration": 294,
    "start_time": "2022-07-25T15:56:06.819Z"
   },
   {
    "duration": 68,
    "start_time": "2022-07-25T15:56:33.595Z"
   },
   {
    "duration": 47,
    "start_time": "2022-07-25T15:57:04.200Z"
   },
   {
    "duration": 6,
    "start_time": "2022-07-25T15:57:19.372Z"
   },
   {
    "duration": 658,
    "start_time": "2022-07-25T15:57:48.676Z"
   },
   {
    "duration": 360,
    "start_time": "2022-07-25T16:00:21.379Z"
   },
   {
    "duration": 167,
    "start_time": "2022-07-25T16:03:48.764Z"
   },
   {
    "duration": 177,
    "start_time": "2022-07-25T16:04:43.108Z"
   },
   {
    "duration": 588,
    "start_time": "2022-07-26T08:17:22.696Z"
   },
   {
    "duration": 169,
    "start_time": "2022-07-26T08:31:48.410Z"
   },
   {
    "duration": 165,
    "start_time": "2022-07-26T08:32:26.900Z"
   },
   {
    "duration": 165,
    "start_time": "2022-07-26T08:33:05.741Z"
   },
   {
    "duration": 166,
    "start_time": "2022-07-26T08:33:21.930Z"
   },
   {
    "duration": 170,
    "start_time": "2022-07-26T08:34:01.474Z"
   },
   {
    "duration": 165,
    "start_time": "2022-07-26T08:39:53.958Z"
   },
   {
    "duration": 181,
    "start_time": "2022-07-26T08:42:39.565Z"
   },
   {
    "duration": 183,
    "start_time": "2022-07-26T08:48:12.080Z"
   },
   {
    "duration": 186,
    "start_time": "2022-07-26T08:49:02.381Z"
   },
   {
    "duration": 193,
    "start_time": "2022-07-26T08:52:19.492Z"
   },
   {
    "duration": 169,
    "start_time": "2022-07-26T09:00:14.245Z"
   },
   {
    "duration": 165,
    "start_time": "2022-07-26T11:27:01.769Z"
   },
   {
    "duration": 174,
    "start_time": "2022-07-26T11:27:07.742Z"
   },
   {
    "duration": 188,
    "start_time": "2022-07-26T11:28:36.232Z"
   },
   {
    "duration": 1582,
    "start_time": "2022-07-26T11:29:16.821Z"
   },
   {
    "duration": 360,
    "start_time": "2022-07-26T11:29:30.944Z"
   },
   {
    "duration": 301,
    "start_time": "2022-07-26T11:29:48.195Z"
   },
   {
    "duration": 286,
    "start_time": "2022-07-26T11:30:08.924Z"
   },
   {
    "duration": 155,
    "start_time": "2022-07-26T11:30:28.635Z"
   },
   {
    "duration": 158,
    "start_time": "2022-07-26T11:30:43.494Z"
   },
   {
    "duration": 185,
    "start_time": "2022-07-26T11:30:51.807Z"
   },
   {
    "duration": 707,
    "start_time": "2022-07-26T15:30:08.883Z"
   },
   {
    "duration": 177,
    "start_time": "2022-07-26T15:31:08.210Z"
   },
   {
    "duration": 49,
    "start_time": "2022-07-27T15:14:35.193Z"
   },
   {
    "duration": 5,
    "start_time": "2022-07-27T15:14:44.786Z"
   },
   {
    "duration": 562,
    "start_time": "2022-07-27T15:15:02.889Z"
   },
   {
    "duration": 14,
    "start_time": "2022-07-27T15:15:15.995Z"
   },
   {
    "duration": 33,
    "start_time": "2022-07-27T15:15:35.005Z"
   },
   {
    "duration": 37,
    "start_time": "2022-07-27T15:16:03.328Z"
   },
   {
    "duration": 20,
    "start_time": "2022-07-27T15:16:17.676Z"
   },
   {
    "duration": 60,
    "start_time": "2022-07-27T15:16:32.132Z"
   },
   {
    "duration": 56,
    "start_time": "2022-07-27T15:17:35.687Z"
   },
   {
    "duration": 254,
    "start_time": "2022-07-27T15:17:43.695Z"
   },
   {
    "duration": 13,
    "start_time": "2022-07-27T15:18:18.823Z"
   },
   {
    "duration": 48,
    "start_time": "2022-07-27T15:18:52.567Z"
   },
   {
    "duration": 2,
    "start_time": "2022-07-27T15:19:10.704Z"
   },
   {
    "duration": 285,
    "start_time": "2022-07-27T15:19:10.713Z"
   },
   {
    "duration": 10,
    "start_time": "2022-07-27T15:19:10.999Z"
   },
   {
    "duration": 54,
    "start_time": "2022-07-27T15:19:11.010Z"
   },
   {
    "duration": 154,
    "start_time": "2022-07-27T15:19:11.066Z"
   },
   {
    "duration": 13,
    "start_time": "2022-07-27T15:19:11.221Z"
   },
   {
    "duration": 30,
    "start_time": "2022-07-27T15:19:11.236Z"
   },
   {
    "duration": 171,
    "start_time": "2022-07-27T15:19:11.268Z"
   },
   {
    "duration": 35,
    "start_time": "2022-07-27T15:19:11.440Z"
   },
   {
    "duration": 35,
    "start_time": "2022-07-27T15:19:11.477Z"
   },
   {
    "duration": 69,
    "start_time": "2022-07-27T15:19:11.533Z"
   },
   {
    "duration": 244,
    "start_time": "2022-07-27T15:19:11.604Z"
   },
   {
    "duration": 276,
    "start_time": "2022-07-27T15:19:11.849Z"
   },
   {
    "duration": 130,
    "start_time": "2022-07-27T15:19:12.127Z"
   },
   {
    "duration": 137,
    "start_time": "2022-07-27T15:19:12.258Z"
   },
   {
    "duration": 158,
    "start_time": "2022-07-27T15:19:12.397Z"
   },
   {
    "duration": 15,
    "start_time": "2022-07-27T15:19:12.557Z"
   },
   {
    "duration": 211,
    "start_time": "2022-07-27T15:19:12.574Z"
   },
   {
    "duration": 28,
    "start_time": "2022-07-27T15:19:12.787Z"
   },
   {
    "duration": 172,
    "start_time": "2022-07-27T15:19:12.817Z"
   },
   {
    "duration": 0,
    "start_time": "2022-07-27T15:19:12.990Z"
   },
   {
    "duration": 0,
    "start_time": "2022-07-27T15:19:12.991Z"
   },
   {
    "duration": 0,
    "start_time": "2022-07-27T15:19:12.992Z"
   },
   {
    "duration": 0,
    "start_time": "2022-07-27T15:19:12.993Z"
   },
   {
    "duration": 0,
    "start_time": "2022-07-27T15:19:12.994Z"
   },
   {
    "duration": 0,
    "start_time": "2022-07-27T15:19:12.995Z"
   },
   {
    "duration": 0,
    "start_time": "2022-07-27T15:19:12.995Z"
   },
   {
    "duration": 0,
    "start_time": "2022-07-27T15:19:12.996Z"
   },
   {
    "duration": 0,
    "start_time": "2022-07-27T15:19:12.997Z"
   },
   {
    "duration": 0,
    "start_time": "2022-07-27T15:19:12.998Z"
   },
   {
    "duration": 0,
    "start_time": "2022-07-27T15:19:13.000Z"
   },
   {
    "duration": 0,
    "start_time": "2022-07-27T15:19:13.001Z"
   },
   {
    "duration": 0,
    "start_time": "2022-07-27T15:19:13.002Z"
   },
   {
    "duration": 0,
    "start_time": "2022-07-27T15:19:13.003Z"
   },
   {
    "duration": 0,
    "start_time": "2022-07-27T15:19:13.004Z"
   },
   {
    "duration": 0,
    "start_time": "2022-07-27T15:19:13.005Z"
   },
   {
    "duration": 0,
    "start_time": "2022-07-27T15:19:13.005Z"
   },
   {
    "duration": 0,
    "start_time": "2022-07-27T15:19:13.006Z"
   },
   {
    "duration": 26,
    "start_time": "2022-07-27T15:19:53.488Z"
   },
   {
    "duration": 7,
    "start_time": "2022-07-27T15:20:04.796Z"
   },
   {
    "duration": 34,
    "start_time": "2022-07-27T15:23:36.652Z"
   },
   {
    "duration": 36,
    "start_time": "2022-07-27T15:23:53.139Z"
   },
   {
    "duration": 171,
    "start_time": "2022-07-27T15:25:03.100Z"
   },
   {
    "duration": 1074,
    "start_time": "2022-07-29T14:50:51.391Z"
   },
   {
    "duration": 253,
    "start_time": "2022-07-29T18:07:09.462Z"
   },
   {
    "duration": 652,
    "start_time": "2022-07-30T10:30:24.769Z"
   },
   {
    "duration": 719,
    "start_time": "2022-07-31T13:03:56.989Z"
   },
   {
    "duration": 219,
    "start_time": "2022-07-31T13:04:44.110Z"
   },
   {
    "duration": 200,
    "start_time": "2022-07-31T13:07:20.444Z"
   },
   {
    "duration": 291,
    "start_time": "2022-07-31T13:07:34.494Z"
   },
   {
    "duration": 196,
    "start_time": "2022-07-31T13:07:53.246Z"
   },
   {
    "duration": 214,
    "start_time": "2022-07-31T13:10:28.784Z"
   },
   {
    "duration": 203,
    "start_time": "2022-07-31T13:12:33.112Z"
   },
   {
    "duration": 196,
    "start_time": "2022-07-31T13:12:58.454Z"
   },
   {
    "duration": 191,
    "start_time": "2022-07-31T13:13:12.469Z"
   },
   {
    "duration": 181,
    "start_time": "2022-07-31T13:50:47.844Z"
   },
   {
    "duration": 195,
    "start_time": "2022-07-31T13:51:00.819Z"
   },
   {
    "duration": 199,
    "start_time": "2022-07-31T13:56:11.484Z"
   },
   {
    "duration": 198,
    "start_time": "2022-07-31T14:08:13.897Z"
   },
   {
    "duration": 389,
    "start_time": "2022-07-31T20:54:03.278Z"
   },
   {
    "duration": 356,
    "start_time": "2022-07-31T20:54:03.669Z"
   },
   {
    "duration": 10,
    "start_time": "2022-07-31T20:54:04.027Z"
   },
   {
    "duration": 31,
    "start_time": "2022-07-31T20:54:04.039Z"
   },
   {
    "duration": 7,
    "start_time": "2022-07-31T20:54:04.071Z"
   },
   {
    "duration": 15,
    "start_time": "2022-07-31T20:54:04.080Z"
   },
   {
    "duration": 52,
    "start_time": "2022-07-31T20:54:04.097Z"
   },
   {
    "duration": 25,
    "start_time": "2022-07-31T20:54:04.150Z"
   },
   {
    "duration": 66,
    "start_time": "2022-07-31T20:54:04.176Z"
   },
   {
    "duration": 23,
    "start_time": "2022-07-31T20:54:04.245Z"
   },
   {
    "duration": 96,
    "start_time": "2022-07-31T20:54:04.270Z"
   },
   {
    "duration": 158,
    "start_time": "2022-07-31T20:54:04.368Z"
   },
   {
    "duration": 154,
    "start_time": "2022-07-31T20:54:04.528Z"
   },
   {
    "duration": 6,
    "start_time": "2022-07-31T20:54:04.684Z"
   },
   {
    "duration": 180,
    "start_time": "2022-07-31T20:54:04.692Z"
   },
   {
    "duration": 184,
    "start_time": "2022-07-31T20:54:04.874Z"
   },
   {
    "duration": 15,
    "start_time": "2022-07-31T20:54:05.061Z"
   },
   {
    "duration": 200,
    "start_time": "2022-07-31T20:54:05.078Z"
   },
   {
    "duration": 44,
    "start_time": "2022-07-31T20:54:05.280Z"
   },
   {
    "duration": 173,
    "start_time": "2022-07-31T20:54:05.325Z"
   },
   {
    "duration": 2,
    "start_time": "2022-07-31T20:54:05.500Z"
   },
   {
    "duration": 8,
    "start_time": "2022-07-31T20:54:05.504Z"
   },
   {
    "duration": 14,
    "start_time": "2022-07-31T20:54:05.513Z"
   },
   {
    "duration": 5,
    "start_time": "2022-07-31T20:54:05.529Z"
   },
   {
    "duration": 6,
    "start_time": "2022-07-31T20:54:05.536Z"
   },
   {
    "duration": 8,
    "start_time": "2022-07-31T20:54:05.544Z"
   },
   {
    "duration": 5,
    "start_time": "2022-07-31T20:54:05.553Z"
   },
   {
    "duration": 5,
    "start_time": "2022-07-31T20:54:05.561Z"
   },
   {
    "duration": 7,
    "start_time": "2022-07-31T20:54:05.568Z"
   },
   {
    "duration": 78,
    "start_time": "2022-07-31T20:54:05.576Z"
   },
   {
    "duration": 0,
    "start_time": "2022-07-31T20:54:05.656Z"
   },
   {
    "duration": 0,
    "start_time": "2022-07-31T20:54:05.657Z"
   },
   {
    "duration": 0,
    "start_time": "2022-07-31T20:54:05.658Z"
   },
   {
    "duration": 0,
    "start_time": "2022-07-31T20:54:05.659Z"
   },
   {
    "duration": 0,
    "start_time": "2022-07-31T20:54:05.660Z"
   },
   {
    "duration": 0,
    "start_time": "2022-07-31T20:54:05.661Z"
   },
   {
    "duration": 0,
    "start_time": "2022-07-31T20:54:05.662Z"
   },
   {
    "duration": 0,
    "start_time": "2022-07-31T20:54:05.664Z"
   },
   {
    "duration": 2,
    "start_time": "2022-07-31T20:56:05.473Z"
   },
   {
    "duration": 282,
    "start_time": "2022-07-31T20:56:05.485Z"
   },
   {
    "duration": 9,
    "start_time": "2022-07-31T20:56:05.769Z"
   },
   {
    "duration": 53,
    "start_time": "2022-07-31T20:56:05.780Z"
   },
   {
    "duration": 8,
    "start_time": "2022-07-31T20:56:05.835Z"
   },
   {
    "duration": 11,
    "start_time": "2022-07-31T20:56:05.845Z"
   },
   {
    "duration": 28,
    "start_time": "2022-07-31T20:56:05.858Z"
   },
   {
    "duration": 54,
    "start_time": "2022-07-31T20:56:05.888Z"
   },
   {
    "duration": 44,
    "start_time": "2022-07-31T20:56:05.943Z"
   },
   {
    "duration": 40,
    "start_time": "2022-07-31T20:56:05.988Z"
   },
   {
    "duration": 60,
    "start_time": "2022-07-31T20:56:06.031Z"
   },
   {
    "duration": 139,
    "start_time": "2022-07-31T20:56:06.092Z"
   },
   {
    "duration": 120,
    "start_time": "2022-07-31T20:56:06.233Z"
   },
   {
    "duration": 7,
    "start_time": "2022-07-31T20:56:06.354Z"
   },
   {
    "duration": 9,
    "start_time": "2022-07-31T20:56:06.362Z"
   },
   {
    "duration": 18,
    "start_time": "2022-07-31T20:56:06.373Z"
   },
   {
    "duration": 12,
    "start_time": "2022-07-31T20:56:06.393Z"
   },
   {
    "duration": 42,
    "start_time": "2022-07-31T20:56:06.407Z"
   },
   {
    "duration": 30,
    "start_time": "2022-07-31T20:56:06.451Z"
   },
   {
    "duration": 41,
    "start_time": "2022-07-31T20:56:06.483Z"
   },
   {
    "duration": 2,
    "start_time": "2022-07-31T20:56:06.526Z"
   },
   {
    "duration": 6,
    "start_time": "2022-07-31T20:56:06.530Z"
   },
   {
    "duration": 7,
    "start_time": "2022-07-31T20:56:06.537Z"
   },
   {
    "duration": 8,
    "start_time": "2022-07-31T20:56:06.546Z"
   },
   {
    "duration": 6,
    "start_time": "2022-07-31T20:56:06.555Z"
   },
   {
    "duration": 6,
    "start_time": "2022-07-31T20:56:06.562Z"
   },
   {
    "duration": 8,
    "start_time": "2022-07-31T20:56:06.569Z"
   },
   {
    "duration": 4,
    "start_time": "2022-07-31T20:56:06.579Z"
   },
   {
    "duration": 3,
    "start_time": "2022-07-31T20:56:06.586Z"
   },
   {
    "duration": 76,
    "start_time": "2022-07-31T20:56:06.591Z"
   },
   {
    "duration": 0,
    "start_time": "2022-07-31T20:56:06.669Z"
   },
   {
    "duration": 0,
    "start_time": "2022-07-31T20:56:06.670Z"
   },
   {
    "duration": 0,
    "start_time": "2022-07-31T20:56:06.671Z"
   },
   {
    "duration": 0,
    "start_time": "2022-07-31T20:56:06.673Z"
   },
   {
    "duration": 0,
    "start_time": "2022-07-31T20:56:06.674Z"
   },
   {
    "duration": 0,
    "start_time": "2022-07-31T20:56:06.675Z"
   },
   {
    "duration": 0,
    "start_time": "2022-07-31T20:56:06.676Z"
   },
   {
    "duration": 0,
    "start_time": "2022-07-31T20:56:06.677Z"
   },
   {
    "duration": 88,
    "start_time": "2022-08-01T05:23:14.828Z"
   },
   {
    "duration": 8,
    "start_time": "2022-08-03T12:03:40.218Z"
   },
   {
    "duration": 3,
    "start_time": "2022-08-03T12:03:45.217Z"
   },
   {
    "duration": 3,
    "start_time": "2022-08-03T12:46:36.973Z"
   },
   {
    "duration": 46,
    "start_time": "2022-08-03T16:45:05.594Z"
   },
   {
    "duration": 7,
    "start_time": "2022-08-03T16:45:33.103Z"
   },
   {
    "duration": 6,
    "start_time": "2022-08-03T16:47:04.997Z"
   },
   {
    "duration": 3,
    "start_time": "2022-08-03T16:49:36.922Z"
   },
   {
    "duration": 4,
    "start_time": "2022-08-03T16:51:28.036Z"
   },
   {
    "duration": 7,
    "start_time": "2022-08-03T16:51:34.852Z"
   },
   {
    "duration": 7,
    "start_time": "2022-08-03T16:52:03.333Z"
   },
   {
    "duration": 8,
    "start_time": "2022-08-03T16:52:14.281Z"
   },
   {
    "duration": 417,
    "start_time": "2022-08-03T16:52:59.643Z"
   },
   {
    "duration": 346,
    "start_time": "2022-08-03T16:53:00.062Z"
   },
   {
    "duration": 9,
    "start_time": "2022-08-03T16:53:00.410Z"
   },
   {
    "duration": 39,
    "start_time": "2022-08-03T16:53:00.422Z"
   },
   {
    "duration": 8,
    "start_time": "2022-08-03T16:53:00.463Z"
   },
   {
    "duration": 24,
    "start_time": "2022-08-03T16:53:00.473Z"
   },
   {
    "duration": 36,
    "start_time": "2022-08-03T16:53:00.499Z"
   },
   {
    "duration": 25,
    "start_time": "2022-08-03T16:53:00.537Z"
   },
   {
    "duration": 41,
    "start_time": "2022-08-03T16:53:00.564Z"
   },
   {
    "duration": 33,
    "start_time": "2022-08-03T16:53:00.608Z"
   },
   {
    "duration": 58,
    "start_time": "2022-08-03T16:53:00.642Z"
   },
   {
    "duration": 151,
    "start_time": "2022-08-03T16:53:00.702Z"
   },
   {
    "duration": 123,
    "start_time": "2022-08-03T16:53:00.855Z"
   },
   {
    "duration": 7,
    "start_time": "2022-08-03T16:53:00.980Z"
   },
   {
    "duration": 10,
    "start_time": "2022-08-03T16:53:00.988Z"
   },
   {
    "duration": 26,
    "start_time": "2022-08-03T16:53:00.999Z"
   },
   {
    "duration": 17,
    "start_time": "2022-08-03T16:53:01.026Z"
   },
   {
    "duration": 51,
    "start_time": "2022-08-03T16:53:01.044Z"
   },
   {
    "duration": 28,
    "start_time": "2022-08-03T16:53:01.097Z"
   },
   {
    "duration": 7,
    "start_time": "2022-08-03T16:53:01.126Z"
   },
   {
    "duration": 6,
    "start_time": "2022-08-03T16:53:01.134Z"
   },
   {
    "duration": 12,
    "start_time": "2022-08-03T16:53:01.142Z"
   },
   {
    "duration": 12,
    "start_time": "2022-08-03T16:53:01.155Z"
   },
   {
    "duration": 10,
    "start_time": "2022-08-03T16:53:01.168Z"
   },
   {
    "duration": 9,
    "start_time": "2022-08-03T16:53:01.179Z"
   },
   {
    "duration": 8,
    "start_time": "2022-08-03T16:53:01.190Z"
   },
   {
    "duration": 6,
    "start_time": "2022-08-03T16:53:01.199Z"
   },
   {
    "duration": 19,
    "start_time": "2022-08-03T16:53:01.208Z"
   },
   {
    "duration": 13,
    "start_time": "2022-08-03T16:53:01.228Z"
   },
   {
    "duration": 107,
    "start_time": "2022-08-03T16:53:01.243Z"
   },
   {
    "duration": 0,
    "start_time": "2022-08-03T16:53:01.352Z"
   },
   {
    "duration": 0,
    "start_time": "2022-08-03T16:53:01.353Z"
   },
   {
    "duration": 0,
    "start_time": "2022-08-03T16:53:01.354Z"
   },
   {
    "duration": 0,
    "start_time": "2022-08-03T16:53:01.355Z"
   },
   {
    "duration": 0,
    "start_time": "2022-08-03T16:53:01.356Z"
   },
   {
    "duration": 0,
    "start_time": "2022-08-03T16:53:01.357Z"
   },
   {
    "duration": 0,
    "start_time": "2022-08-03T16:53:01.358Z"
   },
   {
    "duration": 0,
    "start_time": "2022-08-03T16:53:01.359Z"
   },
   {
    "duration": 6,
    "start_time": "2022-08-03T16:54:29.323Z"
   },
   {
    "duration": 74,
    "start_time": "2022-08-04T06:23:21.828Z"
   },
   {
    "duration": 12,
    "start_time": "2022-08-04T06:23:33.186Z"
   },
   {
    "duration": 116,
    "start_time": "2022-08-04T06:24:40.093Z"
   },
   {
    "duration": 142,
    "start_time": "2022-08-04T06:24:44.932Z"
   },
   {
    "duration": 415,
    "start_time": "2022-08-04T06:24:52.364Z"
   },
   {
    "duration": 1004,
    "start_time": "2022-08-04T06:24:52.781Z"
   },
   {
    "duration": 19,
    "start_time": "2022-08-04T06:24:53.792Z"
   },
   {
    "duration": 37,
    "start_time": "2022-08-04T06:24:53.814Z"
   },
   {
    "duration": 9,
    "start_time": "2022-08-04T06:24:53.853Z"
   },
   {
    "duration": 17,
    "start_time": "2022-08-04T06:24:53.864Z"
   },
   {
    "duration": 36,
    "start_time": "2022-08-04T06:24:53.896Z"
   },
   {
    "duration": 26,
    "start_time": "2022-08-04T06:24:53.934Z"
   },
   {
    "duration": 82,
    "start_time": "2022-08-04T06:24:53.963Z"
   },
   {
    "duration": 25,
    "start_time": "2022-08-04T06:24:54.048Z"
   },
   {
    "duration": 95,
    "start_time": "2022-08-04T06:24:54.075Z"
   },
   {
    "duration": 150,
    "start_time": "2022-08-04T06:24:54.172Z"
   },
   {
    "duration": 135,
    "start_time": "2022-08-04T06:24:54.323Z"
   },
   {
    "duration": 6,
    "start_time": "2022-08-04T06:24:54.460Z"
   },
   {
    "duration": 4,
    "start_time": "2022-08-04T06:24:54.468Z"
   },
   {
    "duration": 36,
    "start_time": "2022-08-04T06:24:54.473Z"
   },
   {
    "duration": 16,
    "start_time": "2022-08-04T06:24:54.511Z"
   },
   {
    "duration": 33,
    "start_time": "2022-08-04T06:24:54.528Z"
   },
   {
    "duration": 61,
    "start_time": "2022-08-04T06:24:54.562Z"
   },
   {
    "duration": 321,
    "start_time": "2022-08-04T06:24:54.625Z"
   },
   {
    "duration": 0,
    "start_time": "2022-08-04T06:24:54.949Z"
   },
   {
    "duration": 0,
    "start_time": "2022-08-04T06:24:54.950Z"
   },
   {
    "duration": 0,
    "start_time": "2022-08-04T06:24:54.951Z"
   },
   {
    "duration": 0,
    "start_time": "2022-08-04T06:24:54.953Z"
   },
   {
    "duration": 0,
    "start_time": "2022-08-04T06:24:54.954Z"
   },
   {
    "duration": 0,
    "start_time": "2022-08-04T06:24:54.954Z"
   },
   {
    "duration": 0,
    "start_time": "2022-08-04T06:24:54.955Z"
   },
   {
    "duration": 0,
    "start_time": "2022-08-04T06:24:54.956Z"
   },
   {
    "duration": 0,
    "start_time": "2022-08-04T06:24:54.957Z"
   },
   {
    "duration": 0,
    "start_time": "2022-08-04T06:24:54.958Z"
   },
   {
    "duration": 0,
    "start_time": "2022-08-04T06:24:54.960Z"
   },
   {
    "duration": 0,
    "start_time": "2022-08-04T06:24:54.961Z"
   },
   {
    "duration": 0,
    "start_time": "2022-08-04T06:24:54.961Z"
   },
   {
    "duration": 0,
    "start_time": "2022-08-04T06:24:54.962Z"
   },
   {
    "duration": 0,
    "start_time": "2022-08-04T06:24:54.964Z"
   },
   {
    "duration": 0,
    "start_time": "2022-08-04T06:24:54.965Z"
   },
   {
    "duration": 0,
    "start_time": "2022-08-04T06:24:54.966Z"
   },
   {
    "duration": 0,
    "start_time": "2022-08-04T06:24:54.967Z"
   },
   {
    "duration": 3,
    "start_time": "2022-08-04T06:25:13.466Z"
   },
   {
    "duration": 347,
    "start_time": "2022-08-04T06:25:13.475Z"
   },
   {
    "duration": 12,
    "start_time": "2022-08-04T06:25:13.823Z"
   },
   {
    "duration": 56,
    "start_time": "2022-08-04T06:25:13.837Z"
   },
   {
    "duration": 15,
    "start_time": "2022-08-04T06:25:13.895Z"
   },
   {
    "duration": 14,
    "start_time": "2022-08-04T06:25:13.912Z"
   },
   {
    "duration": 40,
    "start_time": "2022-08-04T06:25:13.928Z"
   },
   {
    "duration": 51,
    "start_time": "2022-08-04T06:25:13.970Z"
   },
   {
    "duration": 48,
    "start_time": "2022-08-04T06:25:14.022Z"
   },
   {
    "duration": 45,
    "start_time": "2022-08-04T06:25:14.072Z"
   },
   {
    "duration": 72,
    "start_time": "2022-08-04T06:25:14.120Z"
   },
   {
    "duration": 158,
    "start_time": "2022-08-04T06:25:14.194Z"
   },
   {
    "duration": 142,
    "start_time": "2022-08-04T06:25:14.354Z"
   },
   {
    "duration": 10,
    "start_time": "2022-08-04T06:25:14.501Z"
   },
   {
    "duration": 10,
    "start_time": "2022-08-04T06:25:14.513Z"
   },
   {
    "duration": 20,
    "start_time": "2022-08-04T06:25:14.526Z"
   },
   {
    "duration": 15,
    "start_time": "2022-08-04T06:25:14.548Z"
   },
   {
    "duration": 66,
    "start_time": "2022-08-04T06:25:14.565Z"
   },
   {
    "duration": 31,
    "start_time": "2022-08-04T06:25:14.633Z"
   },
   {
    "duration": 142,
    "start_time": "2022-08-04T06:25:14.666Z"
   },
   {
    "duration": 0,
    "start_time": "2022-08-04T06:25:14.810Z"
   },
   {
    "duration": 0,
    "start_time": "2022-08-04T06:25:14.812Z"
   },
   {
    "duration": 0,
    "start_time": "2022-08-04T06:25:14.813Z"
   },
   {
    "duration": 0,
    "start_time": "2022-08-04T06:25:14.814Z"
   },
   {
    "duration": 0,
    "start_time": "2022-08-04T06:25:14.816Z"
   },
   {
    "duration": 0,
    "start_time": "2022-08-04T06:25:14.817Z"
   },
   {
    "duration": 0,
    "start_time": "2022-08-04T06:25:14.819Z"
   },
   {
    "duration": 0,
    "start_time": "2022-08-04T06:25:14.821Z"
   },
   {
    "duration": 0,
    "start_time": "2022-08-04T06:25:14.823Z"
   },
   {
    "duration": 0,
    "start_time": "2022-08-04T06:25:14.824Z"
   },
   {
    "duration": 0,
    "start_time": "2022-08-04T06:25:14.825Z"
   },
   {
    "duration": 0,
    "start_time": "2022-08-04T06:25:14.827Z"
   },
   {
    "duration": 0,
    "start_time": "2022-08-04T06:25:14.828Z"
   },
   {
    "duration": 0,
    "start_time": "2022-08-04T06:25:14.830Z"
   },
   {
    "duration": 0,
    "start_time": "2022-08-04T06:25:14.832Z"
   },
   {
    "duration": 0,
    "start_time": "2022-08-04T06:25:14.833Z"
   },
   {
    "duration": 0,
    "start_time": "2022-08-04T06:25:14.834Z"
   },
   {
    "duration": 0,
    "start_time": "2022-08-04T06:25:14.836Z"
   },
   {
    "duration": 42,
    "start_time": "2022-08-04T06:25:38.562Z"
   },
   {
    "duration": 11,
    "start_time": "2022-08-04T06:25:47.691Z"
   },
   {
    "duration": 356,
    "start_time": "2022-08-04T06:25:47.716Z"
   },
   {
    "duration": 30,
    "start_time": "2022-08-04T06:25:48.074Z"
   },
   {
    "duration": 31,
    "start_time": "2022-08-04T06:25:48.105Z"
   },
   {
    "duration": 7,
    "start_time": "2022-08-04T06:25:48.138Z"
   },
   {
    "duration": 10,
    "start_time": "2022-08-04T06:25:48.147Z"
   },
   {
    "duration": 52,
    "start_time": "2022-08-04T06:25:48.159Z"
   },
   {
    "duration": 29,
    "start_time": "2022-08-04T06:25:48.213Z"
   },
   {
    "duration": 70,
    "start_time": "2022-08-04T06:25:48.244Z"
   },
   {
    "duration": 26,
    "start_time": "2022-08-04T06:25:48.315Z"
   },
   {
    "duration": 85,
    "start_time": "2022-08-04T06:25:48.344Z"
   },
   {
    "duration": 144,
    "start_time": "2022-08-04T06:25:48.431Z"
   },
   {
    "duration": 140,
    "start_time": "2022-08-04T06:25:48.576Z"
   },
   {
    "duration": 8,
    "start_time": "2022-08-04T06:25:48.719Z"
   },
   {
    "duration": 9,
    "start_time": "2022-08-04T06:25:48.728Z"
   },
   {
    "duration": 29,
    "start_time": "2022-08-04T06:25:48.739Z"
   },
   {
    "duration": 15,
    "start_time": "2022-08-04T06:25:48.770Z"
   },
   {
    "duration": 51,
    "start_time": "2022-08-04T06:25:48.786Z"
   },
   {
    "duration": 32,
    "start_time": "2022-08-04T06:25:48.839Z"
   },
   {
    "duration": 7,
    "start_time": "2022-08-04T06:25:48.873Z"
   },
   {
    "duration": 0,
    "start_time": "2022-08-04T06:25:48.882Z"
   },
   {
    "duration": 0,
    "start_time": "2022-08-04T06:25:48.894Z"
   },
   {
    "duration": 0,
    "start_time": "2022-08-04T06:25:48.895Z"
   },
   {
    "duration": 0,
    "start_time": "2022-08-04T06:25:48.896Z"
   },
   {
    "duration": 0,
    "start_time": "2022-08-04T06:25:48.897Z"
   },
   {
    "duration": 0,
    "start_time": "2022-08-04T06:25:48.903Z"
   },
   {
    "duration": 0,
    "start_time": "2022-08-04T06:25:48.904Z"
   },
   {
    "duration": 0,
    "start_time": "2022-08-04T06:25:48.906Z"
   },
   {
    "duration": 0,
    "start_time": "2022-08-04T06:25:48.909Z"
   },
   {
    "duration": 0,
    "start_time": "2022-08-04T06:25:48.911Z"
   },
   {
    "duration": 0,
    "start_time": "2022-08-04T06:25:48.912Z"
   },
   {
    "duration": 0,
    "start_time": "2022-08-04T06:25:48.913Z"
   },
   {
    "duration": 0,
    "start_time": "2022-08-04T06:25:48.915Z"
   },
   {
    "duration": 0,
    "start_time": "2022-08-04T06:25:48.916Z"
   },
   {
    "duration": 0,
    "start_time": "2022-08-04T06:25:48.917Z"
   },
   {
    "duration": 0,
    "start_time": "2022-08-04T06:25:48.918Z"
   },
   {
    "duration": 0,
    "start_time": "2022-08-04T06:25:48.919Z"
   },
   {
    "duration": 0,
    "start_time": "2022-08-04T06:25:48.920Z"
   },
   {
    "duration": 8,
    "start_time": "2022-08-04T06:26:37.163Z"
   },
   {
    "duration": 2,
    "start_time": "2022-08-04T06:26:42.648Z"
   },
   {
    "duration": 320,
    "start_time": "2022-08-04T06:26:42.658Z"
   },
   {
    "duration": 12,
    "start_time": "2022-08-04T06:26:42.999Z"
   },
   {
    "duration": 31,
    "start_time": "2022-08-04T06:26:43.013Z"
   },
   {
    "duration": 7,
    "start_time": "2022-08-04T06:26:43.046Z"
   },
   {
    "duration": 9,
    "start_time": "2022-08-04T06:26:43.055Z"
   },
   {
    "duration": 60,
    "start_time": "2022-08-04T06:26:43.065Z"
   },
   {
    "duration": 25,
    "start_time": "2022-08-04T06:26:43.127Z"
   },
   {
    "duration": 75,
    "start_time": "2022-08-04T06:26:43.154Z"
   },
   {
    "duration": 28,
    "start_time": "2022-08-04T06:26:43.230Z"
   },
   {
    "duration": 79,
    "start_time": "2022-08-04T06:26:43.260Z"
   },
   {
    "duration": 124,
    "start_time": "2022-08-04T06:26:43.341Z"
   },
   {
    "duration": 143,
    "start_time": "2022-08-04T06:26:43.467Z"
   },
   {
    "duration": 7,
    "start_time": "2022-08-04T06:26:43.611Z"
   },
   {
    "duration": 3,
    "start_time": "2022-08-04T06:26:43.620Z"
   },
   {
    "duration": 16,
    "start_time": "2022-08-04T06:26:43.624Z"
   },
   {
    "duration": 13,
    "start_time": "2022-08-04T06:26:43.642Z"
   },
   {
    "duration": 63,
    "start_time": "2022-08-04T06:26:43.657Z"
   },
   {
    "duration": 31,
    "start_time": "2022-08-04T06:26:43.722Z"
   },
   {
    "duration": 8,
    "start_time": "2022-08-04T06:26:43.755Z"
   },
   {
    "duration": 0,
    "start_time": "2022-08-04T06:26:43.765Z"
   },
   {
    "duration": 0,
    "start_time": "2022-08-04T06:26:43.766Z"
   },
   {
    "duration": 0,
    "start_time": "2022-08-04T06:26:43.767Z"
   },
   {
    "duration": 0,
    "start_time": "2022-08-04T06:26:43.768Z"
   },
   {
    "duration": 0,
    "start_time": "2022-08-04T06:26:43.770Z"
   },
   {
    "duration": 0,
    "start_time": "2022-08-04T06:26:43.798Z"
   },
   {
    "duration": 0,
    "start_time": "2022-08-04T06:26:43.799Z"
   },
   {
    "duration": 0,
    "start_time": "2022-08-04T06:26:43.800Z"
   },
   {
    "duration": 0,
    "start_time": "2022-08-04T06:26:43.800Z"
   },
   {
    "duration": 0,
    "start_time": "2022-08-04T06:26:43.801Z"
   },
   {
    "duration": 0,
    "start_time": "2022-08-04T06:26:43.803Z"
   },
   {
    "duration": 0,
    "start_time": "2022-08-04T06:26:43.804Z"
   },
   {
    "duration": 1,
    "start_time": "2022-08-04T06:26:43.804Z"
   },
   {
    "duration": 0,
    "start_time": "2022-08-04T06:26:43.805Z"
   },
   {
    "duration": 0,
    "start_time": "2022-08-04T06:26:43.807Z"
   },
   {
    "duration": 0,
    "start_time": "2022-08-04T06:26:43.809Z"
   },
   {
    "duration": 0,
    "start_time": "2022-08-04T06:26:43.810Z"
   },
   {
    "duration": 0,
    "start_time": "2022-08-04T06:26:43.811Z"
   },
   {
    "duration": 4,
    "start_time": "2022-08-04T06:27:42.524Z"
   },
   {
    "duration": 3,
    "start_time": "2022-08-04T06:27:46.413Z"
   },
   {
    "duration": 2,
    "start_time": "2022-08-04T06:27:53.169Z"
   },
   {
    "duration": 331,
    "start_time": "2022-08-04T06:27:53.178Z"
   },
   {
    "duration": 10,
    "start_time": "2022-08-04T06:27:53.511Z"
   },
   {
    "duration": 35,
    "start_time": "2022-08-04T06:27:53.523Z"
   },
   {
    "duration": 9,
    "start_time": "2022-08-04T06:27:53.560Z"
   },
   {
    "duration": 20,
    "start_time": "2022-08-04T06:27:53.592Z"
   },
   {
    "duration": 29,
    "start_time": "2022-08-04T06:27:53.614Z"
   },
   {
    "duration": 24,
    "start_time": "2022-08-04T06:27:53.645Z"
   },
   {
    "duration": 76,
    "start_time": "2022-08-04T06:27:53.671Z"
   },
   {
    "duration": 24,
    "start_time": "2022-08-04T06:27:53.749Z"
   },
   {
    "duration": 63,
    "start_time": "2022-08-04T06:27:53.776Z"
   },
   {
    "duration": 140,
    "start_time": "2022-08-04T06:27:53.841Z"
   },
   {
    "duration": 152,
    "start_time": "2022-08-04T06:27:53.983Z"
   },
   {
    "duration": 7,
    "start_time": "2022-08-04T06:27:54.136Z"
   },
   {
    "duration": 8,
    "start_time": "2022-08-04T06:27:54.145Z"
   },
   {
    "duration": 18,
    "start_time": "2022-08-04T06:27:54.154Z"
   },
   {
    "duration": 41,
    "start_time": "2022-08-04T06:27:54.174Z"
   },
   {
    "duration": 32,
    "start_time": "2022-08-04T06:27:54.217Z"
   },
   {
    "duration": 56,
    "start_time": "2022-08-04T06:27:54.251Z"
   },
   {
    "duration": 3,
    "start_time": "2022-08-04T06:27:54.309Z"
   },
   {
    "duration": 7,
    "start_time": "2022-08-04T06:27:54.314Z"
   },
   {
    "duration": 5,
    "start_time": "2022-08-04T06:27:54.323Z"
   },
   {
    "duration": 5,
    "start_time": "2022-08-04T06:27:54.330Z"
   },
   {
    "duration": 5,
    "start_time": "2022-08-04T06:27:54.337Z"
   },
   {
    "duration": 11,
    "start_time": "2022-08-04T06:27:54.344Z"
   },
   {
    "duration": 6,
    "start_time": "2022-08-04T06:27:54.357Z"
   },
   {
    "duration": 5,
    "start_time": "2022-08-04T06:27:54.365Z"
   },
   {
    "duration": 5,
    "start_time": "2022-08-04T06:27:54.372Z"
   },
   {
    "duration": 6,
    "start_time": "2022-08-04T06:27:54.381Z"
   },
   {
    "duration": 139,
    "start_time": "2022-08-04T06:27:54.391Z"
   },
   {
    "duration": 0,
    "start_time": "2022-08-04T06:27:54.532Z"
   },
   {
    "duration": 0,
    "start_time": "2022-08-04T06:27:54.534Z"
   },
   {
    "duration": 0,
    "start_time": "2022-08-04T06:27:54.535Z"
   },
   {
    "duration": 0,
    "start_time": "2022-08-04T06:27:54.537Z"
   },
   {
    "duration": 0,
    "start_time": "2022-08-04T06:27:54.538Z"
   },
   {
    "duration": 0,
    "start_time": "2022-08-04T06:27:54.540Z"
   },
   {
    "duration": 0,
    "start_time": "2022-08-04T06:27:54.541Z"
   },
   {
    "duration": 0,
    "start_time": "2022-08-04T06:27:54.543Z"
   },
   {
    "duration": 8,
    "start_time": "2022-08-04T06:28:08.355Z"
   },
   {
    "duration": 7,
    "start_time": "2022-08-04T06:28:52.461Z"
   },
   {
    "duration": 11,
    "start_time": "2022-08-04T06:29:16.916Z"
   },
   {
    "duration": 9,
    "start_time": "2022-08-04T06:29:26.445Z"
   },
   {
    "duration": 8,
    "start_time": "2022-08-04T06:35:36.044Z"
   },
   {
    "duration": 417,
    "start_time": "2022-08-04T11:55:37.053Z"
   },
   {
    "duration": 309,
    "start_time": "2022-08-04T11:55:37.472Z"
   },
   {
    "duration": 14,
    "start_time": "2022-08-04T11:55:37.783Z"
   },
   {
    "duration": 46,
    "start_time": "2022-08-04T11:55:37.799Z"
   },
   {
    "duration": 12,
    "start_time": "2022-08-04T11:55:37.846Z"
   },
   {
    "duration": 15,
    "start_time": "2022-08-04T11:55:37.860Z"
   },
   {
    "duration": 37,
    "start_time": "2022-08-04T11:55:37.877Z"
   },
   {
    "duration": 21,
    "start_time": "2022-08-04T11:55:37.915Z"
   },
   {
    "duration": 44,
    "start_time": "2022-08-04T11:55:37.937Z"
   },
   {
    "duration": 19,
    "start_time": "2022-08-04T11:55:37.983Z"
   },
   {
    "duration": 63,
    "start_time": "2022-08-04T11:55:38.003Z"
   },
   {
    "duration": 125,
    "start_time": "2022-08-04T11:55:38.067Z"
   },
   {
    "duration": 111,
    "start_time": "2022-08-04T11:55:38.193Z"
   },
   {
    "duration": 6,
    "start_time": "2022-08-04T11:55:38.305Z"
   },
   {
    "duration": 3,
    "start_time": "2022-08-04T11:55:38.313Z"
   },
   {
    "duration": 15,
    "start_time": "2022-08-04T11:55:38.317Z"
   },
   {
    "duration": 32,
    "start_time": "2022-08-04T11:55:38.333Z"
   },
   {
    "duration": 26,
    "start_time": "2022-08-04T11:55:38.366Z"
   },
   {
    "duration": 25,
    "start_time": "2022-08-04T11:55:38.393Z"
   },
   {
    "duration": 79,
    "start_time": "2022-08-04T11:55:38.419Z"
   },
   {
    "duration": 0,
    "start_time": "2022-08-04T11:55:38.500Z"
   },
   {
    "duration": 0,
    "start_time": "2022-08-04T11:55:38.501Z"
   },
   {
    "duration": 0,
    "start_time": "2022-08-04T11:55:38.502Z"
   },
   {
    "duration": 0,
    "start_time": "2022-08-04T11:55:38.503Z"
   },
   {
    "duration": 0,
    "start_time": "2022-08-04T11:55:38.505Z"
   },
   {
    "duration": 0,
    "start_time": "2022-08-04T11:55:38.506Z"
   },
   {
    "duration": 0,
    "start_time": "2022-08-04T11:55:38.507Z"
   },
   {
    "duration": 0,
    "start_time": "2022-08-04T11:55:38.507Z"
   },
   {
    "duration": 0,
    "start_time": "2022-08-04T11:55:38.509Z"
   },
   {
    "duration": 0,
    "start_time": "2022-08-04T11:55:38.509Z"
   },
   {
    "duration": 0,
    "start_time": "2022-08-04T11:55:38.510Z"
   },
   {
    "duration": 0,
    "start_time": "2022-08-04T11:55:38.511Z"
   },
   {
    "duration": 0,
    "start_time": "2022-08-04T11:55:38.512Z"
   },
   {
    "duration": 0,
    "start_time": "2022-08-04T11:55:38.514Z"
   },
   {
    "duration": 0,
    "start_time": "2022-08-04T11:55:38.515Z"
   },
   {
    "duration": 0,
    "start_time": "2022-08-04T11:55:38.516Z"
   },
   {
    "duration": 0,
    "start_time": "2022-08-04T11:55:38.517Z"
   },
   {
    "duration": 0,
    "start_time": "2022-08-04T11:55:38.518Z"
   },
   {
    "duration": 4,
    "start_time": "2022-08-04T15:54:28.214Z"
   },
   {
    "duration": 2,
    "start_time": "2022-08-04T15:54:34.445Z"
   },
   {
    "duration": 251,
    "start_time": "2022-08-04T15:54:34.457Z"
   },
   {
    "duration": 9,
    "start_time": "2022-08-04T15:54:34.709Z"
   },
   {
    "duration": 41,
    "start_time": "2022-08-04T15:54:34.719Z"
   },
   {
    "duration": 7,
    "start_time": "2022-08-04T15:54:34.761Z"
   },
   {
    "duration": 10,
    "start_time": "2022-08-04T15:54:34.769Z"
   },
   {
    "duration": 24,
    "start_time": "2022-08-04T15:54:34.780Z"
   },
   {
    "duration": 19,
    "start_time": "2022-08-04T15:54:34.805Z"
   },
   {
    "duration": 61,
    "start_time": "2022-08-04T15:54:34.825Z"
   },
   {
    "duration": 18,
    "start_time": "2022-08-04T15:54:34.888Z"
   },
   {
    "duration": 72,
    "start_time": "2022-08-04T15:54:34.908Z"
   },
   {
    "duration": 113,
    "start_time": "2022-08-04T15:54:34.982Z"
   },
   {
    "duration": 123,
    "start_time": "2022-08-04T15:54:35.097Z"
   },
   {
    "duration": 7,
    "start_time": "2022-08-04T15:54:35.221Z"
   },
   {
    "duration": 36,
    "start_time": "2022-08-04T15:54:35.230Z"
   },
   {
    "duration": 27,
    "start_time": "2022-08-04T15:54:35.268Z"
   },
   {
    "duration": 13,
    "start_time": "2022-08-04T15:54:35.296Z"
   },
   {
    "duration": 26,
    "start_time": "2022-08-04T15:54:35.311Z"
   },
   {
    "duration": 31,
    "start_time": "2022-08-04T15:54:35.338Z"
   },
   {
    "duration": 4,
    "start_time": "2022-08-04T15:54:35.370Z"
   },
   {
    "duration": 7,
    "start_time": "2022-08-04T15:54:35.376Z"
   },
   {
    "duration": 5,
    "start_time": "2022-08-04T15:54:35.384Z"
   },
   {
    "duration": 6,
    "start_time": "2022-08-04T15:54:35.391Z"
   },
   {
    "duration": 6,
    "start_time": "2022-08-04T15:54:35.398Z"
   },
   {
    "duration": 5,
    "start_time": "2022-08-04T15:54:35.406Z"
   },
   {
    "duration": 7,
    "start_time": "2022-08-04T15:54:35.412Z"
   },
   {
    "duration": 14,
    "start_time": "2022-08-04T15:54:35.420Z"
   },
   {
    "duration": 5,
    "start_time": "2022-08-04T15:54:35.436Z"
   },
   {
    "duration": 4,
    "start_time": "2022-08-04T15:54:35.444Z"
   },
   {
    "duration": 114,
    "start_time": "2022-08-04T15:54:35.449Z"
   },
   {
    "duration": 0,
    "start_time": "2022-08-04T15:54:35.565Z"
   },
   {
    "duration": 0,
    "start_time": "2022-08-04T15:54:35.566Z"
   },
   {
    "duration": 0,
    "start_time": "2022-08-04T15:54:35.567Z"
   },
   {
    "duration": 0,
    "start_time": "2022-08-04T15:54:35.568Z"
   },
   {
    "duration": 0,
    "start_time": "2022-08-04T15:54:35.569Z"
   },
   {
    "duration": 0,
    "start_time": "2022-08-04T15:54:35.569Z"
   },
   {
    "duration": 0,
    "start_time": "2022-08-04T15:54:35.570Z"
   },
   {
    "duration": 0,
    "start_time": "2022-08-04T15:54:35.572Z"
   },
   {
    "duration": 8,
    "start_time": "2022-08-05T08:51:47.143Z"
   },
   {
    "duration": 412,
    "start_time": "2022-08-05T08:51:53.754Z"
   },
   {
    "duration": 313,
    "start_time": "2022-08-05T08:51:54.168Z"
   },
   {
    "duration": 9,
    "start_time": "2022-08-05T08:51:54.483Z"
   },
   {
    "duration": 29,
    "start_time": "2022-08-05T08:51:54.494Z"
   },
   {
    "duration": 8,
    "start_time": "2022-08-05T08:51:54.525Z"
   },
   {
    "duration": 27,
    "start_time": "2022-08-05T08:51:54.534Z"
   },
   {
    "duration": 26,
    "start_time": "2022-08-05T08:51:54.562Z"
   },
   {
    "duration": 20,
    "start_time": "2022-08-05T08:51:54.590Z"
   },
   {
    "duration": 53,
    "start_time": "2022-08-05T08:51:54.612Z"
   },
   {
    "duration": 20,
    "start_time": "2022-08-05T08:51:54.668Z"
   },
   {
    "duration": 68,
    "start_time": "2022-08-05T08:51:54.690Z"
   },
   {
    "duration": 120,
    "start_time": "2022-08-05T08:51:54.759Z"
   },
   {
    "duration": 114,
    "start_time": "2022-08-05T08:51:54.880Z"
   },
   {
    "duration": 6,
    "start_time": "2022-08-05T08:51:54.995Z"
   },
   {
    "duration": 11,
    "start_time": "2022-08-05T08:51:55.003Z"
   },
   {
    "duration": 19,
    "start_time": "2022-08-05T08:51:55.021Z"
   },
   {
    "duration": 15,
    "start_time": "2022-08-05T08:51:55.042Z"
   },
   {
    "duration": 26,
    "start_time": "2022-08-05T08:51:55.059Z"
   },
   {
    "duration": 23,
    "start_time": "2022-08-05T08:51:55.087Z"
   },
   {
    "duration": 3,
    "start_time": "2022-08-05T08:51:55.112Z"
   },
   {
    "duration": 9,
    "start_time": "2022-08-05T08:51:55.116Z"
   },
   {
    "duration": 30,
    "start_time": "2022-08-05T08:51:55.127Z"
   },
   {
    "duration": 11,
    "start_time": "2022-08-05T08:51:55.160Z"
   },
   {
    "duration": 10,
    "start_time": "2022-08-05T08:51:55.172Z"
   },
   {
    "duration": 6,
    "start_time": "2022-08-05T08:51:55.184Z"
   },
   {
    "duration": 12,
    "start_time": "2022-08-05T08:51:55.192Z"
   },
   {
    "duration": 11,
    "start_time": "2022-08-05T08:51:55.206Z"
   },
   {
    "duration": 9,
    "start_time": "2022-08-05T08:51:55.221Z"
   },
   {
    "duration": 5,
    "start_time": "2022-08-05T08:51:55.232Z"
   },
   {
    "duration": 138,
    "start_time": "2022-08-05T08:51:55.239Z"
   },
   {
    "duration": 0,
    "start_time": "2022-08-05T08:51:55.378Z"
   },
   {
    "duration": 0,
    "start_time": "2022-08-05T08:51:55.380Z"
   },
   {
    "duration": 0,
    "start_time": "2022-08-05T08:51:55.382Z"
   },
   {
    "duration": 0,
    "start_time": "2022-08-05T08:51:55.383Z"
   },
   {
    "duration": 0,
    "start_time": "2022-08-05T08:51:55.384Z"
   },
   {
    "duration": 0,
    "start_time": "2022-08-05T08:51:55.385Z"
   },
   {
    "duration": 0,
    "start_time": "2022-08-05T08:51:55.387Z"
   },
   {
    "duration": 0,
    "start_time": "2022-08-05T08:51:55.388Z"
   },
   {
    "duration": 3,
    "start_time": "2022-08-05T08:52:13.325Z"
   },
   {
    "duration": 3,
    "start_time": "2022-08-05T08:52:17.211Z"
   },
   {
    "duration": 20,
    "start_time": "2022-08-05T08:54:25.767Z"
   },
   {
    "duration": 3,
    "start_time": "2022-08-05T08:54:51.794Z"
   },
   {
    "duration": 12,
    "start_time": "2022-08-05T08:55:26.289Z"
   },
   {
    "duration": 13,
    "start_time": "2022-08-05T08:55:30.187Z"
   },
   {
    "duration": 20,
    "start_time": "2022-08-05T08:55:47.423Z"
   },
   {
    "duration": 60,
    "start_time": "2022-08-05T09:01:59.020Z"
   },
   {
    "duration": 8,
    "start_time": "2022-08-05T09:02:24.813Z"
   },
   {
    "duration": 7,
    "start_time": "2022-08-05T09:03:08.310Z"
   },
   {
    "duration": 18,
    "start_time": "2022-08-05T09:03:16.829Z"
   },
   {
    "duration": 17,
    "start_time": "2022-08-05T09:03:39.034Z"
   },
   {
    "duration": 30,
    "start_time": "2022-08-05T09:08:27.902Z"
   },
   {
    "duration": 21,
    "start_time": "2022-08-05T09:11:03.478Z"
   },
   {
    "duration": 22,
    "start_time": "2022-08-05T09:11:51.581Z"
   },
   {
    "duration": 20,
    "start_time": "2022-08-05T09:12:07.925Z"
   },
   {
    "duration": 23,
    "start_time": "2022-08-05T09:12:26.023Z"
   },
   {
    "duration": 166,
    "start_time": "2022-08-05T09:20:48.379Z"
   },
   {
    "duration": 18,
    "start_time": "2022-08-05T09:21:10.684Z"
   },
   {
    "duration": 28,
    "start_time": "2022-08-05T09:21:57.776Z"
   },
   {
    "duration": 23,
    "start_time": "2022-08-05T09:23:09.904Z"
   },
   {
    "duration": 12,
    "start_time": "2022-08-05T09:46:40.542Z"
   },
   {
    "duration": 10,
    "start_time": "2022-08-05T09:47:05.609Z"
   },
   {
    "duration": 9,
    "start_time": "2022-08-05T09:47:28.327Z"
   },
   {
    "duration": 13,
    "start_time": "2022-08-05T09:48:15.647Z"
   },
   {
    "duration": 10,
    "start_time": "2022-08-05T09:49:06.255Z"
   },
   {
    "duration": 10,
    "start_time": "2022-08-05T09:50:48.581Z"
   },
   {
    "duration": 23,
    "start_time": "2022-08-05T09:50:57.121Z"
   },
   {
    "duration": 9,
    "start_time": "2022-08-05T09:51:31.280Z"
   },
   {
    "duration": 9,
    "start_time": "2022-08-05T09:51:38.113Z"
   },
   {
    "duration": 13,
    "start_time": "2022-08-05T09:52:05.922Z"
   },
   {
    "duration": 62,
    "start_time": "2022-08-05T09:55:42.017Z"
   },
   {
    "duration": 9,
    "start_time": "2022-08-05T12:22:56.495Z"
   },
   {
    "duration": 24,
    "start_time": "2022-08-05T12:35:24.624Z"
   },
   {
    "duration": 24,
    "start_time": "2022-08-05T12:37:19.292Z"
   },
   {
    "duration": 3,
    "start_time": "2022-08-05T12:38:19.622Z"
   },
   {
    "duration": 257,
    "start_time": "2022-08-05T12:38:19.634Z"
   },
   {
    "duration": 9,
    "start_time": "2022-08-05T12:38:19.893Z"
   },
   {
    "duration": 31,
    "start_time": "2022-08-05T12:38:19.904Z"
   },
   {
    "duration": 24,
    "start_time": "2022-08-05T12:38:19.937Z"
   },
   {
    "duration": 10,
    "start_time": "2022-08-05T12:38:19.963Z"
   },
   {
    "duration": 27,
    "start_time": "2022-08-05T12:38:19.975Z"
   },
   {
    "duration": 21,
    "start_time": "2022-08-05T12:38:20.003Z"
   },
   {
    "duration": 56,
    "start_time": "2022-08-05T12:38:20.025Z"
   },
   {
    "duration": 19,
    "start_time": "2022-08-05T12:38:20.082Z"
   },
   {
    "duration": 68,
    "start_time": "2022-08-05T12:38:20.104Z"
   },
   {
    "duration": 117,
    "start_time": "2022-08-05T12:38:20.174Z"
   },
   {
    "duration": 103,
    "start_time": "2022-08-05T12:38:20.293Z"
   },
   {
    "duration": 6,
    "start_time": "2022-08-05T12:38:20.398Z"
   },
   {
    "duration": 37,
    "start_time": "2022-08-05T12:38:20.405Z"
   },
   {
    "duration": 62,
    "start_time": "2022-08-05T12:38:20.443Z"
   },
   {
    "duration": 12,
    "start_time": "2022-08-05T12:38:20.506Z"
   },
   {
    "duration": 28,
    "start_time": "2022-08-05T12:38:20.520Z"
   },
   {
    "duration": 24,
    "start_time": "2022-08-05T12:38:20.549Z"
   },
   {
    "duration": 8,
    "start_time": "2022-08-05T12:38:20.574Z"
   },
   {
    "duration": 0,
    "start_time": "2022-08-05T12:38:20.583Z"
   },
   {
    "duration": 0,
    "start_time": "2022-08-05T12:38:20.584Z"
   },
   {
    "duration": 0,
    "start_time": "2022-08-05T12:38:20.585Z"
   },
   {
    "duration": 0,
    "start_time": "2022-08-05T12:38:20.586Z"
   },
   {
    "duration": 0,
    "start_time": "2022-08-05T12:38:20.587Z"
   },
   {
    "duration": 0,
    "start_time": "2022-08-05T12:38:20.588Z"
   },
   {
    "duration": 0,
    "start_time": "2022-08-05T12:38:20.589Z"
   },
   {
    "duration": 0,
    "start_time": "2022-08-05T12:38:20.590Z"
   },
   {
    "duration": 0,
    "start_time": "2022-08-05T12:38:20.591Z"
   },
   {
    "duration": 0,
    "start_time": "2022-08-05T12:38:20.593Z"
   },
   {
    "duration": 0,
    "start_time": "2022-08-05T12:38:20.593Z"
   },
   {
    "duration": 0,
    "start_time": "2022-08-05T12:38:20.594Z"
   },
   {
    "duration": 0,
    "start_time": "2022-08-05T12:38:20.595Z"
   },
   {
    "duration": 0,
    "start_time": "2022-08-05T12:38:20.596Z"
   },
   {
    "duration": 0,
    "start_time": "2022-08-05T12:38:20.597Z"
   },
   {
    "duration": 0,
    "start_time": "2022-08-05T12:38:20.598Z"
   },
   {
    "duration": 0,
    "start_time": "2022-08-05T12:38:20.599Z"
   },
   {
    "duration": 0,
    "start_time": "2022-08-05T12:38:20.600Z"
   },
   {
    "duration": 52,
    "start_time": "2022-08-05T12:38:33.499Z"
   },
   {
    "duration": 36,
    "start_time": "2022-08-05T12:38:38.464Z"
   },
   {
    "duration": 43,
    "start_time": "2022-08-06T04:26:25.317Z"
   },
   {
    "duration": 422,
    "start_time": "2022-08-06T04:26:29.784Z"
   },
   {
    "duration": 334,
    "start_time": "2022-08-06T04:26:30.207Z"
   },
   {
    "duration": 11,
    "start_time": "2022-08-06T04:26:30.543Z"
   },
   {
    "duration": 34,
    "start_time": "2022-08-06T04:26:30.556Z"
   },
   {
    "duration": 14,
    "start_time": "2022-08-06T04:26:30.592Z"
   },
   {
    "duration": 23,
    "start_time": "2022-08-06T04:26:30.607Z"
   },
   {
    "duration": 49,
    "start_time": "2022-08-06T04:26:30.632Z"
   },
   {
    "duration": 26,
    "start_time": "2022-08-06T04:26:30.683Z"
   },
   {
    "duration": 73,
    "start_time": "2022-08-06T04:26:30.711Z"
   },
   {
    "duration": 23,
    "start_time": "2022-08-06T04:26:30.787Z"
   },
   {
    "duration": 75,
    "start_time": "2022-08-06T04:26:30.812Z"
   },
   {
    "duration": 155,
    "start_time": "2022-08-06T04:26:30.889Z"
   },
   {
    "duration": 126,
    "start_time": "2022-08-06T04:26:31.046Z"
   },
   {
    "duration": 6,
    "start_time": "2022-08-06T04:26:31.174Z"
   },
   {
    "duration": 18,
    "start_time": "2022-08-06T04:26:31.181Z"
   },
   {
    "duration": 39,
    "start_time": "2022-08-06T04:26:31.201Z"
   },
   {
    "duration": 22,
    "start_time": "2022-08-06T04:26:31.241Z"
   },
   {
    "duration": 47,
    "start_time": "2022-08-06T04:26:31.265Z"
   },
   {
    "duration": 27,
    "start_time": "2022-08-06T04:26:31.314Z"
   },
   {
    "duration": 36,
    "start_time": "2022-08-06T04:26:31.344Z"
   },
   {
    "duration": 0,
    "start_time": "2022-08-06T04:26:31.382Z"
   },
   {
    "duration": 0,
    "start_time": "2022-08-06T04:26:31.383Z"
   },
   {
    "duration": 0,
    "start_time": "2022-08-06T04:26:31.384Z"
   },
   {
    "duration": 0,
    "start_time": "2022-08-06T04:26:31.385Z"
   },
   {
    "duration": 0,
    "start_time": "2022-08-06T04:26:31.400Z"
   },
   {
    "duration": 0,
    "start_time": "2022-08-06T04:26:31.401Z"
   },
   {
    "duration": 0,
    "start_time": "2022-08-06T04:26:31.402Z"
   },
   {
    "duration": 0,
    "start_time": "2022-08-06T04:26:31.404Z"
   },
   {
    "duration": 0,
    "start_time": "2022-08-06T04:26:31.404Z"
   },
   {
    "duration": 0,
    "start_time": "2022-08-06T04:26:31.406Z"
   },
   {
    "duration": 0,
    "start_time": "2022-08-06T04:26:31.406Z"
   },
   {
    "duration": 0,
    "start_time": "2022-08-06T04:26:31.407Z"
   },
   {
    "duration": 0,
    "start_time": "2022-08-06T04:26:31.408Z"
   },
   {
    "duration": 0,
    "start_time": "2022-08-06T04:26:31.409Z"
   },
   {
    "duration": 0,
    "start_time": "2022-08-06T04:26:31.410Z"
   },
   {
    "duration": 0,
    "start_time": "2022-08-06T04:26:31.411Z"
   },
   {
    "duration": 0,
    "start_time": "2022-08-06T04:26:31.412Z"
   },
   {
    "duration": 0,
    "start_time": "2022-08-06T04:26:31.413Z"
   },
   {
    "duration": 8,
    "start_time": "2022-08-06T04:26:37.504Z"
   },
   {
    "duration": 15,
    "start_time": "2022-08-06T04:27:04.050Z"
   },
   {
    "duration": 19,
    "start_time": "2022-08-06T04:27:08.170Z"
   },
   {
    "duration": 13,
    "start_time": "2022-08-06T04:27:31.541Z"
   },
   {
    "duration": 11,
    "start_time": "2022-08-06T04:27:48.280Z"
   },
   {
    "duration": 83,
    "start_time": "2022-08-06T04:29:57.369Z"
   },
   {
    "duration": 16,
    "start_time": "2022-08-06T04:34:34.195Z"
   },
   {
    "duration": 13,
    "start_time": "2022-08-06T04:35:26.178Z"
   },
   {
    "duration": 89,
    "start_time": "2022-08-06T06:43:54.476Z"
   },
   {
    "duration": 13,
    "start_time": "2022-08-06T06:50:27.959Z"
   },
   {
    "duration": 12,
    "start_time": "2022-08-06T06:50:34.285Z"
   },
   {
    "duration": 20,
    "start_time": "2022-08-06T06:52:20.472Z"
   },
   {
    "duration": 23,
    "start_time": "2022-08-06T06:52:35.319Z"
   },
   {
    "duration": 9,
    "start_time": "2022-08-06T06:54:38.988Z"
   },
   {
    "duration": 32,
    "start_time": "2022-08-06T06:55:12.989Z"
   },
   {
    "duration": 128,
    "start_time": "2022-08-06T18:19:19.365Z"
   },
   {
    "duration": 110,
    "start_time": "2022-08-06T18:19:52.497Z"
   },
   {
    "duration": 4,
    "start_time": "2022-08-06T18:23:15.647Z"
   },
   {
    "duration": 324,
    "start_time": "2022-08-06T18:23:26.911Z"
   },
   {
    "duration": 541,
    "start_time": "2022-08-06T18:23:27.238Z"
   },
   {
    "duration": 10,
    "start_time": "2022-08-06T18:23:27.781Z"
   },
   {
    "duration": 30,
    "start_time": "2022-08-06T18:23:27.793Z"
   },
   {
    "duration": 7,
    "start_time": "2022-08-06T18:23:27.824Z"
   },
   {
    "duration": 24,
    "start_time": "2022-08-06T18:23:27.832Z"
   },
   {
    "duration": 24,
    "start_time": "2022-08-06T18:23:27.857Z"
   },
   {
    "duration": 19,
    "start_time": "2022-08-06T18:23:27.883Z"
   },
   {
    "duration": 35,
    "start_time": "2022-08-06T18:23:27.903Z"
   },
   {
    "duration": 18,
    "start_time": "2022-08-06T18:23:27.957Z"
   },
   {
    "duration": 58,
    "start_time": "2022-08-06T18:23:27.976Z"
   },
   {
    "duration": 133,
    "start_time": "2022-08-06T18:23:28.035Z"
   },
   {
    "duration": 105,
    "start_time": "2022-08-06T18:23:28.170Z"
   },
   {
    "duration": 6,
    "start_time": "2022-08-06T18:23:28.276Z"
   },
   {
    "duration": 3,
    "start_time": "2022-08-06T18:23:28.283Z"
   },
   {
    "duration": 13,
    "start_time": "2022-08-06T18:23:28.288Z"
   },
   {
    "duration": 11,
    "start_time": "2022-08-06T18:23:28.302Z"
   },
   {
    "duration": 51,
    "start_time": "2022-08-06T18:23:28.314Z"
   },
   {
    "duration": 24,
    "start_time": "2022-08-06T18:23:28.366Z"
   },
   {
    "duration": 74,
    "start_time": "2022-08-06T18:23:28.391Z"
   },
   {
    "duration": 0,
    "start_time": "2022-08-06T18:23:28.467Z"
   },
   {
    "duration": 0,
    "start_time": "2022-08-06T18:23:28.468Z"
   },
   {
    "duration": 0,
    "start_time": "2022-08-06T18:23:28.469Z"
   },
   {
    "duration": 0,
    "start_time": "2022-08-06T18:23:28.470Z"
   },
   {
    "duration": 0,
    "start_time": "2022-08-06T18:23:28.471Z"
   },
   {
    "duration": 0,
    "start_time": "2022-08-06T18:23:28.472Z"
   },
   {
    "duration": 0,
    "start_time": "2022-08-06T18:23:28.473Z"
   },
   {
    "duration": 0,
    "start_time": "2022-08-06T18:23:28.474Z"
   },
   {
    "duration": 0,
    "start_time": "2022-08-06T18:23:28.475Z"
   },
   {
    "duration": 0,
    "start_time": "2022-08-06T18:23:28.476Z"
   },
   {
    "duration": 0,
    "start_time": "2022-08-06T18:23:28.477Z"
   },
   {
    "duration": 0,
    "start_time": "2022-08-06T18:23:28.478Z"
   },
   {
    "duration": 0,
    "start_time": "2022-08-06T18:23:28.479Z"
   },
   {
    "duration": 0,
    "start_time": "2022-08-06T18:23:28.480Z"
   },
   {
    "duration": 0,
    "start_time": "2022-08-06T18:23:28.481Z"
   },
   {
    "duration": 0,
    "start_time": "2022-08-06T18:23:28.482Z"
   },
   {
    "duration": 0,
    "start_time": "2022-08-06T18:23:28.483Z"
   },
   {
    "duration": 0,
    "start_time": "2022-08-06T18:23:28.484Z"
   },
   {
    "duration": 4,
    "start_time": "2022-08-06T18:23:33.243Z"
   },
   {
    "duration": 8,
    "start_time": "2022-08-06T18:23:59.366Z"
   },
   {
    "duration": 8,
    "start_time": "2022-08-06T18:24:23.982Z"
   },
   {
    "duration": 7,
    "start_time": "2022-08-06T18:26:02.090Z"
   },
   {
    "duration": 7,
    "start_time": "2022-08-06T18:26:12.722Z"
   },
   {
    "duration": 9,
    "start_time": "2022-08-06T18:26:58.260Z"
   },
   {
    "duration": 7,
    "start_time": "2022-08-06T18:30:54.419Z"
   },
   {
    "duration": 4,
    "start_time": "2022-08-06T18:31:08.020Z"
   },
   {
    "duration": 54,
    "start_time": "2022-08-06T18:31:37.627Z"
   },
   {
    "duration": 58,
    "start_time": "2022-08-06T18:33:11.980Z"
   },
   {
    "duration": 33,
    "start_time": "2022-08-06T18:35:03.123Z"
   },
   {
    "duration": 2,
    "start_time": "2022-08-06T18:35:11.992Z"
   },
   {
    "duration": 265,
    "start_time": "2022-08-06T18:35:12.002Z"
   },
   {
    "duration": 9,
    "start_time": "2022-08-06T18:35:12.268Z"
   },
   {
    "duration": 27,
    "start_time": "2022-08-06T18:35:12.278Z"
   },
   {
    "duration": 6,
    "start_time": "2022-08-06T18:35:12.307Z"
   },
   {
    "duration": 9,
    "start_time": "2022-08-06T18:35:12.315Z"
   },
   {
    "duration": 48,
    "start_time": "2022-08-06T18:35:12.326Z"
   },
   {
    "duration": 19,
    "start_time": "2022-08-06T18:35:12.376Z"
   },
   {
    "duration": 36,
    "start_time": "2022-08-06T18:35:12.396Z"
   },
   {
    "duration": 19,
    "start_time": "2022-08-06T18:35:12.454Z"
   },
   {
    "duration": 54,
    "start_time": "2022-08-06T18:35:12.475Z"
   },
   {
    "duration": 134,
    "start_time": "2022-08-06T18:35:12.530Z"
   },
   {
    "duration": 107,
    "start_time": "2022-08-06T18:35:12.666Z"
   },
   {
    "duration": 6,
    "start_time": "2022-08-06T18:35:12.775Z"
   },
   {
    "duration": 3,
    "start_time": "2022-08-06T18:35:12.782Z"
   },
   {
    "duration": 14,
    "start_time": "2022-08-06T18:35:12.786Z"
   },
   {
    "duration": 12,
    "start_time": "2022-08-06T18:35:12.801Z"
   },
   {
    "duration": 56,
    "start_time": "2022-08-06T18:35:12.814Z"
   },
   {
    "duration": 25,
    "start_time": "2022-08-06T18:35:12.871Z"
   },
   {
    "duration": 3,
    "start_time": "2022-08-06T18:35:12.898Z"
   },
   {
    "duration": 65,
    "start_time": "2022-08-06T18:35:12.902Z"
   },
   {
    "duration": 30,
    "start_time": "2022-08-06T18:35:12.969Z"
   },
   {
    "duration": 45,
    "start_time": "2022-08-06T18:35:54.516Z"
   },
   {
    "duration": 26,
    "start_time": "2022-08-06T18:35:54.562Z"
   },
   {
    "duration": 129,
    "start_time": "2022-08-06T18:35:54.589Z"
   },
   {
    "duration": 0,
    "start_time": "2022-08-06T18:35:54.719Z"
   },
   {
    "duration": 0,
    "start_time": "2022-08-06T18:35:54.720Z"
   },
   {
    "duration": 0,
    "start_time": "2022-08-06T18:35:54.721Z"
   },
   {
    "duration": 0,
    "start_time": "2022-08-06T18:35:54.722Z"
   },
   {
    "duration": 0,
    "start_time": "2022-08-06T18:35:54.723Z"
   },
   {
    "duration": 0,
    "start_time": "2022-08-06T18:35:54.724Z"
   },
   {
    "duration": 0,
    "start_time": "2022-08-06T18:35:54.725Z"
   },
   {
    "duration": 0,
    "start_time": "2022-08-06T18:35:54.726Z"
   },
   {
    "duration": 0,
    "start_time": "2022-08-06T18:35:54.726Z"
   },
   {
    "duration": 0,
    "start_time": "2022-08-06T18:35:54.727Z"
   },
   {
    "duration": 0,
    "start_time": "2022-08-06T18:35:54.728Z"
   },
   {
    "duration": 0,
    "start_time": "2022-08-06T18:35:54.729Z"
   },
   {
    "duration": 0,
    "start_time": "2022-08-06T18:35:54.730Z"
   },
   {
    "duration": 127,
    "start_time": "2022-08-06T18:36:20.941Z"
   },
   {
    "duration": 0,
    "start_time": "2022-08-06T18:36:21.069Z"
   },
   {
    "duration": 0,
    "start_time": "2022-08-06T18:36:21.070Z"
   },
   {
    "duration": 0,
    "start_time": "2022-08-06T18:36:21.072Z"
   },
   {
    "duration": 0,
    "start_time": "2022-08-06T18:36:21.073Z"
   },
   {
    "duration": 0,
    "start_time": "2022-08-06T18:36:21.074Z"
   },
   {
    "duration": 0,
    "start_time": "2022-08-06T18:36:21.075Z"
   },
   {
    "duration": 0,
    "start_time": "2022-08-06T18:36:21.076Z"
   },
   {
    "duration": 0,
    "start_time": "2022-08-06T18:36:21.078Z"
   },
   {
    "duration": 0,
    "start_time": "2022-08-06T18:36:21.079Z"
   },
   {
    "duration": 0,
    "start_time": "2022-08-06T18:36:21.080Z"
   },
   {
    "duration": 0,
    "start_time": "2022-08-06T18:36:21.081Z"
   },
   {
    "duration": 0,
    "start_time": "2022-08-06T18:36:21.081Z"
   },
   {
    "duration": 0,
    "start_time": "2022-08-06T18:36:21.082Z"
   },
   {
    "duration": 46,
    "start_time": "2022-08-06T18:37:01.211Z"
   },
   {
    "duration": 31,
    "start_time": "2022-08-06T18:37:04.315Z"
   },
   {
    "duration": 33,
    "start_time": "2022-08-06T18:37:10.428Z"
   },
   {
    "duration": 27,
    "start_time": "2022-08-06T18:37:19.688Z"
   },
   {
    "duration": 3,
    "start_time": "2022-08-06T18:37:33.807Z"
   },
   {
    "duration": 60,
    "start_time": "2022-08-06T18:37:38.445Z"
   },
   {
    "duration": 4,
    "start_time": "2022-08-06T18:37:58.842Z"
   },
   {
    "duration": 23,
    "start_time": "2022-08-06T18:38:01.760Z"
   },
   {
    "duration": 108,
    "start_time": "2022-08-06T18:38:25.558Z"
   },
   {
    "duration": 3,
    "start_time": "2022-08-06T18:38:38.528Z"
   },
   {
    "duration": 45,
    "start_time": "2022-08-06T18:38:52.012Z"
   },
   {
    "duration": 101,
    "start_time": "2022-08-06T18:50:23.605Z"
   },
   {
    "duration": 4,
    "start_time": "2022-08-06T18:50:26.816Z"
   },
   {
    "duration": 128,
    "start_time": "2022-08-06T18:50:30.075Z"
   },
   {
    "duration": 108,
    "start_time": "2022-08-06T18:50:47.092Z"
   },
   {
    "duration": 141,
    "start_time": "2022-08-06T18:51:14.032Z"
   },
   {
    "duration": 8,
    "start_time": "2022-08-06T19:00:11.195Z"
   },
   {
    "duration": 134,
    "start_time": "2022-08-06T19:02:27.032Z"
   },
   {
    "duration": 11,
    "start_time": "2022-08-06T19:03:38.341Z"
   },
   {
    "duration": 7,
    "start_time": "2022-08-06T19:03:55.282Z"
   },
   {
    "duration": 10,
    "start_time": "2022-08-06T19:04:18.384Z"
   },
   {
    "duration": 3,
    "start_time": "2022-08-06T19:05:04.743Z"
   },
   {
    "duration": 2,
    "start_time": "2022-08-06T19:05:21.491Z"
   },
   {
    "duration": 255,
    "start_time": "2022-08-06T19:05:21.501Z"
   },
   {
    "duration": 9,
    "start_time": "2022-08-06T19:05:21.758Z"
   },
   {
    "duration": 25,
    "start_time": "2022-08-06T19:05:21.769Z"
   },
   {
    "duration": 3,
    "start_time": "2022-08-06T19:05:21.796Z"
   },
   {
    "duration": 8,
    "start_time": "2022-08-06T19:05:21.801Z"
   },
   {
    "duration": 47,
    "start_time": "2022-08-06T19:05:21.811Z"
   },
   {
    "duration": 19,
    "start_time": "2022-08-06T19:05:21.860Z"
   },
   {
    "duration": 35,
    "start_time": "2022-08-06T19:05:21.881Z"
   },
   {
    "duration": 41,
    "start_time": "2022-08-06T19:05:21.917Z"
   },
   {
    "duration": 53,
    "start_time": "2022-08-06T19:05:21.961Z"
   },
   {
    "duration": 113,
    "start_time": "2022-08-06T19:05:22.015Z"
   },
   {
    "duration": 108,
    "start_time": "2022-08-06T19:05:22.130Z"
   },
   {
    "duration": 5,
    "start_time": "2022-08-06T19:05:22.240Z"
   },
   {
    "duration": 3,
    "start_time": "2022-08-06T19:05:22.255Z"
   },
   {
    "duration": 14,
    "start_time": "2022-08-06T19:05:22.259Z"
   },
   {
    "duration": 11,
    "start_time": "2022-08-06T19:05:22.274Z"
   },
   {
    "duration": 26,
    "start_time": "2022-08-06T19:05:22.287Z"
   },
   {
    "duration": 47,
    "start_time": "2022-08-06T19:05:22.314Z"
   },
   {
    "duration": 3,
    "start_time": "2022-08-06T19:05:22.363Z"
   },
   {
    "duration": 47,
    "start_time": "2022-08-06T19:05:22.367Z"
   },
   {
    "duration": 41,
    "start_time": "2022-08-06T19:05:22.416Z"
   },
   {
    "duration": 43,
    "start_time": "2022-08-06T19:05:22.459Z"
   },
   {
    "duration": 26,
    "start_time": "2022-08-06T19:05:22.504Z"
   },
   {
    "duration": 58,
    "start_time": "2022-08-06T19:05:22.532Z"
   },
   {
    "duration": 29,
    "start_time": "2022-08-06T19:05:22.591Z"
   },
   {
    "duration": 2,
    "start_time": "2022-08-06T19:05:22.622Z"
   },
   {
    "duration": 32,
    "start_time": "2022-08-06T19:05:22.625Z"
   },
   {
    "duration": 10,
    "start_time": "2022-08-06T19:05:22.659Z"
   },
   {
    "duration": 5,
    "start_time": "2022-08-06T19:05:22.671Z"
   },
   {
    "duration": 103,
    "start_time": "2022-08-06T19:05:22.677Z"
   },
   {
    "duration": 0,
    "start_time": "2022-08-06T19:05:22.782Z"
   },
   {
    "duration": 0,
    "start_time": "2022-08-06T19:05:22.783Z"
   },
   {
    "duration": 0,
    "start_time": "2022-08-06T19:05:22.784Z"
   },
   {
    "duration": 0,
    "start_time": "2022-08-06T19:05:22.785Z"
   },
   {
    "duration": 0,
    "start_time": "2022-08-06T19:05:22.786Z"
   },
   {
    "duration": 0,
    "start_time": "2022-08-06T19:05:22.787Z"
   },
   {
    "duration": 0,
    "start_time": "2022-08-06T19:05:22.788Z"
   },
   {
    "duration": 3,
    "start_time": "2022-08-06T19:05:48.986Z"
   },
   {
    "duration": 15,
    "start_time": "2022-08-06T19:06:04.972Z"
   },
   {
    "duration": 3,
    "start_time": "2022-08-06T19:07:39.376Z"
   },
   {
    "duration": 7,
    "start_time": "2022-08-06T19:07:42.148Z"
   },
   {
    "duration": 6,
    "start_time": "2022-08-06T19:07:49.950Z"
   },
   {
    "duration": 176,
    "start_time": "2022-08-06T19:08:59.001Z"
   },
   {
    "duration": 144,
    "start_time": "2022-08-06T19:11:24.487Z"
   },
   {
    "duration": 151,
    "start_time": "2022-08-06T19:12:02.536Z"
   },
   {
    "duration": 41,
    "start_time": "2022-08-07T03:53:45.498Z"
   },
   {
    "duration": 356,
    "start_time": "2022-08-07T03:53:53.653Z"
   },
   {
    "duration": 304,
    "start_time": "2022-08-07T03:53:54.011Z"
   },
   {
    "duration": 9,
    "start_time": "2022-08-07T03:53:54.316Z"
   },
   {
    "duration": 27,
    "start_time": "2022-08-07T03:53:54.327Z"
   },
   {
    "duration": 3,
    "start_time": "2022-08-07T03:53:54.355Z"
   },
   {
    "duration": 13,
    "start_time": "2022-08-07T03:53:54.359Z"
   },
   {
    "duration": 11,
    "start_time": "2022-08-07T03:53:54.373Z"
   },
   {
    "duration": 20,
    "start_time": "2022-08-07T03:53:54.400Z"
   },
   {
    "duration": 18,
    "start_time": "2022-08-07T03:53:54.422Z"
   },
   {
    "duration": 20,
    "start_time": "2022-08-07T03:53:54.444Z"
   },
   {
    "duration": 83,
    "start_time": "2022-08-07T03:53:54.465Z"
   },
   {
    "duration": 121,
    "start_time": "2022-08-07T03:53:54.549Z"
   },
   {
    "duration": 132,
    "start_time": "2022-08-07T03:53:54.671Z"
   },
   {
    "duration": 7,
    "start_time": "2022-08-07T03:53:54.805Z"
   },
   {
    "duration": 16,
    "start_time": "2022-08-07T03:53:54.814Z"
   },
   {
    "duration": 12,
    "start_time": "2022-08-07T03:53:54.831Z"
   },
   {
    "duration": 6,
    "start_time": "2022-08-07T03:53:54.845Z"
   },
   {
    "duration": 33,
    "start_time": "2022-08-07T03:53:54.852Z"
   },
   {
    "duration": 36,
    "start_time": "2022-08-07T03:53:54.887Z"
   },
   {
    "duration": 3,
    "start_time": "2022-08-07T03:53:54.925Z"
   },
   {
    "duration": 49,
    "start_time": "2022-08-07T03:53:54.930Z"
   },
   {
    "duration": 40,
    "start_time": "2022-08-07T03:53:54.981Z"
   },
   {
    "duration": 43,
    "start_time": "2022-08-07T03:53:55.023Z"
   },
   {
    "duration": 40,
    "start_time": "2022-08-07T03:53:55.067Z"
   },
   {
    "duration": 42,
    "start_time": "2022-08-07T03:53:55.109Z"
   },
   {
    "duration": 26,
    "start_time": "2022-08-07T03:53:55.153Z"
   },
   {
    "duration": 20,
    "start_time": "2022-08-07T03:53:55.180Z"
   },
   {
    "duration": 4,
    "start_time": "2022-08-07T03:53:55.203Z"
   },
   {
    "duration": 11,
    "start_time": "2022-08-07T03:53:55.208Z"
   },
   {
    "duration": 8,
    "start_time": "2022-08-07T03:53:55.220Z"
   },
   {
    "duration": 5,
    "start_time": "2022-08-07T03:53:55.229Z"
   },
   {
    "duration": 72,
    "start_time": "2022-08-07T03:53:55.235Z"
   },
   {
    "duration": 0,
    "start_time": "2022-08-07T03:53:55.309Z"
   },
   {
    "duration": 0,
    "start_time": "2022-08-07T03:53:55.310Z"
   },
   {
    "duration": 0,
    "start_time": "2022-08-07T03:53:55.311Z"
   },
   {
    "duration": 0,
    "start_time": "2022-08-07T03:53:55.312Z"
   },
   {
    "duration": 0,
    "start_time": "2022-08-07T03:53:55.313Z"
   },
   {
    "duration": 0,
    "start_time": "2022-08-07T03:53:55.314Z"
   },
   {
    "duration": 0,
    "start_time": "2022-08-07T03:53:55.315Z"
   },
   {
    "duration": 25,
    "start_time": "2022-08-07T03:58:32.602Z"
   },
   {
    "duration": 11,
    "start_time": "2022-08-07T04:00:29.993Z"
   },
   {
    "duration": 392,
    "start_time": "2022-08-07T04:01:39.054Z"
   },
   {
    "duration": 318,
    "start_time": "2022-08-07T04:03:24.534Z"
   },
   {
    "duration": 8,
    "start_time": "2022-08-07T04:03:56.366Z"
   },
   {
    "duration": 80,
    "start_time": "2022-08-07T04:04:21.492Z"
   },
   {
    "duration": 77,
    "start_time": "2022-08-07T04:04:33.408Z"
   },
   {
    "duration": 83,
    "start_time": "2022-08-07T04:05:11.878Z"
   },
   {
    "duration": 82,
    "start_time": "2022-08-07T04:05:27.184Z"
   },
   {
    "duration": 4,
    "start_time": "2022-08-07T04:06:55.888Z"
   },
   {
    "duration": 97,
    "start_time": "2022-08-07T04:07:02.124Z"
   },
   {
    "duration": 2,
    "start_time": "2022-08-07T04:07:07.793Z"
   },
   {
    "duration": 243,
    "start_time": "2022-08-07T04:07:07.859Z"
   },
   {
    "duration": 9,
    "start_time": "2022-08-07T04:07:08.104Z"
   },
   {
    "duration": 29,
    "start_time": "2022-08-07T04:07:08.114Z"
   },
   {
    "duration": 3,
    "start_time": "2022-08-07T04:07:08.145Z"
   },
   {
    "duration": 9,
    "start_time": "2022-08-07T04:07:08.149Z"
   },
   {
    "duration": 3,
    "start_time": "2022-08-07T04:07:08.159Z"
   },
   {
    "duration": 50,
    "start_time": "2022-08-07T04:07:08.163Z"
   },
   {
    "duration": 15,
    "start_time": "2022-08-07T04:07:08.215Z"
   },
   {
    "duration": 17,
    "start_time": "2022-08-07T04:07:08.232Z"
   },
   {
    "duration": 72,
    "start_time": "2022-08-07T04:07:08.251Z"
   },
   {
    "duration": 120,
    "start_time": "2022-08-07T04:07:08.324Z"
   },
   {
    "duration": 114,
    "start_time": "2022-08-07T04:07:08.446Z"
   },
   {
    "duration": 6,
    "start_time": "2022-08-07T04:07:08.562Z"
   },
   {
    "duration": 6,
    "start_time": "2022-08-07T04:07:08.569Z"
   },
   {
    "duration": 23,
    "start_time": "2022-08-07T04:07:08.577Z"
   },
   {
    "duration": 6,
    "start_time": "2022-08-07T04:07:08.601Z"
   },
   {
    "duration": 27,
    "start_time": "2022-08-07T04:07:08.609Z"
   },
   {
    "duration": 23,
    "start_time": "2022-08-07T04:07:08.637Z"
   },
   {
    "duration": 3,
    "start_time": "2022-08-07T04:07:08.661Z"
   },
   {
    "duration": 64,
    "start_time": "2022-08-07T04:07:08.666Z"
   },
   {
    "duration": 25,
    "start_time": "2022-08-07T04:07:08.732Z"
   },
   {
    "duration": 55,
    "start_time": "2022-08-07T04:07:08.759Z"
   },
   {
    "duration": 26,
    "start_time": "2022-08-07T04:07:08.815Z"
   },
   {
    "duration": 57,
    "start_time": "2022-08-07T04:07:08.843Z"
   },
   {
    "duration": 28,
    "start_time": "2022-08-07T04:07:08.901Z"
   },
   {
    "duration": 2,
    "start_time": "2022-08-07T04:07:08.931Z"
   },
   {
    "duration": 13,
    "start_time": "2022-08-07T04:07:08.934Z"
   },
   {
    "duration": 15,
    "start_time": "2022-08-07T04:07:08.948Z"
   },
   {
    "duration": 10,
    "start_time": "2022-08-07T04:07:08.964Z"
   },
   {
    "duration": 25,
    "start_time": "2022-08-07T04:07:08.975Z"
   },
   {
    "duration": 80,
    "start_time": "2022-08-07T04:07:09.002Z"
   },
   {
    "duration": 0,
    "start_time": "2022-08-07T04:07:09.083Z"
   },
   {
    "duration": 0,
    "start_time": "2022-08-07T04:07:09.084Z"
   },
   {
    "duration": 0,
    "start_time": "2022-08-07T04:07:09.085Z"
   },
   {
    "duration": 0,
    "start_time": "2022-08-07T04:07:09.086Z"
   },
   {
    "duration": 0,
    "start_time": "2022-08-07T04:07:09.087Z"
   },
   {
    "duration": 0,
    "start_time": "2022-08-07T04:07:09.088Z"
   },
   {
    "duration": 0,
    "start_time": "2022-08-07T04:07:09.089Z"
   },
   {
    "duration": 10,
    "start_time": "2022-08-07T04:09:50.412Z"
   },
   {
    "duration": 10,
    "start_time": "2022-08-07T04:10:17.956Z"
   },
   {
    "duration": 15,
    "start_time": "2022-08-07T04:17:25.239Z"
   },
   {
    "duration": 350,
    "start_time": "2022-08-07T04:17:35.870Z"
   },
   {
    "duration": 7,
    "start_time": "2022-08-07T04:43:43.974Z"
   },
   {
    "duration": 7,
    "start_time": "2022-08-07T04:43:54.359Z"
   },
   {
    "duration": 7,
    "start_time": "2022-08-07T04:44:41.319Z"
   },
   {
    "duration": 9,
    "start_time": "2022-08-07T04:54:04.696Z"
   },
   {
    "duration": 2,
    "start_time": "2022-08-07T04:54:08.108Z"
   },
   {
    "duration": 264,
    "start_time": "2022-08-07T04:54:08.115Z"
   },
   {
    "duration": 9,
    "start_time": "2022-08-07T04:54:08.381Z"
   },
   {
    "duration": 31,
    "start_time": "2022-08-07T04:54:08.391Z"
   },
   {
    "duration": 8,
    "start_time": "2022-08-07T04:54:08.424Z"
   },
   {
    "duration": 12,
    "start_time": "2022-08-07T04:54:08.433Z"
   },
   {
    "duration": 3,
    "start_time": "2022-08-07T04:54:08.447Z"
   },
   {
    "duration": 27,
    "start_time": "2022-08-07T04:54:08.451Z"
   },
   {
    "duration": 36,
    "start_time": "2022-08-07T04:54:08.480Z"
   },
   {
    "duration": 24,
    "start_time": "2022-08-07T04:54:08.518Z"
   },
   {
    "duration": 56,
    "start_time": "2022-08-07T04:54:08.607Z"
   },
   {
    "duration": 119,
    "start_time": "2022-08-07T04:54:08.665Z"
   },
   {
    "duration": 128,
    "start_time": "2022-08-07T04:54:08.786Z"
   },
   {
    "duration": 6,
    "start_time": "2022-08-07T04:54:08.916Z"
   },
   {
    "duration": 8,
    "start_time": "2022-08-07T04:54:08.924Z"
   },
   {
    "duration": 11,
    "start_time": "2022-08-07T04:54:08.934Z"
   },
   {
    "duration": 8,
    "start_time": "2022-08-07T04:54:08.947Z"
   },
   {
    "duration": 12,
    "start_time": "2022-08-07T04:54:08.956Z"
   },
   {
    "duration": 36,
    "start_time": "2022-08-07T04:54:08.970Z"
   },
   {
    "duration": 4,
    "start_time": "2022-08-07T04:54:09.008Z"
   },
   {
    "duration": 72,
    "start_time": "2022-08-07T04:54:09.014Z"
   },
   {
    "duration": 37,
    "start_time": "2022-08-07T04:54:09.087Z"
   },
   {
    "duration": 44,
    "start_time": "2022-08-07T04:54:09.125Z"
   },
   {
    "duration": 49,
    "start_time": "2022-08-07T04:54:09.172Z"
   },
   {
    "duration": 46,
    "start_time": "2022-08-07T04:54:09.223Z"
   },
   {
    "duration": 49,
    "start_time": "2022-08-07T04:54:09.271Z"
   },
   {
    "duration": 9,
    "start_time": "2022-08-07T04:54:09.321Z"
   },
   {
    "duration": 0,
    "start_time": "2022-08-07T04:54:09.331Z"
   },
   {
    "duration": 0,
    "start_time": "2022-08-07T04:54:09.333Z"
   },
   {
    "duration": 0,
    "start_time": "2022-08-07T04:54:09.334Z"
   },
   {
    "duration": 78,
    "start_time": "2022-08-07T04:54:09.361Z"
   },
   {
    "duration": 0,
    "start_time": "2022-08-07T04:54:09.441Z"
   },
   {
    "duration": 0,
    "start_time": "2022-08-07T04:54:09.442Z"
   },
   {
    "duration": 0,
    "start_time": "2022-08-07T04:54:09.443Z"
   },
   {
    "duration": 0,
    "start_time": "2022-08-07T04:54:09.444Z"
   },
   {
    "duration": 0,
    "start_time": "2022-08-07T04:54:09.445Z"
   },
   {
    "duration": 0,
    "start_time": "2022-08-07T04:54:09.446Z"
   },
   {
    "duration": 0,
    "start_time": "2022-08-07T04:54:09.447Z"
   },
   {
    "duration": 0,
    "start_time": "2022-08-07T04:54:09.447Z"
   },
   {
    "duration": 8,
    "start_time": "2022-08-07T04:54:32.135Z"
   },
   {
    "duration": 7,
    "start_time": "2022-08-07T04:54:41.121Z"
   },
   {
    "duration": 1419,
    "start_time": "2022-08-07T05:46:37.655Z"
   },
   {
    "duration": 1239,
    "start_time": "2022-08-07T05:46:58.512Z"
   },
   {
    "duration": 7,
    "start_time": "2022-08-07T05:47:49.730Z"
   },
   {
    "duration": 4,
    "start_time": "2022-08-07T05:47:55.436Z"
   },
   {
    "duration": 8,
    "start_time": "2022-08-07T05:47:58.586Z"
   },
   {
    "duration": 9,
    "start_time": "2022-08-07T05:49:47.737Z"
   },
   {
    "duration": 7,
    "start_time": "2022-08-07T05:51:04.523Z"
   },
   {
    "duration": 7,
    "start_time": "2022-08-07T05:55:04.504Z"
   },
   {
    "duration": 7,
    "start_time": "2022-08-07T05:57:16.480Z"
   },
   {
    "duration": 4,
    "start_time": "2022-08-07T05:57:31.664Z"
   },
   {
    "duration": 7,
    "start_time": "2022-08-07T05:58:49.503Z"
   },
   {
    "duration": 7,
    "start_time": "2022-08-07T05:59:24.552Z"
   },
   {
    "duration": 4,
    "start_time": "2022-08-07T05:59:26.931Z"
   },
   {
    "duration": 7,
    "start_time": "2022-08-07T06:00:15.034Z"
   },
   {
    "duration": 103,
    "start_time": "2022-08-07T06:00:23.252Z"
   },
   {
    "duration": 10,
    "start_time": "2022-08-07T06:05:41.142Z"
   },
   {
    "duration": 11,
    "start_time": "2022-08-07T06:05:55.375Z"
   },
   {
    "duration": 10,
    "start_time": "2022-08-07T06:06:08.712Z"
   },
   {
    "duration": 266,
    "start_time": "2022-08-07T06:10:23.799Z"
   },
   {
    "duration": 146,
    "start_time": "2022-08-07T06:10:52.515Z"
   },
   {
    "duration": 6,
    "start_time": "2022-08-07T06:12:08.618Z"
   },
   {
    "duration": 4,
    "start_time": "2022-08-07T07:28:07.588Z"
   },
   {
    "duration": 91,
    "start_time": "2022-08-07T07:28:11.836Z"
   },
   {
    "duration": 74,
    "start_time": "2022-08-07T07:28:35.592Z"
   },
   {
    "duration": 79,
    "start_time": "2022-08-07T07:29:00.531Z"
   },
   {
    "duration": 77,
    "start_time": "2022-08-07T07:34:31.002Z"
   },
   {
    "duration": 119,
    "start_time": "2022-08-07T07:34:41.726Z"
   },
   {
    "duration": 145,
    "start_time": "2022-08-07T07:35:01.748Z"
   },
   {
    "duration": 96,
    "start_time": "2022-08-07T07:35:17.670Z"
   },
   {
    "duration": 87,
    "start_time": "2022-08-07T07:37:04.451Z"
   },
   {
    "duration": 85,
    "start_time": "2022-08-07T07:37:24.393Z"
   },
   {
    "duration": 4,
    "start_time": "2022-08-07T07:45:47.366Z"
   },
   {
    "duration": 3,
    "start_time": "2022-08-07T07:45:50.555Z"
   },
   {
    "duration": 4,
    "start_time": "2022-08-07T07:46:31.443Z"
   },
   {
    "duration": 109,
    "start_time": "2022-08-07T07:46:34.148Z"
   },
   {
    "duration": 4,
    "start_time": "2022-08-07T07:46:52.891Z"
   },
   {
    "duration": 74,
    "start_time": "2022-08-07T07:46:56.523Z"
   },
   {
    "duration": 1192,
    "start_time": "2022-08-07T07:47:31.238Z"
   },
   {
    "duration": 1250,
    "start_time": "2022-08-07T07:47:35.396Z"
   },
   {
    "duration": 1426,
    "start_time": "2022-08-07T07:47:42.894Z"
   },
   {
    "duration": 4,
    "start_time": "2022-08-07T07:47:48.503Z"
   },
   {
    "duration": 1258,
    "start_time": "2022-08-07T07:47:52.087Z"
   },
   {
    "duration": 3,
    "start_time": "2022-08-07T07:47:56.987Z"
   },
   {
    "duration": 150,
    "start_time": "2022-08-07T07:47:57.002Z"
   },
   {
    "duration": 10,
    "start_time": "2022-08-07T07:47:57.154Z"
   },
   {
    "duration": 36,
    "start_time": "2022-08-07T07:47:57.165Z"
   },
   {
    "duration": 3,
    "start_time": "2022-08-07T07:47:57.203Z"
   },
   {
    "duration": 9,
    "start_time": "2022-08-07T07:47:57.208Z"
   },
   {
    "duration": 6,
    "start_time": "2022-08-07T07:47:57.218Z"
   },
   {
    "duration": 24,
    "start_time": "2022-08-07T07:47:57.225Z"
   },
   {
    "duration": 16,
    "start_time": "2022-08-07T07:47:57.250Z"
   },
   {
    "duration": 42,
    "start_time": "2022-08-07T07:47:57.267Z"
   },
   {
    "duration": 60,
    "start_time": "2022-08-07T07:47:57.311Z"
   },
   {
    "duration": 147,
    "start_time": "2022-08-07T07:47:57.372Z"
   },
   {
    "duration": 116,
    "start_time": "2022-08-07T07:47:57.520Z"
   },
   {
    "duration": 6,
    "start_time": "2022-08-07T07:47:57.638Z"
   },
   {
    "duration": 4,
    "start_time": "2022-08-07T07:47:57.646Z"
   },
   {
    "duration": 10,
    "start_time": "2022-08-07T07:47:57.651Z"
   },
   {
    "duration": 6,
    "start_time": "2022-08-07T07:47:57.662Z"
   },
   {
    "duration": 33,
    "start_time": "2022-08-07T07:47:57.669Z"
   },
   {
    "duration": 8,
    "start_time": "2022-08-07T07:47:57.704Z"
   },
   {
    "duration": 3,
    "start_time": "2022-08-07T07:47:57.714Z"
   },
   {
    "duration": 52,
    "start_time": "2022-08-07T07:47:57.719Z"
   },
   {
    "duration": 42,
    "start_time": "2022-08-07T07:47:57.773Z"
   },
   {
    "duration": 45,
    "start_time": "2022-08-07T07:47:57.817Z"
   },
   {
    "duration": 43,
    "start_time": "2022-08-07T07:47:57.864Z"
   },
   {
    "duration": 48,
    "start_time": "2022-08-07T07:47:57.909Z"
   },
   {
    "duration": 43,
    "start_time": "2022-08-07T07:47:57.959Z"
   },
   {
    "duration": 8,
    "start_time": "2022-08-07T07:47:58.003Z"
   },
   {
    "duration": 0,
    "start_time": "2022-08-07T07:47:58.012Z"
   },
   {
    "duration": 0,
    "start_time": "2022-08-07T07:47:58.013Z"
   },
   {
    "duration": 0,
    "start_time": "2022-08-07T07:47:58.014Z"
   },
   {
    "duration": 0,
    "start_time": "2022-08-07T07:47:58.015Z"
   },
   {
    "duration": 0,
    "start_time": "2022-08-07T07:47:58.016Z"
   },
   {
    "duration": 0,
    "start_time": "2022-08-07T07:47:58.017Z"
   },
   {
    "duration": 0,
    "start_time": "2022-08-07T07:47:58.018Z"
   },
   {
    "duration": 0,
    "start_time": "2022-08-07T07:47:58.019Z"
   },
   {
    "duration": 0,
    "start_time": "2022-08-07T07:47:58.021Z"
   },
   {
    "duration": 0,
    "start_time": "2022-08-07T07:47:58.022Z"
   },
   {
    "duration": 0,
    "start_time": "2022-08-07T07:47:58.023Z"
   },
   {
    "duration": 0,
    "start_time": "2022-08-07T07:47:58.024Z"
   },
   {
    "duration": 47,
    "start_time": "2022-08-07T07:48:20.623Z"
   },
   {
    "duration": 28,
    "start_time": "2022-08-07T07:48:24.752Z"
   },
   {
    "duration": 50,
    "start_time": "2022-08-07T07:48:37.190Z"
   },
   {
    "duration": 48,
    "start_time": "2022-08-07T07:48:44.359Z"
   },
   {
    "duration": 92,
    "start_time": "2022-08-07T07:49:09.433Z"
   },
   {
    "duration": 4,
    "start_time": "2022-08-07T07:49:35.428Z"
   },
   {
    "duration": 154,
    "start_time": "2022-08-07T07:49:39.384Z"
   },
   {
    "duration": 4,
    "start_time": "2022-08-07T07:49:48.804Z"
   },
   {
    "duration": 78,
    "start_time": "2022-08-07T07:49:51.251Z"
   },
   {
    "duration": 3,
    "start_time": "2022-08-07T07:51:53.959Z"
   },
   {
    "duration": 99,
    "start_time": "2022-08-07T07:51:57.889Z"
   },
   {
    "duration": 438,
    "start_time": "2022-08-07T15:49:13.854Z"
   },
   {
    "duration": 460,
    "start_time": "2022-08-07T15:49:14.294Z"
   },
   {
    "duration": 17,
    "start_time": "2022-08-07T15:49:14.756Z"
   },
   {
    "duration": 32,
    "start_time": "2022-08-07T15:49:14.776Z"
   },
   {
    "duration": 26,
    "start_time": "2022-08-07T15:49:14.809Z"
   },
   {
    "duration": 21,
    "start_time": "2022-08-07T15:49:14.837Z"
   },
   {
    "duration": 11,
    "start_time": "2022-08-07T15:49:14.860Z"
   },
   {
    "duration": 41,
    "start_time": "2022-08-07T15:49:14.872Z"
   },
   {
    "duration": 26,
    "start_time": "2022-08-07T15:49:14.915Z"
   },
   {
    "duration": 38,
    "start_time": "2022-08-07T15:49:14.943Z"
   },
   {
    "duration": 71,
    "start_time": "2022-08-07T15:49:14.983Z"
   },
   {
    "duration": 155,
    "start_time": "2022-08-07T15:49:15.056Z"
   },
   {
    "duration": 130,
    "start_time": "2022-08-07T15:49:15.213Z"
   },
   {
    "duration": 8,
    "start_time": "2022-08-07T15:49:15.345Z"
   },
   {
    "duration": 4,
    "start_time": "2022-08-07T15:49:15.354Z"
   },
   {
    "duration": 33,
    "start_time": "2022-08-07T15:49:15.359Z"
   },
   {
    "duration": 7,
    "start_time": "2022-08-07T15:49:15.394Z"
   },
   {
    "duration": 12,
    "start_time": "2022-08-07T15:49:15.403Z"
   },
   {
    "duration": 11,
    "start_time": "2022-08-07T15:49:15.416Z"
   },
   {
    "duration": 5,
    "start_time": "2022-08-07T15:49:15.429Z"
   },
   {
    "duration": 81,
    "start_time": "2022-08-07T15:49:15.436Z"
   },
   {
    "duration": 33,
    "start_time": "2022-08-07T15:49:15.519Z"
   },
   {
    "duration": 70,
    "start_time": "2022-08-07T15:49:15.554Z"
   },
   {
    "duration": 32,
    "start_time": "2022-08-07T15:49:15.626Z"
   },
   {
    "duration": 71,
    "start_time": "2022-08-07T15:49:15.660Z"
   },
   {
    "duration": 32,
    "start_time": "2022-08-07T15:49:15.733Z"
   },
   {
    "duration": 81,
    "start_time": "2022-08-07T15:49:15.767Z"
   },
   {
    "duration": 0,
    "start_time": "2022-08-07T15:49:15.850Z"
   },
   {
    "duration": 0,
    "start_time": "2022-08-07T15:49:15.851Z"
   },
   {
    "duration": 0,
    "start_time": "2022-08-07T15:49:15.852Z"
   },
   {
    "duration": 0,
    "start_time": "2022-08-07T15:49:15.853Z"
   },
   {
    "duration": 0,
    "start_time": "2022-08-07T15:49:15.855Z"
   },
   {
    "duration": 0,
    "start_time": "2022-08-07T15:49:15.856Z"
   },
   {
    "duration": 0,
    "start_time": "2022-08-07T15:49:15.857Z"
   },
   {
    "duration": 0,
    "start_time": "2022-08-07T15:49:15.858Z"
   },
   {
    "duration": 0,
    "start_time": "2022-08-07T15:49:15.859Z"
   },
   {
    "duration": 0,
    "start_time": "2022-08-07T15:49:15.860Z"
   },
   {
    "duration": 0,
    "start_time": "2022-08-07T15:49:15.861Z"
   },
   {
    "duration": 7,
    "start_time": "2022-08-07T15:50:22.673Z"
   },
   {
    "duration": 7,
    "start_time": "2022-08-07T15:51:17.479Z"
   },
   {
    "duration": 41,
    "start_time": "2022-08-07T15:51:31.539Z"
   },
   {
    "duration": 9,
    "start_time": "2022-08-07T15:54:19.359Z"
   },
   {
    "duration": 103,
    "start_time": "2022-08-07T15:54:29.028Z"
   },
   {
    "duration": 94,
    "start_time": "2022-08-07T15:54:42.409Z"
   },
   {
    "duration": 3,
    "start_time": "2022-08-07T15:54:54.545Z"
   },
   {
    "duration": 169,
    "start_time": "2022-08-07T15:54:57.457Z"
   },
   {
    "duration": 117,
    "start_time": "2022-08-07T15:55:10.823Z"
   },
   {
    "duration": 102,
    "start_time": "2022-08-07T15:55:44.306Z"
   },
   {
    "duration": 9,
    "start_time": "2022-08-07T15:55:56.647Z"
   },
   {
    "duration": 12,
    "start_time": "2022-08-07T16:19:38.765Z"
   },
   {
    "duration": 11,
    "start_time": "2022-08-07T16:19:48.433Z"
   },
   {
    "duration": 12,
    "start_time": "2022-08-07T16:20:09.156Z"
   },
   {
    "duration": 3,
    "start_time": "2022-08-07T16:21:05.696Z"
   },
   {
    "duration": 264,
    "start_time": "2022-08-07T16:21:05.706Z"
   },
   {
    "duration": 33,
    "start_time": "2022-08-07T16:21:05.973Z"
   },
   {
    "duration": 60,
    "start_time": "2022-08-07T16:21:06.008Z"
   },
   {
    "duration": 25,
    "start_time": "2022-08-07T16:21:06.071Z"
   },
   {
    "duration": 7,
    "start_time": "2022-08-07T16:21:06.098Z"
   },
   {
    "duration": 5,
    "start_time": "2022-08-07T16:21:06.107Z"
   },
   {
    "duration": 28,
    "start_time": "2022-08-07T16:21:06.114Z"
   },
   {
    "duration": 51,
    "start_time": "2022-08-07T16:21:06.144Z"
   },
   {
    "duration": 25,
    "start_time": "2022-08-07T16:21:06.197Z"
   },
   {
    "duration": 79,
    "start_time": "2022-08-07T16:21:06.225Z"
   },
   {
    "duration": 145,
    "start_time": "2022-08-07T16:21:06.306Z"
   },
   {
    "duration": 148,
    "start_time": "2022-08-07T16:21:06.453Z"
   },
   {
    "duration": 8,
    "start_time": "2022-08-07T16:21:06.603Z"
   },
   {
    "duration": 44,
    "start_time": "2022-08-07T16:21:06.613Z"
   },
   {
    "duration": 26,
    "start_time": "2022-08-07T16:21:06.659Z"
   },
   {
    "duration": 35,
    "start_time": "2022-08-07T16:21:06.686Z"
   },
   {
    "duration": 30,
    "start_time": "2022-08-07T16:21:06.724Z"
   },
   {
    "duration": 14,
    "start_time": "2022-08-07T16:21:06.756Z"
   },
   {
    "duration": 4,
    "start_time": "2022-08-07T16:21:06.772Z"
   },
   {
    "duration": 82,
    "start_time": "2022-08-07T16:21:06.778Z"
   },
   {
    "duration": 44,
    "start_time": "2022-08-07T16:21:06.863Z"
   },
   {
    "duration": 58,
    "start_time": "2022-08-07T16:21:06.909Z"
   },
   {
    "duration": 69,
    "start_time": "2022-08-07T16:21:06.968Z"
   },
   {
    "duration": 69,
    "start_time": "2022-08-07T16:21:07.039Z"
   },
   {
    "duration": 51,
    "start_time": "2022-08-07T16:21:07.109Z"
   },
   {
    "duration": 32,
    "start_time": "2022-08-07T16:21:07.162Z"
   },
   {
    "duration": 0,
    "start_time": "2022-08-07T16:21:07.197Z"
   },
   {
    "duration": 0,
    "start_time": "2022-08-07T16:21:07.199Z"
   },
   {
    "duration": 0,
    "start_time": "2022-08-07T16:21:07.201Z"
   },
   {
    "duration": 0,
    "start_time": "2022-08-07T16:21:07.202Z"
   },
   {
    "duration": 0,
    "start_time": "2022-08-07T16:21:07.205Z"
   },
   {
    "duration": 0,
    "start_time": "2022-08-07T16:21:07.206Z"
   },
   {
    "duration": 1,
    "start_time": "2022-08-07T16:21:07.208Z"
   },
   {
    "duration": 0,
    "start_time": "2022-08-07T16:21:07.210Z"
   },
   {
    "duration": 0,
    "start_time": "2022-08-07T16:21:07.212Z"
   },
   {
    "duration": 0,
    "start_time": "2022-08-07T16:21:07.214Z"
   },
   {
    "duration": 0,
    "start_time": "2022-08-07T16:21:07.216Z"
   },
   {
    "duration": 7,
    "start_time": "2022-08-07T16:27:55.637Z"
   },
   {
    "duration": 7,
    "start_time": "2022-08-07T16:28:33.258Z"
   },
   {
    "duration": 104,
    "start_time": "2022-08-07T16:41:18.186Z"
   },
   {
    "duration": 7,
    "start_time": "2022-08-07T16:43:08.778Z"
   },
   {
    "duration": 6,
    "start_time": "2022-08-07T16:50:14.522Z"
   },
   {
    "duration": 9,
    "start_time": "2022-08-07T16:51:22.253Z"
   },
   {
    "duration": 9,
    "start_time": "2022-08-07T16:51:37.875Z"
   },
   {
    "duration": 9,
    "start_time": "2022-08-07T16:52:42.201Z"
   },
   {
    "duration": 149,
    "start_time": "2022-08-07T16:53:26.333Z"
   },
   {
    "duration": 7,
    "start_time": "2022-08-07T16:54:57.390Z"
   },
   {
    "duration": 3,
    "start_time": "2022-08-07T16:55:04.505Z"
   },
   {
    "duration": 188,
    "start_time": "2022-08-07T16:55:04.512Z"
   },
   {
    "duration": 11,
    "start_time": "2022-08-07T16:55:04.703Z"
   },
   {
    "duration": 32,
    "start_time": "2022-08-07T16:55:04.716Z"
   },
   {
    "duration": 3,
    "start_time": "2022-08-07T16:55:04.751Z"
   },
   {
    "duration": 37,
    "start_time": "2022-08-07T16:55:04.755Z"
   },
   {
    "duration": 3,
    "start_time": "2022-08-07T16:55:04.794Z"
   },
   {
    "duration": 28,
    "start_time": "2022-08-07T16:55:04.798Z"
   },
   {
    "duration": 23,
    "start_time": "2022-08-07T16:55:04.827Z"
   },
   {
    "duration": 47,
    "start_time": "2022-08-07T16:55:04.853Z"
   },
   {
    "duration": 60,
    "start_time": "2022-08-07T16:55:04.905Z"
   },
   {
    "duration": 155,
    "start_time": "2022-08-07T16:55:04.967Z"
   },
   {
    "duration": 139,
    "start_time": "2022-08-07T16:55:05.124Z"
   },
   {
    "duration": 8,
    "start_time": "2022-08-07T16:55:05.265Z"
   },
   {
    "duration": 3,
    "start_time": "2022-08-07T16:55:05.291Z"
   },
   {
    "duration": 29,
    "start_time": "2022-08-07T16:55:05.297Z"
   },
   {
    "duration": 24,
    "start_time": "2022-08-07T16:55:05.328Z"
   },
   {
    "duration": 14,
    "start_time": "2022-08-07T16:55:05.354Z"
   },
   {
    "duration": 15,
    "start_time": "2022-08-07T16:55:05.370Z"
   },
   {
    "duration": 4,
    "start_time": "2022-08-07T16:55:05.387Z"
   },
   {
    "duration": 58,
    "start_time": "2022-08-07T16:55:05.393Z"
   },
   {
    "duration": 49,
    "start_time": "2022-08-07T16:55:05.452Z"
   },
   {
    "duration": 55,
    "start_time": "2022-08-07T16:55:05.503Z"
   },
   {
    "duration": 50,
    "start_time": "2022-08-07T16:55:05.560Z"
   },
   {
    "duration": 54,
    "start_time": "2022-08-07T16:55:05.612Z"
   },
   {
    "duration": 47,
    "start_time": "2022-08-07T16:55:05.668Z"
   },
   {
    "duration": 10,
    "start_time": "2022-08-07T16:55:05.717Z"
   },
   {
    "duration": 19,
    "start_time": "2022-08-07T16:55:05.728Z"
   },
   {
    "duration": 10,
    "start_time": "2022-08-07T16:55:05.751Z"
   },
   {
    "duration": 4,
    "start_time": "2022-08-07T16:55:05.763Z"
   },
   {
    "duration": 159,
    "start_time": "2022-08-07T16:55:05.769Z"
   },
   {
    "duration": 0,
    "start_time": "2022-08-07T16:55:05.930Z"
   },
   {
    "duration": 0,
    "start_time": "2022-08-07T16:55:05.931Z"
   },
   {
    "duration": 0,
    "start_time": "2022-08-07T16:55:05.933Z"
   },
   {
    "duration": 0,
    "start_time": "2022-08-07T16:55:05.934Z"
   },
   {
    "duration": 0,
    "start_time": "2022-08-07T16:55:05.936Z"
   },
   {
    "duration": 0,
    "start_time": "2022-08-07T16:55:05.937Z"
   },
   {
    "duration": 0,
    "start_time": "2022-08-07T16:55:05.938Z"
   },
   {
    "duration": 9,
    "start_time": "2022-08-07T16:55:10.464Z"
   },
   {
    "duration": 6,
    "start_time": "2022-08-07T16:55:19.816Z"
   },
   {
    "duration": 5,
    "start_time": "2022-08-07T16:55:22.843Z"
   },
   {
    "duration": 10,
    "start_time": "2022-08-07T16:55:30.388Z"
   },
   {
    "duration": 5,
    "start_time": "2022-08-07T16:55:32.504Z"
   },
   {
    "duration": 5,
    "start_time": "2022-08-07T16:55:45.068Z"
   },
   {
    "duration": 5,
    "start_time": "2022-08-07T16:55:49.454Z"
   },
   {
    "duration": 106,
    "start_time": "2022-08-07T16:55:51.816Z"
   },
   {
    "duration": 4,
    "start_time": "2022-08-07T17:04:34.883Z"
   },
   {
    "duration": 71,
    "start_time": "2022-08-07T17:06:26.307Z"
   },
   {
    "duration": 59,
    "start_time": "2022-08-07T17:06:29.440Z"
   },
   {
    "duration": 78,
    "start_time": "2022-08-08T12:59:09.513Z"
   },
   {
    "duration": 396,
    "start_time": "2022-08-08T12:59:16.228Z"
   },
   {
    "duration": 203,
    "start_time": "2022-08-08T12:59:16.626Z"
   },
   {
    "duration": 16,
    "start_time": "2022-08-08T12:59:16.830Z"
   },
   {
    "duration": 30,
    "start_time": "2022-08-08T12:59:16.848Z"
   },
   {
    "duration": 9,
    "start_time": "2022-08-08T12:59:16.882Z"
   },
   {
    "duration": 12,
    "start_time": "2022-08-08T12:59:16.893Z"
   },
   {
    "duration": 9,
    "start_time": "2022-08-08T12:59:16.907Z"
   },
   {
    "duration": 26,
    "start_time": "2022-08-08T12:59:16.918Z"
   },
   {
    "duration": 20,
    "start_time": "2022-08-08T12:59:16.946Z"
   },
   {
    "duration": 20,
    "start_time": "2022-08-08T12:59:16.967Z"
   },
   {
    "duration": 57,
    "start_time": "2022-08-08T12:59:16.988Z"
   },
   {
    "duration": 77,
    "start_time": "2022-08-08T12:59:17.046Z"
   },
   {
    "duration": 65,
    "start_time": "2022-08-08T12:59:17.125Z"
   },
   {
    "duration": 7,
    "start_time": "2022-08-08T12:59:17.194Z"
   },
   {
    "duration": 7,
    "start_time": "2022-08-08T12:59:17.202Z"
   },
   {
    "duration": 16,
    "start_time": "2022-08-08T12:59:17.211Z"
   },
   {
    "duration": 7,
    "start_time": "2022-08-08T12:59:17.229Z"
   },
   {
    "duration": 21,
    "start_time": "2022-08-08T12:59:17.237Z"
   },
   {
    "duration": 9,
    "start_time": "2022-08-08T12:59:17.260Z"
   },
   {
    "duration": 8,
    "start_time": "2022-08-08T12:59:17.271Z"
   },
   {
    "duration": 52,
    "start_time": "2022-08-08T12:59:17.281Z"
   },
   {
    "duration": 40,
    "start_time": "2022-08-08T12:59:17.335Z"
   },
   {
    "duration": 45,
    "start_time": "2022-08-08T12:59:17.377Z"
   },
   {
    "duration": 45,
    "start_time": "2022-08-08T12:59:17.424Z"
   },
   {
    "duration": 45,
    "start_time": "2022-08-08T12:59:17.471Z"
   },
   {
    "duration": 40,
    "start_time": "2022-08-08T12:59:17.518Z"
   },
   {
    "duration": 8,
    "start_time": "2022-08-08T12:59:17.560Z"
   },
   {
    "duration": 15,
    "start_time": "2022-08-08T12:59:17.569Z"
   },
   {
    "duration": 8,
    "start_time": "2022-08-08T12:59:17.585Z"
   },
   {
    "duration": 4,
    "start_time": "2022-08-08T12:59:17.595Z"
   },
   {
    "duration": 137,
    "start_time": "2022-08-08T12:59:17.600Z"
   },
   {
    "duration": 0,
    "start_time": "2022-08-08T12:59:17.739Z"
   },
   {
    "duration": 1,
    "start_time": "2022-08-08T12:59:17.740Z"
   },
   {
    "duration": 0,
    "start_time": "2022-08-08T12:59:17.742Z"
   },
   {
    "duration": 0,
    "start_time": "2022-08-08T12:59:17.743Z"
   },
   {
    "duration": 0,
    "start_time": "2022-08-08T12:59:17.744Z"
   },
   {
    "duration": 0,
    "start_time": "2022-08-08T12:59:17.746Z"
   },
   {
    "duration": 0,
    "start_time": "2022-08-08T12:59:17.748Z"
   },
   {
    "duration": 60,
    "start_time": "2022-08-08T13:02:02.879Z"
   },
   {
    "duration": 8,
    "start_time": "2022-08-08T13:02:06.727Z"
   },
   {
    "duration": 5,
    "start_time": "2022-08-08T13:02:09.329Z"
   },
   {
    "duration": 5,
    "start_time": "2022-08-08T13:08:36.675Z"
   },
   {
    "duration": 93,
    "start_time": "2022-08-08T13:08:39.834Z"
   },
   {
    "duration": 1884,
    "start_time": "2022-08-08T13:13:08.951Z"
   },
   {
    "duration": 118,
    "start_time": "2022-08-08T13:13:24.310Z"
   },
   {
    "duration": 4,
    "start_time": "2022-08-08T13:14:10.217Z"
   },
   {
    "duration": 542,
    "start_time": "2022-08-08T13:15:51.160Z"
   },
   {
    "duration": 4,
    "start_time": "2022-08-08T13:15:59.019Z"
   },
   {
    "duration": 93,
    "start_time": "2022-08-08T13:16:02.558Z"
   },
   {
    "duration": 1910,
    "start_time": "2022-08-08T13:17:13.159Z"
   },
   {
    "duration": 146,
    "start_time": "2022-08-08T13:17:37.756Z"
   },
   {
    "duration": 100,
    "start_time": "2022-08-08T13:18:00.432Z"
   },
   {
    "duration": 6,
    "start_time": "2022-08-08T13:18:03.161Z"
   },
   {
    "duration": 77,
    "start_time": "2022-08-08T13:18:06.327Z"
   },
   {
    "duration": 3,
    "start_time": "2022-08-08T13:19:54.034Z"
   },
   {
    "duration": 86,
    "start_time": "2022-08-08T13:19:56.731Z"
   },
   {
    "duration": 3,
    "start_time": "2022-08-08T13:20:57.364Z"
   },
   {
    "duration": 97,
    "start_time": "2022-08-08T13:21:01.045Z"
   },
   {
    "duration": 124,
    "start_time": "2022-08-08T13:30:41.102Z"
   },
   {
    "duration": 4,
    "start_time": "2022-08-08T13:30:44.752Z"
   },
   {
    "duration": 136,
    "start_time": "2022-08-08T13:30:49.835Z"
   },
   {
    "duration": 79,
    "start_time": "2022-08-08T13:31:03.636Z"
   },
   {
    "duration": 21,
    "start_time": "2022-08-08T13:39:52.595Z"
   },
   {
    "duration": 21,
    "start_time": "2022-08-08T13:39:58.225Z"
   },
   {
    "duration": 5,
    "start_time": "2022-08-08T13:40:04.560Z"
   },
   {
    "duration": 17,
    "start_time": "2022-08-08T13:42:24.234Z"
   },
   {
    "duration": 12,
    "start_time": "2022-08-08T13:47:32.838Z"
   },
   {
    "duration": 16,
    "start_time": "2022-08-08T13:49:33.333Z"
   },
   {
    "duration": 12,
    "start_time": "2022-08-08T13:50:06.262Z"
   },
   {
    "duration": 30,
    "start_time": "2022-08-08T13:50:39.316Z"
   },
   {
    "duration": 60,
    "start_time": "2022-08-08T13:50:55.278Z"
   },
   {
    "duration": 28,
    "start_time": "2022-08-08T13:51:04.137Z"
   },
   {
    "duration": 48,
    "start_time": "2022-08-08T13:51:14.021Z"
   },
   {
    "duration": 47,
    "start_time": "2022-08-08T13:51:25.978Z"
   },
   {
    "duration": 31,
    "start_time": "2022-08-08T13:51:29.978Z"
   },
   {
    "duration": 21,
    "start_time": "2022-08-08T13:51:50.224Z"
   },
   {
    "duration": 18,
    "start_time": "2022-08-08T13:52:59.666Z"
   },
   {
    "duration": 9,
    "start_time": "2022-08-08T13:53:44.212Z"
   },
   {
    "duration": 8,
    "start_time": "2022-08-08T13:54:08.153Z"
   },
   {
    "duration": 3,
    "start_time": "2022-08-08T13:55:09.042Z"
   },
   {
    "duration": 167,
    "start_time": "2022-08-08T13:55:09.056Z"
   },
   {
    "duration": 12,
    "start_time": "2022-08-08T13:55:09.225Z"
   },
   {
    "duration": 42,
    "start_time": "2022-08-08T13:55:09.238Z"
   },
   {
    "duration": 3,
    "start_time": "2022-08-08T13:55:09.282Z"
   },
   {
    "duration": 11,
    "start_time": "2022-08-08T13:55:09.286Z"
   },
   {
    "duration": 4,
    "start_time": "2022-08-08T13:55:09.299Z"
   },
   {
    "duration": 53,
    "start_time": "2022-08-08T13:55:09.305Z"
   },
   {
    "duration": 17,
    "start_time": "2022-08-08T13:55:09.359Z"
   },
   {
    "duration": 24,
    "start_time": "2022-08-08T13:55:09.377Z"
   },
   {
    "duration": 78,
    "start_time": "2022-08-08T13:55:09.404Z"
   },
   {
    "duration": 63,
    "start_time": "2022-08-08T13:55:09.483Z"
   },
   {
    "duration": 49,
    "start_time": "2022-08-08T13:55:09.557Z"
   },
   {
    "duration": 6,
    "start_time": "2022-08-08T13:55:09.607Z"
   },
   {
    "duration": 7,
    "start_time": "2022-08-08T13:55:09.615Z"
   },
   {
    "duration": 14,
    "start_time": "2022-08-08T13:55:09.623Z"
   },
   {
    "duration": 20,
    "start_time": "2022-08-08T13:55:09.638Z"
   },
   {
    "duration": 9,
    "start_time": "2022-08-08T13:55:09.659Z"
   },
   {
    "duration": 11,
    "start_time": "2022-08-08T13:55:09.669Z"
   },
   {
    "duration": 3,
    "start_time": "2022-08-08T13:55:09.681Z"
   },
   {
    "duration": 50,
    "start_time": "2022-08-08T13:55:09.686Z"
   },
   {
    "duration": 28,
    "start_time": "2022-08-08T13:55:09.758Z"
   },
   {
    "duration": 45,
    "start_time": "2022-08-08T13:55:09.787Z"
   },
   {
    "duration": 45,
    "start_time": "2022-08-08T13:55:09.834Z"
   },
   {
    "duration": 47,
    "start_time": "2022-08-08T13:55:09.881Z"
   },
   {
    "duration": 47,
    "start_time": "2022-08-08T13:55:09.930Z"
   },
   {
    "duration": 9,
    "start_time": "2022-08-08T13:55:09.978Z"
   },
   {
    "duration": 27,
    "start_time": "2022-08-08T13:55:09.989Z"
   },
   {
    "duration": 10,
    "start_time": "2022-08-08T13:55:10.020Z"
   },
   {
    "duration": 1895,
    "start_time": "2022-08-08T13:55:10.031Z"
   },
   {
    "duration": 5,
    "start_time": "2022-08-08T13:55:11.927Z"
   },
   {
    "duration": 34,
    "start_time": "2022-08-08T13:55:11.933Z"
   },
   {
    "duration": 11,
    "start_time": "2022-08-08T13:55:11.968Z"
   },
   {
    "duration": 14,
    "start_time": "2022-08-08T13:55:11.980Z"
   },
   {
    "duration": 9,
    "start_time": "2022-08-08T13:55:11.996Z"
   },
   {
    "duration": 8,
    "start_time": "2022-08-08T13:55:12.007Z"
   },
   {
    "duration": 6,
    "start_time": "2022-08-08T13:55:12.016Z"
   },
   {
    "duration": 38,
    "start_time": "2022-08-08T13:55:12.024Z"
   },
   {
    "duration": 27,
    "start_time": "2022-08-08T13:55:12.064Z"
   },
   {
    "duration": 4,
    "start_time": "2022-08-08T13:55:20.278Z"
   },
   {
    "duration": 48,
    "start_time": "2022-08-08T13:55:26.176Z"
   },
   {
    "duration": 46,
    "start_time": "2022-08-08T13:55:32.672Z"
   },
   {
    "duration": 48,
    "start_time": "2022-08-08T13:55:40.685Z"
   },
   {
    "duration": 4,
    "start_time": "2022-08-08T13:58:09.486Z"
   },
   {
    "duration": 50,
    "start_time": "2022-08-08T13:58:13.310Z"
   },
   {
    "duration": 30,
    "start_time": "2022-08-08T13:58:19.394Z"
   },
   {
    "duration": 46,
    "start_time": "2022-08-08T13:58:24.648Z"
   },
   {
    "duration": 30,
    "start_time": "2022-08-08T13:58:55.761Z"
   },
   {
    "duration": 19,
    "start_time": "2022-08-08T14:01:55.763Z"
   },
   {
    "duration": 11,
    "start_time": "2022-08-08T14:02:35.531Z"
   },
   {
    "duration": 47,
    "start_time": "2022-08-08T14:03:41.305Z"
   },
   {
    "duration": 49,
    "start_time": "2022-08-08T14:03:59.778Z"
   },
   {
    "duration": 47,
    "start_time": "2022-08-08T14:04:08.184Z"
   },
   {
    "duration": 54,
    "start_time": "2022-08-08T14:04:15.400Z"
   },
   {
    "duration": 4,
    "start_time": "2022-08-08T14:07:05.989Z"
   },
   {
    "duration": 46,
    "start_time": "2022-08-08T14:07:09.101Z"
   },
   {
    "duration": 30,
    "start_time": "2022-08-08T14:07:13.993Z"
   },
   {
    "duration": 47,
    "start_time": "2022-08-08T14:07:18.531Z"
   },
   {
    "duration": 2,
    "start_time": "2022-08-08T14:08:46.167Z"
   },
   {
    "duration": 165,
    "start_time": "2022-08-08T14:08:46.173Z"
   },
   {
    "duration": 21,
    "start_time": "2022-08-08T14:08:46.339Z"
   },
   {
    "duration": 35,
    "start_time": "2022-08-08T14:08:46.361Z"
   },
   {
    "duration": 6,
    "start_time": "2022-08-08T14:08:46.398Z"
   },
   {
    "duration": 14,
    "start_time": "2022-08-08T14:08:46.406Z"
   },
   {
    "duration": 4,
    "start_time": "2022-08-08T14:08:46.421Z"
   },
   {
    "duration": 45,
    "start_time": "2022-08-08T14:08:46.426Z"
   },
   {
    "duration": 19,
    "start_time": "2022-08-08T14:08:46.472Z"
   },
   {
    "duration": 22,
    "start_time": "2022-08-08T14:08:46.493Z"
   },
   {
    "duration": 76,
    "start_time": "2022-08-08T14:08:46.517Z"
   },
   {
    "duration": 78,
    "start_time": "2022-08-08T14:08:46.594Z"
   },
   {
    "duration": 53,
    "start_time": "2022-08-08T14:08:46.689Z"
   },
   {
    "duration": 6,
    "start_time": "2022-08-08T14:08:46.744Z"
   },
   {
    "duration": 6,
    "start_time": "2022-08-08T14:08:46.752Z"
   },
   {
    "duration": 11,
    "start_time": "2022-08-08T14:08:46.760Z"
   },
   {
    "duration": 7,
    "start_time": "2022-08-08T14:08:46.772Z"
   },
   {
    "duration": 11,
    "start_time": "2022-08-08T14:08:46.781Z"
   },
   {
    "duration": 13,
    "start_time": "2022-08-08T14:08:46.793Z"
   },
   {
    "duration": 4,
    "start_time": "2022-08-08T14:08:46.808Z"
   },
   {
    "duration": 74,
    "start_time": "2022-08-08T14:08:46.814Z"
   },
   {
    "duration": 30,
    "start_time": "2022-08-08T14:08:46.890Z"
   },
   {
    "duration": 64,
    "start_time": "2022-08-08T14:08:46.922Z"
   },
   {
    "duration": 29,
    "start_time": "2022-08-08T14:08:46.987Z"
   },
   {
    "duration": 59,
    "start_time": "2022-08-08T14:08:47.017Z"
   },
   {
    "duration": 29,
    "start_time": "2022-08-08T14:08:47.078Z"
   },
   {
    "duration": 9,
    "start_time": "2022-08-08T14:08:47.109Z"
   },
   {
    "duration": 17,
    "start_time": "2022-08-08T14:08:47.119Z"
   },
   {
    "duration": 10,
    "start_time": "2022-08-08T14:08:47.157Z"
   },
   {
    "duration": 8,
    "start_time": "2022-08-08T14:08:47.168Z"
   },
   {
    "duration": 26,
    "start_time": "2022-08-08T14:08:47.177Z"
   },
   {
    "duration": 11,
    "start_time": "2022-08-08T14:08:47.205Z"
   },
   {
    "duration": 16,
    "start_time": "2022-08-08T14:08:47.218Z"
   },
   {
    "duration": 30,
    "start_time": "2022-08-08T14:08:47.236Z"
   },
   {
    "duration": 9,
    "start_time": "2022-08-08T14:08:47.268Z"
   },
   {
    "duration": 29,
    "start_time": "2022-08-08T14:08:47.279Z"
   },
   {
    "duration": 8,
    "start_time": "2022-08-08T14:08:47.309Z"
   },
   {
    "duration": 5,
    "start_time": "2022-08-08T14:22:25.765Z"
   },
   {
    "duration": 13,
    "start_time": "2022-08-08T14:22:28.596Z"
   },
   {
    "duration": 3,
    "start_time": "2022-08-08T14:24:06.004Z"
   },
   {
    "duration": 18,
    "start_time": "2022-08-08T14:24:09.170Z"
   },
   {
    "duration": 4,
    "start_time": "2022-08-08T14:24:24.810Z"
   },
   {
    "duration": 26,
    "start_time": "2022-08-08T14:24:27.597Z"
   },
   {
    "duration": 18,
    "start_time": "2022-08-08T14:24:31.933Z"
   },
   {
    "duration": 26,
    "start_time": "2022-08-08T14:24:35.312Z"
   },
   {
    "duration": 18,
    "start_time": "2022-08-08T14:24:38.473Z"
   },
   {
    "duration": 26,
    "start_time": "2022-08-08T14:24:40.988Z"
   },
   {
    "duration": 17,
    "start_time": "2022-08-08T14:24:44.004Z"
   },
   {
    "duration": 9,
    "start_time": "2022-08-08T14:24:48.528Z"
   },
   {
    "duration": 46,
    "start_time": "2022-08-09T10:12:42.196Z"
   },
   {
    "duration": 5,
    "start_time": "2022-08-09T10:12:54.942Z"
   },
   {
    "duration": 417,
    "start_time": "2022-08-09T10:12:59.741Z"
   },
   {
    "duration": 214,
    "start_time": "2022-08-09T10:13:00.160Z"
   },
   {
    "duration": 15,
    "start_time": "2022-08-09T10:13:00.376Z"
   },
   {
    "duration": 28,
    "start_time": "2022-08-09T10:13:00.393Z"
   },
   {
    "duration": 4,
    "start_time": "2022-08-09T10:13:00.422Z"
   },
   {
    "duration": 14,
    "start_time": "2022-08-09T10:13:00.427Z"
   },
   {
    "duration": 19,
    "start_time": "2022-08-09T10:13:00.443Z"
   },
   {
    "duration": 38,
    "start_time": "2022-08-09T10:13:00.464Z"
   },
   {
    "duration": 25,
    "start_time": "2022-08-09T10:13:00.504Z"
   },
   {
    "duration": 34,
    "start_time": "2022-08-09T10:13:00.532Z"
   },
   {
    "duration": 72,
    "start_time": "2022-08-09T10:13:00.567Z"
   },
   {
    "duration": 75,
    "start_time": "2022-08-09T10:13:00.640Z"
   },
   {
    "duration": 64,
    "start_time": "2022-08-09T10:13:00.717Z"
   },
   {
    "duration": 7,
    "start_time": "2022-08-09T10:13:00.782Z"
   },
   {
    "duration": 44,
    "start_time": "2022-08-09T10:13:00.790Z"
   },
   {
    "duration": 42,
    "start_time": "2022-08-09T10:13:00.836Z"
   },
   {
    "duration": 68,
    "start_time": "2022-08-09T10:13:00.880Z"
   },
   {
    "duration": 20,
    "start_time": "2022-08-09T10:13:00.950Z"
   },
   {
    "duration": 40,
    "start_time": "2022-08-09T10:13:00.972Z"
   },
   {
    "duration": 24,
    "start_time": "2022-08-09T10:13:01.014Z"
   },
   {
    "duration": 74,
    "start_time": "2022-08-09T10:13:01.039Z"
   },
   {
    "duration": 19,
    "start_time": "2022-08-09T10:13:01.115Z"
   },
   {
    "duration": 51,
    "start_time": "2022-08-09T10:13:01.136Z"
   },
   {
    "duration": 50,
    "start_time": "2022-08-09T10:13:01.188Z"
   },
   {
    "duration": 41,
    "start_time": "2022-08-09T10:13:01.240Z"
   },
   {
    "duration": 30,
    "start_time": "2022-08-09T10:13:01.283Z"
   },
   {
    "duration": 85,
    "start_time": "2022-08-09T10:13:01.315Z"
   },
   {
    "duration": 66,
    "start_time": "2022-08-09T10:13:01.404Z"
   },
   {
    "duration": 18,
    "start_time": "2022-08-09T10:13:01.472Z"
   },
   {
    "duration": 9,
    "start_time": "2022-08-09T10:13:01.492Z"
   },
   {
    "duration": 37,
    "start_time": "2022-08-09T10:13:01.502Z"
   },
   {
    "duration": 10,
    "start_time": "2022-08-09T10:13:01.541Z"
   },
   {
    "duration": 21,
    "start_time": "2022-08-09T10:13:01.553Z"
   },
   {
    "duration": 10,
    "start_time": "2022-08-09T10:13:01.576Z"
   },
   {
    "duration": 14,
    "start_time": "2022-08-09T10:13:01.588Z"
   },
   {
    "duration": 14,
    "start_time": "2022-08-09T10:13:01.604Z"
   },
   {
    "duration": 15,
    "start_time": "2022-08-09T10:13:01.620Z"
   },
   {
    "duration": 10,
    "start_time": "2022-08-09T10:13:01.636Z"
   },
   {
    "duration": 4,
    "start_time": "2022-08-09T10:15:03.762Z"
   },
   {
    "duration": 4,
    "start_time": "2022-08-09T10:16:29.814Z"
   },
   {
    "duration": 3,
    "start_time": "2022-08-09T10:18:55.808Z"
   },
   {
    "duration": 3,
    "start_time": "2022-08-09T10:19:25.472Z"
   },
   {
    "duration": 4,
    "start_time": "2022-08-09T10:19:29.266Z"
   },
   {
    "duration": 20,
    "start_time": "2022-08-09T10:19:47.549Z"
   },
   {
    "duration": 2,
    "start_time": "2022-08-09T10:20:40.888Z"
   },
   {
    "duration": 20,
    "start_time": "2022-08-09T10:20:44.218Z"
   },
   {
    "duration": 20,
    "start_time": "2022-08-09T10:20:51.707Z"
   },
   {
    "duration": 20,
    "start_time": "2022-08-09T10:25:49.909Z"
   },
   {
    "duration": 160,
    "start_time": "2022-08-09T10:26:01.415Z"
   },
   {
    "duration": 3,
    "start_time": "2022-08-09T10:26:03.871Z"
   },
   {
    "duration": 170,
    "start_time": "2022-08-09T10:26:06.471Z"
   },
   {
    "duration": 11,
    "start_time": "2022-08-09T10:26:11.213Z"
   },
   {
    "duration": 30,
    "start_time": "2022-08-09T10:26:14.887Z"
   },
   {
    "duration": 21,
    "start_time": "2022-08-09T10:26:25.547Z"
   },
   {
    "duration": 29,
    "start_time": "2022-08-09T10:49:44.578Z"
   },
   {
    "duration": 3,
    "start_time": "2022-08-09T10:50:24.912Z"
   },
   {
    "duration": 13,
    "start_time": "2022-08-09T10:50:33.755Z"
   },
   {
    "duration": 21,
    "start_time": "2022-08-09T10:50:58.129Z"
   },
   {
    "duration": 3,
    "start_time": "2022-08-09T10:51:07.329Z"
   },
   {
    "duration": 5,
    "start_time": "2022-08-09T10:51:10.321Z"
   },
   {
    "duration": 22,
    "start_time": "2022-08-09T10:51:14.329Z"
   },
   {
    "duration": 1676,
    "start_time": "2022-08-09T10:51:19.319Z"
   },
   {
    "duration": 32,
    "start_time": "2022-08-09T10:51:56.476Z"
   },
   {
    "duration": 1700,
    "start_time": "2022-08-09T10:52:59.290Z"
   },
   {
    "duration": 7,
    "start_time": "2022-08-09T10:54:02.279Z"
   },
   {
    "duration": 8,
    "start_time": "2022-08-09T10:55:15.869Z"
   },
   {
    "duration": 14,
    "start_time": "2022-08-09T10:56:06.740Z"
   },
   {
    "duration": 24,
    "start_time": "2022-08-09T10:56:10.242Z"
   },
   {
    "duration": 12,
    "start_time": "2022-08-09T10:56:31.417Z"
   },
   {
    "duration": 16,
    "start_time": "2022-08-09T10:56:44.974Z"
   },
   {
    "duration": 7,
    "start_time": "2022-08-09T10:57:20.181Z"
   },
   {
    "duration": 62,
    "start_time": "2022-08-09T10:57:44.630Z"
   },
   {
    "duration": 51,
    "start_time": "2022-08-09T10:57:54.270Z"
   },
   {
    "duration": 61,
    "start_time": "2022-08-09T10:57:59.865Z"
   },
   {
    "duration": 53,
    "start_time": "2022-08-09T10:58:02.937Z"
   },
   {
    "duration": 7,
    "start_time": "2022-08-09T10:58:18.837Z"
   },
   {
    "duration": 9,
    "start_time": "2022-08-09T10:59:05.524Z"
   },
   {
    "duration": 7,
    "start_time": "2022-08-09T10:59:33.750Z"
   },
   {
    "duration": 4,
    "start_time": "2022-08-09T11:00:30.545Z"
   },
   {
    "duration": 8,
    "start_time": "2022-08-09T11:00:33.880Z"
   },
   {
    "duration": 11,
    "start_time": "2022-08-09T11:01:06.059Z"
   },
   {
    "duration": 16,
    "start_time": "2022-08-09T11:01:14.604Z"
   },
   {
    "duration": 14,
    "start_time": "2022-08-09T11:01:20.857Z"
   },
   {
    "duration": 23,
    "start_time": "2022-08-09T11:01:27.344Z"
   },
   {
    "duration": 7,
    "start_time": "2022-08-09T11:02:22.728Z"
   },
   {
    "duration": 3,
    "start_time": "2022-08-09T11:02:28.608Z"
   },
   {
    "duration": 30,
    "start_time": "2022-08-09T11:02:34.488Z"
   },
   {
    "duration": 22,
    "start_time": "2022-08-09T11:02:40.022Z"
   },
   {
    "duration": 23,
    "start_time": "2022-08-09T11:02:46.679Z"
   },
   {
    "duration": 29,
    "start_time": "2022-08-09T11:02:51.721Z"
   },
   {
    "duration": 21,
    "start_time": "2022-08-09T11:02:56.261Z"
   },
   {
    "duration": 222,
    "start_time": "2022-08-09T11:13:48.540Z"
   },
   {
    "duration": 22,
    "start_time": "2022-08-09T11:19:49.511Z"
   },
   {
    "duration": 112,
    "start_time": "2022-08-09T11:26:47.940Z"
   },
   {
    "duration": 4,
    "start_time": "2022-08-09T11:26:54.771Z"
   },
   {
    "duration": 20,
    "start_time": "2022-08-09T11:26:59.319Z"
   },
   {
    "duration": 4,
    "start_time": "2022-08-09T11:27:27.809Z"
   },
   {
    "duration": 17,
    "start_time": "2022-08-09T11:27:31.618Z"
   },
   {
    "duration": 15,
    "start_time": "2022-08-09T11:27:40.610Z"
   },
   {
    "duration": 15,
    "start_time": "2022-08-09T11:27:44.111Z"
   },
   {
    "duration": 16,
    "start_time": "2022-08-09T11:27:47.610Z"
   },
   {
    "duration": 14,
    "start_time": "2022-08-09T11:27:58.296Z"
   },
   {
    "duration": 13,
    "start_time": "2022-08-09T11:28:04.936Z"
   },
   {
    "duration": 9,
    "start_time": "2022-08-09T11:28:48.958Z"
   },
   {
    "duration": 9,
    "start_time": "2022-08-09T11:31:01.131Z"
   },
   {
    "duration": 5,
    "start_time": "2022-08-09T11:31:22.610Z"
   },
   {
    "duration": 4,
    "start_time": "2022-08-09T11:31:39.769Z"
   },
   {
    "duration": 8,
    "start_time": "2022-08-09T11:31:55.009Z"
   },
   {
    "duration": 4,
    "start_time": "2022-08-09T11:32:05.017Z"
   },
   {
    "duration": 17,
    "start_time": "2022-08-09T11:32:09.136Z"
   },
   {
    "duration": 9,
    "start_time": "2022-08-09T11:34:33.346Z"
   },
   {
    "duration": 9,
    "start_time": "2022-08-09T11:36:58.770Z"
   },
   {
    "duration": 9,
    "start_time": "2022-08-09T11:37:07.068Z"
   },
   {
    "duration": 10,
    "start_time": "2022-08-09T11:42:26.150Z"
   },
   {
    "duration": 9,
    "start_time": "2022-08-09T11:42:36.389Z"
   },
   {
    "duration": 10,
    "start_time": "2022-08-09T11:42:45.949Z"
   },
   {
    "duration": 51,
    "start_time": "2022-08-09T11:42:53.326Z"
   },
   {
    "duration": 9,
    "start_time": "2022-08-09T11:43:04.898Z"
   },
   {
    "duration": 9,
    "start_time": "2022-08-09T11:45:20.464Z"
   },
   {
    "duration": 12,
    "start_time": "2022-08-09T11:45:57.308Z"
   },
   {
    "duration": 36,
    "start_time": "2022-08-09T11:47:29.304Z"
   },
   {
    "duration": 8,
    "start_time": "2022-08-09T11:47:51.083Z"
   },
   {
    "duration": 35,
    "start_time": "2022-08-09T11:48:01.382Z"
   },
   {
    "duration": 35,
    "start_time": "2022-08-09T11:48:36.544Z"
   },
   {
    "duration": 11,
    "start_time": "2022-08-09T11:49:23.039Z"
   },
   {
    "duration": 24,
    "start_time": "2022-08-09T11:49:27.684Z"
   },
   {
    "duration": 398,
    "start_time": "2022-08-09T14:56:22.235Z"
   },
   {
    "duration": 216,
    "start_time": "2022-08-09T14:56:22.635Z"
   },
   {
    "duration": 26,
    "start_time": "2022-08-09T14:56:22.852Z"
   },
   {
    "duration": 29,
    "start_time": "2022-08-09T14:56:22.881Z"
   },
   {
    "duration": 4,
    "start_time": "2022-08-09T14:56:22.911Z"
   },
   {
    "duration": 6,
    "start_time": "2022-08-09T14:56:22.917Z"
   },
   {
    "duration": 6,
    "start_time": "2022-08-09T14:56:22.925Z"
   },
   {
    "duration": 25,
    "start_time": "2022-08-09T14:56:22.933Z"
   },
   {
    "duration": 12,
    "start_time": "2022-08-09T14:56:22.959Z"
   },
   {
    "duration": 44,
    "start_time": "2022-08-09T14:56:22.974Z"
   },
   {
    "duration": 60,
    "start_time": "2022-08-09T14:56:23.020Z"
   },
   {
    "duration": 83,
    "start_time": "2022-08-09T14:56:23.082Z"
   },
   {
    "duration": 64,
    "start_time": "2022-08-09T14:56:23.166Z"
   },
   {
    "duration": 39,
    "start_time": "2022-08-09T14:56:23.232Z"
   },
   {
    "duration": 3,
    "start_time": "2022-08-09T14:56:23.272Z"
   },
   {
    "duration": 9,
    "start_time": "2022-08-09T14:56:23.298Z"
   },
   {
    "duration": 40,
    "start_time": "2022-08-09T14:56:23.308Z"
   },
   {
    "duration": 10,
    "start_time": "2022-08-09T14:56:23.350Z"
   },
   {
    "duration": 13,
    "start_time": "2022-08-09T14:56:23.362Z"
   },
   {
    "duration": 22,
    "start_time": "2022-08-09T14:56:23.376Z"
   },
   {
    "duration": 21,
    "start_time": "2022-08-09T14:56:23.400Z"
   },
   {
    "duration": 14,
    "start_time": "2022-08-09T14:56:23.423Z"
   },
   {
    "duration": 14,
    "start_time": "2022-08-09T14:56:23.438Z"
   },
   {
    "duration": 14,
    "start_time": "2022-08-09T14:56:23.453Z"
   },
   {
    "duration": 41,
    "start_time": "2022-08-09T14:56:23.469Z"
   },
   {
    "duration": 14,
    "start_time": "2022-08-09T14:56:23.512Z"
   },
   {
    "duration": 8,
    "start_time": "2022-08-09T14:56:23.528Z"
   },
   {
    "duration": 10,
    "start_time": "2022-08-09T14:56:23.541Z"
   },
   {
    "duration": 10,
    "start_time": "2022-08-09T14:56:23.552Z"
   },
   {
    "duration": 38,
    "start_time": "2022-08-09T14:56:23.563Z"
   },
   {
    "duration": 22,
    "start_time": "2022-08-09T14:56:23.603Z"
   },
   {
    "duration": 12,
    "start_time": "2022-08-09T14:56:23.626Z"
   },
   {
    "duration": 19,
    "start_time": "2022-08-09T14:56:23.640Z"
   },
   {
    "duration": 12,
    "start_time": "2022-08-09T14:56:23.660Z"
   },
   {
    "duration": 8,
    "start_time": "2022-08-09T14:56:23.699Z"
   },
   {
    "duration": 5,
    "start_time": "2022-08-09T14:56:23.709Z"
   },
   {
    "duration": 8,
    "start_time": "2022-08-09T14:56:23.715Z"
   },
   {
    "duration": 16,
    "start_time": "2022-08-09T14:56:23.725Z"
   },
   {
    "duration": 419,
    "start_time": "2022-08-10T08:45:52.681Z"
   },
   {
    "duration": 66,
    "start_time": "2022-08-10T08:45:53.102Z"
   },
   {
    "duration": 0,
    "start_time": "2022-08-10T08:45:53.170Z"
   },
   {
    "duration": 0,
    "start_time": "2022-08-10T08:45:53.170Z"
   },
   {
    "duration": 0,
    "start_time": "2022-08-10T08:45:53.172Z"
   },
   {
    "duration": 0,
    "start_time": "2022-08-10T08:45:53.172Z"
   },
   {
    "duration": 0,
    "start_time": "2022-08-10T08:45:53.173Z"
   },
   {
    "duration": 0,
    "start_time": "2022-08-10T08:45:53.174Z"
   },
   {
    "duration": 0,
    "start_time": "2022-08-10T08:45:53.174Z"
   },
   {
    "duration": 0,
    "start_time": "2022-08-10T08:45:53.175Z"
   },
   {
    "duration": 0,
    "start_time": "2022-08-10T08:45:53.175Z"
   },
   {
    "duration": 0,
    "start_time": "2022-08-10T08:45:53.176Z"
   },
   {
    "duration": 0,
    "start_time": "2022-08-10T08:45:53.176Z"
   },
   {
    "duration": 0,
    "start_time": "2022-08-10T08:45:53.186Z"
   },
   {
    "duration": 1,
    "start_time": "2022-08-10T08:45:53.187Z"
   },
   {
    "duration": 0,
    "start_time": "2022-08-10T08:45:53.189Z"
   },
   {
    "duration": 0,
    "start_time": "2022-08-10T08:45:53.190Z"
   },
   {
    "duration": 0,
    "start_time": "2022-08-10T08:45:53.191Z"
   },
   {
    "duration": 0,
    "start_time": "2022-08-10T08:45:53.192Z"
   },
   {
    "duration": 0,
    "start_time": "2022-08-10T08:45:53.193Z"
   },
   {
    "duration": 3,
    "start_time": "2022-08-10T08:45:53.307Z"
   },
   {
    "duration": 11,
    "start_time": "2022-08-10T08:45:53.312Z"
   },
   {
    "duration": 0,
    "start_time": "2022-08-10T08:45:53.325Z"
   },
   {
    "duration": 0,
    "start_time": "2022-08-10T08:45:53.326Z"
   },
   {
    "duration": 0,
    "start_time": "2022-08-10T08:45:53.327Z"
   },
   {
    "duration": 0,
    "start_time": "2022-08-10T08:45:53.329Z"
   },
   {
    "duration": 0,
    "start_time": "2022-08-10T08:45:53.330Z"
   },
   {
    "duration": 0,
    "start_time": "2022-08-10T08:45:53.331Z"
   },
   {
    "duration": 0,
    "start_time": "2022-08-10T08:45:53.332Z"
   },
   {
    "duration": 0,
    "start_time": "2022-08-10T08:45:53.332Z"
   },
   {
    "duration": 0,
    "start_time": "2022-08-10T08:45:53.334Z"
   },
   {
    "duration": 0,
    "start_time": "2022-08-10T08:45:53.334Z"
   },
   {
    "duration": 0,
    "start_time": "2022-08-10T08:45:53.336Z"
   },
   {
    "duration": 0,
    "start_time": "2022-08-10T08:45:53.337Z"
   },
   {
    "duration": 7,
    "start_time": "2022-08-10T08:45:53.545Z"
   },
   {
    "duration": 0,
    "start_time": "2022-08-10T08:45:53.554Z"
   },
   {
    "duration": 0,
    "start_time": "2022-08-10T08:45:53.555Z"
   },
   {
    "duration": 0,
    "start_time": "2022-08-10T08:45:53.556Z"
   },
   {
    "duration": 0,
    "start_time": "2022-08-10T08:45:53.558Z"
   },
   {
    "duration": 376,
    "start_time": "2022-08-11T08:32:25.740Z"
   },
   {
    "duration": 477,
    "start_time": "2022-08-11T08:32:26.119Z"
   },
   {
    "duration": 17,
    "start_time": "2022-08-11T08:32:26.597Z"
   },
   {
    "duration": 25,
    "start_time": "2022-08-11T08:32:26.616Z"
   },
   {
    "duration": 4,
    "start_time": "2022-08-11T08:32:26.642Z"
   },
   {
    "duration": 10,
    "start_time": "2022-08-11T08:32:26.648Z"
   },
   {
    "duration": 6,
    "start_time": "2022-08-11T08:32:26.659Z"
   },
   {
    "duration": 40,
    "start_time": "2022-08-11T08:32:26.667Z"
   },
   {
    "duration": 20,
    "start_time": "2022-08-11T08:32:26.708Z"
   },
   {
    "duration": 24,
    "start_time": "2022-08-11T08:32:26.730Z"
   },
   {
    "duration": 72,
    "start_time": "2022-08-11T08:32:26.755Z"
   },
   {
    "duration": 60,
    "start_time": "2022-08-11T08:32:26.828Z"
   },
   {
    "duration": 57,
    "start_time": "2022-08-11T08:32:26.889Z"
   },
   {
    "duration": 31,
    "start_time": "2022-08-11T08:32:26.948Z"
   },
   {
    "duration": 2,
    "start_time": "2022-08-11T08:32:26.980Z"
   },
   {
    "duration": 22,
    "start_time": "2022-08-11T08:32:26.984Z"
   },
   {
    "duration": 32,
    "start_time": "2022-08-11T08:32:27.007Z"
   },
   {
    "duration": 9,
    "start_time": "2022-08-11T08:32:27.040Z"
   },
   {
    "duration": 9,
    "start_time": "2022-08-11T08:32:27.050Z"
   },
   {
    "duration": 3,
    "start_time": "2022-08-11T08:32:27.060Z"
   },
   {
    "duration": 42,
    "start_time": "2022-08-11T08:32:27.065Z"
   },
   {
    "duration": 15,
    "start_time": "2022-08-11T08:32:27.108Z"
   },
   {
    "duration": 13,
    "start_time": "2022-08-11T08:32:27.124Z"
   },
   {
    "duration": 12,
    "start_time": "2022-08-11T08:32:27.139Z"
   },
   {
    "duration": 13,
    "start_time": "2022-08-11T08:32:27.152Z"
   },
   {
    "duration": 41,
    "start_time": "2022-08-11T08:32:27.166Z"
   },
   {
    "duration": 7,
    "start_time": "2022-08-11T08:32:27.208Z"
   },
   {
    "duration": 13,
    "start_time": "2022-08-11T08:32:27.218Z"
   },
   {
    "duration": 10,
    "start_time": "2022-08-11T08:32:27.233Z"
   },
   {
    "duration": 7,
    "start_time": "2022-08-11T08:32:27.245Z"
   },
   {
    "duration": 19,
    "start_time": "2022-08-11T08:32:27.254Z"
   },
   {
    "duration": 32,
    "start_time": "2022-08-11T08:32:27.275Z"
   },
   {
    "duration": 16,
    "start_time": "2022-08-11T08:32:27.308Z"
   },
   {
    "duration": 10,
    "start_time": "2022-08-11T08:32:27.325Z"
   },
   {
    "duration": 8,
    "start_time": "2022-08-11T08:32:27.336Z"
   },
   {
    "duration": 3,
    "start_time": "2022-08-11T08:32:27.345Z"
   },
   {
    "duration": 8,
    "start_time": "2022-08-11T08:32:27.350Z"
   },
   {
    "duration": 6,
    "start_time": "2022-08-11T08:32:27.359Z"
   }
  ],
  "colab": {
   "collapsed_sections": [
    "E0vqbgi9ay0H",
    "VUC88oWjTJw2"
   ],
   "name": "saya sudah ubah codenya tetapi saat upload kembali seperti awal.ipynb",
   "provenance": []
  },
  "kernelspec": {
   "display_name": "Python 3 (ipykernel)",
   "language": "python",
   "name": "python3"
  },
  "language_info": {
   "codemirror_mode": {
    "name": "ipython",
    "version": 3
   },
   "file_extension": ".py",
   "mimetype": "text/x-python",
   "name": "python",
   "nbconvert_exporter": "python",
   "pygments_lexer": "ipython3",
   "version": "3.10.6"
  },
  "toc": {
   "base_numbering": 1,
   "nav_menu": {},
   "number_sections": true,
   "sideBar": true,
   "skip_h1_title": true,
   "title_cell": "Table of Contents",
   "title_sidebar": "Contents",
   "toc_cell": false,
   "toc_position": {},
   "toc_section_display": true,
   "toc_window_display": false
  }
 },
 "nbformat": 4,
 "nbformat_minor": 4
}
