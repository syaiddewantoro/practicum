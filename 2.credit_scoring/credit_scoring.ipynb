{
  "cells": [
    {
      "cell_type": "markdown",
      "source": [
        "# Analyze the Risk of the Borrower Failing to Pay"
      ],
      "metadata": {
        "id": "m2KyziSkg3Ta"
      }
    },
    {
      "cell_type": "markdown",
      "source": [
        "### Table of Contents\n",
        "\n",
        "* [Analyze the Risk of the Borrower Failing to Pay](#scrollTo=m2KyziSkg3Ta)\n",
        "    * [Pre-processing Data](#scrollTo=AHuel4Iaf9OR)\n",
        "    * [1. Open file Data and Display General Information.](#scrollTo=BJ_98FqNf9OX)\n",
        "    * [2. Data Preprocessing](#scrollTo=1Tdf9ve4f9Ob)\n",
        "        * [2.1. Identifying Missing Values](#scrollTo=CL3ERkhywZf0)\n",
        "        * [2.2. Data Transformation](#scrollTo=-JRdn7BTf9Oq)\n",
        "            * [2.2.1. Checking the education Column](#scrollTo=0UDtw2NMf9Or)\n",
        "            * [2.2.2. Checking the children Column](#scrollTo=O8-NOwI_f9Ou)\n",
        "            * [2.2.3. Checking the days_employed Column](#scrollTo=fyf8ElSEf9O4)\n",
        "            * [2.2.4. Checking the dob_years Column](#scrollTo=FNDxGPjdf9O8)\n",
        "            * [2.2.5. Checking the family_status Column](#scrollTo=qMByFGqZf9O_)\n",
        "            * [2.3.6. Checking the gender Column](#scrollTo=6zpE6_uvf9PB)\n",
        "            * [2.3.7. Checking the income_type Column](#scrollTo=yxLG9B-Yf9PE)\n",
        "        * [2.3. Checking Duplicates](#scrollTo=xKEid7pjyLRl)\n",
        "        * [2.4. Work with Missing Values](#scrollTo=h8DWab5Jf9PM)\n",
        "            * [2.4.1. Fixed Missing Values in total_income](#scrollTo=kmfC7wCtf9PO)\n",
        "            * [2.4.2. Fixed the Missing Values in days_employed](#scrollTo=1G6BLS4cf9PX)\n",
        "        * [2.5. Data Categorization](#scrollTo=R5-x_yR0f9Pb)\n",
        "            * [2.5.1. Categorizing Data in the purpose Column](#scrollTo=Q7alM5MJy0Ae)\n",
        "            * [2.5.2. Categorizing Data in the total_income Column](#scrollTo=kTVT22SPzOWO)\n",
        "    * [3. Answering the Hypothesis](#scrollTo=Z-a1SKx5f9Ph)\n",
        "        * [3.1. Is there a relationship between having children and the probability of defaulting on loans?](#scrollTo=8Obi_s-Qf9Ph)\n",
        "        * [3.2. Is there a correlation between family status and paying back on time?](#scrollTo=P3sJMUaBf9Pk)\n",
        "        * [3.3. Is there a correlation between income levels and paying back on time?](#scrollTo=0dru-vduf9Pm)\n",
        "        * [3.4. How do different loan objectives affect the probability of defaulting on a loan??](#scrollTo=bdoMQRgof9Po)\n",
        "    * [4. General Conclusion](#scrollTo=AkaFtVnSf9Pq)\n",
        "\n"
      ],
      "metadata": {
        "colab_type": "toc",
        "id": "7nmw0yyRfy6h"
      }
    },
    {
      "cell_type": "markdown",
      "metadata": {
        "id": "AHuel4Iaf9OR"
      },
      "source": [
        "## Pre-processing Data\n",
        "\n",
        "As a credit analyst, our project is to prepare reports for the bank's credit department. We find out the effect of a customer's marital status and the number of children on the probability of being on time in repaying the loan. Banks already have some data regarding customer creditworthiness.\n",
        "\n",
        "Our report will be considered when making a **credit assessment** for prospective customers. **Credit scoring** is used to evaluate the ability of potential borrowers to repay their loans.\n",
        "\n",
        "The main purpose of this project is to determine a client's eligibility to get credit based on their status and circumstances stored in our data. We also test the capacity of customers based on their characteristics which we summarize based on categories so that *patterns* are obtained to give yellow lights to customers who fall into certain categories.\n",
        "\n",
        "Project hypothesis:\n",
        "1. Is there a correlation between the number of children and the ability to repay loans on time?\n",
        "2. Is there a correlation between family status and the ability to repay loans on time?\n",
        "3. Is there a correlation between economic class and the ability to repay loans on time?\n",
        "4. Is there a correlation between credit goals and the ability to repay loans on time?"
      ]
    },
    {
      "cell_type": "markdown",
      "metadata": {
        "id": "BJ_98FqNf9OX"
      },
      "source": [
        "## 1. Open *file* Data and Display General Information.\n",
        "\n",
        "We'll start by importing the library and loading the data."
      ]
    },
    {
      "cell_type": "code",
      "execution_count": null,
      "metadata": {
        "id": "bK2CuOxFf9OY"
      },
      "outputs": [],
      "source": [
        "# Load all libraries\n",
        "import pandas as pd"
      ]
    },
    {
      "cell_type": "code",
      "execution_count": null,
      "metadata": {
        "id": "0pks-y4qf9Oa"
      },
      "outputs": [],
      "source": [
        "# load data\n",
        "df = pd.read_csv('https://practicum-content.s3.us-west-1.amazonaws.com/datasets/credit_scoring_eng.csv')"
      ]
    },
    {
      "cell_type": "markdown",
      "metadata": {
        "id": "1Tdf9ve4f9Ob"
      },
      "source": [
        "## 2. Data Preprocessing\n",
        "\n",
        "**Data Description**\n",
        "- *`children`* - the number of children in the family\n",
        "- *`days_employed`* - work experience in days\n",
        "- *`dob_years`* - client's age in years\n",
        "- *`education`* - client education\n",
        "- *`education_id`* - educational ID\n",
        "- *`family_status`* - marital status\n",
        "- *`family_status_id`* - marital status identifier\n",
        "- *`gender`* - the gender of the client\n",
        "- *`income_type`* - type of work\n",
        "- *`debt`* - does the client have loan payment debts\n",
        "- *`total_income`* - monthly income\n",
        "- *`purpose`* - the purpose of getting a loan"
      ]
    },
    {
      "cell_type": "code",
      "execution_count": null,
      "metadata": {
        "id": "TbuSiwzMf9Oc",
        "colab": {
          "base_uri": "https://localhost:8080/"
        },
        "outputId": "02899822-47c0-4a17-e505-50d2ce325b36"
      },
      "outputs": [
        {
          "output_type": "execute_result",
          "data": {
            "text/plain": [
              "(21525, 12)"
            ]
          },
          "metadata": {},
          "execution_count": 3
        }
      ],
      "source": [
        "# Check the number of rows and columns in the dataset\n",
        "df.shape"
      ]
    },
    {
      "cell_type": "code",
      "execution_count": null,
      "metadata": {
        "id": "OiHeqaS_f9Od",
        "scrolled": false,
        "colab": {
          "base_uri": "https://localhost:8080/",
          "height": 618
        },
        "outputId": "6d1873e8-3a53-412a-951a-66ee9fa56347"
      },
      "outputs": [
        {
          "output_type": "execute_result",
          "data": {
            "text/plain": [
              "   children  days_employed  dob_years            education  education_id  \\\n",
              "0         1   -8437.673028         42    bachelor's degree             0   \n",
              "1         1   -4024.803754         36  secondary education             1   \n",
              "2         0   -5623.422610         33  Secondary Education             1   \n",
              "3         3   -4124.747207         32  secondary education             1   \n",
              "4         0  340266.072047         53  secondary education             1   \n",
              "5         0    -926.185831         27    bachelor's degree             0   \n",
              "6         0   -2879.202052         43    bachelor's degree             0   \n",
              "7         0    -152.779569         50  SECONDARY EDUCATION             1   \n",
              "8         2   -6929.865299         35    BACHELOR'S DEGREE             0   \n",
              "9         0   -2188.756445         41  secondary education             1   \n",
              "\n",
              "       family_status  family_status_id gender income_type  debt  total_income  \\\n",
              "0            married                 0      F    employee     0     40620.102   \n",
              "1            married                 0      F    employee     0     17932.802   \n",
              "2            married                 0      M    employee     0     23341.752   \n",
              "3            married                 0      M    employee     0     42820.568   \n",
              "4  civil partnership                 1      F     retiree     0     25378.572   \n",
              "5  civil partnership                 1      M    business     0     40922.170   \n",
              "6            married                 0      F    business     0     38484.156   \n",
              "7            married                 0      M    employee     0     21731.829   \n",
              "8  civil partnership                 1      F    employee     0     15337.093   \n",
              "9            married                 0      M    employee     0     23108.150   \n",
              "\n",
              "                               purpose  \n",
              "0                purchase of the house  \n",
              "1                         car purchase  \n",
              "2                purchase of the house  \n",
              "3              supplementary education  \n",
              "4                    to have a wedding  \n",
              "5                purchase of the house  \n",
              "6                 housing transactions  \n",
              "7                            education  \n",
              "8                     having a wedding  \n",
              "9  purchase of the house for my family  "
            ],
            "text/html": [
              "\n",
              "  <div id=\"df-7283428a-f9e4-4ee0-bc10-d18fdff3dc1c\">\n",
              "    <div class=\"colab-df-container\">\n",
              "      <div>\n",
              "<style scoped>\n",
              "    .dataframe tbody tr th:only-of-type {\n",
              "        vertical-align: middle;\n",
              "    }\n",
              "\n",
              "    .dataframe tbody tr th {\n",
              "        vertical-align: top;\n",
              "    }\n",
              "\n",
              "    .dataframe thead th {\n",
              "        text-align: right;\n",
              "    }\n",
              "</style>\n",
              "<table border=\"1\" class=\"dataframe\">\n",
              "  <thead>\n",
              "    <tr style=\"text-align: right;\">\n",
              "      <th></th>\n",
              "      <th>children</th>\n",
              "      <th>days_employed</th>\n",
              "      <th>dob_years</th>\n",
              "      <th>education</th>\n",
              "      <th>education_id</th>\n",
              "      <th>family_status</th>\n",
              "      <th>family_status_id</th>\n",
              "      <th>gender</th>\n",
              "      <th>income_type</th>\n",
              "      <th>debt</th>\n",
              "      <th>total_income</th>\n",
              "      <th>purpose</th>\n",
              "    </tr>\n",
              "  </thead>\n",
              "  <tbody>\n",
              "    <tr>\n",
              "      <th>0</th>\n",
              "      <td>1</td>\n",
              "      <td>-8437.673028</td>\n",
              "      <td>42</td>\n",
              "      <td>bachelor's degree</td>\n",
              "      <td>0</td>\n",
              "      <td>married</td>\n",
              "      <td>0</td>\n",
              "      <td>F</td>\n",
              "      <td>employee</td>\n",
              "      <td>0</td>\n",
              "      <td>40620.102</td>\n",
              "      <td>purchase of the house</td>\n",
              "    </tr>\n",
              "    <tr>\n",
              "      <th>1</th>\n",
              "      <td>1</td>\n",
              "      <td>-4024.803754</td>\n",
              "      <td>36</td>\n",
              "      <td>secondary education</td>\n",
              "      <td>1</td>\n",
              "      <td>married</td>\n",
              "      <td>0</td>\n",
              "      <td>F</td>\n",
              "      <td>employee</td>\n",
              "      <td>0</td>\n",
              "      <td>17932.802</td>\n",
              "      <td>car purchase</td>\n",
              "    </tr>\n",
              "    <tr>\n",
              "      <th>2</th>\n",
              "      <td>0</td>\n",
              "      <td>-5623.422610</td>\n",
              "      <td>33</td>\n",
              "      <td>Secondary Education</td>\n",
              "      <td>1</td>\n",
              "      <td>married</td>\n",
              "      <td>0</td>\n",
              "      <td>M</td>\n",
              "      <td>employee</td>\n",
              "      <td>0</td>\n",
              "      <td>23341.752</td>\n",
              "      <td>purchase of the house</td>\n",
              "    </tr>\n",
              "    <tr>\n",
              "      <th>3</th>\n",
              "      <td>3</td>\n",
              "      <td>-4124.747207</td>\n",
              "      <td>32</td>\n",
              "      <td>secondary education</td>\n",
              "      <td>1</td>\n",
              "      <td>married</td>\n",
              "      <td>0</td>\n",
              "      <td>M</td>\n",
              "      <td>employee</td>\n",
              "      <td>0</td>\n",
              "      <td>42820.568</td>\n",
              "      <td>supplementary education</td>\n",
              "    </tr>\n",
              "    <tr>\n",
              "      <th>4</th>\n",
              "      <td>0</td>\n",
              "      <td>340266.072047</td>\n",
              "      <td>53</td>\n",
              "      <td>secondary education</td>\n",
              "      <td>1</td>\n",
              "      <td>civil partnership</td>\n",
              "      <td>1</td>\n",
              "      <td>F</td>\n",
              "      <td>retiree</td>\n",
              "      <td>0</td>\n",
              "      <td>25378.572</td>\n",
              "      <td>to have a wedding</td>\n",
              "    </tr>\n",
              "    <tr>\n",
              "      <th>5</th>\n",
              "      <td>0</td>\n",
              "      <td>-926.185831</td>\n",
              "      <td>27</td>\n",
              "      <td>bachelor's degree</td>\n",
              "      <td>0</td>\n",
              "      <td>civil partnership</td>\n",
              "      <td>1</td>\n",
              "      <td>M</td>\n",
              "      <td>business</td>\n",
              "      <td>0</td>\n",
              "      <td>40922.170</td>\n",
              "      <td>purchase of the house</td>\n",
              "    </tr>\n",
              "    <tr>\n",
              "      <th>6</th>\n",
              "      <td>0</td>\n",
              "      <td>-2879.202052</td>\n",
              "      <td>43</td>\n",
              "      <td>bachelor's degree</td>\n",
              "      <td>0</td>\n",
              "      <td>married</td>\n",
              "      <td>0</td>\n",
              "      <td>F</td>\n",
              "      <td>business</td>\n",
              "      <td>0</td>\n",
              "      <td>38484.156</td>\n",
              "      <td>housing transactions</td>\n",
              "    </tr>\n",
              "    <tr>\n",
              "      <th>7</th>\n",
              "      <td>0</td>\n",
              "      <td>-152.779569</td>\n",
              "      <td>50</td>\n",
              "      <td>SECONDARY EDUCATION</td>\n",
              "      <td>1</td>\n",
              "      <td>married</td>\n",
              "      <td>0</td>\n",
              "      <td>M</td>\n",
              "      <td>employee</td>\n",
              "      <td>0</td>\n",
              "      <td>21731.829</td>\n",
              "      <td>education</td>\n",
              "    </tr>\n",
              "    <tr>\n",
              "      <th>8</th>\n",
              "      <td>2</td>\n",
              "      <td>-6929.865299</td>\n",
              "      <td>35</td>\n",
              "      <td>BACHELOR'S DEGREE</td>\n",
              "      <td>0</td>\n",
              "      <td>civil partnership</td>\n",
              "      <td>1</td>\n",
              "      <td>F</td>\n",
              "      <td>employee</td>\n",
              "      <td>0</td>\n",
              "      <td>15337.093</td>\n",
              "      <td>having a wedding</td>\n",
              "    </tr>\n",
              "    <tr>\n",
              "      <th>9</th>\n",
              "      <td>0</td>\n",
              "      <td>-2188.756445</td>\n",
              "      <td>41</td>\n",
              "      <td>secondary education</td>\n",
              "      <td>1</td>\n",
              "      <td>married</td>\n",
              "      <td>0</td>\n",
              "      <td>M</td>\n",
              "      <td>employee</td>\n",
              "      <td>0</td>\n",
              "      <td>23108.150</td>\n",
              "      <td>purchase of the house for my family</td>\n",
              "    </tr>\n",
              "  </tbody>\n",
              "</table>\n",
              "</div>\n",
              "      <button class=\"colab-df-convert\" onclick=\"convertToInteractive('df-7283428a-f9e4-4ee0-bc10-d18fdff3dc1c')\"\n",
              "              title=\"Convert this dataframe to an interactive table.\"\n",
              "              style=\"display:none;\">\n",
              "        \n",
              "  <svg xmlns=\"http://www.w3.org/2000/svg\" height=\"24px\"viewBox=\"0 0 24 24\"\n",
              "       width=\"24px\">\n",
              "    <path d=\"M0 0h24v24H0V0z\" fill=\"none\"/>\n",
              "    <path d=\"M18.56 5.44l.94 2.06.94-2.06 2.06-.94-2.06-.94-.94-2.06-.94 2.06-2.06.94zm-11 1L8.5 8.5l.94-2.06 2.06-.94-2.06-.94L8.5 2.5l-.94 2.06-2.06.94zm10 10l.94 2.06.94-2.06 2.06-.94-2.06-.94-.94-2.06-.94 2.06-2.06.94z\"/><path d=\"M17.41 7.96l-1.37-1.37c-.4-.4-.92-.59-1.43-.59-.52 0-1.04.2-1.43.59L10.3 9.45l-7.72 7.72c-.78.78-.78 2.05 0 2.83L4 21.41c.39.39.9.59 1.41.59.51 0 1.02-.2 1.41-.59l7.78-7.78 2.81-2.81c.8-.78.8-2.07 0-2.86zM5.41 20L4 18.59l7.72-7.72 1.47 1.35L5.41 20z\"/>\n",
              "  </svg>\n",
              "      </button>\n",
              "      \n",
              "  <style>\n",
              "    .colab-df-container {\n",
              "      display:flex;\n",
              "      flex-wrap:wrap;\n",
              "      gap: 12px;\n",
              "    }\n",
              "\n",
              "    .colab-df-convert {\n",
              "      background-color: #E8F0FE;\n",
              "      border: none;\n",
              "      border-radius: 50%;\n",
              "      cursor: pointer;\n",
              "      display: none;\n",
              "      fill: #1967D2;\n",
              "      height: 32px;\n",
              "      padding: 0 0 0 0;\n",
              "      width: 32px;\n",
              "    }\n",
              "\n",
              "    .colab-df-convert:hover {\n",
              "      background-color: #E2EBFA;\n",
              "      box-shadow: 0px 1px 2px rgba(60, 64, 67, 0.3), 0px 1px 3px 1px rgba(60, 64, 67, 0.15);\n",
              "      fill: #174EA6;\n",
              "    }\n",
              "\n",
              "    [theme=dark] .colab-df-convert {\n",
              "      background-color: #3B4455;\n",
              "      fill: #D2E3FC;\n",
              "    }\n",
              "\n",
              "    [theme=dark] .colab-df-convert:hover {\n",
              "      background-color: #434B5C;\n",
              "      box-shadow: 0px 1px 3px 1px rgba(0, 0, 0, 0.15);\n",
              "      filter: drop-shadow(0px 1px 2px rgba(0, 0, 0, 0.3));\n",
              "      fill: #FFFFFF;\n",
              "    }\n",
              "  </style>\n",
              "\n",
              "      <script>\n",
              "        const buttonEl =\n",
              "          document.querySelector('#df-7283428a-f9e4-4ee0-bc10-d18fdff3dc1c button.colab-df-convert');\n",
              "        buttonEl.style.display =\n",
              "          google.colab.kernel.accessAllowed ? 'block' : 'none';\n",
              "\n",
              "        async function convertToInteractive(key) {\n",
              "          const element = document.querySelector('#df-7283428a-f9e4-4ee0-bc10-d18fdff3dc1c');\n",
              "          const dataTable =\n",
              "            await google.colab.kernel.invokeFunction('convertToInteractive',\n",
              "                                                     [key], {});\n",
              "          if (!dataTable) return;\n",
              "\n",
              "          const docLinkHtml = 'Like what you see? Visit the ' +\n",
              "            '<a target=\"_blank\" href=https://colab.research.google.com/notebooks/data_table.ipynb>data table notebook</a>'\n",
              "            + ' to learn more about interactive tables.';\n",
              "          element.innerHTML = '';\n",
              "          dataTable['output_type'] = 'display_data';\n",
              "          await google.colab.output.renderOutput(dataTable, element);\n",
              "          const docLink = document.createElement('div');\n",
              "          docLink.innerHTML = docLinkHtml;\n",
              "          element.appendChild(docLink);\n",
              "        }\n",
              "      </script>\n",
              "    </div>\n",
              "  </div>\n",
              "  "
            ]
          },
          "metadata": {},
          "execution_count": 4
        }
      ],
      "source": [
        "# Display the first 10 rows in the dataset\n",
        "df.head(10)"
      ]
    },
    {
      "cell_type": "markdown",
      "metadata": {
        "id": "06fdTDq6f9Od"
      },
      "source": [
        "From the sample data displayed, several problems can be detected. Namely, there are negative values, and the value we value is very high from the `days_employed` column, which we value is unreasonable because the column displays work experience in days, as well as writing capital letters that are not incorrect regularly in the `education` column."
      ]
    },
    {
      "cell_type": "code",
      "execution_count": null,
      "metadata": {
        "id": "raymZ1GDf9Oe",
        "scrolled": true,
        "colab": {
          "base_uri": "https://localhost:8080/"
        },
        "outputId": "f9641a9c-5178-4ec8-c636-0b9360c67214"
      },
      "outputs": [
        {
          "output_type": "stream",
          "name": "stdout",
          "text": [
            "<class 'pandas.core.frame.DataFrame'>\n",
            "RangeIndex: 21525 entries, 0 to 21524\n",
            "Data columns (total 12 columns):\n",
            " #   Column            Non-Null Count  Dtype  \n",
            "---  ------            --------------  -----  \n",
            " 0   children          21525 non-null  int64  \n",
            " 1   days_employed     19351 non-null  float64\n",
            " 2   dob_years         21525 non-null  int64  \n",
            " 3   education         21525 non-null  object \n",
            " 4   education_id      21525 non-null  int64  \n",
            " 5   family_status     21525 non-null  object \n",
            " 6   family_status_id  21525 non-null  int64  \n",
            " 7   gender            21525 non-null  object \n",
            " 8   income_type       21525 non-null  object \n",
            " 9   debt              21525 non-null  int64  \n",
            " 10  total_income      19351 non-null  float64\n",
            " 11  purpose           21525 non-null  object \n",
            "dtypes: float64(2), int64(5), object(5)\n",
            "memory usage: 2.0+ MB\n"
          ]
        }
      ],
      "source": [
        "# Get the information of all columns in the data\n",
        "df.info()"
      ]
    },
    {
      "cell_type": "markdown",
      "metadata": {
        "id": "rPXzx4wRf9Of"
      },
      "source": [
        "There are missing values in the `days_employed` and `total_income` columns."
      ]
    },
    {
      "cell_type": "code",
      "execution_count": null,
      "metadata": {
        "id": "mYF-kgNrf9Og",
        "colab": {
          "base_uri": "https://localhost:8080/",
          "height": 722
        },
        "outputId": "75296159-1f41-4451-9518-c6d83a763525"
      },
      "outputs": [
        {
          "output_type": "execute_result",
          "data": {
            "text/plain": [
              "    children  days_employed  dob_years            education  education_id  \\\n",
              "12         0            NaN         65  secondary education             1   \n",
              "26         0            NaN         41  secondary education             1   \n",
              "29         0            NaN         63  secondary education             1   \n",
              "41         0            NaN         50  secondary education             1   \n",
              "55         0            NaN         54  secondary education             1   \n",
              "65         0            NaN         21  secondary education             1   \n",
              "67         0            NaN         52    bachelor's degree             0   \n",
              "72         1            NaN         32    bachelor's degree             0   \n",
              "82         2            NaN         50    bachelor's degree             0   \n",
              "83         0            NaN         52  secondary education             1   \n",
              "\n",
              "        family_status  family_status_id gender    income_type  debt  \\\n",
              "12  civil partnership                 1      M        retiree     0   \n",
              "26            married                 0      M  civil servant     0   \n",
              "29          unmarried                 4      F        retiree     0   \n",
              "41            married                 0      F  civil servant     0   \n",
              "55  civil partnership                 1      F        retiree     1   \n",
              "65          unmarried                 4      M       business     0   \n",
              "67            married                 0      F        retiree     0   \n",
              "72            married                 0      M  civil servant     0   \n",
              "82            married                 0      F       employee     0   \n",
              "83            married                 0      M       employee     0   \n",
              "\n",
              "    total_income                                   purpose  \n",
              "12           NaN                         to have a wedding  \n",
              "26           NaN                                 education  \n",
              "29           NaN                    building a real estate  \n",
              "41           NaN                  second-hand car purchase  \n",
              "55           NaN                         to have a wedding  \n",
              "65           NaN  transactions with commercial real estate  \n",
              "67           NaN       purchase of the house for my family  \n",
              "72           NaN  transactions with commercial real estate  \n",
              "82           NaN                                   housing  \n",
              "83           NaN                                   housing  "
            ],
            "text/html": [
              "\n",
              "  <div id=\"df-25abb5d4-3913-4ac4-a448-cc5ab36db41d\">\n",
              "    <div class=\"colab-df-container\">\n",
              "      <div>\n",
              "<style scoped>\n",
              "    .dataframe tbody tr th:only-of-type {\n",
              "        vertical-align: middle;\n",
              "    }\n",
              "\n",
              "    .dataframe tbody tr th {\n",
              "        vertical-align: top;\n",
              "    }\n",
              "\n",
              "    .dataframe thead th {\n",
              "        text-align: right;\n",
              "    }\n",
              "</style>\n",
              "<table border=\"1\" class=\"dataframe\">\n",
              "  <thead>\n",
              "    <tr style=\"text-align: right;\">\n",
              "      <th></th>\n",
              "      <th>children</th>\n",
              "      <th>days_employed</th>\n",
              "      <th>dob_years</th>\n",
              "      <th>education</th>\n",
              "      <th>education_id</th>\n",
              "      <th>family_status</th>\n",
              "      <th>family_status_id</th>\n",
              "      <th>gender</th>\n",
              "      <th>income_type</th>\n",
              "      <th>debt</th>\n",
              "      <th>total_income</th>\n",
              "      <th>purpose</th>\n",
              "    </tr>\n",
              "  </thead>\n",
              "  <tbody>\n",
              "    <tr>\n",
              "      <th>12</th>\n",
              "      <td>0</td>\n",
              "      <td>NaN</td>\n",
              "      <td>65</td>\n",
              "      <td>secondary education</td>\n",
              "      <td>1</td>\n",
              "      <td>civil partnership</td>\n",
              "      <td>1</td>\n",
              "      <td>M</td>\n",
              "      <td>retiree</td>\n",
              "      <td>0</td>\n",
              "      <td>NaN</td>\n",
              "      <td>to have a wedding</td>\n",
              "    </tr>\n",
              "    <tr>\n",
              "      <th>26</th>\n",
              "      <td>0</td>\n",
              "      <td>NaN</td>\n",
              "      <td>41</td>\n",
              "      <td>secondary education</td>\n",
              "      <td>1</td>\n",
              "      <td>married</td>\n",
              "      <td>0</td>\n",
              "      <td>M</td>\n",
              "      <td>civil servant</td>\n",
              "      <td>0</td>\n",
              "      <td>NaN</td>\n",
              "      <td>education</td>\n",
              "    </tr>\n",
              "    <tr>\n",
              "      <th>29</th>\n",
              "      <td>0</td>\n",
              "      <td>NaN</td>\n",
              "      <td>63</td>\n",
              "      <td>secondary education</td>\n",
              "      <td>1</td>\n",
              "      <td>unmarried</td>\n",
              "      <td>4</td>\n",
              "      <td>F</td>\n",
              "      <td>retiree</td>\n",
              "      <td>0</td>\n",
              "      <td>NaN</td>\n",
              "      <td>building a real estate</td>\n",
              "    </tr>\n",
              "    <tr>\n",
              "      <th>41</th>\n",
              "      <td>0</td>\n",
              "      <td>NaN</td>\n",
              "      <td>50</td>\n",
              "      <td>secondary education</td>\n",
              "      <td>1</td>\n",
              "      <td>married</td>\n",
              "      <td>0</td>\n",
              "      <td>F</td>\n",
              "      <td>civil servant</td>\n",
              "      <td>0</td>\n",
              "      <td>NaN</td>\n",
              "      <td>second-hand car purchase</td>\n",
              "    </tr>\n",
              "    <tr>\n",
              "      <th>55</th>\n",
              "      <td>0</td>\n",
              "      <td>NaN</td>\n",
              "      <td>54</td>\n",
              "      <td>secondary education</td>\n",
              "      <td>1</td>\n",
              "      <td>civil partnership</td>\n",
              "      <td>1</td>\n",
              "      <td>F</td>\n",
              "      <td>retiree</td>\n",
              "      <td>1</td>\n",
              "      <td>NaN</td>\n",
              "      <td>to have a wedding</td>\n",
              "    </tr>\n",
              "    <tr>\n",
              "      <th>65</th>\n",
              "      <td>0</td>\n",
              "      <td>NaN</td>\n",
              "      <td>21</td>\n",
              "      <td>secondary education</td>\n",
              "      <td>1</td>\n",
              "      <td>unmarried</td>\n",
              "      <td>4</td>\n",
              "      <td>M</td>\n",
              "      <td>business</td>\n",
              "      <td>0</td>\n",
              "      <td>NaN</td>\n",
              "      <td>transactions with commercial real estate</td>\n",
              "    </tr>\n",
              "    <tr>\n",
              "      <th>67</th>\n",
              "      <td>0</td>\n",
              "      <td>NaN</td>\n",
              "      <td>52</td>\n",
              "      <td>bachelor's degree</td>\n",
              "      <td>0</td>\n",
              "      <td>married</td>\n",
              "      <td>0</td>\n",
              "      <td>F</td>\n",
              "      <td>retiree</td>\n",
              "      <td>0</td>\n",
              "      <td>NaN</td>\n",
              "      <td>purchase of the house for my family</td>\n",
              "    </tr>\n",
              "    <tr>\n",
              "      <th>72</th>\n",
              "      <td>1</td>\n",
              "      <td>NaN</td>\n",
              "      <td>32</td>\n",
              "      <td>bachelor's degree</td>\n",
              "      <td>0</td>\n",
              "      <td>married</td>\n",
              "      <td>0</td>\n",
              "      <td>M</td>\n",
              "      <td>civil servant</td>\n",
              "      <td>0</td>\n",
              "      <td>NaN</td>\n",
              "      <td>transactions with commercial real estate</td>\n",
              "    </tr>\n",
              "    <tr>\n",
              "      <th>82</th>\n",
              "      <td>2</td>\n",
              "      <td>NaN</td>\n",
              "      <td>50</td>\n",
              "      <td>bachelor's degree</td>\n",
              "      <td>0</td>\n",
              "      <td>married</td>\n",
              "      <td>0</td>\n",
              "      <td>F</td>\n",
              "      <td>employee</td>\n",
              "      <td>0</td>\n",
              "      <td>NaN</td>\n",
              "      <td>housing</td>\n",
              "    </tr>\n",
              "    <tr>\n",
              "      <th>83</th>\n",
              "      <td>0</td>\n",
              "      <td>NaN</td>\n",
              "      <td>52</td>\n",
              "      <td>secondary education</td>\n",
              "      <td>1</td>\n",
              "      <td>married</td>\n",
              "      <td>0</td>\n",
              "      <td>M</td>\n",
              "      <td>employee</td>\n",
              "      <td>0</td>\n",
              "      <td>NaN</td>\n",
              "      <td>housing</td>\n",
              "    </tr>\n",
              "  </tbody>\n",
              "</table>\n",
              "</div>\n",
              "      <button class=\"colab-df-convert\" onclick=\"convertToInteractive('df-25abb5d4-3913-4ac4-a448-cc5ab36db41d')\"\n",
              "              title=\"Convert this dataframe to an interactive table.\"\n",
              "              style=\"display:none;\">\n",
              "        \n",
              "  <svg xmlns=\"http://www.w3.org/2000/svg\" height=\"24px\"viewBox=\"0 0 24 24\"\n",
              "       width=\"24px\">\n",
              "    <path d=\"M0 0h24v24H0V0z\" fill=\"none\"/>\n",
              "    <path d=\"M18.56 5.44l.94 2.06.94-2.06 2.06-.94-2.06-.94-.94-2.06-.94 2.06-2.06.94zm-11 1L8.5 8.5l.94-2.06 2.06-.94-2.06-.94L8.5 2.5l-.94 2.06-2.06.94zm10 10l.94 2.06.94-2.06 2.06-.94-2.06-.94-.94-2.06-.94 2.06-2.06.94z\"/><path d=\"M17.41 7.96l-1.37-1.37c-.4-.4-.92-.59-1.43-.59-.52 0-1.04.2-1.43.59L10.3 9.45l-7.72 7.72c-.78.78-.78 2.05 0 2.83L4 21.41c.39.39.9.59 1.41.59.51 0 1.02-.2 1.41-.59l7.78-7.78 2.81-2.81c.8-.78.8-2.07 0-2.86zM5.41 20L4 18.59l7.72-7.72 1.47 1.35L5.41 20z\"/>\n",
              "  </svg>\n",
              "      </button>\n",
              "      \n",
              "  <style>\n",
              "    .colab-df-container {\n",
              "      display:flex;\n",
              "      flex-wrap:wrap;\n",
              "      gap: 12px;\n",
              "    }\n",
              "\n",
              "    .colab-df-convert {\n",
              "      background-color: #E8F0FE;\n",
              "      border: none;\n",
              "      border-radius: 50%;\n",
              "      cursor: pointer;\n",
              "      display: none;\n",
              "      fill: #1967D2;\n",
              "      height: 32px;\n",
              "      padding: 0 0 0 0;\n",
              "      width: 32px;\n",
              "    }\n",
              "\n",
              "    .colab-df-convert:hover {\n",
              "      background-color: #E2EBFA;\n",
              "      box-shadow: 0px 1px 2px rgba(60, 64, 67, 0.3), 0px 1px 3px 1px rgba(60, 64, 67, 0.15);\n",
              "      fill: #174EA6;\n",
              "    }\n",
              "\n",
              "    [theme=dark] .colab-df-convert {\n",
              "      background-color: #3B4455;\n",
              "      fill: #D2E3FC;\n",
              "    }\n",
              "\n",
              "    [theme=dark] .colab-df-convert:hover {\n",
              "      background-color: #434B5C;\n",
              "      box-shadow: 0px 1px 3px 1px rgba(0, 0, 0, 0.15);\n",
              "      filter: drop-shadow(0px 1px 2px rgba(0, 0, 0, 0.3));\n",
              "      fill: #FFFFFF;\n",
              "    }\n",
              "  </style>\n",
              "\n",
              "      <script>\n",
              "        const buttonEl =\n",
              "          document.querySelector('#df-25abb5d4-3913-4ac4-a448-cc5ab36db41d button.colab-df-convert');\n",
              "        buttonEl.style.display =\n",
              "          google.colab.kernel.accessAllowed ? 'block' : 'none';\n",
              "\n",
              "        async function convertToInteractive(key) {\n",
              "          const element = document.querySelector('#df-25abb5d4-3913-4ac4-a448-cc5ab36db41d');\n",
              "          const dataTable =\n",
              "            await google.colab.kernel.invokeFunction('convertToInteractive',\n",
              "                                                     [key], {});\n",
              "          if (!dataTable) return;\n",
              "\n",
              "          const docLinkHtml = 'Like what you see? Visit the ' +\n",
              "            '<a target=\"_blank\" href=https://colab.research.google.com/notebooks/data_table.ipynb>data table notebook</a>'\n",
              "            + ' to learn more about interactive tables.';\n",
              "          element.innerHTML = '';\n",
              "          dataTable['output_type'] = 'display_data';\n",
              "          await google.colab.output.renderOutput(dataTable, element);\n",
              "          const docLink = document.createElement('div');\n",
              "          docLink.innerHTML = docLinkHtml;\n",
              "          element.appendChild(docLink);\n",
              "        }\n",
              "      </script>\n",
              "    </div>\n",
              "  </div>\n",
              "  "
            ]
          },
          "metadata": {},
          "execution_count": 6
        }
      ],
      "source": [
        "# Display missing values in the dataset\n",
        "df[df['days_employed'].isna()].head(10)"
      ]
    },
    {
      "cell_type": "markdown",
      "source": [
        "### 2.1. Identifying Missing Values"
      ],
      "metadata": {
        "id": "CL3ERkhywZf0"
      }
    },
    {
      "cell_type": "markdown",
      "metadata": {
        "id": "07No4gn_f9Og"
      },
      "source": [
        "So far, from what I've seen, the missing values appear symmetrical because they are on the same line. Still, to conclude whether the missing values are on the same line, further investigation is needed."
      ]
    },
    {
      "cell_type": "code",
      "execution_count": null,
      "metadata": {
        "id": "mUurdqDxf9Oh",
        "colab": {
          "base_uri": "https://localhost:8080/"
        },
        "outputId": "f1ea19ec-56ed-4ecf-c791-2ae55be8a2c3"
      },
      "outputs": [
        {
          "output_type": "execute_result",
          "data": {
            "text/plain": [
              "2174"
            ]
          },
          "metadata": {},
          "execution_count": 7
        }
      ],
      "source": [
        "# Perform some filtering to find out the number of rows of missing values\n",
        "df_filtered_nan = df[df['days_employed'].isna()]\n",
        "df_filtered_nan = df_filtered_nan[df_filtered_nan['total_income'].isna()]\n",
        "df_filtered_nan.shape[0]"
      ]
    },
    {
      "cell_type": "markdown",
      "metadata": {
        "id": "rB0f8W2Mf9Oi"
      },
      "source": [
        "The missing data in our database is `2174` rows."
      ]
    },
    {
      "cell_type": "code",
      "execution_count": null,
      "metadata": {
        "id": "tKA35rMRf9Oj",
        "colab": {
          "base_uri": "https://localhost:8080/"
        },
        "outputId": "4f7829c0-a211-48b3-bbdb-2b8f9a89611c"
      },
      "outputs": [
        {
          "output_type": "stream",
          "name": "stdout",
          "text": [
            "Distribusi nilai yang hilang sebesar: 10.099884%\n"
          ]
        }
      ],
      "source": [
        "# Now we will calculate the missing value ratio of the whole dataframe\n",
        "df_distribution_nan = df_filtered_nan.shape[0] / df.shape[0] \n",
        "print(f'Distribusi nilai yang hilang sebesar: {df_distribution_nan:0%}')"
      ]
    },
    {
      "cell_type": "markdown",
      "metadata": {
        "id": "pPN-qZnef9Oj"
      },
      "source": [
        "**Intermediate conclusion**\n",
        "\n",
        "The number of missing values is equal to the number of tables filtered. It means the missing values from the filtered table are symmetrical.\n",
        "\n",
        "The percentage of missing data from the dataframe is `10%`, affecting our data.\n",
        "\n",
        "Next, we will calculate the percentage of missing values, and whether they significantly impact the data in the dataset so we will know the right steps to process the missing data."
      ]
    },
    {
      "cell_type": "code",
      "execution_count": null,
      "metadata": {
        "id": "Za0wf2jFf9Oj",
        "colab": {
          "base_uri": "https://localhost:8080/",
          "height": 722
        },
        "outputId": "6511bd85-c2d1-49a3-f21c-7d2190ee7bd9"
      },
      "outputs": [
        {
          "output_type": "execute_result",
          "data": {
            "text/plain": [
              "    children  days_employed  dob_years            education  education_id  \\\n",
              "12         0            NaN         65  secondary education             1   \n",
              "26         0            NaN         41  secondary education             1   \n",
              "29         0            NaN         63  secondary education             1   \n",
              "41         0            NaN         50  secondary education             1   \n",
              "55         0            NaN         54  secondary education             1   \n",
              "65         0            NaN         21  secondary education             1   \n",
              "67         0            NaN         52    bachelor's degree             0   \n",
              "72         1            NaN         32    bachelor's degree             0   \n",
              "82         2            NaN         50    bachelor's degree             0   \n",
              "83         0            NaN         52  secondary education             1   \n",
              "\n",
              "        family_status  family_status_id gender    income_type  debt  \\\n",
              "12  civil partnership                 1      M        retiree     0   \n",
              "26            married                 0      M  civil servant     0   \n",
              "29          unmarried                 4      F        retiree     0   \n",
              "41            married                 0      F  civil servant     0   \n",
              "55  civil partnership                 1      F        retiree     1   \n",
              "65          unmarried                 4      M       business     0   \n",
              "67            married                 0      F        retiree     0   \n",
              "72            married                 0      M  civil servant     0   \n",
              "82            married                 0      F       employee     0   \n",
              "83            married                 0      M       employee     0   \n",
              "\n",
              "    total_income                                   purpose  \n",
              "12           NaN                         to have a wedding  \n",
              "26           NaN                                 education  \n",
              "29           NaN                    building a real estate  \n",
              "41           NaN                  second-hand car purchase  \n",
              "55           NaN                         to have a wedding  \n",
              "65           NaN  transactions with commercial real estate  \n",
              "67           NaN       purchase of the house for my family  \n",
              "72           NaN  transactions with commercial real estate  \n",
              "82           NaN                                   housing  \n",
              "83           NaN                                   housing  "
            ],
            "text/html": [
              "\n",
              "  <div id=\"df-9b2e2849-c657-4784-acc2-3184070ad1f2\">\n",
              "    <div class=\"colab-df-container\">\n",
              "      <div>\n",
              "<style scoped>\n",
              "    .dataframe tbody tr th:only-of-type {\n",
              "        vertical-align: middle;\n",
              "    }\n",
              "\n",
              "    .dataframe tbody tr th {\n",
              "        vertical-align: top;\n",
              "    }\n",
              "\n",
              "    .dataframe thead th {\n",
              "        text-align: right;\n",
              "    }\n",
              "</style>\n",
              "<table border=\"1\" class=\"dataframe\">\n",
              "  <thead>\n",
              "    <tr style=\"text-align: right;\">\n",
              "      <th></th>\n",
              "      <th>children</th>\n",
              "      <th>days_employed</th>\n",
              "      <th>dob_years</th>\n",
              "      <th>education</th>\n",
              "      <th>education_id</th>\n",
              "      <th>family_status</th>\n",
              "      <th>family_status_id</th>\n",
              "      <th>gender</th>\n",
              "      <th>income_type</th>\n",
              "      <th>debt</th>\n",
              "      <th>total_income</th>\n",
              "      <th>purpose</th>\n",
              "    </tr>\n",
              "  </thead>\n",
              "  <tbody>\n",
              "    <tr>\n",
              "      <th>12</th>\n",
              "      <td>0</td>\n",
              "      <td>NaN</td>\n",
              "      <td>65</td>\n",
              "      <td>secondary education</td>\n",
              "      <td>1</td>\n",
              "      <td>civil partnership</td>\n",
              "      <td>1</td>\n",
              "      <td>M</td>\n",
              "      <td>retiree</td>\n",
              "      <td>0</td>\n",
              "      <td>NaN</td>\n",
              "      <td>to have a wedding</td>\n",
              "    </tr>\n",
              "    <tr>\n",
              "      <th>26</th>\n",
              "      <td>0</td>\n",
              "      <td>NaN</td>\n",
              "      <td>41</td>\n",
              "      <td>secondary education</td>\n",
              "      <td>1</td>\n",
              "      <td>married</td>\n",
              "      <td>0</td>\n",
              "      <td>M</td>\n",
              "      <td>civil servant</td>\n",
              "      <td>0</td>\n",
              "      <td>NaN</td>\n",
              "      <td>education</td>\n",
              "    </tr>\n",
              "    <tr>\n",
              "      <th>29</th>\n",
              "      <td>0</td>\n",
              "      <td>NaN</td>\n",
              "      <td>63</td>\n",
              "      <td>secondary education</td>\n",
              "      <td>1</td>\n",
              "      <td>unmarried</td>\n",
              "      <td>4</td>\n",
              "      <td>F</td>\n",
              "      <td>retiree</td>\n",
              "      <td>0</td>\n",
              "      <td>NaN</td>\n",
              "      <td>building a real estate</td>\n",
              "    </tr>\n",
              "    <tr>\n",
              "      <th>41</th>\n",
              "      <td>0</td>\n",
              "      <td>NaN</td>\n",
              "      <td>50</td>\n",
              "      <td>secondary education</td>\n",
              "      <td>1</td>\n",
              "      <td>married</td>\n",
              "      <td>0</td>\n",
              "      <td>F</td>\n",
              "      <td>civil servant</td>\n",
              "      <td>0</td>\n",
              "      <td>NaN</td>\n",
              "      <td>second-hand car purchase</td>\n",
              "    </tr>\n",
              "    <tr>\n",
              "      <th>55</th>\n",
              "      <td>0</td>\n",
              "      <td>NaN</td>\n",
              "      <td>54</td>\n",
              "      <td>secondary education</td>\n",
              "      <td>1</td>\n",
              "      <td>civil partnership</td>\n",
              "      <td>1</td>\n",
              "      <td>F</td>\n",
              "      <td>retiree</td>\n",
              "      <td>1</td>\n",
              "      <td>NaN</td>\n",
              "      <td>to have a wedding</td>\n",
              "    </tr>\n",
              "    <tr>\n",
              "      <th>65</th>\n",
              "      <td>0</td>\n",
              "      <td>NaN</td>\n",
              "      <td>21</td>\n",
              "      <td>secondary education</td>\n",
              "      <td>1</td>\n",
              "      <td>unmarried</td>\n",
              "      <td>4</td>\n",
              "      <td>M</td>\n",
              "      <td>business</td>\n",
              "      <td>0</td>\n",
              "      <td>NaN</td>\n",
              "      <td>transactions with commercial real estate</td>\n",
              "    </tr>\n",
              "    <tr>\n",
              "      <th>67</th>\n",
              "      <td>0</td>\n",
              "      <td>NaN</td>\n",
              "      <td>52</td>\n",
              "      <td>bachelor's degree</td>\n",
              "      <td>0</td>\n",
              "      <td>married</td>\n",
              "      <td>0</td>\n",
              "      <td>F</td>\n",
              "      <td>retiree</td>\n",
              "      <td>0</td>\n",
              "      <td>NaN</td>\n",
              "      <td>purchase of the house for my family</td>\n",
              "    </tr>\n",
              "    <tr>\n",
              "      <th>72</th>\n",
              "      <td>1</td>\n",
              "      <td>NaN</td>\n",
              "      <td>32</td>\n",
              "      <td>bachelor's degree</td>\n",
              "      <td>0</td>\n",
              "      <td>married</td>\n",
              "      <td>0</td>\n",
              "      <td>M</td>\n",
              "      <td>civil servant</td>\n",
              "      <td>0</td>\n",
              "      <td>NaN</td>\n",
              "      <td>transactions with commercial real estate</td>\n",
              "    </tr>\n",
              "    <tr>\n",
              "      <th>82</th>\n",
              "      <td>2</td>\n",
              "      <td>NaN</td>\n",
              "      <td>50</td>\n",
              "      <td>bachelor's degree</td>\n",
              "      <td>0</td>\n",
              "      <td>married</td>\n",
              "      <td>0</td>\n",
              "      <td>F</td>\n",
              "      <td>employee</td>\n",
              "      <td>0</td>\n",
              "      <td>NaN</td>\n",
              "      <td>housing</td>\n",
              "    </tr>\n",
              "    <tr>\n",
              "      <th>83</th>\n",
              "      <td>0</td>\n",
              "      <td>NaN</td>\n",
              "      <td>52</td>\n",
              "      <td>secondary education</td>\n",
              "      <td>1</td>\n",
              "      <td>married</td>\n",
              "      <td>0</td>\n",
              "      <td>M</td>\n",
              "      <td>employee</td>\n",
              "      <td>0</td>\n",
              "      <td>NaN</td>\n",
              "      <td>housing</td>\n",
              "    </tr>\n",
              "  </tbody>\n",
              "</table>\n",
              "</div>\n",
              "      <button class=\"colab-df-convert\" onclick=\"convertToInteractive('df-9b2e2849-c657-4784-acc2-3184070ad1f2')\"\n",
              "              title=\"Convert this dataframe to an interactive table.\"\n",
              "              style=\"display:none;\">\n",
              "        \n",
              "  <svg xmlns=\"http://www.w3.org/2000/svg\" height=\"24px\"viewBox=\"0 0 24 24\"\n",
              "       width=\"24px\">\n",
              "    <path d=\"M0 0h24v24H0V0z\" fill=\"none\"/>\n",
              "    <path d=\"M18.56 5.44l.94 2.06.94-2.06 2.06-.94-2.06-.94-.94-2.06-.94 2.06-2.06.94zm-11 1L8.5 8.5l.94-2.06 2.06-.94-2.06-.94L8.5 2.5l-.94 2.06-2.06.94zm10 10l.94 2.06.94-2.06 2.06-.94-2.06-.94-.94-2.06-.94 2.06-2.06.94z\"/><path d=\"M17.41 7.96l-1.37-1.37c-.4-.4-.92-.59-1.43-.59-.52 0-1.04.2-1.43.59L10.3 9.45l-7.72 7.72c-.78.78-.78 2.05 0 2.83L4 21.41c.39.39.9.59 1.41.59.51 0 1.02-.2 1.41-.59l7.78-7.78 2.81-2.81c.8-.78.8-2.07 0-2.86zM5.41 20L4 18.59l7.72-7.72 1.47 1.35L5.41 20z\"/>\n",
              "  </svg>\n",
              "      </button>\n",
              "      \n",
              "  <style>\n",
              "    .colab-df-container {\n",
              "      display:flex;\n",
              "      flex-wrap:wrap;\n",
              "      gap: 12px;\n",
              "    }\n",
              "\n",
              "    .colab-df-convert {\n",
              "      background-color: #E8F0FE;\n",
              "      border: none;\n",
              "      border-radius: 50%;\n",
              "      cursor: pointer;\n",
              "      display: none;\n",
              "      fill: #1967D2;\n",
              "      height: 32px;\n",
              "      padding: 0 0 0 0;\n",
              "      width: 32px;\n",
              "    }\n",
              "\n",
              "    .colab-df-convert:hover {\n",
              "      background-color: #E2EBFA;\n",
              "      box-shadow: 0px 1px 2px rgba(60, 64, 67, 0.3), 0px 1px 3px 1px rgba(60, 64, 67, 0.15);\n",
              "      fill: #174EA6;\n",
              "    }\n",
              "\n",
              "    [theme=dark] .colab-df-convert {\n",
              "      background-color: #3B4455;\n",
              "      fill: #D2E3FC;\n",
              "    }\n",
              "\n",
              "    [theme=dark] .colab-df-convert:hover {\n",
              "      background-color: #434B5C;\n",
              "      box-shadow: 0px 1px 3px 1px rgba(0, 0, 0, 0.15);\n",
              "      filter: drop-shadow(0px 1px 2px rgba(0, 0, 0, 0.3));\n",
              "      fill: #FFFFFF;\n",
              "    }\n",
              "  </style>\n",
              "\n",
              "      <script>\n",
              "        const buttonEl =\n",
              "          document.querySelector('#df-9b2e2849-c657-4784-acc2-3184070ad1f2 button.colab-df-convert');\n",
              "        buttonEl.style.display =\n",
              "          google.colab.kernel.accessAllowed ? 'block' : 'none';\n",
              "\n",
              "        async function convertToInteractive(key) {\n",
              "          const element = document.querySelector('#df-9b2e2849-c657-4784-acc2-3184070ad1f2');\n",
              "          const dataTable =\n",
              "            await google.colab.kernel.invokeFunction('convertToInteractive',\n",
              "                                                     [key], {});\n",
              "          if (!dataTable) return;\n",
              "\n",
              "          const docLinkHtml = 'Like what you see? Visit the ' +\n",
              "            '<a target=\"_blank\" href=https://colab.research.google.com/notebooks/data_table.ipynb>data table notebook</a>'\n",
              "            + ' to learn more about interactive tables.';\n",
              "          element.innerHTML = '';\n",
              "          dataTable['output_type'] = 'display_data';\n",
              "          await google.colab.output.renderOutput(dataTable, element);\n",
              "          const docLink = document.createElement('div');\n",
              "          docLink.innerHTML = docLinkHtml;\n",
              "          element.appendChild(docLink);\n",
              "        }\n",
              "      </script>\n",
              "    </div>\n",
              "  </div>\n",
              "  "
            ]
          },
          "metadata": {},
          "execution_count": 9
        }
      ],
      "source": [
        "# Apply a filter to display missing rows from the data\n",
        "df_filtered_nan.head(10)"
      ]
    },
    {
      "cell_type": "markdown",
      "metadata": {
        "id": "F-QxANJxf9Ok"
      },
      "source": [
        "Missing values appear symmetrical from the displayed table."
      ]
    },
    {
      "cell_type": "code",
      "execution_count": null,
      "metadata": {
        "id": "D5Z16Y6Xf9Ok",
        "scrolled": true,
        "colab": {
          "base_uri": "https://localhost:8080/"
        },
        "outputId": "fbefadb9-980b-44f6-f3d2-60fe0fac7f14"
      },
      "outputs": [
        {
          "output_type": "stream",
          "name": "stdout",
          "text": [
            "employee         1105\n",
            "business          508\n",
            "retiree           413\n",
            "civil servant     147\n",
            "entrepreneur        1\n",
            "Name: income_type, dtype: int64\n",
            "\n"
          ]
        },
        {
          "output_type": "execute_result",
          "data": {
            "text/plain": [
              "business                        9.990167\n",
              "civil servant                  10.075394\n",
              "employee                        9.937944\n",
              "entrepreneur                   50.000000\n",
              "paternity / maternity leave          NaN\n",
              "retiree                        10.710581\n",
              "student                              NaN\n",
              "unemployed                           NaN\n",
              "Name: income_type, dtype: float64"
            ]
          },
          "metadata": {},
          "execution_count": 10
        }
      ],
      "source": [
        "# Checking distribution\n",
        "print(df_filtered_nan['income_type'].value_counts())\n",
        "print()\n",
        "df_filtered_nan['income_type'].value_counts() / df['income_type'].value_counts() * 100"
      ]
    },
    {
      "cell_type": "markdown",
      "metadata": {
        "id": "NA-CXTzaf9Ol"
      },
      "source": [
        "There is quite a pattern here, but there are indeed several categories whose values cannot be said to be valid for calculations considering that there are only a few '1 - 2' data, such as the 'unemployed, paternity/maternity leave, student,' and 'entrepreneur' categories. Overall the missing data is distributed by `10%` in each category."
      ]
    },
    {
      "cell_type": "markdown",
      "metadata": {
        "id": "RlYuagg7f9Om"
      },
      "source": [
        "**Possible causes of missing values in data**\n",
        "\n",
        "The cause of the lost value cannot be determined yet. We must consider other possibilities for the cause of the lost value, whether the value has certain characteristics such as from married clients, number of children, or clients who have outstanding credit payments."
      ]
    },
    {
      "cell_type": "code",
      "execution_count": null,
      "metadata": {
        "id": "VSX1T5Hbf9Om",
        "colab": {
          "base_uri": "https://localhost:8080/"
        },
        "outputId": "fa1a1d77-dc87-4b99-a755-80b72baaac51"
      },
      "outputs": [
        {
          "output_type": "execute_result",
          "data": {
            "text/plain": [
              "children             0.000000\n",
              "days_employed       10.099884\n",
              "dob_years            0.000000\n",
              "education            0.000000\n",
              "education_id         0.000000\n",
              "family_status        0.000000\n",
              "family_status_id     0.000000\n",
              "gender               0.000000\n",
              "income_type          0.000000\n",
              "debt                 0.000000\n",
              "total_income        10.099884\n",
              "purpose              0.000000\n",
              "dtype: float64"
            ]
          },
          "metadata": {},
          "execution_count": 11
        }
      ],
      "source": [
        "# Checking the distribution across datasets\n",
        "df.isna().sum() / df.shape[0] * 100"
      ]
    },
    {
      "cell_type": "markdown",
      "metadata": {
        "id": "nf3I8irFf9On"
      },
      "source": [
        "**Tentative conclusions**\n",
        "\n",
        "The number of missing values in a dataset is similar to a filtered table.\n",
        "And the amount of missing data in the `days_employed` column is the same as in `total_income`, which means that the error only occurs in those two columns.\n",
        "\n",
        "This raises the question of whether the missing values form a pattern or occur randomly?\n",
        "To answer this question, let's do further analysis."
      ]
    },
    {
      "cell_type": "code",
      "execution_count": null,
      "metadata": {
        "id": "sGKPD4knf9On",
        "colab": {
          "base_uri": "https://localhost:8080/"
        },
        "outputId": "93afdcd5-5990-4397-b9e6-e7639fd00a88"
      },
      "outputs": [
        {
          "output_type": "stream",
          "name": "stdout",
          "text": [
            "married              1237\n",
            "civil partnership     442\n",
            "unmarried             288\n",
            "divorced              112\n",
            "widow / widower        95\n",
            "Name: family_status, dtype: int64\n",
            "\n"
          ]
        },
        {
          "output_type": "execute_result",
          "data": {
            "text/plain": [
              "married               9.991922\n",
              "civil partnership    10.581757\n",
              "unmarried            10.238180\n",
              "divorced              9.372385\n",
              "widow / widower       9.895833\n",
              "Name: family_status, dtype: float64"
            ]
          },
          "metadata": {},
          "execution_count": 12
        }
      ],
      "source": [
        "# Check if there are other patterns that cause missing data from the 'family_status' column\n",
        "print(df_filtered_nan['family_status'].value_counts())\n",
        "print()\n",
        "df_filtered_nan['family_status'].value_counts() / df['family_status'].value_counts() * 100"
      ]
    },
    {
      "cell_type": "markdown",
      "metadata": {
        "id": "Fh1zwaief9Oo"
      },
      "source": [
        "**Intermediate conclusion**\n",
        "\n",
        "Interestingly, the missing values are evenly distributed across the categories in the `family_status` column, around `10%`. But it is also known that no special categories result in lost data caused by just one category."
      ]
    },
    {
      "cell_type": "code",
      "execution_count": null,
      "metadata": {
        "id": "X77ojPkgf9Oo",
        "scrolled": false,
        "colab": {
          "base_uri": "https://localhost:8080/"
        },
        "outputId": "407dee6b-095f-45db-e615-b148527b2cfb"
      },
      "outputs": [
        {
          "output_type": "stream",
          "name": "stdout",
          "text": [
            "F    1484\n",
            "M     690\n",
            "Name: gender, dtype: int64\n",
            "\n"
          ]
        },
        {
          "output_type": "execute_result",
          "data": {
            "text/plain": [
              "F      10.424276\n",
              "M       9.467618\n",
              "XNA          NaN\n",
              "Name: gender, dtype: float64"
            ]
          },
          "metadata": {},
          "execution_count": 13
        }
      ],
      "source": [
        "# Search for relationship 'gender' and missing value\n",
        "print(df_filtered_nan['gender'].value_counts())\n",
        "print()\n",
        "df_filtered_nan['gender'].value_counts() / df['gender'].value_counts() * 100"
      ]
    },
    {
      "cell_type": "markdown",
      "metadata": {
        "id": "0HQ8e_f9f9Oo"
      },
      "source": [
        "In the gender category, the missing data is distributed respectively by `9%` and `10%`, meaning that the missing data is not only found in one category."
      ]
    },
    {
      "cell_type": "code",
      "execution_count": null,
      "metadata": {
        "id": "-h-7n__1f9Op",
        "colab": {
          "base_uri": "https://localhost:8080/",
          "height": 475
        },
        "outputId": "7c7ec1f3-5bfa-4d6c-e600-c6bc53d2461c"
      },
      "outputs": [
        {
          "output_type": "execute_result",
          "data": {
            "text/plain": [
              "       children  days_employed  dob_years            education  education_id  \\\n",
              "3133          1  337524.466835         31  secondary education             1   \n",
              "5936          0            NaN         58    bachelor's degree             0   \n",
              "9410          0    -578.751554         22    bachelor's degree             0   \n",
              "14798         0  395302.838654         45    Bachelor's Degree             0   \n",
              "18697         0    -520.848083         27    bachelor's degree             0   \n",
              "20845         2   -3296.759962         39  SECONDARY EDUCATION             1   \n",
              "\n",
              "           family_status  family_status_id gender  \\\n",
              "3133             married                 0      M   \n",
              "5936             married                 0      M   \n",
              "9410           unmarried                 4      M   \n",
              "14798  civil partnership                 1      F   \n",
              "18697  civil partnership                 1      F   \n",
              "20845            married                 0      F   \n",
              "\n",
              "                       income_type  debt  total_income  \\\n",
              "3133                    unemployed     1      9593.119   \n",
              "5936                  entrepreneur     0           NaN   \n",
              "9410                       student     0     15712.260   \n",
              "14798                   unemployed     0     32435.602   \n",
              "18697                 entrepreneur     0     79866.103   \n",
              "20845  paternity / maternity leave     1      8612.661   \n",
              "\n",
              "                               purpose  \n",
              "3133   buying property for renting out  \n",
              "5936       buy residential real estate  \n",
              "9410      construction of own property  \n",
              "14798               housing renovation  \n",
              "18697                 having a wedding  \n",
              "20845                              car  "
            ],
            "text/html": [
              "\n",
              "  <div id=\"df-bfe7fbeb-c582-4081-8d19-04d871f4df4a\">\n",
              "    <div class=\"colab-df-container\">\n",
              "      <div>\n",
              "<style scoped>\n",
              "    .dataframe tbody tr th:only-of-type {\n",
              "        vertical-align: middle;\n",
              "    }\n",
              "\n",
              "    .dataframe tbody tr th {\n",
              "        vertical-align: top;\n",
              "    }\n",
              "\n",
              "    .dataframe thead th {\n",
              "        text-align: right;\n",
              "    }\n",
              "</style>\n",
              "<table border=\"1\" class=\"dataframe\">\n",
              "  <thead>\n",
              "    <tr style=\"text-align: right;\">\n",
              "      <th></th>\n",
              "      <th>children</th>\n",
              "      <th>days_employed</th>\n",
              "      <th>dob_years</th>\n",
              "      <th>education</th>\n",
              "      <th>education_id</th>\n",
              "      <th>family_status</th>\n",
              "      <th>family_status_id</th>\n",
              "      <th>gender</th>\n",
              "      <th>income_type</th>\n",
              "      <th>debt</th>\n",
              "      <th>total_income</th>\n",
              "      <th>purpose</th>\n",
              "    </tr>\n",
              "  </thead>\n",
              "  <tbody>\n",
              "    <tr>\n",
              "      <th>3133</th>\n",
              "      <td>1</td>\n",
              "      <td>337524.466835</td>\n",
              "      <td>31</td>\n",
              "      <td>secondary education</td>\n",
              "      <td>1</td>\n",
              "      <td>married</td>\n",
              "      <td>0</td>\n",
              "      <td>M</td>\n",
              "      <td>unemployed</td>\n",
              "      <td>1</td>\n",
              "      <td>9593.119</td>\n",
              "      <td>buying property for renting out</td>\n",
              "    </tr>\n",
              "    <tr>\n",
              "      <th>5936</th>\n",
              "      <td>0</td>\n",
              "      <td>NaN</td>\n",
              "      <td>58</td>\n",
              "      <td>bachelor's degree</td>\n",
              "      <td>0</td>\n",
              "      <td>married</td>\n",
              "      <td>0</td>\n",
              "      <td>M</td>\n",
              "      <td>entrepreneur</td>\n",
              "      <td>0</td>\n",
              "      <td>NaN</td>\n",
              "      <td>buy residential real estate</td>\n",
              "    </tr>\n",
              "    <tr>\n",
              "      <th>9410</th>\n",
              "      <td>0</td>\n",
              "      <td>-578.751554</td>\n",
              "      <td>22</td>\n",
              "      <td>bachelor's degree</td>\n",
              "      <td>0</td>\n",
              "      <td>unmarried</td>\n",
              "      <td>4</td>\n",
              "      <td>M</td>\n",
              "      <td>student</td>\n",
              "      <td>0</td>\n",
              "      <td>15712.260</td>\n",
              "      <td>construction of own property</td>\n",
              "    </tr>\n",
              "    <tr>\n",
              "      <th>14798</th>\n",
              "      <td>0</td>\n",
              "      <td>395302.838654</td>\n",
              "      <td>45</td>\n",
              "      <td>Bachelor's Degree</td>\n",
              "      <td>0</td>\n",
              "      <td>civil partnership</td>\n",
              "      <td>1</td>\n",
              "      <td>F</td>\n",
              "      <td>unemployed</td>\n",
              "      <td>0</td>\n",
              "      <td>32435.602</td>\n",
              "      <td>housing renovation</td>\n",
              "    </tr>\n",
              "    <tr>\n",
              "      <th>18697</th>\n",
              "      <td>0</td>\n",
              "      <td>-520.848083</td>\n",
              "      <td>27</td>\n",
              "      <td>bachelor's degree</td>\n",
              "      <td>0</td>\n",
              "      <td>civil partnership</td>\n",
              "      <td>1</td>\n",
              "      <td>F</td>\n",
              "      <td>entrepreneur</td>\n",
              "      <td>0</td>\n",
              "      <td>79866.103</td>\n",
              "      <td>having a wedding</td>\n",
              "    </tr>\n",
              "    <tr>\n",
              "      <th>20845</th>\n",
              "      <td>2</td>\n",
              "      <td>-3296.759962</td>\n",
              "      <td>39</td>\n",
              "      <td>SECONDARY EDUCATION</td>\n",
              "      <td>1</td>\n",
              "      <td>married</td>\n",
              "      <td>0</td>\n",
              "      <td>F</td>\n",
              "      <td>paternity / maternity leave</td>\n",
              "      <td>1</td>\n",
              "      <td>8612.661</td>\n",
              "      <td>car</td>\n",
              "    </tr>\n",
              "  </tbody>\n",
              "</table>\n",
              "</div>\n",
              "      <button class=\"colab-df-convert\" onclick=\"convertToInteractive('df-bfe7fbeb-c582-4081-8d19-04d871f4df4a')\"\n",
              "              title=\"Convert this dataframe to an interactive table.\"\n",
              "              style=\"display:none;\">\n",
              "        \n",
              "  <svg xmlns=\"http://www.w3.org/2000/svg\" height=\"24px\"viewBox=\"0 0 24 24\"\n",
              "       width=\"24px\">\n",
              "    <path d=\"M0 0h24v24H0V0z\" fill=\"none\"/>\n",
              "    <path d=\"M18.56 5.44l.94 2.06.94-2.06 2.06-.94-2.06-.94-.94-2.06-.94 2.06-2.06.94zm-11 1L8.5 8.5l.94-2.06 2.06-.94-2.06-.94L8.5 2.5l-.94 2.06-2.06.94zm10 10l.94 2.06.94-2.06 2.06-.94-2.06-.94-.94-2.06-.94 2.06-2.06.94z\"/><path d=\"M17.41 7.96l-1.37-1.37c-.4-.4-.92-.59-1.43-.59-.52 0-1.04.2-1.43.59L10.3 9.45l-7.72 7.72c-.78.78-.78 2.05 0 2.83L4 21.41c.39.39.9.59 1.41.59.51 0 1.02-.2 1.41-.59l7.78-7.78 2.81-2.81c.8-.78.8-2.07 0-2.86zM5.41 20L4 18.59l7.72-7.72 1.47 1.35L5.41 20z\"/>\n",
              "  </svg>\n",
              "      </button>\n",
              "      \n",
              "  <style>\n",
              "    .colab-df-container {\n",
              "      display:flex;\n",
              "      flex-wrap:wrap;\n",
              "      gap: 12px;\n",
              "    }\n",
              "\n",
              "    .colab-df-convert {\n",
              "      background-color: #E8F0FE;\n",
              "      border: none;\n",
              "      border-radius: 50%;\n",
              "      cursor: pointer;\n",
              "      display: none;\n",
              "      fill: #1967D2;\n",
              "      height: 32px;\n",
              "      padding: 0 0 0 0;\n",
              "      width: 32px;\n",
              "    }\n",
              "\n",
              "    .colab-df-convert:hover {\n",
              "      background-color: #E2EBFA;\n",
              "      box-shadow: 0px 1px 2px rgba(60, 64, 67, 0.3), 0px 1px 3px 1px rgba(60, 64, 67, 0.15);\n",
              "      fill: #174EA6;\n",
              "    }\n",
              "\n",
              "    [theme=dark] .colab-df-convert {\n",
              "      background-color: #3B4455;\n",
              "      fill: #D2E3FC;\n",
              "    }\n",
              "\n",
              "    [theme=dark] .colab-df-convert:hover {\n",
              "      background-color: #434B5C;\n",
              "      box-shadow: 0px 1px 3px 1px rgba(0, 0, 0, 0.15);\n",
              "      filter: drop-shadow(0px 1px 2px rgba(0, 0, 0, 0.3));\n",
              "      fill: #FFFFFF;\n",
              "    }\n",
              "  </style>\n",
              "\n",
              "      <script>\n",
              "        const buttonEl =\n",
              "          document.querySelector('#df-bfe7fbeb-c582-4081-8d19-04d871f4df4a button.colab-df-convert');\n",
              "        buttonEl.style.display =\n",
              "          google.colab.kernel.accessAllowed ? 'block' : 'none';\n",
              "\n",
              "        async function convertToInteractive(key) {\n",
              "          const element = document.querySelector('#df-bfe7fbeb-c582-4081-8d19-04d871f4df4a');\n",
              "          const dataTable =\n",
              "            await google.colab.kernel.invokeFunction('convertToInteractive',\n",
              "                                                     [key], {});\n",
              "          if (!dataTable) return;\n",
              "\n",
              "          const docLinkHtml = 'Like what you see? Visit the ' +\n",
              "            '<a target=\"_blank\" href=https://colab.research.google.com/notebooks/data_table.ipynb>data table notebook</a>'\n",
              "            + ' to learn more about interactive tables.';\n",
              "          element.innerHTML = '';\n",
              "          dataTable['output_type'] = 'display_data';\n",
              "          await google.colab.output.renderOutput(dataTable, element);\n",
              "          const docLink = document.createElement('div');\n",
              "          docLink.innerHTML = docLinkHtml;\n",
              "          element.appendChild(docLink);\n",
              "        }\n",
              "      </script>\n",
              "    </div>\n",
              "  </div>\n",
              "  "
            ]
          },
          "metadata": {},
          "execution_count": 14
        }
      ],
      "source": [
        "# Checking income from some jobs that may not have 'income'\n",
        "df[df['income_type'].isin(['unemployed', 'paternity / maternity leave', 'student', 'entrepreneur'])]"
      ]
    },
    {
      "cell_type": "markdown",
      "metadata": {
        "id": "VnRjmr5xf9Op"
      },
      "source": [
        "From the table above, we can get information that lost value is only sometimes caused by jobs that usually don't have income. There are several reasons they get income even though they don't have a regular job. As in line `3133`, a client who is `unemployed` but applies for a loan to buy a property for rent, although it is not yet known where the income comes from, Client `9410` is a `student` whether he is a part-time worker or has *rich parents*. Still, it is quite strange considering its use is not to continue education but to build property. Apart from that, several countries also have regulations that `paternity/maternity leave` still getting paid."
      ]
    },
    {
      "cell_type": "markdown",
      "metadata": {
        "id": "6CmNF6gtf9Oq"
      },
      "source": [
        "**Conclusion**\n",
        "\n",
        "The conclusion we can draw regarding the causes of missing data is *human error* because missing data occurs in certain categories and several categories.\n",
        "\n",
        "From some of the tests I have done, I found that from the `family_status` and `income_type` columns I found that each category in each of these columns has almost the same missing value in each category which is around `10%` meaning the missing values are distributed evenly in each category, and the values are symmetrical with the test we did earlier by finding the distribution of missing values across the dataset which results in a number also equal to `10%`.\n",
        "\n",
        "For some problems like:\n",
        "1. For the missing values, I will create categories based on age to find the average `days_employed` and `total_income`, which will be used to fill in the missing values.\n",
        "2. To address the different registers in the `education` column, I will change all letters to `lower`.\n",
        "3. We can do a `drop` for duplicate values."
      ]
    },
    {
      "cell_type": "markdown",
      "metadata": {
        "id": "-JRdn7BTf9Oq"
      },
      "source": [
        "### 2.2. Data Transformation"
      ]
    },
    {
      "cell_type": "markdown",
      "metadata": {
        "id": "0UDtw2NMf9Or"
      },
      "source": [
        "#### 2.2.1. Checking the `education` Column"
      ]
    },
    {
      "cell_type": "code",
      "execution_count": null,
      "metadata": {
        "id": "z4OQgtBrf9Or",
        "colab": {
          "base_uri": "https://localhost:8080/",
          "height": 551
        },
        "outputId": "b94afa75-7d0d-4541-b4df-cee0cf887da0"
      },
      "outputs": [
        {
          "output_type": "execute_result",
          "data": {
            "text/plain": [
              "                     days_employed\n",
              "education                         \n",
              "BACHELOR'S DEGREE              251\n",
              "Bachelor's Degree              243\n",
              "GRADUATE DEGREE                  1\n",
              "Graduate Degree                  1\n",
              "PRIMARY EDUCATION               16\n",
              "Primary Education               14\n",
              "SECONDARY EDUCATION            705\n",
              "SOME COLLEGE                    22\n",
              "Secondary Education            646\n",
              "Some College                    40\n",
              "bachelor's degree             4222\n",
              "graduate degree                  4\n",
              "primary education              231\n",
              "secondary education          12342\n",
              "some college                   613"
            ],
            "text/html": [
              "\n",
              "  <div id=\"df-254d42ea-e09c-4e8c-b2af-f972e8a61571\">\n",
              "    <div class=\"colab-df-container\">\n",
              "      <div>\n",
              "<style scoped>\n",
              "    .dataframe tbody tr th:only-of-type {\n",
              "        vertical-align: middle;\n",
              "    }\n",
              "\n",
              "    .dataframe tbody tr th {\n",
              "        vertical-align: top;\n",
              "    }\n",
              "\n",
              "    .dataframe thead th {\n",
              "        text-align: right;\n",
              "    }\n",
              "</style>\n",
              "<table border=\"1\" class=\"dataframe\">\n",
              "  <thead>\n",
              "    <tr style=\"text-align: right;\">\n",
              "      <th></th>\n",
              "      <th>days_employed</th>\n",
              "    </tr>\n",
              "    <tr>\n",
              "      <th>education</th>\n",
              "      <th></th>\n",
              "    </tr>\n",
              "  </thead>\n",
              "  <tbody>\n",
              "    <tr>\n",
              "      <th>BACHELOR'S DEGREE</th>\n",
              "      <td>251</td>\n",
              "    </tr>\n",
              "    <tr>\n",
              "      <th>Bachelor's Degree</th>\n",
              "      <td>243</td>\n",
              "    </tr>\n",
              "    <tr>\n",
              "      <th>GRADUATE DEGREE</th>\n",
              "      <td>1</td>\n",
              "    </tr>\n",
              "    <tr>\n",
              "      <th>Graduate Degree</th>\n",
              "      <td>1</td>\n",
              "    </tr>\n",
              "    <tr>\n",
              "      <th>PRIMARY EDUCATION</th>\n",
              "      <td>16</td>\n",
              "    </tr>\n",
              "    <tr>\n",
              "      <th>Primary Education</th>\n",
              "      <td>14</td>\n",
              "    </tr>\n",
              "    <tr>\n",
              "      <th>SECONDARY EDUCATION</th>\n",
              "      <td>705</td>\n",
              "    </tr>\n",
              "    <tr>\n",
              "      <th>SOME COLLEGE</th>\n",
              "      <td>22</td>\n",
              "    </tr>\n",
              "    <tr>\n",
              "      <th>Secondary Education</th>\n",
              "      <td>646</td>\n",
              "    </tr>\n",
              "    <tr>\n",
              "      <th>Some College</th>\n",
              "      <td>40</td>\n",
              "    </tr>\n",
              "    <tr>\n",
              "      <th>bachelor's degree</th>\n",
              "      <td>4222</td>\n",
              "    </tr>\n",
              "    <tr>\n",
              "      <th>graduate degree</th>\n",
              "      <td>4</td>\n",
              "    </tr>\n",
              "    <tr>\n",
              "      <th>primary education</th>\n",
              "      <td>231</td>\n",
              "    </tr>\n",
              "    <tr>\n",
              "      <th>secondary education</th>\n",
              "      <td>12342</td>\n",
              "    </tr>\n",
              "    <tr>\n",
              "      <th>some college</th>\n",
              "      <td>613</td>\n",
              "    </tr>\n",
              "  </tbody>\n",
              "</table>\n",
              "</div>\n",
              "      <button class=\"colab-df-convert\" onclick=\"convertToInteractive('df-254d42ea-e09c-4e8c-b2af-f972e8a61571')\"\n",
              "              title=\"Convert this dataframe to an interactive table.\"\n",
              "              style=\"display:none;\">\n",
              "        \n",
              "  <svg xmlns=\"http://www.w3.org/2000/svg\" height=\"24px\"viewBox=\"0 0 24 24\"\n",
              "       width=\"24px\">\n",
              "    <path d=\"M0 0h24v24H0V0z\" fill=\"none\"/>\n",
              "    <path d=\"M18.56 5.44l.94 2.06.94-2.06 2.06-.94-2.06-.94-.94-2.06-.94 2.06-2.06.94zm-11 1L8.5 8.5l.94-2.06 2.06-.94-2.06-.94L8.5 2.5l-.94 2.06-2.06.94zm10 10l.94 2.06.94-2.06 2.06-.94-2.06-.94-.94-2.06-.94 2.06-2.06.94z\"/><path d=\"M17.41 7.96l-1.37-1.37c-.4-.4-.92-.59-1.43-.59-.52 0-1.04.2-1.43.59L10.3 9.45l-7.72 7.72c-.78.78-.78 2.05 0 2.83L4 21.41c.39.39.9.59 1.41.59.51 0 1.02-.2 1.41-.59l7.78-7.78 2.81-2.81c.8-.78.8-2.07 0-2.86zM5.41 20L4 18.59l7.72-7.72 1.47 1.35L5.41 20z\"/>\n",
              "  </svg>\n",
              "      </button>\n",
              "      \n",
              "  <style>\n",
              "    .colab-df-container {\n",
              "      display:flex;\n",
              "      flex-wrap:wrap;\n",
              "      gap: 12px;\n",
              "    }\n",
              "\n",
              "    .colab-df-convert {\n",
              "      background-color: #E8F0FE;\n",
              "      border: none;\n",
              "      border-radius: 50%;\n",
              "      cursor: pointer;\n",
              "      display: none;\n",
              "      fill: #1967D2;\n",
              "      height: 32px;\n",
              "      padding: 0 0 0 0;\n",
              "      width: 32px;\n",
              "    }\n",
              "\n",
              "    .colab-df-convert:hover {\n",
              "      background-color: #E2EBFA;\n",
              "      box-shadow: 0px 1px 2px rgba(60, 64, 67, 0.3), 0px 1px 3px 1px rgba(60, 64, 67, 0.15);\n",
              "      fill: #174EA6;\n",
              "    }\n",
              "\n",
              "    [theme=dark] .colab-df-convert {\n",
              "      background-color: #3B4455;\n",
              "      fill: #D2E3FC;\n",
              "    }\n",
              "\n",
              "    [theme=dark] .colab-df-convert:hover {\n",
              "      background-color: #434B5C;\n",
              "      box-shadow: 0px 1px 3px 1px rgba(0, 0, 0, 0.15);\n",
              "      filter: drop-shadow(0px 1px 2px rgba(0, 0, 0, 0.3));\n",
              "      fill: #FFFFFF;\n",
              "    }\n",
              "  </style>\n",
              "\n",
              "      <script>\n",
              "        const buttonEl =\n",
              "          document.querySelector('#df-254d42ea-e09c-4e8c-b2af-f972e8a61571 button.colab-df-convert');\n",
              "        buttonEl.style.display =\n",
              "          google.colab.kernel.accessAllowed ? 'block' : 'none';\n",
              "\n",
              "        async function convertToInteractive(key) {\n",
              "          const element = document.querySelector('#df-254d42ea-e09c-4e8c-b2af-f972e8a61571');\n",
              "          const dataTable =\n",
              "            await google.colab.kernel.invokeFunction('convertToInteractive',\n",
              "                                                     [key], {});\n",
              "          if (!dataTable) return;\n",
              "\n",
              "          const docLinkHtml = 'Like what you see? Visit the ' +\n",
              "            '<a target=\"_blank\" href=https://colab.research.google.com/notebooks/data_table.ipynb>data table notebook</a>'\n",
              "            + ' to learn more about interactive tables.';\n",
              "          element.innerHTML = '';\n",
              "          dataTable['output_type'] = 'display_data';\n",
              "          await google.colab.output.renderOutput(dataTable, element);\n",
              "          const docLink = document.createElement('div');\n",
              "          docLink.innerHTML = docLinkHtml;\n",
              "          element.appendChild(docLink);\n",
              "        }\n",
              "      </script>\n",
              "    </div>\n",
              "  </div>\n",
              "  "
            ]
          },
          "metadata": {},
          "execution_count": 15
        }
      ],
      "source": [
        "# Checking the spelling in the 'education' column which indicates that there are differences in writing with the same meaning\n",
        "df_education_value = df.pivot_table(index='education', values='days_employed', aggfunc= 'count')\n",
        "df_education_value"
      ]
    },
    {
      "cell_type": "code",
      "execution_count": null,
      "metadata": {
        "id": "hBpGalv-f9Or",
        "colab": {
          "base_uri": "https://localhost:8080/"
        },
        "outputId": "87c27c6f-34fd-46bd-cb18-d416313978e3"
      },
      "outputs": [
        {
          "output_type": "execute_result",
          "data": {
            "text/plain": [
              "54"
            ]
          },
          "metadata": {},
          "execution_count": 16
        }
      ],
      "source": [
        "# Then we will check for duplicate values before we deal with irregular registers\n",
        "df.duplicated().sum()"
      ]
    },
    {
      "cell_type": "code",
      "execution_count": null,
      "metadata": {
        "id": "z7TzjrPVf9Os",
        "scrolled": true
      },
      "outputs": [],
      "source": [
        "# Improve writing\n",
        "df['education'] = df['education'].str.lower()"
      ]
    },
    {
      "cell_type": "code",
      "execution_count": null,
      "metadata": {
        "id": "FK2Ab8bqf9Os",
        "colab": {
          "base_uri": "https://localhost:8080/"
        },
        "outputId": "9219933e-c027-4c21-ef6d-d08813d44c5d"
      },
      "outputs": [
        {
          "output_type": "execute_result",
          "data": {
            "text/plain": [
              "71"
            ]
          },
          "metadata": {},
          "execution_count": 18
        }
      ],
      "source": [
        "# Rechecking the duplicate value after repair\n",
        "df.duplicated().sum()"
      ]
    },
    {
      "cell_type": "markdown",
      "metadata": {
        "id": "4SNJpMm3f9Ot"
      },
      "source": [
        "The duplicate values increase from `54` rows to `71` rows, meaning that there are rows with the same value in the data with different `education` inputs."
      ]
    },
    {
      "cell_type": "code",
      "execution_count": null,
      "metadata": {
        "id": "rYw6aVABf9Ot",
        "scrolled": true,
        "colab": {
          "base_uri": "https://localhost:8080/",
          "height": 238
        },
        "outputId": "090b4a92-9969-4a41-a7ed-a6f050f99363"
      },
      "outputs": [
        {
          "output_type": "execute_result",
          "data": {
            "text/plain": [
              "                     days_employed\n",
              "education                         \n",
              "bachelor's degree             4716\n",
              "graduate degree                  6\n",
              "primary education              261\n",
              "secondary education          13693\n",
              "some college                   675"
            ],
            "text/html": [
              "\n",
              "  <div id=\"df-8d5d5083-4530-4b4a-b21a-3693e7ce321d\">\n",
              "    <div class=\"colab-df-container\">\n",
              "      <div>\n",
              "<style scoped>\n",
              "    .dataframe tbody tr th:only-of-type {\n",
              "        vertical-align: middle;\n",
              "    }\n",
              "\n",
              "    .dataframe tbody tr th {\n",
              "        vertical-align: top;\n",
              "    }\n",
              "\n",
              "    .dataframe thead th {\n",
              "        text-align: right;\n",
              "    }\n",
              "</style>\n",
              "<table border=\"1\" class=\"dataframe\">\n",
              "  <thead>\n",
              "    <tr style=\"text-align: right;\">\n",
              "      <th></th>\n",
              "      <th>days_employed</th>\n",
              "    </tr>\n",
              "    <tr>\n",
              "      <th>education</th>\n",
              "      <th></th>\n",
              "    </tr>\n",
              "  </thead>\n",
              "  <tbody>\n",
              "    <tr>\n",
              "      <th>bachelor's degree</th>\n",
              "      <td>4716</td>\n",
              "    </tr>\n",
              "    <tr>\n",
              "      <th>graduate degree</th>\n",
              "      <td>6</td>\n",
              "    </tr>\n",
              "    <tr>\n",
              "      <th>primary education</th>\n",
              "      <td>261</td>\n",
              "    </tr>\n",
              "    <tr>\n",
              "      <th>secondary education</th>\n",
              "      <td>13693</td>\n",
              "    </tr>\n",
              "    <tr>\n",
              "      <th>some college</th>\n",
              "      <td>675</td>\n",
              "    </tr>\n",
              "  </tbody>\n",
              "</table>\n",
              "</div>\n",
              "      <button class=\"colab-df-convert\" onclick=\"convertToInteractive('df-8d5d5083-4530-4b4a-b21a-3693e7ce321d')\"\n",
              "              title=\"Convert this dataframe to an interactive table.\"\n",
              "              style=\"display:none;\">\n",
              "        \n",
              "  <svg xmlns=\"http://www.w3.org/2000/svg\" height=\"24px\"viewBox=\"0 0 24 24\"\n",
              "       width=\"24px\">\n",
              "    <path d=\"M0 0h24v24H0V0z\" fill=\"none\"/>\n",
              "    <path d=\"M18.56 5.44l.94 2.06.94-2.06 2.06-.94-2.06-.94-.94-2.06-.94 2.06-2.06.94zm-11 1L8.5 8.5l.94-2.06 2.06-.94-2.06-.94L8.5 2.5l-.94 2.06-2.06.94zm10 10l.94 2.06.94-2.06 2.06-.94-2.06-.94-.94-2.06-.94 2.06-2.06.94z\"/><path d=\"M17.41 7.96l-1.37-1.37c-.4-.4-.92-.59-1.43-.59-.52 0-1.04.2-1.43.59L10.3 9.45l-7.72 7.72c-.78.78-.78 2.05 0 2.83L4 21.41c.39.39.9.59 1.41.59.51 0 1.02-.2 1.41-.59l7.78-7.78 2.81-2.81c.8-.78.8-2.07 0-2.86zM5.41 20L4 18.59l7.72-7.72 1.47 1.35L5.41 20z\"/>\n",
              "  </svg>\n",
              "      </button>\n",
              "      \n",
              "  <style>\n",
              "    .colab-df-container {\n",
              "      display:flex;\n",
              "      flex-wrap:wrap;\n",
              "      gap: 12px;\n",
              "    }\n",
              "\n",
              "    .colab-df-convert {\n",
              "      background-color: #E8F0FE;\n",
              "      border: none;\n",
              "      border-radius: 50%;\n",
              "      cursor: pointer;\n",
              "      display: none;\n",
              "      fill: #1967D2;\n",
              "      height: 32px;\n",
              "      padding: 0 0 0 0;\n",
              "      width: 32px;\n",
              "    }\n",
              "\n",
              "    .colab-df-convert:hover {\n",
              "      background-color: #E2EBFA;\n",
              "      box-shadow: 0px 1px 2px rgba(60, 64, 67, 0.3), 0px 1px 3px 1px rgba(60, 64, 67, 0.15);\n",
              "      fill: #174EA6;\n",
              "    }\n",
              "\n",
              "    [theme=dark] .colab-df-convert {\n",
              "      background-color: #3B4455;\n",
              "      fill: #D2E3FC;\n",
              "    }\n",
              "\n",
              "    [theme=dark] .colab-df-convert:hover {\n",
              "      background-color: #434B5C;\n",
              "      box-shadow: 0px 1px 3px 1px rgba(0, 0, 0, 0.15);\n",
              "      filter: drop-shadow(0px 1px 2px rgba(0, 0, 0, 0.3));\n",
              "      fill: #FFFFFF;\n",
              "    }\n",
              "  </style>\n",
              "\n",
              "      <script>\n",
              "        const buttonEl =\n",
              "          document.querySelector('#df-8d5d5083-4530-4b4a-b21a-3693e7ce321d button.colab-df-convert');\n",
              "        buttonEl.style.display =\n",
              "          google.colab.kernel.accessAllowed ? 'block' : 'none';\n",
              "\n",
              "        async function convertToInteractive(key) {\n",
              "          const element = document.querySelector('#df-8d5d5083-4530-4b4a-b21a-3693e7ce321d');\n",
              "          const dataTable =\n",
              "            await google.colab.kernel.invokeFunction('convertToInteractive',\n",
              "                                                     [key], {});\n",
              "          if (!dataTable) return;\n",
              "\n",
              "          const docLinkHtml = 'Like what you see? Visit the ' +\n",
              "            '<a target=\"_blank\" href=https://colab.research.google.com/notebooks/data_table.ipynb>data table notebook</a>'\n",
              "            + ' to learn more about interactive tables.';\n",
              "          element.innerHTML = '';\n",
              "          dataTable['output_type'] = 'display_data';\n",
              "          await google.colab.output.renderOutput(dataTable, element);\n",
              "          const docLink = document.createElement('div');\n",
              "          docLink.innerHTML = docLinkHtml;\n",
              "          element.appendChild(docLink);\n",
              "        }\n",
              "      </script>\n",
              "    </div>\n",
              "  </div>\n",
              "  "
            ]
          },
          "metadata": {},
          "execution_count": 19
        }
      ],
      "source": [
        "# Check if the writing of the 'education' column has been corrected\n",
        "df_education_value = df.pivot_table(index='education', values='days_employed', aggfunc= 'count')\n",
        "df_education_value"
      ]
    },
    {
      "cell_type": "markdown",
      "metadata": {
        "id": "yjUdJVbaf9Ou"
      },
      "source": [
        "We have fixed the problem with the `education` column. Next, we will examine the `children` column."
      ]
    },
    {
      "cell_type": "markdown",
      "metadata": {
        "id": "O8-NOwI_f9Ou"
      },
      "source": [
        "#### 2.2.2. Checking the `children` Column"
      ]
    },
    {
      "cell_type": "code",
      "execution_count": null,
      "metadata": {
        "id": "uuywgfPUf9Ou",
        "scrolled": true,
        "colab": {
          "base_uri": "https://localhost:8080/",
          "height": 332
        },
        "outputId": "fab59001-4e32-4bd9-d498-9609bb5acbb5"
      },
      "outputs": [
        {
          "output_type": "execute_result",
          "data": {
            "text/plain": [
              "          days_employed\n",
              "children               \n",
              "-1                   44\n",
              " 0                12710\n",
              " 1                 4343\n",
              " 2                 1851\n",
              " 3                  294\n",
              " 4                   34\n",
              " 5                    8\n",
              " 20                  67"
            ],
            "text/html": [
              "\n",
              "  <div id=\"df-4655af15-1061-4ad0-b9d2-1bac810d8d07\">\n",
              "    <div class=\"colab-df-container\">\n",
              "      <div>\n",
              "<style scoped>\n",
              "    .dataframe tbody tr th:only-of-type {\n",
              "        vertical-align: middle;\n",
              "    }\n",
              "\n",
              "    .dataframe tbody tr th {\n",
              "        vertical-align: top;\n",
              "    }\n",
              "\n",
              "    .dataframe thead th {\n",
              "        text-align: right;\n",
              "    }\n",
              "</style>\n",
              "<table border=\"1\" class=\"dataframe\">\n",
              "  <thead>\n",
              "    <tr style=\"text-align: right;\">\n",
              "      <th></th>\n",
              "      <th>days_employed</th>\n",
              "    </tr>\n",
              "    <tr>\n",
              "      <th>children</th>\n",
              "      <th></th>\n",
              "    </tr>\n",
              "  </thead>\n",
              "  <tbody>\n",
              "    <tr>\n",
              "      <th>-1</th>\n",
              "      <td>44</td>\n",
              "    </tr>\n",
              "    <tr>\n",
              "      <th>0</th>\n",
              "      <td>12710</td>\n",
              "    </tr>\n",
              "    <tr>\n",
              "      <th>1</th>\n",
              "      <td>4343</td>\n",
              "    </tr>\n",
              "    <tr>\n",
              "      <th>2</th>\n",
              "      <td>1851</td>\n",
              "    </tr>\n",
              "    <tr>\n",
              "      <th>3</th>\n",
              "      <td>294</td>\n",
              "    </tr>\n",
              "    <tr>\n",
              "      <th>4</th>\n",
              "      <td>34</td>\n",
              "    </tr>\n",
              "    <tr>\n",
              "      <th>5</th>\n",
              "      <td>8</td>\n",
              "    </tr>\n",
              "    <tr>\n",
              "      <th>20</th>\n",
              "      <td>67</td>\n",
              "    </tr>\n",
              "  </tbody>\n",
              "</table>\n",
              "</div>\n",
              "      <button class=\"colab-df-convert\" onclick=\"convertToInteractive('df-4655af15-1061-4ad0-b9d2-1bac810d8d07')\"\n",
              "              title=\"Convert this dataframe to an interactive table.\"\n",
              "              style=\"display:none;\">\n",
              "        \n",
              "  <svg xmlns=\"http://www.w3.org/2000/svg\" height=\"24px\"viewBox=\"0 0 24 24\"\n",
              "       width=\"24px\">\n",
              "    <path d=\"M0 0h24v24H0V0z\" fill=\"none\"/>\n",
              "    <path d=\"M18.56 5.44l.94 2.06.94-2.06 2.06-.94-2.06-.94-.94-2.06-.94 2.06-2.06.94zm-11 1L8.5 8.5l.94-2.06 2.06-.94-2.06-.94L8.5 2.5l-.94 2.06-2.06.94zm10 10l.94 2.06.94-2.06 2.06-.94-2.06-.94-.94-2.06-.94 2.06-2.06.94z\"/><path d=\"M17.41 7.96l-1.37-1.37c-.4-.4-.92-.59-1.43-.59-.52 0-1.04.2-1.43.59L10.3 9.45l-7.72 7.72c-.78.78-.78 2.05 0 2.83L4 21.41c.39.39.9.59 1.41.59.51 0 1.02-.2 1.41-.59l7.78-7.78 2.81-2.81c.8-.78.8-2.07 0-2.86zM5.41 20L4 18.59l7.72-7.72 1.47 1.35L5.41 20z\"/>\n",
              "  </svg>\n",
              "      </button>\n",
              "      \n",
              "  <style>\n",
              "    .colab-df-container {\n",
              "      display:flex;\n",
              "      flex-wrap:wrap;\n",
              "      gap: 12px;\n",
              "    }\n",
              "\n",
              "    .colab-df-convert {\n",
              "      background-color: #E8F0FE;\n",
              "      border: none;\n",
              "      border-radius: 50%;\n",
              "      cursor: pointer;\n",
              "      display: none;\n",
              "      fill: #1967D2;\n",
              "      height: 32px;\n",
              "      padding: 0 0 0 0;\n",
              "      width: 32px;\n",
              "    }\n",
              "\n",
              "    .colab-df-convert:hover {\n",
              "      background-color: #E2EBFA;\n",
              "      box-shadow: 0px 1px 2px rgba(60, 64, 67, 0.3), 0px 1px 3px 1px rgba(60, 64, 67, 0.15);\n",
              "      fill: #174EA6;\n",
              "    }\n",
              "\n",
              "    [theme=dark] .colab-df-convert {\n",
              "      background-color: #3B4455;\n",
              "      fill: #D2E3FC;\n",
              "    }\n",
              "\n",
              "    [theme=dark] .colab-df-convert:hover {\n",
              "      background-color: #434B5C;\n",
              "      box-shadow: 0px 1px 3px 1px rgba(0, 0, 0, 0.15);\n",
              "      filter: drop-shadow(0px 1px 2px rgba(0, 0, 0, 0.3));\n",
              "      fill: #FFFFFF;\n",
              "    }\n",
              "  </style>\n",
              "\n",
              "      <script>\n",
              "        const buttonEl =\n",
              "          document.querySelector('#df-4655af15-1061-4ad0-b9d2-1bac810d8d07 button.colab-df-convert');\n",
              "        buttonEl.style.display =\n",
              "          google.colab.kernel.accessAllowed ? 'block' : 'none';\n",
              "\n",
              "        async function convertToInteractive(key) {\n",
              "          const element = document.querySelector('#df-4655af15-1061-4ad0-b9d2-1bac810d8d07');\n",
              "          const dataTable =\n",
              "            await google.colab.kernel.invokeFunction('convertToInteractive',\n",
              "                                                     [key], {});\n",
              "          if (!dataTable) return;\n",
              "\n",
              "          const docLinkHtml = 'Like what you see? Visit the ' +\n",
              "            '<a target=\"_blank\" href=https://colab.research.google.com/notebooks/data_table.ipynb>data table notebook</a>'\n",
              "            + ' to learn more about interactive tables.';\n",
              "          element.innerHTML = '';\n",
              "          dataTable['output_type'] = 'display_data';\n",
              "          await google.colab.output.renderOutput(dataTable, element);\n",
              "          const docLink = document.createElement('div');\n",
              "          docLink.innerHTML = docLinkHtml;\n",
              "          element.appendChild(docLink);\n",
              "        }\n",
              "      </script>\n",
              "    </div>\n",
              "  </div>\n",
              "  "
            ]
          },
          "metadata": {},
          "execution_count": 20
        }
      ],
      "source": [
        "# Display the distribution of values in the `children` column\n",
        "df_children_value = df.pivot_table(index='children', values='days_employed', aggfunc= 'count')\n",
        "df_children_value"
      ]
    },
    {
      "cell_type": "markdown",
      "metadata": {
        "id": "DlSQZMTzf9Ov"
      },
      "source": [
        "- Some values show the numbers -1 and 20, which are unlikely to occur in the age group.\n",
        "- We assume the problematic value occurs due to an input/typo error.\n",
        "- We will replace the value -1 to 1 and 20 to 2."
      ]
    },
    {
      "cell_type": "code",
      "execution_count": null,
      "metadata": {
        "id": "BJy2d0BBf9Ov",
        "colab": {
          "base_uri": "https://localhost:8080/"
        },
        "outputId": "3e3f3fab-d3e6-4729-f674-887f4a7c6abd"
      },
      "outputs": [
        {
          "output_type": "stream",
          "name": "stdout",
          "text": [
            "Total unfair value: 123\n",
            "The percentage of problematic data is: 0.57%\n"
          ]
        }
      ],
      "source": [
        "# Checking the number and percentage of problematic data in the 'children' column\n",
        "df_child_problem_value = (df['children'] == -1).sum() + (df['children'] == 20).sum()\n",
        "print('Total unfair value:', df_child_problem_value)\n",
        "df_child_prob_percent = df_child_problem_value / df.shape[0]\n",
        "print(f'The percentage of problematic data is: {df_child_prob_percent:.2%}')"
      ]
    },
    {
      "cell_type": "markdown",
      "metadata": {
        "id": "-99xEY1Gf9Ow"
      },
      "source": [
        "Data with unreasonable values are not up to `1%` in our dataset, even so, we better fix it instead of *dropping* on that data."
      ]
    },
    {
      "cell_type": "code",
      "execution_count": null,
      "metadata": {
        "id": "Mr8zD0lBf9Ow",
        "colab": {
          "base_uri": "https://localhost:8080/"
        },
        "outputId": "5c4aa646-1387-4f55-9214-53d9dd8ecb42"
      },
      "outputs": [
        {
          "output_type": "execute_result",
          "data": {
            "text/plain": [
              "71"
            ]
          },
          "metadata": {},
          "execution_count": 22
        }
      ],
      "source": [
        "# Fixing problematic values\n",
        "df.loc[df['children'] == -1, 'children'] = 1 \n",
        "df.loc[df['children'] == 20, 'children'] = 2 \n",
        "df.duplicated().sum()"
      ]
    },
    {
      "cell_type": "code",
      "execution_count": null,
      "metadata": {
        "id": "bapVqNj_f9Ox",
        "colab": {
          "base_uri": "https://localhost:8080/",
          "height": 269
        },
        "outputId": "a6b48212-3b01-4ca0-97ba-80db19bc3617"
      },
      "outputs": [
        {
          "output_type": "execute_result",
          "data": {
            "text/plain": [
              "          days_employed\n",
              "children               \n",
              "0                 12710\n",
              "1                  4387\n",
              "2                  1918\n",
              "3                   294\n",
              "4                    34\n",
              "5                     8"
            ],
            "text/html": [
              "\n",
              "  <div id=\"df-df66ee0c-5f04-4656-bbf2-5e75d0a2fce8\">\n",
              "    <div class=\"colab-df-container\">\n",
              "      <div>\n",
              "<style scoped>\n",
              "    .dataframe tbody tr th:only-of-type {\n",
              "        vertical-align: middle;\n",
              "    }\n",
              "\n",
              "    .dataframe tbody tr th {\n",
              "        vertical-align: top;\n",
              "    }\n",
              "\n",
              "    .dataframe thead th {\n",
              "        text-align: right;\n",
              "    }\n",
              "</style>\n",
              "<table border=\"1\" class=\"dataframe\">\n",
              "  <thead>\n",
              "    <tr style=\"text-align: right;\">\n",
              "      <th></th>\n",
              "      <th>days_employed</th>\n",
              "    </tr>\n",
              "    <tr>\n",
              "      <th>children</th>\n",
              "      <th></th>\n",
              "    </tr>\n",
              "  </thead>\n",
              "  <tbody>\n",
              "    <tr>\n",
              "      <th>0</th>\n",
              "      <td>12710</td>\n",
              "    </tr>\n",
              "    <tr>\n",
              "      <th>1</th>\n",
              "      <td>4387</td>\n",
              "    </tr>\n",
              "    <tr>\n",
              "      <th>2</th>\n",
              "      <td>1918</td>\n",
              "    </tr>\n",
              "    <tr>\n",
              "      <th>3</th>\n",
              "      <td>294</td>\n",
              "    </tr>\n",
              "    <tr>\n",
              "      <th>4</th>\n",
              "      <td>34</td>\n",
              "    </tr>\n",
              "    <tr>\n",
              "      <th>5</th>\n",
              "      <td>8</td>\n",
              "    </tr>\n",
              "  </tbody>\n",
              "</table>\n",
              "</div>\n",
              "      <button class=\"colab-df-convert\" onclick=\"convertToInteractive('df-df66ee0c-5f04-4656-bbf2-5e75d0a2fce8')\"\n",
              "              title=\"Convert this dataframe to an interactive table.\"\n",
              "              style=\"display:none;\">\n",
              "        \n",
              "  <svg xmlns=\"http://www.w3.org/2000/svg\" height=\"24px\"viewBox=\"0 0 24 24\"\n",
              "       width=\"24px\">\n",
              "    <path d=\"M0 0h24v24H0V0z\" fill=\"none\"/>\n",
              "    <path d=\"M18.56 5.44l.94 2.06.94-2.06 2.06-.94-2.06-.94-.94-2.06-.94 2.06-2.06.94zm-11 1L8.5 8.5l.94-2.06 2.06-.94-2.06-.94L8.5 2.5l-.94 2.06-2.06.94zm10 10l.94 2.06.94-2.06 2.06-.94-2.06-.94-.94-2.06-.94 2.06-2.06.94z\"/><path d=\"M17.41 7.96l-1.37-1.37c-.4-.4-.92-.59-1.43-.59-.52 0-1.04.2-1.43.59L10.3 9.45l-7.72 7.72c-.78.78-.78 2.05 0 2.83L4 21.41c.39.39.9.59 1.41.59.51 0 1.02-.2 1.41-.59l7.78-7.78 2.81-2.81c.8-.78.8-2.07 0-2.86zM5.41 20L4 18.59l7.72-7.72 1.47 1.35L5.41 20z\"/>\n",
              "  </svg>\n",
              "      </button>\n",
              "      \n",
              "  <style>\n",
              "    .colab-df-container {\n",
              "      display:flex;\n",
              "      flex-wrap:wrap;\n",
              "      gap: 12px;\n",
              "    }\n",
              "\n",
              "    .colab-df-convert {\n",
              "      background-color: #E8F0FE;\n",
              "      border: none;\n",
              "      border-radius: 50%;\n",
              "      cursor: pointer;\n",
              "      display: none;\n",
              "      fill: #1967D2;\n",
              "      height: 32px;\n",
              "      padding: 0 0 0 0;\n",
              "      width: 32px;\n",
              "    }\n",
              "\n",
              "    .colab-df-convert:hover {\n",
              "      background-color: #E2EBFA;\n",
              "      box-shadow: 0px 1px 2px rgba(60, 64, 67, 0.3), 0px 1px 3px 1px rgba(60, 64, 67, 0.15);\n",
              "      fill: #174EA6;\n",
              "    }\n",
              "\n",
              "    [theme=dark] .colab-df-convert {\n",
              "      background-color: #3B4455;\n",
              "      fill: #D2E3FC;\n",
              "    }\n",
              "\n",
              "    [theme=dark] .colab-df-convert:hover {\n",
              "      background-color: #434B5C;\n",
              "      box-shadow: 0px 1px 3px 1px rgba(0, 0, 0, 0.15);\n",
              "      filter: drop-shadow(0px 1px 2px rgba(0, 0, 0, 0.3));\n",
              "      fill: #FFFFFF;\n",
              "    }\n",
              "  </style>\n",
              "\n",
              "      <script>\n",
              "        const buttonEl =\n",
              "          document.querySelector('#df-df66ee0c-5f04-4656-bbf2-5e75d0a2fce8 button.colab-df-convert');\n",
              "        buttonEl.style.display =\n",
              "          google.colab.kernel.accessAllowed ? 'block' : 'none';\n",
              "\n",
              "        async function convertToInteractive(key) {\n",
              "          const element = document.querySelector('#df-df66ee0c-5f04-4656-bbf2-5e75d0a2fce8');\n",
              "          const dataTable =\n",
              "            await google.colab.kernel.invokeFunction('convertToInteractive',\n",
              "                                                     [key], {});\n",
              "          if (!dataTable) return;\n",
              "\n",
              "          const docLinkHtml = 'Like what you see? Visit the ' +\n",
              "            '<a target=\"_blank\" href=https://colab.research.google.com/notebooks/data_table.ipynb>data table notebook</a>'\n",
              "            + ' to learn more about interactive tables.';\n",
              "          element.innerHTML = '';\n",
              "          dataTable['output_type'] = 'display_data';\n",
              "          await google.colab.output.renderOutput(dataTable, element);\n",
              "          const docLink = document.createElement('div');\n",
              "          docLink.innerHTML = docLinkHtml;\n",
              "          element.appendChild(docLink);\n",
              "        }\n",
              "      </script>\n",
              "    </div>\n",
              "  </div>\n",
              "  "
            ]
          },
          "metadata": {},
          "execution_count": 23
        }
      ],
      "source": [
        "# Double check the `children` field to make sure everything is fixed\n",
        "df_children_value = df.pivot_table(index='children', values='days_employed', aggfunc= 'count')\n",
        "df_children_value"
      ]
    },
    {
      "cell_type": "code",
      "execution_count": null,
      "metadata": {
        "id": "45qLbaSsf9O0",
        "colab": {
          "base_uri": "https://localhost:8080/"
        },
        "outputId": "fb79a3c6-6a03-4419-cb48-01bf83462528"
      },
      "outputs": [
        {
          "output_type": "execute_result",
          "data": {
            "text/plain": [
              "71"
            ]
          },
          "metadata": {},
          "execution_count": 24
        }
      ],
      "source": [
        "# Let's check the duplicate value again\n",
        "df.duplicated().sum()"
      ]
    },
    {
      "cell_type": "markdown",
      "metadata": {
        "id": "ydYIGx-Mf9O3"
      },
      "source": [
        "No changes to duplicate values yet."
      ]
    },
    {
      "cell_type": "markdown",
      "metadata": {
        "id": "fyf8ElSEf9O4"
      },
      "source": [
        "#### 2.2.3. Checking the `days_employed` Column"
      ]
    },
    {
      "cell_type": "code",
      "execution_count": null,
      "metadata": {
        "id": "Rv5S8kgFf9O4",
        "colab": {
          "base_uri": "https://localhost:8080/",
          "height": 713
        },
        "outputId": "7bc81ede-d27e-452e-d17c-cd1506ee4277"
      },
      "outputs": [
        {
          "output_type": "execute_result",
          "data": {
            "text/plain": [
              "       children  days_employed  dob_years            education  education_id  \\\n",
              "4             0  340266.072047         53  secondary education             1   \n",
              "12            0            NaN         65  secondary education             1   \n",
              "18            0  400281.136913         53  secondary education             1   \n",
              "24            1  338551.952911         57  secondary education             1   \n",
              "25            0  363548.489348         67  secondary education             1   \n",
              "...         ...            ...        ...                  ...           ...   \n",
              "21505         0  338904.866406         53  secondary education             1   \n",
              "21508         0  386497.714078         62  secondary education             1   \n",
              "21509         0  362161.054124         59    bachelor's degree             0   \n",
              "21518         0  373995.710838         59  secondary education             1   \n",
              "21521         0  343937.404131         67  secondary education             1   \n",
              "\n",
              "           family_status  family_status_id gender income_type  debt  \\\n",
              "4      civil partnership                 1      F     retiree     0   \n",
              "12     civil partnership                 1      M     retiree     0   \n",
              "18       widow / widower                 2      F     retiree     0   \n",
              "24             unmarried                 4      F     retiree     0   \n",
              "25               married                 0      M     retiree     0   \n",
              "...                  ...               ...    ...         ...   ...   \n",
              "21505  civil partnership                 1      M     retiree     0   \n",
              "21508            married                 0      M     retiree     0   \n",
              "21509            married                 0      M     retiree     0   \n",
              "21518            married                 0      F     retiree     0   \n",
              "21521            married                 0      F     retiree     0   \n",
              "\n",
              "       total_income                                   purpose  \n",
              "4         25378.572                         to have a wedding  \n",
              "12              NaN                         to have a wedding  \n",
              "18         9091.804                  buying a second-hand car  \n",
              "24        46487.558  transactions with commercial real estate  \n",
              "25         8818.041                           buy real estate  \n",
              "...             ...                                       ...  \n",
              "21505     12070.399                         to have a wedding  \n",
              "21508     11622.175                                  property  \n",
              "21509     11684.650                  real estate transactions  \n",
              "21518     24618.344                         purchase of a car  \n",
              "21521     24959.969                         purchase of a car  \n",
              "\n",
              "[3856 rows x 12 columns]"
            ],
            "text/html": [
              "\n",
              "  <div id=\"df-560a5e3f-cdf4-4329-a01e-4137a3975210\">\n",
              "    <div class=\"colab-df-container\">\n",
              "      <div>\n",
              "<style scoped>\n",
              "    .dataframe tbody tr th:only-of-type {\n",
              "        vertical-align: middle;\n",
              "    }\n",
              "\n",
              "    .dataframe tbody tr th {\n",
              "        vertical-align: top;\n",
              "    }\n",
              "\n",
              "    .dataframe thead th {\n",
              "        text-align: right;\n",
              "    }\n",
              "</style>\n",
              "<table border=\"1\" class=\"dataframe\">\n",
              "  <thead>\n",
              "    <tr style=\"text-align: right;\">\n",
              "      <th></th>\n",
              "      <th>children</th>\n",
              "      <th>days_employed</th>\n",
              "      <th>dob_years</th>\n",
              "      <th>education</th>\n",
              "      <th>education_id</th>\n",
              "      <th>family_status</th>\n",
              "      <th>family_status_id</th>\n",
              "      <th>gender</th>\n",
              "      <th>income_type</th>\n",
              "      <th>debt</th>\n",
              "      <th>total_income</th>\n",
              "      <th>purpose</th>\n",
              "    </tr>\n",
              "  </thead>\n",
              "  <tbody>\n",
              "    <tr>\n",
              "      <th>4</th>\n",
              "      <td>0</td>\n",
              "      <td>340266.072047</td>\n",
              "      <td>53</td>\n",
              "      <td>secondary education</td>\n",
              "      <td>1</td>\n",
              "      <td>civil partnership</td>\n",
              "      <td>1</td>\n",
              "      <td>F</td>\n",
              "      <td>retiree</td>\n",
              "      <td>0</td>\n",
              "      <td>25378.572</td>\n",
              "      <td>to have a wedding</td>\n",
              "    </tr>\n",
              "    <tr>\n",
              "      <th>12</th>\n",
              "      <td>0</td>\n",
              "      <td>NaN</td>\n",
              "      <td>65</td>\n",
              "      <td>secondary education</td>\n",
              "      <td>1</td>\n",
              "      <td>civil partnership</td>\n",
              "      <td>1</td>\n",
              "      <td>M</td>\n",
              "      <td>retiree</td>\n",
              "      <td>0</td>\n",
              "      <td>NaN</td>\n",
              "      <td>to have a wedding</td>\n",
              "    </tr>\n",
              "    <tr>\n",
              "      <th>18</th>\n",
              "      <td>0</td>\n",
              "      <td>400281.136913</td>\n",
              "      <td>53</td>\n",
              "      <td>secondary education</td>\n",
              "      <td>1</td>\n",
              "      <td>widow / widower</td>\n",
              "      <td>2</td>\n",
              "      <td>F</td>\n",
              "      <td>retiree</td>\n",
              "      <td>0</td>\n",
              "      <td>9091.804</td>\n",
              "      <td>buying a second-hand car</td>\n",
              "    </tr>\n",
              "    <tr>\n",
              "      <th>24</th>\n",
              "      <td>1</td>\n",
              "      <td>338551.952911</td>\n",
              "      <td>57</td>\n",
              "      <td>secondary education</td>\n",
              "      <td>1</td>\n",
              "      <td>unmarried</td>\n",
              "      <td>4</td>\n",
              "      <td>F</td>\n",
              "      <td>retiree</td>\n",
              "      <td>0</td>\n",
              "      <td>46487.558</td>\n",
              "      <td>transactions with commercial real estate</td>\n",
              "    </tr>\n",
              "    <tr>\n",
              "      <th>25</th>\n",
              "      <td>0</td>\n",
              "      <td>363548.489348</td>\n",
              "      <td>67</td>\n",
              "      <td>secondary education</td>\n",
              "      <td>1</td>\n",
              "      <td>married</td>\n",
              "      <td>0</td>\n",
              "      <td>M</td>\n",
              "      <td>retiree</td>\n",
              "      <td>0</td>\n",
              "      <td>8818.041</td>\n",
              "      <td>buy real estate</td>\n",
              "    </tr>\n",
              "    <tr>\n",
              "      <th>...</th>\n",
              "      <td>...</td>\n",
              "      <td>...</td>\n",
              "      <td>...</td>\n",
              "      <td>...</td>\n",
              "      <td>...</td>\n",
              "      <td>...</td>\n",
              "      <td>...</td>\n",
              "      <td>...</td>\n",
              "      <td>...</td>\n",
              "      <td>...</td>\n",
              "      <td>...</td>\n",
              "      <td>...</td>\n",
              "    </tr>\n",
              "    <tr>\n",
              "      <th>21505</th>\n",
              "      <td>0</td>\n",
              "      <td>338904.866406</td>\n",
              "      <td>53</td>\n",
              "      <td>secondary education</td>\n",
              "      <td>1</td>\n",
              "      <td>civil partnership</td>\n",
              "      <td>1</td>\n",
              "      <td>M</td>\n",
              "      <td>retiree</td>\n",
              "      <td>0</td>\n",
              "      <td>12070.399</td>\n",
              "      <td>to have a wedding</td>\n",
              "    </tr>\n",
              "    <tr>\n",
              "      <th>21508</th>\n",
              "      <td>0</td>\n",
              "      <td>386497.714078</td>\n",
              "      <td>62</td>\n",
              "      <td>secondary education</td>\n",
              "      <td>1</td>\n",
              "      <td>married</td>\n",
              "      <td>0</td>\n",
              "      <td>M</td>\n",
              "      <td>retiree</td>\n",
              "      <td>0</td>\n",
              "      <td>11622.175</td>\n",
              "      <td>property</td>\n",
              "    </tr>\n",
              "    <tr>\n",
              "      <th>21509</th>\n",
              "      <td>0</td>\n",
              "      <td>362161.054124</td>\n",
              "      <td>59</td>\n",
              "      <td>bachelor's degree</td>\n",
              "      <td>0</td>\n",
              "      <td>married</td>\n",
              "      <td>0</td>\n",
              "      <td>M</td>\n",
              "      <td>retiree</td>\n",
              "      <td>0</td>\n",
              "      <td>11684.650</td>\n",
              "      <td>real estate transactions</td>\n",
              "    </tr>\n",
              "    <tr>\n",
              "      <th>21518</th>\n",
              "      <td>0</td>\n",
              "      <td>373995.710838</td>\n",
              "      <td>59</td>\n",
              "      <td>secondary education</td>\n",
              "      <td>1</td>\n",
              "      <td>married</td>\n",
              "      <td>0</td>\n",
              "      <td>F</td>\n",
              "      <td>retiree</td>\n",
              "      <td>0</td>\n",
              "      <td>24618.344</td>\n",
              "      <td>purchase of a car</td>\n",
              "    </tr>\n",
              "    <tr>\n",
              "      <th>21521</th>\n",
              "      <td>0</td>\n",
              "      <td>343937.404131</td>\n",
              "      <td>67</td>\n",
              "      <td>secondary education</td>\n",
              "      <td>1</td>\n",
              "      <td>married</td>\n",
              "      <td>0</td>\n",
              "      <td>F</td>\n",
              "      <td>retiree</td>\n",
              "      <td>0</td>\n",
              "      <td>24959.969</td>\n",
              "      <td>purchase of a car</td>\n",
              "    </tr>\n",
              "  </tbody>\n",
              "</table>\n",
              "<p>3856 rows × 12 columns</p>\n",
              "</div>\n",
              "      <button class=\"colab-df-convert\" onclick=\"convertToInteractive('df-560a5e3f-cdf4-4329-a01e-4137a3975210')\"\n",
              "              title=\"Convert this dataframe to an interactive table.\"\n",
              "              style=\"display:none;\">\n",
              "        \n",
              "  <svg xmlns=\"http://www.w3.org/2000/svg\" height=\"24px\"viewBox=\"0 0 24 24\"\n",
              "       width=\"24px\">\n",
              "    <path d=\"M0 0h24v24H0V0z\" fill=\"none\"/>\n",
              "    <path d=\"M18.56 5.44l.94 2.06.94-2.06 2.06-.94-2.06-.94-.94-2.06-.94 2.06-2.06.94zm-11 1L8.5 8.5l.94-2.06 2.06-.94-2.06-.94L8.5 2.5l-.94 2.06-2.06.94zm10 10l.94 2.06.94-2.06 2.06-.94-2.06-.94-.94-2.06-.94 2.06-2.06.94z\"/><path d=\"M17.41 7.96l-1.37-1.37c-.4-.4-.92-.59-1.43-.59-.52 0-1.04.2-1.43.59L10.3 9.45l-7.72 7.72c-.78.78-.78 2.05 0 2.83L4 21.41c.39.39.9.59 1.41.59.51 0 1.02-.2 1.41-.59l7.78-7.78 2.81-2.81c.8-.78.8-2.07 0-2.86zM5.41 20L4 18.59l7.72-7.72 1.47 1.35L5.41 20z\"/>\n",
              "  </svg>\n",
              "      </button>\n",
              "      \n",
              "  <style>\n",
              "    .colab-df-container {\n",
              "      display:flex;\n",
              "      flex-wrap:wrap;\n",
              "      gap: 12px;\n",
              "    }\n",
              "\n",
              "    .colab-df-convert {\n",
              "      background-color: #E8F0FE;\n",
              "      border: none;\n",
              "      border-radius: 50%;\n",
              "      cursor: pointer;\n",
              "      display: none;\n",
              "      fill: #1967D2;\n",
              "      height: 32px;\n",
              "      padding: 0 0 0 0;\n",
              "      width: 32px;\n",
              "    }\n",
              "\n",
              "    .colab-df-convert:hover {\n",
              "      background-color: #E2EBFA;\n",
              "      box-shadow: 0px 1px 2px rgba(60, 64, 67, 0.3), 0px 1px 3px 1px rgba(60, 64, 67, 0.15);\n",
              "      fill: #174EA6;\n",
              "    }\n",
              "\n",
              "    [theme=dark] .colab-df-convert {\n",
              "      background-color: #3B4455;\n",
              "      fill: #D2E3FC;\n",
              "    }\n",
              "\n",
              "    [theme=dark] .colab-df-convert:hover {\n",
              "      background-color: #434B5C;\n",
              "      box-shadow: 0px 1px 3px 1px rgba(0, 0, 0, 0.15);\n",
              "      filter: drop-shadow(0px 1px 2px rgba(0, 0, 0, 0.3));\n",
              "      fill: #FFFFFF;\n",
              "    }\n",
              "  </style>\n",
              "\n",
              "      <script>\n",
              "        const buttonEl =\n",
              "          document.querySelector('#df-560a5e3f-cdf4-4329-a01e-4137a3975210 button.colab-df-convert');\n",
              "        buttonEl.style.display =\n",
              "          google.colab.kernel.accessAllowed ? 'block' : 'none';\n",
              "\n",
              "        async function convertToInteractive(key) {\n",
              "          const element = document.querySelector('#df-560a5e3f-cdf4-4329-a01e-4137a3975210');\n",
              "          const dataTable =\n",
              "            await google.colab.kernel.invokeFunction('convertToInteractive',\n",
              "                                                     [key], {});\n",
              "          if (!dataTable) return;\n",
              "\n",
              "          const docLinkHtml = 'Like what you see? Visit the ' +\n",
              "            '<a target=\"_blank\" href=https://colab.research.google.com/notebooks/data_table.ipynb>data table notebook</a>'\n",
              "            + ' to learn more about interactive tables.';\n",
              "          element.innerHTML = '';\n",
              "          dataTable['output_type'] = 'display_data';\n",
              "          await google.colab.output.renderOutput(dataTable, element);\n",
              "          const docLink = document.createElement('div');\n",
              "          docLink.innerHTML = docLinkHtml;\n",
              "          element.appendChild(docLink);\n",
              "        }\n",
              "      </script>\n",
              "    </div>\n",
              "  </div>\n",
              "  "
            ]
          },
          "metadata": {},
          "execution_count": 25
        }
      ],
      "source": [
        "# We will see an unusual value in the 'days_employed' column\n",
        "df[df['income_type'] == 'retiree']"
      ]
    },
    {
      "cell_type": "code",
      "execution_count": null,
      "metadata": {
        "id": "R830uu1If9O5",
        "colab": {
          "base_uri": "https://localhost:8080/"
        },
        "outputId": "0ce376b6-3fb1-4931-bf64-7ef01e641831"
      },
      "outputs": [
        {
          "output_type": "execute_result",
          "data": {
            "text/plain": [
              "count     19351.000000\n",
              "mean      63046.497661\n",
              "std      140827.311974\n",
              "min      -18388.949901\n",
              "25%       -2747.423625\n",
              "50%       -1203.369529\n",
              "75%        -291.095954\n",
              "max      401755.400475\n",
              "Name: days_employed, dtype: float64"
            ]
          },
          "metadata": {},
          "execution_count": 26
        }
      ],
      "source": [
        "# Display descriptive statistics on the 'days_employed' column\n",
        "df['days_employed'].describe()"
      ]
    },
    {
      "cell_type": "markdown",
      "metadata": {
        "id": "qHGRt5-kf9O5"
      },
      "source": [
        "There are negative numbers and unreasonable values; please note this column displays the number of days the client has worked."
      ]
    },
    {
      "cell_type": "code",
      "execution_count": null,
      "metadata": {
        "id": "ibkd4bAbf9O6",
        "colab": {
          "base_uri": "https://localhost:8080/"
        },
        "outputId": "0ba42df6-a09a-4ac7-9769-f72b7ddcb38f"
      },
      "outputs": [
        {
          "output_type": "execute_result",
          "data": {
            "text/plain": [
              "income_type\n",
              "business                        -1547.382223\n",
              "civil servant                   -2689.368353\n",
              "employee                        -1574.202821\n",
              "entrepreneur                     -520.848083\n",
              "paternity / maternity leave     -3296.759962\n",
              "retiree                        365213.306266\n",
              "student                          -578.751554\n",
              "unemployed                     366413.652744\n",
              "Name: days_employed, dtype: float64"
            ]
          },
          "metadata": {},
          "execution_count": 27
        }
      ],
      "source": [
        "# Display the average value of 'days_employed'\n",
        "df_days_employed_median = df.groupby(['income_type'])['days_employed'].median()\n",
        "df_days_employed_median"
      ]
    },
    {
      "cell_type": "markdown",
      "metadata": {
        "id": "sKT9FcY0f9O6"
      },
      "source": [
        "We cannot carry out the creditworthiness test process before correcting the value in this column. A negative value is the same as a missing value."
      ]
    },
    {
      "cell_type": "code",
      "execution_count": null,
      "metadata": {
        "id": "ceqphTpUf9O6",
        "colab": {
          "base_uri": "https://localhost:8080/"
        },
        "outputId": "6ddc3d6b-72bd-4757-e3bb-938b7b76a1f1"
      },
      "outputs": [
        {
          "output_type": "stream",
          "name": "stdout",
          "text": [
            "19351\n",
            "The percentage of problematic data is: 89.90%\n"
          ]
        }
      ],
      "source": [
        "# displays the ratio of problematic data\n",
        "df_days_employed_problem_value = (df['days_employed'] < 0).sum() + (df['days_employed'] > 21600).sum()\n",
        "print(df_days_employed_problem_value)\n",
        "df_days_employed_prob_percent = df_days_employed_problem_value / df.shape[0]\n",
        "print(f'The percentage of problematic data is: {df_days_employed_prob_percent:.2%}')"
      ]
    },
    {
      "cell_type": "markdown",
      "metadata": {
        "id": "ARlVuCVof9O7"
      },
      "source": [
        "- There is a very high problem in the `days_employed` column; if we see a negative value, it has a big impact on the dataset because it is the same as a missing value. Then what about a very high value? No one works beyond their own age.\n",
        "- Since the values might occur due to a technical error in adding the `-` sign, I can only replace negative numbers with positive ones with the `absolute` function.\n",
        "- Then, for values that are too high, which we assume only occur in `categories`, `retiree` and `unemployed`, we decide to replace these values with `0` with a limit of `21600 days or 59 years`."
      ]
    },
    {
      "cell_type": "code",
      "execution_count": null,
      "metadata": {
        "id": "MGYN66W9f9O7"
      },
      "outputs": [],
      "source": [
        "# Apply the 'absolute' function to negative values and 'replace' unnatural values with '0'\n",
        "df['days_employed'] = df['days_employed'].abs()\n",
        "df.loc[df['days_employed'] > 21600, 'days_employed'] = 0"
      ]
    },
    {
      "cell_type": "code",
      "execution_count": null,
      "metadata": {
        "id": "U0BMWxOEf9O8",
        "scrolled": true,
        "colab": {
          "base_uri": "https://localhost:8080/"
        },
        "outputId": "22b8ff85-a060-4086-d995-0fc4ff7285ba"
      },
      "outputs": [
        {
          "output_type": "stream",
          "name": "stdout",
          "text": [
            "count    19351.000000\n",
            "mean      1934.115623\n",
            "std       2274.751213\n",
            "min          0.000000\n",
            "25%        291.095954\n",
            "50%       1203.369529\n",
            "75%       2747.423625\n",
            "max      18388.949901\n",
            "Name: days_employed, dtype: float64\n",
            "\n",
            "0\n"
          ]
        }
      ],
      "source": [
        "# Ensure grades have been corrected\n",
        "print(df['days_employed'].describe())\n",
        "print()\n",
        "print((df['days_employed'] < 0).sum())"
      ]
    },
    {
      "cell_type": "markdown",
      "metadata": {
        "id": "l5YDvV8If9O8"
      },
      "source": [
        "There is a problem with the `age` column i.e. no one has worked since age `0`"
      ]
    },
    {
      "cell_type": "markdown",
      "metadata": {
        "id": "FNDxGPjdf9O8"
      },
      "source": [
        "#### 2.2.4. Checking the `dob_years` Column"
      ]
    },
    {
      "cell_type": "code",
      "execution_count": null,
      "metadata": {
        "id": "yNUrNMi7f9O9",
        "colab": {
          "base_uri": "https://localhost:8080/",
          "height": 1000
        },
        "outputId": "3352e740-585e-4d8c-dac8-56bf4442ff19"
      },
      "outputs": [
        {
          "output_type": "execute_result",
          "data": {
            "text/plain": [
              "           days_employed\n",
              "dob_years               \n",
              "0                     91\n",
              "19                    13\n",
              "20                    46\n",
              "21                    93\n",
              "22                   166\n",
              "23                   218\n",
              "24                   243\n",
              "25                   334\n",
              "26                   373\n",
              "27                   457\n",
              "28                   446\n",
              "29                   495\n",
              "30                   482\n",
              "31                   495\n",
              "32                   473\n",
              "33                   530\n",
              "34                   534\n",
              "35                   553\n",
              "36                   492\n",
              "37                   484\n",
              "38                   544\n",
              "39                   522\n",
              "40                   543\n",
              "41                   548\n",
              "42                   532\n",
              "43                   463\n",
              "44                   503\n",
              "45                   447\n",
              "46                   427\n",
              "47                   421\n",
              "48                   492\n",
              "49                   458\n",
              "50                   463\n",
              "51                   398\n",
              "52                   431\n",
              "53                   415\n",
              "54                   424\n",
              "55                   395\n",
              "56                   433\n",
              "57                   404\n",
              "58                   405\n",
              "59                   410\n",
              "60                   338\n",
              "61                   317\n",
              "62                   314\n",
              "63                   240\n",
              "64                   228\n",
              "65                   174\n",
              "66                   163\n",
              "67                   151\n",
              "68                    90\n",
              "69                    80\n",
              "70                    62\n",
              "71                    53\n",
              "72                    31\n",
              "73                     7\n",
              "74                     6\n",
              "75                     1"
            ],
            "text/html": [
              "\n",
              "  <div id=\"df-01bdc3cc-f09a-4723-bc2f-ab2f0f7178da\">\n",
              "    <div class=\"colab-df-container\">\n",
              "      <div>\n",
              "<style scoped>\n",
              "    .dataframe tbody tr th:only-of-type {\n",
              "        vertical-align: middle;\n",
              "    }\n",
              "\n",
              "    .dataframe tbody tr th {\n",
              "        vertical-align: top;\n",
              "    }\n",
              "\n",
              "    .dataframe thead th {\n",
              "        text-align: right;\n",
              "    }\n",
              "</style>\n",
              "<table border=\"1\" class=\"dataframe\">\n",
              "  <thead>\n",
              "    <tr style=\"text-align: right;\">\n",
              "      <th></th>\n",
              "      <th>days_employed</th>\n",
              "    </tr>\n",
              "    <tr>\n",
              "      <th>dob_years</th>\n",
              "      <th></th>\n",
              "    </tr>\n",
              "  </thead>\n",
              "  <tbody>\n",
              "    <tr>\n",
              "      <th>0</th>\n",
              "      <td>91</td>\n",
              "    </tr>\n",
              "    <tr>\n",
              "      <th>19</th>\n",
              "      <td>13</td>\n",
              "    </tr>\n",
              "    <tr>\n",
              "      <th>20</th>\n",
              "      <td>46</td>\n",
              "    </tr>\n",
              "    <tr>\n",
              "      <th>21</th>\n",
              "      <td>93</td>\n",
              "    </tr>\n",
              "    <tr>\n",
              "      <th>22</th>\n",
              "      <td>166</td>\n",
              "    </tr>\n",
              "    <tr>\n",
              "      <th>23</th>\n",
              "      <td>218</td>\n",
              "    </tr>\n",
              "    <tr>\n",
              "      <th>24</th>\n",
              "      <td>243</td>\n",
              "    </tr>\n",
              "    <tr>\n",
              "      <th>25</th>\n",
              "      <td>334</td>\n",
              "    </tr>\n",
              "    <tr>\n",
              "      <th>26</th>\n",
              "      <td>373</td>\n",
              "    </tr>\n",
              "    <tr>\n",
              "      <th>27</th>\n",
              "      <td>457</td>\n",
              "    </tr>\n",
              "    <tr>\n",
              "      <th>28</th>\n",
              "      <td>446</td>\n",
              "    </tr>\n",
              "    <tr>\n",
              "      <th>29</th>\n",
              "      <td>495</td>\n",
              "    </tr>\n",
              "    <tr>\n",
              "      <th>30</th>\n",
              "      <td>482</td>\n",
              "    </tr>\n",
              "    <tr>\n",
              "      <th>31</th>\n",
              "      <td>495</td>\n",
              "    </tr>\n",
              "    <tr>\n",
              "      <th>32</th>\n",
              "      <td>473</td>\n",
              "    </tr>\n",
              "    <tr>\n",
              "      <th>33</th>\n",
              "      <td>530</td>\n",
              "    </tr>\n",
              "    <tr>\n",
              "      <th>34</th>\n",
              "      <td>534</td>\n",
              "    </tr>\n",
              "    <tr>\n",
              "      <th>35</th>\n",
              "      <td>553</td>\n",
              "    </tr>\n",
              "    <tr>\n",
              "      <th>36</th>\n",
              "      <td>492</td>\n",
              "    </tr>\n",
              "    <tr>\n",
              "      <th>37</th>\n",
              "      <td>484</td>\n",
              "    </tr>\n",
              "    <tr>\n",
              "      <th>38</th>\n",
              "      <td>544</td>\n",
              "    </tr>\n",
              "    <tr>\n",
              "      <th>39</th>\n",
              "      <td>522</td>\n",
              "    </tr>\n",
              "    <tr>\n",
              "      <th>40</th>\n",
              "      <td>543</td>\n",
              "    </tr>\n",
              "    <tr>\n",
              "      <th>41</th>\n",
              "      <td>548</td>\n",
              "    </tr>\n",
              "    <tr>\n",
              "      <th>42</th>\n",
              "      <td>532</td>\n",
              "    </tr>\n",
              "    <tr>\n",
              "      <th>43</th>\n",
              "      <td>463</td>\n",
              "    </tr>\n",
              "    <tr>\n",
              "      <th>44</th>\n",
              "      <td>503</td>\n",
              "    </tr>\n",
              "    <tr>\n",
              "      <th>45</th>\n",
              "      <td>447</td>\n",
              "    </tr>\n",
              "    <tr>\n",
              "      <th>46</th>\n",
              "      <td>427</td>\n",
              "    </tr>\n",
              "    <tr>\n",
              "      <th>47</th>\n",
              "      <td>421</td>\n",
              "    </tr>\n",
              "    <tr>\n",
              "      <th>48</th>\n",
              "      <td>492</td>\n",
              "    </tr>\n",
              "    <tr>\n",
              "      <th>49</th>\n",
              "      <td>458</td>\n",
              "    </tr>\n",
              "    <tr>\n",
              "      <th>50</th>\n",
              "      <td>463</td>\n",
              "    </tr>\n",
              "    <tr>\n",
              "      <th>51</th>\n",
              "      <td>398</td>\n",
              "    </tr>\n",
              "    <tr>\n",
              "      <th>52</th>\n",
              "      <td>431</td>\n",
              "    </tr>\n",
              "    <tr>\n",
              "      <th>53</th>\n",
              "      <td>415</td>\n",
              "    </tr>\n",
              "    <tr>\n",
              "      <th>54</th>\n",
              "      <td>424</td>\n",
              "    </tr>\n",
              "    <tr>\n",
              "      <th>55</th>\n",
              "      <td>395</td>\n",
              "    </tr>\n",
              "    <tr>\n",
              "      <th>56</th>\n",
              "      <td>433</td>\n",
              "    </tr>\n",
              "    <tr>\n",
              "      <th>57</th>\n",
              "      <td>404</td>\n",
              "    </tr>\n",
              "    <tr>\n",
              "      <th>58</th>\n",
              "      <td>405</td>\n",
              "    </tr>\n",
              "    <tr>\n",
              "      <th>59</th>\n",
              "      <td>410</td>\n",
              "    </tr>\n",
              "    <tr>\n",
              "      <th>60</th>\n",
              "      <td>338</td>\n",
              "    </tr>\n",
              "    <tr>\n",
              "      <th>61</th>\n",
              "      <td>317</td>\n",
              "    </tr>\n",
              "    <tr>\n",
              "      <th>62</th>\n",
              "      <td>314</td>\n",
              "    </tr>\n",
              "    <tr>\n",
              "      <th>63</th>\n",
              "      <td>240</td>\n",
              "    </tr>\n",
              "    <tr>\n",
              "      <th>64</th>\n",
              "      <td>228</td>\n",
              "    </tr>\n",
              "    <tr>\n",
              "      <th>65</th>\n",
              "      <td>174</td>\n",
              "    </tr>\n",
              "    <tr>\n",
              "      <th>66</th>\n",
              "      <td>163</td>\n",
              "    </tr>\n",
              "    <tr>\n",
              "      <th>67</th>\n",
              "      <td>151</td>\n",
              "    </tr>\n",
              "    <tr>\n",
              "      <th>68</th>\n",
              "      <td>90</td>\n",
              "    </tr>\n",
              "    <tr>\n",
              "      <th>69</th>\n",
              "      <td>80</td>\n",
              "    </tr>\n",
              "    <tr>\n",
              "      <th>70</th>\n",
              "      <td>62</td>\n",
              "    </tr>\n",
              "    <tr>\n",
              "      <th>71</th>\n",
              "      <td>53</td>\n",
              "    </tr>\n",
              "    <tr>\n",
              "      <th>72</th>\n",
              "      <td>31</td>\n",
              "    </tr>\n",
              "    <tr>\n",
              "      <th>73</th>\n",
              "      <td>7</td>\n",
              "    </tr>\n",
              "    <tr>\n",
              "      <th>74</th>\n",
              "      <td>6</td>\n",
              "    </tr>\n",
              "    <tr>\n",
              "      <th>75</th>\n",
              "      <td>1</td>\n",
              "    </tr>\n",
              "  </tbody>\n",
              "</table>\n",
              "</div>\n",
              "      <button class=\"colab-df-convert\" onclick=\"convertToInteractive('df-01bdc3cc-f09a-4723-bc2f-ab2f0f7178da')\"\n",
              "              title=\"Convert this dataframe to an interactive table.\"\n",
              "              style=\"display:none;\">\n",
              "        \n",
              "  <svg xmlns=\"http://www.w3.org/2000/svg\" height=\"24px\"viewBox=\"0 0 24 24\"\n",
              "       width=\"24px\">\n",
              "    <path d=\"M0 0h24v24H0V0z\" fill=\"none\"/>\n",
              "    <path d=\"M18.56 5.44l.94 2.06.94-2.06 2.06-.94-2.06-.94-.94-2.06-.94 2.06-2.06.94zm-11 1L8.5 8.5l.94-2.06 2.06-.94-2.06-.94L8.5 2.5l-.94 2.06-2.06.94zm10 10l.94 2.06.94-2.06 2.06-.94-2.06-.94-.94-2.06-.94 2.06-2.06.94z\"/><path d=\"M17.41 7.96l-1.37-1.37c-.4-.4-.92-.59-1.43-.59-.52 0-1.04.2-1.43.59L10.3 9.45l-7.72 7.72c-.78.78-.78 2.05 0 2.83L4 21.41c.39.39.9.59 1.41.59.51 0 1.02-.2 1.41-.59l7.78-7.78 2.81-2.81c.8-.78.8-2.07 0-2.86zM5.41 20L4 18.59l7.72-7.72 1.47 1.35L5.41 20z\"/>\n",
              "  </svg>\n",
              "      </button>\n",
              "      \n",
              "  <style>\n",
              "    .colab-df-container {\n",
              "      display:flex;\n",
              "      flex-wrap:wrap;\n",
              "      gap: 12px;\n",
              "    }\n",
              "\n",
              "    .colab-df-convert {\n",
              "      background-color: #E8F0FE;\n",
              "      border: none;\n",
              "      border-radius: 50%;\n",
              "      cursor: pointer;\n",
              "      display: none;\n",
              "      fill: #1967D2;\n",
              "      height: 32px;\n",
              "      padding: 0 0 0 0;\n",
              "      width: 32px;\n",
              "    }\n",
              "\n",
              "    .colab-df-convert:hover {\n",
              "      background-color: #E2EBFA;\n",
              "      box-shadow: 0px 1px 2px rgba(60, 64, 67, 0.3), 0px 1px 3px 1px rgba(60, 64, 67, 0.15);\n",
              "      fill: #174EA6;\n",
              "    }\n",
              "\n",
              "    [theme=dark] .colab-df-convert {\n",
              "      background-color: #3B4455;\n",
              "      fill: #D2E3FC;\n",
              "    }\n",
              "\n",
              "    [theme=dark] .colab-df-convert:hover {\n",
              "      background-color: #434B5C;\n",
              "      box-shadow: 0px 1px 3px 1px rgba(0, 0, 0, 0.15);\n",
              "      filter: drop-shadow(0px 1px 2px rgba(0, 0, 0, 0.3));\n",
              "      fill: #FFFFFF;\n",
              "    }\n",
              "  </style>\n",
              "\n",
              "      <script>\n",
              "        const buttonEl =\n",
              "          document.querySelector('#df-01bdc3cc-f09a-4723-bc2f-ab2f0f7178da button.colab-df-convert');\n",
              "        buttonEl.style.display =\n",
              "          google.colab.kernel.accessAllowed ? 'block' : 'none';\n",
              "\n",
              "        async function convertToInteractive(key) {\n",
              "          const element = document.querySelector('#df-01bdc3cc-f09a-4723-bc2f-ab2f0f7178da');\n",
              "          const dataTable =\n",
              "            await google.colab.kernel.invokeFunction('convertToInteractive',\n",
              "                                                     [key], {});\n",
              "          if (!dataTable) return;\n",
              "\n",
              "          const docLinkHtml = 'Like what you see? Visit the ' +\n",
              "            '<a target=\"_blank\" href=https://colab.research.google.com/notebooks/data_table.ipynb>data table notebook</a>'\n",
              "            + ' to learn more about interactive tables.';\n",
              "          element.innerHTML = '';\n",
              "          dataTable['output_type'] = 'display_data';\n",
              "          await google.colab.output.renderOutput(dataTable, element);\n",
              "          const docLink = document.createElement('div');\n",
              "          docLink.innerHTML = docLinkHtml;\n",
              "          element.appendChild(docLink);\n",
              "        }\n",
              "      </script>\n",
              "    </div>\n",
              "  </div>\n",
              "  "
            ]
          },
          "metadata": {},
          "execution_count": 31
        }
      ],
      "source": [
        "# Checking the 'dob_years' column for anomalous values\n",
        "df_dob_years_value = df.pivot_table(index='dob_years', values='days_employed', aggfunc= 'count')\n",
        "df_dob_years_value"
      ]
    },
    {
      "cell_type": "code",
      "execution_count": null,
      "metadata": {
        "id": "zr779BH3f9O9",
        "colab": {
          "base_uri": "https://localhost:8080/"
        },
        "outputId": "a1bc2c23-11ef-4f35-af80-2420eca33cb9"
      },
      "outputs": [
        {
          "output_type": "stream",
          "name": "stdout",
          "text": [
            "The percentage of problematic data is: 0.47%\n"
          ]
        }
      ],
      "source": [
        "# View the percentage of anomaly data\n",
        "df_days_employed_prob_percent = (df['dob_years'] == 0).sum() / df.shape[0]\n",
        "print(f'The percentage of problematic data is: {df_days_employed_prob_percent:.2%}')"
      ]
    },
    {
      "cell_type": "markdown",
      "metadata": {
        "id": "Cm0e3HM_f9O-"
      },
      "source": [
        "We will replace the value `0` in the `age` column with the `median` age.\n",
        "Because each client with an age of `0` has different characteristics."
      ]
    },
    {
      "cell_type": "code",
      "execution_count": null,
      "metadata": {
        "id": "jo6hKTTzf9O-"
      },
      "outputs": [],
      "source": [
        "# Replace '0' with average\n",
        "avg_dob_years = df['dob_years'].median() \n",
        "df.loc[df['dob_years'] == 0, 'dob_years'] = avg_dob_years"
      ]
    },
    {
      "cell_type": "code",
      "execution_count": null,
      "metadata": {
        "id": "-8twfCukf9O_",
        "colab": {
          "base_uri": "https://localhost:8080/"
        },
        "outputId": "8bf6a7e5-7964-4965-dd2b-8e301bd3ebbd"
      },
      "outputs": [
        {
          "output_type": "execute_result",
          "data": {
            "text/plain": [
              "0"
            ]
          },
          "metadata": {},
          "execution_count": 34
        }
      ],
      "source": [
        "# Memastikai nilai telah diperbaiki\n",
        "df[df['dob_years'] == 0].shape[0]"
      ]
    },
    {
      "cell_type": "markdown",
      "metadata": {
        "id": "qMByFGqZf9O_"
      },
      "source": [
        "#### 2.2.5. Checking the `family_status` Column"
      ]
    },
    {
      "cell_type": "code",
      "execution_count": null,
      "metadata": {
        "id": "UCIhoLpVf9PA",
        "colab": {
          "base_uri": "https://localhost:8080/",
          "height": 238
        },
        "outputId": "08ec0829-c015-43ce-8e53-75381d93b07e"
      },
      "outputs": [
        {
          "output_type": "execute_result",
          "data": {
            "text/plain": [
              "                   days_employed\n",
              "family_status                   \n",
              "civil partnership           3735\n",
              "divorced                    1083\n",
              "married                    11143\n",
              "unmarried                   2525\n",
              "widow / widower              865"
            ],
            "text/html": [
              "\n",
              "  <div id=\"df-f0839628-66fe-4bd8-9c96-a9df9f8e8f96\">\n",
              "    <div class=\"colab-df-container\">\n",
              "      <div>\n",
              "<style scoped>\n",
              "    .dataframe tbody tr th:only-of-type {\n",
              "        vertical-align: middle;\n",
              "    }\n",
              "\n",
              "    .dataframe tbody tr th {\n",
              "        vertical-align: top;\n",
              "    }\n",
              "\n",
              "    .dataframe thead th {\n",
              "        text-align: right;\n",
              "    }\n",
              "</style>\n",
              "<table border=\"1\" class=\"dataframe\">\n",
              "  <thead>\n",
              "    <tr style=\"text-align: right;\">\n",
              "      <th></th>\n",
              "      <th>days_employed</th>\n",
              "    </tr>\n",
              "    <tr>\n",
              "      <th>family_status</th>\n",
              "      <th></th>\n",
              "    </tr>\n",
              "  </thead>\n",
              "  <tbody>\n",
              "    <tr>\n",
              "      <th>civil partnership</th>\n",
              "      <td>3735</td>\n",
              "    </tr>\n",
              "    <tr>\n",
              "      <th>divorced</th>\n",
              "      <td>1083</td>\n",
              "    </tr>\n",
              "    <tr>\n",
              "      <th>married</th>\n",
              "      <td>11143</td>\n",
              "    </tr>\n",
              "    <tr>\n",
              "      <th>unmarried</th>\n",
              "      <td>2525</td>\n",
              "    </tr>\n",
              "    <tr>\n",
              "      <th>widow / widower</th>\n",
              "      <td>865</td>\n",
              "    </tr>\n",
              "  </tbody>\n",
              "</table>\n",
              "</div>\n",
              "      <button class=\"colab-df-convert\" onclick=\"convertToInteractive('df-f0839628-66fe-4bd8-9c96-a9df9f8e8f96')\"\n",
              "              title=\"Convert this dataframe to an interactive table.\"\n",
              "              style=\"display:none;\">\n",
              "        \n",
              "  <svg xmlns=\"http://www.w3.org/2000/svg\" height=\"24px\"viewBox=\"0 0 24 24\"\n",
              "       width=\"24px\">\n",
              "    <path d=\"M0 0h24v24H0V0z\" fill=\"none\"/>\n",
              "    <path d=\"M18.56 5.44l.94 2.06.94-2.06 2.06-.94-2.06-.94-.94-2.06-.94 2.06-2.06.94zm-11 1L8.5 8.5l.94-2.06 2.06-.94-2.06-.94L8.5 2.5l-.94 2.06-2.06.94zm10 10l.94 2.06.94-2.06 2.06-.94-2.06-.94-.94-2.06-.94 2.06-2.06.94z\"/><path d=\"M17.41 7.96l-1.37-1.37c-.4-.4-.92-.59-1.43-.59-.52 0-1.04.2-1.43.59L10.3 9.45l-7.72 7.72c-.78.78-.78 2.05 0 2.83L4 21.41c.39.39.9.59 1.41.59.51 0 1.02-.2 1.41-.59l7.78-7.78 2.81-2.81c.8-.78.8-2.07 0-2.86zM5.41 20L4 18.59l7.72-7.72 1.47 1.35L5.41 20z\"/>\n",
              "  </svg>\n",
              "      </button>\n",
              "      \n",
              "  <style>\n",
              "    .colab-df-container {\n",
              "      display:flex;\n",
              "      flex-wrap:wrap;\n",
              "      gap: 12px;\n",
              "    }\n",
              "\n",
              "    .colab-df-convert {\n",
              "      background-color: #E8F0FE;\n",
              "      border: none;\n",
              "      border-radius: 50%;\n",
              "      cursor: pointer;\n",
              "      display: none;\n",
              "      fill: #1967D2;\n",
              "      height: 32px;\n",
              "      padding: 0 0 0 0;\n",
              "      width: 32px;\n",
              "    }\n",
              "\n",
              "    .colab-df-convert:hover {\n",
              "      background-color: #E2EBFA;\n",
              "      box-shadow: 0px 1px 2px rgba(60, 64, 67, 0.3), 0px 1px 3px 1px rgba(60, 64, 67, 0.15);\n",
              "      fill: #174EA6;\n",
              "    }\n",
              "\n",
              "    [theme=dark] .colab-df-convert {\n",
              "      background-color: #3B4455;\n",
              "      fill: #D2E3FC;\n",
              "    }\n",
              "\n",
              "    [theme=dark] .colab-df-convert:hover {\n",
              "      background-color: #434B5C;\n",
              "      box-shadow: 0px 1px 3px 1px rgba(0, 0, 0, 0.15);\n",
              "      filter: drop-shadow(0px 1px 2px rgba(0, 0, 0, 0.3));\n",
              "      fill: #FFFFFF;\n",
              "    }\n",
              "  </style>\n",
              "\n",
              "      <script>\n",
              "        const buttonEl =\n",
              "          document.querySelector('#df-f0839628-66fe-4bd8-9c96-a9df9f8e8f96 button.colab-df-convert');\n",
              "        buttonEl.style.display =\n",
              "          google.colab.kernel.accessAllowed ? 'block' : 'none';\n",
              "\n",
              "        async function convertToInteractive(key) {\n",
              "          const element = document.querySelector('#df-f0839628-66fe-4bd8-9c96-a9df9f8e8f96');\n",
              "          const dataTable =\n",
              "            await google.colab.kernel.invokeFunction('convertToInteractive',\n",
              "                                                     [key], {});\n",
              "          if (!dataTable) return;\n",
              "\n",
              "          const docLinkHtml = 'Like what you see? Visit the ' +\n",
              "            '<a target=\"_blank\" href=https://colab.research.google.com/notebooks/data_table.ipynb>data table notebook</a>'\n",
              "            + ' to learn more about interactive tables.';\n",
              "          element.innerHTML = '';\n",
              "          dataTable['output_type'] = 'display_data';\n",
              "          await google.colab.output.renderOutput(dataTable, element);\n",
              "          const docLink = document.createElement('div');\n",
              "          docLink.innerHTML = docLinkHtml;\n",
              "          element.appendChild(docLink);\n",
              "        }\n",
              "      </script>\n",
              "    </div>\n",
              "  </div>\n",
              "  "
            ]
          },
          "metadata": {},
          "execution_count": 35
        }
      ],
      "source": [
        "# Checking the 'family_status' column\n",
        "df_family_status_value = df.pivot_table(index='family_status', values='days_employed', aggfunc= 'count')\n",
        "df_family_status_value"
      ]
    },
    {
      "cell_type": "markdown",
      "metadata": {
        "id": "mSsN7Gkyf9PA"
      },
      "source": [
        "No problems were found in the `family_status` column"
      ]
    },
    {
      "cell_type": "markdown",
      "metadata": {
        "id": "6zpE6_uvf9PB"
      },
      "source": [
        "#### 2.3.6. Checking the `gender` Column"
      ]
    },
    {
      "cell_type": "code",
      "execution_count": null,
      "metadata": {
        "id": "AzO-Qe0uf9PB",
        "colab": {
          "base_uri": "https://localhost:8080/",
          "height": 175
        },
        "outputId": "116d5559-cb72-4e32-88ea-977f7f4ba84e"
      },
      "outputs": [
        {
          "output_type": "execute_result",
          "data": {
            "text/plain": [
              "        days_employed\n",
              "gender               \n",
              "F               12752\n",
              "M                6598\n",
              "XNA                 1"
            ],
            "text/html": [
              "\n",
              "  <div id=\"df-36186ddd-4c5c-4236-9bbb-261dd4cec6b6\">\n",
              "    <div class=\"colab-df-container\">\n",
              "      <div>\n",
              "<style scoped>\n",
              "    .dataframe tbody tr th:only-of-type {\n",
              "        vertical-align: middle;\n",
              "    }\n",
              "\n",
              "    .dataframe tbody tr th {\n",
              "        vertical-align: top;\n",
              "    }\n",
              "\n",
              "    .dataframe thead th {\n",
              "        text-align: right;\n",
              "    }\n",
              "</style>\n",
              "<table border=\"1\" class=\"dataframe\">\n",
              "  <thead>\n",
              "    <tr style=\"text-align: right;\">\n",
              "      <th></th>\n",
              "      <th>days_employed</th>\n",
              "    </tr>\n",
              "    <tr>\n",
              "      <th>gender</th>\n",
              "      <th></th>\n",
              "    </tr>\n",
              "  </thead>\n",
              "  <tbody>\n",
              "    <tr>\n",
              "      <th>F</th>\n",
              "      <td>12752</td>\n",
              "    </tr>\n",
              "    <tr>\n",
              "      <th>M</th>\n",
              "      <td>6598</td>\n",
              "    </tr>\n",
              "    <tr>\n",
              "      <th>XNA</th>\n",
              "      <td>1</td>\n",
              "    </tr>\n",
              "  </tbody>\n",
              "</table>\n",
              "</div>\n",
              "      <button class=\"colab-df-convert\" onclick=\"convertToInteractive('df-36186ddd-4c5c-4236-9bbb-261dd4cec6b6')\"\n",
              "              title=\"Convert this dataframe to an interactive table.\"\n",
              "              style=\"display:none;\">\n",
              "        \n",
              "  <svg xmlns=\"http://www.w3.org/2000/svg\" height=\"24px\"viewBox=\"0 0 24 24\"\n",
              "       width=\"24px\">\n",
              "    <path d=\"M0 0h24v24H0V0z\" fill=\"none\"/>\n",
              "    <path d=\"M18.56 5.44l.94 2.06.94-2.06 2.06-.94-2.06-.94-.94-2.06-.94 2.06-2.06.94zm-11 1L8.5 8.5l.94-2.06 2.06-.94-2.06-.94L8.5 2.5l-.94 2.06-2.06.94zm10 10l.94 2.06.94-2.06 2.06-.94-2.06-.94-.94-2.06-.94 2.06-2.06.94z\"/><path d=\"M17.41 7.96l-1.37-1.37c-.4-.4-.92-.59-1.43-.59-.52 0-1.04.2-1.43.59L10.3 9.45l-7.72 7.72c-.78.78-.78 2.05 0 2.83L4 21.41c.39.39.9.59 1.41.59.51 0 1.02-.2 1.41-.59l7.78-7.78 2.81-2.81c.8-.78.8-2.07 0-2.86zM5.41 20L4 18.59l7.72-7.72 1.47 1.35L5.41 20z\"/>\n",
              "  </svg>\n",
              "      </button>\n",
              "      \n",
              "  <style>\n",
              "    .colab-df-container {\n",
              "      display:flex;\n",
              "      flex-wrap:wrap;\n",
              "      gap: 12px;\n",
              "    }\n",
              "\n",
              "    .colab-df-convert {\n",
              "      background-color: #E8F0FE;\n",
              "      border: none;\n",
              "      border-radius: 50%;\n",
              "      cursor: pointer;\n",
              "      display: none;\n",
              "      fill: #1967D2;\n",
              "      height: 32px;\n",
              "      padding: 0 0 0 0;\n",
              "      width: 32px;\n",
              "    }\n",
              "\n",
              "    .colab-df-convert:hover {\n",
              "      background-color: #E2EBFA;\n",
              "      box-shadow: 0px 1px 2px rgba(60, 64, 67, 0.3), 0px 1px 3px 1px rgba(60, 64, 67, 0.15);\n",
              "      fill: #174EA6;\n",
              "    }\n",
              "\n",
              "    [theme=dark] .colab-df-convert {\n",
              "      background-color: #3B4455;\n",
              "      fill: #D2E3FC;\n",
              "    }\n",
              "\n",
              "    [theme=dark] .colab-df-convert:hover {\n",
              "      background-color: #434B5C;\n",
              "      box-shadow: 0px 1px 3px 1px rgba(0, 0, 0, 0.15);\n",
              "      filter: drop-shadow(0px 1px 2px rgba(0, 0, 0, 0.3));\n",
              "      fill: #FFFFFF;\n",
              "    }\n",
              "  </style>\n",
              "\n",
              "      <script>\n",
              "        const buttonEl =\n",
              "          document.querySelector('#df-36186ddd-4c5c-4236-9bbb-261dd4cec6b6 button.colab-df-convert');\n",
              "        buttonEl.style.display =\n",
              "          google.colab.kernel.accessAllowed ? 'block' : 'none';\n",
              "\n",
              "        async function convertToInteractive(key) {\n",
              "          const element = document.querySelector('#df-36186ddd-4c5c-4236-9bbb-261dd4cec6b6');\n",
              "          const dataTable =\n",
              "            await google.colab.kernel.invokeFunction('convertToInteractive',\n",
              "                                                     [key], {});\n",
              "          if (!dataTable) return;\n",
              "\n",
              "          const docLinkHtml = 'Like what you see? Visit the ' +\n",
              "            '<a target=\"_blank\" href=https://colab.research.google.com/notebooks/data_table.ipynb>data table notebook</a>'\n",
              "            + ' to learn more about interactive tables.';\n",
              "          element.innerHTML = '';\n",
              "          dataTable['output_type'] = 'display_data';\n",
              "          await google.colab.output.renderOutput(dataTable, element);\n",
              "          const docLink = document.createElement('div');\n",
              "          docLink.innerHTML = docLinkHtml;\n",
              "          element.appendChild(docLink);\n",
              "        }\n",
              "      </script>\n",
              "    </div>\n",
              "  </div>\n",
              "  "
            ]
          },
          "metadata": {},
          "execution_count": 36
        }
      ],
      "source": [
        "# Check \"Gender\" column\n",
        "df_gender_value = df.pivot_table(index='gender', values='days_employed', aggfunc= 'count')\n",
        "df_gender_value"
      ]
    },
    {
      "cell_type": "markdown",
      "metadata": {
        "id": "M0CnhSXef9PC"
      },
      "source": [
        "There is one problem with the value `XNA`\n",
        "It's difficult to identify where to replace the value, and we decided to delete that 1 row"
      ]
    },
    {
      "cell_type": "code",
      "execution_count": null,
      "metadata": {
        "id": "UiOEmCBMf9PC"
      },
      "outputs": [],
      "source": [
        "# Removing the value `XNA`\n",
        "df = df.loc[df[\"gender\"] != 'XNA']"
      ]
    },
    {
      "cell_type": "code",
      "execution_count": null,
      "metadata": {
        "id": "U6Hgr3NAf9PD",
        "scrolled": true,
        "colab": {
          "base_uri": "https://localhost:8080/",
          "height": 143
        },
        "outputId": "d4adf060-174b-4659-856f-cf8acbd8bb10"
      },
      "outputs": [
        {
          "output_type": "execute_result",
          "data": {
            "text/plain": [
              "        days_employed\n",
              "gender               \n",
              "F               12752\n",
              "M                6598"
            ],
            "text/html": [
              "\n",
              "  <div id=\"df-510f318f-dc7e-4d7c-951a-b59f515dc0a6\">\n",
              "    <div class=\"colab-df-container\">\n",
              "      <div>\n",
              "<style scoped>\n",
              "    .dataframe tbody tr th:only-of-type {\n",
              "        vertical-align: middle;\n",
              "    }\n",
              "\n",
              "    .dataframe tbody tr th {\n",
              "        vertical-align: top;\n",
              "    }\n",
              "\n",
              "    .dataframe thead th {\n",
              "        text-align: right;\n",
              "    }\n",
              "</style>\n",
              "<table border=\"1\" class=\"dataframe\">\n",
              "  <thead>\n",
              "    <tr style=\"text-align: right;\">\n",
              "      <th></th>\n",
              "      <th>days_employed</th>\n",
              "    </tr>\n",
              "    <tr>\n",
              "      <th>gender</th>\n",
              "      <th></th>\n",
              "    </tr>\n",
              "  </thead>\n",
              "  <tbody>\n",
              "    <tr>\n",
              "      <th>F</th>\n",
              "      <td>12752</td>\n",
              "    </tr>\n",
              "    <tr>\n",
              "      <th>M</th>\n",
              "      <td>6598</td>\n",
              "    </tr>\n",
              "  </tbody>\n",
              "</table>\n",
              "</div>\n",
              "      <button class=\"colab-df-convert\" onclick=\"convertToInteractive('df-510f318f-dc7e-4d7c-951a-b59f515dc0a6')\"\n",
              "              title=\"Convert this dataframe to an interactive table.\"\n",
              "              style=\"display:none;\">\n",
              "        \n",
              "  <svg xmlns=\"http://www.w3.org/2000/svg\" height=\"24px\"viewBox=\"0 0 24 24\"\n",
              "       width=\"24px\">\n",
              "    <path d=\"M0 0h24v24H0V0z\" fill=\"none\"/>\n",
              "    <path d=\"M18.56 5.44l.94 2.06.94-2.06 2.06-.94-2.06-.94-.94-2.06-.94 2.06-2.06.94zm-11 1L8.5 8.5l.94-2.06 2.06-.94-2.06-.94L8.5 2.5l-.94 2.06-2.06.94zm10 10l.94 2.06.94-2.06 2.06-.94-2.06-.94-.94-2.06-.94 2.06-2.06.94z\"/><path d=\"M17.41 7.96l-1.37-1.37c-.4-.4-.92-.59-1.43-.59-.52 0-1.04.2-1.43.59L10.3 9.45l-7.72 7.72c-.78.78-.78 2.05 0 2.83L4 21.41c.39.39.9.59 1.41.59.51 0 1.02-.2 1.41-.59l7.78-7.78 2.81-2.81c.8-.78.8-2.07 0-2.86zM5.41 20L4 18.59l7.72-7.72 1.47 1.35L5.41 20z\"/>\n",
              "  </svg>\n",
              "      </button>\n",
              "      \n",
              "  <style>\n",
              "    .colab-df-container {\n",
              "      display:flex;\n",
              "      flex-wrap:wrap;\n",
              "      gap: 12px;\n",
              "    }\n",
              "\n",
              "    .colab-df-convert {\n",
              "      background-color: #E8F0FE;\n",
              "      border: none;\n",
              "      border-radius: 50%;\n",
              "      cursor: pointer;\n",
              "      display: none;\n",
              "      fill: #1967D2;\n",
              "      height: 32px;\n",
              "      padding: 0 0 0 0;\n",
              "      width: 32px;\n",
              "    }\n",
              "\n",
              "    .colab-df-convert:hover {\n",
              "      background-color: #E2EBFA;\n",
              "      box-shadow: 0px 1px 2px rgba(60, 64, 67, 0.3), 0px 1px 3px 1px rgba(60, 64, 67, 0.15);\n",
              "      fill: #174EA6;\n",
              "    }\n",
              "\n",
              "    [theme=dark] .colab-df-convert {\n",
              "      background-color: #3B4455;\n",
              "      fill: #D2E3FC;\n",
              "    }\n",
              "\n",
              "    [theme=dark] .colab-df-convert:hover {\n",
              "      background-color: #434B5C;\n",
              "      box-shadow: 0px 1px 3px 1px rgba(0, 0, 0, 0.15);\n",
              "      filter: drop-shadow(0px 1px 2px rgba(0, 0, 0, 0.3));\n",
              "      fill: #FFFFFF;\n",
              "    }\n",
              "  </style>\n",
              "\n",
              "      <script>\n",
              "        const buttonEl =\n",
              "          document.querySelector('#df-510f318f-dc7e-4d7c-951a-b59f515dc0a6 button.colab-df-convert');\n",
              "        buttonEl.style.display =\n",
              "          google.colab.kernel.accessAllowed ? 'block' : 'none';\n",
              "\n",
              "        async function convertToInteractive(key) {\n",
              "          const element = document.querySelector('#df-510f318f-dc7e-4d7c-951a-b59f515dc0a6');\n",
              "          const dataTable =\n",
              "            await google.colab.kernel.invokeFunction('convertToInteractive',\n",
              "                                                     [key], {});\n",
              "          if (!dataTable) return;\n",
              "\n",
              "          const docLinkHtml = 'Like what you see? Visit the ' +\n",
              "            '<a target=\"_blank\" href=https://colab.research.google.com/notebooks/data_table.ipynb>data table notebook</a>'\n",
              "            + ' to learn more about interactive tables.';\n",
              "          element.innerHTML = '';\n",
              "          dataTable['output_type'] = 'display_data';\n",
              "          await google.colab.output.renderOutput(dataTable, element);\n",
              "          const docLink = document.createElement('div');\n",
              "          docLink.innerHTML = docLinkHtml;\n",
              "          element.appendChild(docLink);\n",
              "        }\n",
              "      </script>\n",
              "    </div>\n",
              "  </div>\n",
              "  "
            ]
          },
          "metadata": {},
          "execution_count": 38
        }
      ],
      "source": [
        "# Memastikan kolom telah diperbaiki\n",
        "df_gender_value = df.pivot_table(index='gender', values='days_employed', aggfunc= 'count')\n",
        "df_gender_value"
      ]
    },
    {
      "cell_type": "markdown",
      "metadata": {
        "id": "yxLG9B-Yf9PE"
      },
      "source": [
        "#### 2.3.7. Checking the `income_type` Column"
      ]
    },
    {
      "cell_type": "code",
      "execution_count": null,
      "metadata": {
        "id": "nb5wIGRFf9PE",
        "colab": {
          "base_uri": "https://localhost:8080/",
          "height": 332
        },
        "outputId": "b5f40573-a693-4397-a3f4-953596545361"
      },
      "outputs": [
        {
          "output_type": "execute_result",
          "data": {
            "text/plain": [
              "                             days_employed\n",
              "income_type                               \n",
              "business                              4576\n",
              "civil servant                         1312\n",
              "employee                             10014\n",
              "entrepreneur                             1\n",
              "paternity / maternity leave              1\n",
              "retiree                               3443\n",
              "student                                  1\n",
              "unemployed                               2"
            ],
            "text/html": [
              "\n",
              "  <div id=\"df-9dd5757c-f3b8-4e9b-8c7e-04efcef86cf0\">\n",
              "    <div class=\"colab-df-container\">\n",
              "      <div>\n",
              "<style scoped>\n",
              "    .dataframe tbody tr th:only-of-type {\n",
              "        vertical-align: middle;\n",
              "    }\n",
              "\n",
              "    .dataframe tbody tr th {\n",
              "        vertical-align: top;\n",
              "    }\n",
              "\n",
              "    .dataframe thead th {\n",
              "        text-align: right;\n",
              "    }\n",
              "</style>\n",
              "<table border=\"1\" class=\"dataframe\">\n",
              "  <thead>\n",
              "    <tr style=\"text-align: right;\">\n",
              "      <th></th>\n",
              "      <th>days_employed</th>\n",
              "    </tr>\n",
              "    <tr>\n",
              "      <th>income_type</th>\n",
              "      <th></th>\n",
              "    </tr>\n",
              "  </thead>\n",
              "  <tbody>\n",
              "    <tr>\n",
              "      <th>business</th>\n",
              "      <td>4576</td>\n",
              "    </tr>\n",
              "    <tr>\n",
              "      <th>civil servant</th>\n",
              "      <td>1312</td>\n",
              "    </tr>\n",
              "    <tr>\n",
              "      <th>employee</th>\n",
              "      <td>10014</td>\n",
              "    </tr>\n",
              "    <tr>\n",
              "      <th>entrepreneur</th>\n",
              "      <td>1</td>\n",
              "    </tr>\n",
              "    <tr>\n",
              "      <th>paternity / maternity leave</th>\n",
              "      <td>1</td>\n",
              "    </tr>\n",
              "    <tr>\n",
              "      <th>retiree</th>\n",
              "      <td>3443</td>\n",
              "    </tr>\n",
              "    <tr>\n",
              "      <th>student</th>\n",
              "      <td>1</td>\n",
              "    </tr>\n",
              "    <tr>\n",
              "      <th>unemployed</th>\n",
              "      <td>2</td>\n",
              "    </tr>\n",
              "  </tbody>\n",
              "</table>\n",
              "</div>\n",
              "      <button class=\"colab-df-convert\" onclick=\"convertToInteractive('df-9dd5757c-f3b8-4e9b-8c7e-04efcef86cf0')\"\n",
              "              title=\"Convert this dataframe to an interactive table.\"\n",
              "              style=\"display:none;\">\n",
              "        \n",
              "  <svg xmlns=\"http://www.w3.org/2000/svg\" height=\"24px\"viewBox=\"0 0 24 24\"\n",
              "       width=\"24px\">\n",
              "    <path d=\"M0 0h24v24H0V0z\" fill=\"none\"/>\n",
              "    <path d=\"M18.56 5.44l.94 2.06.94-2.06 2.06-.94-2.06-.94-.94-2.06-.94 2.06-2.06.94zm-11 1L8.5 8.5l.94-2.06 2.06-.94-2.06-.94L8.5 2.5l-.94 2.06-2.06.94zm10 10l.94 2.06.94-2.06 2.06-.94-2.06-.94-.94-2.06-.94 2.06-2.06.94z\"/><path d=\"M17.41 7.96l-1.37-1.37c-.4-.4-.92-.59-1.43-.59-.52 0-1.04.2-1.43.59L10.3 9.45l-7.72 7.72c-.78.78-.78 2.05 0 2.83L4 21.41c.39.39.9.59 1.41.59.51 0 1.02-.2 1.41-.59l7.78-7.78 2.81-2.81c.8-.78.8-2.07 0-2.86zM5.41 20L4 18.59l7.72-7.72 1.47 1.35L5.41 20z\"/>\n",
              "  </svg>\n",
              "      </button>\n",
              "      \n",
              "  <style>\n",
              "    .colab-df-container {\n",
              "      display:flex;\n",
              "      flex-wrap:wrap;\n",
              "      gap: 12px;\n",
              "    }\n",
              "\n",
              "    .colab-df-convert {\n",
              "      background-color: #E8F0FE;\n",
              "      border: none;\n",
              "      border-radius: 50%;\n",
              "      cursor: pointer;\n",
              "      display: none;\n",
              "      fill: #1967D2;\n",
              "      height: 32px;\n",
              "      padding: 0 0 0 0;\n",
              "      width: 32px;\n",
              "    }\n",
              "\n",
              "    .colab-df-convert:hover {\n",
              "      background-color: #E2EBFA;\n",
              "      box-shadow: 0px 1px 2px rgba(60, 64, 67, 0.3), 0px 1px 3px 1px rgba(60, 64, 67, 0.15);\n",
              "      fill: #174EA6;\n",
              "    }\n",
              "\n",
              "    [theme=dark] .colab-df-convert {\n",
              "      background-color: #3B4455;\n",
              "      fill: #D2E3FC;\n",
              "    }\n",
              "\n",
              "    [theme=dark] .colab-df-convert:hover {\n",
              "      background-color: #434B5C;\n",
              "      box-shadow: 0px 1px 3px 1px rgba(0, 0, 0, 0.15);\n",
              "      filter: drop-shadow(0px 1px 2px rgba(0, 0, 0, 0.3));\n",
              "      fill: #FFFFFF;\n",
              "    }\n",
              "  </style>\n",
              "\n",
              "      <script>\n",
              "        const buttonEl =\n",
              "          document.querySelector('#df-9dd5757c-f3b8-4e9b-8c7e-04efcef86cf0 button.colab-df-convert');\n",
              "        buttonEl.style.display =\n",
              "          google.colab.kernel.accessAllowed ? 'block' : 'none';\n",
              "\n",
              "        async function convertToInteractive(key) {\n",
              "          const element = document.querySelector('#df-9dd5757c-f3b8-4e9b-8c7e-04efcef86cf0');\n",
              "          const dataTable =\n",
              "            await google.colab.kernel.invokeFunction('convertToInteractive',\n",
              "                                                     [key], {});\n",
              "          if (!dataTable) return;\n",
              "\n",
              "          const docLinkHtml = 'Like what you see? Visit the ' +\n",
              "            '<a target=\"_blank\" href=https://colab.research.google.com/notebooks/data_table.ipynb>data table notebook</a>'\n",
              "            + ' to learn more about interactive tables.';\n",
              "          element.innerHTML = '';\n",
              "          dataTable['output_type'] = 'display_data';\n",
              "          await google.colab.output.renderOutput(dataTable, element);\n",
              "          const docLink = document.createElement('div');\n",
              "          docLink.innerHTML = docLinkHtml;\n",
              "          element.appendChild(docLink);\n",
              "        }\n",
              "      </script>\n",
              "    </div>\n",
              "  </div>\n",
              "  "
            ]
          },
          "metadata": {},
          "execution_count": 39
        }
      ],
      "source": [
        "# Let's look at the values in the column\n",
        "df_income_type_value = df.pivot_table(index='income_type', values='days_employed', aggfunc= 'count')\n",
        "df_income_type_value"
      ]
    },
    {
      "cell_type": "markdown",
      "metadata": {
        "id": "N4Asl-0Of9PG"
      },
      "source": [
        "There is no problem with the `income_type` column"
      ]
    },
    {
      "cell_type": "markdown",
      "source": [
        "### 2.3. Checking Duplicates"
      ],
      "metadata": {
        "id": "xKEid7pjyLRl"
      }
    },
    {
      "cell_type": "code",
      "execution_count": null,
      "metadata": {
        "id": "DPU90tqXf9PJ",
        "colab": {
          "base_uri": "https://localhost:8080/"
        },
        "outputId": "404baeef-ffcd-4fe8-98e4-ea00de484377"
      },
      "outputs": [
        {
          "output_type": "stream",
          "name": "stdout",
          "text": [
            "72\n",
            "\n",
            "Distribution of duplicate values by: 0.33%\n"
          ]
        }
      ],
      "source": [
        "# Checking for duplicates\n",
        "print(df.duplicated().sum())\n",
        "print()\n",
        "df_duplicated_percent = df.duplicated().sum() / df.shape[0] \n",
        "print(f'Distribution of duplicate values by: {df_duplicated_percent:.2%}')"
      ]
    },
    {
      "cell_type": "markdown",
      "metadata": {
        "id": "6HTl2LULf9PI"
      },
      "source": [
        "There are duplicate values of `72` or only `0.3%` in the dataset, so we decide to 'drop` for duplicate values because these values are still acceptable."
      ]
    },
    {
      "cell_type": "code",
      "execution_count": null,
      "metadata": {
        "id": "2-yTxVYtf9PK"
      },
      "outputs": [],
      "source": [
        "# Address duplicates, if any\n",
        "df = df.drop_duplicates().reset_index(drop=True)"
      ]
    },
    {
      "cell_type": "code",
      "execution_count": null,
      "metadata": {
        "id": "SBlO7Cbif9PK",
        "colab": {
          "base_uri": "https://localhost:8080/"
        },
        "outputId": "0a66c2ce-80e7-4a21-a31a-eafa8ba598a1"
      },
      "outputs": [
        {
          "output_type": "execute_result",
          "data": {
            "text/plain": [
              "0"
            ]
          },
          "metadata": {},
          "execution_count": 42
        }
      ],
      "source": [
        "# Finally check if we have duplicates\n",
        "df.duplicated().sum()"
      ]
    },
    {
      "cell_type": "code",
      "execution_count": null,
      "metadata": {
        "id": "rtpYrD-Wf9PL",
        "colab": {
          "base_uri": "https://localhost:8080/"
        },
        "outputId": "ba450ab9-649b-4954-b100-9bff1e4a319b"
      },
      "outputs": [
        {
          "output_type": "execute_result",
          "data": {
            "text/plain": [
              "(21452, 12)"
            ]
          },
          "metadata": {},
          "execution_count": 43
        }
      ],
      "source": [
        "# Check the size of the dataset you now have after the first manipulation you performed\n",
        "df.shape"
      ]
    },
    {
      "cell_type": "code",
      "execution_count": null,
      "metadata": {
        "id": "NPSCRet2f9PL",
        "colab": {
          "base_uri": "https://localhost:8080/"
        },
        "outputId": "f397e9bd-9a4a-4d75-8cf7-4b37ef1023b2"
      },
      "outputs": [
        {
          "output_type": "stream",
          "name": "stdout",
          "text": [
            "The percentage of change in the dataset is: 0.34%\n"
          ]
        }
      ],
      "source": [
        "# return the ratio of old and new data\n",
        "old_df_shape = 21525\n",
        "df_shape_percentage = (old_df_shape - df.shape[0]) / old_df_shape\n",
        "print(f'The percentage of change in the dataset is: {df_shape_percentage:.2%}')"
      ]
    },
    {
      "cell_type": "markdown",
      "metadata": {
        "id": "AJAoCMPaf9PM"
      },
      "source": [
        "We've fixed some issues in the dataset, such as:\n",
        "1. Negative and overestimated values in the `days_employed` column.\n",
        "2. Irregular register in the `education` column.\n",
        "3. Remove duplicate values.\n",
        "4. Some problems occurred in the `children` and `gender` columns.\n",
        "\n",
        "So we get a change of `0.34%`, which means that this value has no significant impact on the dataset because it is less than `1%`."
      ]
    },
    {
      "cell_type": "markdown",
      "metadata": {
        "id": "h8DWab5Jf9PM"
      },
      "source": [
        "### 2.4. Work with Missing Values"
      ]
    },
    {
      "cell_type": "markdown",
      "metadata": {
        "id": "hviObyXCf9PN"
      },
      "source": [
        "We include the `numpy` dictionary to speed up our work which will be used to `replace` the value `0` in the `days_employed` column after creating several age categories."
      ]
    },
    {
      "cell_type": "code",
      "execution_count": null,
      "metadata": {
        "id": "5Sk98ULff9PN"
      },
      "outputs": [],
      "source": [
        "# Import dictionary\n",
        "import numpy as np"
      ]
    },
    {
      "cell_type": "markdown",
      "metadata": {
        "id": "kmfC7wCtf9PO"
      },
      "source": [
        "#### 2.4.1. Fixed Missing Values in `total_income`"
      ]
    },
    {
      "cell_type": "markdown",
      "metadata": {
        "id": "oPXC0ueMf9PO"
      },
      "source": [
        "We will start to work out the missing values in the `total_income` column.\n",
        "\n",
        "We will first create several categories based on the age range from the `dob_years` column, which hopefully will help us find the average value of each age range which we will use to fill in the missing values for each category."
      ]
    },
    {
      "cell_type": "code",
      "execution_count": null,
      "metadata": {
        "id": "Ic-FQiLyf9PO"
      },
      "outputs": [],
      "source": [
        "# Write a function to calculate age categories\n",
        "def age_group(age):\n",
        " \n",
        "    if age <= 30:\n",
        "        return '19-30'\n",
        "    elif age <= 40:\n",
        "        return '31-40'\n",
        "    elif age <= 50:\n",
        "        return '41-50'\n",
        "    elif age <= 60:\n",
        "        return '51-60'\n",
        "    else:\n",
        "        return '+60'"
      ]
    },
    {
      "cell_type": "code",
      "execution_count": null,
      "metadata": {
        "id": "IMzQOQZRf9PP",
        "colab": {
          "base_uri": "https://localhost:8080/"
        },
        "outputId": "19a787a7-3601-4057-b8cf-a26f721dad84"
      },
      "outputs": [
        {
          "output_type": "stream",
          "name": "stdout",
          "text": [
            "19-30\n",
            "31-40\n",
            "41-50\n",
            "51-60\n",
            "+60\n"
          ]
        }
      ],
      "source": [
        "# Test whether the function works or not\n",
        "print(age_group(23))\n",
        "print(age_group(38))\n",
        "print(age_group(46))\n",
        "print(age_group(55))\n",
        "print(age_group(70))"
      ]
    },
    {
      "cell_type": "code",
      "execution_count": null,
      "metadata": {
        "id": "3NTYt8hIf9PQ"
      },
      "outputs": [],
      "source": [
        "# Create new column based on function\n",
        "df['age_group'] = df['dob_years'].apply(age_group)"
      ]
    },
    {
      "cell_type": "code",
      "execution_count": null,
      "metadata": {
        "id": "Nwu4lSqAf9PQ",
        "colab": {
          "base_uri": "https://localhost:8080/",
          "height": 635
        },
        "outputId": "6819c660-b58f-42e2-a1c4-b5081b4e6732"
      },
      "outputs": [
        {
          "output_type": "execute_result",
          "data": {
            "text/plain": [
              "       children  days_employed  dob_years            education  education_id  \\\n",
              "21442         1     467.685130         28  secondary education             1   \n",
              "21443         0     914.391429         42    bachelor's degree             0   \n",
              "21444         0     404.679034         42    bachelor's degree             0   \n",
              "21445         0       0.000000         59  secondary education             1   \n",
              "21446         1    2351.431934         37      graduate degree             4   \n",
              "21447         1    4529.316663         43  secondary education             1   \n",
              "21448         0       0.000000         67  secondary education             1   \n",
              "21449         1    2113.346888         38  secondary education             1   \n",
              "21450         3    3112.481705         38  secondary education             1   \n",
              "21451         2    1984.507589         40  secondary education             1   \n",
              "\n",
              "           family_status  family_status_id gender income_type  debt  \\\n",
              "21442            married                 0      F    employee     1   \n",
              "21443            married                 0      F    business     0   \n",
              "21444  civil partnership                 1      F    business     0   \n",
              "21445            married                 0      F     retiree     0   \n",
              "21446           divorced                 3      M    employee     0   \n",
              "21447  civil partnership                 1      F    business     0   \n",
              "21448            married                 0      F     retiree     0   \n",
              "21449  civil partnership                 1      M    employee     1   \n",
              "21450            married                 0      M    employee     1   \n",
              "21451            married                 0      F    employee     0   \n",
              "\n",
              "       total_income                     purpose age_group  \n",
              "21442     17517.812          to become educated     19-30  \n",
              "21443     51649.244    purchase of my own house     41-50  \n",
              "21444     28489.529           buying my own car     41-50  \n",
              "21445     24618.344           purchase of a car     51-60  \n",
              "21446     18551.846  buy commercial real estate     31-40  \n",
              "21447     35966.698        housing transactions     41-50  \n",
              "21448     24959.969           purchase of a car       +60  \n",
              "21449     14347.610                    property     31-40  \n",
              "21450     39054.888           buying my own car     31-40  \n",
              "21451     13127.587                to buy a car     31-40  "
            ],
            "text/html": [
              "\n",
              "  <div id=\"df-2184438a-4574-4d9a-8f71-4f109a601b18\">\n",
              "    <div class=\"colab-df-container\">\n",
              "      <div>\n",
              "<style scoped>\n",
              "    .dataframe tbody tr th:only-of-type {\n",
              "        vertical-align: middle;\n",
              "    }\n",
              "\n",
              "    .dataframe tbody tr th {\n",
              "        vertical-align: top;\n",
              "    }\n",
              "\n",
              "    .dataframe thead th {\n",
              "        text-align: right;\n",
              "    }\n",
              "</style>\n",
              "<table border=\"1\" class=\"dataframe\">\n",
              "  <thead>\n",
              "    <tr style=\"text-align: right;\">\n",
              "      <th></th>\n",
              "      <th>children</th>\n",
              "      <th>days_employed</th>\n",
              "      <th>dob_years</th>\n",
              "      <th>education</th>\n",
              "      <th>education_id</th>\n",
              "      <th>family_status</th>\n",
              "      <th>family_status_id</th>\n",
              "      <th>gender</th>\n",
              "      <th>income_type</th>\n",
              "      <th>debt</th>\n",
              "      <th>total_income</th>\n",
              "      <th>purpose</th>\n",
              "      <th>age_group</th>\n",
              "    </tr>\n",
              "  </thead>\n",
              "  <tbody>\n",
              "    <tr>\n",
              "      <th>21442</th>\n",
              "      <td>1</td>\n",
              "      <td>467.685130</td>\n",
              "      <td>28</td>\n",
              "      <td>secondary education</td>\n",
              "      <td>1</td>\n",
              "      <td>married</td>\n",
              "      <td>0</td>\n",
              "      <td>F</td>\n",
              "      <td>employee</td>\n",
              "      <td>1</td>\n",
              "      <td>17517.812</td>\n",
              "      <td>to become educated</td>\n",
              "      <td>19-30</td>\n",
              "    </tr>\n",
              "    <tr>\n",
              "      <th>21443</th>\n",
              "      <td>0</td>\n",
              "      <td>914.391429</td>\n",
              "      <td>42</td>\n",
              "      <td>bachelor's degree</td>\n",
              "      <td>0</td>\n",
              "      <td>married</td>\n",
              "      <td>0</td>\n",
              "      <td>F</td>\n",
              "      <td>business</td>\n",
              "      <td>0</td>\n",
              "      <td>51649.244</td>\n",
              "      <td>purchase of my own house</td>\n",
              "      <td>41-50</td>\n",
              "    </tr>\n",
              "    <tr>\n",
              "      <th>21444</th>\n",
              "      <td>0</td>\n",
              "      <td>404.679034</td>\n",
              "      <td>42</td>\n",
              "      <td>bachelor's degree</td>\n",
              "      <td>0</td>\n",
              "      <td>civil partnership</td>\n",
              "      <td>1</td>\n",
              "      <td>F</td>\n",
              "      <td>business</td>\n",
              "      <td>0</td>\n",
              "      <td>28489.529</td>\n",
              "      <td>buying my own car</td>\n",
              "      <td>41-50</td>\n",
              "    </tr>\n",
              "    <tr>\n",
              "      <th>21445</th>\n",
              "      <td>0</td>\n",
              "      <td>0.000000</td>\n",
              "      <td>59</td>\n",
              "      <td>secondary education</td>\n",
              "      <td>1</td>\n",
              "      <td>married</td>\n",
              "      <td>0</td>\n",
              "      <td>F</td>\n",
              "      <td>retiree</td>\n",
              "      <td>0</td>\n",
              "      <td>24618.344</td>\n",
              "      <td>purchase of a car</td>\n",
              "      <td>51-60</td>\n",
              "    </tr>\n",
              "    <tr>\n",
              "      <th>21446</th>\n",
              "      <td>1</td>\n",
              "      <td>2351.431934</td>\n",
              "      <td>37</td>\n",
              "      <td>graduate degree</td>\n",
              "      <td>4</td>\n",
              "      <td>divorced</td>\n",
              "      <td>3</td>\n",
              "      <td>M</td>\n",
              "      <td>employee</td>\n",
              "      <td>0</td>\n",
              "      <td>18551.846</td>\n",
              "      <td>buy commercial real estate</td>\n",
              "      <td>31-40</td>\n",
              "    </tr>\n",
              "    <tr>\n",
              "      <th>21447</th>\n",
              "      <td>1</td>\n",
              "      <td>4529.316663</td>\n",
              "      <td>43</td>\n",
              "      <td>secondary education</td>\n",
              "      <td>1</td>\n",
              "      <td>civil partnership</td>\n",
              "      <td>1</td>\n",
              "      <td>F</td>\n",
              "      <td>business</td>\n",
              "      <td>0</td>\n",
              "      <td>35966.698</td>\n",
              "      <td>housing transactions</td>\n",
              "      <td>41-50</td>\n",
              "    </tr>\n",
              "    <tr>\n",
              "      <th>21448</th>\n",
              "      <td>0</td>\n",
              "      <td>0.000000</td>\n",
              "      <td>67</td>\n",
              "      <td>secondary education</td>\n",
              "      <td>1</td>\n",
              "      <td>married</td>\n",
              "      <td>0</td>\n",
              "      <td>F</td>\n",
              "      <td>retiree</td>\n",
              "      <td>0</td>\n",
              "      <td>24959.969</td>\n",
              "      <td>purchase of a car</td>\n",
              "      <td>+60</td>\n",
              "    </tr>\n",
              "    <tr>\n",
              "      <th>21449</th>\n",
              "      <td>1</td>\n",
              "      <td>2113.346888</td>\n",
              "      <td>38</td>\n",
              "      <td>secondary education</td>\n",
              "      <td>1</td>\n",
              "      <td>civil partnership</td>\n",
              "      <td>1</td>\n",
              "      <td>M</td>\n",
              "      <td>employee</td>\n",
              "      <td>1</td>\n",
              "      <td>14347.610</td>\n",
              "      <td>property</td>\n",
              "      <td>31-40</td>\n",
              "    </tr>\n",
              "    <tr>\n",
              "      <th>21450</th>\n",
              "      <td>3</td>\n",
              "      <td>3112.481705</td>\n",
              "      <td>38</td>\n",
              "      <td>secondary education</td>\n",
              "      <td>1</td>\n",
              "      <td>married</td>\n",
              "      <td>0</td>\n",
              "      <td>M</td>\n",
              "      <td>employee</td>\n",
              "      <td>1</td>\n",
              "      <td>39054.888</td>\n",
              "      <td>buying my own car</td>\n",
              "      <td>31-40</td>\n",
              "    </tr>\n",
              "    <tr>\n",
              "      <th>21451</th>\n",
              "      <td>2</td>\n",
              "      <td>1984.507589</td>\n",
              "      <td>40</td>\n",
              "      <td>secondary education</td>\n",
              "      <td>1</td>\n",
              "      <td>married</td>\n",
              "      <td>0</td>\n",
              "      <td>F</td>\n",
              "      <td>employee</td>\n",
              "      <td>0</td>\n",
              "      <td>13127.587</td>\n",
              "      <td>to buy a car</td>\n",
              "      <td>31-40</td>\n",
              "    </tr>\n",
              "  </tbody>\n",
              "</table>\n",
              "</div>\n",
              "      <button class=\"colab-df-convert\" onclick=\"convertToInteractive('df-2184438a-4574-4d9a-8f71-4f109a601b18')\"\n",
              "              title=\"Convert this dataframe to an interactive table.\"\n",
              "              style=\"display:none;\">\n",
              "        \n",
              "  <svg xmlns=\"http://www.w3.org/2000/svg\" height=\"24px\"viewBox=\"0 0 24 24\"\n",
              "       width=\"24px\">\n",
              "    <path d=\"M0 0h24v24H0V0z\" fill=\"none\"/>\n",
              "    <path d=\"M18.56 5.44l.94 2.06.94-2.06 2.06-.94-2.06-.94-.94-2.06-.94 2.06-2.06.94zm-11 1L8.5 8.5l.94-2.06 2.06-.94-2.06-.94L8.5 2.5l-.94 2.06-2.06.94zm10 10l.94 2.06.94-2.06 2.06-.94-2.06-.94-.94-2.06-.94 2.06-2.06.94z\"/><path d=\"M17.41 7.96l-1.37-1.37c-.4-.4-.92-.59-1.43-.59-.52 0-1.04.2-1.43.59L10.3 9.45l-7.72 7.72c-.78.78-.78 2.05 0 2.83L4 21.41c.39.39.9.59 1.41.59.51 0 1.02-.2 1.41-.59l7.78-7.78 2.81-2.81c.8-.78.8-2.07 0-2.86zM5.41 20L4 18.59l7.72-7.72 1.47 1.35L5.41 20z\"/>\n",
              "  </svg>\n",
              "      </button>\n",
              "      \n",
              "  <style>\n",
              "    .colab-df-container {\n",
              "      display:flex;\n",
              "      flex-wrap:wrap;\n",
              "      gap: 12px;\n",
              "    }\n",
              "\n",
              "    .colab-df-convert {\n",
              "      background-color: #E8F0FE;\n",
              "      border: none;\n",
              "      border-radius: 50%;\n",
              "      cursor: pointer;\n",
              "      display: none;\n",
              "      fill: #1967D2;\n",
              "      height: 32px;\n",
              "      padding: 0 0 0 0;\n",
              "      width: 32px;\n",
              "    }\n",
              "\n",
              "    .colab-df-convert:hover {\n",
              "      background-color: #E2EBFA;\n",
              "      box-shadow: 0px 1px 2px rgba(60, 64, 67, 0.3), 0px 1px 3px 1px rgba(60, 64, 67, 0.15);\n",
              "      fill: #174EA6;\n",
              "    }\n",
              "\n",
              "    [theme=dark] .colab-df-convert {\n",
              "      background-color: #3B4455;\n",
              "      fill: #D2E3FC;\n",
              "    }\n",
              "\n",
              "    [theme=dark] .colab-df-convert:hover {\n",
              "      background-color: #434B5C;\n",
              "      box-shadow: 0px 1px 3px 1px rgba(0, 0, 0, 0.15);\n",
              "      filter: drop-shadow(0px 1px 2px rgba(0, 0, 0, 0.3));\n",
              "      fill: #FFFFFF;\n",
              "    }\n",
              "  </style>\n",
              "\n",
              "      <script>\n",
              "        const buttonEl =\n",
              "          document.querySelector('#df-2184438a-4574-4d9a-8f71-4f109a601b18 button.colab-df-convert');\n",
              "        buttonEl.style.display =\n",
              "          google.colab.kernel.accessAllowed ? 'block' : 'none';\n",
              "\n",
              "        async function convertToInteractive(key) {\n",
              "          const element = document.querySelector('#df-2184438a-4574-4d9a-8f71-4f109a601b18');\n",
              "          const dataTable =\n",
              "            await google.colab.kernel.invokeFunction('convertToInteractive',\n",
              "                                                     [key], {});\n",
              "          if (!dataTable) return;\n",
              "\n",
              "          const docLinkHtml = 'Like what you see? Visit the ' +\n",
              "            '<a target=\"_blank\" href=https://colab.research.google.com/notebooks/data_table.ipynb>data table notebook</a>'\n",
              "            + ' to learn more about interactive tables.';\n",
              "          element.innerHTML = '';\n",
              "          dataTable['output_type'] = 'display_data';\n",
              "          await google.colab.output.renderOutput(dataTable, element);\n",
              "          const docLink = document.createElement('div');\n",
              "          docLink.innerHTML = docLinkHtml;\n",
              "          element.appendChild(docLink);\n",
              "        }\n",
              "      </script>\n",
              "    </div>\n",
              "  </div>\n",
              "  "
            ]
          },
          "metadata": {},
          "execution_count": 49
        }
      ],
      "source": [
        "# Memeriksa bagaimana nilai di dalam kolom baru\n",
        "df.tail(10)"
      ]
    },
    {
      "cell_type": "markdown",
      "metadata": {
        "id": "fI8-yTlMf9PR"
      },
      "source": [
        "- Some factors that can affect income include `education`, `days_employed` (work experience in days), and `income_type` (type of work).\n",
        "- To determine whether we will use the `mean` or `median` to fill in the missing values, we conduct a deeper exploration to find out how the distribution of the `mean` and `median` values based on the categories we group is normally distributed or not."
      ]
    },
    {
      "cell_type": "code",
      "execution_count": null,
      "metadata": {
        "id": "jfkd0rhWf9PR",
        "colab": {
          "base_uri": "https://localhost:8080/",
          "height": 618
        },
        "outputId": "b816ca73-735f-49d2-86d6-6ab367face62"
      },
      "outputs": [
        {
          "output_type": "execute_result",
          "data": {
            "text/plain": [
              "   children  days_employed  dob_years            education  education_id  \\\n",
              "0         1    8437.673028         42    bachelor's degree             0   \n",
              "1         1    4024.803754         36  secondary education             1   \n",
              "2         0    5623.422610         33  secondary education             1   \n",
              "3         3    4124.747207         32  secondary education             1   \n",
              "4         0       0.000000         53  secondary education             1   \n",
              "5         0     926.185831         27    bachelor's degree             0   \n",
              "6         0    2879.202052         43    bachelor's degree             0   \n",
              "7         0     152.779569         50  secondary education             1   \n",
              "8         2    6929.865299         35    bachelor's degree             0   \n",
              "9         0    2188.756445         41  secondary education             1   \n",
              "\n",
              "       family_status  family_status_id gender income_type  debt  total_income  \\\n",
              "0            married                 0      F    employee     0     40620.102   \n",
              "1            married                 0      F    employee     0     17932.802   \n",
              "2            married                 0      M    employee     0     23341.752   \n",
              "3            married                 0      M    employee     0     42820.568   \n",
              "4  civil partnership                 1      F     retiree     0     25378.572   \n",
              "5  civil partnership                 1      M    business     0     40922.170   \n",
              "6            married                 0      F    business     0     38484.156   \n",
              "7            married                 0      M    employee     0     21731.829   \n",
              "8  civil partnership                 1      F    employee     0     15337.093   \n",
              "9            married                 0      M    employee     0     23108.150   \n",
              "\n",
              "                               purpose age_group  \n",
              "0                purchase of the house     41-50  \n",
              "1                         car purchase     31-40  \n",
              "2                purchase of the house     31-40  \n",
              "3              supplementary education     31-40  \n",
              "4                    to have a wedding     51-60  \n",
              "5                purchase of the house     19-30  \n",
              "6                 housing transactions     41-50  \n",
              "7                            education     41-50  \n",
              "8                     having a wedding     31-40  \n",
              "9  purchase of the house for my family     41-50  "
            ],
            "text/html": [
              "\n",
              "  <div id=\"df-a7c955a9-4bdb-4312-97b3-bbd3c6a44094\">\n",
              "    <div class=\"colab-df-container\">\n",
              "      <div>\n",
              "<style scoped>\n",
              "    .dataframe tbody tr th:only-of-type {\n",
              "        vertical-align: middle;\n",
              "    }\n",
              "\n",
              "    .dataframe tbody tr th {\n",
              "        vertical-align: top;\n",
              "    }\n",
              "\n",
              "    .dataframe thead th {\n",
              "        text-align: right;\n",
              "    }\n",
              "</style>\n",
              "<table border=\"1\" class=\"dataframe\">\n",
              "  <thead>\n",
              "    <tr style=\"text-align: right;\">\n",
              "      <th></th>\n",
              "      <th>children</th>\n",
              "      <th>days_employed</th>\n",
              "      <th>dob_years</th>\n",
              "      <th>education</th>\n",
              "      <th>education_id</th>\n",
              "      <th>family_status</th>\n",
              "      <th>family_status_id</th>\n",
              "      <th>gender</th>\n",
              "      <th>income_type</th>\n",
              "      <th>debt</th>\n",
              "      <th>total_income</th>\n",
              "      <th>purpose</th>\n",
              "      <th>age_group</th>\n",
              "    </tr>\n",
              "  </thead>\n",
              "  <tbody>\n",
              "    <tr>\n",
              "      <th>0</th>\n",
              "      <td>1</td>\n",
              "      <td>8437.673028</td>\n",
              "      <td>42</td>\n",
              "      <td>bachelor's degree</td>\n",
              "      <td>0</td>\n",
              "      <td>married</td>\n",
              "      <td>0</td>\n",
              "      <td>F</td>\n",
              "      <td>employee</td>\n",
              "      <td>0</td>\n",
              "      <td>40620.102</td>\n",
              "      <td>purchase of the house</td>\n",
              "      <td>41-50</td>\n",
              "    </tr>\n",
              "    <tr>\n",
              "      <th>1</th>\n",
              "      <td>1</td>\n",
              "      <td>4024.803754</td>\n",
              "      <td>36</td>\n",
              "      <td>secondary education</td>\n",
              "      <td>1</td>\n",
              "      <td>married</td>\n",
              "      <td>0</td>\n",
              "      <td>F</td>\n",
              "      <td>employee</td>\n",
              "      <td>0</td>\n",
              "      <td>17932.802</td>\n",
              "      <td>car purchase</td>\n",
              "      <td>31-40</td>\n",
              "    </tr>\n",
              "    <tr>\n",
              "      <th>2</th>\n",
              "      <td>0</td>\n",
              "      <td>5623.422610</td>\n",
              "      <td>33</td>\n",
              "      <td>secondary education</td>\n",
              "      <td>1</td>\n",
              "      <td>married</td>\n",
              "      <td>0</td>\n",
              "      <td>M</td>\n",
              "      <td>employee</td>\n",
              "      <td>0</td>\n",
              "      <td>23341.752</td>\n",
              "      <td>purchase of the house</td>\n",
              "      <td>31-40</td>\n",
              "    </tr>\n",
              "    <tr>\n",
              "      <th>3</th>\n",
              "      <td>3</td>\n",
              "      <td>4124.747207</td>\n",
              "      <td>32</td>\n",
              "      <td>secondary education</td>\n",
              "      <td>1</td>\n",
              "      <td>married</td>\n",
              "      <td>0</td>\n",
              "      <td>M</td>\n",
              "      <td>employee</td>\n",
              "      <td>0</td>\n",
              "      <td>42820.568</td>\n",
              "      <td>supplementary education</td>\n",
              "      <td>31-40</td>\n",
              "    </tr>\n",
              "    <tr>\n",
              "      <th>4</th>\n",
              "      <td>0</td>\n",
              "      <td>0.000000</td>\n",
              "      <td>53</td>\n",
              "      <td>secondary education</td>\n",
              "      <td>1</td>\n",
              "      <td>civil partnership</td>\n",
              "      <td>1</td>\n",
              "      <td>F</td>\n",
              "      <td>retiree</td>\n",
              "      <td>0</td>\n",
              "      <td>25378.572</td>\n",
              "      <td>to have a wedding</td>\n",
              "      <td>51-60</td>\n",
              "    </tr>\n",
              "    <tr>\n",
              "      <th>5</th>\n",
              "      <td>0</td>\n",
              "      <td>926.185831</td>\n",
              "      <td>27</td>\n",
              "      <td>bachelor's degree</td>\n",
              "      <td>0</td>\n",
              "      <td>civil partnership</td>\n",
              "      <td>1</td>\n",
              "      <td>M</td>\n",
              "      <td>business</td>\n",
              "      <td>0</td>\n",
              "      <td>40922.170</td>\n",
              "      <td>purchase of the house</td>\n",
              "      <td>19-30</td>\n",
              "    </tr>\n",
              "    <tr>\n",
              "      <th>6</th>\n",
              "      <td>0</td>\n",
              "      <td>2879.202052</td>\n",
              "      <td>43</td>\n",
              "      <td>bachelor's degree</td>\n",
              "      <td>0</td>\n",
              "      <td>married</td>\n",
              "      <td>0</td>\n",
              "      <td>F</td>\n",
              "      <td>business</td>\n",
              "      <td>0</td>\n",
              "      <td>38484.156</td>\n",
              "      <td>housing transactions</td>\n",
              "      <td>41-50</td>\n",
              "    </tr>\n",
              "    <tr>\n",
              "      <th>7</th>\n",
              "      <td>0</td>\n",
              "      <td>152.779569</td>\n",
              "      <td>50</td>\n",
              "      <td>secondary education</td>\n",
              "      <td>1</td>\n",
              "      <td>married</td>\n",
              "      <td>0</td>\n",
              "      <td>M</td>\n",
              "      <td>employee</td>\n",
              "      <td>0</td>\n",
              "      <td>21731.829</td>\n",
              "      <td>education</td>\n",
              "      <td>41-50</td>\n",
              "    </tr>\n",
              "    <tr>\n",
              "      <th>8</th>\n",
              "      <td>2</td>\n",
              "      <td>6929.865299</td>\n",
              "      <td>35</td>\n",
              "      <td>bachelor's degree</td>\n",
              "      <td>0</td>\n",
              "      <td>civil partnership</td>\n",
              "      <td>1</td>\n",
              "      <td>F</td>\n",
              "      <td>employee</td>\n",
              "      <td>0</td>\n",
              "      <td>15337.093</td>\n",
              "      <td>having a wedding</td>\n",
              "      <td>31-40</td>\n",
              "    </tr>\n",
              "    <tr>\n",
              "      <th>9</th>\n",
              "      <td>0</td>\n",
              "      <td>2188.756445</td>\n",
              "      <td>41</td>\n",
              "      <td>secondary education</td>\n",
              "      <td>1</td>\n",
              "      <td>married</td>\n",
              "      <td>0</td>\n",
              "      <td>M</td>\n",
              "      <td>employee</td>\n",
              "      <td>0</td>\n",
              "      <td>23108.150</td>\n",
              "      <td>purchase of the house for my family</td>\n",
              "      <td>41-50</td>\n",
              "    </tr>\n",
              "  </tbody>\n",
              "</table>\n",
              "</div>\n",
              "      <button class=\"colab-df-convert\" onclick=\"convertToInteractive('df-a7c955a9-4bdb-4312-97b3-bbd3c6a44094')\"\n",
              "              title=\"Convert this dataframe to an interactive table.\"\n",
              "              style=\"display:none;\">\n",
              "        \n",
              "  <svg xmlns=\"http://www.w3.org/2000/svg\" height=\"24px\"viewBox=\"0 0 24 24\"\n",
              "       width=\"24px\">\n",
              "    <path d=\"M0 0h24v24H0V0z\" fill=\"none\"/>\n",
              "    <path d=\"M18.56 5.44l.94 2.06.94-2.06 2.06-.94-2.06-.94-.94-2.06-.94 2.06-2.06.94zm-11 1L8.5 8.5l.94-2.06 2.06-.94-2.06-.94L8.5 2.5l-.94 2.06-2.06.94zm10 10l.94 2.06.94-2.06 2.06-.94-2.06-.94-.94-2.06-.94 2.06-2.06.94z\"/><path d=\"M17.41 7.96l-1.37-1.37c-.4-.4-.92-.59-1.43-.59-.52 0-1.04.2-1.43.59L10.3 9.45l-7.72 7.72c-.78.78-.78 2.05 0 2.83L4 21.41c.39.39.9.59 1.41.59.51 0 1.02-.2 1.41-.59l7.78-7.78 2.81-2.81c.8-.78.8-2.07 0-2.86zM5.41 20L4 18.59l7.72-7.72 1.47 1.35L5.41 20z\"/>\n",
              "  </svg>\n",
              "      </button>\n",
              "      \n",
              "  <style>\n",
              "    .colab-df-container {\n",
              "      display:flex;\n",
              "      flex-wrap:wrap;\n",
              "      gap: 12px;\n",
              "    }\n",
              "\n",
              "    .colab-df-convert {\n",
              "      background-color: #E8F0FE;\n",
              "      border: none;\n",
              "      border-radius: 50%;\n",
              "      cursor: pointer;\n",
              "      display: none;\n",
              "      fill: #1967D2;\n",
              "      height: 32px;\n",
              "      padding: 0 0 0 0;\n",
              "      width: 32px;\n",
              "    }\n",
              "\n",
              "    .colab-df-convert:hover {\n",
              "      background-color: #E2EBFA;\n",
              "      box-shadow: 0px 1px 2px rgba(60, 64, 67, 0.3), 0px 1px 3px 1px rgba(60, 64, 67, 0.15);\n",
              "      fill: #174EA6;\n",
              "    }\n",
              "\n",
              "    [theme=dark] .colab-df-convert {\n",
              "      background-color: #3B4455;\n",
              "      fill: #D2E3FC;\n",
              "    }\n",
              "\n",
              "    [theme=dark] .colab-df-convert:hover {\n",
              "      background-color: #434B5C;\n",
              "      box-shadow: 0px 1px 3px 1px rgba(0, 0, 0, 0.15);\n",
              "      filter: drop-shadow(0px 1px 2px rgba(0, 0, 0, 0.3));\n",
              "      fill: #FFFFFF;\n",
              "    }\n",
              "  </style>\n",
              "\n",
              "      <script>\n",
              "        const buttonEl =\n",
              "          document.querySelector('#df-a7c955a9-4bdb-4312-97b3-bbd3c6a44094 button.colab-df-convert');\n",
              "        buttonEl.style.display =\n",
              "          google.colab.kernel.accessAllowed ? 'block' : 'none';\n",
              "\n",
              "        async function convertToInteractive(key) {\n",
              "          const element = document.querySelector('#df-a7c955a9-4bdb-4312-97b3-bbd3c6a44094');\n",
              "          const dataTable =\n",
              "            await google.colab.kernel.invokeFunction('convertToInteractive',\n",
              "                                                     [key], {});\n",
              "          if (!dataTable) return;\n",
              "\n",
              "          const docLinkHtml = 'Like what you see? Visit the ' +\n",
              "            '<a target=\"_blank\" href=https://colab.research.google.com/notebooks/data_table.ipynb>data table notebook</a>'\n",
              "            + ' to learn more about interactive tables.';\n",
              "          element.innerHTML = '';\n",
              "          dataTable['output_type'] = 'display_data';\n",
              "          await google.colab.output.renderOutput(dataTable, element);\n",
              "          const docLink = document.createElement('div');\n",
              "          docLink.innerHTML = docLinkHtml;\n",
              "          element.appendChild(docLink);\n",
              "        }\n",
              "      </script>\n",
              "    </div>\n",
              "  </div>\n",
              "  "
            ]
          },
          "metadata": {},
          "execution_count": 50
        }
      ],
      "source": [
        "# Create a table without missing values and display some of its rows\n",
        "df_clean = df[df.notna()]\n",
        "df_clean.head(10)"
      ]
    },
    {
      "cell_type": "code",
      "execution_count": null,
      "metadata": {
        "id": "MEbLMv_4f9PR",
        "colab": {
          "base_uri": "https://localhost:8080/"
        },
        "outputId": "06806f3b-e04b-48ef-94ad-03d212c5f3f4"
      },
      "outputs": [
        {
          "output_type": "execute_result",
          "data": {
            "text/plain": [
              "age_group\n",
              "+60      23057.777452\n",
              "19-30    25815.651899\n",
              "31-40    28376.735148\n",
              "41-50    28332.806009\n",
              "51-60    25482.856294\n",
              "Name: total_income, dtype: float64"
            ]
          },
          "metadata": {},
          "execution_count": 51
        }
      ],
      "source": [
        "# Display the 'mean' value of 'total_income' based on 'age_group'\n",
        "df_clean.groupby(['age_group'])['total_income'].mean()"
      ]
    },
    {
      "cell_type": "code",
      "execution_count": null,
      "metadata": {
        "id": "jHKIVa9xf9PS",
        "scrolled": true,
        "colab": {
          "base_uri": "https://localhost:8080/"
        },
        "outputId": "4dc28424-a85b-4c2d-e2cc-951c4da50a46"
      },
      "outputs": [
        {
          "output_type": "execute_result",
          "data": {
            "text/plain": [
              "age_group\n",
              "+60      19637.0560\n",
              "19-30    22955.4740\n",
              "31-40    24825.1865\n",
              "41-50    24563.6500\n",
              "51-60    22056.7710\n",
              "Name: total_income, dtype: float64"
            ]
          },
          "metadata": {},
          "execution_count": 52
        }
      ],
      "source": [
        "# Display the 'median' value of 'total_income' by 'age_group'\n",
        "df_clean.groupby(['age_group'])['total_income'].median()"
      ]
    },
    {
      "cell_type": "markdown",
      "metadata": {
        "id": "2nC-Zk_Tf9PT"
      },
      "source": [
        "The `mean` category-based average income has a larger average for each category, so I will choose the `median` because it better represents the category average by age group."
      ]
    },
    {
      "cell_type": "code",
      "execution_count": null,
      "metadata": {
        "id": "MPd4mYQQf9PU"
      },
      "outputs": [],
      "source": [
        "# It's time we fill in the missing values\n",
        "df['total_income'] = df.groupby(['age_group'])['total_income'].transform(lambda x: x.fillna(x.median()))"
      ]
    },
    {
      "cell_type": "code",
      "execution_count": null,
      "metadata": {
        "id": "wX2XZdgCf9PV",
        "colab": {
          "base_uri": "https://localhost:8080/"
        },
        "outputId": "ab7fe9c6-89bb-4178-ebb5-6f69b7f341f4"
      },
      "outputs": [
        {
          "output_type": "execute_result",
          "data": {
            "text/plain": [
              "count     21452.000000\n",
              "mean      26447.583422\n",
              "std       15690.140709\n",
              "min        3306.762000\n",
              "25%       17217.441750\n",
              "50%       23234.038000\n",
              "75%       31328.693750\n",
              "max      362496.645000\n",
              "Name: total_income, dtype: float64"
            ]
          },
          "metadata": {},
          "execution_count": 54
        }
      ],
      "source": [
        "# Check descriptive statistics of 'total_income'\n",
        "df['total_income'].describe()"
      ]
    },
    {
      "cell_type": "code",
      "execution_count": null,
      "metadata": {
        "id": "EByuY4VXf9PV",
        "scrolled": true,
        "colab": {
          "base_uri": "https://localhost:8080/"
        },
        "outputId": "4c325b23-9e4e-41d1-92a0-a880adddebed"
      },
      "outputs": [
        {
          "output_type": "execute_result",
          "data": {
            "text/plain": [
              "0"
            ]
          },
          "metadata": {},
          "execution_count": 55
        }
      ],
      "source": [
        "# Check if missing values are filled\n",
        "df['total_income'].isna().sum()"
      ]
    },
    {
      "cell_type": "markdown",
      "metadata": {
        "id": "ZYOcSUmHf9PV"
      },
      "source": [
        "It is known that the missing data has not been filled in the `total_income` column because we have not entered the value from the new column that we created to replace the missing value from that column. To fill in the column, we will replace it with the `fillna` method of the new column we created, namely `total_revenue`."
      ]
    },
    {
      "cell_type": "markdown",
      "metadata": {
        "id": "5JRVIkXqf9PW"
      },
      "source": [
        "As we can see, there are no missing values from the `total_income` column.\n",
        "Time to check if the sum of the `total_income` columns is the same as the other columns."
      ]
    },
    {
      "cell_type": "code",
      "execution_count": null,
      "metadata": {
        "id": "cS7MgKvEf9PW",
        "colab": {
          "base_uri": "https://localhost:8080/"
        },
        "outputId": "1615575c-58d1-4d58-b020-8a6409e6ae0c"
      },
      "outputs": [
        {
          "output_type": "stream",
          "name": "stdout",
          "text": [
            "<class 'pandas.core.frame.DataFrame'>\n",
            "RangeIndex: 21452 entries, 0 to 21451\n",
            "Data columns (total 13 columns):\n",
            " #   Column            Non-Null Count  Dtype  \n",
            "---  ------            --------------  -----  \n",
            " 0   children          21452 non-null  int64  \n",
            " 1   days_employed     19350 non-null  float64\n",
            " 2   dob_years         21452 non-null  int64  \n",
            " 3   education         21452 non-null  object \n",
            " 4   education_id      21452 non-null  int64  \n",
            " 5   family_status     21452 non-null  object \n",
            " 6   family_status_id  21452 non-null  int64  \n",
            " 7   gender            21452 non-null  object \n",
            " 8   income_type       21452 non-null  object \n",
            " 9   debt              21452 non-null  int64  \n",
            " 10  total_income      21452 non-null  float64\n",
            " 11  purpose           21452 non-null  object \n",
            " 12  age_group         21452 non-null  object \n",
            "dtypes: float64(2), int64(5), object(6)\n",
            "memory usage: 2.1+ MB\n"
          ]
        }
      ],
      "source": [
        "# Checking the number of column entries from the dataset\n",
        "df.info()"
      ]
    },
    {
      "cell_type": "markdown",
      "metadata": {
        "id": "jJ3Bam1lf9PX"
      },
      "source": [
        "- From the information above, the amount in the `total_income` column already has the same value as the other columns.\n",
        "- Next, we will fix the value in the `days_employed` column."
      ]
    },
    {
      "cell_type": "markdown",
      "metadata": {
        "id": "1G6BLS4cf9PX"
      },
      "source": [
        "#### 2.4.2. Fixed the Missing Values in `days_employed`"
      ]
    },
    {
      "cell_type": "markdown",
      "metadata": {
        "id": "zWnN1jeHf9PX"
      },
      "source": [
        "Of course, the most influential factor in the `days_employed` column is the `age_category`. Imagine that it is impossible for someone to work beyond the legal age of a person or even to have work experience beyond their own age; that is impossible."
      ]
    },
    {
      "cell_type": "code",
      "execution_count": null,
      "metadata": {
        "id": "x-ng9lwHf9PY",
        "pycharm": {
          "name": "#%%\n"
        },
        "colab": {
          "base_uri": "https://localhost:8080/"
        },
        "outputId": "20f73810-25a2-4bcf-de34-5500500a44bb"
      },
      "outputs": [
        {
          "output_type": "execute_result",
          "data": {
            "text/plain": [
              "age_group\n",
              "+60         0.000000\n",
              "19-30    1041.692949\n",
              "31-40    1601.812856\n",
              "41-50    1931.819208\n",
              "51-60     551.486703\n",
              "Name: days_employed, dtype: float64"
            ]
          },
          "metadata": {},
          "execution_count": 57
        }
      ],
      "source": [
        "# Display the 'median' value of 'days_employed' by 'age_group'\n",
        "df_clean.groupby(['age_group'])['days_employed'].median()"
      ]
    },
    {
      "cell_type": "code",
      "execution_count": null,
      "metadata": {
        "id": "AFrgELIZf9PY",
        "colab": {
          "base_uri": "https://localhost:8080/"
        },
        "outputId": "de0dc7fe-f7a2-423a-dd1b-11d5cb3a1c7b"
      },
      "outputs": [
        {
          "output_type": "execute_result",
          "data": {
            "text/plain": [
              "age_group\n",
              "+60       799.550825\n",
              "19-30    1276.700146\n",
              "31-40    2075.768902\n",
              "41-50    2685.878763\n",
              "51-60    1937.100928\n",
              "Name: days_employed, dtype: float64"
            ]
          },
          "metadata": {},
          "execution_count": 58
        }
      ],
      "source": [
        "# Display the 'median' value of 'days_employed' by 'age_group'\n",
        "df_clean.groupby(['age_group'])['days_employed'].mean()"
      ]
    },
    {
      "cell_type": "markdown",
      "metadata": {
        "id": "ZqGVidI6f9PZ"
      },
      "source": [
        "We think the `mean` could represent the value for the `days_employed` column, except that `median` has a value of `0`, which may be because we changed the value to be too high in the previous test, but does someone who has reached retirement age have no work experience at all? Or maybe someone with retired experience would count as a `0` value."
      ]
    },
    {
      "cell_type": "code",
      "execution_count": null,
      "metadata": {
        "id": "eX7DXtxxf9PZ"
      },
      "outputs": [],
      "source": [
        "# Time for us to replace the missing values and the '0' value with the average\n",
        "df.loc[df['days_employed'] == 0, 'days_employed'] = np.NaN\n",
        "df['days_employed'] = df.groupby(['age_group'])['days_employed'].transform(lambda x: x.fillna(x.mean()))"
      ]
    },
    {
      "cell_type": "code",
      "execution_count": null,
      "metadata": {
        "id": "dtWcusQLf9PZ",
        "colab": {
          "base_uri": "https://localhost:8080/"
        },
        "outputId": "aba9215e-bae7-4be7-ec9e-e139dba31fb7"
      },
      "outputs": [
        {
          "output_type": "execute_result",
          "data": {
            "text/plain": [
              "count    21452.000000\n",
              "mean      2560.787849\n",
              "std       2049.095043\n",
              "min         24.141633\n",
              "25%       1023.688788\n",
              "50%       2228.980549\n",
              "75%       3332.487952\n",
              "max      18388.949901\n",
              "Name: days_employed, dtype: float64"
            ]
          },
          "metadata": {},
          "execution_count": 60
        }
      ],
      "source": [
        "# Display descriptive statistics of the column 'days_employed'\n",
        "df['days_employed'].describe()"
      ]
    },
    {
      "cell_type": "code",
      "execution_count": null,
      "metadata": {
        "id": "LT63cy_Qf9Pa",
        "colab": {
          "base_uri": "https://localhost:8080/"
        },
        "outputId": "9193b6bf-4525-49f9-b437-829caeaa5af6"
      },
      "outputs": [
        {
          "output_type": "execute_result",
          "data": {
            "text/plain": [
              "0"
            ]
          },
          "metadata": {},
          "execution_count": 61
        }
      ],
      "source": [
        "# Memeriksa apakah nilai yang hilang telah teratasi\n",
        "df['days_employed'].isna().sum()"
      ]
    },
    {
      "cell_type": "markdown",
      "metadata": {
        "id": "9gZLH5Bif9Pa"
      },
      "source": [
        "Checking the number of columns of the entire dataset."
      ]
    },
    {
      "cell_type": "code",
      "execution_count": null,
      "metadata": {
        "id": "u4PKqDC4f9Pa",
        "colab": {
          "base_uri": "https://localhost:8080/"
        },
        "outputId": "3c2d42e1-dd6e-454f-e256-a06a63c9eeb3"
      },
      "outputs": [
        {
          "output_type": "stream",
          "name": "stdout",
          "text": [
            "<class 'pandas.core.frame.DataFrame'>\n",
            "RangeIndex: 21452 entries, 0 to 21451\n",
            "Data columns (total 13 columns):\n",
            " #   Column            Non-Null Count  Dtype  \n",
            "---  ------            --------------  -----  \n",
            " 0   children          21452 non-null  int64  \n",
            " 1   days_employed     21452 non-null  float64\n",
            " 2   dob_years         21452 non-null  int64  \n",
            " 3   education         21452 non-null  object \n",
            " 4   education_id      21452 non-null  int64  \n",
            " 5   family_status     21452 non-null  object \n",
            " 6   family_status_id  21452 non-null  int64  \n",
            " 7   gender            21452 non-null  object \n",
            " 8   income_type       21452 non-null  object \n",
            " 9   debt              21452 non-null  int64  \n",
            " 10  total_income      21452 non-null  float64\n",
            " 11  purpose           21452 non-null  object \n",
            " 12  age_group         21452 non-null  object \n",
            "dtypes: float64(2), int64(5), object(6)\n",
            "memory usage: 2.1+ MB\n"
          ]
        }
      ],
      "source": [
        "# Checking the information of the entire dataset\n",
        "df.info()"
      ]
    },
    {
      "cell_type": "markdown",
      "metadata": {
        "id": "DRkIKpQpf9Pb"
      },
      "source": [
        "All columns, including `days_employed`, have the same value. We value that our work for *data cleansing* has been completed. Let's explore the data further to get interesting things in the data and our reference in making decisions."
      ]
    },
    {
      "cell_type": "markdown",
      "metadata": {
        "id": "R5-x_yR0f9Pb"
      },
      "source": [
        "### 2.5. Data Categorization\n",
        "\n",
        "It seems that we found something interesting in the `purpose` column. That is, we value many data categories, and we can simplify them to be more general so that it will be easier for us to carry out investigations in making decisions."
      ]
    },
    {
      "cell_type": "markdown",
      "source": [
        "#### 2.5.1. Categorizing Data in the `purpose` Column"
      ],
      "metadata": {
        "id": "Q7alM5MJy0Ae"
      }
    },
    {
      "cell_type": "code",
      "execution_count": null,
      "metadata": {
        "id": "iIlzSNYyf9Pc",
        "colab": {
          "base_uri": "https://localhost:8080/"
        },
        "outputId": "6e762ba4-77c7-4728-c2f8-3f8459f804bd"
      },
      "outputs": [
        {
          "output_type": "execute_result",
          "data": {
            "text/plain": [
              "wedding ceremony                            791\n",
              "having a wedding                            767\n",
              "to have a wedding                           765\n",
              "real estate transactions                    675\n",
              "buy commercial real estate                  661\n",
              "housing transactions                        652\n",
              "buying property for renting out             651\n",
              "transactions with commercial real estate    650\n",
              "purchase of the house                       646\n",
              "housing                                     646\n",
              "purchase of the house for my family         638\n",
              "construction of own property                635\n",
              "property                                    633\n",
              "transactions with my real estate            627\n",
              "building a real estate                      624\n",
              "buy real estate                             620\n",
              "purchase of my own house                    620\n",
              "building a property                         619\n",
              "housing renovation                          607\n",
              "buy residential real estate                 606\n",
              "buying my own car                           505\n",
              "going to university                         496\n",
              "car                                         494\n",
              "second-hand car purchase                    486\n",
              "to own a car                                478\n",
              "buying a second-hand car                    478\n",
              "cars                                        478\n",
              "to buy a car                                471\n",
              "car purchase                                461\n",
              "supplementary education                     460\n",
              "purchase of a car                           455\n",
              "university education                        452\n",
              "education                                   447\n",
              "to get a supplementary education            446\n",
              "getting an education                        442\n",
              "profile education                           436\n",
              "getting higher education                    426\n",
              "to become educated                          408\n",
              "Name: purpose, dtype: int64"
            ]
          },
          "metadata": {},
          "execution_count": 63
        }
      ],
      "source": [
        "# Display a 'purpose' column to categorize with more generality\n",
        "df['purpose'].value_counts()"
      ]
    },
    {
      "cell_type": "markdown",
      "metadata": {
        "id": "bBNZSTxEf9Pc"
      },
      "source": [
        "Checking the `unique` value."
      ]
    },
    {
      "cell_type": "code",
      "execution_count": null,
      "metadata": {
        "id": "j8sYMxSgf9Pc",
        "colab": {
          "base_uri": "https://localhost:8080/"
        },
        "outputId": "171212c5-a35c-4be7-d0ef-2b4ec796fbfc"
      },
      "outputs": [
        {
          "output_type": "execute_result",
          "data": {
            "text/plain": [
              "array(['building a property', 'building a real estate',\n",
              "       'buy commercial real estate', 'buy real estate',\n",
              "       'buy residential real estate', 'buying a second-hand car',\n",
              "       'buying my own car', 'buying property for renting out', 'car',\n",
              "       'car purchase', 'cars', 'construction of own property',\n",
              "       'education', 'getting an education', 'getting higher education',\n",
              "       'going to university', 'having a wedding', 'housing',\n",
              "       'housing renovation', 'housing transactions', 'profile education',\n",
              "       'property', 'purchase of a car', 'purchase of my own house',\n",
              "       'purchase of the house', 'purchase of the house for my family',\n",
              "       'real estate transactions', 'second-hand car purchase',\n",
              "       'supplementary education', 'to become educated', 'to buy a car',\n",
              "       'to get a supplementary education', 'to have a wedding',\n",
              "       'to own a car', 'transactions with commercial real estate',\n",
              "       'transactions with my real estate', 'university education',\n",
              "       'wedding ceremony'], dtype=object)"
            ]
          },
          "metadata": {},
          "execution_count": 64
        }
      ],
      "source": [
        "# Checking for unique values\n",
        "df['purpose'].sort_values().unique()"
      ]
    },
    {
      "cell_type": "markdown",
      "metadata": {
        "id": "V4bOXwrGf9Pd"
      },
      "source": [
        "From our previous observations, the categorization that occurs in the `purpose` column can be generalized into categories that are general and easy to understand, such as `car`, `property`, `education`, and `wedding`. Let's create the function below:"
      ]
    },
    {
      "cell_type": "code",
      "execution_count": null,
      "metadata": {
        "id": "PAeNBIAqf9Pd"
      },
      "outputs": [],
      "source": [
        "# Write a function to categorize data based on common topics\n",
        "def purpose_common(purpose):\n",
        "    \n",
        "    if 'property' in purpose:\n",
        "        return 'property'\n",
        "    elif 'estate' in purpose:\n",
        "        return 'property'\n",
        "    elif 'hous' in purpose:\n",
        "        return 'property'\n",
        "    elif 'car' in purpose:\n",
        "        return 'car'\n",
        "    elif 'educ' in purpose:\n",
        "        return 'education'\n",
        "    elif 'univ' in purpose:\n",
        "        return 'education'\n",
        "    elif 'wedd' in purpose:\n",
        "        return 'wedding'"
      ]
    },
    {
      "cell_type": "code",
      "execution_count": null,
      "metadata": {
        "id": "jkHP1kQHf9Pe",
        "scrolled": true,
        "colab": {
          "base_uri": "https://localhost:8080/"
        },
        "outputId": "3f56585d-f15d-48c0-b540-964c06ebd582"
      },
      "outputs": [
        {
          "output_type": "stream",
          "name": "stdout",
          "text": [
            "property     10810\n",
            "car           4306\n",
            "education     4013\n",
            "wedding       2323\n",
            "Name: general_purpose, dtype: int64\n",
            "\n"
          ]
        },
        {
          "output_type": "execute_result",
          "data": {
            "text/plain": [
              "21452"
            ]
          },
          "metadata": {},
          "execution_count": 66
        }
      ],
      "source": [
        "# Load columns with categories and calculate their values\n",
        "df['general_purpose'] = df['purpose'].apply(purpose_common)\n",
        "print(df['general_purpose'].value_counts())\n",
        "print()\n",
        "df['general_purpose'].count()"
      ]
    },
    {
      "cell_type": "markdown",
      "source": [
        "#### 2.5.2. Categorizing Data in the `total_income` Column"
      ],
      "metadata": {
        "id": "kTVT22SPzOWO"
      }
    },
    {
      "cell_type": "markdown",
      "metadata": {
        "id": "GYf0nW8df9Pe"
      },
      "source": [
        "We will create categories based on `total_income` into several classes."
      ]
    },
    {
      "cell_type": "code",
      "execution_count": null,
      "metadata": {
        "id": "W4nCDCsxf9Pe",
        "colab": {
          "base_uri": "https://localhost:8080/"
        },
        "outputId": "9aca2fbd-3e1a-4277-b3ed-67c95129acfb"
      },
      "outputs": [
        {
          "output_type": "execute_result",
          "data": {
            "text/plain": [
              "3306.762      1\n",
              "3392.845      1\n",
              "3418.824      1\n",
              "3471.216      1\n",
              "3503.298      1\n",
              "             ..\n",
              "273809.483    1\n",
              "274402.943    1\n",
              "276204.162    1\n",
              "352136.354    1\n",
              "362496.645    1\n",
              "Name: total_income, Length: 19348, dtype: int64"
            ]
          },
          "metadata": {},
          "execution_count": 67
        }
      ],
      "source": [
        "# View the 'total_income' column to be categorized\n",
        "df['total_income'].value_counts().sort_index()"
      ]
    },
    {
      "cell_type": "code",
      "execution_count": null,
      "metadata": {
        "id": "KlMNQoLqf9Pf",
        "colab": {
          "base_uri": "https://localhost:8080/"
        },
        "outputId": "2ee1dc18-2ff8-4db9-c03e-c790658b51bc"
      },
      "outputs": [
        {
          "output_type": "execute_result",
          "data": {
            "text/plain": [
              "count     21452.000000\n",
              "mean      26447.583422\n",
              "std       15690.140709\n",
              "min        3306.762000\n",
              "25%       17217.441750\n",
              "50%       23234.038000\n",
              "75%       31328.693750\n",
              "max      362496.645000\n",
              "Name: total_income, dtype: float64"
            ]
          },
          "metadata": {},
          "execution_count": 68
        }
      ],
      "source": [
        "# Get statistical inference for the 'total_income' column\n",
        "df['total_income'].describe()"
      ]
    },
    {
      "cell_type": "markdown",
      "metadata": {
        "id": "cVkKT73zf9Pf"
      },
      "source": [
        "We categorize `total_income` into several categories based on economic level classification. This will facilitate us in the decision-making process in the future. Let's create the function below:"
      ]
    },
    {
      "cell_type": "code",
      "execution_count": null,
      "metadata": {
        "id": "47ihxQVCf9Pf"
      },
      "outputs": [],
      "source": [
        "# Create a function for categorizing into class groups\n",
        "def income_class(total_income):\n",
        " \n",
        "    if total_income <= 32000:\n",
        "        return 'poor'\n",
        "    elif total_income <= 53000:\n",
        "        return 'lower middle class'\n",
        "    elif total_income <= 106000:\n",
        "        return 'middle class'\n",
        "    elif total_income <= 373000:\n",
        "        return 'upper middle class'\n",
        "    else:\n",
        "        return 'rich'"
      ]
    },
    {
      "cell_type": "code",
      "execution_count": null,
      "metadata": {
        "id": "wFlyd0BTf9Pg"
      },
      "outputs": [],
      "source": [
        "# Create a new column with categories\n",
        "df['economic_class'] = df['total_income'].apply(income_class)"
      ]
    },
    {
      "cell_type": "code",
      "execution_count": null,
      "metadata": {
        "id": "3BUeg3Pkf9Pg",
        "scrolled": true,
        "colab": {
          "base_uri": "https://localhost:8080/"
        },
        "outputId": "4861943d-b937-4c0d-e056-b83ebe5224e8"
      },
      "outputs": [
        {
          "output_type": "execute_result",
          "data": {
            "text/plain": [
              "poor                  16387\n",
              "lower middle class     3985\n",
              "middle class           1000\n",
              "upper middle class       80\n",
              "Name: economic_class, dtype: int64"
            ]
          },
          "metadata": {},
          "execution_count": 71
        }
      ],
      "source": [
        "# Calculating the distribution\n",
        "df['economic_class'].value_counts()"
      ]
    },
    {
      "cell_type": "markdown",
      "metadata": {
        "id": "Z-a1SKx5f9Ph"
      },
      "source": [
        "## 3. Answering the Hypothesis"
      ]
    },
    {
      "cell_type": "markdown",
      "metadata": {
        "id": "8Obi_s-Qf9Ph"
      },
      "source": [
        "### 3.1. Is there a relationship between having children and the probability of defaulting on loans?"
      ]
    },
    {
      "cell_type": "code",
      "execution_count": null,
      "metadata": {
        "id": "WaMZS5Bpf9Pi",
        "scrolled": true,
        "colab": {
          "base_uri": "https://localhost:8080/",
          "height": 269
        },
        "outputId": "f9a5a54b-be41-4a1d-d63d-dbaa9571d4c3"
      },
      "outputs": [
        {
          "output_type": "execute_result",
          "data": {
            "text/plain": [
              "debt            0       1\n",
              "children                 \n",
              "0         13026.0  1063.0\n",
              "1          4410.0   445.0\n",
              "2          1926.0   202.0\n",
              "3           303.0    27.0\n",
              "4            37.0     4.0\n",
              "5             9.0     NaN"
            ],
            "text/html": [
              "\n",
              "  <div id=\"df-2b070603-2ba6-4355-9c5d-7eb1fa12fd84\">\n",
              "    <div class=\"colab-df-container\">\n",
              "      <div>\n",
              "<style scoped>\n",
              "    .dataframe tbody tr th:only-of-type {\n",
              "        vertical-align: middle;\n",
              "    }\n",
              "\n",
              "    .dataframe tbody tr th {\n",
              "        vertical-align: top;\n",
              "    }\n",
              "\n",
              "    .dataframe thead th {\n",
              "        text-align: right;\n",
              "    }\n",
              "</style>\n",
              "<table border=\"1\" class=\"dataframe\">\n",
              "  <thead>\n",
              "    <tr style=\"text-align: right;\">\n",
              "      <th>debt</th>\n",
              "      <th>0</th>\n",
              "      <th>1</th>\n",
              "    </tr>\n",
              "    <tr>\n",
              "      <th>children</th>\n",
              "      <th></th>\n",
              "      <th></th>\n",
              "    </tr>\n",
              "  </thead>\n",
              "  <tbody>\n",
              "    <tr>\n",
              "      <th>0</th>\n",
              "      <td>13026.0</td>\n",
              "      <td>1063.0</td>\n",
              "    </tr>\n",
              "    <tr>\n",
              "      <th>1</th>\n",
              "      <td>4410.0</td>\n",
              "      <td>445.0</td>\n",
              "    </tr>\n",
              "    <tr>\n",
              "      <th>2</th>\n",
              "      <td>1926.0</td>\n",
              "      <td>202.0</td>\n",
              "    </tr>\n",
              "    <tr>\n",
              "      <th>3</th>\n",
              "      <td>303.0</td>\n",
              "      <td>27.0</td>\n",
              "    </tr>\n",
              "    <tr>\n",
              "      <th>4</th>\n",
              "      <td>37.0</td>\n",
              "      <td>4.0</td>\n",
              "    </tr>\n",
              "    <tr>\n",
              "      <th>5</th>\n",
              "      <td>9.0</td>\n",
              "      <td>NaN</td>\n",
              "    </tr>\n",
              "  </tbody>\n",
              "</table>\n",
              "</div>\n",
              "      <button class=\"colab-df-convert\" onclick=\"convertToInteractive('df-2b070603-2ba6-4355-9c5d-7eb1fa12fd84')\"\n",
              "              title=\"Convert this dataframe to an interactive table.\"\n",
              "              style=\"display:none;\">\n",
              "        \n",
              "  <svg xmlns=\"http://www.w3.org/2000/svg\" height=\"24px\"viewBox=\"0 0 24 24\"\n",
              "       width=\"24px\">\n",
              "    <path d=\"M0 0h24v24H0V0z\" fill=\"none\"/>\n",
              "    <path d=\"M18.56 5.44l.94 2.06.94-2.06 2.06-.94-2.06-.94-.94-2.06-.94 2.06-2.06.94zm-11 1L8.5 8.5l.94-2.06 2.06-.94-2.06-.94L8.5 2.5l-.94 2.06-2.06.94zm10 10l.94 2.06.94-2.06 2.06-.94-2.06-.94-.94-2.06-.94 2.06-2.06.94z\"/><path d=\"M17.41 7.96l-1.37-1.37c-.4-.4-.92-.59-1.43-.59-.52 0-1.04.2-1.43.59L10.3 9.45l-7.72 7.72c-.78.78-.78 2.05 0 2.83L4 21.41c.39.39.9.59 1.41.59.51 0 1.02-.2 1.41-.59l7.78-7.78 2.81-2.81c.8-.78.8-2.07 0-2.86zM5.41 20L4 18.59l7.72-7.72 1.47 1.35L5.41 20z\"/>\n",
              "  </svg>\n",
              "      </button>\n",
              "      \n",
              "  <style>\n",
              "    .colab-df-container {\n",
              "      display:flex;\n",
              "      flex-wrap:wrap;\n",
              "      gap: 12px;\n",
              "    }\n",
              "\n",
              "    .colab-df-convert {\n",
              "      background-color: #E8F0FE;\n",
              "      border: none;\n",
              "      border-radius: 50%;\n",
              "      cursor: pointer;\n",
              "      display: none;\n",
              "      fill: #1967D2;\n",
              "      height: 32px;\n",
              "      padding: 0 0 0 0;\n",
              "      width: 32px;\n",
              "    }\n",
              "\n",
              "    .colab-df-convert:hover {\n",
              "      background-color: #E2EBFA;\n",
              "      box-shadow: 0px 1px 2px rgba(60, 64, 67, 0.3), 0px 1px 3px 1px rgba(60, 64, 67, 0.15);\n",
              "      fill: #174EA6;\n",
              "    }\n",
              "\n",
              "    [theme=dark] .colab-df-convert {\n",
              "      background-color: #3B4455;\n",
              "      fill: #D2E3FC;\n",
              "    }\n",
              "\n",
              "    [theme=dark] .colab-df-convert:hover {\n",
              "      background-color: #434B5C;\n",
              "      box-shadow: 0px 1px 3px 1px rgba(0, 0, 0, 0.15);\n",
              "      filter: drop-shadow(0px 1px 2px rgba(0, 0, 0, 0.3));\n",
              "      fill: #FFFFFF;\n",
              "    }\n",
              "  </style>\n",
              "\n",
              "      <script>\n",
              "        const buttonEl =\n",
              "          document.querySelector('#df-2b070603-2ba6-4355-9c5d-7eb1fa12fd84 button.colab-df-convert');\n",
              "        buttonEl.style.display =\n",
              "          google.colab.kernel.accessAllowed ? 'block' : 'none';\n",
              "\n",
              "        async function convertToInteractive(key) {\n",
              "          const element = document.querySelector('#df-2b070603-2ba6-4355-9c5d-7eb1fa12fd84');\n",
              "          const dataTable =\n",
              "            await google.colab.kernel.invokeFunction('convertToInteractive',\n",
              "                                                     [key], {});\n",
              "          if (!dataTable) return;\n",
              "\n",
              "          const docLinkHtml = 'Like what you see? Visit the ' +\n",
              "            '<a target=\"_blank\" href=https://colab.research.google.com/notebooks/data_table.ipynb>data table notebook</a>'\n",
              "            + ' to learn more about interactive tables.';\n",
              "          element.innerHTML = '';\n",
              "          dataTable['output_type'] = 'display_data';\n",
              "          await google.colab.output.renderOutput(dataTable, element);\n",
              "          const docLink = document.createElement('div');\n",
              "          docLink.innerHTML = docLinkHtml;\n",
              "          element.appendChild(docLink);\n",
              "        }\n",
              "      </script>\n",
              "    </div>\n",
              "  </div>\n",
              "  "
            ]
          },
          "metadata": {},
          "execution_count": 72
        }
      ],
      "source": [
        "# Checking if the 'children' column affects 'debt'\n",
        "pivot_table_children = df.pivot_table(index='children', columns= 'debt', values='days_employed', aggfunc='count')\n",
        "pivot_table_children"
      ]
    },
    {
      "cell_type": "code",
      "execution_count": null,
      "metadata": {
        "id": "StTPFM96f9Pi",
        "colab": {
          "base_uri": "https://localhost:8080/",
          "height": 269
        },
        "outputId": "9c66663b-507f-49d6-cad7-457364487df6"
      },
      "outputs": [
        {
          "output_type": "execute_result",
          "data": {
            "text/plain": [
              "debt            0       1  percent_1\n",
              "children                            \n",
              "0         13026.0  1063.0   7.544893\n",
              "1          4410.0   445.0   9.165808\n",
              "2          1926.0   202.0   9.492481\n",
              "3           303.0    27.0   8.181818\n",
              "4            37.0     4.0   9.756098\n",
              "5             9.0     NaN        NaN"
            ],
            "text/html": [
              "\n",
              "  <div id=\"df-58d02e0d-1f51-4a28-8f5b-7b4a295232a0\">\n",
              "    <div class=\"colab-df-container\">\n",
              "      <div>\n",
              "<style scoped>\n",
              "    .dataframe tbody tr th:only-of-type {\n",
              "        vertical-align: middle;\n",
              "    }\n",
              "\n",
              "    .dataframe tbody tr th {\n",
              "        vertical-align: top;\n",
              "    }\n",
              "\n",
              "    .dataframe thead th {\n",
              "        text-align: right;\n",
              "    }\n",
              "</style>\n",
              "<table border=\"1\" class=\"dataframe\">\n",
              "  <thead>\n",
              "    <tr style=\"text-align: right;\">\n",
              "      <th>debt</th>\n",
              "      <th>0</th>\n",
              "      <th>1</th>\n",
              "      <th>percent_1</th>\n",
              "    </tr>\n",
              "    <tr>\n",
              "      <th>children</th>\n",
              "      <th></th>\n",
              "      <th></th>\n",
              "      <th></th>\n",
              "    </tr>\n",
              "  </thead>\n",
              "  <tbody>\n",
              "    <tr>\n",
              "      <th>0</th>\n",
              "      <td>13026.0</td>\n",
              "      <td>1063.0</td>\n",
              "      <td>7.544893</td>\n",
              "    </tr>\n",
              "    <tr>\n",
              "      <th>1</th>\n",
              "      <td>4410.0</td>\n",
              "      <td>445.0</td>\n",
              "      <td>9.165808</td>\n",
              "    </tr>\n",
              "    <tr>\n",
              "      <th>2</th>\n",
              "      <td>1926.0</td>\n",
              "      <td>202.0</td>\n",
              "      <td>9.492481</td>\n",
              "    </tr>\n",
              "    <tr>\n",
              "      <th>3</th>\n",
              "      <td>303.0</td>\n",
              "      <td>27.0</td>\n",
              "      <td>8.181818</td>\n",
              "    </tr>\n",
              "    <tr>\n",
              "      <th>4</th>\n",
              "      <td>37.0</td>\n",
              "      <td>4.0</td>\n",
              "      <td>9.756098</td>\n",
              "    </tr>\n",
              "    <tr>\n",
              "      <th>5</th>\n",
              "      <td>9.0</td>\n",
              "      <td>NaN</td>\n",
              "      <td>NaN</td>\n",
              "    </tr>\n",
              "  </tbody>\n",
              "</table>\n",
              "</div>\n",
              "      <button class=\"colab-df-convert\" onclick=\"convertToInteractive('df-58d02e0d-1f51-4a28-8f5b-7b4a295232a0')\"\n",
              "              title=\"Convert this dataframe to an interactive table.\"\n",
              "              style=\"display:none;\">\n",
              "        \n",
              "  <svg xmlns=\"http://www.w3.org/2000/svg\" height=\"24px\"viewBox=\"0 0 24 24\"\n",
              "       width=\"24px\">\n",
              "    <path d=\"M0 0h24v24H0V0z\" fill=\"none\"/>\n",
              "    <path d=\"M18.56 5.44l.94 2.06.94-2.06 2.06-.94-2.06-.94-.94-2.06-.94 2.06-2.06.94zm-11 1L8.5 8.5l.94-2.06 2.06-.94-2.06-.94L8.5 2.5l-.94 2.06-2.06.94zm10 10l.94 2.06.94-2.06 2.06-.94-2.06-.94-.94-2.06-.94 2.06-2.06.94z\"/><path d=\"M17.41 7.96l-1.37-1.37c-.4-.4-.92-.59-1.43-.59-.52 0-1.04.2-1.43.59L10.3 9.45l-7.72 7.72c-.78.78-.78 2.05 0 2.83L4 21.41c.39.39.9.59 1.41.59.51 0 1.02-.2 1.41-.59l7.78-7.78 2.81-2.81c.8-.78.8-2.07 0-2.86zM5.41 20L4 18.59l7.72-7.72 1.47 1.35L5.41 20z\"/>\n",
              "  </svg>\n",
              "      </button>\n",
              "      \n",
              "  <style>\n",
              "    .colab-df-container {\n",
              "      display:flex;\n",
              "      flex-wrap:wrap;\n",
              "      gap: 12px;\n",
              "    }\n",
              "\n",
              "    .colab-df-convert {\n",
              "      background-color: #E8F0FE;\n",
              "      border: none;\n",
              "      border-radius: 50%;\n",
              "      cursor: pointer;\n",
              "      display: none;\n",
              "      fill: #1967D2;\n",
              "      height: 32px;\n",
              "      padding: 0 0 0 0;\n",
              "      width: 32px;\n",
              "    }\n",
              "\n",
              "    .colab-df-convert:hover {\n",
              "      background-color: #E2EBFA;\n",
              "      box-shadow: 0px 1px 2px rgba(60, 64, 67, 0.3), 0px 1px 3px 1px rgba(60, 64, 67, 0.15);\n",
              "      fill: #174EA6;\n",
              "    }\n",
              "\n",
              "    [theme=dark] .colab-df-convert {\n",
              "      background-color: #3B4455;\n",
              "      fill: #D2E3FC;\n",
              "    }\n",
              "\n",
              "    [theme=dark] .colab-df-convert:hover {\n",
              "      background-color: #434B5C;\n",
              "      box-shadow: 0px 1px 3px 1px rgba(0, 0, 0, 0.15);\n",
              "      filter: drop-shadow(0px 1px 2px rgba(0, 0, 0, 0.3));\n",
              "      fill: #FFFFFF;\n",
              "    }\n",
              "  </style>\n",
              "\n",
              "      <script>\n",
              "        const buttonEl =\n",
              "          document.querySelector('#df-58d02e0d-1f51-4a28-8f5b-7b4a295232a0 button.colab-df-convert');\n",
              "        buttonEl.style.display =\n",
              "          google.colab.kernel.accessAllowed ? 'block' : 'none';\n",
              "\n",
              "        async function convertToInteractive(key) {\n",
              "          const element = document.querySelector('#df-58d02e0d-1f51-4a28-8f5b-7b4a295232a0');\n",
              "          const dataTable =\n",
              "            await google.colab.kernel.invokeFunction('convertToInteractive',\n",
              "                                                     [key], {});\n",
              "          if (!dataTable) return;\n",
              "\n",
              "          const docLinkHtml = 'Like what you see? Visit the ' +\n",
              "            '<a target=\"_blank\" href=https://colab.research.google.com/notebooks/data_table.ipynb>data table notebook</a>'\n",
              "            + ' to learn more about interactive tables.';\n",
              "          element.innerHTML = '';\n",
              "          dataTable['output_type'] = 'display_data';\n",
              "          await google.colab.output.renderOutput(dataTable, element);\n",
              "          const docLink = document.createElement('div');\n",
              "          docLink.innerHTML = docLinkHtml;\n",
              "          element.appendChild(docLink);\n",
              "        }\n",
              "      </script>\n",
              "    </div>\n",
              "  </div>\n",
              "  "
            ]
          },
          "metadata": {},
          "execution_count": 73
        }
      ],
      "source": [
        "# Checking percentages to get conclusions\n",
        "pivot_table_children['percent_1'] = pivot_table_children[1] / (pivot_table_children[1] + pivot_table_children[0]) * 100\n",
        "pivot_table_children"
      ]
    },
    {
      "cell_type": "markdown",
      "metadata": {
        "id": "ruAsg5w0f9Pj"
      },
      "source": [
        "**Conclusion**\n",
        "\n",
        "From the data above, we find that:\n",
        "1. Clients who have `1` to `4` children have almost the same percentage at `8%` to `9%`.\n",
        "2. Clients who have `5` children do not have loan payment debts, but we cannot use them as a reference because the data is too small.\n",
        "3. Clients who **don't** have children have the lowest ratio for loan repayments of `7%`. This may be because they have fewer dependents than clients with children.\n",
        "\n",
        "This will certainly make it easier for us to make decisions in providing credit to clients who do not have children because of their ability to pay off their credit."
      ]
    },
    {
      "cell_type": "markdown",
      "metadata": {
        "id": "P3sJMUaBf9Pk"
      },
      "source": [
        "### 3.2. Is there a correlation between family status and paying back on time?"
      ]
    },
    {
      "cell_type": "code",
      "execution_count": null,
      "metadata": {
        "id": "YwS6q2Cnf9Pk",
        "scrolled": true,
        "colab": {
          "base_uri": "https://localhost:8080/",
          "height": 238
        },
        "outputId": "8bb8a2cc-e4b4-4887-a2e7-f6bde588866a"
      },
      "outputs": [
        {
          "output_type": "execute_result",
          "data": {
            "text/plain": [
              "debt                   0    1\n",
              "family_status                \n",
              "civil partnership   3761  388\n",
              "divorced            1110   85\n",
              "married            11408  931\n",
              "unmarried           2536  274\n",
              "widow / widower      896   63"
            ],
            "text/html": [
              "\n",
              "  <div id=\"df-f5bb2ccc-699b-4ba3-a385-417868e458a6\">\n",
              "    <div class=\"colab-df-container\">\n",
              "      <div>\n",
              "<style scoped>\n",
              "    .dataframe tbody tr th:only-of-type {\n",
              "        vertical-align: middle;\n",
              "    }\n",
              "\n",
              "    .dataframe tbody tr th {\n",
              "        vertical-align: top;\n",
              "    }\n",
              "\n",
              "    .dataframe thead th {\n",
              "        text-align: right;\n",
              "    }\n",
              "</style>\n",
              "<table border=\"1\" class=\"dataframe\">\n",
              "  <thead>\n",
              "    <tr style=\"text-align: right;\">\n",
              "      <th>debt</th>\n",
              "      <th>0</th>\n",
              "      <th>1</th>\n",
              "    </tr>\n",
              "    <tr>\n",
              "      <th>family_status</th>\n",
              "      <th></th>\n",
              "      <th></th>\n",
              "    </tr>\n",
              "  </thead>\n",
              "  <tbody>\n",
              "    <tr>\n",
              "      <th>civil partnership</th>\n",
              "      <td>3761</td>\n",
              "      <td>388</td>\n",
              "    </tr>\n",
              "    <tr>\n",
              "      <th>divorced</th>\n",
              "      <td>1110</td>\n",
              "      <td>85</td>\n",
              "    </tr>\n",
              "    <tr>\n",
              "      <th>married</th>\n",
              "      <td>11408</td>\n",
              "      <td>931</td>\n",
              "    </tr>\n",
              "    <tr>\n",
              "      <th>unmarried</th>\n",
              "      <td>2536</td>\n",
              "      <td>274</td>\n",
              "    </tr>\n",
              "    <tr>\n",
              "      <th>widow / widower</th>\n",
              "      <td>896</td>\n",
              "      <td>63</td>\n",
              "    </tr>\n",
              "  </tbody>\n",
              "</table>\n",
              "</div>\n",
              "      <button class=\"colab-df-convert\" onclick=\"convertToInteractive('df-f5bb2ccc-699b-4ba3-a385-417868e458a6')\"\n",
              "              title=\"Convert this dataframe to an interactive table.\"\n",
              "              style=\"display:none;\">\n",
              "        \n",
              "  <svg xmlns=\"http://www.w3.org/2000/svg\" height=\"24px\"viewBox=\"0 0 24 24\"\n",
              "       width=\"24px\">\n",
              "    <path d=\"M0 0h24v24H0V0z\" fill=\"none\"/>\n",
              "    <path d=\"M18.56 5.44l.94 2.06.94-2.06 2.06-.94-2.06-.94-.94-2.06-.94 2.06-2.06.94zm-11 1L8.5 8.5l.94-2.06 2.06-.94-2.06-.94L8.5 2.5l-.94 2.06-2.06.94zm10 10l.94 2.06.94-2.06 2.06-.94-2.06-.94-.94-2.06-.94 2.06-2.06.94z\"/><path d=\"M17.41 7.96l-1.37-1.37c-.4-.4-.92-.59-1.43-.59-.52 0-1.04.2-1.43.59L10.3 9.45l-7.72 7.72c-.78.78-.78 2.05 0 2.83L4 21.41c.39.39.9.59 1.41.59.51 0 1.02-.2 1.41-.59l7.78-7.78 2.81-2.81c.8-.78.8-2.07 0-2.86zM5.41 20L4 18.59l7.72-7.72 1.47 1.35L5.41 20z\"/>\n",
              "  </svg>\n",
              "      </button>\n",
              "      \n",
              "  <style>\n",
              "    .colab-df-container {\n",
              "      display:flex;\n",
              "      flex-wrap:wrap;\n",
              "      gap: 12px;\n",
              "    }\n",
              "\n",
              "    .colab-df-convert {\n",
              "      background-color: #E8F0FE;\n",
              "      border: none;\n",
              "      border-radius: 50%;\n",
              "      cursor: pointer;\n",
              "      display: none;\n",
              "      fill: #1967D2;\n",
              "      height: 32px;\n",
              "      padding: 0 0 0 0;\n",
              "      width: 32px;\n",
              "    }\n",
              "\n",
              "    .colab-df-convert:hover {\n",
              "      background-color: #E2EBFA;\n",
              "      box-shadow: 0px 1px 2px rgba(60, 64, 67, 0.3), 0px 1px 3px 1px rgba(60, 64, 67, 0.15);\n",
              "      fill: #174EA6;\n",
              "    }\n",
              "\n",
              "    [theme=dark] .colab-df-convert {\n",
              "      background-color: #3B4455;\n",
              "      fill: #D2E3FC;\n",
              "    }\n",
              "\n",
              "    [theme=dark] .colab-df-convert:hover {\n",
              "      background-color: #434B5C;\n",
              "      box-shadow: 0px 1px 3px 1px rgba(0, 0, 0, 0.15);\n",
              "      filter: drop-shadow(0px 1px 2px rgba(0, 0, 0, 0.3));\n",
              "      fill: #FFFFFF;\n",
              "    }\n",
              "  </style>\n",
              "\n",
              "      <script>\n",
              "        const buttonEl =\n",
              "          document.querySelector('#df-f5bb2ccc-699b-4ba3-a385-417868e458a6 button.colab-df-convert');\n",
              "        buttonEl.style.display =\n",
              "          google.colab.kernel.accessAllowed ? 'block' : 'none';\n",
              "\n",
              "        async function convertToInteractive(key) {\n",
              "          const element = document.querySelector('#df-f5bb2ccc-699b-4ba3-a385-417868e458a6');\n",
              "          const dataTable =\n",
              "            await google.colab.kernel.invokeFunction('convertToInteractive',\n",
              "                                                     [key], {});\n",
              "          if (!dataTable) return;\n",
              "\n",
              "          const docLinkHtml = 'Like what you see? Visit the ' +\n",
              "            '<a target=\"_blank\" href=https://colab.research.google.com/notebooks/data_table.ipynb>data table notebook</a>'\n",
              "            + ' to learn more about interactive tables.';\n",
              "          element.innerHTML = '';\n",
              "          dataTable['output_type'] = 'display_data';\n",
              "          await google.colab.output.renderOutput(dataTable, element);\n",
              "          const docLink = document.createElement('div');\n",
              "          docLink.innerHTML = docLinkHtml;\n",
              "          element.appendChild(docLink);\n",
              "        }\n",
              "      </script>\n",
              "    </div>\n",
              "  </div>\n",
              "  "
            ]
          },
          "metadata": {},
          "execution_count": 74
        }
      ],
      "source": [
        "# Checking the 'family_status' data affects the 'debt' column\n",
        "pivot_table_family_status = df.pivot_table(index='family_status', columns= 'debt', values='days_employed', aggfunc='count')\n",
        "pivot_table_family_status"
      ]
    },
    {
      "cell_type": "code",
      "execution_count": null,
      "metadata": {
        "id": "NlwDiaTlf9Pl",
        "colab": {
          "base_uri": "https://localhost:8080/",
          "height": 238
        },
        "outputId": "4f538ac5-8018-47a3-999e-58f888ea70a2"
      },
      "outputs": [
        {
          "output_type": "execute_result",
          "data": {
            "text/plain": [
              "debt                   0    1  percent_1\n",
              "family_status                           \n",
              "civil partnership   3761  388   9.351651\n",
              "divorced            1110   85   7.112971\n",
              "married            11408  931   7.545182\n",
              "unmarried           2536  274   9.750890\n",
              "widow / widower      896   63   6.569343"
            ],
            "text/html": [
              "\n",
              "  <div id=\"df-4251ff4d-767c-4cb0-a997-ba47111d028a\">\n",
              "    <div class=\"colab-df-container\">\n",
              "      <div>\n",
              "<style scoped>\n",
              "    .dataframe tbody tr th:only-of-type {\n",
              "        vertical-align: middle;\n",
              "    }\n",
              "\n",
              "    .dataframe tbody tr th {\n",
              "        vertical-align: top;\n",
              "    }\n",
              "\n",
              "    .dataframe thead th {\n",
              "        text-align: right;\n",
              "    }\n",
              "</style>\n",
              "<table border=\"1\" class=\"dataframe\">\n",
              "  <thead>\n",
              "    <tr style=\"text-align: right;\">\n",
              "      <th>debt</th>\n",
              "      <th>0</th>\n",
              "      <th>1</th>\n",
              "      <th>percent_1</th>\n",
              "    </tr>\n",
              "    <tr>\n",
              "      <th>family_status</th>\n",
              "      <th></th>\n",
              "      <th></th>\n",
              "      <th></th>\n",
              "    </tr>\n",
              "  </thead>\n",
              "  <tbody>\n",
              "    <tr>\n",
              "      <th>civil partnership</th>\n",
              "      <td>3761</td>\n",
              "      <td>388</td>\n",
              "      <td>9.351651</td>\n",
              "    </tr>\n",
              "    <tr>\n",
              "      <th>divorced</th>\n",
              "      <td>1110</td>\n",
              "      <td>85</td>\n",
              "      <td>7.112971</td>\n",
              "    </tr>\n",
              "    <tr>\n",
              "      <th>married</th>\n",
              "      <td>11408</td>\n",
              "      <td>931</td>\n",
              "      <td>7.545182</td>\n",
              "    </tr>\n",
              "    <tr>\n",
              "      <th>unmarried</th>\n",
              "      <td>2536</td>\n",
              "      <td>274</td>\n",
              "      <td>9.750890</td>\n",
              "    </tr>\n",
              "    <tr>\n",
              "      <th>widow / widower</th>\n",
              "      <td>896</td>\n",
              "      <td>63</td>\n",
              "      <td>6.569343</td>\n",
              "    </tr>\n",
              "  </tbody>\n",
              "</table>\n",
              "</div>\n",
              "      <button class=\"colab-df-convert\" onclick=\"convertToInteractive('df-4251ff4d-767c-4cb0-a997-ba47111d028a')\"\n",
              "              title=\"Convert this dataframe to an interactive table.\"\n",
              "              style=\"display:none;\">\n",
              "        \n",
              "  <svg xmlns=\"http://www.w3.org/2000/svg\" height=\"24px\"viewBox=\"0 0 24 24\"\n",
              "       width=\"24px\">\n",
              "    <path d=\"M0 0h24v24H0V0z\" fill=\"none\"/>\n",
              "    <path d=\"M18.56 5.44l.94 2.06.94-2.06 2.06-.94-2.06-.94-.94-2.06-.94 2.06-2.06.94zm-11 1L8.5 8.5l.94-2.06 2.06-.94-2.06-.94L8.5 2.5l-.94 2.06-2.06.94zm10 10l.94 2.06.94-2.06 2.06-.94-2.06-.94-.94-2.06-.94 2.06-2.06.94z\"/><path d=\"M17.41 7.96l-1.37-1.37c-.4-.4-.92-.59-1.43-.59-.52 0-1.04.2-1.43.59L10.3 9.45l-7.72 7.72c-.78.78-.78 2.05 0 2.83L4 21.41c.39.39.9.59 1.41.59.51 0 1.02-.2 1.41-.59l7.78-7.78 2.81-2.81c.8-.78.8-2.07 0-2.86zM5.41 20L4 18.59l7.72-7.72 1.47 1.35L5.41 20z\"/>\n",
              "  </svg>\n",
              "      </button>\n",
              "      \n",
              "  <style>\n",
              "    .colab-df-container {\n",
              "      display:flex;\n",
              "      flex-wrap:wrap;\n",
              "      gap: 12px;\n",
              "    }\n",
              "\n",
              "    .colab-df-convert {\n",
              "      background-color: #E8F0FE;\n",
              "      border: none;\n",
              "      border-radius: 50%;\n",
              "      cursor: pointer;\n",
              "      display: none;\n",
              "      fill: #1967D2;\n",
              "      height: 32px;\n",
              "      padding: 0 0 0 0;\n",
              "      width: 32px;\n",
              "    }\n",
              "\n",
              "    .colab-df-convert:hover {\n",
              "      background-color: #E2EBFA;\n",
              "      box-shadow: 0px 1px 2px rgba(60, 64, 67, 0.3), 0px 1px 3px 1px rgba(60, 64, 67, 0.15);\n",
              "      fill: #174EA6;\n",
              "    }\n",
              "\n",
              "    [theme=dark] .colab-df-convert {\n",
              "      background-color: #3B4455;\n",
              "      fill: #D2E3FC;\n",
              "    }\n",
              "\n",
              "    [theme=dark] .colab-df-convert:hover {\n",
              "      background-color: #434B5C;\n",
              "      box-shadow: 0px 1px 3px 1px rgba(0, 0, 0, 0.15);\n",
              "      filter: drop-shadow(0px 1px 2px rgba(0, 0, 0, 0.3));\n",
              "      fill: #FFFFFF;\n",
              "    }\n",
              "  </style>\n",
              "\n",
              "      <script>\n",
              "        const buttonEl =\n",
              "          document.querySelector('#df-4251ff4d-767c-4cb0-a997-ba47111d028a button.colab-df-convert');\n",
              "        buttonEl.style.display =\n",
              "          google.colab.kernel.accessAllowed ? 'block' : 'none';\n",
              "\n",
              "        async function convertToInteractive(key) {\n",
              "          const element = document.querySelector('#df-4251ff4d-767c-4cb0-a997-ba47111d028a');\n",
              "          const dataTable =\n",
              "            await google.colab.kernel.invokeFunction('convertToInteractive',\n",
              "                                                     [key], {});\n",
              "          if (!dataTable) return;\n",
              "\n",
              "          const docLinkHtml = 'Like what you see? Visit the ' +\n",
              "            '<a target=\"_blank\" href=https://colab.research.google.com/notebooks/data_table.ipynb>data table notebook</a>'\n",
              "            + ' to learn more about interactive tables.';\n",
              "          element.innerHTML = '';\n",
              "          dataTable['output_type'] = 'display_data';\n",
              "          await google.colab.output.renderOutput(dataTable, element);\n",
              "          const docLink = document.createElement('div');\n",
              "          docLink.innerHTML = docLinkHtml;\n",
              "          element.appendChild(docLink);\n",
              "        }\n",
              "      </script>\n",
              "    </div>\n",
              "  </div>\n",
              "  "
            ]
          },
          "metadata": {},
          "execution_count": 75
        }
      ],
      "source": [
        "# Calculate the ratio to find the conclusion\n",
        "pivot_table_family_status['percent_1'] = pivot_table_family_status[1] / (pivot_table_family_status[1] + pivot_table_family_status[0]) * 100\n",
        "pivot_table_family_status"
      ]
    },
    {
      "cell_type": "markdown",
      "metadata": {
        "id": "ASHHWT_Af9Pm"
      },
      "source": [
        "**Conclusion**\n",
        "\n",
        "There are some interesting things that we find here:\n",
        "1. Clients who are `unmarried` and in `civil partnership` have a fairly high percentage of `9%`.\n",
        "2. Clients who are `divorced` and `married` have a ratio of `7%`, which means it is smaller than clients who are not married. Is it because they can combine income with their partners? This is inversely proportional to the previous test that clients who do not have children have a smaller percentage of debt, considering that someone married has a tendency to have children.\n",
        "3. Clients with `widow/widower` status have the smallest debt percentage of `6%`. Are we going to consider status as a basis for decision-making?"
      ]
    },
    {
      "cell_type": "markdown",
      "metadata": {
        "id": "0dru-vduf9Pm"
      },
      "source": [
        "### 3.3. Is there a correlation between income levels and paying back on time?"
      ]
    },
    {
      "cell_type": "code",
      "execution_count": null,
      "metadata": {
        "id": "d1RerwyAf9Pn",
        "scrolled": false,
        "colab": {
          "base_uri": "https://localhost:8080/",
          "height": 206
        },
        "outputId": "6214cd3f-bde1-4c9e-8b46-01c8d5aa47a3"
      },
      "outputs": [
        {
          "output_type": "execute_result",
          "data": {
            "text/plain": [
              "debt                    0     1\n",
              "economic_class                 \n",
              "lower middle class   3704   281\n",
              "middle class          928    72\n",
              "poor                15004  1383\n",
              "upper middle class     75     5"
            ],
            "text/html": [
              "\n",
              "  <div id=\"df-b123f498-a8ea-46fa-920e-0d4703900718\">\n",
              "    <div class=\"colab-df-container\">\n",
              "      <div>\n",
              "<style scoped>\n",
              "    .dataframe tbody tr th:only-of-type {\n",
              "        vertical-align: middle;\n",
              "    }\n",
              "\n",
              "    .dataframe tbody tr th {\n",
              "        vertical-align: top;\n",
              "    }\n",
              "\n",
              "    .dataframe thead th {\n",
              "        text-align: right;\n",
              "    }\n",
              "</style>\n",
              "<table border=\"1\" class=\"dataframe\">\n",
              "  <thead>\n",
              "    <tr style=\"text-align: right;\">\n",
              "      <th>debt</th>\n",
              "      <th>0</th>\n",
              "      <th>1</th>\n",
              "    </tr>\n",
              "    <tr>\n",
              "      <th>economic_class</th>\n",
              "      <th></th>\n",
              "      <th></th>\n",
              "    </tr>\n",
              "  </thead>\n",
              "  <tbody>\n",
              "    <tr>\n",
              "      <th>lower middle class</th>\n",
              "      <td>3704</td>\n",
              "      <td>281</td>\n",
              "    </tr>\n",
              "    <tr>\n",
              "      <th>middle class</th>\n",
              "      <td>928</td>\n",
              "      <td>72</td>\n",
              "    </tr>\n",
              "    <tr>\n",
              "      <th>poor</th>\n",
              "      <td>15004</td>\n",
              "      <td>1383</td>\n",
              "    </tr>\n",
              "    <tr>\n",
              "      <th>upper middle class</th>\n",
              "      <td>75</td>\n",
              "      <td>5</td>\n",
              "    </tr>\n",
              "  </tbody>\n",
              "</table>\n",
              "</div>\n",
              "      <button class=\"colab-df-convert\" onclick=\"convertToInteractive('df-b123f498-a8ea-46fa-920e-0d4703900718')\"\n",
              "              title=\"Convert this dataframe to an interactive table.\"\n",
              "              style=\"display:none;\">\n",
              "        \n",
              "  <svg xmlns=\"http://www.w3.org/2000/svg\" height=\"24px\"viewBox=\"0 0 24 24\"\n",
              "       width=\"24px\">\n",
              "    <path d=\"M0 0h24v24H0V0z\" fill=\"none\"/>\n",
              "    <path d=\"M18.56 5.44l.94 2.06.94-2.06 2.06-.94-2.06-.94-.94-2.06-.94 2.06-2.06.94zm-11 1L8.5 8.5l.94-2.06 2.06-.94-2.06-.94L8.5 2.5l-.94 2.06-2.06.94zm10 10l.94 2.06.94-2.06 2.06-.94-2.06-.94-.94-2.06-.94 2.06-2.06.94z\"/><path d=\"M17.41 7.96l-1.37-1.37c-.4-.4-.92-.59-1.43-.59-.52 0-1.04.2-1.43.59L10.3 9.45l-7.72 7.72c-.78.78-.78 2.05 0 2.83L4 21.41c.39.39.9.59 1.41.59.51 0 1.02-.2 1.41-.59l7.78-7.78 2.81-2.81c.8-.78.8-2.07 0-2.86zM5.41 20L4 18.59l7.72-7.72 1.47 1.35L5.41 20z\"/>\n",
              "  </svg>\n",
              "      </button>\n",
              "      \n",
              "  <style>\n",
              "    .colab-df-container {\n",
              "      display:flex;\n",
              "      flex-wrap:wrap;\n",
              "      gap: 12px;\n",
              "    }\n",
              "\n",
              "    .colab-df-convert {\n",
              "      background-color: #E8F0FE;\n",
              "      border: none;\n",
              "      border-radius: 50%;\n",
              "      cursor: pointer;\n",
              "      display: none;\n",
              "      fill: #1967D2;\n",
              "      height: 32px;\n",
              "      padding: 0 0 0 0;\n",
              "      width: 32px;\n",
              "    }\n",
              "\n",
              "    .colab-df-convert:hover {\n",
              "      background-color: #E2EBFA;\n",
              "      box-shadow: 0px 1px 2px rgba(60, 64, 67, 0.3), 0px 1px 3px 1px rgba(60, 64, 67, 0.15);\n",
              "      fill: #174EA6;\n",
              "    }\n",
              "\n",
              "    [theme=dark] .colab-df-convert {\n",
              "      background-color: #3B4455;\n",
              "      fill: #D2E3FC;\n",
              "    }\n",
              "\n",
              "    [theme=dark] .colab-df-convert:hover {\n",
              "      background-color: #434B5C;\n",
              "      box-shadow: 0px 1px 3px 1px rgba(0, 0, 0, 0.15);\n",
              "      filter: drop-shadow(0px 1px 2px rgba(0, 0, 0, 0.3));\n",
              "      fill: #FFFFFF;\n",
              "    }\n",
              "  </style>\n",
              "\n",
              "      <script>\n",
              "        const buttonEl =\n",
              "          document.querySelector('#df-b123f498-a8ea-46fa-920e-0d4703900718 button.colab-df-convert');\n",
              "        buttonEl.style.display =\n",
              "          google.colab.kernel.accessAllowed ? 'block' : 'none';\n",
              "\n",
              "        async function convertToInteractive(key) {\n",
              "          const element = document.querySelector('#df-b123f498-a8ea-46fa-920e-0d4703900718');\n",
              "          const dataTable =\n",
              "            await google.colab.kernel.invokeFunction('convertToInteractive',\n",
              "                                                     [key], {});\n",
              "          if (!dataTable) return;\n",
              "\n",
              "          const docLinkHtml = 'Like what you see? Visit the ' +\n",
              "            '<a target=\"_blank\" href=https://colab.research.google.com/notebooks/data_table.ipynb>data table notebook</a>'\n",
              "            + ' to learn more about interactive tables.';\n",
              "          element.innerHTML = '';\n",
              "          dataTable['output_type'] = 'display_data';\n",
              "          await google.colab.output.renderOutput(dataTable, element);\n",
              "          const docLink = document.createElement('div');\n",
              "          docLink.innerHTML = docLinkHtml;\n",
              "          element.appendChild(docLink);\n",
              "        }\n",
              "      </script>\n",
              "    </div>\n",
              "  </div>\n",
              "  "
            ]
          },
          "metadata": {},
          "execution_count": 76
        }
      ],
      "source": [
        "# Check if 'economic_class' has a correlation with 'debt'\n",
        "pivot_table_economic_class = df.pivot_table(index='economic_class', columns= 'debt', values='days_employed', aggfunc='count')\n",
        "pivot_table_economic_class"
      ]
    },
    {
      "cell_type": "code",
      "execution_count": null,
      "metadata": {
        "id": "uwRsDBp2f9Pn",
        "colab": {
          "base_uri": "https://localhost:8080/",
          "height": 206
        },
        "outputId": "a1e7744a-bc87-43bd-ce24-7bb200976cb2"
      },
      "outputs": [
        {
          "output_type": "execute_result",
          "data": {
            "text/plain": [
              "debt                    0     1  percent_1\n",
              "economic_class                            \n",
              "lower middle class   3704   281   7.051443\n",
              "middle class          928    72   7.200000\n",
              "poor                15004  1383   8.439617\n",
              "upper middle class     75     5   6.250000"
            ],
            "text/html": [
              "\n",
              "  <div id=\"df-7ce7c6ac-e17d-45e4-b0b4-f9a9c3ba6894\">\n",
              "    <div class=\"colab-df-container\">\n",
              "      <div>\n",
              "<style scoped>\n",
              "    .dataframe tbody tr th:only-of-type {\n",
              "        vertical-align: middle;\n",
              "    }\n",
              "\n",
              "    .dataframe tbody tr th {\n",
              "        vertical-align: top;\n",
              "    }\n",
              "\n",
              "    .dataframe thead th {\n",
              "        text-align: right;\n",
              "    }\n",
              "</style>\n",
              "<table border=\"1\" class=\"dataframe\">\n",
              "  <thead>\n",
              "    <tr style=\"text-align: right;\">\n",
              "      <th>debt</th>\n",
              "      <th>0</th>\n",
              "      <th>1</th>\n",
              "      <th>percent_1</th>\n",
              "    </tr>\n",
              "    <tr>\n",
              "      <th>economic_class</th>\n",
              "      <th></th>\n",
              "      <th></th>\n",
              "      <th></th>\n",
              "    </tr>\n",
              "  </thead>\n",
              "  <tbody>\n",
              "    <tr>\n",
              "      <th>lower middle class</th>\n",
              "      <td>3704</td>\n",
              "      <td>281</td>\n",
              "      <td>7.051443</td>\n",
              "    </tr>\n",
              "    <tr>\n",
              "      <th>middle class</th>\n",
              "      <td>928</td>\n",
              "      <td>72</td>\n",
              "      <td>7.200000</td>\n",
              "    </tr>\n",
              "    <tr>\n",
              "      <th>poor</th>\n",
              "      <td>15004</td>\n",
              "      <td>1383</td>\n",
              "      <td>8.439617</td>\n",
              "    </tr>\n",
              "    <tr>\n",
              "      <th>upper middle class</th>\n",
              "      <td>75</td>\n",
              "      <td>5</td>\n",
              "      <td>6.250000</td>\n",
              "    </tr>\n",
              "  </tbody>\n",
              "</table>\n",
              "</div>\n",
              "      <button class=\"colab-df-convert\" onclick=\"convertToInteractive('df-7ce7c6ac-e17d-45e4-b0b4-f9a9c3ba6894')\"\n",
              "              title=\"Convert this dataframe to an interactive table.\"\n",
              "              style=\"display:none;\">\n",
              "        \n",
              "  <svg xmlns=\"http://www.w3.org/2000/svg\" height=\"24px\"viewBox=\"0 0 24 24\"\n",
              "       width=\"24px\">\n",
              "    <path d=\"M0 0h24v24H0V0z\" fill=\"none\"/>\n",
              "    <path d=\"M18.56 5.44l.94 2.06.94-2.06 2.06-.94-2.06-.94-.94-2.06-.94 2.06-2.06.94zm-11 1L8.5 8.5l.94-2.06 2.06-.94-2.06-.94L8.5 2.5l-.94 2.06-2.06.94zm10 10l.94 2.06.94-2.06 2.06-.94-2.06-.94-.94-2.06-.94 2.06-2.06.94z\"/><path d=\"M17.41 7.96l-1.37-1.37c-.4-.4-.92-.59-1.43-.59-.52 0-1.04.2-1.43.59L10.3 9.45l-7.72 7.72c-.78.78-.78 2.05 0 2.83L4 21.41c.39.39.9.59 1.41.59.51 0 1.02-.2 1.41-.59l7.78-7.78 2.81-2.81c.8-.78.8-2.07 0-2.86zM5.41 20L4 18.59l7.72-7.72 1.47 1.35L5.41 20z\"/>\n",
              "  </svg>\n",
              "      </button>\n",
              "      \n",
              "  <style>\n",
              "    .colab-df-container {\n",
              "      display:flex;\n",
              "      flex-wrap:wrap;\n",
              "      gap: 12px;\n",
              "    }\n",
              "\n",
              "    .colab-df-convert {\n",
              "      background-color: #E8F0FE;\n",
              "      border: none;\n",
              "      border-radius: 50%;\n",
              "      cursor: pointer;\n",
              "      display: none;\n",
              "      fill: #1967D2;\n",
              "      height: 32px;\n",
              "      padding: 0 0 0 0;\n",
              "      width: 32px;\n",
              "    }\n",
              "\n",
              "    .colab-df-convert:hover {\n",
              "      background-color: #E2EBFA;\n",
              "      box-shadow: 0px 1px 2px rgba(60, 64, 67, 0.3), 0px 1px 3px 1px rgba(60, 64, 67, 0.15);\n",
              "      fill: #174EA6;\n",
              "    }\n",
              "\n",
              "    [theme=dark] .colab-df-convert {\n",
              "      background-color: #3B4455;\n",
              "      fill: #D2E3FC;\n",
              "    }\n",
              "\n",
              "    [theme=dark] .colab-df-convert:hover {\n",
              "      background-color: #434B5C;\n",
              "      box-shadow: 0px 1px 3px 1px rgba(0, 0, 0, 0.15);\n",
              "      filter: drop-shadow(0px 1px 2px rgba(0, 0, 0, 0.3));\n",
              "      fill: #FFFFFF;\n",
              "    }\n",
              "  </style>\n",
              "\n",
              "      <script>\n",
              "        const buttonEl =\n",
              "          document.querySelector('#df-7ce7c6ac-e17d-45e4-b0b4-f9a9c3ba6894 button.colab-df-convert');\n",
              "        buttonEl.style.display =\n",
              "          google.colab.kernel.accessAllowed ? 'block' : 'none';\n",
              "\n",
              "        async function convertToInteractive(key) {\n",
              "          const element = document.querySelector('#df-7ce7c6ac-e17d-45e4-b0b4-f9a9c3ba6894');\n",
              "          const dataTable =\n",
              "            await google.colab.kernel.invokeFunction('convertToInteractive',\n",
              "                                                     [key], {});\n",
              "          if (!dataTable) return;\n",
              "\n",
              "          const docLinkHtml = 'Like what you see? Visit the ' +\n",
              "            '<a target=\"_blank\" href=https://colab.research.google.com/notebooks/data_table.ipynb>data table notebook</a>'\n",
              "            + ' to learn more about interactive tables.';\n",
              "          element.innerHTML = '';\n",
              "          dataTable['output_type'] = 'display_data';\n",
              "          await google.colab.output.renderOutput(dataTable, element);\n",
              "          const docLink = document.createElement('div');\n",
              "          docLink.innerHTML = docLinkHtml;\n",
              "          element.appendChild(docLink);\n",
              "        }\n",
              "      </script>\n",
              "    </div>\n",
              "  </div>\n",
              "  "
            ]
          },
          "metadata": {},
          "execution_count": 77
        }
      ],
      "source": [
        "# Calculate distribution percentages to draw conclusions\n",
        "pivot_table_economic_class['percent_1'] = pivot_table_economic_class[1] / (pivot_table_economic_class[1] + pivot_table_economic_class[0]) * 100\n",
        "pivot_table_economic_class"
      ]
    },
    {
      "cell_type": "markdown",
      "metadata": {
        "id": "Z_m7oT2Zf9Po"
      },
      "source": [
        "**Conclusion**\n",
        "\n",
        "Some of the things we find from the manipulation of the data above include the following:\n",
        "1. Clients with `lower middle class` and `middle class` economic levels have a balanced percentage of `7%` for clients with credit payment debts.\n",
        "2. Clients with a `poor` economic level can be in greater arrears, namely `8%`. Can this affect our decision not to give credit, given that there are so many of them?\n",
        "3. Clients with `upper middle class` income have the least risk of `6%`."
      ]
    },
    {
      "cell_type": "markdown",
      "metadata": {
        "id": "bdoMQRgof9Po"
      },
      "source": [
        "### 3.4. How do different loan objectives affect the probability of defaulting on a loan??"
      ]
    },
    {
      "cell_type": "code",
      "execution_count": null,
      "metadata": {
        "id": "znCB05_df9Pp",
        "scrolled": true,
        "colab": {
          "base_uri": "https://localhost:8080/",
          "height": 206
        },
        "outputId": "d38aac19-6867-41fd-8322-cb43a819e24a"
      },
      "outputs": [
        {
          "output_type": "execute_result",
          "data": {
            "text/plain": [
              "debt                 0    1  percent_1\n",
              "general_purpose                       \n",
              "car               3903  403   9.359034\n",
              "education         3643  370   9.220035\n",
              "property         10028  782   7.234043\n",
              "wedding           2137  186   8.006888"
            ],
            "text/html": [
              "\n",
              "  <div id=\"df-55bbce36-73cf-4cf9-8c8c-242f1571381b\">\n",
              "    <div class=\"colab-df-container\">\n",
              "      <div>\n",
              "<style scoped>\n",
              "    .dataframe tbody tr th:only-of-type {\n",
              "        vertical-align: middle;\n",
              "    }\n",
              "\n",
              "    .dataframe tbody tr th {\n",
              "        vertical-align: top;\n",
              "    }\n",
              "\n",
              "    .dataframe thead th {\n",
              "        text-align: right;\n",
              "    }\n",
              "</style>\n",
              "<table border=\"1\" class=\"dataframe\">\n",
              "  <thead>\n",
              "    <tr style=\"text-align: right;\">\n",
              "      <th>debt</th>\n",
              "      <th>0</th>\n",
              "      <th>1</th>\n",
              "      <th>percent_1</th>\n",
              "    </tr>\n",
              "    <tr>\n",
              "      <th>general_purpose</th>\n",
              "      <th></th>\n",
              "      <th></th>\n",
              "      <th></th>\n",
              "    </tr>\n",
              "  </thead>\n",
              "  <tbody>\n",
              "    <tr>\n",
              "      <th>car</th>\n",
              "      <td>3903</td>\n",
              "      <td>403</td>\n",
              "      <td>9.359034</td>\n",
              "    </tr>\n",
              "    <tr>\n",
              "      <th>education</th>\n",
              "      <td>3643</td>\n",
              "      <td>370</td>\n",
              "      <td>9.220035</td>\n",
              "    </tr>\n",
              "    <tr>\n",
              "      <th>property</th>\n",
              "      <td>10028</td>\n",
              "      <td>782</td>\n",
              "      <td>7.234043</td>\n",
              "    </tr>\n",
              "    <tr>\n",
              "      <th>wedding</th>\n",
              "      <td>2137</td>\n",
              "      <td>186</td>\n",
              "      <td>8.006888</td>\n",
              "    </tr>\n",
              "  </tbody>\n",
              "</table>\n",
              "</div>\n",
              "      <button class=\"colab-df-convert\" onclick=\"convertToInteractive('df-55bbce36-73cf-4cf9-8c8c-242f1571381b')\"\n",
              "              title=\"Convert this dataframe to an interactive table.\"\n",
              "              style=\"display:none;\">\n",
              "        \n",
              "  <svg xmlns=\"http://www.w3.org/2000/svg\" height=\"24px\"viewBox=\"0 0 24 24\"\n",
              "       width=\"24px\">\n",
              "    <path d=\"M0 0h24v24H0V0z\" fill=\"none\"/>\n",
              "    <path d=\"M18.56 5.44l.94 2.06.94-2.06 2.06-.94-2.06-.94-.94-2.06-.94 2.06-2.06.94zm-11 1L8.5 8.5l.94-2.06 2.06-.94-2.06-.94L8.5 2.5l-.94 2.06-2.06.94zm10 10l.94 2.06.94-2.06 2.06-.94-2.06-.94-.94-2.06-.94 2.06-2.06.94z\"/><path d=\"M17.41 7.96l-1.37-1.37c-.4-.4-.92-.59-1.43-.59-.52 0-1.04.2-1.43.59L10.3 9.45l-7.72 7.72c-.78.78-.78 2.05 0 2.83L4 21.41c.39.39.9.59 1.41.59.51 0 1.02-.2 1.41-.59l7.78-7.78 2.81-2.81c.8-.78.8-2.07 0-2.86zM5.41 20L4 18.59l7.72-7.72 1.47 1.35L5.41 20z\"/>\n",
              "  </svg>\n",
              "      </button>\n",
              "      \n",
              "  <style>\n",
              "    .colab-df-container {\n",
              "      display:flex;\n",
              "      flex-wrap:wrap;\n",
              "      gap: 12px;\n",
              "    }\n",
              "\n",
              "    .colab-df-convert {\n",
              "      background-color: #E8F0FE;\n",
              "      border: none;\n",
              "      border-radius: 50%;\n",
              "      cursor: pointer;\n",
              "      display: none;\n",
              "      fill: #1967D2;\n",
              "      height: 32px;\n",
              "      padding: 0 0 0 0;\n",
              "      width: 32px;\n",
              "    }\n",
              "\n",
              "    .colab-df-convert:hover {\n",
              "      background-color: #E2EBFA;\n",
              "      box-shadow: 0px 1px 2px rgba(60, 64, 67, 0.3), 0px 1px 3px 1px rgba(60, 64, 67, 0.15);\n",
              "      fill: #174EA6;\n",
              "    }\n",
              "\n",
              "    [theme=dark] .colab-df-convert {\n",
              "      background-color: #3B4455;\n",
              "      fill: #D2E3FC;\n",
              "    }\n",
              "\n",
              "    [theme=dark] .colab-df-convert:hover {\n",
              "      background-color: #434B5C;\n",
              "      box-shadow: 0px 1px 3px 1px rgba(0, 0, 0, 0.15);\n",
              "      filter: drop-shadow(0px 1px 2px rgba(0, 0, 0, 0.3));\n",
              "      fill: #FFFFFF;\n",
              "    }\n",
              "  </style>\n",
              "\n",
              "      <script>\n",
              "        const buttonEl =\n",
              "          document.querySelector('#df-55bbce36-73cf-4cf9-8c8c-242f1571381b button.colab-df-convert');\n",
              "        buttonEl.style.display =\n",
              "          google.colab.kernel.accessAllowed ? 'block' : 'none';\n",
              "\n",
              "        async function convertToInteractive(key) {\n",
              "          const element = document.querySelector('#df-55bbce36-73cf-4cf9-8c8c-242f1571381b');\n",
              "          const dataTable =\n",
              "            await google.colab.kernel.invokeFunction('convertToInteractive',\n",
              "                                                     [key], {});\n",
              "          if (!dataTable) return;\n",
              "\n",
              "          const docLinkHtml = 'Like what you see? Visit the ' +\n",
              "            '<a target=\"_blank\" href=https://colab.research.google.com/notebooks/data_table.ipynb>data table notebook</a>'\n",
              "            + ' to learn more about interactive tables.';\n",
              "          element.innerHTML = '';\n",
              "          dataTable['output_type'] = 'display_data';\n",
              "          await google.colab.output.renderOutput(dataTable, element);\n",
              "          const docLink = document.createElement('div');\n",
              "          docLink.innerHTML = docLinkHtml;\n",
              "          element.appendChild(docLink);\n",
              "        }\n",
              "      </script>\n",
              "    </div>\n",
              "  </div>\n",
              "  "
            ]
          },
          "metadata": {},
          "execution_count": 78
        }
      ],
      "source": [
        "# Checking the percentage of 'general_purpose' to 'debt' to explore conclusions\n",
        "pivot_table_general_purpose = df.pivot_table(index='general_purpose', columns= 'debt', values='days_employed', aggfunc='count')\n",
        "pivot_table_general_purpose['percent_1'] = pivot_table_general_purpose[1] / (pivot_table_general_purpose[1] + pivot_table_general_purpose[0]) * 100\n",
        "pivot_table_general_purpose"
      ]
    },
    {
      "cell_type": "markdown",
      "metadata": {
        "id": "LpDoAA5Af9Pp"
      },
      "source": [
        "**Conclusion**\n",
        "\n",
        "Based on the handling, we do the things we can get:\n",
        "1. Clients who make loans for `car` and `education` purposes have the highest default risk of `9%`.\n",
        "2. Clients who use their loans for `wedding` have a lower percentage of loan debt than the previous criteria.\n",
        "3. Clients who pay on time, namely for the use of `property`, with a risk of non-current debt of `7%`."
      ]
    },
    {
      "cell_type": "markdown",
      "metadata": {
        "id": "AkaFtVnSf9Pq"
      },
      "source": [
        "## 4. General Conclusion\n",
        "\n",
        "- We have done a *cleansing data* process to fix problematic data in our dataset. The cleaning that we do includes filling in missing values, removing duplicate values, correcting irregular registers and values that are too large, and replacing unreasonable values so that we get a dataset we can process for the credit analysis process.\n",
        "\n",
        "- The findings that we get after exploring are that there is a correlation between the number of children and marital status in the risk of credit payments. Clients who do not have children will find it easier to pay off their debts than clients with children. Clients who are married or have had a partner have a lower risk of default than clients who are single or live together.\n",
        "Clients with lower incomes will be more likely to have loan debt, and clients who use the money for home purposes will have a higher percentage of them being able to pay off their debts.\n",
        "\n",
        "- But can we use all the data manipulation we do in the **decision-making** process to minimize the risks that will occur in the future?"
      ]
    }
  ],
  "metadata": {
    "ExecuteTimeLog": [
      {
        "duration": 2741,
        "start_time": "2021-10-21T01:08:49.480Z"
      },
      {
        "duration": 52,
        "start_time": "2021-10-21T01:08:53.315Z"
      },
      {
        "duration": 49,
        "start_time": "2021-10-21T01:08:57.432Z"
      },
      {
        "duration": 70,
        "start_time": "2021-10-21T01:09:07.706Z"
      },
      {
        "duration": 503,
        "start_time": "2022-08-21T08:05:52.151Z"
      },
      {
        "duration": 8,
        "start_time": "2022-08-21T08:08:04.686Z"
      },
      {
        "duration": 3,
        "start_time": "2022-08-21T08:08:48.721Z"
      },
      {
        "duration": 4,
        "start_time": "2022-08-21T08:08:58.567Z"
      },
      {
        "duration": 4,
        "start_time": "2022-08-21T08:13:18.689Z"
      },
      {
        "duration": 4,
        "start_time": "2022-08-21T08:13:44.107Z"
      },
      {
        "duration": 4,
        "start_time": "2022-08-21T08:14:05.630Z"
      },
      {
        "duration": 4,
        "start_time": "2022-08-21T08:14:17.413Z"
      },
      {
        "duration": 49,
        "start_time": "2022-08-21T09:42:40.284Z"
      },
      {
        "duration": 506,
        "start_time": "2022-08-21T09:42:46.475Z"
      },
      {
        "duration": 7,
        "start_time": "2022-08-21T09:42:49.706Z"
      },
      {
        "duration": 70,
        "start_time": "2022-08-21T09:46:28.418Z"
      },
      {
        "duration": 14,
        "start_time": "2022-08-21T09:46:45.861Z"
      },
      {
        "duration": 15,
        "start_time": "2022-08-21T09:48:12.719Z"
      },
      {
        "duration": 31,
        "start_time": "2022-08-21T09:59:44.251Z"
      },
      {
        "duration": 1488,
        "start_time": "2022-08-21T10:01:20.495Z"
      },
      {
        "duration": 3,
        "start_time": "2022-08-21T10:01:41.749Z"
      },
      {
        "duration": 11,
        "start_time": "2022-08-21T10:03:10.786Z"
      },
      {
        "duration": 1499,
        "start_time": "2022-08-21T10:03:24.239Z"
      },
      {
        "duration": 1862,
        "start_time": "2022-08-21T10:03:34.489Z"
      },
      {
        "duration": 9,
        "start_time": "2022-08-21T10:03:45.275Z"
      },
      {
        "duration": 16,
        "start_time": "2022-08-21T10:04:18.246Z"
      },
      {
        "duration": 7,
        "start_time": "2022-08-21T10:04:34.590Z"
      },
      {
        "duration": 676,
        "start_time": "2022-08-21T15:23:12.222Z"
      },
      {
        "duration": 28,
        "start_time": "2022-08-21T15:26:43.133Z"
      },
      {
        "duration": 103,
        "start_time": "2022-08-21T15:27:04.380Z"
      },
      {
        "duration": 8,
        "start_time": "2022-08-21T15:27:12.338Z"
      },
      {
        "duration": 18,
        "start_time": "2022-08-21T15:27:21.367Z"
      },
      {
        "duration": 18,
        "start_time": "2022-08-21T15:29:41.366Z"
      },
      {
        "duration": 53,
        "start_time": "2022-08-21T15:30:14.529Z"
      },
      {
        "duration": 21,
        "start_time": "2022-08-21T15:30:25.974Z"
      },
      {
        "duration": 16,
        "start_time": "2022-08-21T15:30:33.833Z"
      },
      {
        "duration": 4,
        "start_time": "2022-08-21T15:30:50.118Z"
      },
      {
        "duration": 626,
        "start_time": "2022-08-24T08:56:13.428Z"
      },
      {
        "duration": 14,
        "start_time": "2022-08-24T08:56:19.066Z"
      },
      {
        "duration": 663,
        "start_time": "2022-08-24T14:21:54.079Z"
      },
      {
        "duration": 2357,
        "start_time": "2022-08-24T14:22:57.044Z"
      },
      {
        "duration": 39,
        "start_time": "2022-08-24T14:23:17.888Z"
      },
      {
        "duration": 22,
        "start_time": "2022-08-24T14:23:35.811Z"
      },
      {
        "duration": 10,
        "start_time": "2022-08-24T14:28:58.524Z"
      },
      {
        "duration": 8,
        "start_time": "2022-08-24T14:29:14.876Z"
      },
      {
        "duration": 14,
        "start_time": "2022-08-24T14:29:37.391Z"
      },
      {
        "duration": 11,
        "start_time": "2022-08-24T14:29:55.150Z"
      },
      {
        "duration": 7,
        "start_time": "2022-08-24T14:30:19.936Z"
      },
      {
        "duration": 4,
        "start_time": "2022-08-24T14:33:11.092Z"
      },
      {
        "duration": 1696,
        "start_time": "2022-08-24T14:47:15.070Z"
      },
      {
        "duration": 1901,
        "start_time": "2022-08-24T14:47:24.926Z"
      },
      {
        "duration": 28,
        "start_time": "2022-08-24T14:47:34.462Z"
      },
      {
        "duration": 7,
        "start_time": "2022-08-24T14:47:49.345Z"
      },
      {
        "duration": 23,
        "start_time": "2022-08-24T14:59:32.954Z"
      },
      {
        "duration": 15,
        "start_time": "2022-08-24T15:00:20.765Z"
      },
      {
        "duration": 16,
        "start_time": "2022-08-24T15:02:05.529Z"
      },
      {
        "duration": 59,
        "start_time": "2022-08-24T15:02:31.523Z"
      },
      {
        "duration": 18,
        "start_time": "2022-08-24T15:02:39.175Z"
      },
      {
        "duration": 12,
        "start_time": "2022-08-24T15:03:42.263Z"
      },
      {
        "duration": 12,
        "start_time": "2022-08-24T15:03:57.110Z"
      },
      {
        "duration": 21,
        "start_time": "2022-08-24T15:04:32.287Z"
      },
      {
        "duration": 14,
        "start_time": "2022-08-24T15:04:48.749Z"
      },
      {
        "duration": 20,
        "start_time": "2022-08-24T15:04:58.538Z"
      },
      {
        "duration": 12,
        "start_time": "2022-08-24T15:05:58.520Z"
      },
      {
        "duration": 566,
        "start_time": "2022-08-26T07:32:50.141Z"
      },
      {
        "duration": 9,
        "start_time": "2022-08-26T07:32:50.709Z"
      },
      {
        "duration": 37,
        "start_time": "2022-08-26T07:32:50.720Z"
      },
      {
        "duration": 15,
        "start_time": "2022-08-26T07:32:50.759Z"
      },
      {
        "duration": 32,
        "start_time": "2022-08-26T07:32:50.776Z"
      },
      {
        "duration": 8,
        "start_time": "2022-08-26T07:32:50.810Z"
      },
      {
        "duration": 25,
        "start_time": "2022-08-26T07:32:50.820Z"
      },
      {
        "duration": 15,
        "start_time": "2022-08-26T07:32:50.848Z"
      },
      {
        "duration": 13,
        "start_time": "2022-08-26T07:32:50.865Z"
      },
      {
        "duration": 31,
        "start_time": "2022-08-26T07:32:50.883Z"
      },
      {
        "duration": 23,
        "start_time": "2022-08-26T07:32:50.917Z"
      },
      {
        "duration": 29,
        "start_time": "2022-08-26T07:32:50.943Z"
      },
      {
        "duration": 15,
        "start_time": "2022-08-26T07:32:50.975Z"
      },
      {
        "duration": 17,
        "start_time": "2022-08-26T07:32:50.991Z"
      },
      {
        "duration": 18,
        "start_time": "2022-08-26T07:32:51.009Z"
      },
      {
        "duration": 22,
        "start_time": "2022-08-26T07:32:51.028Z"
      },
      {
        "duration": 17,
        "start_time": "2022-08-26T07:32:51.052Z"
      },
      {
        "duration": 27,
        "start_time": "2022-08-26T07:32:51.071Z"
      },
      {
        "duration": 18,
        "start_time": "2022-08-26T07:32:51.100Z"
      },
      {
        "duration": 12,
        "start_time": "2022-08-26T07:32:51.119Z"
      },
      {
        "duration": 27,
        "start_time": "2022-08-26T07:32:51.132Z"
      },
      {
        "duration": 6,
        "start_time": "2022-08-26T07:32:51.160Z"
      },
      {
        "duration": 15,
        "start_time": "2022-08-26T07:32:51.167Z"
      },
      {
        "duration": 34,
        "start_time": "2022-08-26T07:32:51.183Z"
      },
      {
        "duration": 18,
        "start_time": "2022-08-26T07:32:51.219Z"
      },
      {
        "duration": 25,
        "start_time": "2022-08-26T07:32:51.239Z"
      },
      {
        "duration": 19,
        "start_time": "2022-08-26T07:32:51.266Z"
      },
      {
        "duration": 11,
        "start_time": "2022-08-26T07:32:51.290Z"
      },
      {
        "duration": 18,
        "start_time": "2022-08-26T07:32:51.302Z"
      },
      {
        "duration": 27,
        "start_time": "2022-08-26T07:32:51.322Z"
      },
      {
        "duration": 8,
        "start_time": "2022-08-26T07:32:51.351Z"
      },
      {
        "duration": 17,
        "start_time": "2022-08-26T07:32:51.361Z"
      },
      {
        "duration": 20,
        "start_time": "2022-08-26T07:32:51.380Z"
      },
      {
        "duration": 27,
        "start_time": "2022-08-26T07:32:51.402Z"
      },
      {
        "duration": 22,
        "start_time": "2022-08-26T07:32:51.431Z"
      },
      {
        "duration": 6,
        "start_time": "2022-08-26T07:32:51.455Z"
      },
      {
        "duration": 31,
        "start_time": "2022-08-26T07:32:51.462Z"
      },
      {
        "duration": 21,
        "start_time": "2022-08-26T07:32:51.495Z"
      },
      {
        "duration": 22,
        "start_time": "2022-08-26T07:32:51.517Z"
      },
      {
        "duration": 19,
        "start_time": "2022-08-26T07:32:51.541Z"
      },
      {
        "duration": 21,
        "start_time": "2022-08-26T07:32:51.561Z"
      },
      {
        "duration": 30,
        "start_time": "2022-08-26T07:32:51.584Z"
      },
      {
        "duration": 8,
        "start_time": "2022-08-26T07:32:51.616Z"
      },
      {
        "duration": 18,
        "start_time": "2022-08-26T07:32:51.626Z"
      },
      {
        "duration": 25,
        "start_time": "2022-08-26T07:32:51.646Z"
      },
      {
        "duration": 17,
        "start_time": "2022-08-26T07:32:51.673Z"
      },
      {
        "duration": 26,
        "start_time": "2022-08-26T07:32:51.692Z"
      },
      {
        "duration": 15,
        "start_time": "2022-08-26T07:32:51.720Z"
      },
      {
        "duration": 13,
        "start_time": "2022-08-26T07:32:51.736Z"
      },
      {
        "duration": 37,
        "start_time": "2022-08-26T07:32:51.750Z"
      },
      {
        "duration": 18,
        "start_time": "2022-08-26T07:32:51.789Z"
      },
      {
        "duration": 20,
        "start_time": "2022-08-26T07:32:51.809Z"
      },
      {
        "duration": 15,
        "start_time": "2022-08-26T07:32:51.831Z"
      },
      {
        "duration": 18,
        "start_time": "2022-08-26T07:32:51.847Z"
      },
      {
        "duration": 23,
        "start_time": "2022-08-26T07:32:51.867Z"
      },
      {
        "duration": 20,
        "start_time": "2022-08-26T07:32:51.891Z"
      },
      {
        "duration": 29,
        "start_time": "2022-08-26T07:32:51.912Z"
      },
      {
        "duration": 38,
        "start_time": "2022-08-26T07:32:51.943Z"
      },
      {
        "duration": 6,
        "start_time": "2022-08-26T07:32:51.983Z"
      },
      {
        "duration": 4,
        "start_time": "2022-08-26T07:32:51.991Z"
      },
      {
        "duration": 6,
        "start_time": "2022-08-26T07:32:51.996Z"
      },
      {
        "duration": 5,
        "start_time": "2022-08-26T07:32:52.003Z"
      },
      {
        "duration": 5,
        "start_time": "2022-08-26T07:32:52.009Z"
      },
      {
        "duration": 5,
        "start_time": "2022-08-26T07:32:52.015Z"
      },
      {
        "duration": 7,
        "start_time": "2022-08-26T07:32:52.022Z"
      },
      {
        "duration": 13,
        "start_time": "2022-08-26T07:32:52.030Z"
      },
      {
        "duration": 12,
        "start_time": "2022-08-26T07:32:52.045Z"
      },
      {
        "duration": 4,
        "start_time": "2022-08-26T07:32:52.059Z"
      },
      {
        "duration": 4,
        "start_time": "2022-08-26T07:32:52.065Z"
      },
      {
        "duration": 12,
        "start_time": "2022-08-26T07:32:52.071Z"
      },
      {
        "duration": 6,
        "start_time": "2022-08-26T07:32:52.085Z"
      },
      {
        "duration": 12,
        "start_time": "2022-08-26T07:33:56.818Z"
      },
      {
        "duration": 11,
        "start_time": "2022-08-26T07:34:20.055Z"
      },
      {
        "duration": 8,
        "start_time": "2022-08-26T07:34:28.785Z"
      },
      {
        "duration": 5,
        "start_time": "2022-08-26T07:35:23.990Z"
      },
      {
        "duration": 17,
        "start_time": "2022-08-26T07:37:16.868Z"
      },
      {
        "duration": 13,
        "start_time": "2022-08-26T07:37:36.722Z"
      },
      {
        "duration": 13,
        "start_time": "2022-08-26T07:37:56.347Z"
      },
      {
        "duration": 13,
        "start_time": "2022-08-26T07:38:31.394Z"
      },
      {
        "duration": 12,
        "start_time": "2022-08-26T07:38:44.633Z"
      },
      {
        "duration": 14,
        "start_time": "2022-08-26T07:38:54.621Z"
      },
      {
        "duration": 12,
        "start_time": "2022-08-26T07:39:03.293Z"
      },
      {
        "duration": 13,
        "start_time": "2022-08-26T07:39:30.512Z"
      },
      {
        "duration": 12,
        "start_time": "2022-08-26T07:39:39.465Z"
      },
      {
        "duration": 452,
        "start_time": "2022-08-26T07:40:15.999Z"
      },
      {
        "duration": 20,
        "start_time": "2022-08-26T07:40:18.868Z"
      },
      {
        "duration": 38,
        "start_time": "2022-08-26T07:44:45.809Z"
      },
      {
        "duration": 7,
        "start_time": "2022-08-26T07:57:33.913Z"
      },
      {
        "duration": 512,
        "start_time": "2022-08-27T04:54:44.925Z"
      },
      {
        "duration": 8,
        "start_time": "2022-08-27T04:54:45.438Z"
      },
      {
        "duration": 18,
        "start_time": "2022-08-27T04:54:45.447Z"
      },
      {
        "duration": 17,
        "start_time": "2022-08-27T04:54:45.467Z"
      },
      {
        "duration": 18,
        "start_time": "2022-08-27T04:54:45.485Z"
      },
      {
        "duration": 6,
        "start_time": "2022-08-27T04:54:45.504Z"
      },
      {
        "duration": 12,
        "start_time": "2022-08-27T04:54:45.511Z"
      },
      {
        "duration": 6,
        "start_time": "2022-08-27T04:54:45.525Z"
      },
      {
        "duration": 16,
        "start_time": "2022-08-27T04:56:49.260Z"
      },
      {
        "duration": 17,
        "start_time": "2022-08-27T04:56:51.852Z"
      },
      {
        "duration": 19,
        "start_time": "2022-08-27T04:56:54.549Z"
      },
      {
        "duration": 4,
        "start_time": "2022-08-27T04:56:57.867Z"
      },
      {
        "duration": 630,
        "start_time": "2022-08-27T11:47:45.935Z"
      },
      {
        "duration": 54,
        "start_time": "2022-08-27T11:48:13.233Z"
      },
      {
        "duration": 8,
        "start_time": "2022-08-27T11:48:13.289Z"
      },
      {
        "duration": 18,
        "start_time": "2022-08-27T11:48:13.299Z"
      },
      {
        "duration": 16,
        "start_time": "2022-08-27T11:48:13.319Z"
      },
      {
        "duration": 48,
        "start_time": "2022-08-27T11:48:13.337Z"
      },
      {
        "duration": 6,
        "start_time": "2022-08-27T11:48:13.387Z"
      },
      {
        "duration": 15,
        "start_time": "2022-08-27T11:48:13.395Z"
      },
      {
        "duration": 79,
        "start_time": "2022-08-27T11:52:36.182Z"
      },
      {
        "duration": 4,
        "start_time": "2022-08-27T11:54:59.338Z"
      },
      {
        "duration": 8,
        "start_time": "2022-08-27T11:56:45.683Z"
      },
      {
        "duration": 4,
        "start_time": "2022-08-27T11:58:29.669Z"
      },
      {
        "duration": 15,
        "start_time": "2022-08-27T12:07:12.874Z"
      },
      {
        "duration": 104,
        "start_time": "2022-08-27T12:08:30.612Z"
      },
      {
        "duration": 104,
        "start_time": "2022-08-27T12:16:04.209Z"
      },
      {
        "duration": 124,
        "start_time": "2022-08-27T12:16:47.425Z"
      },
      {
        "duration": 5,
        "start_time": "2022-08-27T12:16:54.468Z"
      },
      {
        "duration": 103,
        "start_time": "2022-08-27T12:17:59.878Z"
      },
      {
        "duration": 4,
        "start_time": "2022-08-27T12:18:33.809Z"
      },
      {
        "duration": 124,
        "start_time": "2022-08-27T12:18:43.238Z"
      },
      {
        "duration": 93,
        "start_time": "2022-08-27T12:18:55.902Z"
      },
      {
        "duration": 97,
        "start_time": "2022-08-27T12:19:13.127Z"
      },
      {
        "duration": 99,
        "start_time": "2022-08-27T12:21:09.267Z"
      },
      {
        "duration": 115,
        "start_time": "2022-08-27T12:22:26.162Z"
      },
      {
        "duration": 146,
        "start_time": "2022-08-27T12:22:33.412Z"
      },
      {
        "duration": 5,
        "start_time": "2022-08-27T12:22:44.340Z"
      },
      {
        "duration": 122,
        "start_time": "2022-08-27T12:29:17.312Z"
      },
      {
        "duration": 119,
        "start_time": "2022-08-27T12:29:24.963Z"
      },
      {
        "duration": 115,
        "start_time": "2022-08-27T12:29:34.767Z"
      },
      {
        "duration": 13,
        "start_time": "2022-08-27T12:29:57.905Z"
      },
      {
        "duration": 4,
        "start_time": "2022-08-27T12:30:08.277Z"
      },
      {
        "duration": 521,
        "start_time": "2022-08-28T13:07:08.329Z"
      },
      {
        "duration": 7,
        "start_time": "2022-08-28T13:07:08.852Z"
      },
      {
        "duration": 17,
        "start_time": "2022-08-28T13:07:08.861Z"
      },
      {
        "duration": 14,
        "start_time": "2022-08-28T13:07:08.880Z"
      },
      {
        "duration": 19,
        "start_time": "2022-08-28T13:07:08.895Z"
      },
      {
        "duration": 6,
        "start_time": "2022-08-28T13:07:08.916Z"
      },
      {
        "duration": 10,
        "start_time": "2022-08-28T13:07:08.924Z"
      },
      {
        "duration": 10,
        "start_time": "2022-08-28T13:11:37.494Z"
      },
      {
        "duration": 3,
        "start_time": "2022-08-28T16:18:07.991Z"
      },
      {
        "duration": 14,
        "start_time": "2022-08-28T16:23:36.561Z"
      },
      {
        "duration": 11,
        "start_time": "2022-08-28T16:23:43.958Z"
      },
      {
        "duration": 137,
        "start_time": "2022-08-28T16:23:58.130Z"
      },
      {
        "duration": 971,
        "start_time": "2022-08-28T16:23:58.268Z"
      },
      {
        "duration": 20,
        "start_time": "2022-08-28T16:23:59.240Z"
      },
      {
        "duration": 15,
        "start_time": "2022-08-28T16:23:59.262Z"
      },
      {
        "duration": 16,
        "start_time": "2022-08-28T16:23:59.279Z"
      },
      {
        "duration": 28,
        "start_time": "2022-08-28T16:23:59.297Z"
      },
      {
        "duration": 12,
        "start_time": "2022-08-28T16:23:59.328Z"
      },
      {
        "duration": 6,
        "start_time": "2022-08-28T16:23:59.341Z"
      },
      {
        "duration": 1,
        "start_time": "2022-08-28T16:23:59.348Z"
      },
      {
        "duration": 5,
        "start_time": "2022-08-28T16:23:59.351Z"
      },
      {
        "duration": 11,
        "start_time": "2022-08-28T16:23:59.357Z"
      },
      {
        "duration": 8,
        "start_time": "2022-08-28T16:23:59.369Z"
      },
      {
        "duration": 11,
        "start_time": "2022-08-28T16:23:59.378Z"
      },
      {
        "duration": 30,
        "start_time": "2022-08-28T16:23:59.390Z"
      },
      {
        "duration": 16,
        "start_time": "2022-08-28T16:23:59.425Z"
      },
      {
        "duration": 14,
        "start_time": "2022-08-28T16:23:59.442Z"
      },
      {
        "duration": 11,
        "start_time": "2022-08-28T16:23:59.457Z"
      },
      {
        "duration": 5,
        "start_time": "2022-08-28T16:23:59.469Z"
      },
      {
        "duration": 8,
        "start_time": "2022-08-28T16:23:59.475Z"
      },
      {
        "duration": 3,
        "start_time": "2022-08-28T16:23:59.484Z"
      },
      {
        "duration": 29,
        "start_time": "2022-08-28T16:23:59.488Z"
      },
      {
        "duration": 1,
        "start_time": "2022-08-28T16:23:59.519Z"
      },
      {
        "duration": 11,
        "start_time": "2022-08-28T16:23:59.521Z"
      },
      {
        "duration": 4,
        "start_time": "2022-08-28T16:23:59.534Z"
      },
      {
        "duration": 3,
        "start_time": "2022-08-28T16:23:59.539Z"
      },
      {
        "duration": 5,
        "start_time": "2022-08-28T16:23:59.544Z"
      },
      {
        "duration": 2,
        "start_time": "2022-08-28T16:23:59.551Z"
      },
      {
        "duration": 3,
        "start_time": "2022-08-28T16:23:59.556Z"
      },
      {
        "duration": 7,
        "start_time": "2022-08-28T16:23:59.560Z"
      },
      {
        "duration": 5,
        "start_time": "2022-08-28T16:23:59.568Z"
      },
      {
        "duration": 5,
        "start_time": "2022-08-28T16:23:59.574Z"
      },
      {
        "duration": 4,
        "start_time": "2022-08-28T16:23:59.580Z"
      },
      {
        "duration": 34,
        "start_time": "2022-08-28T16:23:59.585Z"
      },
      {
        "duration": 19,
        "start_time": "2022-08-28T16:23:59.621Z"
      },
      {
        "duration": 14,
        "start_time": "2022-08-28T16:23:59.642Z"
      },
      {
        "duration": 3,
        "start_time": "2022-08-28T16:23:59.657Z"
      },
      {
        "duration": 10,
        "start_time": "2022-08-28T16:24:04.842Z"
      },
      {
        "duration": 18,
        "start_time": "2022-08-28T16:25:02.306Z"
      },
      {
        "duration": 10,
        "start_time": "2022-08-28T16:25:22.245Z"
      },
      {
        "duration": 15,
        "start_time": "2022-08-28T16:25:54.074Z"
      },
      {
        "duration": 22,
        "start_time": "2022-08-28T16:26:13.797Z"
      },
      {
        "duration": 12,
        "start_time": "2022-08-28T16:26:52.926Z"
      },
      {
        "duration": 12,
        "start_time": "2022-08-28T16:27:08.582Z"
      },
      {
        "duration": 14,
        "start_time": "2022-08-28T16:27:45.836Z"
      },
      {
        "duration": 6,
        "start_time": "2022-08-28T16:31:08.642Z"
      },
      {
        "duration": 1525,
        "start_time": "2022-08-28T16:37:36.922Z"
      },
      {
        "duration": 10,
        "start_time": "2022-08-28T16:37:48.157Z"
      },
      {
        "duration": 6,
        "start_time": "2022-08-28T16:39:18.380Z"
      },
      {
        "duration": 10,
        "start_time": "2022-08-28T16:39:39.955Z"
      },
      {
        "duration": 4,
        "start_time": "2022-08-28T16:46:21.252Z"
      },
      {
        "duration": 6,
        "start_time": "2022-08-28T16:46:53.416Z"
      },
      {
        "duration": 3,
        "start_time": "2022-08-28T16:50:01.064Z"
      },
      {
        "duration": 4,
        "start_time": "2022-08-28T16:50:16.177Z"
      },
      {
        "duration": 3,
        "start_time": "2022-08-28T16:51:00.218Z"
      },
      {
        "duration": 106,
        "start_time": "2022-08-28T16:51:22.919Z"
      },
      {
        "duration": 4,
        "start_time": "2022-08-28T16:51:30.674Z"
      },
      {
        "duration": 20,
        "start_time": "2022-08-28T16:52:08.864Z"
      },
      {
        "duration": 6,
        "start_time": "2022-08-28T16:52:17.343Z"
      },
      {
        "duration": 50,
        "start_time": "2022-08-28T16:52:57.806Z"
      },
      {
        "duration": 475,
        "start_time": "2022-08-28T16:53:06.587Z"
      },
      {
        "duration": 8,
        "start_time": "2022-08-28T16:53:07.064Z"
      },
      {
        "duration": 17,
        "start_time": "2022-08-28T16:53:07.073Z"
      },
      {
        "duration": 21,
        "start_time": "2022-08-28T16:53:07.091Z"
      },
      {
        "duration": 22,
        "start_time": "2022-08-28T16:53:07.118Z"
      },
      {
        "duration": 7,
        "start_time": "2022-08-28T16:53:10.915Z"
      },
      {
        "duration": 4,
        "start_time": "2022-08-28T16:53:29.715Z"
      },
      {
        "duration": 4,
        "start_time": "2022-08-28T16:54:17.933Z"
      },
      {
        "duration": 59,
        "start_time": "2022-08-28T17:02:44.153Z"
      },
      {
        "duration": 93,
        "start_time": "2022-08-28T17:03:26.718Z"
      },
      {
        "duration": 3,
        "start_time": "2022-08-28T17:03:47.492Z"
      },
      {
        "duration": 4,
        "start_time": "2022-08-28T17:04:04.419Z"
      },
      {
        "duration": 4,
        "start_time": "2022-08-28T17:05:18.287Z"
      },
      {
        "duration": 4,
        "start_time": "2022-08-28T17:06:08.212Z"
      },
      {
        "duration": 4,
        "start_time": "2022-08-28T17:06:15.912Z"
      },
      {
        "duration": 4,
        "start_time": "2022-08-28T17:08:23.582Z"
      },
      {
        "duration": 6,
        "start_time": "2022-08-28T17:08:41.642Z"
      },
      {
        "duration": 109,
        "start_time": "2022-08-28T17:09:29.739Z"
      },
      {
        "duration": 4,
        "start_time": "2022-08-28T17:09:38.787Z"
      },
      {
        "duration": 543,
        "start_time": "2022-08-29T05:11:26.004Z"
      },
      {
        "duration": 7,
        "start_time": "2022-08-29T05:11:26.549Z"
      },
      {
        "duration": 16,
        "start_time": "2022-08-29T05:11:26.557Z"
      },
      {
        "duration": 14,
        "start_time": "2022-08-29T05:11:26.575Z"
      },
      {
        "duration": 18,
        "start_time": "2022-08-29T05:11:26.590Z"
      },
      {
        "duration": 6,
        "start_time": "2022-08-29T05:11:26.609Z"
      },
      {
        "duration": 10,
        "start_time": "2022-08-29T05:11:26.616Z"
      },
      {
        "duration": 3,
        "start_time": "2022-08-29T05:11:26.628Z"
      },
      {
        "duration": 6,
        "start_time": "2022-08-29T05:11:26.632Z"
      },
      {
        "duration": 4,
        "start_time": "2022-08-29T05:11:26.641Z"
      },
      {
        "duration": 5,
        "start_time": "2022-08-29T05:11:26.646Z"
      },
      {
        "duration": 35,
        "start_time": "2022-08-29T05:11:26.652Z"
      },
      {
        "duration": 13,
        "start_time": "2022-08-29T05:11:26.688Z"
      },
      {
        "duration": 7,
        "start_time": "2022-08-29T05:11:26.703Z"
      },
      {
        "duration": 6,
        "start_time": "2022-08-29T05:11:26.711Z"
      },
      {
        "duration": 3,
        "start_time": "2022-08-29T05:11:26.719Z"
      },
      {
        "duration": 5,
        "start_time": "2022-08-29T05:11:26.723Z"
      },
      {
        "duration": 10,
        "start_time": "2022-08-29T05:11:26.729Z"
      },
      {
        "duration": 8,
        "start_time": "2022-08-29T05:11:26.740Z"
      },
      {
        "duration": 5,
        "start_time": "2022-08-29T05:11:26.749Z"
      },
      {
        "duration": 6,
        "start_time": "2022-08-29T05:11:26.755Z"
      },
      {
        "duration": 5,
        "start_time": "2022-08-29T05:11:26.762Z"
      },
      {
        "duration": 4,
        "start_time": "2022-08-29T05:11:26.768Z"
      },
      {
        "duration": 2,
        "start_time": "2022-08-29T05:11:26.785Z"
      },
      {
        "duration": 4,
        "start_time": "2022-08-29T05:11:26.788Z"
      },
      {
        "duration": 4,
        "start_time": "2022-08-29T05:11:26.793Z"
      },
      {
        "duration": 4,
        "start_time": "2022-08-29T05:11:26.798Z"
      },
      {
        "duration": 2,
        "start_time": "2022-08-29T05:11:26.805Z"
      },
      {
        "duration": 4,
        "start_time": "2022-08-29T05:11:26.809Z"
      },
      {
        "duration": 4,
        "start_time": "2022-08-29T05:11:26.814Z"
      },
      {
        "duration": 6,
        "start_time": "2022-08-29T05:11:26.819Z"
      },
      {
        "duration": 6,
        "start_time": "2022-08-29T05:11:26.827Z"
      },
      {
        "duration": 20,
        "start_time": "2022-08-29T05:11:26.834Z"
      },
      {
        "duration": 40,
        "start_time": "2022-08-29T05:11:26.856Z"
      },
      {
        "duration": 17,
        "start_time": "2022-08-29T05:11:26.897Z"
      },
      {
        "duration": 4,
        "start_time": "2022-08-29T05:11:26.916Z"
      },
      {
        "duration": 12,
        "start_time": "2022-08-29T05:11:26.922Z"
      },
      {
        "duration": 10,
        "start_time": "2022-08-29T05:11:26.936Z"
      },
      {
        "duration": 38,
        "start_time": "2022-08-29T05:11:26.947Z"
      },
      {
        "duration": 2,
        "start_time": "2022-08-29T05:11:26.986Z"
      },
      {
        "duration": 5,
        "start_time": "2022-08-29T05:11:26.990Z"
      },
      {
        "duration": 5,
        "start_time": "2022-08-29T05:11:26.996Z"
      },
      {
        "duration": 6,
        "start_time": "2022-08-29T05:11:27.003Z"
      },
      {
        "duration": 5,
        "start_time": "2022-08-29T05:11:27.010Z"
      },
      {
        "duration": 4,
        "start_time": "2022-08-29T05:11:27.016Z"
      },
      {
        "duration": 4,
        "start_time": "2022-08-29T05:11:27.022Z"
      },
      {
        "duration": 4,
        "start_time": "2022-08-29T05:11:27.028Z"
      },
      {
        "duration": 5,
        "start_time": "2022-08-29T05:11:27.033Z"
      },
      {
        "duration": 5,
        "start_time": "2022-08-29T05:11:27.039Z"
      },
      {
        "duration": 5,
        "start_time": "2022-08-29T05:11:27.045Z"
      },
      {
        "duration": 4,
        "start_time": "2022-08-29T05:11:27.051Z"
      },
      {
        "duration": 5,
        "start_time": "2022-08-29T05:11:27.056Z"
      },
      {
        "duration": 23,
        "start_time": "2022-08-29T05:11:27.062Z"
      },
      {
        "duration": 2,
        "start_time": "2022-08-29T05:11:27.086Z"
      },
      {
        "duration": 5,
        "start_time": "2022-08-29T05:11:27.089Z"
      },
      {
        "duration": 5,
        "start_time": "2022-08-29T05:11:27.095Z"
      },
      {
        "duration": 6,
        "start_time": "2022-08-29T05:11:27.101Z"
      },
      {
        "duration": 4,
        "start_time": "2022-08-29T05:11:27.108Z"
      },
      {
        "duration": 5,
        "start_time": "2022-08-29T05:11:27.113Z"
      },
      {
        "duration": 5,
        "start_time": "2022-08-29T05:11:27.119Z"
      },
      {
        "duration": 7,
        "start_time": "2022-08-29T05:11:27.125Z"
      },
      {
        "duration": 5,
        "start_time": "2022-08-29T05:11:27.133Z"
      },
      {
        "duration": 5,
        "start_time": "2022-08-29T05:11:27.139Z"
      },
      {
        "duration": 4,
        "start_time": "2022-08-29T05:11:27.146Z"
      },
      {
        "duration": 5,
        "start_time": "2022-08-29T05:11:27.151Z"
      },
      {
        "duration": 4,
        "start_time": "2022-08-29T05:11:27.158Z"
      },
      {
        "duration": 3,
        "start_time": "2022-08-29T05:11:27.185Z"
      },
      {
        "duration": 6,
        "start_time": "2022-08-29T05:11:27.190Z"
      },
      {
        "duration": 4,
        "start_time": "2022-08-29T05:11:27.198Z"
      },
      {
        "duration": 6,
        "start_time": "2022-08-29T05:11:27.204Z"
      },
      {
        "duration": 6,
        "start_time": "2022-08-29T05:11:27.211Z"
      },
      {
        "duration": 24,
        "start_time": "2022-08-29T05:39:44.656Z"
      },
      {
        "duration": 7,
        "start_time": "2022-08-29T05:42:17.295Z"
      },
      {
        "duration": 4,
        "start_time": "2022-08-29T05:43:42.240Z"
      },
      {
        "duration": 3,
        "start_time": "2022-08-29T05:44:00.646Z"
      },
      {
        "duration": 3,
        "start_time": "2022-08-29T05:44:17.929Z"
      },
      {
        "duration": 4,
        "start_time": "2022-08-29T05:44:37.804Z"
      },
      {
        "duration": 472,
        "start_time": "2022-08-29T05:45:06.454Z"
      },
      {
        "duration": 9,
        "start_time": "2022-08-29T05:45:06.927Z"
      },
      {
        "duration": 19,
        "start_time": "2022-08-29T05:45:06.937Z"
      },
      {
        "duration": 13,
        "start_time": "2022-08-29T05:45:06.957Z"
      },
      {
        "duration": 25,
        "start_time": "2022-08-29T05:45:06.972Z"
      },
      {
        "duration": 7,
        "start_time": "2022-08-29T05:45:06.999Z"
      },
      {
        "duration": 14,
        "start_time": "2022-08-29T05:45:07.007Z"
      },
      {
        "duration": 4,
        "start_time": "2022-08-29T05:45:10.750Z"
      },
      {
        "duration": 8,
        "start_time": "2022-08-29T05:47:25.016Z"
      },
      {
        "duration": 7,
        "start_time": "2022-08-29T05:47:41.528Z"
      },
      {
        "duration": 60,
        "start_time": "2022-08-29T05:52:20.430Z"
      },
      {
        "duration": 8,
        "start_time": "2022-08-29T05:52:28.770Z"
      },
      {
        "duration": 8,
        "start_time": "2022-08-29T05:56:16.342Z"
      },
      {
        "duration": 7,
        "start_time": "2022-08-29T05:56:43.361Z"
      },
      {
        "duration": 8,
        "start_time": "2022-08-29T05:57:16.518Z"
      },
      {
        "duration": 8,
        "start_time": "2022-08-29T05:58:25.322Z"
      },
      {
        "duration": 8,
        "start_time": "2022-08-29T05:59:30.971Z"
      },
      {
        "duration": 7,
        "start_time": "2022-08-29T05:59:57.525Z"
      },
      {
        "duration": 10,
        "start_time": "2022-08-29T06:00:35.323Z"
      },
      {
        "duration": 20,
        "start_time": "2022-08-29T06:08:48.165Z"
      },
      {
        "duration": 8,
        "start_time": "2022-08-29T06:09:14.345Z"
      },
      {
        "duration": 173,
        "start_time": "2022-08-29T06:12:09.917Z"
      },
      {
        "duration": 80,
        "start_time": "2022-08-29T06:12:25.542Z"
      },
      {
        "duration": 8,
        "start_time": "2022-08-29T06:12:41.786Z"
      },
      {
        "duration": 7,
        "start_time": "2022-08-29T06:22:01.574Z"
      },
      {
        "duration": 13,
        "start_time": "2022-08-29T06:22:15.813Z"
      },
      {
        "duration": 8,
        "start_time": "2022-08-29T06:22:23.305Z"
      },
      {
        "duration": 8,
        "start_time": "2022-08-29T06:22:46.525Z"
      },
      {
        "duration": 15,
        "start_time": "2022-08-29T06:23:45.385Z"
      },
      {
        "duration": 2180,
        "start_time": "2022-08-29T06:24:53.569Z"
      },
      {
        "duration": 11,
        "start_time": "2022-08-29T06:25:22.768Z"
      },
      {
        "duration": 1496,
        "start_time": "2022-08-29T06:25:51.346Z"
      },
      {
        "duration": 1859,
        "start_time": "2022-08-29T06:29:54.875Z"
      },
      {
        "duration": 7,
        "start_time": "2022-08-29T06:31:18.884Z"
      },
      {
        "duration": 5,
        "start_time": "2022-08-29T06:33:17.072Z"
      },
      {
        "duration": 4,
        "start_time": "2022-08-29T06:33:33.366Z"
      },
      {
        "duration": 8,
        "start_time": "2022-08-29T06:33:42.530Z"
      },
      {
        "duration": 4,
        "start_time": "2022-08-29T06:33:52.750Z"
      },
      {
        "duration": 8,
        "start_time": "2022-08-29T06:34:29.147Z"
      },
      {
        "duration": 7,
        "start_time": "2022-08-29T06:34:37.229Z"
      },
      {
        "duration": 4,
        "start_time": "2022-08-29T06:34:45.853Z"
      },
      {
        "duration": 9,
        "start_time": "2022-08-29T06:34:53.916Z"
      },
      {
        "duration": 4,
        "start_time": "2022-08-29T06:35:52.323Z"
      },
      {
        "duration": 4,
        "start_time": "2022-08-29T06:36:18.740Z"
      },
      {
        "duration": 5,
        "start_time": "2022-08-29T06:36:45.590Z"
      },
      {
        "duration": 5,
        "start_time": "2022-08-29T06:37:08.266Z"
      },
      {
        "duration": 3,
        "start_time": "2022-08-29T06:38:42.147Z"
      },
      {
        "duration": 4,
        "start_time": "2022-08-29T06:39:01.696Z"
      },
      {
        "duration": 8,
        "start_time": "2022-08-29T07:20:13.208Z"
      },
      {
        "duration": 6,
        "start_time": "2022-08-29T07:20:25.143Z"
      },
      {
        "duration": 7,
        "start_time": "2022-08-29T07:41:23.061Z"
      },
      {
        "duration": 5,
        "start_time": "2022-08-29T07:41:52.703Z"
      },
      {
        "duration": 5,
        "start_time": "2022-08-29T07:42:04.048Z"
      },
      {
        "duration": 401,
        "start_time": "2022-08-29T07:42:23.633Z"
      },
      {
        "duration": 7,
        "start_time": "2022-08-29T07:42:24.036Z"
      },
      {
        "duration": 18,
        "start_time": "2022-08-29T07:42:24.045Z"
      },
      {
        "duration": 14,
        "start_time": "2022-08-29T07:42:24.065Z"
      },
      {
        "duration": 21,
        "start_time": "2022-08-29T07:42:24.080Z"
      },
      {
        "duration": 7,
        "start_time": "2022-08-29T07:42:24.102Z"
      },
      {
        "duration": 18,
        "start_time": "2022-08-29T07:42:24.110Z"
      },
      {
        "duration": 4,
        "start_time": "2022-08-29T07:42:24.130Z"
      },
      {
        "duration": 9,
        "start_time": "2022-08-29T07:42:24.135Z"
      },
      {
        "duration": 4,
        "start_time": "2022-08-29T07:42:24.146Z"
      },
      {
        "duration": 4,
        "start_time": "2022-08-29T07:42:24.152Z"
      },
      {
        "duration": 29,
        "start_time": "2022-08-29T07:42:24.157Z"
      },
      {
        "duration": 10,
        "start_time": "2022-08-29T07:42:24.187Z"
      },
      {
        "duration": 6,
        "start_time": "2022-08-29T07:42:24.199Z"
      },
      {
        "duration": 7,
        "start_time": "2022-08-29T07:42:24.207Z"
      },
      {
        "duration": 6,
        "start_time": "2022-08-29T07:42:27.465Z"
      },
      {
        "duration": 8,
        "start_time": "2022-08-29T07:42:42.647Z"
      },
      {
        "duration": 7,
        "start_time": "2022-08-29T07:43:58.249Z"
      },
      {
        "duration": 5,
        "start_time": "2022-08-29T07:44:56.504Z"
      },
      {
        "duration": 5,
        "start_time": "2022-08-29T07:45:11.979Z"
      },
      {
        "duration": 490,
        "start_time": "2022-08-29T07:45:31.672Z"
      },
      {
        "duration": 8,
        "start_time": "2022-08-29T07:45:32.163Z"
      },
      {
        "duration": 19,
        "start_time": "2022-08-29T07:45:32.173Z"
      },
      {
        "duration": 13,
        "start_time": "2022-08-29T07:45:32.194Z"
      },
      {
        "duration": 22,
        "start_time": "2022-08-29T07:45:32.209Z"
      },
      {
        "duration": 6,
        "start_time": "2022-08-29T07:45:32.233Z"
      },
      {
        "duration": 10,
        "start_time": "2022-08-29T07:45:32.240Z"
      },
      {
        "duration": 3,
        "start_time": "2022-08-29T07:45:32.251Z"
      },
      {
        "duration": 30,
        "start_time": "2022-08-29T07:45:32.255Z"
      },
      {
        "duration": 9,
        "start_time": "2022-08-29T07:45:32.289Z"
      },
      {
        "duration": 7,
        "start_time": "2022-08-29T07:45:32.299Z"
      },
      {
        "duration": 9,
        "start_time": "2022-08-29T07:45:32.308Z"
      },
      {
        "duration": 12,
        "start_time": "2022-08-29T07:45:32.318Z"
      },
      {
        "duration": 8,
        "start_time": "2022-08-29T07:45:32.331Z"
      },
      {
        "duration": 8,
        "start_time": "2022-08-29T07:45:32.340Z"
      },
      {
        "duration": 7,
        "start_time": "2022-08-29T07:45:32.349Z"
      },
      {
        "duration": 4,
        "start_time": "2022-08-29T07:45:32.357Z"
      },
      {
        "duration": 5,
        "start_time": "2022-08-29T07:45:32.363Z"
      },
      {
        "duration": 4,
        "start_time": "2022-08-29T07:45:32.385Z"
      },
      {
        "duration": 6,
        "start_time": "2022-08-29T07:45:32.391Z"
      },
      {
        "duration": 10,
        "start_time": "2022-08-29T07:45:32.399Z"
      },
      {
        "duration": 7,
        "start_time": "2022-08-29T07:45:32.410Z"
      },
      {
        "duration": 7,
        "start_time": "2022-08-29T07:45:32.418Z"
      },
      {
        "duration": 4,
        "start_time": "2022-08-29T07:45:32.426Z"
      },
      {
        "duration": 9,
        "start_time": "2022-08-29T07:45:32.432Z"
      },
      {
        "duration": 8,
        "start_time": "2022-08-29T07:45:32.442Z"
      },
      {
        "duration": 7,
        "start_time": "2022-08-29T07:45:32.451Z"
      },
      {
        "duration": 3,
        "start_time": "2022-08-29T07:45:32.462Z"
      },
      {
        "duration": 5,
        "start_time": "2022-08-29T07:45:32.466Z"
      },
      {
        "duration": 4,
        "start_time": "2022-08-29T07:45:32.473Z"
      },
      {
        "duration": 6,
        "start_time": "2022-08-29T07:45:32.478Z"
      },
      {
        "duration": 5,
        "start_time": "2022-08-29T07:45:32.485Z"
      },
      {
        "duration": 16,
        "start_time": "2022-08-29T07:45:32.491Z"
      },
      {
        "duration": 28,
        "start_time": "2022-08-29T07:45:32.508Z"
      },
      {
        "duration": 21,
        "start_time": "2022-08-29T07:45:32.537Z"
      },
      {
        "duration": 16,
        "start_time": "2022-08-29T07:45:32.559Z"
      },
      {
        "duration": 4,
        "start_time": "2022-08-29T07:45:32.576Z"
      },
      {
        "duration": 14,
        "start_time": "2022-08-29T07:45:32.582Z"
      },
      {
        "duration": 9,
        "start_time": "2022-08-29T07:45:32.597Z"
      },
      {
        "duration": 3,
        "start_time": "2022-08-29T07:45:32.607Z"
      },
      {
        "duration": 10,
        "start_time": "2022-08-29T07:45:32.611Z"
      },
      {
        "duration": 5,
        "start_time": "2022-08-29T07:45:32.622Z"
      },
      {
        "duration": 10,
        "start_time": "2022-08-29T07:45:32.628Z"
      },
      {
        "duration": 11,
        "start_time": "2022-08-29T07:45:32.639Z"
      },
      {
        "duration": 6,
        "start_time": "2022-08-29T07:45:32.651Z"
      },
      {
        "duration": 5,
        "start_time": "2022-08-29T07:45:32.658Z"
      },
      {
        "duration": 7,
        "start_time": "2022-08-29T07:45:32.664Z"
      },
      {
        "duration": 13,
        "start_time": "2022-08-29T07:45:32.672Z"
      },
      {
        "duration": 2,
        "start_time": "2022-08-29T07:45:32.686Z"
      },
      {
        "duration": 9,
        "start_time": "2022-08-29T07:45:32.689Z"
      },
      {
        "duration": 11,
        "start_time": "2022-08-29T07:45:32.700Z"
      },
      {
        "duration": 5,
        "start_time": "2022-08-29T07:45:32.712Z"
      },
      {
        "duration": 8,
        "start_time": "2022-08-29T07:45:32.719Z"
      },
      {
        "duration": 4,
        "start_time": "2022-08-29T07:45:32.728Z"
      },
      {
        "duration": 4,
        "start_time": "2022-08-29T07:45:32.734Z"
      },
      {
        "duration": 5,
        "start_time": "2022-08-29T07:45:32.739Z"
      },
      {
        "duration": 5,
        "start_time": "2022-08-29T07:45:32.746Z"
      },
      {
        "duration": 9,
        "start_time": "2022-08-29T07:45:32.752Z"
      },
      {
        "duration": 18,
        "start_time": "2022-08-29T07:45:32.762Z"
      },
      {
        "duration": 12,
        "start_time": "2022-08-29T07:45:32.781Z"
      },
      {
        "duration": 6,
        "start_time": "2022-08-29T07:45:32.794Z"
      },
      {
        "duration": 5,
        "start_time": "2022-08-29T07:45:32.801Z"
      },
      {
        "duration": 5,
        "start_time": "2022-08-29T07:45:32.807Z"
      },
      {
        "duration": 12,
        "start_time": "2022-08-29T07:45:32.813Z"
      },
      {
        "duration": 5,
        "start_time": "2022-08-29T07:45:32.827Z"
      },
      {
        "duration": 11,
        "start_time": "2022-08-29T07:45:32.834Z"
      },
      {
        "duration": 12,
        "start_time": "2022-08-29T07:45:32.847Z"
      },
      {
        "duration": 7,
        "start_time": "2022-08-29T07:45:32.861Z"
      },
      {
        "duration": 9,
        "start_time": "2022-08-29T07:45:32.870Z"
      },
      {
        "duration": 10,
        "start_time": "2022-08-29T07:45:32.881Z"
      },
      {
        "duration": 10,
        "start_time": "2022-08-29T07:45:32.893Z"
      },
      {
        "duration": 6,
        "start_time": "2022-08-29T07:45:32.904Z"
      },
      {
        "duration": 4,
        "start_time": "2022-08-29T07:46:27.016Z"
      },
      {
        "duration": 4,
        "start_time": "2022-08-29T07:48:00.710Z"
      },
      {
        "duration": 4,
        "start_time": "2022-08-29T07:48:40.716Z"
      },
      {
        "duration": 100,
        "start_time": "2022-08-29T07:52:04.689Z"
      },
      {
        "duration": 117,
        "start_time": "2022-08-29T07:52:50.858Z"
      },
      {
        "duration": 80,
        "start_time": "2022-08-29T07:53:04.579Z"
      },
      {
        "duration": 4,
        "start_time": "2022-08-29T07:53:21.928Z"
      },
      {
        "duration": 6,
        "start_time": "2022-08-29T07:53:32.610Z"
      },
      {
        "duration": 5,
        "start_time": "2022-08-29T07:53:42.051Z"
      },
      {
        "duration": 67,
        "start_time": "2022-08-29T08:04:59.731Z"
      },
      {
        "duration": 5,
        "start_time": "2022-08-29T08:05:19.635Z"
      },
      {
        "duration": 5,
        "start_time": "2022-08-29T08:05:26.843Z"
      },
      {
        "duration": 5,
        "start_time": "2022-08-29T08:06:22.524Z"
      },
      {
        "duration": 4,
        "start_time": "2022-08-29T08:07:03.339Z"
      },
      {
        "duration": 6,
        "start_time": "2022-08-29T08:07:45.592Z"
      },
      {
        "duration": 5,
        "start_time": "2022-08-29T08:08:09.950Z"
      },
      {
        "duration": 5,
        "start_time": "2022-08-29T08:08:29.822Z"
      },
      {
        "duration": 4,
        "start_time": "2022-08-29T08:11:16.855Z"
      },
      {
        "duration": 4,
        "start_time": "2022-08-29T08:13:18.690Z"
      },
      {
        "duration": 4,
        "start_time": "2022-08-29T08:13:50.910Z"
      },
      {
        "duration": 4,
        "start_time": "2022-08-29T08:15:01.094Z"
      },
      {
        "duration": 3,
        "start_time": "2022-08-29T08:15:41.099Z"
      },
      {
        "duration": 422,
        "start_time": "2022-08-29T08:16:22.920Z"
      },
      {
        "duration": 8,
        "start_time": "2022-08-29T08:16:23.343Z"
      },
      {
        "duration": 16,
        "start_time": "2022-08-29T08:16:23.353Z"
      },
      {
        "duration": 14,
        "start_time": "2022-08-29T08:16:23.371Z"
      },
      {
        "duration": 20,
        "start_time": "2022-08-29T08:16:23.386Z"
      },
      {
        "duration": 6,
        "start_time": "2022-08-29T08:16:23.407Z"
      },
      {
        "duration": 14,
        "start_time": "2022-08-29T08:16:23.415Z"
      },
      {
        "duration": 3,
        "start_time": "2022-08-29T08:16:23.430Z"
      },
      {
        "duration": 4,
        "start_time": "2022-08-29T08:16:23.435Z"
      },
      {
        "duration": 3,
        "start_time": "2022-08-29T08:16:23.442Z"
      },
      {
        "duration": 5,
        "start_time": "2022-08-29T08:16:23.446Z"
      },
      {
        "duration": 7,
        "start_time": "2022-08-29T08:16:23.484Z"
      },
      {
        "duration": 10,
        "start_time": "2022-08-29T08:16:23.493Z"
      },
      {
        "duration": 9,
        "start_time": "2022-08-29T08:16:23.504Z"
      },
      {
        "duration": 7,
        "start_time": "2022-08-29T08:16:23.515Z"
      },
      {
        "duration": 7,
        "start_time": "2022-08-29T08:16:23.524Z"
      },
      {
        "duration": 10,
        "start_time": "2022-08-29T08:16:23.532Z"
      },
      {
        "duration": 5,
        "start_time": "2022-08-29T08:16:23.543Z"
      },
      {
        "duration": 12,
        "start_time": "2022-08-29T08:16:23.549Z"
      },
      {
        "duration": 9,
        "start_time": "2022-08-29T08:16:23.563Z"
      },
      {
        "duration": 2,
        "start_time": "2022-08-29T08:16:23.584Z"
      },
      {
        "duration": 6,
        "start_time": "2022-08-29T08:16:23.587Z"
      },
      {
        "duration": 6,
        "start_time": "2022-08-29T08:16:23.594Z"
      },
      {
        "duration": 5,
        "start_time": "2022-08-29T08:16:23.602Z"
      },
      {
        "duration": 12,
        "start_time": "2022-08-29T08:16:23.608Z"
      },
      {
        "duration": 6,
        "start_time": "2022-08-29T08:16:23.621Z"
      },
      {
        "duration": 7,
        "start_time": "2022-08-29T08:16:23.628Z"
      },
      {
        "duration": 6,
        "start_time": "2022-08-29T08:16:23.639Z"
      },
      {
        "duration": 4,
        "start_time": "2022-08-29T08:16:23.647Z"
      },
      {
        "duration": 4,
        "start_time": "2022-08-29T08:16:23.652Z"
      },
      {
        "duration": 14,
        "start_time": "2022-08-29T08:16:23.658Z"
      },
      {
        "duration": 7,
        "start_time": "2022-08-29T08:16:23.673Z"
      },
      {
        "duration": 6,
        "start_time": "2022-08-29T08:16:23.681Z"
      },
      {
        "duration": 20,
        "start_time": "2022-08-29T08:16:23.688Z"
      },
      {
        "duration": 15,
        "start_time": "2022-08-29T08:16:23.710Z"
      },
      {
        "duration": 16,
        "start_time": "2022-08-29T08:16:23.727Z"
      },
      {
        "duration": 4,
        "start_time": "2022-08-29T08:16:23.744Z"
      },
      {
        "duration": 37,
        "start_time": "2022-08-29T08:16:23.749Z"
      },
      {
        "duration": 9,
        "start_time": "2022-08-29T08:16:23.788Z"
      },
      {
        "duration": 2,
        "start_time": "2022-08-29T08:16:23.799Z"
      },
      {
        "duration": 4,
        "start_time": "2022-08-29T08:16:23.802Z"
      },
      {
        "duration": 4,
        "start_time": "2022-08-29T08:16:23.808Z"
      },
      {
        "duration": 4,
        "start_time": "2022-08-29T08:16:23.814Z"
      },
      {
        "duration": 5,
        "start_time": "2022-08-29T08:16:23.819Z"
      },
      {
        "duration": 4,
        "start_time": "2022-08-29T08:16:23.825Z"
      },
      {
        "duration": 3,
        "start_time": "2022-08-29T08:16:23.831Z"
      },
      {
        "duration": 4,
        "start_time": "2022-08-29T08:16:23.835Z"
      },
      {
        "duration": 4,
        "start_time": "2022-08-29T08:16:23.840Z"
      },
      {
        "duration": 4,
        "start_time": "2022-08-29T08:16:23.845Z"
      },
      {
        "duration": 5,
        "start_time": "2022-08-29T08:16:23.850Z"
      },
      {
        "duration": 2,
        "start_time": "2022-08-29T08:16:23.885Z"
      },
      {
        "duration": 4,
        "start_time": "2022-08-29T08:16:23.889Z"
      },
      {
        "duration": 8,
        "start_time": "2022-08-29T08:16:23.894Z"
      },
      {
        "duration": 9,
        "start_time": "2022-08-29T08:16:23.904Z"
      },
      {
        "duration": 7,
        "start_time": "2022-08-29T08:16:23.915Z"
      },
      {
        "duration": 8,
        "start_time": "2022-08-29T08:16:23.924Z"
      },
      {
        "duration": 9,
        "start_time": "2022-08-29T08:16:23.933Z"
      },
      {
        "duration": 5,
        "start_time": "2022-08-29T08:16:23.943Z"
      },
      {
        "duration": 7,
        "start_time": "2022-08-29T08:16:23.949Z"
      },
      {
        "duration": 5,
        "start_time": "2022-08-29T08:16:23.957Z"
      },
      {
        "duration": 5,
        "start_time": "2022-08-29T08:16:23.963Z"
      },
      {
        "duration": 5,
        "start_time": "2022-08-29T08:16:23.969Z"
      },
      {
        "duration": 5,
        "start_time": "2022-08-29T08:16:23.975Z"
      },
      {
        "duration": 7,
        "start_time": "2022-08-29T08:16:23.981Z"
      },
      {
        "duration": 6,
        "start_time": "2022-08-29T08:16:23.989Z"
      },
      {
        "duration": 6,
        "start_time": "2022-08-29T08:16:23.996Z"
      },
      {
        "duration": 8,
        "start_time": "2022-08-29T08:16:24.004Z"
      },
      {
        "duration": 5,
        "start_time": "2022-08-29T08:16:24.013Z"
      },
      {
        "duration": 4,
        "start_time": "2022-08-29T08:16:24.019Z"
      },
      {
        "duration": 5,
        "start_time": "2022-08-29T08:16:24.025Z"
      },
      {
        "duration": 5,
        "start_time": "2022-08-29T08:16:24.031Z"
      },
      {
        "duration": 5,
        "start_time": "2022-08-29T08:16:24.037Z"
      },
      {
        "duration": 4,
        "start_time": "2022-08-29T08:27:46.319Z"
      },
      {
        "duration": 7,
        "start_time": "2022-08-29T08:29:10.150Z"
      },
      {
        "duration": 8,
        "start_time": "2022-08-29T08:32:06.935Z"
      },
      {
        "duration": 8,
        "start_time": "2022-08-29T08:32:45.454Z"
      },
      {
        "duration": 4,
        "start_time": "2022-08-29T08:33:00.356Z"
      },
      {
        "duration": 59,
        "start_time": "2022-08-29T08:34:41.672Z"
      },
      {
        "duration": 7,
        "start_time": "2022-08-29T08:34:53.103Z"
      },
      {
        "duration": 7,
        "start_time": "2022-08-29T08:35:02.131Z"
      },
      {
        "duration": 7,
        "start_time": "2022-08-29T08:35:12.564Z"
      },
      {
        "duration": 8,
        "start_time": "2022-08-29T08:35:40.254Z"
      },
      {
        "duration": 6,
        "start_time": "2022-08-29T08:36:13.049Z"
      },
      {
        "duration": 6,
        "start_time": "2022-08-29T08:36:40.667Z"
      },
      {
        "duration": 5,
        "start_time": "2022-08-29T08:37:04.150Z"
      },
      {
        "duration": 6,
        "start_time": "2022-08-29T08:39:02.661Z"
      },
      {
        "duration": 6,
        "start_time": "2022-08-29T08:41:14.420Z"
      },
      {
        "duration": 462,
        "start_time": "2022-08-29T08:41:34.900Z"
      },
      {
        "duration": 9,
        "start_time": "2022-08-29T08:41:35.364Z"
      },
      {
        "duration": 21,
        "start_time": "2022-08-29T08:41:35.374Z"
      },
      {
        "duration": 15,
        "start_time": "2022-08-29T08:41:35.396Z"
      },
      {
        "duration": 18,
        "start_time": "2022-08-29T08:41:35.412Z"
      },
      {
        "duration": 7,
        "start_time": "2022-08-29T08:41:35.431Z"
      },
      {
        "duration": 15,
        "start_time": "2022-08-29T08:41:35.439Z"
      },
      {
        "duration": 3,
        "start_time": "2022-08-29T08:41:35.456Z"
      },
      {
        "duration": 3,
        "start_time": "2022-08-29T08:41:35.484Z"
      },
      {
        "duration": 4,
        "start_time": "2022-08-29T08:41:35.490Z"
      },
      {
        "duration": 4,
        "start_time": "2022-08-29T08:41:35.496Z"
      },
      {
        "duration": 11,
        "start_time": "2022-08-29T08:41:35.501Z"
      },
      {
        "duration": 13,
        "start_time": "2022-08-29T08:41:35.514Z"
      },
      {
        "duration": 10,
        "start_time": "2022-08-29T08:41:35.529Z"
      },
      {
        "duration": 6,
        "start_time": "2022-08-29T08:41:35.541Z"
      },
      {
        "duration": 9,
        "start_time": "2022-08-29T08:41:35.548Z"
      },
      {
        "duration": 29,
        "start_time": "2022-08-29T08:41:35.558Z"
      },
      {
        "duration": 5,
        "start_time": "2022-08-29T08:41:35.588Z"
      },
      {
        "duration": 8,
        "start_time": "2022-08-29T08:41:35.594Z"
      },
      {
        "duration": 20,
        "start_time": "2022-08-29T08:41:35.603Z"
      },
      {
        "duration": 5,
        "start_time": "2022-08-29T08:41:35.625Z"
      },
      {
        "duration": 9,
        "start_time": "2022-08-29T08:41:35.632Z"
      },
      {
        "duration": 4,
        "start_time": "2022-08-29T08:41:35.642Z"
      },
      {
        "duration": 13,
        "start_time": "2022-08-29T08:41:35.647Z"
      },
      {
        "duration": 7,
        "start_time": "2022-08-29T08:41:35.662Z"
      },
      {
        "duration": 6,
        "start_time": "2022-08-29T08:41:35.671Z"
      },
      {
        "duration": 9,
        "start_time": "2022-08-29T08:41:35.679Z"
      },
      {
        "duration": 7,
        "start_time": "2022-08-29T08:41:35.691Z"
      },
      {
        "duration": 4,
        "start_time": "2022-08-29T08:41:35.700Z"
      },
      {
        "duration": 5,
        "start_time": "2022-08-29T08:41:35.706Z"
      },
      {
        "duration": 4,
        "start_time": "2022-08-29T08:41:35.712Z"
      },
      {
        "duration": 4,
        "start_time": "2022-08-29T08:41:35.718Z"
      },
      {
        "duration": 5,
        "start_time": "2022-08-29T08:41:35.723Z"
      },
      {
        "duration": 25,
        "start_time": "2022-08-29T08:41:35.729Z"
      },
      {
        "duration": 17,
        "start_time": "2022-08-29T08:41:35.756Z"
      },
      {
        "duration": 22,
        "start_time": "2022-08-29T08:41:35.775Z"
      },
      {
        "duration": 3,
        "start_time": "2022-08-29T08:41:35.799Z"
      },
      {
        "duration": 13,
        "start_time": "2022-08-29T08:41:35.804Z"
      },
      {
        "duration": 17,
        "start_time": "2022-08-29T08:41:35.819Z"
      },
      {
        "duration": 2,
        "start_time": "2022-08-29T08:41:35.838Z"
      },
      {
        "duration": 6,
        "start_time": "2022-08-29T08:41:35.841Z"
      },
      {
        "duration": 5,
        "start_time": "2022-08-29T08:41:35.848Z"
      },
      {
        "duration": 7,
        "start_time": "2022-08-29T08:41:35.855Z"
      },
      {
        "duration": 21,
        "start_time": "2022-08-29T08:41:35.864Z"
      },
      {
        "duration": 9,
        "start_time": "2022-08-29T08:41:35.886Z"
      },
      {
        "duration": 5,
        "start_time": "2022-08-29T08:41:35.896Z"
      },
      {
        "duration": 8,
        "start_time": "2022-08-29T08:41:35.902Z"
      },
      {
        "duration": 8,
        "start_time": "2022-08-29T08:41:35.911Z"
      },
      {
        "duration": 5,
        "start_time": "2022-08-29T08:41:35.921Z"
      },
      {
        "duration": 5,
        "start_time": "2022-08-29T08:41:35.928Z"
      },
      {
        "duration": 7,
        "start_time": "2022-08-29T08:41:35.935Z"
      },
      {
        "duration": 8,
        "start_time": "2022-08-29T08:41:35.944Z"
      },
      {
        "duration": 8,
        "start_time": "2022-08-29T08:41:35.953Z"
      },
      {
        "duration": 10,
        "start_time": "2022-08-29T08:41:35.962Z"
      },
      {
        "duration": 6,
        "start_time": "2022-08-29T08:41:35.973Z"
      },
      {
        "duration": 7,
        "start_time": "2022-08-29T08:41:35.980Z"
      },
      {
        "duration": 7,
        "start_time": "2022-08-29T08:41:35.989Z"
      },
      {
        "duration": 5,
        "start_time": "2022-08-29T08:41:35.997Z"
      },
      {
        "duration": 35,
        "start_time": "2022-08-29T08:41:36.003Z"
      },
      {
        "duration": 6,
        "start_time": "2022-08-29T08:41:36.040Z"
      },
      {
        "duration": 8,
        "start_time": "2022-08-29T08:41:36.047Z"
      },
      {
        "duration": 6,
        "start_time": "2022-08-29T08:41:36.056Z"
      },
      {
        "duration": 7,
        "start_time": "2022-08-29T08:41:36.063Z"
      },
      {
        "duration": 7,
        "start_time": "2022-08-29T08:41:36.071Z"
      },
      {
        "duration": 5,
        "start_time": "2022-08-29T08:41:36.079Z"
      },
      {
        "duration": 4,
        "start_time": "2022-08-29T08:41:36.085Z"
      },
      {
        "duration": 7,
        "start_time": "2022-08-29T08:41:36.091Z"
      },
      {
        "duration": 21,
        "start_time": "2022-08-29T08:41:36.099Z"
      },
      {
        "duration": 5,
        "start_time": "2022-08-29T08:41:36.122Z"
      },
      {
        "duration": 7,
        "start_time": "2022-08-29T08:41:36.129Z"
      },
      {
        "duration": 11,
        "start_time": "2022-08-29T08:41:36.137Z"
      },
      {
        "duration": 4,
        "start_time": "2022-08-29T08:41:36.149Z"
      },
      {
        "duration": 4,
        "start_time": "2022-08-29T08:42:30.620Z"
      },
      {
        "duration": 4,
        "start_time": "2022-08-29T08:42:42.954Z"
      },
      {
        "duration": 488,
        "start_time": "2022-08-29T08:43:00.094Z"
      },
      {
        "duration": 8,
        "start_time": "2022-08-29T08:43:00.584Z"
      },
      {
        "duration": 34,
        "start_time": "2022-08-29T08:43:00.594Z"
      },
      {
        "duration": 17,
        "start_time": "2022-08-29T08:43:00.629Z"
      },
      {
        "duration": 33,
        "start_time": "2022-08-29T08:43:00.647Z"
      },
      {
        "duration": 5,
        "start_time": "2022-08-29T08:43:00.682Z"
      },
      {
        "duration": 33,
        "start_time": "2022-08-29T08:43:00.688Z"
      },
      {
        "duration": 17,
        "start_time": "2022-08-29T08:43:00.722Z"
      },
      {
        "duration": 28,
        "start_time": "2022-08-29T08:43:00.741Z"
      },
      {
        "duration": 33,
        "start_time": "2022-08-29T08:43:00.773Z"
      },
      {
        "duration": 29,
        "start_time": "2022-08-29T08:43:00.808Z"
      },
      {
        "duration": 27,
        "start_time": "2022-08-29T08:43:00.838Z"
      },
      {
        "duration": 26,
        "start_time": "2022-08-29T08:43:00.866Z"
      },
      {
        "duration": 42,
        "start_time": "2022-08-29T08:43:00.894Z"
      },
      {
        "duration": 40,
        "start_time": "2022-08-29T08:43:00.938Z"
      },
      {
        "duration": 20,
        "start_time": "2022-08-29T08:43:00.980Z"
      },
      {
        "duration": 19,
        "start_time": "2022-08-29T08:43:01.001Z"
      },
      {
        "duration": 32,
        "start_time": "2022-08-29T08:43:01.022Z"
      },
      {
        "duration": 22,
        "start_time": "2022-08-29T08:43:01.056Z"
      },
      {
        "duration": 27,
        "start_time": "2022-08-29T08:43:01.080Z"
      },
      {
        "duration": 25,
        "start_time": "2022-08-29T08:43:01.109Z"
      },
      {
        "duration": 29,
        "start_time": "2022-08-29T08:43:01.137Z"
      },
      {
        "duration": 17,
        "start_time": "2022-08-29T08:43:01.168Z"
      },
      {
        "duration": 38,
        "start_time": "2022-08-29T08:43:01.186Z"
      },
      {
        "duration": 32,
        "start_time": "2022-08-29T08:43:01.226Z"
      },
      {
        "duration": 22,
        "start_time": "2022-08-29T08:43:01.260Z"
      },
      {
        "duration": 26,
        "start_time": "2022-08-29T08:43:01.284Z"
      },
      {
        "duration": 23,
        "start_time": "2022-08-29T08:43:01.316Z"
      },
      {
        "duration": 36,
        "start_time": "2022-08-29T08:43:01.340Z"
      },
      {
        "duration": 27,
        "start_time": "2022-08-29T08:43:01.378Z"
      },
      {
        "duration": 26,
        "start_time": "2022-08-29T08:43:01.407Z"
      },
      {
        "duration": 18,
        "start_time": "2022-08-29T08:43:01.434Z"
      },
      {
        "duration": 29,
        "start_time": "2022-08-29T08:43:01.453Z"
      },
      {
        "duration": 39,
        "start_time": "2022-08-29T08:43:01.484Z"
      },
      {
        "duration": 16,
        "start_time": "2022-08-29T08:43:01.525Z"
      },
      {
        "duration": 39,
        "start_time": "2022-08-29T08:43:01.543Z"
      },
      {
        "duration": 21,
        "start_time": "2022-08-29T08:43:01.584Z"
      },
      {
        "duration": 23,
        "start_time": "2022-08-29T08:43:01.607Z"
      },
      {
        "duration": 34,
        "start_time": "2022-08-29T08:43:01.632Z"
      },
      {
        "duration": 40,
        "start_time": "2022-08-29T08:43:01.668Z"
      },
      {
        "duration": 23,
        "start_time": "2022-08-29T08:43:01.710Z"
      },
      {
        "duration": 32,
        "start_time": "2022-08-29T08:43:01.735Z"
      },
      {
        "duration": 24,
        "start_time": "2022-08-29T08:43:01.769Z"
      },
      {
        "duration": 81,
        "start_time": "2022-08-29T08:43:01.795Z"
      },
      {
        "duration": 12,
        "start_time": "2022-08-29T08:43:01.878Z"
      },
      {
        "duration": 29,
        "start_time": "2022-08-29T08:43:01.892Z"
      },
      {
        "duration": 21,
        "start_time": "2022-08-29T08:43:01.923Z"
      },
      {
        "duration": 21,
        "start_time": "2022-08-29T08:43:01.946Z"
      },
      {
        "duration": 32,
        "start_time": "2022-08-29T08:43:01.969Z"
      },
      {
        "duration": 30,
        "start_time": "2022-08-29T08:43:02.003Z"
      },
      {
        "duration": 23,
        "start_time": "2022-08-29T08:43:02.035Z"
      },
      {
        "duration": 16,
        "start_time": "2022-08-29T08:43:02.060Z"
      },
      {
        "duration": 23,
        "start_time": "2022-08-29T08:43:02.077Z"
      },
      {
        "duration": 17,
        "start_time": "2022-08-29T08:43:02.101Z"
      },
      {
        "duration": 23,
        "start_time": "2022-08-29T08:43:02.120Z"
      },
      {
        "duration": 38,
        "start_time": "2022-08-29T08:43:02.145Z"
      },
      {
        "duration": 34,
        "start_time": "2022-08-29T08:43:02.185Z"
      },
      {
        "duration": 17,
        "start_time": "2022-08-29T08:43:02.221Z"
      },
      {
        "duration": 39,
        "start_time": "2022-08-29T08:43:02.239Z"
      },
      {
        "duration": 17,
        "start_time": "2022-08-29T08:43:02.280Z"
      },
      {
        "duration": 24,
        "start_time": "2022-08-29T08:43:02.299Z"
      },
      {
        "duration": 21,
        "start_time": "2022-08-29T08:43:02.324Z"
      },
      {
        "duration": 26,
        "start_time": "2022-08-29T08:43:02.346Z"
      },
      {
        "duration": 14,
        "start_time": "2022-08-29T08:43:02.373Z"
      },
      {
        "duration": 25,
        "start_time": "2022-08-29T08:43:02.388Z"
      },
      {
        "duration": 27,
        "start_time": "2022-08-29T08:43:02.414Z"
      },
      {
        "duration": 19,
        "start_time": "2022-08-29T08:43:02.443Z"
      },
      {
        "duration": 32,
        "start_time": "2022-08-29T08:43:02.464Z"
      },
      {
        "duration": 25,
        "start_time": "2022-08-29T08:43:02.497Z"
      },
      {
        "duration": 29,
        "start_time": "2022-08-29T08:43:02.523Z"
      },
      {
        "duration": 17,
        "start_time": "2022-08-29T08:43:02.553Z"
      },
      {
        "duration": 18,
        "start_time": "2022-08-29T08:43:02.572Z"
      },
      {
        "duration": 6,
        "start_time": "2022-08-29T08:48:06.883Z"
      },
      {
        "duration": 6,
        "start_time": "2022-08-29T08:48:28.888Z"
      },
      {
        "duration": 7,
        "start_time": "2022-08-29T08:48:47.685Z"
      },
      {
        "duration": 6,
        "start_time": "2022-08-29T08:49:04.845Z"
      },
      {
        "duration": 6,
        "start_time": "2022-08-29T08:49:43.226Z"
      },
      {
        "duration": 424,
        "start_time": "2022-08-29T08:51:21.518Z"
      },
      {
        "duration": 10,
        "start_time": "2022-08-29T08:51:21.944Z"
      },
      {
        "duration": 23,
        "start_time": "2022-08-29T08:51:21.955Z"
      },
      {
        "duration": 13,
        "start_time": "2022-08-29T08:51:21.980Z"
      },
      {
        "duration": 17,
        "start_time": "2022-08-29T08:51:21.995Z"
      },
      {
        "duration": 6,
        "start_time": "2022-08-29T08:51:22.013Z"
      },
      {
        "duration": 10,
        "start_time": "2022-08-29T08:51:22.020Z"
      },
      {
        "duration": 7,
        "start_time": "2022-08-29T08:51:22.032Z"
      },
      {
        "duration": 5,
        "start_time": "2022-08-29T08:51:22.041Z"
      },
      {
        "duration": 3,
        "start_time": "2022-08-29T08:51:22.050Z"
      },
      {
        "duration": 30,
        "start_time": "2022-08-29T08:51:22.055Z"
      },
      {
        "duration": 12,
        "start_time": "2022-08-29T08:51:22.087Z"
      },
      {
        "duration": 12,
        "start_time": "2022-08-29T08:51:22.100Z"
      },
      {
        "duration": 12,
        "start_time": "2022-08-29T08:51:22.113Z"
      },
      {
        "duration": 11,
        "start_time": "2022-08-29T08:51:22.126Z"
      },
      {
        "duration": 8,
        "start_time": "2022-08-29T08:51:22.138Z"
      },
      {
        "duration": 6,
        "start_time": "2022-08-29T08:51:22.147Z"
      },
      {
        "duration": 8,
        "start_time": "2022-08-29T08:51:22.155Z"
      },
      {
        "duration": 8,
        "start_time": "2022-08-29T08:51:22.164Z"
      },
      {
        "duration": 11,
        "start_time": "2022-08-29T08:51:22.174Z"
      },
      {
        "duration": 4,
        "start_time": "2022-08-29T08:51:22.186Z"
      },
      {
        "duration": 7,
        "start_time": "2022-08-29T08:51:22.192Z"
      },
      {
        "duration": 7,
        "start_time": "2022-08-29T08:51:22.200Z"
      },
      {
        "duration": 4,
        "start_time": "2022-08-29T08:51:22.208Z"
      },
      {
        "duration": 4,
        "start_time": "2022-08-29T08:51:22.214Z"
      },
      {
        "duration": 4,
        "start_time": "2022-08-29T08:51:22.220Z"
      },
      {
        "duration": 6,
        "start_time": "2022-08-29T08:51:22.225Z"
      },
      {
        "duration": 2,
        "start_time": "2022-08-29T08:51:22.235Z"
      },
      {
        "duration": 5,
        "start_time": "2022-08-29T08:51:22.238Z"
      },
      {
        "duration": 4,
        "start_time": "2022-08-29T08:51:22.244Z"
      },
      {
        "duration": 5,
        "start_time": "2022-08-29T08:51:22.249Z"
      },
      {
        "duration": 4,
        "start_time": "2022-08-29T08:51:22.256Z"
      },
      {
        "duration": 2,
        "start_time": "2022-08-29T08:51:22.285Z"
      },
      {
        "duration": 17,
        "start_time": "2022-08-29T08:51:22.289Z"
      },
      {
        "duration": 16,
        "start_time": "2022-08-29T08:51:22.307Z"
      },
      {
        "duration": 15,
        "start_time": "2022-08-29T08:51:22.325Z"
      },
      {
        "duration": 4,
        "start_time": "2022-08-29T08:51:22.341Z"
      },
      {
        "duration": 45,
        "start_time": "2022-08-29T08:51:22.347Z"
      },
      {
        "duration": 9,
        "start_time": "2022-08-29T08:51:22.393Z"
      },
      {
        "duration": 2,
        "start_time": "2022-08-29T08:51:22.403Z"
      },
      {
        "duration": 10,
        "start_time": "2022-08-29T08:51:22.407Z"
      },
      {
        "duration": 7,
        "start_time": "2022-08-29T08:51:22.418Z"
      },
      {
        "duration": 7,
        "start_time": "2022-08-29T08:51:22.426Z"
      },
      {
        "duration": 5,
        "start_time": "2022-08-29T08:51:22.435Z"
      },
      {
        "duration": 6,
        "start_time": "2022-08-29T08:51:22.441Z"
      },
      {
        "duration": 5,
        "start_time": "2022-08-29T08:51:22.448Z"
      },
      {
        "duration": 4,
        "start_time": "2022-08-29T08:51:22.455Z"
      },
      {
        "duration": 4,
        "start_time": "2022-08-29T08:51:22.460Z"
      },
      {
        "duration": 5,
        "start_time": "2022-08-29T08:51:22.465Z"
      },
      {
        "duration": 13,
        "start_time": "2022-08-29T08:51:22.472Z"
      },
      {
        "duration": 9,
        "start_time": "2022-08-29T08:51:22.486Z"
      },
      {
        "duration": 5,
        "start_time": "2022-08-29T08:51:22.497Z"
      },
      {
        "duration": 6,
        "start_time": "2022-08-29T08:51:22.503Z"
      },
      {
        "duration": 5,
        "start_time": "2022-08-29T08:51:22.510Z"
      },
      {
        "duration": 5,
        "start_time": "2022-08-29T08:51:22.517Z"
      },
      {
        "duration": 4,
        "start_time": "2022-08-29T08:51:22.523Z"
      },
      {
        "duration": 4,
        "start_time": "2022-08-29T08:51:22.529Z"
      },
      {
        "duration": 4,
        "start_time": "2022-08-29T08:51:22.534Z"
      },
      {
        "duration": 7,
        "start_time": "2022-08-29T08:51:22.539Z"
      },
      {
        "duration": 9,
        "start_time": "2022-08-29T08:51:22.547Z"
      },
      {
        "duration": 2,
        "start_time": "2022-08-29T08:51:22.560Z"
      },
      {
        "duration": 4,
        "start_time": "2022-08-29T08:51:22.563Z"
      },
      {
        "duration": 19,
        "start_time": "2022-08-29T08:51:22.568Z"
      },
      {
        "duration": 5,
        "start_time": "2022-08-29T08:51:22.588Z"
      },
      {
        "duration": 5,
        "start_time": "2022-08-29T08:51:22.594Z"
      },
      {
        "duration": 6,
        "start_time": "2022-08-29T08:51:22.601Z"
      },
      {
        "duration": 5,
        "start_time": "2022-08-29T08:51:22.608Z"
      },
      {
        "duration": 8,
        "start_time": "2022-08-29T08:51:22.614Z"
      },
      {
        "duration": 4,
        "start_time": "2022-08-29T08:51:22.623Z"
      },
      {
        "duration": 5,
        "start_time": "2022-08-29T08:51:22.628Z"
      },
      {
        "duration": 7,
        "start_time": "2022-08-29T08:51:22.635Z"
      },
      {
        "duration": 5,
        "start_time": "2022-08-29T08:51:22.643Z"
      },
      {
        "duration": 59,
        "start_time": "2022-08-29T08:52:15.473Z"
      },
      {
        "duration": 7,
        "start_time": "2022-08-29T08:52:35.659Z"
      },
      {
        "duration": 8,
        "start_time": "2022-08-29T08:53:04.502Z"
      },
      {
        "duration": 23,
        "start_time": "2022-08-29T09:02:21.180Z"
      },
      {
        "duration": 17,
        "start_time": "2022-08-29T09:04:29.862Z"
      },
      {
        "duration": 5,
        "start_time": "2022-08-29T09:05:36.701Z"
      },
      {
        "duration": 9,
        "start_time": "2022-08-29T09:06:22.331Z"
      },
      {
        "duration": 409,
        "start_time": "2022-08-29T09:06:34.040Z"
      },
      {
        "duration": 11,
        "start_time": "2022-08-29T09:06:34.452Z"
      },
      {
        "duration": 27,
        "start_time": "2022-08-29T09:06:34.465Z"
      },
      {
        "duration": 16,
        "start_time": "2022-08-29T09:06:34.495Z"
      },
      {
        "duration": 23,
        "start_time": "2022-08-29T09:06:34.513Z"
      },
      {
        "duration": 10,
        "start_time": "2022-08-29T09:06:34.539Z"
      },
      {
        "duration": 45,
        "start_time": "2022-08-29T09:06:34.551Z"
      },
      {
        "duration": 4,
        "start_time": "2022-08-29T09:06:34.598Z"
      },
      {
        "duration": 10,
        "start_time": "2022-08-29T09:06:34.604Z"
      },
      {
        "duration": 3,
        "start_time": "2022-08-29T09:06:34.618Z"
      },
      {
        "duration": 6,
        "start_time": "2022-08-29T09:06:34.622Z"
      },
      {
        "duration": 9,
        "start_time": "2022-08-29T09:06:34.630Z"
      },
      {
        "duration": 13,
        "start_time": "2022-08-29T09:06:34.641Z"
      },
      {
        "duration": 31,
        "start_time": "2022-08-29T09:06:34.656Z"
      },
      {
        "duration": 9,
        "start_time": "2022-08-29T09:06:34.689Z"
      },
      {
        "duration": 12,
        "start_time": "2022-08-29T09:06:34.700Z"
      },
      {
        "duration": 6,
        "start_time": "2022-08-29T09:06:34.714Z"
      },
      {
        "duration": 7,
        "start_time": "2022-08-29T09:06:34.721Z"
      },
      {
        "duration": 9,
        "start_time": "2022-08-29T09:06:34.730Z"
      },
      {
        "duration": 5,
        "start_time": "2022-08-29T09:06:34.741Z"
      },
      {
        "duration": 8,
        "start_time": "2022-08-29T09:06:34.747Z"
      },
      {
        "duration": 10,
        "start_time": "2022-08-29T09:06:34.757Z"
      },
      {
        "duration": 36,
        "start_time": "2022-08-29T09:06:34.768Z"
      },
      {
        "duration": 5,
        "start_time": "2022-08-29T09:06:34.805Z"
      },
      {
        "duration": 3,
        "start_time": "2022-08-29T09:06:34.811Z"
      },
      {
        "duration": 5,
        "start_time": "2022-08-29T09:06:34.815Z"
      },
      {
        "duration": 5,
        "start_time": "2022-08-29T09:06:34.822Z"
      },
      {
        "duration": 2,
        "start_time": "2022-08-29T09:06:34.831Z"
      },
      {
        "duration": 8,
        "start_time": "2022-08-29T09:06:34.835Z"
      },
      {
        "duration": 5,
        "start_time": "2022-08-29T09:06:34.844Z"
      },
      {
        "duration": 10,
        "start_time": "2022-08-29T09:06:34.850Z"
      },
      {
        "duration": 24,
        "start_time": "2022-08-29T09:06:34.861Z"
      },
      {
        "duration": 5,
        "start_time": "2022-08-29T09:06:34.887Z"
      },
      {
        "duration": 5,
        "start_time": "2022-08-29T09:06:34.894Z"
      },
      {
        "duration": 20,
        "start_time": "2022-08-29T09:06:34.900Z"
      },
      {
        "duration": 19,
        "start_time": "2022-08-29T09:06:34.921Z"
      },
      {
        "duration": 14,
        "start_time": "2022-08-29T09:06:34.942Z"
      },
      {
        "duration": 3,
        "start_time": "2022-08-29T09:06:34.957Z"
      },
      {
        "duration": 12,
        "start_time": "2022-08-29T09:06:34.984Z"
      },
      {
        "duration": 9,
        "start_time": "2022-08-29T09:06:34.997Z"
      },
      {
        "duration": 2,
        "start_time": "2022-08-29T09:06:35.007Z"
      },
      {
        "duration": 6,
        "start_time": "2022-08-29T09:06:35.010Z"
      },
      {
        "duration": 10,
        "start_time": "2022-08-29T09:06:35.017Z"
      },
      {
        "duration": 5,
        "start_time": "2022-08-29T09:06:35.028Z"
      },
      {
        "duration": 6,
        "start_time": "2022-08-29T09:06:35.034Z"
      },
      {
        "duration": 6,
        "start_time": "2022-08-29T09:06:35.041Z"
      },
      {
        "duration": 6,
        "start_time": "2022-08-29T09:06:35.048Z"
      },
      {
        "duration": 5,
        "start_time": "2022-08-29T09:06:35.056Z"
      },
      {
        "duration": 7,
        "start_time": "2022-08-29T09:06:35.062Z"
      },
      {
        "duration": 2,
        "start_time": "2022-08-29T09:06:35.085Z"
      },
      {
        "duration": 4,
        "start_time": "2022-08-29T09:06:35.088Z"
      },
      {
        "duration": 4,
        "start_time": "2022-08-29T09:06:35.094Z"
      },
      {
        "duration": 4,
        "start_time": "2022-08-29T09:06:35.100Z"
      },
      {
        "duration": 6,
        "start_time": "2022-08-29T09:06:35.106Z"
      },
      {
        "duration": 7,
        "start_time": "2022-08-29T09:06:35.113Z"
      },
      {
        "duration": 5,
        "start_time": "2022-08-29T09:06:35.121Z"
      },
      {
        "duration": 7,
        "start_time": "2022-08-29T09:06:35.127Z"
      },
      {
        "duration": 5,
        "start_time": "2022-08-29T09:06:35.136Z"
      },
      {
        "duration": 5,
        "start_time": "2022-08-29T09:06:35.142Z"
      },
      {
        "duration": 7,
        "start_time": "2022-08-29T09:06:35.148Z"
      },
      {
        "duration": 5,
        "start_time": "2022-08-29T09:06:35.156Z"
      },
      {
        "duration": 7,
        "start_time": "2022-08-29T09:06:35.162Z"
      },
      {
        "duration": 5,
        "start_time": "2022-08-29T09:06:35.170Z"
      },
      {
        "duration": 5,
        "start_time": "2022-08-29T09:06:35.185Z"
      },
      {
        "duration": 5,
        "start_time": "2022-08-29T09:06:35.192Z"
      },
      {
        "duration": 6,
        "start_time": "2022-08-29T09:06:35.199Z"
      },
      {
        "duration": 5,
        "start_time": "2022-08-29T09:06:35.207Z"
      },
      {
        "duration": 4,
        "start_time": "2022-08-29T09:06:35.213Z"
      },
      {
        "duration": 6,
        "start_time": "2022-08-29T09:06:35.219Z"
      },
      {
        "duration": 7,
        "start_time": "2022-08-29T09:06:35.227Z"
      },
      {
        "duration": 7,
        "start_time": "2022-08-29T09:06:35.235Z"
      },
      {
        "duration": 13,
        "start_time": "2022-08-29T09:06:35.244Z"
      },
      {
        "duration": 11,
        "start_time": "2022-08-29T09:06:35.258Z"
      },
      {
        "duration": 3,
        "start_time": "2022-08-29T09:10:01.852Z"
      },
      {
        "duration": 5,
        "start_time": "2022-08-29T09:10:21.316Z"
      },
      {
        "duration": 5,
        "start_time": "2022-08-29T09:10:40.932Z"
      },
      {
        "duration": 5,
        "start_time": "2022-08-29T09:12:27.581Z"
      },
      {
        "duration": 7,
        "start_time": "2022-08-29T09:13:33.161Z"
      },
      {
        "duration": 9,
        "start_time": "2022-08-29T09:15:35.233Z"
      },
      {
        "duration": 8,
        "start_time": "2022-08-29T09:16:24.251Z"
      },
      {
        "duration": 20,
        "start_time": "2022-08-29T09:16:36.664Z"
      },
      {
        "duration": 3,
        "start_time": "2022-08-29T09:17:20.202Z"
      },
      {
        "duration": 4,
        "start_time": "2022-08-29T09:17:41.763Z"
      },
      {
        "duration": 3,
        "start_time": "2022-08-29T09:17:53.276Z"
      },
      {
        "duration": 6,
        "start_time": "2022-08-29T09:18:04.839Z"
      },
      {
        "duration": 478,
        "start_time": "2022-08-29T09:20:34.288Z"
      },
      {
        "duration": 8,
        "start_time": "2022-08-29T09:20:34.768Z"
      },
      {
        "duration": 19,
        "start_time": "2022-08-29T09:20:34.777Z"
      },
      {
        "duration": 13,
        "start_time": "2022-08-29T09:20:34.798Z"
      },
      {
        "duration": 18,
        "start_time": "2022-08-29T09:20:34.813Z"
      },
      {
        "duration": 6,
        "start_time": "2022-08-29T09:20:34.833Z"
      },
      {
        "duration": 13,
        "start_time": "2022-08-29T09:20:34.841Z"
      },
      {
        "duration": 31,
        "start_time": "2022-08-29T09:20:34.855Z"
      },
      {
        "duration": 10,
        "start_time": "2022-08-29T09:20:34.887Z"
      },
      {
        "duration": 6,
        "start_time": "2022-08-29T09:20:34.901Z"
      },
      {
        "duration": 6,
        "start_time": "2022-08-29T09:20:34.908Z"
      },
      {
        "duration": 8,
        "start_time": "2022-08-29T09:20:34.915Z"
      },
      {
        "duration": 15,
        "start_time": "2022-08-29T09:20:34.925Z"
      },
      {
        "duration": 6,
        "start_time": "2022-08-29T09:20:34.942Z"
      },
      {
        "duration": 7,
        "start_time": "2022-08-29T09:20:34.950Z"
      },
      {
        "duration": 9,
        "start_time": "2022-08-29T09:20:34.958Z"
      },
      {
        "duration": 17,
        "start_time": "2022-08-29T09:20:34.969Z"
      },
      {
        "duration": 9,
        "start_time": "2022-08-29T09:20:34.987Z"
      },
      {
        "duration": 8,
        "start_time": "2022-08-29T09:20:34.997Z"
      },
      {
        "duration": 5,
        "start_time": "2022-08-29T09:20:35.006Z"
      },
      {
        "duration": 6,
        "start_time": "2022-08-29T09:20:35.012Z"
      },
      {
        "duration": 9,
        "start_time": "2022-08-29T09:20:35.019Z"
      },
      {
        "duration": 19,
        "start_time": "2022-08-29T09:20:35.029Z"
      },
      {
        "duration": 36,
        "start_time": "2022-08-29T09:20:35.050Z"
      },
      {
        "duration": 6,
        "start_time": "2022-08-29T09:20:35.087Z"
      },
      {
        "duration": 7,
        "start_time": "2022-08-29T09:20:35.094Z"
      },
      {
        "duration": 4,
        "start_time": "2022-08-29T09:20:35.103Z"
      },
      {
        "duration": 6,
        "start_time": "2022-08-29T09:20:35.111Z"
      },
      {
        "duration": 4,
        "start_time": "2022-08-29T09:20:35.118Z"
      },
      {
        "duration": 6,
        "start_time": "2022-08-29T09:20:35.123Z"
      },
      {
        "duration": 4,
        "start_time": "2022-08-29T09:20:35.131Z"
      },
      {
        "duration": 4,
        "start_time": "2022-08-29T09:20:35.137Z"
      },
      {
        "duration": 4,
        "start_time": "2022-08-29T09:20:35.143Z"
      },
      {
        "duration": 37,
        "start_time": "2022-08-29T09:20:35.149Z"
      },
      {
        "duration": 18,
        "start_time": "2022-08-29T09:20:35.188Z"
      },
      {
        "duration": 17,
        "start_time": "2022-08-29T09:20:35.207Z"
      },
      {
        "duration": 15,
        "start_time": "2022-08-29T09:20:35.225Z"
      },
      {
        "duration": 4,
        "start_time": "2022-08-29T09:20:35.242Z"
      },
      {
        "duration": 43,
        "start_time": "2022-08-29T09:20:35.248Z"
      },
      {
        "duration": 9,
        "start_time": "2022-08-29T09:20:35.293Z"
      },
      {
        "duration": 2,
        "start_time": "2022-08-29T09:20:35.303Z"
      },
      {
        "duration": 4,
        "start_time": "2022-08-29T09:20:35.307Z"
      },
      {
        "duration": 6,
        "start_time": "2022-08-29T09:20:35.312Z"
      },
      {
        "duration": 6,
        "start_time": "2022-08-29T09:20:35.319Z"
      },
      {
        "duration": 5,
        "start_time": "2022-08-29T09:20:35.326Z"
      },
      {
        "duration": 5,
        "start_time": "2022-08-29T09:20:35.332Z"
      },
      {
        "duration": 5,
        "start_time": "2022-08-29T09:20:35.338Z"
      },
      {
        "duration": 4,
        "start_time": "2022-08-29T09:20:35.345Z"
      },
      {
        "duration": 6,
        "start_time": "2022-08-29T09:20:35.350Z"
      },
      {
        "duration": 27,
        "start_time": "2022-08-29T09:20:35.358Z"
      },
      {
        "duration": 3,
        "start_time": "2022-08-29T09:20:35.386Z"
      },
      {
        "duration": 5,
        "start_time": "2022-08-29T09:20:35.390Z"
      },
      {
        "duration": 4,
        "start_time": "2022-08-29T09:20:35.397Z"
      },
      {
        "duration": 4,
        "start_time": "2022-08-29T09:20:35.402Z"
      },
      {
        "duration": 6,
        "start_time": "2022-08-29T09:20:35.407Z"
      },
      {
        "duration": 5,
        "start_time": "2022-08-29T09:20:35.415Z"
      },
      {
        "duration": 4,
        "start_time": "2022-08-29T09:20:35.422Z"
      },
      {
        "duration": 4,
        "start_time": "2022-08-29T09:20:35.427Z"
      },
      {
        "duration": 4,
        "start_time": "2022-08-29T09:20:35.432Z"
      },
      {
        "duration": 4,
        "start_time": "2022-08-29T09:20:35.438Z"
      },
      {
        "duration": 5,
        "start_time": "2022-08-29T09:20:35.443Z"
      },
      {
        "duration": 4,
        "start_time": "2022-08-29T09:20:35.449Z"
      },
      {
        "duration": 4,
        "start_time": "2022-08-29T09:20:35.455Z"
      },
      {
        "duration": 5,
        "start_time": "2022-08-29T09:20:35.460Z"
      },
      {
        "duration": 2,
        "start_time": "2022-08-29T09:20:35.485Z"
      },
      {
        "duration": 4,
        "start_time": "2022-08-29T09:20:35.488Z"
      },
      {
        "duration": 5,
        "start_time": "2022-08-29T09:20:35.493Z"
      },
      {
        "duration": 5,
        "start_time": "2022-08-29T09:20:35.499Z"
      },
      {
        "duration": 4,
        "start_time": "2022-08-29T09:20:35.505Z"
      },
      {
        "duration": 5,
        "start_time": "2022-08-29T09:20:35.510Z"
      },
      {
        "duration": 4,
        "start_time": "2022-08-29T09:20:35.516Z"
      },
      {
        "duration": 6,
        "start_time": "2022-08-29T09:20:35.521Z"
      },
      {
        "duration": 5,
        "start_time": "2022-08-29T09:20:35.528Z"
      },
      {
        "duration": 8,
        "start_time": "2022-08-29T09:21:07.986Z"
      },
      {
        "duration": 12,
        "start_time": "2022-08-29T09:26:15.463Z"
      },
      {
        "duration": 12,
        "start_time": "2022-08-29T09:43:51.736Z"
      },
      {
        "duration": 8,
        "start_time": "2022-08-29T09:45:05.312Z"
      },
      {
        "duration": 390,
        "start_time": "2022-08-29T09:45:17.136Z"
      },
      {
        "duration": 7,
        "start_time": "2022-08-29T09:45:17.528Z"
      },
      {
        "duration": 18,
        "start_time": "2022-08-29T09:45:17.537Z"
      },
      {
        "duration": 15,
        "start_time": "2022-08-29T09:45:17.556Z"
      },
      {
        "duration": 20,
        "start_time": "2022-08-29T09:45:17.573Z"
      },
      {
        "duration": 6,
        "start_time": "2022-08-29T09:45:17.595Z"
      },
      {
        "duration": 11,
        "start_time": "2022-08-29T09:45:17.602Z"
      },
      {
        "duration": 3,
        "start_time": "2022-08-29T09:45:17.615Z"
      },
      {
        "duration": 7,
        "start_time": "2022-08-29T09:45:17.619Z"
      },
      {
        "duration": 8,
        "start_time": "2022-08-29T09:45:17.628Z"
      },
      {
        "duration": 5,
        "start_time": "2022-08-29T09:45:17.637Z"
      },
      {
        "duration": 8,
        "start_time": "2022-08-29T09:45:17.643Z"
      },
      {
        "duration": 32,
        "start_time": "2022-08-29T09:45:17.653Z"
      },
      {
        "duration": 8,
        "start_time": "2022-08-29T09:45:17.689Z"
      },
      {
        "duration": 11,
        "start_time": "2022-08-29T09:45:17.699Z"
      },
      {
        "duration": 7,
        "start_time": "2022-08-29T09:45:17.712Z"
      },
      {
        "duration": 7,
        "start_time": "2022-08-29T09:45:17.720Z"
      },
      {
        "duration": 7,
        "start_time": "2022-08-29T09:45:17.729Z"
      },
      {
        "duration": 7,
        "start_time": "2022-08-29T09:45:17.737Z"
      },
      {
        "duration": 9,
        "start_time": "2022-08-29T09:45:17.745Z"
      },
      {
        "duration": 8,
        "start_time": "2022-08-29T09:45:17.755Z"
      },
      {
        "duration": 25,
        "start_time": "2022-08-29T09:45:17.764Z"
      },
      {
        "duration": 27,
        "start_time": "2022-08-29T09:45:17.792Z"
      },
      {
        "duration": 9,
        "start_time": "2022-08-29T09:45:17.821Z"
      },
      {
        "duration": 12,
        "start_time": "2022-08-29T09:45:17.832Z"
      },
      {
        "duration": 8,
        "start_time": "2022-08-29T09:45:17.846Z"
      },
      {
        "duration": 10,
        "start_time": "2022-08-29T09:45:17.855Z"
      },
      {
        "duration": 18,
        "start_time": "2022-08-29T09:45:17.867Z"
      },
      {
        "duration": 20,
        "start_time": "2022-08-29T09:45:17.887Z"
      },
      {
        "duration": 19,
        "start_time": "2022-08-29T09:45:17.909Z"
      },
      {
        "duration": 8,
        "start_time": "2022-08-29T09:45:17.930Z"
      },
      {
        "duration": 11,
        "start_time": "2022-08-29T09:45:17.940Z"
      },
      {
        "duration": 7,
        "start_time": "2022-08-29T09:45:17.952Z"
      },
      {
        "duration": 12,
        "start_time": "2022-08-29T09:45:17.960Z"
      },
      {
        "duration": 9,
        "start_time": "2022-08-29T09:45:17.974Z"
      },
      {
        "duration": 27,
        "start_time": "2022-08-29T09:45:17.984Z"
      },
      {
        "duration": 18,
        "start_time": "2022-08-29T09:45:18.013Z"
      },
      {
        "duration": 16,
        "start_time": "2022-08-29T09:45:18.032Z"
      },
      {
        "duration": 3,
        "start_time": "2022-08-29T09:45:18.049Z"
      },
      {
        "duration": 13,
        "start_time": "2022-08-29T09:45:18.054Z"
      },
      {
        "duration": 9,
        "start_time": "2022-08-29T09:45:18.087Z"
      },
      {
        "duration": 4,
        "start_time": "2022-08-29T09:45:18.098Z"
      },
      {
        "duration": 6,
        "start_time": "2022-08-29T09:45:18.104Z"
      },
      {
        "duration": 15,
        "start_time": "2022-08-29T09:45:18.111Z"
      },
      {
        "duration": 13,
        "start_time": "2022-08-29T09:45:18.127Z"
      },
      {
        "duration": 14,
        "start_time": "2022-08-29T09:45:18.141Z"
      },
      {
        "duration": 9,
        "start_time": "2022-08-29T09:45:18.157Z"
      },
      {
        "duration": 10,
        "start_time": "2022-08-29T09:45:18.167Z"
      },
      {
        "duration": 10,
        "start_time": "2022-08-29T09:45:18.178Z"
      },
      {
        "duration": 17,
        "start_time": "2022-08-29T09:45:18.189Z"
      },
      {
        "duration": 10,
        "start_time": "2022-08-29T09:45:18.207Z"
      },
      {
        "duration": 20,
        "start_time": "2022-08-29T09:45:18.219Z"
      },
      {
        "duration": 10,
        "start_time": "2022-08-29T09:45:18.241Z"
      },
      {
        "duration": 10,
        "start_time": "2022-08-29T09:45:18.252Z"
      },
      {
        "duration": 5,
        "start_time": "2022-08-29T09:45:18.263Z"
      },
      {
        "duration": 5,
        "start_time": "2022-08-29T09:45:18.270Z"
      },
      {
        "duration": 4,
        "start_time": "2022-08-29T09:45:18.276Z"
      },
      {
        "duration": 5,
        "start_time": "2022-08-29T09:45:18.282Z"
      },
      {
        "duration": 6,
        "start_time": "2022-08-29T09:45:18.288Z"
      },
      {
        "duration": 6,
        "start_time": "2022-08-29T09:45:18.295Z"
      },
      {
        "duration": 5,
        "start_time": "2022-08-29T09:45:18.302Z"
      },
      {
        "duration": 5,
        "start_time": "2022-08-29T09:45:18.309Z"
      },
      {
        "duration": 5,
        "start_time": "2022-08-29T09:45:18.316Z"
      },
      {
        "duration": 4,
        "start_time": "2022-08-29T09:45:18.323Z"
      },
      {
        "duration": 5,
        "start_time": "2022-08-29T09:45:18.329Z"
      },
      {
        "duration": 7,
        "start_time": "2022-08-29T09:45:18.336Z"
      },
      {
        "duration": 21,
        "start_time": "2022-08-29T09:45:18.344Z"
      },
      {
        "duration": 7,
        "start_time": "2022-08-29T09:45:18.367Z"
      },
      {
        "duration": 7,
        "start_time": "2022-08-29T09:45:18.376Z"
      },
      {
        "duration": 12,
        "start_time": "2022-08-29T09:45:18.384Z"
      },
      {
        "duration": 11,
        "start_time": "2022-08-29T09:45:18.397Z"
      },
      {
        "duration": 10,
        "start_time": "2022-08-29T09:45:18.409Z"
      },
      {
        "duration": 11,
        "start_time": "2022-08-29T09:45:18.420Z"
      },
      {
        "duration": 10,
        "start_time": "2022-08-29T09:45:18.433Z"
      },
      {
        "duration": 6,
        "start_time": "2022-08-29T09:45:56.748Z"
      },
      {
        "duration": 6,
        "start_time": "2022-08-29T09:49:20.530Z"
      },
      {
        "duration": 3,
        "start_time": "2022-08-29T09:52:07.233Z"
      },
      {
        "duration": 2,
        "start_time": "2022-08-29T09:52:18.448Z"
      },
      {
        "duration": 7,
        "start_time": "2022-08-29T09:52:34.714Z"
      },
      {
        "duration": 16,
        "start_time": "2022-08-29T09:52:41.931Z"
      },
      {
        "duration": 442,
        "start_time": "2022-08-29T09:52:52.939Z"
      },
      {
        "duration": 9,
        "start_time": "2022-08-29T09:52:53.383Z"
      },
      {
        "duration": 19,
        "start_time": "2022-08-29T09:52:53.394Z"
      },
      {
        "duration": 13,
        "start_time": "2022-08-29T09:52:53.415Z"
      },
      {
        "duration": 19,
        "start_time": "2022-08-29T09:52:53.430Z"
      },
      {
        "duration": 5,
        "start_time": "2022-08-29T09:52:53.450Z"
      },
      {
        "duration": 39,
        "start_time": "2022-08-29T09:52:53.457Z"
      },
      {
        "duration": 3,
        "start_time": "2022-08-29T09:52:53.497Z"
      },
      {
        "duration": 8,
        "start_time": "2022-08-29T09:52:53.501Z"
      },
      {
        "duration": 4,
        "start_time": "2022-08-29T09:52:53.513Z"
      },
      {
        "duration": 8,
        "start_time": "2022-08-29T09:52:53.519Z"
      },
      {
        "duration": 10,
        "start_time": "2022-08-29T09:52:53.528Z"
      },
      {
        "duration": 11,
        "start_time": "2022-08-29T09:52:53.539Z"
      },
      {
        "duration": 10,
        "start_time": "2022-08-29T09:52:53.552Z"
      },
      {
        "duration": 21,
        "start_time": "2022-08-29T09:52:53.564Z"
      },
      {
        "duration": 16,
        "start_time": "2022-08-29T09:52:53.587Z"
      },
      {
        "duration": 29,
        "start_time": "2022-08-29T09:52:53.605Z"
      },
      {
        "duration": 6,
        "start_time": "2022-08-29T09:52:53.635Z"
      },
      {
        "duration": 11,
        "start_time": "2022-08-29T09:52:53.643Z"
      },
      {
        "duration": 8,
        "start_time": "2022-08-29T09:52:53.655Z"
      },
      {
        "duration": 9,
        "start_time": "2022-08-29T09:52:53.664Z"
      },
      {
        "duration": 15,
        "start_time": "2022-08-29T09:52:53.674Z"
      },
      {
        "duration": 21,
        "start_time": "2022-08-29T09:52:53.690Z"
      },
      {
        "duration": 5,
        "start_time": "2022-08-29T09:52:53.712Z"
      },
      {
        "duration": 9,
        "start_time": "2022-08-29T09:52:53.719Z"
      },
      {
        "duration": 9,
        "start_time": "2022-08-29T09:52:53.730Z"
      },
      {
        "duration": 7,
        "start_time": "2022-08-29T09:52:53.740Z"
      },
      {
        "duration": 12,
        "start_time": "2022-08-29T09:52:53.750Z"
      },
      {
        "duration": 23,
        "start_time": "2022-08-29T09:52:53.763Z"
      },
      {
        "duration": 17,
        "start_time": "2022-08-29T09:52:53.788Z"
      },
      {
        "duration": 9,
        "start_time": "2022-08-29T09:52:53.807Z"
      },
      {
        "duration": 10,
        "start_time": "2022-08-29T09:52:53.817Z"
      },
      {
        "duration": 7,
        "start_time": "2022-08-29T09:52:53.828Z"
      },
      {
        "duration": 6,
        "start_time": "2022-08-29T09:52:53.837Z"
      },
      {
        "duration": 8,
        "start_time": "2022-08-29T09:52:53.844Z"
      },
      {
        "duration": 38,
        "start_time": "2022-08-29T09:52:53.853Z"
      },
      {
        "duration": 17,
        "start_time": "2022-08-29T09:52:53.892Z"
      },
      {
        "duration": 14,
        "start_time": "2022-08-29T09:52:53.911Z"
      },
      {
        "duration": 3,
        "start_time": "2022-08-29T09:52:53.927Z"
      },
      {
        "duration": 16,
        "start_time": "2022-08-29T09:52:53.931Z"
      },
      {
        "duration": 9,
        "start_time": "2022-08-29T09:52:53.948Z"
      },
      {
        "duration": 27,
        "start_time": "2022-08-29T09:52:53.958Z"
      },
      {
        "duration": 4,
        "start_time": "2022-08-29T09:52:53.987Z"
      },
      {
        "duration": 7,
        "start_time": "2022-08-29T09:52:53.993Z"
      },
      {
        "duration": 7,
        "start_time": "2022-08-29T09:52:54.002Z"
      },
      {
        "duration": 5,
        "start_time": "2022-08-29T09:52:54.010Z"
      },
      {
        "duration": 4,
        "start_time": "2022-08-29T09:52:54.016Z"
      },
      {
        "duration": 5,
        "start_time": "2022-08-29T09:52:54.022Z"
      },
      {
        "duration": 8,
        "start_time": "2022-08-29T09:52:54.028Z"
      },
      {
        "duration": 5,
        "start_time": "2022-08-29T09:52:54.038Z"
      },
      {
        "duration": 7,
        "start_time": "2022-08-29T09:52:54.045Z"
      },
      {
        "duration": 7,
        "start_time": "2022-08-29T09:52:54.053Z"
      },
      {
        "duration": 7,
        "start_time": "2022-08-29T09:52:54.061Z"
      },
      {
        "duration": 7,
        "start_time": "2022-08-29T09:52:54.070Z"
      },
      {
        "duration": 6,
        "start_time": "2022-08-29T09:52:54.079Z"
      },
      {
        "duration": 11,
        "start_time": "2022-08-29T09:52:54.086Z"
      },
      {
        "duration": 11,
        "start_time": "2022-08-29T09:52:54.098Z"
      },
      {
        "duration": 8,
        "start_time": "2022-08-29T09:52:54.111Z"
      },
      {
        "duration": 7,
        "start_time": "2022-08-29T09:52:54.120Z"
      },
      {
        "duration": 10,
        "start_time": "2022-08-29T09:52:54.128Z"
      },
      {
        "duration": 6,
        "start_time": "2022-08-29T09:52:54.139Z"
      },
      {
        "duration": 5,
        "start_time": "2022-08-29T09:52:54.146Z"
      },
      {
        "duration": 5,
        "start_time": "2022-08-29T09:52:54.153Z"
      },
      {
        "duration": 4,
        "start_time": "2022-08-29T09:52:54.159Z"
      },
      {
        "duration": 5,
        "start_time": "2022-08-29T09:52:54.164Z"
      },
      {
        "duration": 7,
        "start_time": "2022-08-29T09:52:54.171Z"
      },
      {
        "duration": 4,
        "start_time": "2022-08-29T09:52:54.180Z"
      },
      {
        "duration": 6,
        "start_time": "2022-08-29T09:52:54.186Z"
      },
      {
        "duration": 4,
        "start_time": "2022-08-29T09:52:54.194Z"
      },
      {
        "duration": 5,
        "start_time": "2022-08-29T09:52:54.199Z"
      },
      {
        "duration": 8,
        "start_time": "2022-08-29T09:52:54.205Z"
      },
      {
        "duration": 7,
        "start_time": "2022-08-29T09:52:54.214Z"
      },
      {
        "duration": 5,
        "start_time": "2022-08-29T09:52:54.223Z"
      },
      {
        "duration": 5,
        "start_time": "2022-08-29T09:52:54.229Z"
      },
      {
        "duration": 3,
        "start_time": "2022-08-29T09:53:22.979Z"
      },
      {
        "duration": 136,
        "start_time": "2022-08-29T10:00:04.662Z"
      },
      {
        "duration": 112,
        "start_time": "2022-08-29T10:00:14.537Z"
      },
      {
        "duration": 3,
        "start_time": "2022-08-29T10:00:45.542Z"
      },
      {
        "duration": 61,
        "start_time": "2022-08-29T10:01:07.547Z"
      },
      {
        "duration": 5,
        "start_time": "2022-08-29T10:03:03.874Z"
      },
      {
        "duration": 4,
        "start_time": "2022-08-29T10:03:17.492Z"
      },
      {
        "duration": 3,
        "start_time": "2022-08-29T10:06:55.785Z"
      },
      {
        "duration": 3,
        "start_time": "2022-08-29T10:07:22.932Z"
      },
      {
        "duration": 4,
        "start_time": "2022-08-29T10:07:34.649Z"
      },
      {
        "duration": 3,
        "start_time": "2022-08-29T10:08:11.093Z"
      },
      {
        "duration": 3,
        "start_time": "2022-08-29T10:08:20.259Z"
      },
      {
        "duration": 3,
        "start_time": "2022-08-29T10:08:26.771Z"
      },
      {
        "duration": 3,
        "start_time": "2022-08-29T10:08:49.779Z"
      },
      {
        "duration": 4,
        "start_time": "2022-08-29T10:13:35.428Z"
      },
      {
        "duration": 4,
        "start_time": "2022-08-29T10:14:33.935Z"
      },
      {
        "duration": 4,
        "start_time": "2022-08-29T10:14:48.482Z"
      },
      {
        "duration": 21,
        "start_time": "2022-08-29T10:21:24.276Z"
      },
      {
        "duration": 21,
        "start_time": "2022-08-29T10:21:41.926Z"
      },
      {
        "duration": 10,
        "start_time": "2022-08-29T10:36:57.846Z"
      },
      {
        "duration": 24,
        "start_time": "2022-08-29T10:52:02.912Z"
      },
      {
        "duration": 19,
        "start_time": "2022-08-29T11:05:55.404Z"
      },
      {
        "duration": 108,
        "start_time": "2022-08-29T11:06:23.819Z"
      },
      {
        "duration": 25,
        "start_time": "2022-08-29T11:06:29.544Z"
      },
      {
        "duration": 19,
        "start_time": "2022-08-29T11:06:49.521Z"
      },
      {
        "duration": 30,
        "start_time": "2022-08-29T11:07:04.076Z"
      },
      {
        "duration": 22,
        "start_time": "2022-08-29T11:07:12.175Z"
      },
      {
        "duration": 20,
        "start_time": "2022-08-29T11:08:12.401Z"
      },
      {
        "duration": 19,
        "start_time": "2022-08-29T11:11:25.106Z"
      },
      {
        "duration": 2,
        "start_time": "2022-08-29T11:34:55.395Z"
      },
      {
        "duration": 19,
        "start_time": "2022-08-29T11:47:14.240Z"
      },
      {
        "duration": 16,
        "start_time": "2022-08-29T11:47:50.472Z"
      },
      {
        "duration": 28,
        "start_time": "2022-08-29T11:48:11.565Z"
      },
      {
        "duration": 9,
        "start_time": "2022-08-29T11:48:29.536Z"
      },
      {
        "duration": 10,
        "start_time": "2022-08-29T11:48:54.648Z"
      },
      {
        "duration": 13,
        "start_time": "2022-08-29T11:49:04.092Z"
      },
      {
        "duration": 25,
        "start_time": "2022-08-29T11:50:32.991Z"
      },
      {
        "duration": 20,
        "start_time": "2022-08-29T11:57:39.485Z"
      },
      {
        "duration": 4,
        "start_time": "2022-08-29T12:08:59.754Z"
      },
      {
        "duration": 3,
        "start_time": "2022-08-29T12:09:19.481Z"
      },
      {
        "duration": 82,
        "start_time": "2022-08-29T12:12:13.604Z"
      },
      {
        "duration": 5,
        "start_time": "2022-08-29T12:12:36.670Z"
      },
      {
        "duration": 22,
        "start_time": "2022-08-29T12:13:09.644Z"
      },
      {
        "duration": 4,
        "start_time": "2022-08-29T12:14:23.266Z"
      },
      {
        "duration": 20,
        "start_time": "2022-08-29T12:16:45.913Z"
      },
      {
        "duration": 5,
        "start_time": "2022-08-29T12:17:11.038Z"
      },
      {
        "duration": 26,
        "start_time": "2022-08-29T12:17:31.990Z"
      },
      {
        "duration": 7,
        "start_time": "2022-08-29T12:18:17.880Z"
      },
      {
        "duration": 5,
        "start_time": "2022-08-29T12:18:55.076Z"
      },
      {
        "duration": 9,
        "start_time": "2022-08-29T12:30:33.886Z"
      },
      {
        "duration": 11,
        "start_time": "2022-08-29T12:30:54.566Z"
      },
      {
        "duration": 3,
        "start_time": "2022-08-29T12:32:47.231Z"
      },
      {
        "duration": 9,
        "start_time": "2022-08-29T12:32:50.148Z"
      },
      {
        "duration": 3,
        "start_time": "2022-08-29T12:36:10.868Z"
      },
      {
        "duration": 8,
        "start_time": "2022-08-29T12:36:16.450Z"
      },
      {
        "duration": 3,
        "start_time": "2022-08-29T12:36:33.041Z"
      },
      {
        "duration": 4,
        "start_time": "2022-08-29T12:36:35.762Z"
      },
      {
        "duration": 9,
        "start_time": "2022-08-29T12:39:00.039Z"
      },
      {
        "duration": 16,
        "start_time": "2022-08-29T12:39:12.259Z"
      },
      {
        "duration": 15,
        "start_time": "2022-08-29T12:39:36.704Z"
      },
      {
        "duration": 17,
        "start_time": "2022-08-29T12:45:12.452Z"
      },
      {
        "duration": 5,
        "start_time": "2022-08-29T12:45:46.570Z"
      },
      {
        "duration": 8,
        "start_time": "2022-08-29T12:45:55.295Z"
      },
      {
        "duration": 5,
        "start_time": "2022-08-29T12:45:59.834Z"
      },
      {
        "duration": 27,
        "start_time": "2022-08-29T12:46:24.127Z"
      },
      {
        "duration": 33,
        "start_time": "2022-08-29T12:46:32.194Z"
      },
      {
        "duration": 27,
        "start_time": "2022-08-29T12:46:44.034Z"
      },
      {
        "duration": 25,
        "start_time": "2022-08-29T12:46:56.766Z"
      },
      {
        "duration": 7,
        "start_time": "2022-08-29T12:51:01.596Z"
      },
      {
        "duration": 8,
        "start_time": "2022-08-29T12:51:21.614Z"
      },
      {
        "duration": 7,
        "start_time": "2022-08-29T13:34:16.054Z"
      },
      {
        "duration": 8,
        "start_time": "2022-08-29T13:34:48.863Z"
      },
      {
        "duration": 3,
        "start_time": "2022-08-29T13:35:33.025Z"
      },
      {
        "duration": 1641,
        "start_time": "2022-08-29T13:36:41.202Z"
      },
      {
        "duration": 1358,
        "start_time": "2022-08-29T13:36:53.460Z"
      },
      {
        "duration": 1430,
        "start_time": "2022-08-29T13:37:06.744Z"
      },
      {
        "duration": 1945,
        "start_time": "2022-08-29T13:37:28.758Z"
      },
      {
        "duration": 4,
        "start_time": "2022-08-29T13:37:50.331Z"
      },
      {
        "duration": 5,
        "start_time": "2022-08-29T13:40:03.298Z"
      },
      {
        "duration": 21,
        "start_time": "2022-08-29T13:42:51.807Z"
      },
      {
        "duration": 22,
        "start_time": "2022-08-29T14:39:48.237Z"
      },
      {
        "duration": 3,
        "start_time": "2022-08-29T14:43:11.227Z"
      },
      {
        "duration": 22,
        "start_time": "2022-08-29T14:43:28.523Z"
      },
      {
        "duration": 3,
        "start_time": "2022-08-29T14:43:59.313Z"
      },
      {
        "duration": 26,
        "start_time": "2022-08-29T14:44:24.461Z"
      },
      {
        "duration": 5,
        "start_time": "2022-08-29T14:44:39.069Z"
      },
      {
        "duration": 7,
        "start_time": "2022-08-29T14:46:49.011Z"
      },
      {
        "duration": 6,
        "start_time": "2022-08-29T14:47:08.216Z"
      },
      {
        "duration": 27,
        "start_time": "2022-08-29T14:47:14.451Z"
      },
      {
        "duration": 4,
        "start_time": "2022-08-29T14:47:43.960Z"
      },
      {
        "duration": 4,
        "start_time": "2022-08-29T14:48:43.666Z"
      },
      {
        "duration": 409,
        "start_time": "2022-08-29T14:54:00.133Z"
      },
      {
        "duration": 8,
        "start_time": "2022-08-29T14:54:00.543Z"
      },
      {
        "duration": 29,
        "start_time": "2022-08-29T14:54:00.552Z"
      },
      {
        "duration": 31,
        "start_time": "2022-08-29T14:54:00.583Z"
      },
      {
        "duration": 31,
        "start_time": "2022-08-29T14:54:00.615Z"
      },
      {
        "duration": 21,
        "start_time": "2022-08-29T14:54:00.648Z"
      },
      {
        "duration": 41,
        "start_time": "2022-08-29T14:54:00.671Z"
      },
      {
        "duration": 38,
        "start_time": "2022-08-29T14:54:00.713Z"
      },
      {
        "duration": 34,
        "start_time": "2022-08-29T14:54:00.752Z"
      },
      {
        "duration": 32,
        "start_time": "2022-08-29T14:54:00.791Z"
      },
      {
        "duration": 41,
        "start_time": "2022-08-29T14:54:00.824Z"
      },
      {
        "duration": 42,
        "start_time": "2022-08-29T14:54:00.866Z"
      },
      {
        "duration": 23,
        "start_time": "2022-08-29T14:54:00.910Z"
      },
      {
        "duration": 34,
        "start_time": "2022-08-29T14:54:00.935Z"
      },
      {
        "duration": 32,
        "start_time": "2022-08-29T14:54:00.970Z"
      },
      {
        "duration": 44,
        "start_time": "2022-08-29T14:54:01.004Z"
      },
      {
        "duration": 49,
        "start_time": "2022-08-29T14:54:01.050Z"
      },
      {
        "duration": 33,
        "start_time": "2022-08-29T14:54:01.101Z"
      },
      {
        "duration": 34,
        "start_time": "2022-08-29T14:54:01.135Z"
      },
      {
        "duration": 39,
        "start_time": "2022-08-29T14:54:01.171Z"
      },
      {
        "duration": 34,
        "start_time": "2022-08-29T14:54:01.212Z"
      },
      {
        "duration": 21,
        "start_time": "2022-08-29T14:54:01.247Z"
      },
      {
        "duration": 50,
        "start_time": "2022-08-29T14:54:01.270Z"
      },
      {
        "duration": 18,
        "start_time": "2022-08-29T14:54:01.321Z"
      },
      {
        "duration": 32,
        "start_time": "2022-08-29T14:54:01.340Z"
      },
      {
        "duration": 28,
        "start_time": "2022-08-29T14:54:01.373Z"
      },
      {
        "duration": 15,
        "start_time": "2022-08-29T14:54:01.403Z"
      },
      {
        "duration": 24,
        "start_time": "2022-08-29T14:54:01.422Z"
      },
      {
        "duration": 29,
        "start_time": "2022-08-29T14:54:01.447Z"
      },
      {
        "duration": 34,
        "start_time": "2022-08-29T14:54:01.477Z"
      },
      {
        "duration": 38,
        "start_time": "2022-08-29T14:54:01.512Z"
      },
      {
        "duration": 15,
        "start_time": "2022-08-29T14:54:01.552Z"
      },
      {
        "duration": 16,
        "start_time": "2022-08-29T14:54:01.568Z"
      },
      {
        "duration": 24,
        "start_time": "2022-08-29T14:54:01.586Z"
      },
      {
        "duration": 32,
        "start_time": "2022-08-29T14:54:01.611Z"
      },
      {
        "duration": 30,
        "start_time": "2022-08-29T14:54:01.645Z"
      },
      {
        "duration": 46,
        "start_time": "2022-08-29T14:54:01.676Z"
      },
      {
        "duration": 15,
        "start_time": "2022-08-29T14:54:01.724Z"
      },
      {
        "duration": 10,
        "start_time": "2022-08-29T14:54:01.741Z"
      },
      {
        "duration": 23,
        "start_time": "2022-08-29T14:54:01.752Z"
      },
      {
        "duration": 37,
        "start_time": "2022-08-29T14:54:01.776Z"
      },
      {
        "duration": 25,
        "start_time": "2022-08-29T14:54:01.814Z"
      },
      {
        "duration": 17,
        "start_time": "2022-08-29T14:54:01.841Z"
      },
      {
        "duration": 23,
        "start_time": "2022-08-29T14:54:01.859Z"
      },
      {
        "duration": 28,
        "start_time": "2022-08-29T14:54:01.884Z"
      },
      {
        "duration": 46,
        "start_time": "2022-08-29T14:54:01.913Z"
      },
      {
        "duration": 34,
        "start_time": "2022-08-29T14:54:01.961Z"
      },
      {
        "duration": 68,
        "start_time": "2022-08-29T14:54:01.998Z"
      },
      {
        "duration": 25,
        "start_time": "2022-08-29T14:54:02.067Z"
      },
      {
        "duration": 49,
        "start_time": "2022-08-29T14:54:02.094Z"
      },
      {
        "duration": 21,
        "start_time": "2022-08-29T14:54:02.144Z"
      },
      {
        "duration": 33,
        "start_time": "2022-08-29T14:54:02.166Z"
      },
      {
        "duration": 20,
        "start_time": "2022-08-29T14:54:02.201Z"
      },
      {
        "duration": 26,
        "start_time": "2022-08-29T14:54:02.222Z"
      },
      {
        "duration": 24,
        "start_time": "2022-08-29T14:54:02.250Z"
      },
      {
        "duration": 20,
        "start_time": "2022-08-29T14:54:02.275Z"
      },
      {
        "duration": 28,
        "start_time": "2022-08-29T14:54:02.296Z"
      },
      {
        "duration": 18,
        "start_time": "2022-08-29T14:54:02.325Z"
      },
      {
        "duration": 30,
        "start_time": "2022-08-29T14:54:02.345Z"
      },
      {
        "duration": 26,
        "start_time": "2022-08-29T14:54:02.376Z"
      },
      {
        "duration": 28,
        "start_time": "2022-08-29T14:54:02.404Z"
      },
      {
        "duration": 30,
        "start_time": "2022-08-29T14:54:02.433Z"
      },
      {
        "duration": 32,
        "start_time": "2022-08-29T14:54:02.465Z"
      },
      {
        "duration": 12,
        "start_time": "2022-08-29T14:54:02.499Z"
      },
      {
        "duration": 25,
        "start_time": "2022-08-29T14:54:02.513Z"
      },
      {
        "duration": 11,
        "start_time": "2022-08-29T14:54:02.540Z"
      },
      {
        "duration": 28,
        "start_time": "2022-08-29T14:54:02.553Z"
      },
      {
        "duration": 27,
        "start_time": "2022-08-29T14:54:02.582Z"
      },
      {
        "duration": 14,
        "start_time": "2022-08-29T14:54:02.611Z"
      },
      {
        "duration": 23,
        "start_time": "2022-08-29T14:54:02.626Z"
      },
      {
        "duration": 23,
        "start_time": "2022-08-29T14:54:02.650Z"
      },
      {
        "duration": 15,
        "start_time": "2022-08-29T14:54:02.674Z"
      },
      {
        "duration": 37,
        "start_time": "2022-08-29T14:54:02.690Z"
      },
      {
        "duration": 25,
        "start_time": "2022-08-29T14:54:02.731Z"
      },
      {
        "duration": 48,
        "start_time": "2022-08-29T14:54:02.757Z"
      },
      {
        "duration": 11,
        "start_time": "2022-08-29T14:54:57.455Z"
      },
      {
        "duration": 84,
        "start_time": "2022-08-29T14:55:19.903Z"
      },
      {
        "duration": 20,
        "start_time": "2022-08-29T14:57:20.292Z"
      },
      {
        "duration": 15,
        "start_time": "2022-08-29T14:58:17.787Z"
      },
      {
        "duration": 15,
        "start_time": "2022-08-29T14:59:17.952Z"
      },
      {
        "duration": 5,
        "start_time": "2022-08-29T15:24:55.872Z"
      },
      {
        "duration": 3,
        "start_time": "2022-08-29T15:25:01.929Z"
      },
      {
        "duration": 25,
        "start_time": "2022-08-29T15:25:40.931Z"
      },
      {
        "duration": 5,
        "start_time": "2022-08-29T15:29:46.410Z"
      },
      {
        "duration": 6,
        "start_time": "2022-08-29T15:32:21.586Z"
      },
      {
        "duration": 5,
        "start_time": "2022-08-29T15:32:24.269Z"
      },
      {
        "duration": 123,
        "start_time": "2022-08-29T15:34:15.004Z"
      },
      {
        "duration": 76,
        "start_time": "2022-08-29T15:34:24.636Z"
      },
      {
        "duration": 6,
        "start_time": "2022-08-29T15:34:34.324Z"
      },
      {
        "duration": 57,
        "start_time": "2022-08-29T15:34:52.967Z"
      },
      {
        "duration": 11,
        "start_time": "2022-08-29T15:35:04.837Z"
      },
      {
        "duration": 458,
        "start_time": "2022-08-29T15:35:18.961Z"
      },
      {
        "duration": 7,
        "start_time": "2022-08-29T15:35:19.421Z"
      },
      {
        "duration": 38,
        "start_time": "2022-08-29T15:35:19.429Z"
      },
      {
        "duration": 13,
        "start_time": "2022-08-29T15:35:19.468Z"
      },
      {
        "duration": 18,
        "start_time": "2022-08-29T15:35:19.482Z"
      },
      {
        "duration": 6,
        "start_time": "2022-08-29T15:35:19.501Z"
      },
      {
        "duration": 13,
        "start_time": "2022-08-29T15:35:19.508Z"
      },
      {
        "duration": 3,
        "start_time": "2022-08-29T15:35:19.523Z"
      },
      {
        "duration": 5,
        "start_time": "2022-08-29T15:35:19.527Z"
      },
      {
        "duration": 2,
        "start_time": "2022-08-29T15:35:19.535Z"
      },
      {
        "duration": 5,
        "start_time": "2022-08-29T15:35:19.538Z"
      },
      {
        "duration": 7,
        "start_time": "2022-08-29T15:35:19.544Z"
      },
      {
        "duration": 10,
        "start_time": "2022-08-29T15:35:19.585Z"
      },
      {
        "duration": 9,
        "start_time": "2022-08-29T15:35:19.597Z"
      },
      {
        "duration": 6,
        "start_time": "2022-08-29T15:35:19.608Z"
      },
      {
        "duration": 6,
        "start_time": "2022-08-29T15:35:19.616Z"
      },
      {
        "duration": 6,
        "start_time": "2022-08-29T15:35:19.623Z"
      },
      {
        "duration": 7,
        "start_time": "2022-08-29T15:35:19.630Z"
      },
      {
        "duration": 6,
        "start_time": "2022-08-29T15:35:19.638Z"
      },
      {
        "duration": 6,
        "start_time": "2022-08-29T15:35:19.645Z"
      },
      {
        "duration": 5,
        "start_time": "2022-08-29T15:35:19.652Z"
      },
      {
        "duration": 31,
        "start_time": "2022-08-29T15:35:19.658Z"
      },
      {
        "duration": 19,
        "start_time": "2022-08-29T15:35:19.690Z"
      },
      {
        "duration": 5,
        "start_time": "2022-08-29T15:35:19.710Z"
      },
      {
        "duration": 8,
        "start_time": "2022-08-29T15:35:19.716Z"
      },
      {
        "duration": 6,
        "start_time": "2022-08-29T15:35:19.725Z"
      },
      {
        "duration": 5,
        "start_time": "2022-08-29T15:35:19.732Z"
      },
      {
        "duration": 8,
        "start_time": "2022-08-29T15:35:19.741Z"
      },
      {
        "duration": 36,
        "start_time": "2022-08-29T15:35:19.750Z"
      },
      {
        "duration": 14,
        "start_time": "2022-08-29T15:35:19.788Z"
      },
      {
        "duration": 7,
        "start_time": "2022-08-29T15:35:19.803Z"
      },
      {
        "duration": 6,
        "start_time": "2022-08-29T15:35:19.811Z"
      },
      {
        "duration": 6,
        "start_time": "2022-08-29T15:35:19.818Z"
      },
      {
        "duration": 4,
        "start_time": "2022-08-29T15:35:19.826Z"
      },
      {
        "duration": 7,
        "start_time": "2022-08-29T15:35:19.831Z"
      },
      {
        "duration": 27,
        "start_time": "2022-08-29T15:35:19.839Z"
      },
      {
        "duration": 31,
        "start_time": "2022-08-29T15:35:19.867Z"
      },
      {
        "duration": 13,
        "start_time": "2022-08-29T15:35:19.900Z"
      },
      {
        "duration": 3,
        "start_time": "2022-08-29T15:35:19.915Z"
      },
      {
        "duration": 4,
        "start_time": "2022-08-29T15:35:19.919Z"
      },
      {
        "duration": 13,
        "start_time": "2022-08-29T15:35:19.924Z"
      },
      {
        "duration": 3,
        "start_time": "2022-08-29T15:35:19.938Z"
      },
      {
        "duration": 5,
        "start_time": "2022-08-29T15:35:19.942Z"
      },
      {
        "duration": 37,
        "start_time": "2022-08-29T15:35:19.948Z"
      },
      {
        "duration": 14,
        "start_time": "2022-08-29T15:35:19.986Z"
      },
      {
        "duration": 23,
        "start_time": "2022-08-29T15:35:20.001Z"
      },
      {
        "duration": 7,
        "start_time": "2022-08-29T15:35:20.025Z"
      },
      {
        "duration": 7,
        "start_time": "2022-08-29T15:35:20.033Z"
      },
      {
        "duration": 6,
        "start_time": "2022-08-29T15:35:20.041Z"
      },
      {
        "duration": 5,
        "start_time": "2022-08-29T15:35:20.048Z"
      },
      {
        "duration": 30,
        "start_time": "2022-08-29T15:35:20.055Z"
      },
      {
        "duration": 4,
        "start_time": "2022-08-29T15:35:20.086Z"
      },
      {
        "duration": 23,
        "start_time": "2022-08-29T15:35:20.091Z"
      },
      {
        "duration": 2,
        "start_time": "2022-08-29T15:35:20.116Z"
      },
      {
        "duration": 11,
        "start_time": "2022-08-29T15:35:20.119Z"
      },
      {
        "duration": 5,
        "start_time": "2022-08-29T15:35:20.131Z"
      },
      {
        "duration": 5,
        "start_time": "2022-08-29T15:35:20.137Z"
      },
      {
        "duration": 6,
        "start_time": "2022-08-29T15:35:20.143Z"
      },
      {
        "duration": 6,
        "start_time": "2022-08-29T15:35:20.150Z"
      },
      {
        "duration": 4,
        "start_time": "2022-08-29T15:35:20.157Z"
      },
      {
        "duration": 4,
        "start_time": "2022-08-29T15:35:20.163Z"
      },
      {
        "duration": 2,
        "start_time": "2022-08-29T15:35:20.184Z"
      },
      {
        "duration": 5,
        "start_time": "2022-08-29T15:35:20.187Z"
      },
      {
        "duration": 5,
        "start_time": "2022-08-29T15:35:20.193Z"
      },
      {
        "duration": 6,
        "start_time": "2022-08-29T15:35:20.199Z"
      },
      {
        "duration": 8,
        "start_time": "2022-08-29T15:35:20.207Z"
      },
      {
        "duration": 5,
        "start_time": "2022-08-29T15:35:20.216Z"
      },
      {
        "duration": 6,
        "start_time": "2022-08-29T15:35:20.223Z"
      },
      {
        "duration": 7,
        "start_time": "2022-08-29T15:35:20.231Z"
      },
      {
        "duration": 5,
        "start_time": "2022-08-29T15:35:20.240Z"
      },
      {
        "duration": 4,
        "start_time": "2022-08-29T15:35:20.246Z"
      },
      {
        "duration": 5,
        "start_time": "2022-08-29T15:35:20.251Z"
      },
      {
        "duration": 5,
        "start_time": "2022-08-29T15:35:20.257Z"
      },
      {
        "duration": 6,
        "start_time": "2022-08-29T15:35:20.263Z"
      },
      {
        "duration": 4,
        "start_time": "2022-08-29T15:35:20.270Z"
      },
      {
        "duration": 16,
        "start_time": "2022-08-29T15:36:00.946Z"
      },
      {
        "duration": 5,
        "start_time": "2022-08-29T15:38:26.465Z"
      },
      {
        "duration": 4,
        "start_time": "2022-08-29T15:38:29.613Z"
      },
      {
        "duration": 5,
        "start_time": "2022-08-29T15:38:35.375Z"
      },
      {
        "duration": 18,
        "start_time": "2022-08-29T15:38:40.919Z"
      },
      {
        "duration": 74,
        "start_time": "2022-08-29T15:39:38.516Z"
      },
      {
        "duration": 17,
        "start_time": "2022-08-29T15:39:50.413Z"
      },
      {
        "duration": 16,
        "start_time": "2022-08-29T15:40:08.669Z"
      },
      {
        "duration": 18,
        "start_time": "2022-08-29T15:40:18.325Z"
      },
      {
        "duration": 5,
        "start_time": "2022-08-29T15:40:28.386Z"
      },
      {
        "duration": 5,
        "start_time": "2022-08-29T15:48:12.542Z"
      },
      {
        "duration": 14,
        "start_time": "2022-08-29T15:48:16.986Z"
      },
      {
        "duration": 5,
        "start_time": "2022-08-29T15:48:41.340Z"
      },
      {
        "duration": 15,
        "start_time": "2022-08-29T15:48:45.869Z"
      },
      {
        "duration": 4,
        "start_time": "2022-08-29T15:57:37.491Z"
      },
      {
        "duration": 16,
        "start_time": "2022-08-29T15:57:43.900Z"
      },
      {
        "duration": 6,
        "start_time": "2022-08-29T15:58:16.142Z"
      },
      {
        "duration": 15,
        "start_time": "2022-08-29T15:58:19.542Z"
      },
      {
        "duration": 4,
        "start_time": "2022-08-29T16:00:40.062Z"
      },
      {
        "duration": 14,
        "start_time": "2022-08-29T16:00:49.308Z"
      },
      {
        "duration": 5,
        "start_time": "2022-08-29T16:01:22.961Z"
      },
      {
        "duration": 16,
        "start_time": "2022-08-29T16:01:27.057Z"
      },
      {
        "duration": 6,
        "start_time": "2022-08-29T16:01:38.554Z"
      },
      {
        "duration": 15,
        "start_time": "2022-08-29T16:01:43.354Z"
      },
      {
        "duration": 3,
        "start_time": "2022-08-29T16:02:13.900Z"
      },
      {
        "duration": 33,
        "start_time": "2022-08-29T16:02:39.735Z"
      },
      {
        "duration": 22,
        "start_time": "2022-08-29T16:02:44.604Z"
      },
      {
        "duration": 33,
        "start_time": "2022-08-29T16:03:05.618Z"
      },
      {
        "duration": 14,
        "start_time": "2022-08-29T16:03:09.282Z"
      },
      {
        "duration": 9,
        "start_time": "2022-08-29T16:03:59.989Z"
      },
      {
        "duration": 9,
        "start_time": "2022-08-29T16:04:14.633Z"
      },
      {
        "duration": 31,
        "start_time": "2022-08-29T16:06:00.503Z"
      },
      {
        "duration": 13,
        "start_time": "2022-08-29T16:06:05.401Z"
      },
      {
        "duration": 18,
        "start_time": "2022-08-29T16:06:28.277Z"
      },
      {
        "duration": 11,
        "start_time": "2022-08-29T16:06:32.361Z"
      },
      {
        "duration": 23,
        "start_time": "2022-08-29T16:06:44.978Z"
      },
      {
        "duration": 9,
        "start_time": "2022-08-29T16:06:50.630Z"
      },
      {
        "duration": 407,
        "start_time": "2022-08-29T16:07:00.833Z"
      },
      {
        "duration": 8,
        "start_time": "2022-08-29T16:07:01.242Z"
      },
      {
        "duration": 15,
        "start_time": "2022-08-29T16:07:01.252Z"
      },
      {
        "duration": 21,
        "start_time": "2022-08-29T16:07:01.269Z"
      },
      {
        "duration": 18,
        "start_time": "2022-08-29T16:07:01.292Z"
      },
      {
        "duration": 7,
        "start_time": "2022-08-29T16:07:01.311Z"
      },
      {
        "duration": 22,
        "start_time": "2022-08-29T16:07:01.319Z"
      },
      {
        "duration": 3,
        "start_time": "2022-08-29T16:07:01.342Z"
      },
      {
        "duration": 37,
        "start_time": "2022-08-29T16:07:01.346Z"
      },
      {
        "duration": 9,
        "start_time": "2022-08-29T16:07:01.387Z"
      },
      {
        "duration": 11,
        "start_time": "2022-08-29T16:07:01.397Z"
      },
      {
        "duration": 19,
        "start_time": "2022-08-29T16:07:01.410Z"
      },
      {
        "duration": 26,
        "start_time": "2022-08-29T16:07:01.431Z"
      },
      {
        "duration": 9,
        "start_time": "2022-08-29T16:07:01.458Z"
      },
      {
        "duration": 28,
        "start_time": "2022-08-29T16:07:01.468Z"
      },
      {
        "duration": 28,
        "start_time": "2022-08-29T16:07:01.497Z"
      },
      {
        "duration": 9,
        "start_time": "2022-08-29T16:07:01.526Z"
      },
      {
        "duration": 18,
        "start_time": "2022-08-29T16:07:01.536Z"
      },
      {
        "duration": 16,
        "start_time": "2022-08-29T16:07:01.555Z"
      },
      {
        "duration": 24,
        "start_time": "2022-08-29T16:07:01.573Z"
      },
      {
        "duration": 13,
        "start_time": "2022-08-29T16:07:01.598Z"
      },
      {
        "duration": 18,
        "start_time": "2022-08-29T16:07:01.612Z"
      },
      {
        "duration": 28,
        "start_time": "2022-08-29T16:07:01.631Z"
      },
      {
        "duration": 4,
        "start_time": "2022-08-29T16:07:01.660Z"
      },
      {
        "duration": 9,
        "start_time": "2022-08-29T16:07:01.666Z"
      },
      {
        "duration": 10,
        "start_time": "2022-08-29T16:07:01.676Z"
      },
      {
        "duration": 7,
        "start_time": "2022-08-29T16:07:01.687Z"
      },
      {
        "duration": 12,
        "start_time": "2022-08-29T16:07:01.698Z"
      },
      {
        "duration": 8,
        "start_time": "2022-08-29T16:07:01.711Z"
      },
      {
        "duration": 14,
        "start_time": "2022-08-29T16:07:01.721Z"
      },
      {
        "duration": 8,
        "start_time": "2022-08-29T16:07:01.736Z"
      },
      {
        "duration": 11,
        "start_time": "2022-08-29T16:07:01.745Z"
      },
      {
        "duration": 13,
        "start_time": "2022-08-29T16:07:01.757Z"
      },
      {
        "duration": 7,
        "start_time": "2022-08-29T16:07:01.772Z"
      },
      {
        "duration": 9,
        "start_time": "2022-08-29T16:07:01.780Z"
      },
      {
        "duration": 22,
        "start_time": "2022-08-29T16:07:01.790Z"
      },
      {
        "duration": 16,
        "start_time": "2022-08-29T16:07:01.813Z"
      },
      {
        "duration": 13,
        "start_time": "2022-08-29T16:07:01.830Z"
      },
      {
        "duration": 3,
        "start_time": "2022-08-29T16:07:01.845Z"
      },
      {
        "duration": 11,
        "start_time": "2022-08-29T16:07:01.849Z"
      },
      {
        "duration": 23,
        "start_time": "2022-08-29T16:07:01.862Z"
      },
      {
        "duration": 3,
        "start_time": "2022-08-29T16:07:01.886Z"
      },
      {
        "duration": 10,
        "start_time": "2022-08-29T16:07:01.890Z"
      },
      {
        "duration": 10,
        "start_time": "2022-08-29T16:07:01.902Z"
      },
      {
        "duration": 14,
        "start_time": "2022-08-29T16:07:01.913Z"
      },
      {
        "duration": 23,
        "start_time": "2022-08-29T16:07:01.929Z"
      },
      {
        "duration": 6,
        "start_time": "2022-08-29T16:07:01.953Z"
      },
      {
        "duration": 28,
        "start_time": "2022-08-29T16:07:01.961Z"
      },
      {
        "duration": 7,
        "start_time": "2022-08-29T16:07:01.991Z"
      },
      {
        "duration": 19,
        "start_time": "2022-08-29T16:07:01.999Z"
      },
      {
        "duration": 39,
        "start_time": "2022-08-29T16:07:02.020Z"
      },
      {
        "duration": 5,
        "start_time": "2022-08-29T16:07:02.061Z"
      },
      {
        "duration": 29,
        "start_time": "2022-08-29T16:07:02.067Z"
      },
      {
        "duration": 2,
        "start_time": "2022-08-29T16:07:02.098Z"
      },
      {
        "duration": 6,
        "start_time": "2022-08-29T16:07:02.101Z"
      },
      {
        "duration": 7,
        "start_time": "2022-08-29T16:07:02.109Z"
      },
      {
        "duration": 12,
        "start_time": "2022-08-29T16:07:02.117Z"
      },
      {
        "duration": 26,
        "start_time": "2022-08-29T16:07:02.131Z"
      },
      {
        "duration": 19,
        "start_time": "2022-08-29T16:07:02.158Z"
      },
      {
        "duration": 7,
        "start_time": "2022-08-29T16:07:02.178Z"
      },
      {
        "duration": 7,
        "start_time": "2022-08-29T16:07:02.186Z"
      },
      {
        "duration": 4,
        "start_time": "2022-08-29T16:07:02.195Z"
      },
      {
        "duration": 6,
        "start_time": "2022-08-29T16:07:02.200Z"
      },
      {
        "duration": 6,
        "start_time": "2022-08-29T16:07:02.207Z"
      },
      {
        "duration": 4,
        "start_time": "2022-08-29T16:07:02.215Z"
      },
      {
        "duration": 5,
        "start_time": "2022-08-29T16:07:02.220Z"
      },
      {
        "duration": 11,
        "start_time": "2022-08-29T16:07:02.227Z"
      },
      {
        "duration": 6,
        "start_time": "2022-08-29T16:07:02.239Z"
      },
      {
        "duration": 6,
        "start_time": "2022-08-29T16:07:02.246Z"
      },
      {
        "duration": 4,
        "start_time": "2022-08-29T16:07:02.254Z"
      },
      {
        "duration": 4,
        "start_time": "2022-08-29T16:07:02.259Z"
      },
      {
        "duration": 5,
        "start_time": "2022-08-29T16:07:02.265Z"
      },
      {
        "duration": 6,
        "start_time": "2022-08-29T16:07:02.271Z"
      },
      {
        "duration": 7,
        "start_time": "2022-08-29T16:07:02.279Z"
      },
      {
        "duration": 5,
        "start_time": "2022-08-29T16:07:02.287Z"
      },
      {
        "duration": 8,
        "start_time": "2022-08-29T16:27:59.271Z"
      },
      {
        "duration": 6,
        "start_time": "2022-08-29T16:28:14.335Z"
      },
      {
        "duration": 56,
        "start_time": "2022-08-29T16:28:19.018Z"
      },
      {
        "duration": 4,
        "start_time": "2022-08-29T16:29:42.434Z"
      },
      {
        "duration": 10,
        "start_time": "2022-08-29T16:29:46.338Z"
      },
      {
        "duration": 448,
        "start_time": "2022-08-29T16:30:14.454Z"
      },
      {
        "duration": 7,
        "start_time": "2022-08-29T16:30:14.904Z"
      },
      {
        "duration": 16,
        "start_time": "2022-08-29T16:30:14.912Z"
      },
      {
        "duration": 12,
        "start_time": "2022-08-29T16:30:14.929Z"
      },
      {
        "duration": 18,
        "start_time": "2022-08-29T16:30:14.942Z"
      },
      {
        "duration": 29,
        "start_time": "2022-08-29T16:30:14.961Z"
      },
      {
        "duration": 14,
        "start_time": "2022-08-29T16:30:14.991Z"
      },
      {
        "duration": 3,
        "start_time": "2022-08-29T16:30:15.007Z"
      },
      {
        "duration": 23,
        "start_time": "2022-08-29T16:30:15.011Z"
      },
      {
        "duration": 5,
        "start_time": "2022-08-29T16:30:15.037Z"
      },
      {
        "duration": 6,
        "start_time": "2022-08-29T16:30:15.044Z"
      },
      {
        "duration": 10,
        "start_time": "2022-08-29T16:30:15.051Z"
      },
      {
        "duration": 14,
        "start_time": "2022-08-29T16:30:15.062Z"
      },
      {
        "duration": 7,
        "start_time": "2022-08-29T16:30:15.085Z"
      },
      {
        "duration": 8,
        "start_time": "2022-08-29T16:30:15.093Z"
      },
      {
        "duration": 7,
        "start_time": "2022-08-29T16:30:15.102Z"
      },
      {
        "duration": 9,
        "start_time": "2022-08-29T16:30:15.110Z"
      },
      {
        "duration": 7,
        "start_time": "2022-08-29T16:30:15.120Z"
      },
      {
        "duration": 7,
        "start_time": "2022-08-29T16:30:15.129Z"
      },
      {
        "duration": 7,
        "start_time": "2022-08-29T16:30:15.137Z"
      },
      {
        "duration": 7,
        "start_time": "2022-08-29T16:30:15.145Z"
      },
      {
        "duration": 27,
        "start_time": "2022-08-29T16:30:15.153Z"
      },
      {
        "duration": 19,
        "start_time": "2022-08-29T16:30:15.182Z"
      },
      {
        "duration": 5,
        "start_time": "2022-08-29T16:30:15.202Z"
      },
      {
        "duration": 5,
        "start_time": "2022-08-29T16:30:15.208Z"
      },
      {
        "duration": 6,
        "start_time": "2022-08-29T16:30:15.214Z"
      },
      {
        "duration": 4,
        "start_time": "2022-08-29T16:30:15.221Z"
      },
      {
        "duration": 5,
        "start_time": "2022-08-29T16:30:15.228Z"
      },
      {
        "duration": 6,
        "start_time": "2022-08-29T16:30:15.235Z"
      },
      {
        "duration": 43,
        "start_time": "2022-08-29T16:30:15.242Z"
      },
      {
        "duration": 15,
        "start_time": "2022-08-29T16:30:15.287Z"
      },
      {
        "duration": 6,
        "start_time": "2022-08-29T16:30:15.303Z"
      },
      {
        "duration": 7,
        "start_time": "2022-08-29T16:30:15.311Z"
      },
      {
        "duration": 5,
        "start_time": "2022-08-29T16:30:15.319Z"
      },
      {
        "duration": 8,
        "start_time": "2022-08-29T16:30:15.325Z"
      },
      {
        "duration": 18,
        "start_time": "2022-08-29T16:30:15.335Z"
      },
      {
        "duration": 15,
        "start_time": "2022-08-29T16:30:15.354Z"
      },
      {
        "duration": 25,
        "start_time": "2022-08-29T16:30:15.371Z"
      },
      {
        "duration": 3,
        "start_time": "2022-08-29T16:30:15.397Z"
      },
      {
        "duration": 5,
        "start_time": "2022-08-29T16:30:15.401Z"
      },
      {
        "duration": 13,
        "start_time": "2022-08-29T16:30:15.407Z"
      },
      {
        "duration": 3,
        "start_time": "2022-08-29T16:30:15.421Z"
      },
      {
        "duration": 7,
        "start_time": "2022-08-29T16:30:15.425Z"
      },
      {
        "duration": 8,
        "start_time": "2022-08-29T16:30:15.433Z"
      },
      {
        "duration": 12,
        "start_time": "2022-08-29T16:30:15.442Z"
      },
      {
        "duration": 46,
        "start_time": "2022-08-29T16:30:15.455Z"
      },
      {
        "duration": 8,
        "start_time": "2022-08-29T16:30:15.503Z"
      },
      {
        "duration": 18,
        "start_time": "2022-08-29T16:30:15.512Z"
      },
      {
        "duration": 8,
        "start_time": "2022-08-29T16:30:15.531Z"
      },
      {
        "duration": 11,
        "start_time": "2022-08-29T16:30:15.540Z"
      },
      {
        "duration": 66,
        "start_time": "2022-08-29T16:30:15.552Z"
      },
      {
        "duration": 0,
        "start_time": "2022-08-29T16:30:15.619Z"
      },
      {
        "duration": 0,
        "start_time": "2022-08-29T16:30:15.620Z"
      },
      {
        "duration": 0,
        "start_time": "2022-08-29T16:30:15.621Z"
      },
      {
        "duration": 0,
        "start_time": "2022-08-29T16:30:15.622Z"
      },
      {
        "duration": 0,
        "start_time": "2022-08-29T16:30:15.623Z"
      },
      {
        "duration": 0,
        "start_time": "2022-08-29T16:30:15.624Z"
      },
      {
        "duration": 0,
        "start_time": "2022-08-29T16:30:15.625Z"
      },
      {
        "duration": 0,
        "start_time": "2022-08-29T16:30:15.627Z"
      },
      {
        "duration": 0,
        "start_time": "2022-08-29T16:30:15.628Z"
      },
      {
        "duration": 0,
        "start_time": "2022-08-29T16:30:15.629Z"
      },
      {
        "duration": 0,
        "start_time": "2022-08-29T16:30:15.630Z"
      },
      {
        "duration": 0,
        "start_time": "2022-08-29T16:30:15.631Z"
      },
      {
        "duration": 0,
        "start_time": "2022-08-29T16:30:15.632Z"
      },
      {
        "duration": 0,
        "start_time": "2022-08-29T16:30:15.633Z"
      },
      {
        "duration": 0,
        "start_time": "2022-08-29T16:30:15.634Z"
      },
      {
        "duration": 0,
        "start_time": "2022-08-29T16:30:15.635Z"
      },
      {
        "duration": 0,
        "start_time": "2022-08-29T16:30:15.636Z"
      },
      {
        "duration": 0,
        "start_time": "2022-08-29T16:30:15.637Z"
      },
      {
        "duration": 0,
        "start_time": "2022-08-29T16:30:15.638Z"
      },
      {
        "duration": 0,
        "start_time": "2022-08-29T16:30:15.639Z"
      },
      {
        "duration": 0,
        "start_time": "2022-08-29T16:30:15.639Z"
      },
      {
        "duration": 0,
        "start_time": "2022-08-29T16:30:15.640Z"
      },
      {
        "duration": 0,
        "start_time": "2022-08-29T16:30:15.641Z"
      },
      {
        "duration": 0,
        "start_time": "2022-08-29T16:30:15.642Z"
      },
      {
        "duration": 6,
        "start_time": "2022-08-29T16:30:46.919Z"
      },
      {
        "duration": 7,
        "start_time": "2022-08-29T16:31:04.260Z"
      },
      {
        "duration": 17,
        "start_time": "2022-08-29T16:31:10.761Z"
      },
      {
        "duration": 4,
        "start_time": "2022-08-29T16:32:50.373Z"
      },
      {
        "duration": 14,
        "start_time": "2022-08-29T16:32:54.835Z"
      },
      {
        "duration": 4,
        "start_time": "2022-08-29T16:33:14.586Z"
      },
      {
        "duration": 14,
        "start_time": "2022-08-29T16:33:19.069Z"
      },
      {
        "duration": 4,
        "start_time": "2022-08-29T17:04:44.757Z"
      },
      {
        "duration": 14,
        "start_time": "2022-08-29T17:04:49.222Z"
      },
      {
        "duration": 15,
        "start_time": "2022-08-29T17:05:35.925Z"
      },
      {
        "duration": 15,
        "start_time": "2022-08-29T17:05:41.687Z"
      },
      {
        "duration": 429,
        "start_time": "2022-08-29T17:06:22.952Z"
      },
      {
        "duration": 8,
        "start_time": "2022-08-29T17:06:23.383Z"
      },
      {
        "duration": 20,
        "start_time": "2022-08-29T17:06:23.393Z"
      },
      {
        "duration": 24,
        "start_time": "2022-08-29T17:06:23.416Z"
      },
      {
        "duration": 68,
        "start_time": "2022-08-29T17:06:23.443Z"
      },
      {
        "duration": 8,
        "start_time": "2022-08-29T17:06:23.513Z"
      },
      {
        "duration": 23,
        "start_time": "2022-08-29T17:06:23.524Z"
      },
      {
        "duration": 4,
        "start_time": "2022-08-29T17:06:23.549Z"
      },
      {
        "duration": 33,
        "start_time": "2022-08-29T17:06:23.554Z"
      },
      {
        "duration": 3,
        "start_time": "2022-08-29T17:06:23.590Z"
      },
      {
        "duration": 5,
        "start_time": "2022-08-29T17:06:23.595Z"
      },
      {
        "duration": 10,
        "start_time": "2022-08-29T17:06:23.601Z"
      },
      {
        "duration": 10,
        "start_time": "2022-08-29T17:06:23.613Z"
      },
      {
        "duration": 8,
        "start_time": "2022-08-29T17:06:23.624Z"
      },
      {
        "duration": 6,
        "start_time": "2022-08-29T17:06:23.633Z"
      },
      {
        "duration": 45,
        "start_time": "2022-08-29T17:06:23.641Z"
      },
      {
        "duration": 6,
        "start_time": "2022-08-29T17:06:23.687Z"
      },
      {
        "duration": 9,
        "start_time": "2022-08-29T17:06:23.694Z"
      },
      {
        "duration": 5,
        "start_time": "2022-08-29T17:06:23.705Z"
      },
      {
        "duration": 5,
        "start_time": "2022-08-29T17:06:23.712Z"
      },
      {
        "duration": 9,
        "start_time": "2022-08-29T17:06:23.719Z"
      },
      {
        "duration": 22,
        "start_time": "2022-08-29T17:06:23.730Z"
      },
      {
        "duration": 47,
        "start_time": "2022-08-29T17:06:23.754Z"
      },
      {
        "duration": 7,
        "start_time": "2022-08-29T17:06:23.803Z"
      },
      {
        "duration": 10,
        "start_time": "2022-08-29T17:06:23.812Z"
      },
      {
        "duration": 11,
        "start_time": "2022-08-29T17:06:23.823Z"
      },
      {
        "duration": 4,
        "start_time": "2022-08-29T17:06:23.837Z"
      },
      {
        "duration": 7,
        "start_time": "2022-08-29T17:06:23.847Z"
      },
      {
        "duration": 35,
        "start_time": "2022-08-29T17:06:23.855Z"
      },
      {
        "duration": 14,
        "start_time": "2022-08-29T17:06:23.891Z"
      },
      {
        "duration": 7,
        "start_time": "2022-08-29T17:06:23.906Z"
      },
      {
        "duration": 7,
        "start_time": "2022-08-29T17:06:23.915Z"
      },
      {
        "duration": 13,
        "start_time": "2022-08-29T17:06:23.923Z"
      },
      {
        "duration": 5,
        "start_time": "2022-08-29T17:06:23.937Z"
      },
      {
        "duration": 44,
        "start_time": "2022-08-29T17:06:23.943Z"
      },
      {
        "duration": 30,
        "start_time": "2022-08-29T17:06:23.989Z"
      },
      {
        "duration": 18,
        "start_time": "2022-08-29T17:06:24.021Z"
      },
      {
        "duration": 49,
        "start_time": "2022-08-29T17:06:24.041Z"
      },
      {
        "duration": 5,
        "start_time": "2022-08-29T17:06:24.092Z"
      },
      {
        "duration": 10,
        "start_time": "2022-08-29T17:06:24.099Z"
      },
      {
        "duration": 19,
        "start_time": "2022-08-29T17:06:24.110Z"
      },
      {
        "duration": 8,
        "start_time": "2022-08-29T17:06:24.131Z"
      },
      {
        "duration": 8,
        "start_time": "2022-08-29T17:06:24.141Z"
      },
      {
        "duration": 11,
        "start_time": "2022-08-29T17:06:24.151Z"
      },
      {
        "duration": 34,
        "start_time": "2022-08-29T17:06:24.163Z"
      },
      {
        "duration": 52,
        "start_time": "2022-08-29T17:06:24.200Z"
      },
      {
        "duration": 9,
        "start_time": "2022-08-29T17:06:24.254Z"
      },
      {
        "duration": 26,
        "start_time": "2022-08-29T17:06:24.265Z"
      },
      {
        "duration": 7,
        "start_time": "2022-08-29T17:06:24.293Z"
      },
      {
        "duration": 7,
        "start_time": "2022-08-29T17:06:24.303Z"
      },
      {
        "duration": 10,
        "start_time": "2022-08-29T17:06:24.311Z"
      },
      {
        "duration": 8,
        "start_time": "2022-08-29T17:06:24.323Z"
      },
      {
        "duration": 27,
        "start_time": "2022-08-29T17:06:24.334Z"
      },
      {
        "duration": 2,
        "start_time": "2022-08-29T17:06:24.393Z"
      },
      {
        "duration": 17,
        "start_time": "2022-08-29T17:06:24.397Z"
      },
      {
        "duration": 8,
        "start_time": "2022-08-29T17:06:24.417Z"
      },
      {
        "duration": 7,
        "start_time": "2022-08-29T17:06:24.427Z"
      },
      {
        "duration": 5,
        "start_time": "2022-08-29T17:06:24.436Z"
      },
      {
        "duration": 13,
        "start_time": "2022-08-29T17:06:24.443Z"
      },
      {
        "duration": 9,
        "start_time": "2022-08-29T17:06:24.458Z"
      },
      {
        "duration": 9,
        "start_time": "2022-08-29T17:06:24.469Z"
      },
      {
        "duration": 9,
        "start_time": "2022-08-29T17:06:24.480Z"
      },
      {
        "duration": 12,
        "start_time": "2022-08-29T17:06:24.491Z"
      },
      {
        "duration": 11,
        "start_time": "2022-08-29T17:06:24.505Z"
      },
      {
        "duration": 30,
        "start_time": "2022-08-29T17:06:24.518Z"
      },
      {
        "duration": 20,
        "start_time": "2022-08-29T17:06:24.551Z"
      },
      {
        "duration": 13,
        "start_time": "2022-08-29T17:06:24.573Z"
      },
      {
        "duration": 8,
        "start_time": "2022-08-29T17:06:24.589Z"
      },
      {
        "duration": 12,
        "start_time": "2022-08-29T17:06:24.599Z"
      },
      {
        "duration": 14,
        "start_time": "2022-08-29T17:06:24.614Z"
      },
      {
        "duration": 13,
        "start_time": "2022-08-29T17:06:24.630Z"
      },
      {
        "duration": 15,
        "start_time": "2022-08-29T17:06:24.645Z"
      },
      {
        "duration": 8,
        "start_time": "2022-08-29T17:06:24.661Z"
      },
      {
        "duration": 9,
        "start_time": "2022-08-29T17:06:24.671Z"
      },
      {
        "duration": 7,
        "start_time": "2022-08-29T17:06:24.682Z"
      },
      {
        "duration": 372,
        "start_time": "2022-08-29T17:14:56.744Z"
      },
      {
        "duration": 140,
        "start_time": "2022-08-29T17:15:31.623Z"
      },
      {
        "duration": 19,
        "start_time": "2022-08-29T17:15:36.048Z"
      },
      {
        "duration": 10,
        "start_time": "2022-08-29T17:18:30.520Z"
      },
      {
        "duration": 9,
        "start_time": "2022-08-29T17:18:55.039Z"
      },
      {
        "duration": 15,
        "start_time": "2022-08-29T17:19:08.172Z"
      },
      {
        "duration": 23,
        "start_time": "2022-08-29T17:20:36.305Z"
      },
      {
        "duration": 21,
        "start_time": "2022-08-29T17:20:47.591Z"
      },
      {
        "duration": 19,
        "start_time": "2022-08-29T17:20:58.899Z"
      },
      {
        "duration": 10,
        "start_time": "2022-08-29T17:22:43.729Z"
      },
      {
        "duration": 15,
        "start_time": "2022-08-29T17:24:01.811Z"
      },
      {
        "duration": 17,
        "start_time": "2022-08-29T17:24:10.386Z"
      },
      {
        "duration": 13,
        "start_time": "2022-08-29T17:25:54.787Z"
      },
      {
        "duration": 7,
        "start_time": "2022-08-29T17:29:35.537Z"
      },
      {
        "duration": 8,
        "start_time": "2022-08-29T17:30:04.910Z"
      },
      {
        "duration": 7,
        "start_time": "2022-08-29T17:30:18.794Z"
      },
      {
        "duration": 8,
        "start_time": "2022-08-29T18:14:10.328Z"
      },
      {
        "duration": 107,
        "start_time": "2022-08-29T18:14:16.902Z"
      },
      {
        "duration": 6,
        "start_time": "2022-08-29T18:14:26.242Z"
      },
      {
        "duration": 523,
        "start_time": "2022-08-30T05:01:07.350Z"
      },
      {
        "duration": 7,
        "start_time": "2022-08-30T05:01:07.875Z"
      },
      {
        "duration": 38,
        "start_time": "2022-08-30T05:01:07.883Z"
      },
      {
        "duration": 19,
        "start_time": "2022-08-30T05:01:07.922Z"
      },
      {
        "duration": 19,
        "start_time": "2022-08-30T05:01:07.943Z"
      },
      {
        "duration": 6,
        "start_time": "2022-08-30T05:01:07.963Z"
      },
      {
        "duration": 23,
        "start_time": "2022-08-30T05:01:07.970Z"
      },
      {
        "duration": 7,
        "start_time": "2022-08-30T05:01:07.994Z"
      },
      {
        "duration": 20,
        "start_time": "2022-08-30T05:01:08.003Z"
      },
      {
        "duration": 23,
        "start_time": "2022-08-30T05:01:08.028Z"
      },
      {
        "duration": 13,
        "start_time": "2022-08-30T05:01:08.052Z"
      },
      {
        "duration": 37,
        "start_time": "2022-08-30T05:01:08.067Z"
      },
      {
        "duration": 22,
        "start_time": "2022-08-30T05:01:08.106Z"
      },
      {
        "duration": 24,
        "start_time": "2022-08-30T05:01:08.129Z"
      },
      {
        "duration": 14,
        "start_time": "2022-08-30T05:01:08.155Z"
      },
      {
        "duration": 9,
        "start_time": "2022-08-30T05:01:08.172Z"
      },
      {
        "duration": 32,
        "start_time": "2022-08-30T05:01:08.182Z"
      },
      {
        "duration": 20,
        "start_time": "2022-08-30T05:01:08.215Z"
      },
      {
        "duration": 24,
        "start_time": "2022-08-30T05:01:08.237Z"
      },
      {
        "duration": 9,
        "start_time": "2022-08-30T05:01:08.263Z"
      },
      {
        "duration": 30,
        "start_time": "2022-08-30T05:01:08.273Z"
      },
      {
        "duration": 11,
        "start_time": "2022-08-30T05:01:08.305Z"
      },
      {
        "duration": 10,
        "start_time": "2022-08-30T05:01:08.317Z"
      },
      {
        "duration": 14,
        "start_time": "2022-08-30T05:01:08.328Z"
      },
      {
        "duration": 23,
        "start_time": "2022-08-30T05:01:08.343Z"
      },
      {
        "duration": 32,
        "start_time": "2022-08-30T05:01:08.368Z"
      },
      {
        "duration": 17,
        "start_time": "2022-08-30T05:01:08.401Z"
      },
      {
        "duration": 19,
        "start_time": "2022-08-30T05:01:08.421Z"
      },
      {
        "duration": 18,
        "start_time": "2022-08-30T05:01:08.441Z"
      },
      {
        "duration": 38,
        "start_time": "2022-08-30T05:01:08.461Z"
      },
      {
        "duration": 34,
        "start_time": "2022-08-30T05:01:08.503Z"
      },
      {
        "duration": 17,
        "start_time": "2022-08-30T05:01:08.539Z"
      },
      {
        "duration": 25,
        "start_time": "2022-08-30T05:01:08.558Z"
      },
      {
        "duration": 30,
        "start_time": "2022-08-30T05:01:08.585Z"
      },
      {
        "duration": 38,
        "start_time": "2022-08-30T05:01:08.616Z"
      },
      {
        "duration": 16,
        "start_time": "2022-08-30T05:01:08.655Z"
      },
      {
        "duration": 21,
        "start_time": "2022-08-30T05:01:08.673Z"
      },
      {
        "duration": 13,
        "start_time": "2022-08-30T05:01:08.695Z"
      },
      {
        "duration": 21,
        "start_time": "2022-08-30T05:01:08.709Z"
      },
      {
        "duration": 27,
        "start_time": "2022-08-30T05:01:08.732Z"
      },
      {
        "duration": 3,
        "start_time": "2022-08-30T05:01:08.761Z"
      },
      {
        "duration": 14,
        "start_time": "2022-08-30T05:01:08.767Z"
      },
      {
        "duration": 30,
        "start_time": "2022-08-30T05:01:08.783Z"
      },
      {
        "duration": 28,
        "start_time": "2022-08-30T05:01:08.815Z"
      },
      {
        "duration": 53,
        "start_time": "2022-08-30T05:01:08.844Z"
      },
      {
        "duration": 8,
        "start_time": "2022-08-30T05:01:08.900Z"
      },
      {
        "duration": 22,
        "start_time": "2022-08-30T05:01:08.910Z"
      },
      {
        "duration": 6,
        "start_time": "2022-08-30T05:01:08.933Z"
      },
      {
        "duration": 25,
        "start_time": "2022-08-30T05:01:08.940Z"
      },
      {
        "duration": 55,
        "start_time": "2022-08-30T05:01:08.967Z"
      },
      {
        "duration": 6,
        "start_time": "2022-08-30T05:01:09.024Z"
      },
      {
        "duration": 36,
        "start_time": "2022-08-30T05:01:09.031Z"
      },
      {
        "duration": 14,
        "start_time": "2022-08-30T05:01:09.068Z"
      },
      {
        "duration": 14,
        "start_time": "2022-08-30T05:01:25.199Z"
      },
      {
        "duration": 5,
        "start_time": "2022-08-30T05:02:41.034Z"
      },
      {
        "duration": 118,
        "start_time": "2022-08-30T05:03:51.803Z"
      },
      {
        "duration": 5,
        "start_time": "2022-08-30T05:03:58.738Z"
      },
      {
        "duration": 14,
        "start_time": "2022-08-30T05:04:22.400Z"
      },
      {
        "duration": 6,
        "start_time": "2022-08-30T05:10:11.905Z"
      },
      {
        "duration": 15,
        "start_time": "2022-08-30T05:10:43.759Z"
      },
      {
        "duration": 387,
        "start_time": "2022-08-30T05:11:16.739Z"
      },
      {
        "duration": 7,
        "start_time": "2022-08-30T05:11:17.128Z"
      },
      {
        "duration": 23,
        "start_time": "2022-08-30T05:11:17.136Z"
      },
      {
        "duration": 12,
        "start_time": "2022-08-30T05:11:17.161Z"
      },
      {
        "duration": 25,
        "start_time": "2022-08-30T05:11:17.175Z"
      },
      {
        "duration": 9,
        "start_time": "2022-08-30T05:11:17.201Z"
      },
      {
        "duration": 12,
        "start_time": "2022-08-30T05:11:17.212Z"
      },
      {
        "duration": 79,
        "start_time": "2022-08-30T05:11:17.225Z"
      },
      {
        "duration": 0,
        "start_time": "2022-08-30T05:11:17.307Z"
      },
      {
        "duration": 0,
        "start_time": "2022-08-30T05:11:17.308Z"
      },
      {
        "duration": 0,
        "start_time": "2022-08-30T05:11:17.309Z"
      },
      {
        "duration": 0,
        "start_time": "2022-08-30T05:11:17.309Z"
      },
      {
        "duration": 0,
        "start_time": "2022-08-30T05:11:17.310Z"
      },
      {
        "duration": 0,
        "start_time": "2022-08-30T05:11:17.312Z"
      },
      {
        "duration": 0,
        "start_time": "2022-08-30T05:11:17.312Z"
      },
      {
        "duration": 0,
        "start_time": "2022-08-30T05:11:17.313Z"
      },
      {
        "duration": 0,
        "start_time": "2022-08-30T05:11:17.314Z"
      },
      {
        "duration": 0,
        "start_time": "2022-08-30T05:11:17.315Z"
      },
      {
        "duration": 0,
        "start_time": "2022-08-30T05:11:17.316Z"
      },
      {
        "duration": 0,
        "start_time": "2022-08-30T05:11:17.317Z"
      },
      {
        "duration": 0,
        "start_time": "2022-08-30T05:11:17.318Z"
      },
      {
        "duration": 0,
        "start_time": "2022-08-30T05:11:17.318Z"
      },
      {
        "duration": 0,
        "start_time": "2022-08-30T05:11:17.319Z"
      },
      {
        "duration": 0,
        "start_time": "2022-08-30T05:11:17.320Z"
      },
      {
        "duration": 0,
        "start_time": "2022-08-30T05:11:17.321Z"
      },
      {
        "duration": 0,
        "start_time": "2022-08-30T05:11:17.322Z"
      },
      {
        "duration": 0,
        "start_time": "2022-08-30T05:11:17.323Z"
      },
      {
        "duration": 0,
        "start_time": "2022-08-30T05:11:17.323Z"
      },
      {
        "duration": 0,
        "start_time": "2022-08-30T05:11:17.324Z"
      },
      {
        "duration": 0,
        "start_time": "2022-08-30T05:11:17.325Z"
      },
      {
        "duration": 0,
        "start_time": "2022-08-30T05:11:17.326Z"
      },
      {
        "duration": 0,
        "start_time": "2022-08-30T05:11:17.327Z"
      },
      {
        "duration": 0,
        "start_time": "2022-08-30T05:11:17.328Z"
      },
      {
        "duration": 0,
        "start_time": "2022-08-30T05:11:17.329Z"
      },
      {
        "duration": 0,
        "start_time": "2022-08-30T05:11:17.329Z"
      },
      {
        "duration": 0,
        "start_time": "2022-08-30T05:11:17.330Z"
      },
      {
        "duration": 0,
        "start_time": "2022-08-30T05:11:17.331Z"
      },
      {
        "duration": 0,
        "start_time": "2022-08-30T05:11:17.332Z"
      },
      {
        "duration": 0,
        "start_time": "2022-08-30T05:11:17.333Z"
      },
      {
        "duration": 0,
        "start_time": "2022-08-30T05:11:17.334Z"
      },
      {
        "duration": 0,
        "start_time": "2022-08-30T05:11:17.335Z"
      },
      {
        "duration": 0,
        "start_time": "2022-08-30T05:11:17.336Z"
      },
      {
        "duration": 0,
        "start_time": "2022-08-30T05:11:17.337Z"
      },
      {
        "duration": 0,
        "start_time": "2022-08-30T05:11:17.337Z"
      },
      {
        "duration": 0,
        "start_time": "2022-08-30T05:11:17.338Z"
      },
      {
        "duration": 0,
        "start_time": "2022-08-30T05:11:17.385Z"
      },
      {
        "duration": 0,
        "start_time": "2022-08-30T05:11:17.386Z"
      },
      {
        "duration": 13,
        "start_time": "2022-08-30T05:11:17.395Z"
      },
      {
        "duration": 0,
        "start_time": "2022-08-30T05:11:17.410Z"
      },
      {
        "duration": 0,
        "start_time": "2022-08-30T05:11:17.411Z"
      },
      {
        "duration": 0,
        "start_time": "2022-08-30T05:11:17.412Z"
      },
      {
        "duration": 0,
        "start_time": "2022-08-30T05:11:17.413Z"
      },
      {
        "duration": 0,
        "start_time": "2022-08-30T05:11:17.415Z"
      },
      {
        "duration": 0,
        "start_time": "2022-08-30T05:11:17.415Z"
      },
      {
        "duration": 0,
        "start_time": "2022-08-30T05:11:17.417Z"
      },
      {
        "duration": 0,
        "start_time": "2022-08-30T05:11:17.418Z"
      },
      {
        "duration": 0,
        "start_time": "2022-08-30T05:11:17.419Z"
      },
      {
        "duration": 0,
        "start_time": "2022-08-30T05:11:17.420Z"
      },
      {
        "duration": 0,
        "start_time": "2022-08-30T05:11:17.421Z"
      },
      {
        "duration": 0,
        "start_time": "2022-08-30T05:11:17.422Z"
      },
      {
        "duration": 0,
        "start_time": "2022-08-30T05:11:17.423Z"
      },
      {
        "duration": 0,
        "start_time": "2022-08-30T05:11:17.424Z"
      },
      {
        "duration": 0,
        "start_time": "2022-08-30T05:11:17.425Z"
      },
      {
        "duration": 0,
        "start_time": "2022-08-30T05:11:17.492Z"
      },
      {
        "duration": 0,
        "start_time": "2022-08-30T05:11:17.493Z"
      },
      {
        "duration": 0,
        "start_time": "2022-08-30T05:11:17.494Z"
      },
      {
        "duration": 0,
        "start_time": "2022-08-30T05:11:17.494Z"
      },
      {
        "duration": 0,
        "start_time": "2022-08-30T05:11:17.495Z"
      },
      {
        "duration": 0,
        "start_time": "2022-08-30T05:11:17.495Z"
      },
      {
        "duration": 0,
        "start_time": "2022-08-30T05:11:17.496Z"
      },
      {
        "duration": 1,
        "start_time": "2022-08-30T05:11:17.496Z"
      },
      {
        "duration": 0,
        "start_time": "2022-08-30T05:11:17.499Z"
      },
      {
        "duration": 0,
        "start_time": "2022-08-30T05:11:17.500Z"
      },
      {
        "duration": 3,
        "start_time": "2022-08-30T05:11:17.504Z"
      },
      {
        "duration": 8,
        "start_time": "2022-08-30T05:11:17.508Z"
      },
      {
        "duration": 6,
        "start_time": "2022-08-30T05:11:56.912Z"
      },
      {
        "duration": 6,
        "start_time": "2022-08-30T05:12:17.985Z"
      },
      {
        "duration": 4,
        "start_time": "2022-08-30T05:12:34.432Z"
      },
      {
        "duration": 13,
        "start_time": "2022-08-30T05:14:00.624Z"
      },
      {
        "duration": 5,
        "start_time": "2022-08-30T05:18:10.659Z"
      },
      {
        "duration": 5,
        "start_time": "2022-08-30T05:18:30.974Z"
      },
      {
        "duration": 7,
        "start_time": "2022-08-30T05:24:37.155Z"
      },
      {
        "duration": 13,
        "start_time": "2022-08-30T05:24:59.796Z"
      },
      {
        "duration": 3,
        "start_time": "2022-08-30T05:25:14.565Z"
      },
      {
        "duration": 3,
        "start_time": "2022-08-30T05:25:17.639Z"
      },
      {
        "duration": 6,
        "start_time": "2022-08-30T05:25:21.232Z"
      },
      {
        "duration": 12,
        "start_time": "2022-08-30T05:25:23.503Z"
      },
      {
        "duration": 24,
        "start_time": "2022-08-30T05:25:27.531Z"
      },
      {
        "duration": 7,
        "start_time": "2022-08-30T05:25:32.254Z"
      },
      {
        "duration": 7,
        "start_time": "2022-08-30T05:25:35.110Z"
      },
      {
        "duration": 4,
        "start_time": "2022-08-30T05:25:39.254Z"
      },
      {
        "duration": 1367,
        "start_time": "2022-08-30T05:26:54.761Z"
      },
      {
        "duration": 9,
        "start_time": "2022-08-30T05:27:34.185Z"
      },
      {
        "duration": 1938,
        "start_time": "2022-08-30T05:27:36.965Z"
      },
      {
        "duration": 4,
        "start_time": "2022-08-30T05:28:33.297Z"
      },
      {
        "duration": 1332,
        "start_time": "2022-08-30T05:28:37.536Z"
      },
      {
        "duration": 441,
        "start_time": "2022-08-30T05:28:51.413Z"
      },
      {
        "duration": 7,
        "start_time": "2022-08-30T05:28:51.856Z"
      },
      {
        "duration": 16,
        "start_time": "2022-08-30T05:28:51.865Z"
      },
      {
        "duration": 19,
        "start_time": "2022-08-30T05:28:51.883Z"
      },
      {
        "duration": 16,
        "start_time": "2022-08-30T05:28:51.903Z"
      },
      {
        "duration": 6,
        "start_time": "2022-08-30T05:28:51.920Z"
      },
      {
        "duration": 14,
        "start_time": "2022-08-30T05:28:51.927Z"
      },
      {
        "duration": 8,
        "start_time": "2022-08-30T05:28:51.942Z"
      },
      {
        "duration": 7,
        "start_time": "2022-08-30T05:28:51.951Z"
      },
      {
        "duration": 37,
        "start_time": "2022-08-30T05:28:51.960Z"
      },
      {
        "duration": 9,
        "start_time": "2022-08-30T05:28:51.999Z"
      },
      {
        "duration": 9,
        "start_time": "2022-08-30T05:28:52.010Z"
      },
      {
        "duration": 12,
        "start_time": "2022-08-30T05:28:52.020Z"
      },
      {
        "duration": 7,
        "start_time": "2022-08-30T05:28:52.033Z"
      },
      {
        "duration": 13,
        "start_time": "2022-08-30T05:28:52.042Z"
      },
      {
        "duration": 8,
        "start_time": "2022-08-30T05:28:52.057Z"
      },
      {
        "duration": 41,
        "start_time": "2022-08-30T05:28:52.066Z"
      },
      {
        "duration": 13,
        "start_time": "2022-08-30T05:28:52.108Z"
      },
      {
        "duration": 15,
        "start_time": "2022-08-30T05:28:52.122Z"
      },
      {
        "duration": 20,
        "start_time": "2022-08-30T05:28:52.139Z"
      },
      {
        "duration": 15,
        "start_time": "2022-08-30T05:28:52.161Z"
      },
      {
        "duration": 29,
        "start_time": "2022-08-30T05:28:52.177Z"
      },
      {
        "duration": 21,
        "start_time": "2022-08-30T05:28:52.208Z"
      },
      {
        "duration": 16,
        "start_time": "2022-08-30T05:28:52.231Z"
      },
      {
        "duration": 26,
        "start_time": "2022-08-30T05:28:52.249Z"
      },
      {
        "duration": 21,
        "start_time": "2022-08-30T05:28:52.276Z"
      },
      {
        "duration": 26,
        "start_time": "2022-08-30T05:28:52.299Z"
      },
      {
        "duration": 19,
        "start_time": "2022-08-30T05:28:52.330Z"
      },
      {
        "duration": 19,
        "start_time": "2022-08-30T05:28:52.350Z"
      },
      {
        "duration": 41,
        "start_time": "2022-08-30T05:28:52.371Z"
      },
      {
        "duration": 15,
        "start_time": "2022-08-30T05:28:52.413Z"
      },
      {
        "duration": 26,
        "start_time": "2022-08-30T05:28:52.429Z"
      },
      {
        "duration": 25,
        "start_time": "2022-08-30T05:28:52.456Z"
      },
      {
        "duration": 29,
        "start_time": "2022-08-30T05:28:52.482Z"
      },
      {
        "duration": 35,
        "start_time": "2022-08-30T05:28:52.513Z"
      },
      {
        "duration": 17,
        "start_time": "2022-08-30T05:28:52.549Z"
      },
      {
        "duration": 15,
        "start_time": "2022-08-30T05:28:52.567Z"
      },
      {
        "duration": 13,
        "start_time": "2022-08-30T05:28:52.590Z"
      },
      {
        "duration": 15,
        "start_time": "2022-08-30T05:28:52.605Z"
      },
      {
        "duration": 29,
        "start_time": "2022-08-30T05:28:52.621Z"
      },
      {
        "duration": 9,
        "start_time": "2022-08-30T05:28:52.651Z"
      },
      {
        "duration": 15,
        "start_time": "2022-08-30T05:28:52.662Z"
      },
      {
        "duration": 37,
        "start_time": "2022-08-30T05:28:52.679Z"
      },
      {
        "duration": 29,
        "start_time": "2022-08-30T05:28:52.717Z"
      },
      {
        "duration": 53,
        "start_time": "2022-08-30T05:28:52.747Z"
      },
      {
        "duration": 15,
        "start_time": "2022-08-30T05:28:52.802Z"
      },
      {
        "duration": 16,
        "start_time": "2022-08-30T05:28:52.818Z"
      },
      {
        "duration": 30,
        "start_time": "2022-08-30T05:28:52.836Z"
      },
      {
        "duration": 39,
        "start_time": "2022-08-30T05:28:52.867Z"
      },
      {
        "duration": 1518,
        "start_time": "2022-08-30T05:28:52.907Z"
      },
      {
        "duration": 0,
        "start_time": "2022-08-30T05:28:54.427Z"
      },
      {
        "duration": 0,
        "start_time": "2022-08-30T05:28:54.429Z"
      },
      {
        "duration": 0,
        "start_time": "2022-08-30T05:28:54.430Z"
      },
      {
        "duration": 0,
        "start_time": "2022-08-30T05:28:54.432Z"
      },
      {
        "duration": 0,
        "start_time": "2022-08-30T05:28:54.434Z"
      },
      {
        "duration": 0,
        "start_time": "2022-08-30T05:28:54.435Z"
      },
      {
        "duration": 0,
        "start_time": "2022-08-30T05:28:54.436Z"
      },
      {
        "duration": 0,
        "start_time": "2022-08-30T05:28:54.437Z"
      },
      {
        "duration": 0,
        "start_time": "2022-08-30T05:28:54.439Z"
      },
      {
        "duration": 0,
        "start_time": "2022-08-30T05:28:54.440Z"
      },
      {
        "duration": 0,
        "start_time": "2022-08-30T05:28:54.441Z"
      },
      {
        "duration": 0,
        "start_time": "2022-08-30T05:28:54.442Z"
      },
      {
        "duration": 0,
        "start_time": "2022-08-30T05:28:54.443Z"
      },
      {
        "duration": 0,
        "start_time": "2022-08-30T05:28:54.445Z"
      },
      {
        "duration": 0,
        "start_time": "2022-08-30T05:28:54.446Z"
      },
      {
        "duration": 0,
        "start_time": "2022-08-30T05:28:54.448Z"
      },
      {
        "duration": 0,
        "start_time": "2022-08-30T05:28:54.449Z"
      },
      {
        "duration": 0,
        "start_time": "2022-08-30T05:28:54.450Z"
      },
      {
        "duration": 0,
        "start_time": "2022-08-30T05:28:54.452Z"
      },
      {
        "duration": 0,
        "start_time": "2022-08-30T05:28:54.453Z"
      },
      {
        "duration": 0,
        "start_time": "2022-08-30T05:28:54.455Z"
      },
      {
        "duration": 0,
        "start_time": "2022-08-30T05:28:54.456Z"
      },
      {
        "duration": 0,
        "start_time": "2022-08-30T05:28:54.457Z"
      },
      {
        "duration": 0,
        "start_time": "2022-08-30T05:28:54.460Z"
      },
      {
        "duration": 0,
        "start_time": "2022-08-30T05:28:54.461Z"
      },
      {
        "duration": 671,
        "start_time": "2022-08-30T05:31:31.228Z"
      },
      {
        "duration": 4,
        "start_time": "2022-08-30T05:32:03.701Z"
      },
      {
        "duration": 4,
        "start_time": "2022-08-30T05:32:18.076Z"
      },
      {
        "duration": 3,
        "start_time": "2022-08-30T05:32:22.248Z"
      },
      {
        "duration": 3,
        "start_time": "2022-08-30T05:32:24.307Z"
      },
      {
        "duration": 11,
        "start_time": "2022-08-30T05:33:01.552Z"
      },
      {
        "duration": 7,
        "start_time": "2022-08-30T05:33:21.552Z"
      },
      {
        "duration": 11,
        "start_time": "2022-08-30T05:33:30.196Z"
      },
      {
        "duration": 394,
        "start_time": "2022-08-30T05:33:49.343Z"
      },
      {
        "duration": 8,
        "start_time": "2022-08-30T05:33:49.739Z"
      },
      {
        "duration": 20,
        "start_time": "2022-08-30T05:33:49.748Z"
      },
      {
        "duration": 25,
        "start_time": "2022-08-30T05:33:49.770Z"
      },
      {
        "duration": 15,
        "start_time": "2022-08-30T05:33:49.796Z"
      },
      {
        "duration": 6,
        "start_time": "2022-08-30T05:33:49.813Z"
      },
      {
        "duration": 11,
        "start_time": "2022-08-30T05:33:49.821Z"
      },
      {
        "duration": 11,
        "start_time": "2022-08-30T05:33:49.834Z"
      },
      {
        "duration": 6,
        "start_time": "2022-08-30T05:33:49.846Z"
      },
      {
        "duration": 5,
        "start_time": "2022-08-30T05:33:49.855Z"
      },
      {
        "duration": 31,
        "start_time": "2022-08-30T05:33:49.863Z"
      },
      {
        "duration": 12,
        "start_time": "2022-08-30T05:33:49.895Z"
      },
      {
        "duration": 13,
        "start_time": "2022-08-30T05:33:49.908Z"
      },
      {
        "duration": 9,
        "start_time": "2022-08-30T05:33:49.922Z"
      },
      {
        "duration": 13,
        "start_time": "2022-08-30T05:33:49.933Z"
      },
      {
        "duration": 11,
        "start_time": "2022-08-30T05:33:49.948Z"
      },
      {
        "duration": 5,
        "start_time": "2022-08-30T05:33:49.960Z"
      },
      {
        "duration": 6,
        "start_time": "2022-08-30T05:33:49.967Z"
      },
      {
        "duration": 17,
        "start_time": "2022-08-30T05:33:49.974Z"
      },
      {
        "duration": 18,
        "start_time": "2022-08-30T05:33:49.995Z"
      },
      {
        "duration": 13,
        "start_time": "2022-08-30T05:33:50.014Z"
      },
      {
        "duration": 11,
        "start_time": "2022-08-30T05:33:50.028Z"
      },
      {
        "duration": 8,
        "start_time": "2022-08-30T05:33:50.040Z"
      },
      {
        "duration": 24,
        "start_time": "2022-08-30T05:33:50.050Z"
      },
      {
        "duration": 5,
        "start_time": "2022-08-30T05:33:50.076Z"
      },
      {
        "duration": 16,
        "start_time": "2022-08-30T05:33:50.083Z"
      },
      {
        "duration": 10,
        "start_time": "2022-08-30T05:33:50.100Z"
      },
      {
        "duration": 7,
        "start_time": "2022-08-30T05:33:50.115Z"
      },
      {
        "duration": 15,
        "start_time": "2022-08-30T05:33:50.123Z"
      },
      {
        "duration": 19,
        "start_time": "2022-08-30T05:33:50.139Z"
      },
      {
        "duration": 9,
        "start_time": "2022-08-30T05:33:50.160Z"
      },
      {
        "duration": 7,
        "start_time": "2022-08-30T05:33:50.170Z"
      },
      {
        "duration": 4,
        "start_time": "2022-08-30T05:33:50.179Z"
      },
      {
        "duration": 10,
        "start_time": "2022-08-30T05:33:50.195Z"
      },
      {
        "duration": 20,
        "start_time": "2022-08-30T05:33:50.206Z"
      },
      {
        "duration": 18,
        "start_time": "2022-08-30T05:33:50.228Z"
      },
      {
        "duration": 14,
        "start_time": "2022-08-30T05:33:50.247Z"
      },
      {
        "duration": 3,
        "start_time": "2022-08-30T05:33:50.262Z"
      },
      {
        "duration": 5,
        "start_time": "2022-08-30T05:33:50.266Z"
      },
      {
        "duration": 25,
        "start_time": "2022-08-30T05:33:50.273Z"
      },
      {
        "duration": 4,
        "start_time": "2022-08-30T05:33:50.299Z"
      },
      {
        "duration": 7,
        "start_time": "2022-08-30T05:33:50.305Z"
      },
      {
        "duration": 10,
        "start_time": "2022-08-30T05:33:50.313Z"
      },
      {
        "duration": 12,
        "start_time": "2022-08-30T05:33:50.325Z"
      },
      {
        "duration": 31,
        "start_time": "2022-08-30T05:33:50.339Z"
      },
      {
        "duration": 31,
        "start_time": "2022-08-30T05:33:50.372Z"
      },
      {
        "duration": 10,
        "start_time": "2022-08-30T05:33:50.405Z"
      },
      {
        "duration": 4,
        "start_time": "2022-08-30T05:33:50.416Z"
      },
      {
        "duration": 30,
        "start_time": "2022-08-30T05:33:50.422Z"
      },
      {
        "duration": 78,
        "start_time": "2022-08-30T05:33:50.453Z"
      },
      {
        "duration": 0,
        "start_time": "2022-08-30T05:33:50.532Z"
      },
      {
        "duration": 0,
        "start_time": "2022-08-30T05:33:50.533Z"
      },
      {
        "duration": 0,
        "start_time": "2022-08-30T05:33:50.534Z"
      },
      {
        "duration": 0,
        "start_time": "2022-08-30T05:33:50.535Z"
      },
      {
        "duration": 0,
        "start_time": "2022-08-30T05:33:50.537Z"
      },
      {
        "duration": 0,
        "start_time": "2022-08-30T05:33:50.537Z"
      },
      {
        "duration": 0,
        "start_time": "2022-08-30T05:33:50.538Z"
      },
      {
        "duration": 0,
        "start_time": "2022-08-30T05:33:50.539Z"
      },
      {
        "duration": 0,
        "start_time": "2022-08-30T05:33:50.540Z"
      },
      {
        "duration": 0,
        "start_time": "2022-08-30T05:33:50.541Z"
      },
      {
        "duration": 0,
        "start_time": "2022-08-30T05:33:50.542Z"
      },
      {
        "duration": 0,
        "start_time": "2022-08-30T05:33:50.543Z"
      },
      {
        "duration": 0,
        "start_time": "2022-08-30T05:33:50.544Z"
      },
      {
        "duration": 0,
        "start_time": "2022-08-30T05:33:50.545Z"
      },
      {
        "duration": 0,
        "start_time": "2022-08-30T05:33:50.546Z"
      },
      {
        "duration": 0,
        "start_time": "2022-08-30T05:33:50.546Z"
      },
      {
        "duration": 0,
        "start_time": "2022-08-30T05:33:50.547Z"
      },
      {
        "duration": 0,
        "start_time": "2022-08-30T05:33:50.548Z"
      },
      {
        "duration": 0,
        "start_time": "2022-08-30T05:33:50.549Z"
      },
      {
        "duration": 0,
        "start_time": "2022-08-30T05:33:50.550Z"
      },
      {
        "duration": 0,
        "start_time": "2022-08-30T05:33:50.551Z"
      },
      {
        "duration": 0,
        "start_time": "2022-08-30T05:33:50.552Z"
      },
      {
        "duration": 0,
        "start_time": "2022-08-30T05:33:50.553Z"
      },
      {
        "duration": 0,
        "start_time": "2022-08-30T05:33:50.588Z"
      },
      {
        "duration": 0,
        "start_time": "2022-08-30T05:33:50.589Z"
      },
      {
        "duration": 10,
        "start_time": "2022-08-30T05:34:21.401Z"
      },
      {
        "duration": 5,
        "start_time": "2022-08-30T05:34:31.499Z"
      },
      {
        "duration": 5,
        "start_time": "2022-08-30T05:34:39.717Z"
      },
      {
        "duration": 4,
        "start_time": "2022-08-30T05:34:46.197Z"
      },
      {
        "duration": 5,
        "start_time": "2022-08-30T05:34:49.607Z"
      },
      {
        "duration": 5,
        "start_time": "2022-08-30T05:34:51.711Z"
      },
      {
        "duration": 334,
        "start_time": "2022-08-30T05:35:38.264Z"
      },
      {
        "duration": 318,
        "start_time": "2022-08-30T05:35:55.283Z"
      },
      {
        "duration": 419,
        "start_time": "2022-08-30T05:36:01.922Z"
      },
      {
        "duration": 7,
        "start_time": "2022-08-30T05:36:02.343Z"
      },
      {
        "duration": 69,
        "start_time": "2022-08-30T05:36:02.352Z"
      },
      {
        "duration": 28,
        "start_time": "2022-08-30T05:36:02.423Z"
      },
      {
        "duration": 13,
        "start_time": "2022-08-30T05:36:02.453Z"
      },
      {
        "duration": 35,
        "start_time": "2022-08-30T05:36:02.467Z"
      },
      {
        "duration": 124,
        "start_time": "2022-08-30T05:36:02.503Z"
      },
      {
        "duration": 22,
        "start_time": "2022-08-30T05:36:02.629Z"
      },
      {
        "duration": 23,
        "start_time": "2022-08-30T05:36:02.653Z"
      },
      {
        "duration": 35,
        "start_time": "2022-08-30T05:36:02.679Z"
      },
      {
        "duration": 22,
        "start_time": "2022-08-30T05:36:02.717Z"
      },
      {
        "duration": 37,
        "start_time": "2022-08-30T05:36:02.740Z"
      },
      {
        "duration": 42,
        "start_time": "2022-08-30T05:36:02.778Z"
      },
      {
        "duration": 54,
        "start_time": "2022-08-30T05:36:02.822Z"
      },
      {
        "duration": 32,
        "start_time": "2022-08-30T05:36:02.877Z"
      },
      {
        "duration": 33,
        "start_time": "2022-08-30T05:36:02.911Z"
      },
      {
        "duration": 19,
        "start_time": "2022-08-30T05:36:02.945Z"
      },
      {
        "duration": 40,
        "start_time": "2022-08-30T05:36:02.966Z"
      },
      {
        "duration": 16,
        "start_time": "2022-08-30T05:36:03.008Z"
      },
      {
        "duration": 11,
        "start_time": "2022-08-30T05:36:03.025Z"
      },
      {
        "duration": 33,
        "start_time": "2022-08-30T05:36:03.037Z"
      },
      {
        "duration": 24,
        "start_time": "2022-08-30T05:36:03.072Z"
      },
      {
        "duration": 19,
        "start_time": "2022-08-30T05:36:03.098Z"
      },
      {
        "duration": 9,
        "start_time": "2022-08-30T05:36:03.119Z"
      },
      {
        "duration": 18,
        "start_time": "2022-08-30T05:36:03.129Z"
      },
      {
        "duration": 10,
        "start_time": "2022-08-30T05:36:03.148Z"
      },
      {
        "duration": 24,
        "start_time": "2022-08-30T05:36:03.159Z"
      },
      {
        "duration": 21,
        "start_time": "2022-08-30T05:36:03.187Z"
      },
      {
        "duration": 25,
        "start_time": "2022-08-30T05:36:03.210Z"
      },
      {
        "duration": 24,
        "start_time": "2022-08-30T05:36:03.236Z"
      },
      {
        "duration": 20,
        "start_time": "2022-08-30T05:36:03.261Z"
      },
      {
        "duration": 23,
        "start_time": "2022-08-30T05:36:03.282Z"
      },
      {
        "duration": 13,
        "start_time": "2022-08-30T05:36:03.306Z"
      },
      {
        "duration": 10,
        "start_time": "2022-08-30T05:36:03.320Z"
      },
      {
        "duration": 22,
        "start_time": "2022-08-30T05:36:03.331Z"
      },
      {
        "duration": 16,
        "start_time": "2022-08-30T05:36:03.354Z"
      },
      {
        "duration": 18,
        "start_time": "2022-08-30T05:36:03.371Z"
      },
      {
        "duration": 5,
        "start_time": "2022-08-30T05:36:03.392Z"
      },
      {
        "duration": 10,
        "start_time": "2022-08-30T05:36:03.398Z"
      },
      {
        "duration": 14,
        "start_time": "2022-08-30T05:36:03.409Z"
      },
      {
        "duration": 2,
        "start_time": "2022-08-30T05:36:03.425Z"
      },
      {
        "duration": 8,
        "start_time": "2022-08-30T05:36:03.429Z"
      },
      {
        "duration": 11,
        "start_time": "2022-08-30T05:36:03.438Z"
      },
      {
        "duration": 13,
        "start_time": "2022-08-30T05:36:03.450Z"
      },
      {
        "duration": 38,
        "start_time": "2022-08-30T05:36:03.464Z"
      },
      {
        "duration": 7,
        "start_time": "2022-08-30T05:36:03.503Z"
      },
      {
        "duration": 17,
        "start_time": "2022-08-30T05:36:03.511Z"
      },
      {
        "duration": 3,
        "start_time": "2022-08-30T05:36:03.530Z"
      },
      {
        "duration": 8,
        "start_time": "2022-08-30T05:36:03.534Z"
      },
      {
        "duration": 411,
        "start_time": "2022-08-30T05:36:03.543Z"
      },
      {
        "duration": 0,
        "start_time": "2022-08-30T05:36:03.955Z"
      },
      {
        "duration": 0,
        "start_time": "2022-08-30T05:36:03.956Z"
      },
      {
        "duration": 0,
        "start_time": "2022-08-30T05:36:03.957Z"
      },
      {
        "duration": 0,
        "start_time": "2022-08-30T05:36:03.958Z"
      },
      {
        "duration": 0,
        "start_time": "2022-08-30T05:36:03.959Z"
      },
      {
        "duration": 0,
        "start_time": "2022-08-30T05:36:03.960Z"
      },
      {
        "duration": 0,
        "start_time": "2022-08-30T05:36:03.961Z"
      },
      {
        "duration": 0,
        "start_time": "2022-08-30T05:36:03.962Z"
      },
      {
        "duration": 0,
        "start_time": "2022-08-30T05:36:03.963Z"
      },
      {
        "duration": 0,
        "start_time": "2022-08-30T05:36:03.964Z"
      },
      {
        "duration": 0,
        "start_time": "2022-08-30T05:36:03.965Z"
      },
      {
        "duration": 0,
        "start_time": "2022-08-30T05:36:03.966Z"
      },
      {
        "duration": 0,
        "start_time": "2022-08-30T05:36:03.967Z"
      },
      {
        "duration": 0,
        "start_time": "2022-08-30T05:36:03.967Z"
      },
      {
        "duration": 0,
        "start_time": "2022-08-30T05:36:03.968Z"
      },
      {
        "duration": 0,
        "start_time": "2022-08-30T05:36:03.969Z"
      },
      {
        "duration": 0,
        "start_time": "2022-08-30T05:36:03.970Z"
      },
      {
        "duration": 0,
        "start_time": "2022-08-30T05:36:03.971Z"
      },
      {
        "duration": 0,
        "start_time": "2022-08-30T05:36:03.972Z"
      },
      {
        "duration": 0,
        "start_time": "2022-08-30T05:36:03.972Z"
      },
      {
        "duration": 0,
        "start_time": "2022-08-30T05:36:03.973Z"
      },
      {
        "duration": 0,
        "start_time": "2022-08-30T05:36:03.974Z"
      },
      {
        "duration": 0,
        "start_time": "2022-08-30T05:36:03.975Z"
      },
      {
        "duration": 0,
        "start_time": "2022-08-30T05:36:03.976Z"
      },
      {
        "duration": 0,
        "start_time": "2022-08-30T05:36:03.977Z"
      },
      {
        "duration": 1343,
        "start_time": "2022-08-30T05:36:29.435Z"
      },
      {
        "duration": 20,
        "start_time": "2022-08-30T05:39:10.867Z"
      },
      {
        "duration": 3,
        "start_time": "2022-08-30T05:46:02.238Z"
      },
      {
        "duration": 12,
        "start_time": "2022-08-30T05:46:06.044Z"
      },
      {
        "duration": 4,
        "start_time": "2022-08-30T05:47:31.134Z"
      },
      {
        "duration": 15,
        "start_time": "2022-08-30T05:47:35.915Z"
      },
      {
        "duration": 3,
        "start_time": "2022-08-30T05:48:26.035Z"
      },
      {
        "duration": 453,
        "start_time": "2022-08-30T05:48:39.209Z"
      },
      {
        "duration": 8,
        "start_time": "2022-08-30T05:48:39.664Z"
      },
      {
        "duration": 16,
        "start_time": "2022-08-30T05:48:39.674Z"
      },
      {
        "duration": 13,
        "start_time": "2022-08-30T05:48:39.691Z"
      },
      {
        "duration": 14,
        "start_time": "2022-08-30T05:48:39.706Z"
      },
      {
        "duration": 8,
        "start_time": "2022-08-30T05:48:39.721Z"
      },
      {
        "duration": 13,
        "start_time": "2022-08-30T05:48:39.730Z"
      },
      {
        "duration": 5,
        "start_time": "2022-08-30T05:48:39.744Z"
      },
      {
        "duration": 36,
        "start_time": "2022-08-30T05:48:39.750Z"
      },
      {
        "duration": 7,
        "start_time": "2022-08-30T05:48:39.790Z"
      },
      {
        "duration": 8,
        "start_time": "2022-08-30T05:48:39.799Z"
      },
      {
        "duration": 7,
        "start_time": "2022-08-30T05:48:39.809Z"
      },
      {
        "duration": 10,
        "start_time": "2022-08-30T05:48:39.818Z"
      },
      {
        "duration": 8,
        "start_time": "2022-08-30T05:48:39.829Z"
      },
      {
        "duration": 7,
        "start_time": "2022-08-30T05:48:39.838Z"
      },
      {
        "duration": 41,
        "start_time": "2022-08-30T05:48:39.847Z"
      },
      {
        "duration": 4,
        "start_time": "2022-08-30T05:48:39.890Z"
      },
      {
        "duration": 5,
        "start_time": "2022-08-30T05:48:39.895Z"
      },
      {
        "duration": 6,
        "start_time": "2022-08-30T05:48:39.901Z"
      },
      {
        "duration": 8,
        "start_time": "2022-08-30T05:48:39.908Z"
      },
      {
        "duration": 5,
        "start_time": "2022-08-30T05:48:39.917Z"
      },
      {
        "duration": 6,
        "start_time": "2022-08-30T05:48:39.923Z"
      },
      {
        "duration": 4,
        "start_time": "2022-08-30T05:48:39.931Z"
      },
      {
        "duration": 7,
        "start_time": "2022-08-30T05:48:39.936Z"
      },
      {
        "duration": 7,
        "start_time": "2022-08-30T05:48:39.944Z"
      },
      {
        "duration": 7,
        "start_time": "2022-08-30T05:48:39.984Z"
      },
      {
        "duration": 9,
        "start_time": "2022-08-30T05:48:39.992Z"
      },
      {
        "duration": 5,
        "start_time": "2022-08-30T05:48:40.005Z"
      },
      {
        "duration": 13,
        "start_time": "2022-08-30T05:48:40.012Z"
      },
      {
        "duration": 9,
        "start_time": "2022-08-30T05:48:40.026Z"
      },
      {
        "duration": 14,
        "start_time": "2022-08-30T05:48:40.036Z"
      },
      {
        "duration": 10,
        "start_time": "2022-08-30T05:48:40.051Z"
      },
      {
        "duration": 5,
        "start_time": "2022-08-30T05:48:40.063Z"
      },
      {
        "duration": 8,
        "start_time": "2022-08-30T05:48:40.084Z"
      },
      {
        "duration": 20,
        "start_time": "2022-08-30T05:48:40.093Z"
      },
      {
        "duration": 17,
        "start_time": "2022-08-30T05:48:40.114Z"
      },
      {
        "duration": 16,
        "start_time": "2022-08-30T05:48:40.132Z"
      },
      {
        "duration": 4,
        "start_time": "2022-08-30T05:48:40.149Z"
      },
      {
        "duration": 37,
        "start_time": "2022-08-30T05:48:40.154Z"
      },
      {
        "duration": 27,
        "start_time": "2022-08-30T05:48:40.193Z"
      },
      {
        "duration": 2,
        "start_time": "2022-08-30T05:48:40.222Z"
      },
      {
        "duration": 8,
        "start_time": "2022-08-30T05:48:40.226Z"
      },
      {
        "duration": 10,
        "start_time": "2022-08-30T05:48:40.235Z"
      },
      {
        "duration": 12,
        "start_time": "2022-08-30T05:48:40.247Z"
      },
      {
        "duration": 33,
        "start_time": "2022-08-30T05:48:40.261Z"
      },
      {
        "duration": 8,
        "start_time": "2022-08-30T05:48:40.296Z"
      },
      {
        "duration": 7,
        "start_time": "2022-08-30T05:48:40.306Z"
      },
      {
        "duration": 7,
        "start_time": "2022-08-30T05:48:40.315Z"
      },
      {
        "duration": 9,
        "start_time": "2022-08-30T05:48:40.323Z"
      },
      {
        "duration": 8,
        "start_time": "2022-08-30T05:48:40.334Z"
      },
      {
        "duration": 8,
        "start_time": "2022-08-30T05:48:40.343Z"
      },
      {
        "duration": 50,
        "start_time": "2022-08-30T05:48:40.353Z"
      },
      {
        "duration": 14,
        "start_time": "2022-08-30T05:48:40.404Z"
      },
      {
        "duration": 11,
        "start_time": "2022-08-30T05:48:40.420Z"
      },
      {
        "duration": 20,
        "start_time": "2022-08-30T05:48:40.432Z"
      },
      {
        "duration": 4,
        "start_time": "2022-08-30T05:48:40.454Z"
      },
      {
        "duration": 32,
        "start_time": "2022-08-30T05:48:40.459Z"
      },
      {
        "duration": 5,
        "start_time": "2022-08-30T05:48:40.493Z"
      },
      {
        "duration": 5,
        "start_time": "2022-08-30T05:48:40.499Z"
      },
      {
        "duration": 8,
        "start_time": "2022-08-30T05:48:40.505Z"
      },
      {
        "duration": 5,
        "start_time": "2022-08-30T05:48:40.514Z"
      },
      {
        "duration": 5,
        "start_time": "2022-08-30T05:48:40.521Z"
      },
      {
        "duration": 6,
        "start_time": "2022-08-30T05:48:40.527Z"
      },
      {
        "duration": 8,
        "start_time": "2022-08-30T05:48:40.534Z"
      },
      {
        "duration": 5,
        "start_time": "2022-08-30T05:48:40.543Z"
      },
      {
        "duration": 6,
        "start_time": "2022-08-30T05:48:40.550Z"
      },
      {
        "duration": 6,
        "start_time": "2022-08-30T05:48:40.558Z"
      },
      {
        "duration": 22,
        "start_time": "2022-08-30T05:48:40.566Z"
      },
      {
        "duration": 6,
        "start_time": "2022-08-30T05:48:40.589Z"
      },
      {
        "duration": 9,
        "start_time": "2022-08-30T05:48:40.597Z"
      },
      {
        "duration": 5,
        "start_time": "2022-08-30T05:48:40.607Z"
      },
      {
        "duration": 6,
        "start_time": "2022-08-30T05:48:40.613Z"
      },
      {
        "duration": 7,
        "start_time": "2022-08-30T05:48:40.621Z"
      },
      {
        "duration": 5,
        "start_time": "2022-08-30T05:48:40.629Z"
      },
      {
        "duration": 4,
        "start_time": "2022-08-30T05:48:40.636Z"
      },
      {
        "duration": 5,
        "start_time": "2022-08-30T05:56:21.484Z"
      },
      {
        "duration": 4,
        "start_time": "2022-08-30T05:56:27.654Z"
      },
      {
        "duration": 3,
        "start_time": "2022-08-30T06:03:22.212Z"
      },
      {
        "duration": 3,
        "start_time": "2022-08-30T06:04:39.045Z"
      },
      {
        "duration": 82,
        "start_time": "2022-08-30T06:05:04.150Z"
      },
      {
        "duration": 3,
        "start_time": "2022-08-30T06:05:18.760Z"
      },
      {
        "duration": 60,
        "start_time": "2022-08-30T06:20:59.984Z"
      },
      {
        "duration": 20,
        "start_time": "2022-08-30T06:21:19.783Z"
      },
      {
        "duration": 14,
        "start_time": "2022-08-30T06:22:09.590Z"
      },
      {
        "duration": 12,
        "start_time": "2022-08-30T06:22:20.934Z"
      },
      {
        "duration": 24,
        "start_time": "2022-08-30T06:22:49.094Z"
      },
      {
        "duration": 14,
        "start_time": "2022-08-30T06:37:23.517Z"
      },
      {
        "duration": 3,
        "start_time": "2022-08-30T06:37:52.427Z"
      },
      {
        "duration": 4,
        "start_time": "2022-08-30T06:38:27.033Z"
      },
      {
        "duration": 3,
        "start_time": "2022-08-30T06:38:31.283Z"
      },
      {
        "duration": 6,
        "start_time": "2022-08-30T06:38:33.912Z"
      },
      {
        "duration": 1002,
        "start_time": "2022-08-30T06:38:39.604Z"
      },
      {
        "duration": 1173,
        "start_time": "2022-08-30T06:39:35.764Z"
      },
      {
        "duration": 905,
        "start_time": "2022-08-30T06:39:46.131Z"
      },
      {
        "duration": 11,
        "start_time": "2022-08-30T06:56:13.258Z"
      },
      {
        "duration": 12,
        "start_time": "2022-08-30T06:57:27.063Z"
      },
      {
        "duration": 11,
        "start_time": "2022-08-30T06:57:35.633Z"
      },
      {
        "duration": 1441,
        "start_time": "2022-08-30T06:58:03.151Z"
      },
      {
        "duration": 3,
        "start_time": "2022-08-30T06:59:09.908Z"
      },
      {
        "duration": 12,
        "start_time": "2022-08-30T06:59:14.938Z"
      },
      {
        "duration": 3,
        "start_time": "2022-08-30T06:59:45.220Z"
      },
      {
        "duration": 13,
        "start_time": "2022-08-30T06:59:49.130Z"
      },
      {
        "duration": 3,
        "start_time": "2022-08-30T07:00:00.379Z"
      },
      {
        "duration": 13,
        "start_time": "2022-08-30T08:00:08.285Z"
      },
      {
        "duration": 13,
        "start_time": "2022-08-30T08:00:46.419Z"
      },
      {
        "duration": 14,
        "start_time": "2022-08-30T08:01:00.135Z"
      },
      {
        "duration": 3,
        "start_time": "2022-08-30T08:47:10.957Z"
      },
      {
        "duration": 12,
        "start_time": "2022-08-30T08:47:22.358Z"
      },
      {
        "duration": 12,
        "start_time": "2022-08-30T08:47:35.451Z"
      },
      {
        "duration": 3,
        "start_time": "2022-08-30T08:47:57.497Z"
      },
      {
        "duration": 1210,
        "start_time": "2022-08-30T08:48:02.527Z"
      },
      {
        "duration": 4,
        "start_time": "2022-08-30T08:53:09.866Z"
      },
      {
        "duration": 1579,
        "start_time": "2022-08-30T08:53:14.083Z"
      },
      {
        "duration": 4,
        "start_time": "2022-08-30T08:57:52.693Z"
      },
      {
        "duration": 10,
        "start_time": "2022-08-30T08:57:56.288Z"
      },
      {
        "duration": 5,
        "start_time": "2022-08-30T08:58:24.563Z"
      },
      {
        "duration": 5,
        "start_time": "2022-08-30T08:58:29.447Z"
      },
      {
        "duration": 491,
        "start_time": "2022-08-30T08:58:54.294Z"
      },
      {
        "duration": 7,
        "start_time": "2022-08-30T08:58:54.787Z"
      },
      {
        "duration": 31,
        "start_time": "2022-08-30T08:58:54.796Z"
      },
      {
        "duration": 18,
        "start_time": "2022-08-30T08:58:54.829Z"
      },
      {
        "duration": 44,
        "start_time": "2022-08-30T08:58:54.848Z"
      },
      {
        "duration": 11,
        "start_time": "2022-08-30T08:58:54.894Z"
      },
      {
        "duration": 20,
        "start_time": "2022-08-30T08:58:54.907Z"
      },
      {
        "duration": 12,
        "start_time": "2022-08-30T08:58:54.929Z"
      },
      {
        "duration": 9,
        "start_time": "2022-08-30T08:58:54.943Z"
      },
      {
        "duration": 11,
        "start_time": "2022-08-30T08:58:54.955Z"
      },
      {
        "duration": 10,
        "start_time": "2022-08-30T08:58:54.968Z"
      },
      {
        "duration": 25,
        "start_time": "2022-08-30T08:58:54.979Z"
      },
      {
        "duration": 21,
        "start_time": "2022-08-30T08:58:55.006Z"
      },
      {
        "duration": 17,
        "start_time": "2022-08-30T08:58:55.029Z"
      },
      {
        "duration": 23,
        "start_time": "2022-08-30T08:58:55.047Z"
      },
      {
        "duration": 13,
        "start_time": "2022-08-30T08:58:55.071Z"
      },
      {
        "duration": 12,
        "start_time": "2022-08-30T08:58:55.086Z"
      },
      {
        "duration": 20,
        "start_time": "2022-08-30T08:58:55.099Z"
      },
      {
        "duration": 6,
        "start_time": "2022-08-30T08:58:55.120Z"
      },
      {
        "duration": 6,
        "start_time": "2022-08-30T08:58:55.127Z"
      },
      {
        "duration": 10,
        "start_time": "2022-08-30T08:58:55.134Z"
      },
      {
        "duration": 15,
        "start_time": "2022-08-30T08:58:55.146Z"
      },
      {
        "duration": 19,
        "start_time": "2022-08-30T08:58:55.163Z"
      },
      {
        "duration": 12,
        "start_time": "2022-08-30T08:58:55.184Z"
      },
      {
        "duration": 12,
        "start_time": "2022-08-30T08:58:55.197Z"
      },
      {
        "duration": 27,
        "start_time": "2022-08-30T08:58:55.211Z"
      },
      {
        "duration": 17,
        "start_time": "2022-08-30T08:58:55.239Z"
      },
      {
        "duration": 16,
        "start_time": "2022-08-30T08:58:55.260Z"
      },
      {
        "duration": 29,
        "start_time": "2022-08-30T08:58:55.278Z"
      },
      {
        "duration": 17,
        "start_time": "2022-08-30T08:58:55.309Z"
      },
      {
        "duration": 21,
        "start_time": "2022-08-30T08:58:55.328Z"
      },
      {
        "duration": 21,
        "start_time": "2022-08-30T08:58:55.350Z"
      },
      {
        "duration": 20,
        "start_time": "2022-08-30T08:58:55.373Z"
      },
      {
        "duration": 13,
        "start_time": "2022-08-30T08:58:55.395Z"
      },
      {
        "duration": 32,
        "start_time": "2022-08-30T08:58:55.410Z"
      },
      {
        "duration": 18,
        "start_time": "2022-08-30T08:58:55.444Z"
      },
      {
        "duration": 16,
        "start_time": "2022-08-30T08:58:55.465Z"
      },
      {
        "duration": 8,
        "start_time": "2022-08-30T08:58:55.482Z"
      },
      {
        "duration": 16,
        "start_time": "2022-08-30T08:58:55.491Z"
      },
      {
        "duration": 19,
        "start_time": "2022-08-30T08:58:55.509Z"
      },
      {
        "duration": 4,
        "start_time": "2022-08-30T08:58:55.529Z"
      },
      {
        "duration": 21,
        "start_time": "2022-08-30T08:58:55.535Z"
      },
      {
        "duration": 17,
        "start_time": "2022-08-30T08:58:55.558Z"
      },
      {
        "duration": 19,
        "start_time": "2022-08-30T08:58:55.576Z"
      },
      {
        "duration": 34,
        "start_time": "2022-08-30T08:58:55.597Z"
      },
      {
        "duration": 10,
        "start_time": "2022-08-30T08:58:55.632Z"
      },
      {
        "duration": 15,
        "start_time": "2022-08-30T08:58:55.644Z"
      },
      {
        "duration": 20,
        "start_time": "2022-08-30T08:58:55.660Z"
      },
      {
        "duration": 18,
        "start_time": "2022-08-30T08:58:55.681Z"
      },
      {
        "duration": 1121,
        "start_time": "2022-08-30T08:58:55.701Z"
      },
      {
        "duration": 0,
        "start_time": "2022-08-30T08:58:56.824Z"
      },
      {
        "duration": 0,
        "start_time": "2022-08-30T08:58:56.826Z"
      },
      {
        "duration": 0,
        "start_time": "2022-08-30T08:58:56.827Z"
      },
      {
        "duration": 0,
        "start_time": "2022-08-30T08:58:56.829Z"
      },
      {
        "duration": 0,
        "start_time": "2022-08-30T08:58:56.831Z"
      },
      {
        "duration": 0,
        "start_time": "2022-08-30T08:58:56.832Z"
      },
      {
        "duration": 0,
        "start_time": "2022-08-30T08:58:56.834Z"
      },
      {
        "duration": 0,
        "start_time": "2022-08-30T08:58:56.836Z"
      },
      {
        "duration": 0,
        "start_time": "2022-08-30T08:58:56.837Z"
      },
      {
        "duration": 0,
        "start_time": "2022-08-30T08:58:56.838Z"
      },
      {
        "duration": 0,
        "start_time": "2022-08-30T08:58:56.840Z"
      },
      {
        "duration": 0,
        "start_time": "2022-08-30T08:58:56.841Z"
      },
      {
        "duration": 0,
        "start_time": "2022-08-30T08:58:56.843Z"
      },
      {
        "duration": 0,
        "start_time": "2022-08-30T08:58:56.844Z"
      },
      {
        "duration": 0,
        "start_time": "2022-08-30T08:58:56.845Z"
      },
      {
        "duration": 0,
        "start_time": "2022-08-30T08:58:56.847Z"
      },
      {
        "duration": 0,
        "start_time": "2022-08-30T08:58:56.849Z"
      },
      {
        "duration": 0,
        "start_time": "2022-08-30T08:58:56.850Z"
      },
      {
        "duration": 0,
        "start_time": "2022-08-30T08:58:56.851Z"
      },
      {
        "duration": 0,
        "start_time": "2022-08-30T08:58:56.853Z"
      },
      {
        "duration": 0,
        "start_time": "2022-08-30T08:58:56.854Z"
      },
      {
        "duration": 0,
        "start_time": "2022-08-30T08:58:56.855Z"
      },
      {
        "duration": 0,
        "start_time": "2022-08-30T08:58:56.856Z"
      },
      {
        "duration": 0,
        "start_time": "2022-08-30T08:58:56.858Z"
      },
      {
        "duration": 0,
        "start_time": "2022-08-30T08:58:56.859Z"
      },
      {
        "duration": 5,
        "start_time": "2022-08-30T09:01:13.686Z"
      },
      {
        "duration": 10,
        "start_time": "2022-08-30T09:01:16.764Z"
      },
      {
        "duration": 6,
        "start_time": "2022-08-30T09:01:35.802Z"
      },
      {
        "duration": 3,
        "start_time": "2022-08-30T11:37:28.942Z"
      },
      {
        "duration": 5,
        "start_time": "2022-08-30T11:37:33.766Z"
      },
      {
        "duration": 54,
        "start_time": "2022-08-30T11:37:50.050Z"
      },
      {
        "duration": 4,
        "start_time": "2022-08-30T11:37:50.107Z"
      },
      {
        "duration": 40,
        "start_time": "2022-08-30T11:37:50.118Z"
      },
      {
        "duration": 22,
        "start_time": "2022-08-30T11:37:50.159Z"
      },
      {
        "duration": 19,
        "start_time": "2022-08-30T11:37:50.183Z"
      },
      {
        "duration": 9,
        "start_time": "2022-08-30T11:37:50.203Z"
      },
      {
        "duration": 29,
        "start_time": "2022-08-30T11:37:50.213Z"
      },
      {
        "duration": 22,
        "start_time": "2022-08-30T11:37:50.243Z"
      },
      {
        "duration": 11,
        "start_time": "2022-08-30T11:37:50.267Z"
      },
      {
        "duration": 13,
        "start_time": "2022-08-30T11:37:50.280Z"
      },
      {
        "duration": 19,
        "start_time": "2022-08-30T11:37:50.295Z"
      },
      {
        "duration": 20,
        "start_time": "2022-08-30T11:37:50.315Z"
      },
      {
        "duration": 36,
        "start_time": "2022-08-30T11:37:50.336Z"
      },
      {
        "duration": 17,
        "start_time": "2022-08-30T11:37:50.374Z"
      },
      {
        "duration": 24,
        "start_time": "2022-08-30T11:37:50.393Z"
      },
      {
        "duration": 20,
        "start_time": "2022-08-30T11:37:50.418Z"
      },
      {
        "duration": 25,
        "start_time": "2022-08-30T11:37:50.440Z"
      },
      {
        "duration": 28,
        "start_time": "2022-08-30T11:37:50.467Z"
      },
      {
        "duration": 17,
        "start_time": "2022-08-30T11:37:50.496Z"
      },
      {
        "duration": 11,
        "start_time": "2022-08-30T11:37:50.515Z"
      },
      {
        "duration": 17,
        "start_time": "2022-08-30T11:37:50.527Z"
      },
      {
        "duration": 14,
        "start_time": "2022-08-30T11:37:50.546Z"
      },
      {
        "duration": 25,
        "start_time": "2022-08-30T11:37:50.561Z"
      },
      {
        "duration": 11,
        "start_time": "2022-08-30T11:37:50.587Z"
      },
      {
        "duration": 14,
        "start_time": "2022-08-30T11:37:50.601Z"
      },
      {
        "duration": 21,
        "start_time": "2022-08-30T11:37:50.616Z"
      },
      {
        "duration": 26,
        "start_time": "2022-08-30T11:37:50.638Z"
      },
      {
        "duration": 7,
        "start_time": "2022-08-30T11:37:50.666Z"
      },
      {
        "duration": 24,
        "start_time": "2022-08-30T11:37:50.675Z"
      },
      {
        "duration": 19,
        "start_time": "2022-08-30T11:37:50.700Z"
      },
      {
        "duration": 8,
        "start_time": "2022-08-30T11:37:50.721Z"
      },
      {
        "duration": 22,
        "start_time": "2022-08-30T11:37:50.730Z"
      },
      {
        "duration": 13,
        "start_time": "2022-08-30T11:37:50.753Z"
      },
      {
        "duration": 18,
        "start_time": "2022-08-30T11:37:50.767Z"
      },
      {
        "duration": 21,
        "start_time": "2022-08-30T11:37:50.786Z"
      },
      {
        "duration": 25,
        "start_time": "2022-08-30T11:37:50.808Z"
      },
      {
        "duration": 13,
        "start_time": "2022-08-30T11:37:50.834Z"
      },
      {
        "duration": 7,
        "start_time": "2022-08-30T11:37:50.849Z"
      },
      {
        "duration": 6,
        "start_time": "2022-08-30T11:37:50.857Z"
      },
      {
        "duration": 16,
        "start_time": "2022-08-30T11:37:50.864Z"
      },
      {
        "duration": 11,
        "start_time": "2022-08-30T11:37:50.884Z"
      },
      {
        "duration": 12,
        "start_time": "2022-08-30T11:37:50.896Z"
      },
      {
        "duration": 16,
        "start_time": "2022-08-30T11:37:50.909Z"
      },
      {
        "duration": 19,
        "start_time": "2022-08-30T11:37:50.926Z"
      },
      {
        "duration": 26,
        "start_time": "2022-08-30T11:37:50.946Z"
      },
      {
        "duration": 5,
        "start_time": "2022-08-30T11:37:50.974Z"
      },
      {
        "duration": 14,
        "start_time": "2022-08-30T11:37:50.981Z"
      },
      {
        "duration": 17,
        "start_time": "2022-08-30T11:37:50.997Z"
      },
      {
        "duration": 27,
        "start_time": "2022-08-30T11:37:51.015Z"
      },
      {
        "duration": 5,
        "start_time": "2022-08-30T11:37:56.075Z"
      },
      {
        "duration": 5,
        "start_time": "2022-08-30T11:38:04.639Z"
      },
      {
        "duration": 3,
        "start_time": "2022-08-30T11:38:23.114Z"
      },
      {
        "duration": 4,
        "start_time": "2022-08-30T11:38:25.692Z"
      },
      {
        "duration": 427,
        "start_time": "2022-08-30T11:38:54.890Z"
      },
      {
        "duration": 7,
        "start_time": "2022-08-30T11:38:55.319Z"
      },
      {
        "duration": 15,
        "start_time": "2022-08-30T11:38:55.327Z"
      },
      {
        "duration": 12,
        "start_time": "2022-08-30T11:38:55.344Z"
      },
      {
        "duration": 12,
        "start_time": "2022-08-30T11:38:55.357Z"
      },
      {
        "duration": 6,
        "start_time": "2022-08-30T11:38:55.385Z"
      },
      {
        "duration": 17,
        "start_time": "2022-08-30T11:38:55.392Z"
      },
      {
        "duration": 6,
        "start_time": "2022-08-30T11:38:55.411Z"
      },
      {
        "duration": 9,
        "start_time": "2022-08-30T11:38:55.418Z"
      },
      {
        "duration": 9,
        "start_time": "2022-08-30T11:38:55.429Z"
      },
      {
        "duration": 6,
        "start_time": "2022-08-30T11:38:55.679Z"
      },
      {
        "duration": 11,
        "start_time": "2022-08-30T11:38:55.687Z"
      },
      {
        "duration": 11,
        "start_time": "2022-08-30T11:38:55.699Z"
      },
      {
        "duration": 9,
        "start_time": "2022-08-30T11:38:55.711Z"
      },
      {
        "duration": 6,
        "start_time": "2022-08-30T11:38:55.722Z"
      },
      {
        "duration": 5,
        "start_time": "2022-08-30T11:38:55.729Z"
      },
      {
        "duration": 5,
        "start_time": "2022-08-30T11:38:55.735Z"
      },
      {
        "duration": 8,
        "start_time": "2022-08-30T11:38:55.741Z"
      },
      {
        "duration": 34,
        "start_time": "2022-08-30T11:38:55.751Z"
      },
      {
        "duration": 3,
        "start_time": "2022-08-30T11:38:55.786Z"
      },
      {
        "duration": 6,
        "start_time": "2022-08-30T11:38:55.790Z"
      },
      {
        "duration": 6,
        "start_time": "2022-08-30T11:38:55.798Z"
      },
      {
        "duration": 5,
        "start_time": "2022-08-30T11:38:55.805Z"
      },
      {
        "duration": 5,
        "start_time": "2022-08-30T11:38:55.812Z"
      },
      {
        "duration": 6,
        "start_time": "2022-08-30T11:38:55.818Z"
      },
      {
        "duration": 7,
        "start_time": "2022-08-30T11:38:55.825Z"
      },
      {
        "duration": 8,
        "start_time": "2022-08-30T11:38:55.833Z"
      },
      {
        "duration": 7,
        "start_time": "2022-08-30T11:38:55.842Z"
      },
      {
        "duration": 40,
        "start_time": "2022-08-30T11:38:55.850Z"
      },
      {
        "duration": 8,
        "start_time": "2022-08-30T11:38:55.892Z"
      },
      {
        "duration": 7,
        "start_time": "2022-08-30T11:38:55.901Z"
      },
      {
        "duration": 12,
        "start_time": "2022-08-30T11:38:55.909Z"
      },
      {
        "duration": 11,
        "start_time": "2022-08-30T11:38:55.923Z"
      },
      {
        "duration": 10,
        "start_time": "2022-08-30T11:38:55.935Z"
      },
      {
        "duration": 40,
        "start_time": "2022-08-30T11:38:55.946Z"
      },
      {
        "duration": 17,
        "start_time": "2022-08-30T11:38:55.987Z"
      },
      {
        "duration": 14,
        "start_time": "2022-08-30T11:38:56.005Z"
      },
      {
        "duration": 3,
        "start_time": "2022-08-30T11:38:56.020Z"
      },
      {
        "duration": 6,
        "start_time": "2022-08-30T11:38:56.024Z"
      },
      {
        "duration": 11,
        "start_time": "2022-08-30T11:38:56.031Z"
      },
      {
        "duration": 2,
        "start_time": "2022-08-30T11:38:56.043Z"
      },
      {
        "duration": 5,
        "start_time": "2022-08-30T11:38:56.047Z"
      },
      {
        "duration": 32,
        "start_time": "2022-08-30T11:38:56.053Z"
      },
      {
        "duration": 15,
        "start_time": "2022-08-30T11:38:56.086Z"
      },
      {
        "duration": 23,
        "start_time": "2022-08-30T11:38:56.103Z"
      },
      {
        "duration": 6,
        "start_time": "2022-08-30T11:38:56.128Z"
      },
      {
        "duration": 8,
        "start_time": "2022-08-30T11:38:56.135Z"
      },
      {
        "duration": 4,
        "start_time": "2022-08-30T11:38:56.144Z"
      },
      {
        "duration": 6,
        "start_time": "2022-08-30T11:38:56.149Z"
      },
      {
        "duration": 1031,
        "start_time": "2022-08-30T11:38:56.156Z"
      },
      {
        "duration": 0,
        "start_time": "2022-08-30T11:38:57.189Z"
      },
      {
        "duration": 0,
        "start_time": "2022-08-30T11:38:57.190Z"
      },
      {
        "duration": 0,
        "start_time": "2022-08-30T11:38:57.191Z"
      },
      {
        "duration": 0,
        "start_time": "2022-08-30T11:38:57.192Z"
      },
      {
        "duration": 0,
        "start_time": "2022-08-30T11:38:57.193Z"
      },
      {
        "duration": 0,
        "start_time": "2022-08-30T11:38:57.194Z"
      },
      {
        "duration": 0,
        "start_time": "2022-08-30T11:38:57.196Z"
      },
      {
        "duration": 0,
        "start_time": "2022-08-30T11:38:57.196Z"
      },
      {
        "duration": 0,
        "start_time": "2022-08-30T11:38:57.197Z"
      },
      {
        "duration": 0,
        "start_time": "2022-08-30T11:38:57.198Z"
      },
      {
        "duration": 0,
        "start_time": "2022-08-30T11:38:57.199Z"
      },
      {
        "duration": 0,
        "start_time": "2022-08-30T11:38:57.200Z"
      },
      {
        "duration": 0,
        "start_time": "2022-08-30T11:38:57.201Z"
      },
      {
        "duration": 0,
        "start_time": "2022-08-30T11:38:57.202Z"
      },
      {
        "duration": 0,
        "start_time": "2022-08-30T11:38:57.203Z"
      },
      {
        "duration": 0,
        "start_time": "2022-08-30T11:38:57.204Z"
      },
      {
        "duration": 0,
        "start_time": "2022-08-30T11:38:57.206Z"
      },
      {
        "duration": 0,
        "start_time": "2022-08-30T11:38:57.207Z"
      },
      {
        "duration": 0,
        "start_time": "2022-08-30T11:38:57.208Z"
      },
      {
        "duration": 0,
        "start_time": "2022-08-30T11:38:57.209Z"
      },
      {
        "duration": 0,
        "start_time": "2022-08-30T11:38:57.210Z"
      },
      {
        "duration": 0,
        "start_time": "2022-08-30T11:38:57.211Z"
      },
      {
        "duration": 0,
        "start_time": "2022-08-30T11:38:57.212Z"
      },
      {
        "duration": 0,
        "start_time": "2022-08-30T11:38:57.213Z"
      },
      {
        "duration": 0,
        "start_time": "2022-08-30T11:38:57.214Z"
      },
      {
        "duration": 3,
        "start_time": "2022-08-30T11:44:00.333Z"
      },
      {
        "duration": 5,
        "start_time": "2022-08-30T11:44:02.857Z"
      },
      {
        "duration": 3,
        "start_time": "2022-08-30T11:44:22.220Z"
      },
      {
        "duration": 4,
        "start_time": "2022-08-30T11:44:27.448Z"
      },
      {
        "duration": 4,
        "start_time": "2022-08-30T11:45:40.251Z"
      },
      {
        "duration": 11,
        "start_time": "2022-08-30T11:45:44.238Z"
      },
      {
        "duration": 3,
        "start_time": "2022-08-30T11:46:18.797Z"
      },
      {
        "duration": 10,
        "start_time": "2022-08-30T11:46:40.654Z"
      },
      {
        "duration": 2,
        "start_time": "2022-08-30T11:47:02.800Z"
      },
      {
        "duration": 10,
        "start_time": "2022-08-30T11:47:05.976Z"
      },
      {
        "duration": 409,
        "start_time": "2022-08-30T11:47:15.143Z"
      },
      {
        "duration": 9,
        "start_time": "2022-08-30T11:47:15.554Z"
      },
      {
        "duration": 19,
        "start_time": "2022-08-30T11:47:15.565Z"
      },
      {
        "duration": 13,
        "start_time": "2022-08-30T11:47:15.586Z"
      },
      {
        "duration": 16,
        "start_time": "2022-08-30T11:47:15.601Z"
      },
      {
        "duration": 14,
        "start_time": "2022-08-30T11:47:15.618Z"
      },
      {
        "duration": 16,
        "start_time": "2022-08-30T11:47:15.634Z"
      },
      {
        "duration": 16,
        "start_time": "2022-08-30T11:47:15.651Z"
      },
      {
        "duration": 17,
        "start_time": "2022-08-30T11:47:15.668Z"
      },
      {
        "duration": 9,
        "start_time": "2022-08-30T11:47:15.687Z"
      },
      {
        "duration": 9,
        "start_time": "2022-08-30T11:47:15.697Z"
      },
      {
        "duration": 7,
        "start_time": "2022-08-30T11:47:15.708Z"
      },
      {
        "duration": 11,
        "start_time": "2022-08-30T11:47:15.717Z"
      },
      {
        "duration": 10,
        "start_time": "2022-08-30T11:47:15.729Z"
      },
      {
        "duration": 12,
        "start_time": "2022-08-30T11:47:15.740Z"
      },
      {
        "duration": 10,
        "start_time": "2022-08-30T11:47:15.754Z"
      },
      {
        "duration": 6,
        "start_time": "2022-08-30T11:47:15.765Z"
      },
      {
        "duration": 4,
        "start_time": "2022-08-30T11:47:15.785Z"
      },
      {
        "duration": 5,
        "start_time": "2022-08-30T11:47:15.791Z"
      },
      {
        "duration": 5,
        "start_time": "2022-08-30T11:47:15.797Z"
      },
      {
        "duration": 6,
        "start_time": "2022-08-30T11:47:15.803Z"
      },
      {
        "duration": 16,
        "start_time": "2022-08-30T11:47:15.810Z"
      },
      {
        "duration": 8,
        "start_time": "2022-08-30T11:47:15.827Z"
      },
      {
        "duration": 13,
        "start_time": "2022-08-30T11:47:15.836Z"
      },
      {
        "duration": 7,
        "start_time": "2022-08-30T11:47:15.851Z"
      },
      {
        "duration": 5,
        "start_time": "2022-08-30T11:47:15.859Z"
      },
      {
        "duration": 19,
        "start_time": "2022-08-30T11:47:15.865Z"
      },
      {
        "duration": 9,
        "start_time": "2022-08-30T11:47:15.888Z"
      },
      {
        "duration": 23,
        "start_time": "2022-08-30T11:47:15.899Z"
      },
      {
        "duration": 11,
        "start_time": "2022-08-30T11:47:15.924Z"
      },
      {
        "duration": 8,
        "start_time": "2022-08-30T11:47:15.936Z"
      },
      {
        "duration": 14,
        "start_time": "2022-08-30T11:47:15.945Z"
      },
      {
        "duration": 15,
        "start_time": "2022-08-30T11:47:15.960Z"
      },
      {
        "duration": 19,
        "start_time": "2022-08-30T11:47:15.976Z"
      },
      {
        "duration": 26,
        "start_time": "2022-08-30T11:47:15.996Z"
      },
      {
        "duration": 15,
        "start_time": "2022-08-30T11:47:16.023Z"
      },
      {
        "duration": 13,
        "start_time": "2022-08-30T11:47:16.040Z"
      },
      {
        "duration": 3,
        "start_time": "2022-08-30T11:47:16.055Z"
      },
      {
        "duration": 9,
        "start_time": "2022-08-30T11:47:16.059Z"
      },
      {
        "duration": 23,
        "start_time": "2022-08-30T11:47:16.069Z"
      },
      {
        "duration": 2,
        "start_time": "2022-08-30T11:47:16.094Z"
      },
      {
        "duration": 7,
        "start_time": "2022-08-30T11:47:16.098Z"
      },
      {
        "duration": 20,
        "start_time": "2022-08-30T11:47:16.106Z"
      },
      {
        "duration": 32,
        "start_time": "2022-08-30T11:47:16.128Z"
      },
      {
        "duration": 25,
        "start_time": "2022-08-30T11:47:16.161Z"
      },
      {
        "duration": 7,
        "start_time": "2022-08-30T11:47:16.188Z"
      },
      {
        "duration": 9,
        "start_time": "2022-08-30T11:47:16.196Z"
      },
      {
        "duration": 3,
        "start_time": "2022-08-30T11:47:16.206Z"
      },
      {
        "duration": 80,
        "start_time": "2022-08-30T11:47:16.210Z"
      },
      {
        "duration": 0,
        "start_time": "2022-08-30T11:47:16.292Z"
      },
      {
        "duration": 0,
        "start_time": "2022-08-30T11:47:16.293Z"
      },
      {
        "duration": 0,
        "start_time": "2022-08-30T11:47:16.294Z"
      },
      {
        "duration": 0,
        "start_time": "2022-08-30T11:47:16.295Z"
      },
      {
        "duration": 0,
        "start_time": "2022-08-30T11:47:16.296Z"
      },
      {
        "duration": 0,
        "start_time": "2022-08-30T11:47:16.297Z"
      },
      {
        "duration": 0,
        "start_time": "2022-08-30T11:47:16.298Z"
      },
      {
        "duration": 0,
        "start_time": "2022-08-30T11:47:16.299Z"
      },
      {
        "duration": 0,
        "start_time": "2022-08-30T11:47:16.300Z"
      },
      {
        "duration": 0,
        "start_time": "2022-08-30T11:47:16.301Z"
      },
      {
        "duration": 0,
        "start_time": "2022-08-30T11:47:16.302Z"
      },
      {
        "duration": 0,
        "start_time": "2022-08-30T11:47:16.303Z"
      },
      {
        "duration": 0,
        "start_time": "2022-08-30T11:47:16.304Z"
      },
      {
        "duration": 0,
        "start_time": "2022-08-30T11:47:16.304Z"
      },
      {
        "duration": 0,
        "start_time": "2022-08-30T11:47:16.305Z"
      },
      {
        "duration": 0,
        "start_time": "2022-08-30T11:47:16.306Z"
      },
      {
        "duration": 0,
        "start_time": "2022-08-30T11:47:16.307Z"
      },
      {
        "duration": 0,
        "start_time": "2022-08-30T11:47:16.308Z"
      },
      {
        "duration": 0,
        "start_time": "2022-08-30T11:47:16.309Z"
      },
      {
        "duration": 0,
        "start_time": "2022-08-30T11:47:16.310Z"
      },
      {
        "duration": 0,
        "start_time": "2022-08-30T11:47:16.310Z"
      },
      {
        "duration": 0,
        "start_time": "2022-08-30T11:47:16.311Z"
      },
      {
        "duration": 0,
        "start_time": "2022-08-30T11:47:16.312Z"
      },
      {
        "duration": 0,
        "start_time": "2022-08-30T11:47:16.313Z"
      },
      {
        "duration": 0,
        "start_time": "2022-08-30T11:47:16.314Z"
      },
      {
        "duration": 0,
        "start_time": "2022-08-30T11:47:16.315Z"
      },
      {
        "duration": 4,
        "start_time": "2022-08-30T11:47:44.527Z"
      },
      {
        "duration": 10,
        "start_time": "2022-08-30T11:47:47.717Z"
      },
      {
        "duration": 3,
        "start_time": "2022-08-30T11:48:41.444Z"
      },
      {
        "duration": 5,
        "start_time": "2022-08-30T11:48:46.213Z"
      },
      {
        "duration": 4,
        "start_time": "2022-08-30T11:50:12.712Z"
      },
      {
        "duration": 5,
        "start_time": "2022-08-30T11:50:15.636Z"
      },
      {
        "duration": 3,
        "start_time": "2022-08-30T11:50:38.421Z"
      },
      {
        "duration": 5,
        "start_time": "2022-08-30T11:50:40.135Z"
      },
      {
        "duration": 4,
        "start_time": "2022-08-30T11:50:52.717Z"
      },
      {
        "duration": 4,
        "start_time": "2022-08-30T11:50:54.875Z"
      },
      {
        "duration": 1018,
        "start_time": "2022-08-30T11:52:04.824Z"
      },
      {
        "duration": 1586,
        "start_time": "2022-08-30T11:53:11.612Z"
      },
      {
        "duration": 3,
        "start_time": "2022-08-30T11:54:50.905Z"
      },
      {
        "duration": 4,
        "start_time": "2022-08-30T11:54:53.297Z"
      },
      {
        "duration": 1794,
        "start_time": "2022-08-30T11:54:59.675Z"
      },
      {
        "duration": 21,
        "start_time": "2022-08-30T12:08:26.270Z"
      },
      {
        "duration": 4,
        "start_time": "2022-08-30T12:08:31.580Z"
      },
      {
        "duration": 20,
        "start_time": "2022-08-30T12:08:48.002Z"
      },
      {
        "duration": 4,
        "start_time": "2022-08-30T12:08:55.721Z"
      },
      {
        "duration": 16,
        "start_time": "2022-08-30T12:09:14.831Z"
      },
      {
        "duration": 11,
        "start_time": "2022-08-30T14:28:14.196Z"
      },
      {
        "duration": 12,
        "start_time": "2022-08-30T14:28:48.915Z"
      },
      {
        "duration": 13,
        "start_time": "2022-08-30T14:29:34.898Z"
      },
      {
        "duration": 452,
        "start_time": "2022-08-30T14:30:09.616Z"
      },
      {
        "duration": 8,
        "start_time": "2022-08-30T14:30:10.070Z"
      },
      {
        "duration": 38,
        "start_time": "2022-08-30T14:30:10.079Z"
      },
      {
        "duration": 27,
        "start_time": "2022-08-30T14:30:10.120Z"
      },
      {
        "duration": 20,
        "start_time": "2022-08-30T14:30:10.149Z"
      },
      {
        "duration": 13,
        "start_time": "2022-08-30T14:30:10.171Z"
      },
      {
        "duration": 33,
        "start_time": "2022-08-30T14:30:10.187Z"
      },
      {
        "duration": 12,
        "start_time": "2022-08-30T14:30:10.223Z"
      },
      {
        "duration": 8,
        "start_time": "2022-08-30T14:30:10.237Z"
      },
      {
        "duration": 8,
        "start_time": "2022-08-30T14:30:10.248Z"
      },
      {
        "duration": 8,
        "start_time": "2022-08-30T14:30:10.258Z"
      },
      {
        "duration": 17,
        "start_time": "2022-08-30T14:30:10.268Z"
      },
      {
        "duration": 36,
        "start_time": "2022-08-30T14:30:10.292Z"
      },
      {
        "duration": 14,
        "start_time": "2022-08-30T14:30:10.330Z"
      },
      {
        "duration": 15,
        "start_time": "2022-08-30T14:30:10.346Z"
      },
      {
        "duration": 10,
        "start_time": "2022-08-30T14:30:10.363Z"
      },
      {
        "duration": 5,
        "start_time": "2022-08-30T14:30:10.375Z"
      },
      {
        "duration": 24,
        "start_time": "2022-08-30T14:30:10.382Z"
      },
      {
        "duration": 10,
        "start_time": "2022-08-30T14:30:13.644Z"
      },
      {
        "duration": 14,
        "start_time": "2022-08-30T14:34:35.837Z"
      },
      {
        "duration": 3,
        "start_time": "2022-08-30T14:38:35.236Z"
      },
      {
        "duration": 9,
        "start_time": "2022-08-30T14:39:00.103Z"
      },
      {
        "duration": 15,
        "start_time": "2022-08-30T14:41:18.233Z"
      },
      {
        "duration": 429,
        "start_time": "2022-08-30T14:41:51.635Z"
      },
      {
        "duration": 7,
        "start_time": "2022-08-30T14:41:52.066Z"
      },
      {
        "duration": 26,
        "start_time": "2022-08-30T14:41:52.075Z"
      },
      {
        "duration": 23,
        "start_time": "2022-08-30T14:41:52.104Z"
      },
      {
        "duration": 17,
        "start_time": "2022-08-30T14:41:52.129Z"
      },
      {
        "duration": 7,
        "start_time": "2022-08-30T14:41:52.148Z"
      },
      {
        "duration": 18,
        "start_time": "2022-08-30T14:41:52.156Z"
      },
      {
        "duration": 8,
        "start_time": "2022-08-30T14:41:52.189Z"
      },
      {
        "duration": 24,
        "start_time": "2022-08-30T14:41:52.199Z"
      },
      {
        "duration": 6,
        "start_time": "2022-08-30T14:41:52.225Z"
      },
      {
        "duration": 9,
        "start_time": "2022-08-30T14:41:52.232Z"
      },
      {
        "duration": 10,
        "start_time": "2022-08-30T14:41:52.243Z"
      },
      {
        "duration": 10,
        "start_time": "2022-08-30T14:41:52.254Z"
      },
      {
        "duration": 13,
        "start_time": "2022-08-30T14:41:52.265Z"
      },
      {
        "duration": 18,
        "start_time": "2022-08-30T14:41:52.279Z"
      },
      {
        "duration": 21,
        "start_time": "2022-08-30T14:41:52.298Z"
      },
      {
        "duration": 6,
        "start_time": "2022-08-30T14:41:52.321Z"
      },
      {
        "duration": 6,
        "start_time": "2022-08-30T14:41:52.328Z"
      },
      {
        "duration": 27,
        "start_time": "2022-08-30T14:41:54.981Z"
      },
      {
        "duration": 61,
        "start_time": "2022-08-30T15:19:15.032Z"
      },
      {
        "duration": 5,
        "start_time": "2022-08-30T15:19:22.666Z"
      },
      {
        "duration": 109,
        "start_time": "2022-08-30T15:20:18.727Z"
      },
      {
        "duration": 97,
        "start_time": "2022-08-30T15:21:00.214Z"
      },
      {
        "duration": 91,
        "start_time": "2022-08-30T15:21:17.028Z"
      },
      {
        "duration": 26,
        "start_time": "2022-08-30T15:21:27.501Z"
      },
      {
        "duration": 8,
        "start_time": "2022-08-30T15:21:53.475Z"
      },
      {
        "duration": 11,
        "start_time": "2022-08-30T15:22:40.601Z"
      },
      {
        "duration": 55,
        "start_time": "2022-08-30T15:27:34.186Z"
      },
      {
        "duration": 4,
        "start_time": "2022-08-30T15:27:34.243Z"
      },
      {
        "duration": 19,
        "start_time": "2022-08-30T15:27:34.249Z"
      },
      {
        "duration": 27,
        "start_time": "2022-08-30T15:27:34.270Z"
      },
      {
        "duration": 17,
        "start_time": "2022-08-30T15:27:34.299Z"
      },
      {
        "duration": 8,
        "start_time": "2022-08-30T15:27:34.317Z"
      },
      {
        "duration": 21,
        "start_time": "2022-08-30T15:27:34.327Z"
      },
      {
        "duration": 38,
        "start_time": "2022-08-30T15:27:34.350Z"
      },
      {
        "duration": 9,
        "start_time": "2022-08-30T15:27:34.391Z"
      },
      {
        "duration": 9,
        "start_time": "2022-08-30T15:27:34.402Z"
      },
      {
        "duration": 5,
        "start_time": "2022-08-30T15:27:34.432Z"
      },
      {
        "duration": 26,
        "start_time": "2022-08-30T15:27:34.440Z"
      },
      {
        "duration": 16,
        "start_time": "2022-08-30T15:27:34.468Z"
      },
      {
        "duration": 16,
        "start_time": "2022-08-30T15:27:34.486Z"
      },
      {
        "duration": 33,
        "start_time": "2022-08-30T15:27:34.512Z"
      },
      {
        "duration": 9,
        "start_time": "2022-08-30T15:27:34.547Z"
      },
      {
        "duration": 18,
        "start_time": "2022-08-30T15:27:34.558Z"
      },
      {
        "duration": 14,
        "start_time": "2022-08-30T15:27:34.578Z"
      },
      {
        "duration": 24,
        "start_time": "2022-08-30T15:27:34.594Z"
      },
      {
        "duration": 12,
        "start_time": "2022-08-30T15:27:34.620Z"
      },
      {
        "duration": 49,
        "start_time": "2022-08-30T15:27:34.635Z"
      },
      {
        "duration": 21,
        "start_time": "2022-08-30T15:27:34.687Z"
      },
      {
        "duration": 26,
        "start_time": "2022-08-30T15:27:34.711Z"
      },
      {
        "duration": 12,
        "start_time": "2022-08-30T15:27:34.741Z"
      },
      {
        "duration": 18,
        "start_time": "2022-08-30T15:27:34.756Z"
      },
      {
        "duration": 11,
        "start_time": "2022-08-30T15:27:34.776Z"
      },
      {
        "duration": 14,
        "start_time": "2022-08-30T15:27:34.790Z"
      },
      {
        "duration": 13,
        "start_time": "2022-08-30T15:27:34.807Z"
      },
      {
        "duration": 21,
        "start_time": "2022-08-30T15:27:34.822Z"
      },
      {
        "duration": 13,
        "start_time": "2022-08-30T15:27:34.845Z"
      },
      {
        "duration": 24,
        "start_time": "2022-08-30T15:27:34.860Z"
      },
      {
        "duration": 14,
        "start_time": "2022-08-30T15:27:34.887Z"
      },
      {
        "duration": 35,
        "start_time": "2022-08-30T15:27:34.903Z"
      },
      {
        "duration": 28,
        "start_time": "2022-08-30T15:27:34.940Z"
      },
      {
        "duration": 32,
        "start_time": "2022-08-30T15:27:34.970Z"
      },
      {
        "duration": 27,
        "start_time": "2022-08-30T15:27:35.003Z"
      },
      {
        "duration": 52,
        "start_time": "2022-08-30T15:27:35.032Z"
      },
      {
        "duration": 12,
        "start_time": "2022-08-30T15:27:35.086Z"
      },
      {
        "duration": 27,
        "start_time": "2022-08-30T15:27:35.100Z"
      },
      {
        "duration": 40,
        "start_time": "2022-08-30T15:27:35.129Z"
      },
      {
        "duration": 74,
        "start_time": "2022-08-30T15:27:35.171Z"
      },
      {
        "duration": 47,
        "start_time": "2022-08-30T15:27:35.247Z"
      },
      {
        "duration": 37,
        "start_time": "2022-08-30T15:27:35.296Z"
      },
      {
        "duration": 34,
        "start_time": "2022-08-30T15:27:35.335Z"
      },
      {
        "duration": 47,
        "start_time": "2022-08-30T15:27:35.371Z"
      },
      {
        "duration": 13,
        "start_time": "2022-08-30T15:27:35.420Z"
      },
      {
        "duration": 15,
        "start_time": "2022-08-30T15:27:35.435Z"
      },
      {
        "duration": 19,
        "start_time": "2022-08-30T15:27:35.452Z"
      },
      {
        "duration": 5,
        "start_time": "2022-08-30T15:27:42.340Z"
      },
      {
        "duration": 1378,
        "start_time": "2022-08-30T16:22:26.587Z"
      },
      {
        "duration": 7,
        "start_time": "2022-08-30T16:22:52.326Z"
      },
      {
        "duration": 10,
        "start_time": "2022-08-30T16:24:35.387Z"
      },
      {
        "duration": 7,
        "start_time": "2022-08-30T16:24:53.937Z"
      },
      {
        "duration": 7,
        "start_time": "2022-08-30T16:25:48.770Z"
      },
      {
        "duration": 10,
        "start_time": "2022-08-30T16:26:29.327Z"
      },
      {
        "duration": 7,
        "start_time": "2022-08-30T16:32:28.214Z"
      },
      {
        "duration": 46,
        "start_time": "2022-08-31T06:22:31.268Z"
      },
      {
        "duration": 558,
        "start_time": "2022-08-31T06:22:40.317Z"
      },
      {
        "duration": 8,
        "start_time": "2022-08-31T06:22:40.877Z"
      },
      {
        "duration": 18,
        "start_time": "2022-08-31T06:22:40.887Z"
      },
      {
        "duration": 14,
        "start_time": "2022-08-31T06:22:40.907Z"
      },
      {
        "duration": 13,
        "start_time": "2022-08-31T06:22:40.923Z"
      },
      {
        "duration": 7,
        "start_time": "2022-08-31T06:22:40.938Z"
      },
      {
        "duration": 12,
        "start_time": "2022-08-31T06:22:40.946Z"
      },
      {
        "duration": 5,
        "start_time": "2022-08-31T06:22:40.959Z"
      },
      {
        "duration": 5,
        "start_time": "2022-08-31T06:22:40.966Z"
      },
      {
        "duration": 37,
        "start_time": "2022-08-31T06:22:40.973Z"
      },
      {
        "duration": 6,
        "start_time": "2022-08-31T06:22:41.011Z"
      },
      {
        "duration": 11,
        "start_time": "2022-08-31T06:22:41.018Z"
      },
      {
        "duration": 17,
        "start_time": "2022-08-31T06:22:41.030Z"
      },
      {
        "duration": 12,
        "start_time": "2022-08-31T06:22:41.048Z"
      },
      {
        "duration": 8,
        "start_time": "2022-08-31T06:22:41.061Z"
      },
      {
        "duration": 9,
        "start_time": "2022-08-31T06:22:41.071Z"
      },
      {
        "duration": 5,
        "start_time": "2022-08-31T06:22:41.082Z"
      },
      {
        "duration": 23,
        "start_time": "2022-08-31T06:22:41.088Z"
      },
      {
        "duration": 16,
        "start_time": "2022-08-31T06:22:41.113Z"
      },
      {
        "duration": 5,
        "start_time": "2022-08-31T06:22:41.130Z"
      },
      {
        "duration": 11,
        "start_time": "2022-08-31T06:22:41.136Z"
      },
      {
        "duration": 9,
        "start_time": "2022-08-31T06:22:41.149Z"
      },
      {
        "duration": 8,
        "start_time": "2022-08-31T06:22:45.350Z"
      },
      {
        "duration": 7,
        "start_time": "2022-08-31T06:24:32.496Z"
      },
      {
        "duration": 50,
        "start_time": "2022-08-31T08:58:59.150Z"
      },
      {
        "duration": 542,
        "start_time": "2022-08-31T08:59:06.136Z"
      },
      {
        "duration": 8,
        "start_time": "2022-08-31T08:59:06.681Z"
      },
      {
        "duration": 20,
        "start_time": "2022-08-31T08:59:06.691Z"
      },
      {
        "duration": 15,
        "start_time": "2022-08-31T08:59:06.713Z"
      },
      {
        "duration": 14,
        "start_time": "2022-08-31T08:59:06.730Z"
      },
      {
        "duration": 7,
        "start_time": "2022-08-31T08:59:06.746Z"
      },
      {
        "duration": 14,
        "start_time": "2022-08-31T08:59:06.755Z"
      },
      {
        "duration": 33,
        "start_time": "2022-08-31T08:59:06.771Z"
      },
      {
        "duration": 8,
        "start_time": "2022-08-31T08:59:06.806Z"
      },
      {
        "duration": 6,
        "start_time": "2022-08-31T08:59:06.816Z"
      },
      {
        "duration": 8,
        "start_time": "2022-08-31T08:59:06.823Z"
      },
      {
        "duration": 11,
        "start_time": "2022-08-31T08:59:06.832Z"
      },
      {
        "duration": 11,
        "start_time": "2022-08-31T08:59:06.845Z"
      },
      {
        "duration": 10,
        "start_time": "2022-08-31T08:59:06.858Z"
      },
      {
        "duration": 8,
        "start_time": "2022-08-31T08:59:06.869Z"
      },
      {
        "duration": 7,
        "start_time": "2022-08-31T08:59:06.903Z"
      },
      {
        "duration": 5,
        "start_time": "2022-08-31T08:59:06.912Z"
      },
      {
        "duration": 7,
        "start_time": "2022-08-31T08:59:09.708Z"
      },
      {
        "duration": 13,
        "start_time": "2022-08-31T09:01:09.682Z"
      },
      {
        "duration": 25,
        "start_time": "2022-08-31T09:01:29.088Z"
      },
      {
        "duration": 60,
        "start_time": "2022-08-31T09:21:57.717Z"
      },
      {
        "duration": 5,
        "start_time": "2022-08-31T09:21:57.779Z"
      },
      {
        "duration": 19,
        "start_time": "2022-08-31T09:21:57.786Z"
      },
      {
        "duration": 16,
        "start_time": "2022-08-31T09:21:57.807Z"
      },
      {
        "duration": 15,
        "start_time": "2022-08-31T09:21:57.824Z"
      },
      {
        "duration": 10,
        "start_time": "2022-08-31T09:21:57.841Z"
      },
      {
        "duration": 14,
        "start_time": "2022-08-31T09:21:57.853Z"
      },
      {
        "duration": 6,
        "start_time": "2022-08-31T09:21:57.869Z"
      },
      {
        "duration": 6,
        "start_time": "2022-08-31T09:21:57.902Z"
      },
      {
        "duration": 8,
        "start_time": "2022-08-31T09:21:57.910Z"
      },
      {
        "duration": 7,
        "start_time": "2022-08-31T09:21:57.963Z"
      },
      {
        "duration": 14,
        "start_time": "2022-08-31T09:21:57.972Z"
      },
      {
        "duration": 12,
        "start_time": "2022-08-31T09:21:57.988Z"
      },
      {
        "duration": 13,
        "start_time": "2022-08-31T09:21:58.001Z"
      },
      {
        "duration": 7,
        "start_time": "2022-08-31T09:21:58.016Z"
      },
      {
        "duration": 8,
        "start_time": "2022-08-31T09:21:58.025Z"
      },
      {
        "duration": 6,
        "start_time": "2022-08-31T09:21:58.034Z"
      },
      {
        "duration": 11,
        "start_time": "2022-08-31T09:21:58.041Z"
      },
      {
        "duration": 49,
        "start_time": "2022-08-31T09:21:58.054Z"
      },
      {
        "duration": 15,
        "start_time": "2022-08-31T09:21:58.105Z"
      },
      {
        "duration": 4,
        "start_time": "2022-08-31T09:21:58.122Z"
      },
      {
        "duration": 14,
        "start_time": "2022-08-31T09:21:58.127Z"
      },
      {
        "duration": 7,
        "start_time": "2022-08-31T09:21:58.143Z"
      },
      {
        "duration": 6,
        "start_time": "2022-08-31T09:21:58.153Z"
      },
      {
        "duration": 43,
        "start_time": "2022-08-31T09:21:58.160Z"
      },
      {
        "duration": 8,
        "start_time": "2022-08-31T09:21:58.204Z"
      },
      {
        "duration": 4,
        "start_time": "2022-08-31T09:21:58.214Z"
      },
      {
        "duration": 12,
        "start_time": "2022-08-31T09:21:58.219Z"
      },
      {
        "duration": 11,
        "start_time": "2022-08-31T09:21:58.232Z"
      },
      {
        "duration": 15,
        "start_time": "2022-08-31T09:21:58.245Z"
      },
      {
        "duration": 11,
        "start_time": "2022-08-31T09:21:58.262Z"
      },
      {
        "duration": 34,
        "start_time": "2022-08-31T09:21:58.274Z"
      },
      {
        "duration": 11,
        "start_time": "2022-08-31T09:21:58.310Z"
      },
      {
        "duration": 6,
        "start_time": "2022-08-31T09:21:58.322Z"
      },
      {
        "duration": 8,
        "start_time": "2022-08-31T09:21:58.330Z"
      },
      {
        "duration": 20,
        "start_time": "2022-08-31T09:21:58.340Z"
      },
      {
        "duration": 41,
        "start_time": "2022-08-31T09:21:58.362Z"
      },
      {
        "duration": 20,
        "start_time": "2022-08-31T09:21:58.405Z"
      },
      {
        "duration": 4,
        "start_time": "2022-08-31T09:21:58.427Z"
      },
      {
        "duration": 6,
        "start_time": "2022-08-31T09:21:58.432Z"
      },
      {
        "duration": 16,
        "start_time": "2022-08-31T09:21:58.440Z"
      },
      {
        "duration": 4,
        "start_time": "2022-08-31T09:21:58.458Z"
      },
      {
        "duration": 6,
        "start_time": "2022-08-31T09:21:58.463Z"
      },
      {
        "duration": 39,
        "start_time": "2022-08-31T09:21:58.471Z"
      },
      {
        "duration": 19,
        "start_time": "2022-08-31T09:21:58.512Z"
      },
      {
        "duration": 32,
        "start_time": "2022-08-31T09:21:58.533Z"
      },
      {
        "duration": 8,
        "start_time": "2022-08-31T09:21:58.569Z"
      },
      {
        "duration": 30,
        "start_time": "2022-08-31T09:21:58.579Z"
      },
      {
        "duration": 4,
        "start_time": "2022-08-31T09:21:58.611Z"
      },
      {
        "duration": 30,
        "start_time": "2022-08-31T09:21:58.617Z"
      },
      {
        "duration": 224,
        "start_time": "2022-08-31T09:22:01.332Z"
      },
      {
        "duration": 655,
        "start_time": "2022-08-31T09:22:33.356Z"
      },
      {
        "duration": 341,
        "start_time": "2022-08-31T09:22:44.614Z"
      },
      {
        "duration": 286,
        "start_time": "2022-08-31T09:23:06.115Z"
      },
      {
        "duration": 411,
        "start_time": "2022-08-31T09:23:15.532Z"
      },
      {
        "duration": 55,
        "start_time": "2022-08-31T09:33:51.587Z"
      },
      {
        "duration": 4,
        "start_time": "2022-08-31T09:33:51.644Z"
      },
      {
        "duration": 17,
        "start_time": "2022-08-31T09:33:51.649Z"
      },
      {
        "duration": 18,
        "start_time": "2022-08-31T09:33:51.668Z"
      },
      {
        "duration": 28,
        "start_time": "2022-08-31T09:33:51.688Z"
      },
      {
        "duration": 8,
        "start_time": "2022-08-31T09:33:51.718Z"
      },
      {
        "duration": 13,
        "start_time": "2022-08-31T09:33:51.728Z"
      },
      {
        "duration": 5,
        "start_time": "2022-08-31T09:33:51.743Z"
      },
      {
        "duration": 5,
        "start_time": "2022-08-31T09:33:51.750Z"
      },
      {
        "duration": 7,
        "start_time": "2022-08-31T09:33:51.758Z"
      },
      {
        "duration": 5,
        "start_time": "2022-08-31T09:33:51.842Z"
      },
      {
        "duration": 10,
        "start_time": "2022-08-31T09:33:51.849Z"
      },
      {
        "duration": 15,
        "start_time": "2022-08-31T09:33:51.861Z"
      },
      {
        "duration": 14,
        "start_time": "2022-08-31T09:33:51.878Z"
      },
      {
        "duration": 13,
        "start_time": "2022-08-31T09:33:51.895Z"
      },
      {
        "duration": 7,
        "start_time": "2022-08-31T09:33:51.909Z"
      },
      {
        "duration": 12,
        "start_time": "2022-08-31T09:33:51.917Z"
      },
      {
        "duration": 10,
        "start_time": "2022-08-31T09:33:51.931Z"
      },
      {
        "duration": 27,
        "start_time": "2022-08-31T09:33:51.943Z"
      },
      {
        "duration": 38,
        "start_time": "2022-08-31T09:33:51.972Z"
      },
      {
        "duration": 4,
        "start_time": "2022-08-31T09:33:52.012Z"
      },
      {
        "duration": 16,
        "start_time": "2022-08-31T09:33:52.018Z"
      },
      {
        "duration": 6,
        "start_time": "2022-08-31T09:33:52.036Z"
      },
      {
        "duration": 4,
        "start_time": "2022-08-31T09:33:52.045Z"
      },
      {
        "duration": 14,
        "start_time": "2022-08-31T09:33:52.051Z"
      },
      {
        "duration": 8,
        "start_time": "2022-08-31T09:33:52.067Z"
      },
      {
        "duration": 26,
        "start_time": "2022-08-31T09:33:52.077Z"
      },
      {
        "duration": 19,
        "start_time": "2022-08-31T09:33:52.105Z"
      },
      {
        "duration": 9,
        "start_time": "2022-08-31T09:33:52.126Z"
      },
      {
        "duration": 16,
        "start_time": "2022-08-31T09:33:52.136Z"
      },
      {
        "duration": 10,
        "start_time": "2022-08-31T09:33:52.154Z"
      },
      {
        "duration": 9,
        "start_time": "2022-08-31T09:33:52.166Z"
      },
      {
        "duration": 27,
        "start_time": "2022-08-31T09:33:52.177Z"
      },
      {
        "duration": 3,
        "start_time": "2022-08-31T09:33:52.206Z"
      },
      {
        "duration": 12,
        "start_time": "2022-08-31T09:33:52.211Z"
      },
      {
        "duration": 20,
        "start_time": "2022-08-31T09:33:52.225Z"
      },
      {
        "duration": 18,
        "start_time": "2022-08-31T09:33:52.247Z"
      },
      {
        "duration": 40,
        "start_time": "2022-08-31T09:33:52.266Z"
      },
      {
        "duration": 3,
        "start_time": "2022-08-31T09:33:52.308Z"
      },
      {
        "duration": 6,
        "start_time": "2022-08-31T09:33:52.313Z"
      },
      {
        "duration": 18,
        "start_time": "2022-08-31T09:33:52.321Z"
      },
      {
        "duration": 2,
        "start_time": "2022-08-31T09:33:52.341Z"
      },
      {
        "duration": 8,
        "start_time": "2022-08-31T09:33:52.345Z"
      },
      {
        "duration": 10,
        "start_time": "2022-08-31T09:33:52.355Z"
      },
      {
        "duration": 43,
        "start_time": "2022-08-31T09:33:52.367Z"
      },
      {
        "duration": 33,
        "start_time": "2022-08-31T09:33:52.413Z"
      },
      {
        "duration": 7,
        "start_time": "2022-08-31T09:33:52.448Z"
      },
      {
        "duration": 8,
        "start_time": "2022-08-31T09:33:52.458Z"
      },
      {
        "duration": 5,
        "start_time": "2022-08-31T09:33:52.467Z"
      },
      {
        "duration": 4,
        "start_time": "2022-08-31T09:33:57.286Z"
      },
      {
        "duration": 79,
        "start_time": "2022-08-31T09:35:18.299Z"
      },
      {
        "duration": 4,
        "start_time": "2022-08-31T09:35:22.159Z"
      },
      {
        "duration": 223,
        "start_time": "2022-08-31T09:35:23.964Z"
      },
      {
        "duration": 4,
        "start_time": "2022-08-31T09:36:02.295Z"
      },
      {
        "duration": 9,
        "start_time": "2022-08-31T09:36:06.605Z"
      },
      {
        "duration": 5,
        "start_time": "2022-08-31T09:36:19.706Z"
      },
      {
        "duration": 3,
        "start_time": "2022-08-31T09:38:08.432Z"
      },
      {
        "duration": 16,
        "start_time": "2022-08-31T09:38:11.926Z"
      },
      {
        "duration": 20,
        "start_time": "2022-08-31T09:41:19.118Z"
      },
      {
        "duration": 9,
        "start_time": "2022-08-31T09:41:54.406Z"
      },
      {
        "duration": 8,
        "start_time": "2022-08-31T09:41:58.009Z"
      },
      {
        "duration": 10,
        "start_time": "2022-08-31T09:45:47.640Z"
      },
      {
        "duration": 9,
        "start_time": "2022-08-31T09:45:59.331Z"
      },
      {
        "duration": 8,
        "start_time": "2022-08-31T09:46:07.473Z"
      },
      {
        "duration": 3,
        "start_time": "2022-08-31T09:54:17.777Z"
      },
      {
        "duration": 4,
        "start_time": "2022-08-31T09:54:20.887Z"
      },
      {
        "duration": 8,
        "start_time": "2022-08-31T09:54:27.751Z"
      },
      {
        "duration": 17,
        "start_time": "2022-08-31T09:54:31.480Z"
      },
      {
        "duration": 8,
        "start_time": "2022-08-31T09:56:23.345Z"
      },
      {
        "duration": 11,
        "start_time": "2022-08-31T09:56:28.439Z"
      },
      {
        "duration": 4,
        "start_time": "2022-08-31T09:56:33.203Z"
      },
      {
        "duration": 4,
        "start_time": "2022-08-31T09:56:35.877Z"
      },
      {
        "duration": 4,
        "start_time": "2022-08-31T09:56:55.396Z"
      },
      {
        "duration": 463,
        "start_time": "2022-08-31T09:57:53.068Z"
      },
      {
        "duration": 8,
        "start_time": "2022-08-31T09:57:53.533Z"
      },
      {
        "duration": 31,
        "start_time": "2022-08-31T09:57:53.543Z"
      },
      {
        "duration": 27,
        "start_time": "2022-08-31T09:57:53.576Z"
      },
      {
        "duration": 16,
        "start_time": "2022-08-31T09:57:53.604Z"
      },
      {
        "duration": 25,
        "start_time": "2022-08-31T09:57:53.622Z"
      },
      {
        "duration": 17,
        "start_time": "2022-08-31T09:57:53.649Z"
      },
      {
        "duration": 7,
        "start_time": "2022-08-31T09:57:53.667Z"
      },
      {
        "duration": 6,
        "start_time": "2022-08-31T09:57:53.676Z"
      },
      {
        "duration": 9,
        "start_time": "2022-08-31T09:57:53.704Z"
      },
      {
        "duration": 9,
        "start_time": "2022-08-31T09:57:53.715Z"
      },
      {
        "duration": 15,
        "start_time": "2022-08-31T09:57:53.726Z"
      },
      {
        "duration": 11,
        "start_time": "2022-08-31T09:57:53.743Z"
      },
      {
        "duration": 10,
        "start_time": "2022-08-31T09:57:53.756Z"
      },
      {
        "duration": 37,
        "start_time": "2022-08-31T09:57:53.767Z"
      },
      {
        "duration": 9,
        "start_time": "2022-08-31T09:57:53.806Z"
      },
      {
        "duration": 9,
        "start_time": "2022-08-31T09:57:53.816Z"
      },
      {
        "duration": 15,
        "start_time": "2022-08-31T09:57:53.826Z"
      },
      {
        "duration": 25,
        "start_time": "2022-08-31T09:57:53.843Z"
      },
      {
        "duration": 38,
        "start_time": "2022-08-31T09:57:53.870Z"
      },
      {
        "duration": 7,
        "start_time": "2022-08-31T09:57:53.910Z"
      },
      {
        "duration": 17,
        "start_time": "2022-08-31T09:57:53.919Z"
      },
      {
        "duration": 7,
        "start_time": "2022-08-31T09:57:53.938Z"
      },
      {
        "duration": 10,
        "start_time": "2022-08-31T09:57:53.947Z"
      },
      {
        "duration": 16,
        "start_time": "2022-08-31T09:57:53.958Z"
      },
      {
        "duration": 28,
        "start_time": "2022-08-31T09:57:53.975Z"
      },
      {
        "duration": 4,
        "start_time": "2022-08-31T09:57:54.005Z"
      },
      {
        "duration": 11,
        "start_time": "2022-08-31T09:57:54.014Z"
      },
      {
        "duration": 10,
        "start_time": "2022-08-31T09:57:54.027Z"
      },
      {
        "duration": 24,
        "start_time": "2022-08-31T09:57:54.039Z"
      },
      {
        "duration": 14,
        "start_time": "2022-08-31T09:57:54.065Z"
      },
      {
        "duration": 23,
        "start_time": "2022-08-31T09:57:54.081Z"
      },
      {
        "duration": 11,
        "start_time": "2022-08-31T09:57:54.107Z"
      },
      {
        "duration": 6,
        "start_time": "2022-08-31T09:57:54.121Z"
      },
      {
        "duration": 12,
        "start_time": "2022-08-31T09:57:54.129Z"
      },
      {
        "duration": 23,
        "start_time": "2022-08-31T09:57:54.144Z"
      },
      {
        "duration": 45,
        "start_time": "2022-08-31T09:57:54.169Z"
      },
      {
        "duration": 17,
        "start_time": "2022-08-31T09:57:54.216Z"
      },
      {
        "duration": 4,
        "start_time": "2022-08-31T09:57:54.234Z"
      },
      {
        "duration": 9,
        "start_time": "2022-08-31T09:57:54.240Z"
      },
      {
        "duration": 14,
        "start_time": "2022-08-31T09:57:54.251Z"
      },
      {
        "duration": 4,
        "start_time": "2022-08-31T09:57:54.267Z"
      },
      {
        "duration": 4,
        "start_time": "2022-08-31T09:57:54.303Z"
      },
      {
        "duration": 14,
        "start_time": "2022-08-31T09:57:54.309Z"
      },
      {
        "duration": 18,
        "start_time": "2022-08-31T09:57:54.325Z"
      },
      {
        "duration": 29,
        "start_time": "2022-08-31T09:57:54.345Z"
      },
      {
        "duration": 34,
        "start_time": "2022-08-31T09:57:54.376Z"
      },
      {
        "duration": 12,
        "start_time": "2022-08-31T09:57:54.413Z"
      },
      {
        "duration": 8,
        "start_time": "2022-08-31T09:57:54.428Z"
      },
      {
        "duration": 15,
        "start_time": "2022-08-31T09:57:54.438Z"
      },
      {
        "duration": 22,
        "start_time": "2022-08-31T09:57:54.454Z"
      },
      {
        "duration": 25,
        "start_time": "2022-08-31T09:57:54.478Z"
      },
      {
        "duration": 4,
        "start_time": "2022-08-31T09:57:54.506Z"
      },
      {
        "duration": 31,
        "start_time": "2022-08-31T09:57:54.511Z"
      },
      {
        "duration": 8,
        "start_time": "2022-08-31T09:57:54.544Z"
      },
      {
        "duration": 17,
        "start_time": "2022-08-31T09:57:54.553Z"
      },
      {
        "duration": 922,
        "start_time": "2022-08-31T09:57:54.572Z"
      },
      {
        "duration": 0,
        "start_time": "2022-08-31T09:57:55.496Z"
      },
      {
        "duration": 0,
        "start_time": "2022-08-31T09:57:55.497Z"
      },
      {
        "duration": 0,
        "start_time": "2022-08-31T09:57:55.498Z"
      },
      {
        "duration": 0,
        "start_time": "2022-08-31T09:57:55.499Z"
      },
      {
        "duration": 0,
        "start_time": "2022-08-31T09:57:55.501Z"
      },
      {
        "duration": 0,
        "start_time": "2022-08-31T09:57:55.503Z"
      },
      {
        "duration": 0,
        "start_time": "2022-08-31T09:57:55.505Z"
      },
      {
        "duration": 0,
        "start_time": "2022-08-31T09:57:55.506Z"
      },
      {
        "duration": 0,
        "start_time": "2022-08-31T09:57:55.507Z"
      },
      {
        "duration": 0,
        "start_time": "2022-08-31T09:57:55.508Z"
      },
      {
        "duration": 0,
        "start_time": "2022-08-31T09:57:55.509Z"
      },
      {
        "duration": 0,
        "start_time": "2022-08-31T09:57:55.509Z"
      },
      {
        "duration": 0,
        "start_time": "2022-08-31T09:57:55.511Z"
      },
      {
        "duration": 0,
        "start_time": "2022-08-31T09:57:55.513Z"
      },
      {
        "duration": 0,
        "start_time": "2022-08-31T09:57:55.513Z"
      },
      {
        "duration": 0,
        "start_time": "2022-08-31T09:57:55.515Z"
      },
      {
        "duration": 0,
        "start_time": "2022-08-31T09:57:55.516Z"
      },
      {
        "duration": 0,
        "start_time": "2022-08-31T09:57:55.517Z"
      },
      {
        "duration": 8,
        "start_time": "2022-08-31T10:00:19.287Z"
      },
      {
        "duration": 17,
        "start_time": "2022-08-31T10:00:32.037Z"
      },
      {
        "duration": 17,
        "start_time": "2022-08-31T10:00:42.083Z"
      },
      {
        "duration": 10,
        "start_time": "2022-08-31T10:11:12.721Z"
      },
      {
        "duration": 1514,
        "start_time": "2022-08-31T10:12:11.002Z"
      },
      {
        "duration": 5,
        "start_time": "2022-08-31T10:12:33.994Z"
      },
      {
        "duration": 11,
        "start_time": "2022-08-31T10:15:25.064Z"
      },
      {
        "duration": 9,
        "start_time": "2022-08-31T10:15:33.030Z"
      },
      {
        "duration": 5,
        "start_time": "2022-08-31T10:18:42.222Z"
      },
      {
        "duration": 4,
        "start_time": "2022-08-31T10:19:32.087Z"
      },
      {
        "duration": 7,
        "start_time": "2022-08-31T10:20:08.807Z"
      },
      {
        "duration": 5,
        "start_time": "2022-08-31T10:20:14.102Z"
      },
      {
        "duration": 972,
        "start_time": "2022-08-31T10:26:10.985Z"
      },
      {
        "duration": 13,
        "start_time": "2022-08-31T10:26:23.592Z"
      },
      {
        "duration": 4,
        "start_time": "2022-08-31T10:26:57.483Z"
      },
      {
        "duration": 10,
        "start_time": "2022-08-31T10:34:08.740Z"
      },
      {
        "duration": 7,
        "start_time": "2022-08-31T10:34:11.105Z"
      },
      {
        "duration": 3,
        "start_time": "2022-08-31T10:34:14.450Z"
      },
      {
        "duration": 19,
        "start_time": "2022-08-31T10:34:38.687Z"
      },
      {
        "duration": 5,
        "start_time": "2022-08-31T10:35:04.889Z"
      },
      {
        "duration": 8,
        "start_time": "2022-08-31T10:36:55.937Z"
      },
      {
        "duration": 8,
        "start_time": "2022-08-31T10:37:33.330Z"
      },
      {
        "duration": 8,
        "start_time": "2022-08-31T10:37:45.446Z"
      },
      {
        "duration": 23,
        "start_time": "2022-08-31T10:39:41.318Z"
      },
      {
        "duration": 4,
        "start_time": "2022-08-31T10:48:25.064Z"
      },
      {
        "duration": 4,
        "start_time": "2022-08-31T10:56:29.427Z"
      },
      {
        "duration": 8,
        "start_time": "2022-08-31T10:57:34.235Z"
      },
      {
        "duration": 14,
        "start_time": "2022-08-31T10:58:02.440Z"
      },
      {
        "duration": 13,
        "start_time": "2022-08-31T10:58:30.258Z"
      },
      {
        "duration": 15,
        "start_time": "2022-08-31T10:59:28.050Z"
      },
      {
        "duration": 95,
        "start_time": "2022-08-31T10:59:40.982Z"
      },
      {
        "duration": 14,
        "start_time": "2022-08-31T10:59:50.013Z"
      },
      {
        "duration": 274,
        "start_time": "2022-08-31T11:06:59.905Z"
      },
      {
        "duration": 8,
        "start_time": "2022-08-31T11:07:06.142Z"
      },
      {
        "duration": 9,
        "start_time": "2022-08-31T11:07:15.594Z"
      },
      {
        "duration": 9,
        "start_time": "2022-08-31T11:07:44.947Z"
      },
      {
        "duration": 8,
        "start_time": "2022-08-31T11:08:01.142Z"
      },
      {
        "duration": 9,
        "start_time": "2022-08-31T11:08:11.896Z"
      },
      {
        "duration": 7,
        "start_time": "2022-08-31T11:25:35.725Z"
      },
      {
        "duration": 4,
        "start_time": "2022-08-31T11:25:38.315Z"
      },
      {
        "duration": 339,
        "start_time": "2022-08-31T11:25:41.181Z"
      },
      {
        "duration": 4,
        "start_time": "2022-08-31T11:27:28.281Z"
      },
      {
        "duration": 256,
        "start_time": "2022-08-31T11:27:32.685Z"
      },
      {
        "duration": 440,
        "start_time": "2022-08-31T11:27:47.963Z"
      },
      {
        "duration": 9,
        "start_time": "2022-08-31T11:27:48.405Z"
      },
      {
        "duration": 19,
        "start_time": "2022-08-31T11:27:48.416Z"
      },
      {
        "duration": 23,
        "start_time": "2022-08-31T11:27:48.438Z"
      },
      {
        "duration": 16,
        "start_time": "2022-08-31T11:27:48.463Z"
      },
      {
        "duration": 30,
        "start_time": "2022-08-31T11:27:48.481Z"
      },
      {
        "duration": 39,
        "start_time": "2022-08-31T11:27:48.513Z"
      },
      {
        "duration": 45,
        "start_time": "2022-08-31T11:27:48.553Z"
      },
      {
        "duration": 38,
        "start_time": "2022-08-31T11:27:48.600Z"
      },
      {
        "duration": 23,
        "start_time": "2022-08-31T11:27:48.642Z"
      },
      {
        "duration": 40,
        "start_time": "2022-08-31T11:27:48.668Z"
      },
      {
        "duration": 21,
        "start_time": "2022-08-31T11:27:48.709Z"
      },
      {
        "duration": 41,
        "start_time": "2022-08-31T11:27:48.732Z"
      },
      {
        "duration": 25,
        "start_time": "2022-08-31T11:27:48.775Z"
      },
      {
        "duration": 34,
        "start_time": "2022-08-31T11:27:48.802Z"
      },
      {
        "duration": 32,
        "start_time": "2022-08-31T11:27:48.838Z"
      },
      {
        "duration": 22,
        "start_time": "2022-08-31T11:27:48.872Z"
      },
      {
        "duration": 42,
        "start_time": "2022-08-31T11:27:48.897Z"
      },
      {
        "duration": 67,
        "start_time": "2022-08-31T11:27:48.942Z"
      },
      {
        "duration": 19,
        "start_time": "2022-08-31T11:27:49.012Z"
      },
      {
        "duration": 21,
        "start_time": "2022-08-31T11:27:49.033Z"
      },
      {
        "duration": 54,
        "start_time": "2022-08-31T11:27:49.056Z"
      },
      {
        "duration": 27,
        "start_time": "2022-08-31T11:27:49.112Z"
      },
      {
        "duration": 21,
        "start_time": "2022-08-31T11:27:49.141Z"
      },
      {
        "duration": 46,
        "start_time": "2022-08-31T11:27:49.165Z"
      },
      {
        "duration": 21,
        "start_time": "2022-08-31T11:27:49.213Z"
      },
      {
        "duration": 29,
        "start_time": "2022-08-31T11:27:49.236Z"
      },
      {
        "duration": 23,
        "start_time": "2022-08-31T11:27:49.269Z"
      },
      {
        "duration": 36,
        "start_time": "2022-08-31T11:27:49.294Z"
      },
      {
        "duration": 53,
        "start_time": "2022-08-31T11:27:49.332Z"
      },
      {
        "duration": 41,
        "start_time": "2022-08-31T11:27:49.387Z"
      },
      {
        "duration": 28,
        "start_time": "2022-08-31T11:27:49.430Z"
      },
      {
        "duration": 30,
        "start_time": "2022-08-31T11:27:49.459Z"
      },
      {
        "duration": 51,
        "start_time": "2022-08-31T11:27:49.490Z"
      },
      {
        "duration": 34,
        "start_time": "2022-08-31T11:27:49.543Z"
      },
      {
        "duration": 53,
        "start_time": "2022-08-31T11:27:49.579Z"
      },
      {
        "duration": 29,
        "start_time": "2022-08-31T11:27:49.634Z"
      },
      {
        "duration": 49,
        "start_time": "2022-08-31T11:27:49.665Z"
      },
      {
        "duration": 26,
        "start_time": "2022-08-31T11:27:49.716Z"
      },
      {
        "duration": 12,
        "start_time": "2022-08-31T11:27:49.744Z"
      },
      {
        "duration": 47,
        "start_time": "2022-08-31T11:27:49.757Z"
      },
      {
        "duration": 11,
        "start_time": "2022-08-31T11:27:49.806Z"
      },
      {
        "duration": 37,
        "start_time": "2022-08-31T11:27:49.818Z"
      },
      {
        "duration": 31,
        "start_time": "2022-08-31T11:27:49.857Z"
      },
      {
        "duration": 37,
        "start_time": "2022-08-31T11:27:49.890Z"
      },
      {
        "duration": 50,
        "start_time": "2022-08-31T11:27:49.928Z"
      },
      {
        "duration": 22,
        "start_time": "2022-08-31T11:27:49.980Z"
      },
      {
        "duration": 47,
        "start_time": "2022-08-31T11:27:50.003Z"
      },
      {
        "duration": 14,
        "start_time": "2022-08-31T11:27:50.052Z"
      },
      {
        "duration": 39,
        "start_time": "2022-08-31T11:27:50.068Z"
      },
      {
        "duration": 29,
        "start_time": "2022-08-31T11:27:50.109Z"
      },
      {
        "duration": 28,
        "start_time": "2022-08-31T11:27:50.140Z"
      },
      {
        "duration": 30,
        "start_time": "2022-08-31T11:27:50.170Z"
      },
      {
        "duration": 53,
        "start_time": "2022-08-31T11:27:50.202Z"
      },
      {
        "duration": 16,
        "start_time": "2022-08-31T11:27:50.256Z"
      },
      {
        "duration": 34,
        "start_time": "2022-08-31T11:27:50.274Z"
      },
      {
        "duration": 24,
        "start_time": "2022-08-31T11:27:50.310Z"
      },
      {
        "duration": 37,
        "start_time": "2022-08-31T11:27:50.336Z"
      },
      {
        "duration": 44,
        "start_time": "2022-08-31T11:27:50.375Z"
      },
      {
        "duration": 22,
        "start_time": "2022-08-31T11:27:50.421Z"
      },
      {
        "duration": 33,
        "start_time": "2022-08-31T11:27:50.445Z"
      },
      {
        "duration": 39,
        "start_time": "2022-08-31T11:27:50.480Z"
      },
      {
        "duration": 24,
        "start_time": "2022-08-31T11:27:50.521Z"
      },
      {
        "duration": 42,
        "start_time": "2022-08-31T11:27:50.547Z"
      },
      {
        "duration": 23,
        "start_time": "2022-08-31T11:27:50.591Z"
      },
      {
        "duration": 39,
        "start_time": "2022-08-31T11:27:50.616Z"
      },
      {
        "duration": 56,
        "start_time": "2022-08-31T11:27:50.657Z"
      },
      {
        "duration": 45,
        "start_time": "2022-08-31T11:27:50.714Z"
      },
      {
        "duration": 3,
        "start_time": "2022-08-31T11:27:50.761Z"
      },
      {
        "duration": 502,
        "start_time": "2022-08-31T11:27:50.766Z"
      },
      {
        "duration": 0,
        "start_time": "2022-08-31T11:27:51.271Z"
      },
      {
        "duration": 0,
        "start_time": "2022-08-31T11:27:51.272Z"
      },
      {
        "duration": 0,
        "start_time": "2022-08-31T11:27:51.273Z"
      },
      {
        "duration": 0,
        "start_time": "2022-08-31T11:27:51.274Z"
      },
      {
        "duration": 0,
        "start_time": "2022-08-31T11:27:51.276Z"
      },
      {
        "duration": 5,
        "start_time": "2022-08-31T11:30:31.180Z"
      },
      {
        "duration": 4,
        "start_time": "2022-08-31T11:31:50.336Z"
      },
      {
        "duration": 201,
        "start_time": "2022-08-31T11:31:54.209Z"
      },
      {
        "duration": 4,
        "start_time": "2022-08-31T11:34:01.455Z"
      },
      {
        "duration": 801,
        "start_time": "2022-08-31T11:34:04.308Z"
      },
      {
        "duration": 3,
        "start_time": "2022-08-31T11:37:17.299Z"
      },
      {
        "duration": 8,
        "start_time": "2022-08-31T11:37:20.172Z"
      },
      {
        "duration": 6,
        "start_time": "2022-08-31T11:37:24.305Z"
      },
      {
        "duration": 7,
        "start_time": "2022-08-31T11:37:48.080Z"
      },
      {
        "duration": 9,
        "start_time": "2022-08-31T11:42:58.645Z"
      },
      {
        "duration": 9,
        "start_time": "2022-08-31T11:46:43.767Z"
      },
      {
        "duration": 17,
        "start_time": "2022-08-31T11:47:28.643Z"
      },
      {
        "duration": 13,
        "start_time": "2022-08-31T11:47:57.715Z"
      },
      {
        "duration": 13,
        "start_time": "2022-08-31T11:50:10.330Z"
      },
      {
        "duration": 9,
        "start_time": "2022-08-31T11:53:12.274Z"
      },
      {
        "duration": 7,
        "start_time": "2022-08-31T11:53:36.484Z"
      },
      {
        "duration": 12,
        "start_time": "2022-08-31T11:54:30.839Z"
      },
      {
        "duration": 10,
        "start_time": "2022-08-31T12:00:16.050Z"
      },
      {
        "duration": 8,
        "start_time": "2022-08-31T12:00:43.320Z"
      },
      {
        "duration": 11,
        "start_time": "2022-08-31T12:00:55.113Z"
      },
      {
        "duration": 9,
        "start_time": "2022-08-31T12:01:18.865Z"
      },
      {
        "duration": 9,
        "start_time": "2022-08-31T12:02:07.333Z"
      },
      {
        "duration": 13,
        "start_time": "2022-08-31T12:03:25.784Z"
      },
      {
        "duration": 9,
        "start_time": "2022-08-31T12:10:26.420Z"
      },
      {
        "duration": 10,
        "start_time": "2022-08-31T12:11:56.442Z"
      },
      {
        "duration": 12,
        "start_time": "2022-08-31T12:16:34.188Z"
      },
      {
        "duration": 9,
        "start_time": "2022-08-31T12:17:09.967Z"
      },
      {
        "duration": 12,
        "start_time": "2022-08-31T12:17:21.973Z"
      },
      {
        "duration": 1296,
        "start_time": "2022-08-31T12:18:12.877Z"
      },
      {
        "duration": 15,
        "start_time": "2022-08-31T12:19:14.583Z"
      },
      {
        "duration": 12,
        "start_time": "2022-08-31T12:19:46.451Z"
      },
      {
        "duration": 11,
        "start_time": "2022-08-31T12:20:30.761Z"
      },
      {
        "duration": 15,
        "start_time": "2022-08-31T12:20:59.042Z"
      },
      {
        "duration": 11,
        "start_time": "2022-08-31T12:21:24.787Z"
      },
      {
        "duration": 12,
        "start_time": "2022-08-31T12:21:49.043Z"
      },
      {
        "duration": 10,
        "start_time": "2022-08-31T12:22:39.663Z"
      },
      {
        "duration": 13,
        "start_time": "2022-08-31T12:25:34.812Z"
      },
      {
        "duration": 11,
        "start_time": "2022-08-31T12:26:36.882Z"
      },
      {
        "duration": 10,
        "start_time": "2022-08-31T12:27:26.447Z"
      },
      {
        "duration": 10,
        "start_time": "2022-08-31T12:50:19.649Z"
      },
      {
        "duration": 12,
        "start_time": "2022-08-31T13:16:11.233Z"
      },
      {
        "duration": 454,
        "start_time": "2022-08-31T13:16:59.153Z"
      },
      {
        "duration": 9,
        "start_time": "2022-08-31T13:16:59.609Z"
      },
      {
        "duration": 22,
        "start_time": "2022-08-31T13:16:59.619Z"
      },
      {
        "duration": 17,
        "start_time": "2022-08-31T13:16:59.643Z"
      },
      {
        "duration": 42,
        "start_time": "2022-08-31T13:16:59.662Z"
      },
      {
        "duration": 8,
        "start_time": "2022-08-31T13:16:59.706Z"
      },
      {
        "duration": 26,
        "start_time": "2022-08-31T13:16:59.716Z"
      },
      {
        "duration": 11,
        "start_time": "2022-08-31T13:16:59.744Z"
      },
      {
        "duration": 6,
        "start_time": "2022-08-31T13:16:59.756Z"
      },
      {
        "duration": 7,
        "start_time": "2022-08-31T13:16:59.764Z"
      },
      {
        "duration": 32,
        "start_time": "2022-08-31T13:16:59.772Z"
      },
      {
        "duration": 9,
        "start_time": "2022-08-31T13:16:59.806Z"
      },
      {
        "duration": 13,
        "start_time": "2022-08-31T13:16:59.816Z"
      },
      {
        "duration": 8,
        "start_time": "2022-08-31T13:16:59.830Z"
      },
      {
        "duration": 9,
        "start_time": "2022-08-31T13:16:59.840Z"
      },
      {
        "duration": 7,
        "start_time": "2022-08-31T13:16:59.851Z"
      },
      {
        "duration": 6,
        "start_time": "2022-08-31T13:16:59.859Z"
      },
      {
        "duration": 40,
        "start_time": "2022-08-31T13:16:59.867Z"
      },
      {
        "duration": 27,
        "start_time": "2022-08-31T13:16:59.909Z"
      },
      {
        "duration": 15,
        "start_time": "2022-08-31T13:16:59.938Z"
      },
      {
        "duration": 9,
        "start_time": "2022-08-31T13:16:59.955Z"
      },
      {
        "duration": 42,
        "start_time": "2022-08-31T13:16:59.966Z"
      },
      {
        "duration": 7,
        "start_time": "2022-08-31T13:17:00.010Z"
      },
      {
        "duration": 13,
        "start_time": "2022-08-31T13:17:00.019Z"
      },
      {
        "duration": 12,
        "start_time": "2022-08-31T13:17:00.033Z"
      },
      {
        "duration": 14,
        "start_time": "2022-08-31T13:17:00.046Z"
      },
      {
        "duration": 5,
        "start_time": "2022-08-31T13:17:00.063Z"
      },
      {
        "duration": 13,
        "start_time": "2022-08-31T13:17:00.072Z"
      },
      {
        "duration": 7,
        "start_time": "2022-08-31T13:17:00.103Z"
      },
      {
        "duration": 25,
        "start_time": "2022-08-31T13:17:00.112Z"
      },
      {
        "duration": 11,
        "start_time": "2022-08-31T13:17:00.138Z"
      },
      {
        "duration": 9,
        "start_time": "2022-08-31T13:17:00.151Z"
      },
      {
        "duration": 9,
        "start_time": "2022-08-31T13:17:00.162Z"
      },
      {
        "duration": 37,
        "start_time": "2022-08-31T13:17:00.173Z"
      },
      {
        "duration": 22,
        "start_time": "2022-08-31T13:17:00.211Z"
      },
      {
        "duration": 23,
        "start_time": "2022-08-31T13:17:00.235Z"
      },
      {
        "duration": 44,
        "start_time": "2022-08-31T13:17:00.260Z"
      },
      {
        "duration": 27,
        "start_time": "2022-08-31T13:17:00.306Z"
      },
      {
        "duration": 4,
        "start_time": "2022-08-31T13:17:00.335Z"
      },
      {
        "duration": 21,
        "start_time": "2022-08-31T13:17:00.340Z"
      },
      {
        "duration": 20,
        "start_time": "2022-08-31T13:17:00.362Z"
      },
      {
        "duration": 3,
        "start_time": "2022-08-31T13:17:00.384Z"
      },
      {
        "duration": 16,
        "start_time": "2022-08-31T13:17:00.389Z"
      },
      {
        "duration": 46,
        "start_time": "2022-08-31T13:17:00.406Z"
      },
      {
        "duration": 24,
        "start_time": "2022-08-31T13:17:00.454Z"
      },
      {
        "duration": 37,
        "start_time": "2022-08-31T13:17:00.481Z"
      },
      {
        "duration": 9,
        "start_time": "2022-08-31T13:17:00.520Z"
      },
      {
        "duration": 55,
        "start_time": "2022-08-31T13:17:00.531Z"
      },
      {
        "duration": 38,
        "start_time": "2022-08-31T13:17:00.589Z"
      },
      {
        "duration": 57,
        "start_time": "2022-08-31T13:17:00.629Z"
      },
      {
        "duration": 52,
        "start_time": "2022-08-31T13:17:00.688Z"
      },
      {
        "duration": 63,
        "start_time": "2022-08-31T13:17:00.742Z"
      },
      {
        "duration": 55,
        "start_time": "2022-08-31T13:17:00.807Z"
      },
      {
        "duration": 56,
        "start_time": "2022-08-31T13:17:00.864Z"
      },
      {
        "duration": 8,
        "start_time": "2022-08-31T13:17:00.922Z"
      },
      {
        "duration": 31,
        "start_time": "2022-08-31T13:17:00.931Z"
      },
      {
        "duration": 10,
        "start_time": "2022-08-31T13:17:00.964Z"
      },
      {
        "duration": 17,
        "start_time": "2022-08-31T13:17:00.976Z"
      },
      {
        "duration": 22,
        "start_time": "2022-08-31T13:17:00.994Z"
      },
      {
        "duration": 33,
        "start_time": "2022-08-31T13:17:01.017Z"
      },
      {
        "duration": 33,
        "start_time": "2022-08-31T13:17:01.052Z"
      },
      {
        "duration": 24,
        "start_time": "2022-08-31T13:17:01.087Z"
      },
      {
        "duration": 13,
        "start_time": "2022-08-31T13:17:01.113Z"
      },
      {
        "duration": 41,
        "start_time": "2022-08-31T13:17:01.128Z"
      },
      {
        "duration": 12,
        "start_time": "2022-08-31T13:17:01.170Z"
      },
      {
        "duration": 92,
        "start_time": "2022-08-31T13:17:01.184Z"
      },
      {
        "duration": 0,
        "start_time": "2022-08-31T13:17:01.278Z"
      },
      {
        "duration": 0,
        "start_time": "2022-08-31T13:17:01.280Z"
      },
      {
        "duration": 0,
        "start_time": "2022-08-31T13:17:01.281Z"
      },
      {
        "duration": 0,
        "start_time": "2022-08-31T13:17:01.283Z"
      },
      {
        "duration": 0,
        "start_time": "2022-08-31T13:17:01.285Z"
      },
      {
        "duration": 0,
        "start_time": "2022-08-31T13:17:01.286Z"
      },
      {
        "duration": 0,
        "start_time": "2022-08-31T13:17:01.288Z"
      },
      {
        "duration": 0,
        "start_time": "2022-08-31T13:17:01.289Z"
      },
      {
        "duration": 0,
        "start_time": "2022-08-31T13:17:01.291Z"
      },
      {
        "duration": 4,
        "start_time": "2022-08-31T13:18:57.332Z"
      },
      {
        "duration": 14,
        "start_time": "2022-08-31T13:19:01.409Z"
      },
      {
        "duration": 504,
        "start_time": "2022-08-31T13:19:21.774Z"
      },
      {
        "duration": 9,
        "start_time": "2022-08-31T13:19:22.281Z"
      },
      {
        "duration": 18,
        "start_time": "2022-08-31T13:19:22.292Z"
      },
      {
        "duration": 19,
        "start_time": "2022-08-31T13:19:22.313Z"
      },
      {
        "duration": 14,
        "start_time": "2022-08-31T13:19:22.334Z"
      },
      {
        "duration": 11,
        "start_time": "2022-08-31T13:19:22.350Z"
      },
      {
        "duration": 41,
        "start_time": "2022-08-31T13:19:22.362Z"
      },
      {
        "duration": 9,
        "start_time": "2022-08-31T13:19:22.405Z"
      },
      {
        "duration": 10,
        "start_time": "2022-08-31T13:19:22.417Z"
      },
      {
        "duration": 13,
        "start_time": "2022-08-31T13:19:22.430Z"
      },
      {
        "duration": 9,
        "start_time": "2022-08-31T13:19:22.446Z"
      },
      {
        "duration": 16,
        "start_time": "2022-08-31T13:19:22.457Z"
      },
      {
        "duration": 28,
        "start_time": "2022-08-31T13:19:22.475Z"
      },
      {
        "duration": 9,
        "start_time": "2022-08-31T13:19:22.504Z"
      },
      {
        "duration": 15,
        "start_time": "2022-08-31T13:19:22.514Z"
      },
      {
        "duration": 10,
        "start_time": "2022-08-31T13:19:22.531Z"
      },
      {
        "duration": 9,
        "start_time": "2022-08-31T13:19:22.543Z"
      },
      {
        "duration": 9,
        "start_time": "2022-08-31T13:19:22.554Z"
      },
      {
        "duration": 39,
        "start_time": "2022-08-31T13:19:22.565Z"
      },
      {
        "duration": 26,
        "start_time": "2022-08-31T13:19:22.605Z"
      },
      {
        "duration": 21,
        "start_time": "2022-08-31T13:19:22.633Z"
      },
      {
        "duration": 10,
        "start_time": "2022-08-31T13:19:22.657Z"
      },
      {
        "duration": 7,
        "start_time": "2022-08-31T13:19:22.669Z"
      },
      {
        "duration": 25,
        "start_time": "2022-08-31T13:19:22.678Z"
      },
      {
        "duration": 7,
        "start_time": "2022-08-31T13:19:22.705Z"
      },
      {
        "duration": 11,
        "start_time": "2022-08-31T13:19:22.713Z"
      },
      {
        "duration": 10,
        "start_time": "2022-08-31T13:19:22.726Z"
      },
      {
        "duration": 8,
        "start_time": "2022-08-31T13:19:22.740Z"
      },
      {
        "duration": 12,
        "start_time": "2022-08-31T13:19:22.750Z"
      },
      {
        "duration": 16,
        "start_time": "2022-08-31T13:19:22.764Z"
      },
      {
        "duration": 21,
        "start_time": "2022-08-31T13:19:22.782Z"
      },
      {
        "duration": 10,
        "start_time": "2022-08-31T13:19:22.805Z"
      },
      {
        "duration": 12,
        "start_time": "2022-08-31T13:19:22.817Z"
      },
      {
        "duration": 8,
        "start_time": "2022-08-31T13:19:22.830Z"
      },
      {
        "duration": 12,
        "start_time": "2022-08-31T13:19:22.839Z"
      },
      {
        "duration": 24,
        "start_time": "2022-08-31T13:19:22.853Z"
      },
      {
        "duration": 37,
        "start_time": "2022-08-31T13:19:22.878Z"
      },
      {
        "duration": 21,
        "start_time": "2022-08-31T13:19:22.917Z"
      },
      {
        "duration": 4,
        "start_time": "2022-08-31T13:19:22.940Z"
      },
      {
        "duration": 7,
        "start_time": "2022-08-31T13:19:22.946Z"
      },
      {
        "duration": 19,
        "start_time": "2022-08-31T13:19:22.955Z"
      },
      {
        "duration": 4,
        "start_time": "2022-08-31T13:19:23.005Z"
      },
      {
        "duration": 8,
        "start_time": "2022-08-31T13:19:23.011Z"
      },
      {
        "duration": 9,
        "start_time": "2022-08-31T13:19:23.020Z"
      },
      {
        "duration": 20,
        "start_time": "2022-08-31T13:19:23.031Z"
      },
      {
        "duration": 31,
        "start_time": "2022-08-31T13:19:23.053Z"
      },
      {
        "duration": 8,
        "start_time": "2022-08-31T13:19:23.104Z"
      },
      {
        "duration": 13,
        "start_time": "2022-08-31T13:19:23.114Z"
      },
      {
        "duration": 7,
        "start_time": "2022-08-31T13:19:23.128Z"
      },
      {
        "duration": 10,
        "start_time": "2022-08-31T13:19:23.137Z"
      },
      {
        "duration": 23,
        "start_time": "2022-08-31T13:19:23.148Z"
      },
      {
        "duration": 11,
        "start_time": "2022-08-31T13:19:23.173Z"
      },
      {
        "duration": 17,
        "start_time": "2022-08-31T13:19:23.186Z"
      },
      {
        "duration": 22,
        "start_time": "2022-08-31T13:19:23.205Z"
      },
      {
        "duration": 8,
        "start_time": "2022-08-31T13:19:23.229Z"
      },
      {
        "duration": 8,
        "start_time": "2022-08-31T13:19:23.238Z"
      },
      {
        "duration": 5,
        "start_time": "2022-08-31T13:19:23.248Z"
      },
      {
        "duration": 7,
        "start_time": "2022-08-31T13:19:23.255Z"
      },
      {
        "duration": 47,
        "start_time": "2022-08-31T13:19:23.263Z"
      },
      {
        "duration": 5,
        "start_time": "2022-08-31T13:19:23.312Z"
      },
      {
        "duration": 16,
        "start_time": "2022-08-31T13:19:23.318Z"
      },
      {
        "duration": 19,
        "start_time": "2022-08-31T13:19:23.336Z"
      },
      {
        "duration": 8,
        "start_time": "2022-08-31T13:19:23.357Z"
      },
      {
        "duration": 42,
        "start_time": "2022-08-31T13:19:23.366Z"
      },
      {
        "duration": 4,
        "start_time": "2022-08-31T13:19:23.410Z"
      },
      {
        "duration": 33,
        "start_time": "2022-08-31T13:19:23.416Z"
      },
      {
        "duration": 27,
        "start_time": "2022-08-31T13:19:23.450Z"
      },
      {
        "duration": 21,
        "start_time": "2022-08-31T13:19:23.479Z"
      },
      {
        "duration": 35,
        "start_time": "2022-08-31T13:19:23.503Z"
      },
      {
        "duration": 19,
        "start_time": "2022-08-31T13:19:23.541Z"
      },
      {
        "duration": 26,
        "start_time": "2022-08-31T13:19:23.562Z"
      },
      {
        "duration": 42,
        "start_time": "2022-08-31T13:19:23.591Z"
      },
      {
        "duration": 20,
        "start_time": "2022-08-31T13:19:23.636Z"
      },
      {
        "duration": 13,
        "start_time": "2022-08-31T13:19:23.657Z"
      },
      {
        "duration": 15,
        "start_time": "2022-08-31T13:19:23.672Z"
      },
      {
        "duration": 6,
        "start_time": "2022-08-31T13:25:25.877Z"
      },
      {
        "duration": 5,
        "start_time": "2022-08-31T13:25:39.122Z"
      },
      {
        "duration": 440,
        "start_time": "2022-08-31T13:25:58.161Z"
      },
      {
        "duration": 9,
        "start_time": "2022-08-31T13:25:58.603Z"
      },
      {
        "duration": 22,
        "start_time": "2022-08-31T13:25:58.613Z"
      },
      {
        "duration": 16,
        "start_time": "2022-08-31T13:25:58.637Z"
      },
      {
        "duration": 19,
        "start_time": "2022-08-31T13:25:58.655Z"
      },
      {
        "duration": 31,
        "start_time": "2022-08-31T13:25:58.676Z"
      },
      {
        "duration": 31,
        "start_time": "2022-08-31T13:25:58.709Z"
      },
      {
        "duration": 8,
        "start_time": "2022-08-31T13:25:58.742Z"
      },
      {
        "duration": 27,
        "start_time": "2022-08-31T13:25:58.751Z"
      },
      {
        "duration": 8,
        "start_time": "2022-08-31T13:25:58.781Z"
      },
      {
        "duration": 11,
        "start_time": "2022-08-31T13:25:58.791Z"
      },
      {
        "duration": 9,
        "start_time": "2022-08-31T13:25:58.804Z"
      },
      {
        "duration": 18,
        "start_time": "2022-08-31T13:25:58.816Z"
      },
      {
        "duration": 24,
        "start_time": "2022-08-31T13:25:58.835Z"
      },
      {
        "duration": 13,
        "start_time": "2022-08-31T13:25:58.863Z"
      },
      {
        "duration": 18,
        "start_time": "2022-08-31T13:25:58.880Z"
      },
      {
        "duration": 11,
        "start_time": "2022-08-31T13:25:58.900Z"
      },
      {
        "duration": 22,
        "start_time": "2022-08-31T13:25:58.914Z"
      },
      {
        "duration": 41,
        "start_time": "2022-08-31T13:25:58.938Z"
      },
      {
        "duration": 19,
        "start_time": "2022-08-31T13:25:58.980Z"
      },
      {
        "duration": 11,
        "start_time": "2022-08-31T13:25:59.003Z"
      },
      {
        "duration": 5,
        "start_time": "2022-08-31T13:26:01.611Z"
      },
      {
        "duration": 10,
        "start_time": "2022-08-31T13:26:28.027Z"
      },
      {
        "duration": 6,
        "start_time": "2022-08-31T13:26:30.909Z"
      },
      {
        "duration": 475,
        "start_time": "2022-08-31T13:27:05.925Z"
      },
      {
        "duration": 11,
        "start_time": "2022-08-31T13:27:06.402Z"
      },
      {
        "duration": 31,
        "start_time": "2022-08-31T13:27:06.415Z"
      },
      {
        "duration": 24,
        "start_time": "2022-08-31T13:27:06.449Z"
      },
      {
        "duration": 29,
        "start_time": "2022-08-31T13:27:06.475Z"
      },
      {
        "duration": 13,
        "start_time": "2022-08-31T13:27:06.506Z"
      },
      {
        "duration": 15,
        "start_time": "2022-08-31T13:27:06.521Z"
      },
      {
        "duration": 14,
        "start_time": "2022-08-31T13:27:06.538Z"
      },
      {
        "duration": 11,
        "start_time": "2022-08-31T13:27:06.554Z"
      },
      {
        "duration": 21,
        "start_time": "2022-08-31T13:27:06.567Z"
      },
      {
        "duration": 16,
        "start_time": "2022-08-31T13:27:06.590Z"
      },
      {
        "duration": 13,
        "start_time": "2022-08-31T13:27:06.608Z"
      },
      {
        "duration": 14,
        "start_time": "2022-08-31T13:27:06.624Z"
      },
      {
        "duration": 14,
        "start_time": "2022-08-31T13:27:06.641Z"
      },
      {
        "duration": 11,
        "start_time": "2022-08-31T13:27:06.657Z"
      },
      {
        "duration": 14,
        "start_time": "2022-08-31T13:27:06.671Z"
      },
      {
        "duration": 20,
        "start_time": "2022-08-31T13:27:06.687Z"
      },
      {
        "duration": 13,
        "start_time": "2022-08-31T13:27:06.709Z"
      },
      {
        "duration": 30,
        "start_time": "2022-08-31T13:27:06.724Z"
      },
      {
        "duration": 16,
        "start_time": "2022-08-31T13:27:06.756Z"
      },
      {
        "duration": 10,
        "start_time": "2022-08-31T13:27:11.511Z"
      },
      {
        "duration": 5,
        "start_time": "2022-08-31T13:27:14.749Z"
      },
      {
        "duration": 6,
        "start_time": "2022-08-31T13:29:02.866Z"
      },
      {
        "duration": 69,
        "start_time": "2022-08-31T13:29:10.955Z"
      },
      {
        "duration": 10,
        "start_time": "2022-08-31T13:29:28.132Z"
      },
      {
        "duration": 10,
        "start_time": "2022-08-31T13:29:47.176Z"
      },
      {
        "duration": 8,
        "start_time": "2022-08-31T13:30:05.579Z"
      },
      {
        "duration": 4,
        "start_time": "2022-08-31T13:30:17.190Z"
      },
      {
        "duration": 10,
        "start_time": "2022-08-31T13:40:14.284Z"
      },
      {
        "duration": 7,
        "start_time": "2022-08-31T13:40:24.410Z"
      },
      {
        "duration": 485,
        "start_time": "2022-08-31T13:40:47.006Z"
      },
      {
        "duration": 10,
        "start_time": "2022-08-31T13:40:47.493Z"
      },
      {
        "duration": 25,
        "start_time": "2022-08-31T13:40:47.505Z"
      },
      {
        "duration": 25,
        "start_time": "2022-08-31T13:40:47.532Z"
      },
      {
        "duration": 17,
        "start_time": "2022-08-31T13:40:47.559Z"
      },
      {
        "duration": 7,
        "start_time": "2022-08-31T13:40:47.577Z"
      },
      {
        "duration": 28,
        "start_time": "2022-08-31T13:40:47.586Z"
      },
      {
        "duration": 11,
        "start_time": "2022-08-31T13:40:47.616Z"
      },
      {
        "duration": 10,
        "start_time": "2022-08-31T13:40:47.628Z"
      },
      {
        "duration": 14,
        "start_time": "2022-08-31T13:40:47.640Z"
      },
      {
        "duration": 18,
        "start_time": "2022-08-31T13:40:47.657Z"
      },
      {
        "duration": 15,
        "start_time": "2022-08-31T13:40:47.677Z"
      },
      {
        "duration": 37,
        "start_time": "2022-08-31T13:40:47.694Z"
      },
      {
        "duration": 16,
        "start_time": "2022-08-31T13:40:47.732Z"
      },
      {
        "duration": 13,
        "start_time": "2022-08-31T13:40:47.749Z"
      },
      {
        "duration": 9,
        "start_time": "2022-08-31T13:40:47.764Z"
      },
      {
        "duration": 7,
        "start_time": "2022-08-31T13:40:47.774Z"
      },
      {
        "duration": 19,
        "start_time": "2022-08-31T13:40:47.783Z"
      },
      {
        "duration": 27,
        "start_time": "2022-08-31T13:40:47.804Z"
      },
      {
        "duration": 21,
        "start_time": "2022-08-31T13:40:47.833Z"
      },
      {
        "duration": 3,
        "start_time": "2022-08-31T13:40:55.968Z"
      },
      {
        "duration": 5,
        "start_time": "2022-08-31T13:41:31.334Z"
      },
      {
        "duration": 7,
        "start_time": "2022-08-31T13:41:46.049Z"
      },
      {
        "duration": 6,
        "start_time": "2022-08-31T13:41:49.206Z"
      },
      {
        "duration": 500,
        "start_time": "2022-08-31T13:42:09.276Z"
      },
      {
        "duration": 8,
        "start_time": "2022-08-31T13:42:09.778Z"
      },
      {
        "duration": 19,
        "start_time": "2022-08-31T13:42:09.788Z"
      },
      {
        "duration": 17,
        "start_time": "2022-08-31T13:42:09.809Z"
      },
      {
        "duration": 15,
        "start_time": "2022-08-31T13:42:09.828Z"
      },
      {
        "duration": 9,
        "start_time": "2022-08-31T13:42:09.845Z"
      },
      {
        "duration": 17,
        "start_time": "2022-08-31T13:42:09.856Z"
      },
      {
        "duration": 4,
        "start_time": "2022-08-31T13:42:09.902Z"
      },
      {
        "duration": 16,
        "start_time": "2022-08-31T13:42:09.908Z"
      },
      {
        "duration": 11,
        "start_time": "2022-08-31T13:42:09.926Z"
      },
      {
        "duration": 7,
        "start_time": "2022-08-31T13:42:09.939Z"
      },
      {
        "duration": 9,
        "start_time": "2022-08-31T13:42:09.948Z"
      },
      {
        "duration": 12,
        "start_time": "2022-08-31T13:42:09.960Z"
      },
      {
        "duration": 31,
        "start_time": "2022-08-31T13:42:09.974Z"
      },
      {
        "duration": 8,
        "start_time": "2022-08-31T13:42:10.007Z"
      },
      {
        "duration": 8,
        "start_time": "2022-08-31T13:42:10.017Z"
      },
      {
        "duration": 17,
        "start_time": "2022-08-31T13:42:10.027Z"
      },
      {
        "duration": 13,
        "start_time": "2022-08-31T13:42:10.046Z"
      },
      {
        "duration": 41,
        "start_time": "2022-08-31T13:42:10.061Z"
      },
      {
        "duration": 15,
        "start_time": "2022-08-31T13:42:10.104Z"
      },
      {
        "duration": 6,
        "start_time": "2022-08-31T13:42:13.383Z"
      },
      {
        "duration": 6,
        "start_time": "2022-08-31T13:42:16.332Z"
      },
      {
        "duration": 478,
        "start_time": "2022-08-31T13:51:24.911Z"
      },
      {
        "duration": 8,
        "start_time": "2022-08-31T13:51:25.391Z"
      },
      {
        "duration": 20,
        "start_time": "2022-08-31T13:51:25.400Z"
      },
      {
        "duration": 15,
        "start_time": "2022-08-31T13:51:25.421Z"
      },
      {
        "duration": 13,
        "start_time": "2022-08-31T13:51:25.438Z"
      },
      {
        "duration": 14,
        "start_time": "2022-08-31T13:51:25.453Z"
      },
      {
        "duration": 14,
        "start_time": "2022-08-31T13:51:25.469Z"
      },
      {
        "duration": 4,
        "start_time": "2022-08-31T13:51:25.502Z"
      },
      {
        "duration": 7,
        "start_time": "2022-08-31T13:51:25.507Z"
      },
      {
        "duration": 13,
        "start_time": "2022-08-31T13:51:25.516Z"
      },
      {
        "duration": 8,
        "start_time": "2022-08-31T13:51:25.532Z"
      },
      {
        "duration": 25,
        "start_time": "2022-08-31T13:51:25.541Z"
      },
      {
        "duration": 16,
        "start_time": "2022-08-31T13:51:25.568Z"
      },
      {
        "duration": 14,
        "start_time": "2022-08-31T13:51:25.586Z"
      },
      {
        "duration": 12,
        "start_time": "2022-08-31T13:51:25.602Z"
      },
      {
        "duration": 10,
        "start_time": "2022-08-31T13:51:25.616Z"
      },
      {
        "duration": 7,
        "start_time": "2022-08-31T13:51:25.628Z"
      },
      {
        "duration": 27,
        "start_time": "2022-08-31T13:51:25.636Z"
      },
      {
        "duration": 29,
        "start_time": "2022-08-31T13:51:25.664Z"
      },
      {
        "duration": 15,
        "start_time": "2022-08-31T13:51:25.695Z"
      },
      {
        "duration": 5,
        "start_time": "2022-08-31T13:51:25.711Z"
      },
      {
        "duration": 16,
        "start_time": "2022-08-31T13:51:25.717Z"
      },
      {
        "duration": 7,
        "start_time": "2022-08-31T13:51:25.734Z"
      },
      {
        "duration": 19,
        "start_time": "2022-08-31T13:51:25.744Z"
      },
      {
        "duration": 34,
        "start_time": "2022-08-31T13:51:25.765Z"
      },
      {
        "duration": 25,
        "start_time": "2022-08-31T13:51:25.801Z"
      },
      {
        "duration": 9,
        "start_time": "2022-08-31T13:51:25.827Z"
      },
      {
        "duration": 21,
        "start_time": "2022-08-31T13:51:25.840Z"
      },
      {
        "duration": 25,
        "start_time": "2022-08-31T13:51:25.863Z"
      },
      {
        "duration": 39,
        "start_time": "2022-08-31T13:51:25.890Z"
      },
      {
        "duration": 10,
        "start_time": "2022-08-31T13:51:25.931Z"
      },
      {
        "duration": 20,
        "start_time": "2022-08-31T13:51:25.943Z"
      },
      {
        "duration": 10,
        "start_time": "2022-08-31T13:51:25.965Z"
      },
      {
        "duration": 14,
        "start_time": "2022-08-31T13:51:25.976Z"
      },
      {
        "duration": 8,
        "start_time": "2022-08-31T13:51:25.992Z"
      },
      {
        "duration": 23,
        "start_time": "2022-08-31T13:51:26.002Z"
      },
      {
        "duration": 18,
        "start_time": "2022-08-31T13:51:26.026Z"
      },
      {
        "duration": 17,
        "start_time": "2022-08-31T13:51:26.046Z"
      },
      {
        "duration": 4,
        "start_time": "2022-08-31T13:51:26.064Z"
      },
      {
        "duration": 8,
        "start_time": "2022-08-31T13:51:26.069Z"
      },
      {
        "duration": 33,
        "start_time": "2022-08-31T13:51:26.079Z"
      },
      {
        "duration": 4,
        "start_time": "2022-08-31T13:51:26.114Z"
      },
      {
        "duration": 6,
        "start_time": "2022-08-31T13:51:26.120Z"
      },
      {
        "duration": 12,
        "start_time": "2022-08-31T13:51:26.128Z"
      },
      {
        "duration": 14,
        "start_time": "2022-08-31T13:51:26.142Z"
      },
      {
        "duration": 51,
        "start_time": "2022-08-31T13:51:26.158Z"
      },
      {
        "duration": 8,
        "start_time": "2022-08-31T13:51:26.211Z"
      },
      {
        "duration": 11,
        "start_time": "2022-08-31T13:51:26.220Z"
      },
      {
        "duration": 4,
        "start_time": "2022-08-31T13:51:26.233Z"
      },
      {
        "duration": 10,
        "start_time": "2022-08-31T13:51:26.239Z"
      },
      {
        "duration": 14,
        "start_time": "2022-08-31T13:51:26.251Z"
      },
      {
        "duration": 7,
        "start_time": "2022-08-31T13:51:26.267Z"
      },
      {
        "duration": 27,
        "start_time": "2022-08-31T13:51:26.276Z"
      },
      {
        "duration": 22,
        "start_time": "2022-08-31T13:51:26.305Z"
      },
      {
        "duration": 7,
        "start_time": "2022-08-31T13:51:26.329Z"
      },
      {
        "duration": 8,
        "start_time": "2022-08-31T13:51:26.338Z"
      },
      {
        "duration": 4,
        "start_time": "2022-08-31T13:51:26.347Z"
      },
      {
        "duration": 10,
        "start_time": "2022-08-31T13:51:26.353Z"
      },
      {
        "duration": 12,
        "start_time": "2022-08-31T13:51:26.364Z"
      },
      {
        "duration": 5,
        "start_time": "2022-08-31T13:51:26.402Z"
      },
      {
        "duration": 34,
        "start_time": "2022-08-31T13:51:26.409Z"
      },
      {
        "duration": 23,
        "start_time": "2022-08-31T13:51:26.445Z"
      },
      {
        "duration": 6,
        "start_time": "2022-08-31T13:51:26.470Z"
      },
      {
        "duration": 17,
        "start_time": "2022-08-31T13:51:26.478Z"
      },
      {
        "duration": 5,
        "start_time": "2022-08-31T13:51:26.497Z"
      },
      {
        "duration": 17,
        "start_time": "2022-08-31T13:51:26.504Z"
      },
      {
        "duration": 10,
        "start_time": "2022-08-31T13:51:26.523Z"
      },
      {
        "duration": 10,
        "start_time": "2022-08-31T13:51:26.534Z"
      },
      {
        "duration": 3,
        "start_time": "2022-08-31T13:51:26.546Z"
      },
      {
        "duration": 12,
        "start_time": "2022-08-31T13:51:26.551Z"
      },
      {
        "duration": 22,
        "start_time": "2022-08-31T13:51:26.565Z"
      },
      {
        "duration": 24,
        "start_time": "2022-08-31T13:51:26.588Z"
      },
      {
        "duration": 12,
        "start_time": "2022-08-31T13:51:26.614Z"
      },
      {
        "duration": 11,
        "start_time": "2022-08-31T13:51:26.628Z"
      },
      {
        "duration": 8,
        "start_time": "2022-08-31T13:51:26.640Z"
      },
      {
        "duration": 916,
        "start_time": "2022-08-31T13:54:09.258Z"
      },
      {
        "duration": 1081,
        "start_time": "2022-08-31T13:54:44.384Z"
      },
      {
        "duration": 10,
        "start_time": "2022-08-31T13:55:07.339Z"
      },
      {
        "duration": 4,
        "start_time": "2022-08-31T13:55:10.852Z"
      },
      {
        "duration": 10,
        "start_time": "2022-08-31T13:55:24.394Z"
      },
      {
        "duration": 3,
        "start_time": "2022-08-31T13:57:19.215Z"
      },
      {
        "duration": 5,
        "start_time": "2022-08-31T13:57:31.214Z"
      },
      {
        "duration": 502,
        "start_time": "2022-08-31T13:57:51.184Z"
      },
      {
        "duration": 10,
        "start_time": "2022-08-31T13:57:51.688Z"
      },
      {
        "duration": 21,
        "start_time": "2022-08-31T13:57:51.699Z"
      },
      {
        "duration": 15,
        "start_time": "2022-08-31T13:57:51.722Z"
      },
      {
        "duration": 15,
        "start_time": "2022-08-31T13:57:51.738Z"
      },
      {
        "duration": 8,
        "start_time": "2022-08-31T13:57:51.754Z"
      },
      {
        "duration": 41,
        "start_time": "2022-08-31T13:57:51.764Z"
      },
      {
        "duration": 22,
        "start_time": "2022-08-31T13:57:51.806Z"
      },
      {
        "duration": 9,
        "start_time": "2022-08-31T13:57:51.829Z"
      },
      {
        "duration": 10,
        "start_time": "2022-08-31T13:57:51.840Z"
      },
      {
        "duration": 7,
        "start_time": "2022-08-31T13:57:51.853Z"
      },
      {
        "duration": 12,
        "start_time": "2022-08-31T13:57:51.861Z"
      },
      {
        "duration": 17,
        "start_time": "2022-08-31T13:57:51.874Z"
      },
      {
        "duration": 17,
        "start_time": "2022-08-31T13:57:51.893Z"
      },
      {
        "duration": 29,
        "start_time": "2022-08-31T13:57:51.912Z"
      },
      {
        "duration": 8,
        "start_time": "2022-08-31T13:57:51.943Z"
      },
      {
        "duration": 6,
        "start_time": "2022-08-31T13:57:51.953Z"
      },
      {
        "duration": 7,
        "start_time": "2022-08-31T13:57:51.961Z"
      },
      {
        "duration": 39,
        "start_time": "2022-08-31T13:57:51.970Z"
      },
      {
        "duration": 17,
        "start_time": "2022-08-31T13:57:52.010Z"
      },
      {
        "duration": 14,
        "start_time": "2022-08-31T13:57:52.029Z"
      },
      {
        "duration": 11,
        "start_time": "2022-08-31T13:57:52.045Z"
      },
      {
        "duration": 7,
        "start_time": "2022-08-31T13:57:52.059Z"
      },
      {
        "duration": 17,
        "start_time": "2022-08-31T13:57:52.067Z"
      },
      {
        "duration": 22,
        "start_time": "2022-08-31T13:57:52.086Z"
      },
      {
        "duration": 13,
        "start_time": "2022-08-31T13:57:52.110Z"
      },
      {
        "duration": 22,
        "start_time": "2022-08-31T13:57:52.125Z"
      },
      {
        "duration": 20,
        "start_time": "2022-08-31T13:57:52.151Z"
      },
      {
        "duration": 12,
        "start_time": "2022-08-31T13:57:52.172Z"
      },
      {
        "duration": 17,
        "start_time": "2022-08-31T13:57:52.185Z"
      },
      {
        "duration": 8,
        "start_time": "2022-08-31T13:57:52.204Z"
      },
      {
        "duration": 10,
        "start_time": "2022-08-31T13:57:52.214Z"
      },
      {
        "duration": 9,
        "start_time": "2022-08-31T13:57:52.225Z"
      },
      {
        "duration": 9,
        "start_time": "2022-08-31T13:57:52.236Z"
      },
      {
        "duration": 18,
        "start_time": "2022-08-31T13:57:52.246Z"
      },
      {
        "duration": 20,
        "start_time": "2022-08-31T13:57:52.266Z"
      },
      {
        "duration": 33,
        "start_time": "2022-08-31T13:57:52.288Z"
      },
      {
        "duration": 17,
        "start_time": "2022-08-31T13:57:52.322Z"
      },
      {
        "duration": 3,
        "start_time": "2022-08-31T13:57:52.342Z"
      },
      {
        "duration": 5,
        "start_time": "2022-08-31T13:57:52.347Z"
      },
      {
        "duration": 4,
        "start_time": "2022-08-31T13:57:52.354Z"
      },
      {
        "duration": 5,
        "start_time": "2022-08-31T13:57:52.360Z"
      },
      {
        "duration": 8,
        "start_time": "2022-08-31T13:57:52.366Z"
      },
      {
        "duration": 11,
        "start_time": "2022-08-31T13:57:52.404Z"
      },
      {
        "duration": 21,
        "start_time": "2022-08-31T13:57:52.417Z"
      },
      {
        "duration": 28,
        "start_time": "2022-08-31T13:57:52.440Z"
      },
      {
        "duration": 7,
        "start_time": "2022-08-31T13:57:52.470Z"
      },
      {
        "duration": 28,
        "start_time": "2022-08-31T13:57:52.479Z"
      },
      {
        "duration": 4,
        "start_time": "2022-08-31T13:57:52.510Z"
      },
      {
        "duration": 12,
        "start_time": "2022-08-31T13:57:52.516Z"
      },
      {
        "duration": 14,
        "start_time": "2022-08-31T13:57:52.530Z"
      },
      {
        "duration": 7,
        "start_time": "2022-08-31T13:57:52.546Z"
      },
      {
        "duration": 5,
        "start_time": "2022-08-31T13:57:52.554Z"
      },
      {
        "duration": 46,
        "start_time": "2022-08-31T13:57:52.561Z"
      },
      {
        "duration": 9,
        "start_time": "2022-08-31T13:57:52.610Z"
      },
      {
        "duration": 10,
        "start_time": "2022-08-31T13:57:52.621Z"
      },
      {
        "duration": 4,
        "start_time": "2022-08-31T13:57:52.633Z"
      },
      {
        "duration": 8,
        "start_time": "2022-08-31T13:57:52.639Z"
      },
      {
        "duration": 16,
        "start_time": "2022-08-31T13:57:52.649Z"
      },
      {
        "duration": 40,
        "start_time": "2022-08-31T13:57:52.667Z"
      },
      {
        "duration": 8,
        "start_time": "2022-08-31T13:57:52.709Z"
      },
      {
        "duration": 21,
        "start_time": "2022-08-31T13:57:52.719Z"
      },
      {
        "duration": 7,
        "start_time": "2022-08-31T13:57:52.742Z"
      },
      {
        "duration": 17,
        "start_time": "2022-08-31T13:57:52.751Z"
      },
      {
        "duration": 33,
        "start_time": "2022-08-31T13:57:52.770Z"
      },
      {
        "duration": 16,
        "start_time": "2022-08-31T13:57:52.805Z"
      },
      {
        "duration": 9,
        "start_time": "2022-08-31T13:57:52.823Z"
      },
      {
        "duration": 8,
        "start_time": "2022-08-31T13:57:52.834Z"
      },
      {
        "duration": 4,
        "start_time": "2022-08-31T13:57:52.844Z"
      },
      {
        "duration": 9,
        "start_time": "2022-08-31T13:57:52.850Z"
      },
      {
        "duration": 46,
        "start_time": "2022-08-31T13:57:52.861Z"
      },
      {
        "duration": 13,
        "start_time": "2022-08-31T13:57:52.909Z"
      },
      {
        "duration": 12,
        "start_time": "2022-08-31T13:57:52.924Z"
      },
      {
        "duration": 15,
        "start_time": "2022-08-31T13:57:52.938Z"
      },
      {
        "duration": 9,
        "start_time": "2022-08-31T13:57:52.954Z"
      },
      {
        "duration": 70,
        "start_time": "2022-08-31T13:59:51.174Z"
      },
      {
        "duration": 8,
        "start_time": "2022-08-31T13:59:58.438Z"
      },
      {
        "duration": 12,
        "start_time": "2022-08-31T14:00:15.182Z"
      },
      {
        "duration": 4,
        "start_time": "2022-08-31T14:00:34.598Z"
      },
      {
        "duration": 11,
        "start_time": "2022-08-31T14:07:41.405Z"
      },
      {
        "duration": 463,
        "start_time": "2022-08-31T14:07:54.026Z"
      },
      {
        "duration": 9,
        "start_time": "2022-08-31T14:07:54.491Z"
      },
      {
        "duration": 18,
        "start_time": "2022-08-31T14:07:54.502Z"
      },
      {
        "duration": 16,
        "start_time": "2022-08-31T14:07:54.522Z"
      },
      {
        "duration": 15,
        "start_time": "2022-08-31T14:07:54.540Z"
      },
      {
        "duration": 7,
        "start_time": "2022-08-31T14:07:54.556Z"
      },
      {
        "duration": 45,
        "start_time": "2022-08-31T14:07:54.565Z"
      },
      {
        "duration": 6,
        "start_time": "2022-08-31T14:07:54.612Z"
      },
      {
        "duration": 6,
        "start_time": "2022-08-31T14:07:54.620Z"
      },
      {
        "duration": 7,
        "start_time": "2022-08-31T14:07:54.629Z"
      },
      {
        "duration": 7,
        "start_time": "2022-08-31T14:07:54.639Z"
      },
      {
        "duration": 13,
        "start_time": "2022-08-31T14:07:54.647Z"
      },
      {
        "duration": 46,
        "start_time": "2022-08-31T14:07:54.661Z"
      },
      {
        "duration": 8,
        "start_time": "2022-08-31T14:07:54.709Z"
      },
      {
        "duration": 8,
        "start_time": "2022-08-31T14:07:54.718Z"
      },
      {
        "duration": 12,
        "start_time": "2022-08-31T14:07:54.728Z"
      },
      {
        "duration": 5,
        "start_time": "2022-08-31T14:07:54.741Z"
      },
      {
        "duration": 10,
        "start_time": "2022-08-31T14:07:54.747Z"
      },
      {
        "duration": 55,
        "start_time": "2022-08-31T14:07:54.759Z"
      },
      {
        "duration": 17,
        "start_time": "2022-08-31T14:07:54.816Z"
      },
      {
        "duration": 5,
        "start_time": "2022-08-31T14:07:54.835Z"
      },
      {
        "duration": 19,
        "start_time": "2022-08-31T14:07:54.841Z"
      },
      {
        "duration": 10,
        "start_time": "2022-08-31T14:07:54.862Z"
      },
      {
        "duration": 31,
        "start_time": "2022-08-31T14:07:54.874Z"
      },
      {
        "duration": 9,
        "start_time": "2022-08-31T14:07:54.907Z"
      },
      {
        "duration": 6,
        "start_time": "2022-08-31T14:07:54.918Z"
      },
      {
        "duration": 6,
        "start_time": "2022-08-31T14:07:54.926Z"
      },
      {
        "duration": 8,
        "start_time": "2022-08-31T14:07:54.936Z"
      },
      {
        "duration": 12,
        "start_time": "2022-08-31T14:07:54.946Z"
      },
      {
        "duration": 15,
        "start_time": "2022-08-31T14:07:54.960Z"
      },
      {
        "duration": 29,
        "start_time": "2022-08-31T14:07:54.977Z"
      },
      {
        "duration": 7,
        "start_time": "2022-08-31T14:07:55.008Z"
      },
      {
        "duration": 9,
        "start_time": "2022-08-31T14:07:55.017Z"
      },
      {
        "duration": 13,
        "start_time": "2022-08-31T14:07:55.027Z"
      },
      {
        "duration": 9,
        "start_time": "2022-08-31T14:07:55.041Z"
      },
      {
        "duration": 20,
        "start_time": "2022-08-31T14:07:55.051Z"
      },
      {
        "duration": 41,
        "start_time": "2022-08-31T14:07:55.073Z"
      },
      {
        "duration": 19,
        "start_time": "2022-08-31T14:07:55.116Z"
      },
      {
        "duration": 4,
        "start_time": "2022-08-31T14:07:55.137Z"
      },
      {
        "duration": 6,
        "start_time": "2022-08-31T14:07:55.143Z"
      },
      {
        "duration": 4,
        "start_time": "2022-08-31T14:07:55.151Z"
      },
      {
        "duration": 5,
        "start_time": "2022-08-31T14:07:55.157Z"
      },
      {
        "duration": 41,
        "start_time": "2022-08-31T14:07:55.163Z"
      },
      {
        "duration": 10,
        "start_time": "2022-08-31T14:07:55.206Z"
      },
      {
        "duration": 16,
        "start_time": "2022-08-31T14:07:55.218Z"
      },
      {
        "duration": 27,
        "start_time": "2022-08-31T14:07:55.236Z"
      },
      {
        "duration": 8,
        "start_time": "2022-08-31T14:07:55.265Z"
      },
      {
        "duration": 34,
        "start_time": "2022-08-31T14:07:55.275Z"
      },
      {
        "duration": 7,
        "start_time": "2022-08-31T14:07:55.311Z"
      },
      {
        "duration": 6,
        "start_time": "2022-08-31T14:07:55.320Z"
      },
      {
        "duration": 12,
        "start_time": "2022-08-31T14:07:55.328Z"
      },
      {
        "duration": 4,
        "start_time": "2022-08-31T14:07:55.342Z"
      },
      {
        "duration": 12,
        "start_time": "2022-08-31T14:07:55.348Z"
      },
      {
        "duration": 41,
        "start_time": "2022-08-31T14:07:55.362Z"
      },
      {
        "duration": 8,
        "start_time": "2022-08-31T14:07:55.404Z"
      },
      {
        "duration": 8,
        "start_time": "2022-08-31T14:07:55.414Z"
      },
      {
        "duration": 7,
        "start_time": "2022-08-31T14:07:55.423Z"
      },
      {
        "duration": 6,
        "start_time": "2022-08-31T14:07:55.432Z"
      },
      {
        "duration": 14,
        "start_time": "2022-08-31T14:07:55.440Z"
      },
      {
        "duration": 5,
        "start_time": "2022-08-31T14:07:55.455Z"
      },
      {
        "duration": 6,
        "start_time": "2022-08-31T14:07:55.461Z"
      },
      {
        "duration": 46,
        "start_time": "2022-08-31T14:07:55.469Z"
      },
      {
        "duration": 7,
        "start_time": "2022-08-31T14:07:55.517Z"
      },
      {
        "duration": 16,
        "start_time": "2022-08-31T14:07:55.526Z"
      },
      {
        "duration": 5,
        "start_time": "2022-08-31T14:07:55.544Z"
      },
      {
        "duration": 18,
        "start_time": "2022-08-31T14:07:55.551Z"
      },
      {
        "duration": 36,
        "start_time": "2022-08-31T14:07:55.571Z"
      },
      {
        "duration": 9,
        "start_time": "2022-08-31T14:07:55.609Z"
      },
      {
        "duration": 4,
        "start_time": "2022-08-31T14:07:55.619Z"
      },
      {
        "duration": 12,
        "start_time": "2022-08-31T14:07:55.624Z"
      },
      {
        "duration": 10,
        "start_time": "2022-08-31T14:07:55.638Z"
      },
      {
        "duration": 15,
        "start_time": "2022-08-31T14:07:55.650Z"
      },
      {
        "duration": 44,
        "start_time": "2022-08-31T14:07:55.667Z"
      },
      {
        "duration": 11,
        "start_time": "2022-08-31T14:07:55.713Z"
      },
      {
        "duration": 12,
        "start_time": "2022-08-31T14:07:55.726Z"
      },
      {
        "duration": 519,
        "start_time": "2022-08-31T14:12:17.966Z"
      },
      {
        "duration": 9,
        "start_time": "2022-08-31T14:12:18.487Z"
      },
      {
        "duration": 25,
        "start_time": "2022-08-31T14:12:18.498Z"
      },
      {
        "duration": 21,
        "start_time": "2022-08-31T14:12:18.526Z"
      },
      {
        "duration": 14,
        "start_time": "2022-08-31T14:12:18.549Z"
      },
      {
        "duration": 7,
        "start_time": "2022-08-31T14:12:18.564Z"
      },
      {
        "duration": 41,
        "start_time": "2022-08-31T14:12:18.572Z"
      },
      {
        "duration": 4,
        "start_time": "2022-08-31T14:12:18.615Z"
      },
      {
        "duration": 8,
        "start_time": "2022-08-31T14:12:18.621Z"
      },
      {
        "duration": 15,
        "start_time": "2022-08-31T14:12:18.632Z"
      },
      {
        "duration": 8,
        "start_time": "2022-08-31T14:12:18.649Z"
      },
      {
        "duration": 9,
        "start_time": "2022-08-31T14:12:18.659Z"
      },
      {
        "duration": 38,
        "start_time": "2022-08-31T14:12:18.670Z"
      },
      {
        "duration": 7,
        "start_time": "2022-08-31T14:12:18.711Z"
      },
      {
        "duration": 22,
        "start_time": "2022-08-31T14:12:18.719Z"
      },
      {
        "duration": 8,
        "start_time": "2022-08-31T14:12:18.743Z"
      },
      {
        "duration": 5,
        "start_time": "2022-08-31T14:12:18.753Z"
      },
      {
        "duration": 7,
        "start_time": "2022-08-31T14:12:18.760Z"
      },
      {
        "duration": 51,
        "start_time": "2022-08-31T14:12:18.768Z"
      },
      {
        "duration": 15,
        "start_time": "2022-08-31T14:12:18.822Z"
      },
      {
        "duration": 4,
        "start_time": "2022-08-31T14:12:18.839Z"
      },
      {
        "duration": 33,
        "start_time": "2022-08-31T14:12:18.845Z"
      },
      {
        "duration": 23,
        "start_time": "2022-08-31T14:12:18.880Z"
      },
      {
        "duration": 7,
        "start_time": "2022-08-31T14:12:18.905Z"
      },
      {
        "duration": 20,
        "start_time": "2022-08-31T14:12:18.914Z"
      },
      {
        "duration": 47,
        "start_time": "2022-08-31T14:12:18.936Z"
      },
      {
        "duration": 24,
        "start_time": "2022-08-31T14:12:18.985Z"
      },
      {
        "duration": 12,
        "start_time": "2022-08-31T14:12:19.015Z"
      },
      {
        "duration": 19,
        "start_time": "2022-08-31T14:12:19.029Z"
      },
      {
        "duration": 26,
        "start_time": "2022-08-31T14:12:19.050Z"
      },
      {
        "duration": 14,
        "start_time": "2022-08-31T14:12:19.079Z"
      },
      {
        "duration": 21,
        "start_time": "2022-08-31T14:12:19.096Z"
      },
      {
        "duration": 18,
        "start_time": "2022-08-31T14:12:19.119Z"
      },
      {
        "duration": 12,
        "start_time": "2022-08-31T14:12:19.140Z"
      },
      {
        "duration": 15,
        "start_time": "2022-08-31T14:12:19.154Z"
      },
      {
        "duration": 43,
        "start_time": "2022-08-31T14:12:19.171Z"
      },
      {
        "duration": 20,
        "start_time": "2022-08-31T14:12:19.216Z"
      },
      {
        "duration": 17,
        "start_time": "2022-08-31T14:12:19.238Z"
      },
      {
        "duration": 4,
        "start_time": "2022-08-31T14:12:19.257Z"
      },
      {
        "duration": 4,
        "start_time": "2022-08-31T14:12:19.263Z"
      },
      {
        "duration": 7,
        "start_time": "2022-08-31T14:12:19.269Z"
      },
      {
        "duration": 27,
        "start_time": "2022-08-31T14:12:19.277Z"
      },
      {
        "duration": 8,
        "start_time": "2022-08-31T14:12:19.306Z"
      },
      {
        "duration": 11,
        "start_time": "2022-08-31T14:12:19.315Z"
      },
      {
        "duration": 17,
        "start_time": "2022-08-31T14:12:19.327Z"
      },
      {
        "duration": 29,
        "start_time": "2022-08-31T14:12:19.345Z"
      },
      {
        "duration": 33,
        "start_time": "2022-08-31T14:12:19.375Z"
      },
      {
        "duration": 10,
        "start_time": "2022-08-31T14:12:19.410Z"
      },
      {
        "duration": 4,
        "start_time": "2022-08-31T14:12:19.422Z"
      },
      {
        "duration": 13,
        "start_time": "2022-08-31T14:12:19.428Z"
      },
      {
        "duration": 18,
        "start_time": "2022-08-31T14:12:19.443Z"
      },
      {
        "duration": 10,
        "start_time": "2022-08-31T14:12:19.462Z"
      },
      {
        "duration": 29,
        "start_time": "2022-08-31T14:12:19.474Z"
      },
      {
        "duration": 24,
        "start_time": "2022-08-31T14:12:19.505Z"
      },
      {
        "duration": 9,
        "start_time": "2022-08-31T14:12:19.531Z"
      },
      {
        "duration": 17,
        "start_time": "2022-08-31T14:12:19.541Z"
      },
      {
        "duration": 5,
        "start_time": "2022-08-31T14:12:19.559Z"
      },
      {
        "duration": 8,
        "start_time": "2022-08-31T14:12:19.565Z"
      },
      {
        "duration": 33,
        "start_time": "2022-08-31T14:12:19.574Z"
      },
      {
        "duration": 9,
        "start_time": "2022-08-31T14:12:19.609Z"
      },
      {
        "duration": 16,
        "start_time": "2022-08-31T14:12:19.620Z"
      },
      {
        "duration": 27,
        "start_time": "2022-08-31T14:12:19.638Z"
      },
      {
        "duration": 7,
        "start_time": "2022-08-31T14:12:19.667Z"
      },
      {
        "duration": 17,
        "start_time": "2022-08-31T14:12:19.676Z"
      },
      {
        "duration": 4,
        "start_time": "2022-08-31T14:12:19.703Z"
      },
      {
        "duration": 18,
        "start_time": "2022-08-31T14:12:19.709Z"
      },
      {
        "duration": 13,
        "start_time": "2022-08-31T14:12:19.729Z"
      },
      {
        "duration": 9,
        "start_time": "2022-08-31T14:12:19.744Z"
      },
      {
        "duration": 13,
        "start_time": "2022-08-31T14:12:19.754Z"
      },
      {
        "duration": 12,
        "start_time": "2022-08-31T14:12:19.769Z"
      },
      {
        "duration": 31,
        "start_time": "2022-08-31T14:12:19.783Z"
      },
      {
        "duration": 22,
        "start_time": "2022-08-31T14:12:19.816Z"
      },
      {
        "duration": 11,
        "start_time": "2022-08-31T14:12:19.840Z"
      },
      {
        "duration": 12,
        "start_time": "2022-08-31T14:12:19.853Z"
      },
      {
        "duration": 11,
        "start_time": "2022-08-31T14:12:19.867Z"
      },
      {
        "duration": 87,
        "start_time": "2022-09-06T04:34:11.815Z"
      },
      {
        "duration": 76,
        "start_time": "2022-09-06T04:35:08.378Z"
      },
      {
        "duration": 120,
        "start_time": "2022-09-06T04:35:31.054Z"
      },
      {
        "duration": 74,
        "start_time": "2022-09-06T04:35:40.711Z"
      },
      {
        "duration": 419,
        "start_time": "2022-09-06T04:37:04.311Z"
      },
      {
        "duration": 165,
        "start_time": "2022-09-06T04:37:06.797Z"
      },
      {
        "duration": 109,
        "start_time": "2022-09-06T05:00:11.125Z"
      },
      {
        "duration": 3,
        "start_time": "2022-09-06T05:00:20.730Z"
      },
      {
        "duration": 56,
        "start_time": "2022-09-06T05:00:20.747Z"
      },
      {
        "duration": 10,
        "start_time": "2022-09-06T05:00:20.805Z"
      },
      {
        "duration": 18,
        "start_time": "2022-09-06T05:00:20.816Z"
      },
      {
        "duration": 15,
        "start_time": "2022-09-06T05:00:20.836Z"
      },
      {
        "duration": 50,
        "start_time": "2022-09-06T05:00:20.853Z"
      },
      {
        "duration": 10,
        "start_time": "2022-09-06T05:00:20.904Z"
      },
      {
        "duration": 19,
        "start_time": "2022-09-06T05:00:20.916Z"
      },
      {
        "duration": 5,
        "start_time": "2022-09-06T05:00:24.118Z"
      },
      {
        "duration": 8,
        "start_time": "2022-09-06T05:14:08.775Z"
      },
      {
        "duration": 61,
        "start_time": "2022-09-06T05:16:32.784Z"
      },
      {
        "duration": 514,
        "start_time": "2022-09-06T05:16:42.423Z"
      },
      {
        "duration": 8,
        "start_time": "2022-09-06T05:20:30.489Z"
      },
      {
        "duration": 6,
        "start_time": "2022-09-06T05:21:09.572Z"
      },
      {
        "duration": 8,
        "start_time": "2022-09-06T05:26:11.504Z"
      },
      {
        "duration": 8,
        "start_time": "2022-09-06T05:26:33.553Z"
      },
      {
        "duration": 9,
        "start_time": "2022-09-06T05:28:50.410Z"
      },
      {
        "duration": 15,
        "start_time": "2022-09-06T05:29:19.533Z"
      },
      {
        "duration": 473,
        "start_time": "2022-09-06T05:30:26.090Z"
      },
      {
        "duration": 7,
        "start_time": "2022-09-06T05:31:25.747Z"
      },
      {
        "duration": 442,
        "start_time": "2022-09-06T05:31:59.578Z"
      },
      {
        "duration": 51,
        "start_time": "2022-09-06T05:34:59.906Z"
      },
      {
        "duration": 15,
        "start_time": "2022-09-06T05:35:31.952Z"
      },
      {
        "duration": 8,
        "start_time": "2022-09-06T05:46:19.689Z"
      },
      {
        "duration": 10,
        "start_time": "2022-09-06T06:15:34.385Z"
      },
      {
        "duration": 14,
        "start_time": "2022-09-06T06:17:14.646Z"
      },
      {
        "duration": 59,
        "start_time": "2022-09-06T06:18:47.786Z"
      },
      {
        "duration": 20,
        "start_time": "2022-09-06T06:18:53.293Z"
      },
      {
        "duration": 13,
        "start_time": "2022-09-06T06:25:18.485Z"
      },
      {
        "duration": 15,
        "start_time": "2022-09-06T06:25:34.031Z"
      },
      {
        "duration": 8,
        "start_time": "2022-09-06T06:56:06.350Z"
      },
      {
        "duration": 42,
        "start_time": "2022-09-06T06:56:15.801Z"
      },
      {
        "duration": 41,
        "start_time": "2022-09-06T06:57:10.781Z"
      },
      {
        "duration": 249,
        "start_time": "2022-09-06T07:00:27.546Z"
      },
      {
        "duration": 23,
        "start_time": "2022-09-06T07:01:04.525Z"
      },
      {
        "duration": 16,
        "start_time": "2022-09-06T07:01:45.775Z"
      },
      {
        "duration": 4,
        "start_time": "2022-09-06T07:01:59.790Z"
      },
      {
        "duration": 84,
        "start_time": "2022-09-06T07:02:26.880Z"
      },
      {
        "duration": 8,
        "start_time": "2022-09-06T07:02:38.318Z"
      },
      {
        "duration": 30,
        "start_time": "2022-09-06T07:03:03.590Z"
      },
      {
        "duration": 15,
        "start_time": "2022-09-06T07:03:22.832Z"
      },
      {
        "duration": 4,
        "start_time": "2022-09-06T07:03:31.447Z"
      },
      {
        "duration": 58,
        "start_time": "2022-09-06T07:03:42.261Z"
      },
      {
        "duration": 150,
        "start_time": "2022-09-06T07:11:05.797Z"
      },
      {
        "duration": 24,
        "start_time": "2022-09-06T07:13:21.622Z"
      },
      {
        "duration": 24,
        "start_time": "2022-09-06T07:13:58.224Z"
      },
      {
        "duration": 29,
        "start_time": "2022-09-06T07:15:21.778Z"
      },
      {
        "duration": 1581,
        "start_time": "2022-09-06T07:17:23.243Z"
      },
      {
        "duration": 22,
        "start_time": "2022-09-06T07:17:34.529Z"
      },
      {
        "duration": 46,
        "start_time": "2022-09-06T07:20:19.577Z"
      },
      {
        "duration": 48,
        "start_time": "2022-09-06T07:24:35.703Z"
      },
      {
        "duration": 48,
        "start_time": "2022-09-06T07:24:44.706Z"
      },
      {
        "duration": 32,
        "start_time": "2022-09-06T07:24:49.524Z"
      },
      {
        "duration": 39,
        "start_time": "2022-09-06T07:24:52.030Z"
      },
      {
        "duration": 41,
        "start_time": "2022-09-06T07:25:17.189Z"
      },
      {
        "duration": 487,
        "start_time": "2022-09-06T07:26:22.900Z"
      },
      {
        "duration": 94,
        "start_time": "2022-09-06T07:26:23.389Z"
      },
      {
        "duration": 10,
        "start_time": "2022-09-06T07:26:23.486Z"
      },
      {
        "duration": 76,
        "start_time": "2022-09-06T07:26:23.498Z"
      },
      {
        "duration": 22,
        "start_time": "2022-09-06T07:26:23.576Z"
      },
      {
        "duration": 40,
        "start_time": "2022-09-06T07:26:23.601Z"
      },
      {
        "duration": 13,
        "start_time": "2022-09-06T07:26:23.643Z"
      },
      {
        "duration": 14,
        "start_time": "2022-09-06T07:26:23.658Z"
      },
      {
        "duration": 12,
        "start_time": "2022-09-06T07:26:23.674Z"
      },
      {
        "duration": 7,
        "start_time": "2022-09-06T07:26:23.688Z"
      },
      {
        "duration": 63,
        "start_time": "2022-09-06T07:26:23.697Z"
      },
      {
        "duration": 11,
        "start_time": "2022-09-06T07:26:23.762Z"
      },
      {
        "duration": 18,
        "start_time": "2022-09-06T07:26:23.774Z"
      },
      {
        "duration": 17,
        "start_time": "2022-09-06T07:26:23.793Z"
      },
      {
        "duration": 45,
        "start_time": "2022-09-06T07:26:23.811Z"
      },
      {
        "duration": 14,
        "start_time": "2022-09-06T07:26:23.859Z"
      },
      {
        "duration": 16,
        "start_time": "2022-09-06T07:26:23.875Z"
      },
      {
        "duration": 24,
        "start_time": "2022-09-06T07:26:23.893Z"
      },
      {
        "duration": 24,
        "start_time": "2022-09-06T07:26:23.925Z"
      },
      {
        "duration": 26,
        "start_time": "2022-09-06T07:26:23.951Z"
      },
      {
        "duration": 61,
        "start_time": "2022-09-06T07:26:23.978Z"
      },
      {
        "duration": 20,
        "start_time": "2022-09-06T07:26:24.041Z"
      },
      {
        "duration": 4,
        "start_time": "2022-09-06T07:26:24.063Z"
      },
      {
        "duration": 14,
        "start_time": "2022-09-06T07:26:24.069Z"
      },
      {
        "duration": 9,
        "start_time": "2022-09-06T07:26:24.085Z"
      },
      {
        "duration": 22,
        "start_time": "2022-09-06T07:26:24.095Z"
      },
      {
        "duration": 28,
        "start_time": "2022-09-06T07:26:24.125Z"
      },
      {
        "duration": 15,
        "start_time": "2022-09-06T07:26:24.157Z"
      },
      {
        "duration": 15,
        "start_time": "2022-09-06T07:26:24.173Z"
      },
      {
        "duration": 22,
        "start_time": "2022-09-06T07:26:24.189Z"
      },
      {
        "duration": 37,
        "start_time": "2022-09-06T07:26:24.213Z"
      },
      {
        "duration": 30,
        "start_time": "2022-09-06T07:26:24.253Z"
      },
      {
        "duration": 11,
        "start_time": "2022-09-06T07:26:24.285Z"
      },
      {
        "duration": 58,
        "start_time": "2022-09-06T07:26:24.298Z"
      },
      {
        "duration": 22,
        "start_time": "2022-09-06T07:26:24.359Z"
      },
      {
        "duration": 8,
        "start_time": "2022-09-06T07:26:24.384Z"
      },
      {
        "duration": 53,
        "start_time": "2022-09-06T07:26:24.395Z"
      },
      {
        "duration": 67,
        "start_time": "2022-09-06T07:26:24.449Z"
      },
      {
        "duration": 29,
        "start_time": "2022-09-06T07:26:24.523Z"
      },
      {
        "duration": 21,
        "start_time": "2022-09-06T07:26:24.553Z"
      },
      {
        "duration": 7,
        "start_time": "2022-09-06T07:26:24.576Z"
      },
      {
        "duration": 7,
        "start_time": "2022-09-06T07:26:24.585Z"
      },
      {
        "duration": 42,
        "start_time": "2022-09-06T07:26:24.594Z"
      },
      {
        "duration": 23,
        "start_time": "2022-09-06T07:26:24.638Z"
      },
      {
        "duration": 16,
        "start_time": "2022-09-06T07:26:24.664Z"
      },
      {
        "duration": 22,
        "start_time": "2022-09-06T07:26:24.682Z"
      },
      {
        "duration": 41,
        "start_time": "2022-09-06T07:26:24.712Z"
      },
      {
        "duration": 38,
        "start_time": "2022-09-06T07:26:24.755Z"
      },
      {
        "duration": 17,
        "start_time": "2022-09-06T07:26:24.797Z"
      },
      {
        "duration": 28,
        "start_time": "2022-09-06T07:26:24.818Z"
      },
      {
        "duration": 6,
        "start_time": "2022-09-06T07:26:24.849Z"
      },
      {
        "duration": 10,
        "start_time": "2022-09-06T07:26:24.857Z"
      },
      {
        "duration": 22,
        "start_time": "2022-09-06T07:26:24.870Z"
      },
      {
        "duration": 38,
        "start_time": "2022-09-06T07:26:24.894Z"
      },
      {
        "duration": 15,
        "start_time": "2022-09-06T07:26:24.934Z"
      },
      {
        "duration": 35,
        "start_time": "2022-09-06T07:26:24.951Z"
      },
      {
        "duration": 8,
        "start_time": "2022-09-06T07:26:24.988Z"
      },
      {
        "duration": 34,
        "start_time": "2022-09-06T07:26:24.998Z"
      },
      {
        "duration": 8,
        "start_time": "2022-09-06T07:26:25.035Z"
      },
      {
        "duration": 16,
        "start_time": "2022-09-06T07:26:25.045Z"
      },
      {
        "duration": 32,
        "start_time": "2022-09-06T07:26:25.063Z"
      },
      {
        "duration": 31,
        "start_time": "2022-09-06T07:26:25.097Z"
      },
      {
        "duration": 10,
        "start_time": "2022-09-06T07:26:25.131Z"
      },
      {
        "duration": 43,
        "start_time": "2022-09-06T07:26:25.143Z"
      },
      {
        "duration": 10,
        "start_time": "2022-09-06T07:26:25.188Z"
      },
      {
        "duration": 54,
        "start_time": "2022-09-06T07:26:25.201Z"
      },
      {
        "duration": 6,
        "start_time": "2022-09-06T07:26:25.257Z"
      },
      {
        "duration": 22,
        "start_time": "2022-09-06T07:26:25.264Z"
      },
      {
        "duration": 58,
        "start_time": "2022-09-06T07:26:25.288Z"
      },
      {
        "duration": 21,
        "start_time": "2022-09-06T07:26:25.348Z"
      },
      {
        "duration": 5,
        "start_time": "2022-09-06T07:26:25.371Z"
      },
      {
        "duration": 11,
        "start_time": "2022-09-06T07:26:25.378Z"
      },
      {
        "duration": 16,
        "start_time": "2022-09-06T07:26:25.391Z"
      },
      {
        "duration": 46,
        "start_time": "2022-09-06T07:26:25.410Z"
      },
      {
        "duration": 17,
        "start_time": "2022-09-06T07:26:25.458Z"
      },
      {
        "duration": 16,
        "start_time": "2022-09-06T07:26:25.477Z"
      },
      {
        "duration": 26,
        "start_time": "2022-09-06T07:26:25.495Z"
      },
      {
        "duration": 65,
        "start_time": "2022-09-06T07:40:57.108Z"
      },
      {
        "duration": 548,
        "start_time": "2022-09-06T07:41:33.835Z"
      },
      {
        "duration": 76,
        "start_time": "2022-09-06T07:41:34.385Z"
      },
      {
        "duration": 12,
        "start_time": "2022-09-06T07:41:34.463Z"
      },
      {
        "duration": 39,
        "start_time": "2022-09-06T07:41:34.478Z"
      },
      {
        "duration": 33,
        "start_time": "2022-09-06T07:41:34.519Z"
      },
      {
        "duration": 17,
        "start_time": "2022-09-06T07:41:34.555Z"
      },
      {
        "duration": 7,
        "start_time": "2022-09-06T07:41:34.574Z"
      },
      {
        "duration": 32,
        "start_time": "2022-09-06T07:41:34.583Z"
      },
      {
        "duration": 16,
        "start_time": "2022-09-06T07:41:34.619Z"
      },
      {
        "duration": 8,
        "start_time": "2022-09-06T07:41:34.638Z"
      },
      {
        "duration": 26,
        "start_time": "2022-09-06T07:41:34.647Z"
      },
      {
        "duration": 15,
        "start_time": "2022-09-06T07:41:34.675Z"
      },
      {
        "duration": 48,
        "start_time": "2022-09-06T07:41:34.692Z"
      },
      {
        "duration": 39,
        "start_time": "2022-09-06T07:41:34.741Z"
      },
      {
        "duration": 13,
        "start_time": "2022-09-06T07:41:34.782Z"
      },
      {
        "duration": 24,
        "start_time": "2022-09-06T07:41:34.797Z"
      },
      {
        "duration": 6,
        "start_time": "2022-09-06T07:41:34.823Z"
      },
      {
        "duration": 9,
        "start_time": "2022-09-06T07:41:34.831Z"
      },
      {
        "duration": 17,
        "start_time": "2022-09-06T07:41:34.842Z"
      },
      {
        "duration": 33,
        "start_time": "2022-09-06T07:41:34.861Z"
      },
      {
        "duration": 64,
        "start_time": "2022-09-06T07:41:34.896Z"
      },
      {
        "duration": 18,
        "start_time": "2022-09-06T07:41:34.962Z"
      },
      {
        "duration": 12,
        "start_time": "2022-09-06T07:41:34.981Z"
      },
      {
        "duration": 29,
        "start_time": "2022-09-06T07:41:34.995Z"
      },
      {
        "duration": 24,
        "start_time": "2022-09-06T07:41:35.026Z"
      },
      {
        "duration": 12,
        "start_time": "2022-09-06T07:41:35.053Z"
      },
      {
        "duration": 13,
        "start_time": "2022-09-06T07:41:35.067Z"
      },
      {
        "duration": 11,
        "start_time": "2022-09-06T07:41:35.084Z"
      },
      {
        "duration": 23,
        "start_time": "2022-09-06T07:41:35.097Z"
      },
      {
        "duration": 36,
        "start_time": "2022-09-06T07:41:35.122Z"
      },
      {
        "duration": 21,
        "start_time": "2022-09-06T07:41:35.160Z"
      },
      {
        "duration": 19,
        "start_time": "2022-09-06T07:41:35.182Z"
      },
      {
        "duration": 21,
        "start_time": "2022-09-06T07:41:35.210Z"
      },
      {
        "duration": 10,
        "start_time": "2022-09-06T07:41:35.233Z"
      },
      {
        "duration": 11,
        "start_time": "2022-09-06T07:41:35.244Z"
      },
      {
        "duration": 9,
        "start_time": "2022-09-06T07:41:35.256Z"
      },
      {
        "duration": 23,
        "start_time": "2022-09-06T07:41:35.267Z"
      },
      {
        "duration": 40,
        "start_time": "2022-09-06T07:41:35.292Z"
      },
      {
        "duration": 36,
        "start_time": "2022-09-06T07:41:35.334Z"
      },
      {
        "duration": 19,
        "start_time": "2022-09-06T07:41:35.372Z"
      },
      {
        "duration": 11,
        "start_time": "2022-09-06T07:41:35.393Z"
      },
      {
        "duration": 36,
        "start_time": "2022-09-06T07:41:35.406Z"
      },
      {
        "duration": 11,
        "start_time": "2022-09-06T07:41:35.444Z"
      },
      {
        "duration": 6,
        "start_time": "2022-09-06T07:41:35.457Z"
      },
      {
        "duration": 17,
        "start_time": "2022-09-06T07:41:35.465Z"
      },
      {
        "duration": 27,
        "start_time": "2022-09-06T07:41:35.484Z"
      },
      {
        "duration": 38,
        "start_time": "2022-09-06T07:41:35.519Z"
      },
      {
        "duration": 41,
        "start_time": "2022-09-06T07:41:35.559Z"
      },
      {
        "duration": 17,
        "start_time": "2022-09-06T07:41:35.606Z"
      },
      {
        "duration": 32,
        "start_time": "2022-09-06T07:41:35.627Z"
      },
      {
        "duration": 12,
        "start_time": "2022-09-06T07:41:35.661Z"
      },
      {
        "duration": 16,
        "start_time": "2022-09-06T07:41:35.675Z"
      },
      {
        "duration": 40,
        "start_time": "2022-09-06T07:41:35.693Z"
      },
      {
        "duration": 6,
        "start_time": "2022-09-06T07:41:35.736Z"
      },
      {
        "duration": 24,
        "start_time": "2022-09-06T07:41:35.744Z"
      },
      {
        "duration": 31,
        "start_time": "2022-09-06T07:41:35.769Z"
      },
      {
        "duration": 14,
        "start_time": "2022-09-06T07:41:35.802Z"
      },
      {
        "duration": 37,
        "start_time": "2022-09-06T07:41:35.818Z"
      },
      {
        "duration": 9,
        "start_time": "2022-09-06T07:41:35.858Z"
      },
      {
        "duration": 10,
        "start_time": "2022-09-06T07:41:35.869Z"
      },
      {
        "duration": 17,
        "start_time": "2022-09-06T07:41:35.881Z"
      },
      {
        "duration": 11,
        "start_time": "2022-09-06T07:41:35.900Z"
      },
      {
        "duration": 28,
        "start_time": "2022-09-06T07:41:35.913Z"
      },
      {
        "duration": 41,
        "start_time": "2022-09-06T07:41:35.944Z"
      },
      {
        "duration": 11,
        "start_time": "2022-09-06T07:41:35.987Z"
      },
      {
        "duration": 63,
        "start_time": "2022-09-06T07:41:36.000Z"
      },
      {
        "duration": 10,
        "start_time": "2022-09-06T07:41:36.065Z"
      },
      {
        "duration": 26,
        "start_time": "2022-09-06T07:41:36.077Z"
      },
      {
        "duration": 44,
        "start_time": "2022-09-06T07:41:36.105Z"
      },
      {
        "duration": 36,
        "start_time": "2022-09-06T07:41:36.151Z"
      },
      {
        "duration": 11,
        "start_time": "2022-09-06T07:41:36.189Z"
      },
      {
        "duration": 45,
        "start_time": "2022-09-06T07:41:36.201Z"
      },
      {
        "duration": 17,
        "start_time": "2022-09-06T07:41:36.251Z"
      },
      {
        "duration": 26,
        "start_time": "2022-09-06T07:41:36.269Z"
      },
      {
        "duration": 28,
        "start_time": "2022-09-06T07:41:36.297Z"
      },
      {
        "duration": 29,
        "start_time": "2022-09-06T07:41:36.327Z"
      },
      {
        "duration": 9,
        "start_time": "2022-09-06T07:41:36.358Z"
      },
      {
        "duration": 15,
        "start_time": "2022-09-06T08:30:29.234Z"
      },
      {
        "duration": 15,
        "start_time": "2022-09-06T08:30:43.380Z"
      },
      {
        "duration": 14,
        "start_time": "2022-09-06T08:31:01.466Z"
      },
      {
        "duration": 16,
        "start_time": "2022-09-06T08:31:31.584Z"
      },
      {
        "duration": 1456,
        "start_time": "2022-09-06T08:31:39.684Z"
      },
      {
        "duration": 1465,
        "start_time": "2022-09-06T08:48:35.900Z"
      },
      {
        "duration": 6,
        "start_time": "2022-09-06T08:56:02.430Z"
      },
      {
        "duration": 4,
        "start_time": "2022-09-06T08:56:14.896Z"
      },
      {
        "duration": 10,
        "start_time": "2022-09-06T08:56:42.603Z"
      },
      {
        "duration": 5,
        "start_time": "2022-09-06T08:56:49.033Z"
      },
      {
        "duration": 17,
        "start_time": "2022-09-06T10:42:11.662Z"
      },
      {
        "duration": 4,
        "start_time": "2022-09-06T10:44:16.027Z"
      },
      {
        "duration": 9,
        "start_time": "2022-09-06T10:45:00.200Z"
      },
      {
        "duration": 22,
        "start_time": "2022-09-06T10:58:03.399Z"
      },
      {
        "duration": 14,
        "start_time": "2022-09-06T10:58:30.173Z"
      },
      {
        "duration": 21,
        "start_time": "2022-09-06T10:59:01.277Z"
      },
      {
        "duration": 15,
        "start_time": "2022-09-06T10:59:15.343Z"
      },
      {
        "duration": 14,
        "start_time": "2022-09-06T10:59:21.520Z"
      },
      {
        "duration": 15,
        "start_time": "2022-09-06T10:59:28.023Z"
      },
      {
        "duration": 10,
        "start_time": "2022-09-06T11:02:15.386Z"
      },
      {
        "duration": 4,
        "start_time": "2022-09-06T11:02:26.922Z"
      },
      {
        "duration": 7,
        "start_time": "2022-09-06T11:02:31.434Z"
      },
      {
        "duration": 5,
        "start_time": "2022-09-06T11:03:00.574Z"
      },
      {
        "duration": 9,
        "start_time": "2022-09-06T11:03:04.798Z"
      },
      {
        "duration": 400,
        "start_time": "2022-09-06T11:28:06.769Z"
      },
      {
        "duration": 66,
        "start_time": "2022-09-06T11:28:07.171Z"
      },
      {
        "duration": 9,
        "start_time": "2022-09-06T11:28:07.238Z"
      },
      {
        "duration": 25,
        "start_time": "2022-09-06T11:28:07.248Z"
      },
      {
        "duration": 42,
        "start_time": "2022-09-06T11:28:07.276Z"
      },
      {
        "duration": 23,
        "start_time": "2022-09-06T11:28:07.320Z"
      },
      {
        "duration": 7,
        "start_time": "2022-09-06T11:28:07.345Z"
      },
      {
        "duration": 15,
        "start_time": "2022-09-06T11:28:07.354Z"
      },
      {
        "duration": 6,
        "start_time": "2022-09-06T11:28:07.371Z"
      },
      {
        "duration": 33,
        "start_time": "2022-09-06T11:28:07.379Z"
      },
      {
        "duration": 23,
        "start_time": "2022-09-06T11:28:07.416Z"
      },
      {
        "duration": 14,
        "start_time": "2022-09-06T11:28:07.441Z"
      },
      {
        "duration": 18,
        "start_time": "2022-09-06T11:28:07.457Z"
      },
      {
        "duration": 32,
        "start_time": "2022-09-06T11:28:07.479Z"
      },
      {
        "duration": 15,
        "start_time": "2022-09-06T11:28:07.517Z"
      },
      {
        "duration": 14,
        "start_time": "2022-09-06T11:28:07.534Z"
      },
      {
        "duration": 13,
        "start_time": "2022-09-06T11:28:07.550Z"
      },
      {
        "duration": 8,
        "start_time": "2022-09-06T11:28:07.565Z"
      },
      {
        "duration": 7,
        "start_time": "2022-09-06T11:28:07.575Z"
      },
      {
        "duration": 24,
        "start_time": "2022-09-06T11:28:07.584Z"
      },
      {
        "duration": 24,
        "start_time": "2022-09-06T11:28:07.612Z"
      },
      {
        "duration": 16,
        "start_time": "2022-09-06T11:28:07.638Z"
      },
      {
        "duration": 5,
        "start_time": "2022-09-06T11:28:07.656Z"
      },
      {
        "duration": 14,
        "start_time": "2022-09-06T11:28:07.662Z"
      },
      {
        "duration": 16,
        "start_time": "2022-09-06T11:28:07.704Z"
      },
      {
        "duration": 10,
        "start_time": "2022-09-06T11:28:07.722Z"
      },
      {
        "duration": 13,
        "start_time": "2022-09-06T11:28:07.733Z"
      },
      {
        "duration": 11,
        "start_time": "2022-09-06T11:28:07.748Z"
      },
      {
        "duration": 23,
        "start_time": "2022-09-06T11:28:07.761Z"
      },
      {
        "duration": 26,
        "start_time": "2022-09-06T11:28:07.786Z"
      },
      {
        "duration": 21,
        "start_time": "2022-09-06T11:28:07.813Z"
      },
      {
        "duration": 30,
        "start_time": "2022-09-06T11:28:07.835Z"
      },
      {
        "duration": 11,
        "start_time": "2022-09-06T11:28:07.867Z"
      },
      {
        "duration": 15,
        "start_time": "2022-09-06T11:28:07.880Z"
      },
      {
        "duration": 30,
        "start_time": "2022-09-06T11:28:07.897Z"
      },
      {
        "duration": 11,
        "start_time": "2022-09-06T11:28:07.929Z"
      },
      {
        "duration": 14,
        "start_time": "2022-09-06T11:28:07.942Z"
      },
      {
        "duration": 52,
        "start_time": "2022-09-06T11:28:07.958Z"
      },
      {
        "duration": 25,
        "start_time": "2022-09-06T11:28:08.011Z"
      },
      {
        "duration": 16,
        "start_time": "2022-09-06T11:28:08.038Z"
      },
      {
        "duration": 4,
        "start_time": "2022-09-06T11:28:08.059Z"
      },
      {
        "duration": 10,
        "start_time": "2022-09-06T11:28:08.065Z"
      },
      {
        "duration": 7,
        "start_time": "2022-09-06T11:28:08.077Z"
      },
      {
        "duration": 15,
        "start_time": "2022-09-06T11:28:08.105Z"
      },
      {
        "duration": 7,
        "start_time": "2022-09-06T11:28:08.122Z"
      },
      {
        "duration": 14,
        "start_time": "2022-09-06T11:28:08.131Z"
      },
      {
        "duration": 16,
        "start_time": "2022-09-06T11:28:08.147Z"
      },
      {
        "duration": 52,
        "start_time": "2022-09-06T11:28:08.165Z"
      },
      {
        "duration": 17,
        "start_time": "2022-09-06T11:28:08.219Z"
      },
      {
        "duration": 16,
        "start_time": "2022-09-06T11:28:08.238Z"
      },
      {
        "duration": 4,
        "start_time": "2022-09-06T11:28:08.256Z"
      },
      {
        "duration": 11,
        "start_time": "2022-09-06T11:28:08.261Z"
      },
      {
        "duration": 35,
        "start_time": "2022-09-06T11:28:08.274Z"
      },
      {
        "duration": 5,
        "start_time": "2022-09-06T11:28:08.310Z"
      },
      {
        "duration": 16,
        "start_time": "2022-09-06T11:28:08.318Z"
      },
      {
        "duration": 24,
        "start_time": "2022-09-06T11:28:08.336Z"
      },
      {
        "duration": 14,
        "start_time": "2022-09-06T11:28:08.362Z"
      },
      {
        "duration": 41,
        "start_time": "2022-09-06T11:28:08.378Z"
      },
      {
        "duration": 6,
        "start_time": "2022-09-06T11:28:08.424Z"
      },
      {
        "duration": 12,
        "start_time": "2022-09-06T11:28:08.432Z"
      },
      {
        "duration": 16,
        "start_time": "2022-09-06T11:28:08.446Z"
      },
      {
        "duration": 14,
        "start_time": "2022-09-06T11:28:08.464Z"
      },
      {
        "duration": 10,
        "start_time": "2022-09-06T11:28:08.480Z"
      },
      {
        "duration": 30,
        "start_time": "2022-09-06T11:28:08.492Z"
      },
      {
        "duration": 8,
        "start_time": "2022-09-06T11:28:08.525Z"
      },
      {
        "duration": 18,
        "start_time": "2022-09-06T11:28:08.535Z"
      },
      {
        "duration": 4,
        "start_time": "2022-09-06T11:28:08.555Z"
      },
      {
        "duration": 23,
        "start_time": "2022-09-06T11:28:08.560Z"
      },
      {
        "duration": 16,
        "start_time": "2022-09-06T11:28:08.604Z"
      },
      {
        "duration": 16,
        "start_time": "2022-09-06T11:28:08.621Z"
      },
      {
        "duration": 13,
        "start_time": "2022-09-06T11:28:08.638Z"
      },
      {
        "duration": 17,
        "start_time": "2022-09-06T11:28:08.652Z"
      },
      {
        "duration": 16,
        "start_time": "2022-09-06T11:28:08.671Z"
      },
      {
        "duration": 22,
        "start_time": "2022-09-06T11:28:08.689Z"
      },
      {
        "duration": 20,
        "start_time": "2022-09-06T11:28:08.717Z"
      },
      {
        "duration": 20,
        "start_time": "2022-09-06T11:28:08.738Z"
      },
      {
        "duration": 10,
        "start_time": "2022-09-06T11:28:08.759Z"
      },
      {
        "duration": 69,
        "start_time": "2022-09-06T11:30:28.079Z"
      },
      {
        "duration": 97,
        "start_time": "2022-09-06T11:30:36.331Z"
      },
      {
        "duration": 14,
        "start_time": "2022-09-06T11:31:01.429Z"
      },
      {
        "duration": 15,
        "start_time": "2022-09-06T11:47:56.445Z"
      },
      {
        "duration": 23,
        "start_time": "2022-09-06T13:35:20.018Z"
      },
      {
        "duration": 12,
        "start_time": "2022-09-06T13:35:32.393Z"
      },
      {
        "duration": 11,
        "start_time": "2022-09-06T13:35:53.152Z"
      },
      {
        "duration": 7,
        "start_time": "2022-09-06T13:36:12.042Z"
      },
      {
        "duration": 400,
        "start_time": "2022-09-06T13:36:27.040Z"
      },
      {
        "duration": 76,
        "start_time": "2022-09-06T13:36:27.443Z"
      },
      {
        "duration": 11,
        "start_time": "2022-09-06T13:36:27.521Z"
      },
      {
        "duration": 31,
        "start_time": "2022-09-06T13:36:27.535Z"
      },
      {
        "duration": 38,
        "start_time": "2022-09-06T13:36:27.568Z"
      },
      {
        "duration": 17,
        "start_time": "2022-09-06T13:36:27.609Z"
      },
      {
        "duration": 7,
        "start_time": "2022-09-06T13:36:27.627Z"
      },
      {
        "duration": 16,
        "start_time": "2022-09-06T13:36:27.636Z"
      },
      {
        "duration": 5,
        "start_time": "2022-09-06T13:36:27.654Z"
      },
      {
        "duration": 8,
        "start_time": "2022-09-06T13:36:27.662Z"
      },
      {
        "duration": 51,
        "start_time": "2022-09-06T13:36:27.672Z"
      },
      {
        "duration": 18,
        "start_time": "2022-09-06T13:36:27.725Z"
      },
      {
        "duration": 21,
        "start_time": "2022-09-06T13:36:27.745Z"
      },
      {
        "duration": 13,
        "start_time": "2022-09-06T13:36:27.767Z"
      },
      {
        "duration": 22,
        "start_time": "2022-09-06T13:36:27.804Z"
      },
      {
        "duration": 14,
        "start_time": "2022-09-06T13:36:27.828Z"
      },
      {
        "duration": 11,
        "start_time": "2022-09-06T13:36:27.844Z"
      },
      {
        "duration": 7,
        "start_time": "2022-09-06T13:36:27.857Z"
      },
      {
        "duration": 8,
        "start_time": "2022-09-06T13:36:27.866Z"
      },
      {
        "duration": 6,
        "start_time": "2022-09-06T13:36:27.876Z"
      },
      {
        "duration": 49,
        "start_time": "2022-09-06T13:36:27.884Z"
      },
      {
        "duration": 19,
        "start_time": "2022-09-06T13:36:27.934Z"
      },
      {
        "duration": 5,
        "start_time": "2022-09-06T13:36:27.955Z"
      },
      {
        "duration": 20,
        "start_time": "2022-09-06T13:36:27.962Z"
      },
      {
        "duration": 6,
        "start_time": "2022-09-06T13:36:27.984Z"
      },
      {
        "duration": 10,
        "start_time": "2022-09-06T13:36:28.005Z"
      },
      {
        "duration": 16,
        "start_time": "2022-09-06T13:36:28.016Z"
      },
      {
        "duration": 7,
        "start_time": "2022-09-06T13:36:28.037Z"
      },
      {
        "duration": 7,
        "start_time": "2022-09-06T13:36:28.045Z"
      },
      {
        "duration": 9,
        "start_time": "2022-09-06T13:36:28.054Z"
      },
      {
        "duration": 8,
        "start_time": "2022-09-06T13:36:28.065Z"
      },
      {
        "duration": 37,
        "start_time": "2022-09-06T13:36:28.076Z"
      },
      {
        "duration": 21,
        "start_time": "2022-09-06T13:36:28.118Z"
      },
      {
        "duration": 9,
        "start_time": "2022-09-06T13:36:28.141Z"
      },
      {
        "duration": 12,
        "start_time": "2022-09-06T13:36:28.152Z"
      },
      {
        "duration": 12,
        "start_time": "2022-09-06T13:36:28.166Z"
      },
      {
        "duration": 14,
        "start_time": "2022-09-06T13:36:28.179Z"
      },
      {
        "duration": 54,
        "start_time": "2022-09-06T13:36:28.195Z"
      },
      {
        "duration": 19,
        "start_time": "2022-09-06T13:36:28.251Z"
      },
      {
        "duration": 17,
        "start_time": "2022-09-06T13:36:28.272Z"
      },
      {
        "duration": 4,
        "start_time": "2022-09-06T13:36:28.291Z"
      },
      {
        "duration": 9,
        "start_time": "2022-09-06T13:36:28.303Z"
      },
      {
        "duration": 12,
        "start_time": "2022-09-06T13:36:28.314Z"
      },
      {
        "duration": 8,
        "start_time": "2022-09-06T13:36:28.328Z"
      },
      {
        "duration": 7,
        "start_time": "2022-09-06T13:36:28.338Z"
      },
      {
        "duration": 15,
        "start_time": "2022-09-06T13:36:28.347Z"
      },
      {
        "duration": 27,
        "start_time": "2022-09-06T13:36:28.364Z"
      },
      {
        "duration": 40,
        "start_time": "2022-09-06T13:36:28.393Z"
      },
      {
        "duration": 17,
        "start_time": "2022-09-06T13:36:28.435Z"
      },
      {
        "duration": 15,
        "start_time": "2022-09-06T13:36:28.454Z"
      },
      {
        "duration": 4,
        "start_time": "2022-09-06T13:36:28.471Z"
      },
      {
        "duration": 32,
        "start_time": "2022-09-06T13:36:28.477Z"
      },
      {
        "duration": 16,
        "start_time": "2022-09-06T13:36:28.517Z"
      },
      {
        "duration": 11,
        "start_time": "2022-09-06T13:36:28.534Z"
      },
      {
        "duration": 7,
        "start_time": "2022-09-06T13:36:28.547Z"
      },
      {
        "duration": 22,
        "start_time": "2022-09-06T13:36:28.556Z"
      },
      {
        "duration": 31,
        "start_time": "2022-09-06T13:36:28.580Z"
      },
      {
        "duration": 14,
        "start_time": "2022-09-06T13:36:28.619Z"
      },
      {
        "duration": 4,
        "start_time": "2022-09-06T13:36:28.634Z"
      },
      {
        "duration": 10,
        "start_time": "2022-09-06T13:36:28.640Z"
      },
      {
        "duration": 13,
        "start_time": "2022-09-06T13:36:28.652Z"
      },
      {
        "duration": 6,
        "start_time": "2022-09-06T13:36:28.667Z"
      },
      {
        "duration": 16,
        "start_time": "2022-09-06T13:36:28.674Z"
      },
      {
        "duration": 35,
        "start_time": "2022-09-06T13:36:28.692Z"
      },
      {
        "duration": 11,
        "start_time": "2022-09-06T13:36:28.728Z"
      },
      {
        "duration": 19,
        "start_time": "2022-09-06T13:36:28.741Z"
      },
      {
        "duration": 8,
        "start_time": "2022-09-06T13:36:28.762Z"
      },
      {
        "duration": 35,
        "start_time": "2022-09-06T13:36:28.771Z"
      },
      {
        "duration": 12,
        "start_time": "2022-09-06T13:36:28.808Z"
      },
      {
        "duration": 14,
        "start_time": "2022-09-06T13:36:28.822Z"
      },
      {
        "duration": 34,
        "start_time": "2022-09-06T13:36:28.838Z"
      },
      {
        "duration": 13,
        "start_time": "2022-09-06T13:36:28.875Z"
      },
      {
        "duration": 16,
        "start_time": "2022-09-06T13:36:28.890Z"
      },
      {
        "duration": 129,
        "start_time": "2022-09-06T13:36:28.912Z"
      },
      {
        "duration": 0,
        "start_time": "2022-09-06T13:36:29.044Z"
      },
      {
        "duration": 0,
        "start_time": "2022-09-06T13:36:29.045Z"
      },
      {
        "duration": 0,
        "start_time": "2022-09-06T13:36:29.047Z"
      },
      {
        "duration": 9,
        "start_time": "2022-09-06T15:12:07.529Z"
      },
      {
        "duration": 7,
        "start_time": "2022-09-06T15:12:18.058Z"
      },
      {
        "duration": 12,
        "start_time": "2022-09-06T16:55:31.188Z"
      },
      {
        "duration": 30,
        "start_time": "2022-09-06T16:55:45.267Z"
      },
      {
        "duration": 67,
        "start_time": "2022-09-06T16:56:20.562Z"
      },
      {
        "duration": 13,
        "start_time": "2022-09-06T16:57:06.226Z"
      },
      {
        "duration": 9,
        "start_time": "2022-09-06T17:00:33.679Z"
      },
      {
        "duration": 10,
        "start_time": "2022-09-06T17:01:00.487Z"
      },
      {
        "duration": 11,
        "start_time": "2022-09-06T17:01:34.343Z"
      },
      {
        "duration": 14,
        "start_time": "2022-09-06T17:02:21.086Z"
      },
      {
        "duration": 15,
        "start_time": "2022-09-06T17:03:03.059Z"
      },
      {
        "duration": 13,
        "start_time": "2022-09-06T17:03:16.146Z"
      },
      {
        "duration": 13,
        "start_time": "2022-09-06T17:06:44.689Z"
      },
      {
        "duration": 17,
        "start_time": "2022-09-06T17:07:33.502Z"
      },
      {
        "duration": 13,
        "start_time": "2022-09-06T17:16:01.684Z"
      },
      {
        "duration": 12,
        "start_time": "2022-09-06T17:39:30.137Z"
      },
      {
        "duration": 17,
        "start_time": "2022-09-06T17:40:09.334Z"
      },
      {
        "duration": 16,
        "start_time": "2022-09-06T17:56:47.876Z"
      },
      {
        "duration": 12,
        "start_time": "2022-09-06T18:08:45.670Z"
      },
      {
        "duration": 491,
        "start_time": "2022-09-06T20:20:59.491Z"
      },
      {
        "duration": 67,
        "start_time": "2022-09-06T20:20:59.984Z"
      },
      {
        "duration": 8,
        "start_time": "2022-09-06T20:21:00.053Z"
      },
      {
        "duration": 26,
        "start_time": "2022-09-06T20:21:00.063Z"
      },
      {
        "duration": 21,
        "start_time": "2022-09-06T20:21:00.091Z"
      },
      {
        "duration": 27,
        "start_time": "2022-09-06T20:21:00.114Z"
      },
      {
        "duration": 16,
        "start_time": "2022-09-06T20:21:00.142Z"
      },
      {
        "duration": 40,
        "start_time": "2022-09-06T20:21:00.160Z"
      },
      {
        "duration": 44,
        "start_time": "2022-09-06T20:21:00.202Z"
      },
      {
        "duration": 20,
        "start_time": "2022-09-06T20:21:00.248Z"
      },
      {
        "duration": 33,
        "start_time": "2022-09-06T20:21:00.269Z"
      },
      {
        "duration": 43,
        "start_time": "2022-09-06T20:21:00.304Z"
      },
      {
        "duration": 45,
        "start_time": "2022-09-06T20:21:00.349Z"
      },
      {
        "duration": 46,
        "start_time": "2022-09-06T20:21:00.398Z"
      },
      {
        "duration": 43,
        "start_time": "2022-09-06T20:21:00.447Z"
      },
      {
        "duration": 47,
        "start_time": "2022-09-06T20:21:00.492Z"
      },
      {
        "duration": 26,
        "start_time": "2022-09-06T20:21:00.541Z"
      },
      {
        "duration": 20,
        "start_time": "2022-09-06T20:21:00.569Z"
      },
      {
        "duration": 27,
        "start_time": "2022-09-06T20:21:00.591Z"
      },
      {
        "duration": 13,
        "start_time": "2022-09-06T20:21:00.620Z"
      },
      {
        "duration": 31,
        "start_time": "2022-09-06T20:21:00.635Z"
      },
      {
        "duration": 16,
        "start_time": "2022-09-06T20:21:00.668Z"
      },
      {
        "duration": 5,
        "start_time": "2022-09-06T20:21:00.686Z"
      },
      {
        "duration": 16,
        "start_time": "2022-09-06T20:21:00.693Z"
      },
      {
        "duration": 22,
        "start_time": "2022-09-06T20:21:00.711Z"
      },
      {
        "duration": 30,
        "start_time": "2022-09-06T20:21:00.735Z"
      },
      {
        "duration": 34,
        "start_time": "2022-09-06T20:21:00.767Z"
      },
      {
        "duration": 32,
        "start_time": "2022-09-06T20:21:00.803Z"
      },
      {
        "duration": 46,
        "start_time": "2022-09-06T20:21:00.837Z"
      },
      {
        "duration": 52,
        "start_time": "2022-09-06T20:21:00.885Z"
      },
      {
        "duration": 51,
        "start_time": "2022-09-06T20:21:00.940Z"
      },
      {
        "duration": 38,
        "start_time": "2022-09-06T20:21:00.993Z"
      },
      {
        "duration": 34,
        "start_time": "2022-09-06T20:21:01.033Z"
      },
      {
        "duration": 31,
        "start_time": "2022-09-06T20:21:01.069Z"
      },
      {
        "duration": 37,
        "start_time": "2022-09-06T20:21:01.102Z"
      },
      {
        "duration": 42,
        "start_time": "2022-09-06T20:21:01.143Z"
      },
      {
        "duration": 26,
        "start_time": "2022-09-06T20:21:01.188Z"
      },
      {
        "duration": 85,
        "start_time": "2022-09-06T20:21:01.217Z"
      },
      {
        "duration": 32,
        "start_time": "2022-09-06T20:21:01.305Z"
      },
      {
        "duration": 23,
        "start_time": "2022-09-06T20:21:01.339Z"
      },
      {
        "duration": 3,
        "start_time": "2022-09-06T20:21:01.367Z"
      },
      {
        "duration": 17,
        "start_time": "2022-09-06T20:21:01.372Z"
      },
      {
        "duration": 36,
        "start_time": "2022-09-06T20:21:01.400Z"
      },
      {
        "duration": 15,
        "start_time": "2022-09-06T20:21:01.438Z"
      },
      {
        "duration": 15,
        "start_time": "2022-09-06T20:21:01.455Z"
      },
      {
        "duration": 15,
        "start_time": "2022-09-06T20:21:01.472Z"
      },
      {
        "duration": 22,
        "start_time": "2022-09-06T20:21:01.489Z"
      },
      {
        "duration": 33,
        "start_time": "2022-09-06T20:21:01.513Z"
      },
      {
        "duration": 26,
        "start_time": "2022-09-06T20:21:01.549Z"
      },
      {
        "duration": 16,
        "start_time": "2022-09-06T20:21:01.576Z"
      },
      {
        "duration": 10,
        "start_time": "2022-09-06T20:21:01.594Z"
      },
      {
        "duration": 14,
        "start_time": "2022-09-06T20:21:01.605Z"
      },
      {
        "duration": 16,
        "start_time": "2022-09-06T20:21:01.621Z"
      },
      {
        "duration": 15,
        "start_time": "2022-09-06T20:21:01.639Z"
      },
      {
        "duration": 7,
        "start_time": "2022-09-06T20:21:01.656Z"
      },
      {
        "duration": 26,
        "start_time": "2022-09-06T20:21:01.665Z"
      },
      {
        "duration": 36,
        "start_time": "2022-09-06T20:21:01.692Z"
      },
      {
        "duration": 14,
        "start_time": "2022-09-06T20:21:01.731Z"
      },
      {
        "duration": 5,
        "start_time": "2022-09-06T20:21:01.746Z"
      },
      {
        "duration": 7,
        "start_time": "2022-09-06T20:21:01.753Z"
      },
      {
        "duration": 41,
        "start_time": "2022-09-06T20:21:01.762Z"
      },
      {
        "duration": 8,
        "start_time": "2022-09-06T20:21:01.805Z"
      },
      {
        "duration": 12,
        "start_time": "2022-09-06T20:21:01.815Z"
      },
      {
        "duration": 30,
        "start_time": "2022-09-06T20:21:01.829Z"
      },
      {
        "duration": 7,
        "start_time": "2022-09-06T20:21:01.861Z"
      },
      {
        "duration": 18,
        "start_time": "2022-09-06T20:21:01.869Z"
      },
      {
        "duration": 32,
        "start_time": "2022-09-06T20:21:01.889Z"
      },
      {
        "duration": 22,
        "start_time": "2022-09-06T20:21:01.922Z"
      },
      {
        "duration": 12,
        "start_time": "2022-09-06T20:21:01.945Z"
      },
      {
        "duration": 9,
        "start_time": "2022-09-06T20:21:01.959Z"
      },
      {
        "duration": 3,
        "start_time": "2022-09-06T20:21:01.970Z"
      },
      {
        "duration": 11,
        "start_time": "2022-09-06T20:21:01.975Z"
      },
      {
        "duration": 19,
        "start_time": "2022-09-06T20:21:01.988Z"
      },
      {
        "duration": 23,
        "start_time": "2022-09-06T20:21:02.009Z"
      },
      {
        "duration": 15,
        "start_time": "2022-09-06T20:21:02.033Z"
      },
      {
        "duration": 16,
        "start_time": "2022-09-06T20:21:02.050Z"
      },
      {
        "duration": 46,
        "start_time": "2022-09-06T20:21:02.067Z"
      },
      {
        "duration": 47,
        "start_time": "2022-09-07T18:26:19.610Z"
      },
      {
        "duration": 422,
        "start_time": "2022-09-07T18:26:26.352Z"
      },
      {
        "duration": 55,
        "start_time": "2022-09-07T18:26:26.776Z"
      },
      {
        "duration": 8,
        "start_time": "2022-09-07T18:26:26.833Z"
      },
      {
        "duration": 14,
        "start_time": "2022-09-07T18:26:26.843Z"
      },
      {
        "duration": 12,
        "start_time": "2022-09-07T18:26:26.859Z"
      },
      {
        "duration": 12,
        "start_time": "2022-09-07T18:26:26.872Z"
      },
      {
        "duration": 6,
        "start_time": "2022-09-07T18:26:26.885Z"
      },
      {
        "duration": 14,
        "start_time": "2022-09-07T18:26:26.892Z"
      },
      {
        "duration": 8,
        "start_time": "2022-09-07T18:26:26.907Z"
      },
      {
        "duration": 6,
        "start_time": "2022-09-07T18:26:26.917Z"
      },
      {
        "duration": 38,
        "start_time": "2022-09-07T18:26:26.924Z"
      },
      {
        "duration": 9,
        "start_time": "2022-09-07T18:26:26.964Z"
      },
      {
        "duration": 15,
        "start_time": "2022-09-07T18:26:26.975Z"
      },
      {
        "duration": 9,
        "start_time": "2022-09-07T18:26:26.992Z"
      },
      {
        "duration": 13,
        "start_time": "2022-09-07T18:26:27.002Z"
      },
      {
        "duration": 11,
        "start_time": "2022-09-07T18:26:27.017Z"
      },
      {
        "duration": 5,
        "start_time": "2022-09-07T18:26:27.055Z"
      },
      {
        "duration": 5,
        "start_time": "2022-09-07T18:26:27.061Z"
      },
      {
        "duration": 5,
        "start_time": "2022-09-07T18:26:27.068Z"
      },
      {
        "duration": 5,
        "start_time": "2022-09-07T18:26:27.074Z"
      },
      {
        "duration": 23,
        "start_time": "2022-09-07T18:26:27.080Z"
      },
      {
        "duration": 12,
        "start_time": "2022-09-07T18:26:27.104Z"
      },
      {
        "duration": 4,
        "start_time": "2022-09-07T18:26:27.117Z"
      },
      {
        "duration": 38,
        "start_time": "2022-09-07T18:26:27.122Z"
      },
      {
        "duration": 5,
        "start_time": "2022-09-07T18:26:27.162Z"
      },
      {
        "duration": 6,
        "start_time": "2022-09-07T18:26:27.169Z"
      },
      {
        "duration": 7,
        "start_time": "2022-09-07T18:26:27.177Z"
      },
      {
        "duration": 10,
        "start_time": "2022-09-07T18:26:27.189Z"
      },
      {
        "duration": 4,
        "start_time": "2022-09-07T18:26:27.201Z"
      },
      {
        "duration": 10,
        "start_time": "2022-09-07T18:26:27.207Z"
      },
      {
        "duration": 9,
        "start_time": "2022-09-07T18:26:27.218Z"
      },
      {
        "duration": 36,
        "start_time": "2022-09-07T18:26:27.228Z"
      },
      {
        "duration": 7,
        "start_time": "2022-09-07T18:26:27.266Z"
      },
      {
        "duration": 12,
        "start_time": "2022-09-07T18:26:27.274Z"
      },
      {
        "duration": 13,
        "start_time": "2022-09-07T18:26:27.288Z"
      },
      {
        "duration": 7,
        "start_time": "2022-09-07T18:26:27.303Z"
      },
      {
        "duration": 9,
        "start_time": "2022-09-07T18:26:27.312Z"
      },
      {
        "duration": 47,
        "start_time": "2022-09-07T18:26:27.323Z"
      },
      {
        "duration": 19,
        "start_time": "2022-09-07T18:26:27.372Z"
      },
      {
        "duration": 16,
        "start_time": "2022-09-07T18:26:27.393Z"
      },
      {
        "duration": 3,
        "start_time": "2022-09-07T18:26:27.412Z"
      },
      {
        "duration": 11,
        "start_time": "2022-09-07T18:26:27.417Z"
      },
      {
        "duration": 31,
        "start_time": "2022-09-07T18:26:27.429Z"
      },
      {
        "duration": 8,
        "start_time": "2022-09-07T18:26:27.462Z"
      },
      {
        "duration": 8,
        "start_time": "2022-09-07T18:26:27.471Z"
      },
      {
        "duration": 12,
        "start_time": "2022-09-07T18:26:27.480Z"
      },
      {
        "duration": 16,
        "start_time": "2022-09-07T18:26:27.493Z"
      },
      {
        "duration": 41,
        "start_time": "2022-09-07T18:26:27.511Z"
      },
      {
        "duration": 12,
        "start_time": "2022-09-07T18:26:27.554Z"
      },
      {
        "duration": 11,
        "start_time": "2022-09-07T18:26:27.568Z"
      },
      {
        "duration": 4,
        "start_time": "2022-09-07T18:26:27.580Z"
      },
      {
        "duration": 10,
        "start_time": "2022-09-07T18:26:27.585Z"
      },
      {
        "duration": 11,
        "start_time": "2022-09-07T18:26:27.597Z"
      },
      {
        "duration": 4,
        "start_time": "2022-09-07T18:26:27.610Z"
      },
      {
        "duration": 5,
        "start_time": "2022-09-07T18:26:27.616Z"
      },
      {
        "duration": 49,
        "start_time": "2022-09-07T18:26:27.623Z"
      },
      {
        "duration": 12,
        "start_time": "2022-09-07T18:26:27.674Z"
      },
      {
        "duration": 11,
        "start_time": "2022-09-07T18:26:27.688Z"
      },
      {
        "duration": 4,
        "start_time": "2022-09-07T18:26:27.700Z"
      },
      {
        "duration": 7,
        "start_time": "2022-09-07T18:26:27.705Z"
      },
      {
        "duration": 15,
        "start_time": "2022-09-07T18:26:27.713Z"
      },
      {
        "duration": 26,
        "start_time": "2022-09-07T18:26:27.730Z"
      },
      {
        "duration": 5,
        "start_time": "2022-09-07T18:26:27.757Z"
      },
      {
        "duration": 16,
        "start_time": "2022-09-07T18:26:27.763Z"
      },
      {
        "duration": 7,
        "start_time": "2022-09-07T18:26:27.780Z"
      },
      {
        "duration": 20,
        "start_time": "2022-09-07T18:26:27.789Z"
      },
      {
        "duration": 4,
        "start_time": "2022-09-07T18:26:27.811Z"
      },
      {
        "duration": 40,
        "start_time": "2022-09-07T18:26:27.816Z"
      },
      {
        "duration": 8,
        "start_time": "2022-09-07T18:26:27.858Z"
      },
      {
        "duration": 7,
        "start_time": "2022-09-07T18:26:27.868Z"
      },
      {
        "duration": 3,
        "start_time": "2022-09-07T18:26:27.876Z"
      },
      {
        "duration": 9,
        "start_time": "2022-09-07T18:26:27.881Z"
      },
      {
        "duration": 6,
        "start_time": "2022-09-07T18:26:27.891Z"
      },
      {
        "duration": 14,
        "start_time": "2022-09-07T18:26:27.898Z"
      },
      {
        "duration": 43,
        "start_time": "2022-09-07T18:26:27.913Z"
      },
      {
        "duration": 12,
        "start_time": "2022-09-07T18:26:27.957Z"
      },
      {
        "duration": 9,
        "start_time": "2022-09-07T18:26:27.970Z"
      },
      {
        "duration": 4,
        "start_time": "2022-09-07T18:26:37.986Z"
      },
      {
        "duration": 54,
        "start_time": "2022-09-07T18:27:23.949Z"
      },
      {
        "duration": 20,
        "start_time": "2022-09-07T18:27:27.502Z"
      },
      {
        "duration": 377,
        "start_time": "2022-09-08T05:36:51.801Z"
      },
      {
        "duration": 162,
        "start_time": "2022-09-08T05:36:52.179Z"
      },
      {
        "duration": 12,
        "start_time": "2022-09-08T05:36:52.342Z"
      },
      {
        "duration": 33,
        "start_time": "2022-09-08T05:36:52.356Z"
      },
      {
        "duration": 14,
        "start_time": "2022-09-08T05:36:52.391Z"
      },
      {
        "duration": 12,
        "start_time": "2022-09-08T05:36:52.407Z"
      },
      {
        "duration": 7,
        "start_time": "2022-09-08T05:36:52.421Z"
      },
      {
        "duration": 29,
        "start_time": "2022-09-08T05:36:52.430Z"
      },
      {
        "duration": 14,
        "start_time": "2022-09-08T05:36:52.460Z"
      },
      {
        "duration": 9,
        "start_time": "2022-09-08T05:36:52.477Z"
      },
      {
        "duration": 19,
        "start_time": "2022-09-08T05:36:52.487Z"
      },
      {
        "duration": 10,
        "start_time": "2022-09-08T05:36:52.508Z"
      },
      {
        "duration": 20,
        "start_time": "2022-09-08T05:36:52.519Z"
      },
      {
        "duration": 19,
        "start_time": "2022-09-08T05:36:52.541Z"
      },
      {
        "duration": 8,
        "start_time": "2022-09-08T05:36:52.569Z"
      },
      {
        "duration": 14,
        "start_time": "2022-09-08T05:36:52.579Z"
      },
      {
        "duration": 9,
        "start_time": "2022-09-08T05:36:52.595Z"
      },
      {
        "duration": 6,
        "start_time": "2022-09-08T05:36:52.606Z"
      },
      {
        "duration": 6,
        "start_time": "2022-09-08T05:36:52.613Z"
      },
      {
        "duration": 6,
        "start_time": "2022-09-08T05:36:52.621Z"
      },
      {
        "duration": 41,
        "start_time": "2022-09-08T05:36:52.628Z"
      },
      {
        "duration": 13,
        "start_time": "2022-09-08T05:36:52.671Z"
      },
      {
        "duration": 4,
        "start_time": "2022-09-08T05:36:52.685Z"
      },
      {
        "duration": 10,
        "start_time": "2022-09-08T05:36:52.690Z"
      },
      {
        "duration": 5,
        "start_time": "2022-09-08T05:36:52.702Z"
      },
      {
        "duration": 9,
        "start_time": "2022-09-08T05:36:52.708Z"
      },
      {
        "duration": 11,
        "start_time": "2022-09-08T05:36:52.718Z"
      },
      {
        "duration": 30,
        "start_time": "2022-09-08T05:36:52.733Z"
      },
      {
        "duration": 13,
        "start_time": "2022-09-08T05:36:52.765Z"
      },
      {
        "duration": 13,
        "start_time": "2022-09-08T05:36:52.779Z"
      },
      {
        "duration": 9,
        "start_time": "2022-09-08T05:36:52.793Z"
      },
      {
        "duration": 17,
        "start_time": "2022-09-08T05:36:52.803Z"
      },
      {
        "duration": 8,
        "start_time": "2022-09-08T05:36:52.821Z"
      },
      {
        "duration": 7,
        "start_time": "2022-09-08T05:36:52.831Z"
      },
      {
        "duration": 9,
        "start_time": "2022-09-08T05:36:52.839Z"
      },
      {
        "duration": 6,
        "start_time": "2022-09-08T05:36:52.857Z"
      },
      {
        "duration": 27,
        "start_time": "2022-09-08T05:36:52.864Z"
      },
      {
        "duration": 36,
        "start_time": "2022-09-08T05:36:52.892Z"
      },
      {
        "duration": 17,
        "start_time": "2022-09-08T05:36:52.929Z"
      },
      {
        "duration": 17,
        "start_time": "2022-09-08T05:36:52.948Z"
      },
      {
        "duration": 3,
        "start_time": "2022-09-08T05:36:52.967Z"
      },
      {
        "duration": 15,
        "start_time": "2022-09-08T05:36:52.973Z"
      },
      {
        "duration": 15,
        "start_time": "2022-09-08T05:36:52.989Z"
      },
      {
        "duration": 12,
        "start_time": "2022-09-08T05:36:53.005Z"
      },
      {
        "duration": 7,
        "start_time": "2022-09-08T05:36:53.018Z"
      },
      {
        "duration": 18,
        "start_time": "2022-09-08T05:36:53.026Z"
      },
      {
        "duration": 39,
        "start_time": "2022-09-08T05:36:53.046Z"
      },
      {
        "duration": 42,
        "start_time": "2022-09-08T05:36:53.087Z"
      },
      {
        "duration": 14,
        "start_time": "2022-09-08T05:36:53.130Z"
      },
      {
        "duration": 16,
        "start_time": "2022-09-08T05:36:53.146Z"
      },
      {
        "duration": 12,
        "start_time": "2022-09-08T05:36:53.167Z"
      },
      {
        "duration": 20,
        "start_time": "2022-09-08T05:36:53.181Z"
      },
      {
        "duration": 23,
        "start_time": "2022-09-08T05:36:53.203Z"
      },
      {
        "duration": 26,
        "start_time": "2022-09-08T05:36:53.227Z"
      },
      {
        "duration": 37,
        "start_time": "2022-09-08T05:36:53.255Z"
      },
      {
        "duration": 36,
        "start_time": "2022-09-08T05:36:53.294Z"
      },
      {
        "duration": 13,
        "start_time": "2022-09-08T05:36:53.331Z"
      },
      {
        "duration": 24,
        "start_time": "2022-09-08T05:36:53.345Z"
      },
      {
        "duration": 5,
        "start_time": "2022-09-08T05:36:53.371Z"
      },
      {
        "duration": 26,
        "start_time": "2022-09-08T05:36:53.377Z"
      },
      {
        "duration": 18,
        "start_time": "2022-09-08T05:36:53.404Z"
      },
      {
        "duration": 4,
        "start_time": "2022-09-08T05:36:53.424Z"
      },
      {
        "duration": 9,
        "start_time": "2022-09-08T05:36:53.430Z"
      },
      {
        "duration": 27,
        "start_time": "2022-09-08T05:36:53.440Z"
      },
      {
        "duration": 11,
        "start_time": "2022-09-08T05:36:53.469Z"
      },
      {
        "duration": 51,
        "start_time": "2022-09-08T05:36:53.481Z"
      },
      {
        "duration": 4,
        "start_time": "2022-09-08T05:36:53.534Z"
      },
      {
        "duration": 29,
        "start_time": "2022-09-08T05:36:53.539Z"
      },
      {
        "duration": 16,
        "start_time": "2022-09-08T05:36:53.570Z"
      },
      {
        "duration": 8,
        "start_time": "2022-09-08T05:36:53.587Z"
      },
      {
        "duration": 8,
        "start_time": "2022-09-08T05:36:53.597Z"
      },
      {
        "duration": 11,
        "start_time": "2022-09-08T05:36:53.607Z"
      },
      {
        "duration": 9,
        "start_time": "2022-09-08T05:36:53.620Z"
      },
      {
        "duration": 15,
        "start_time": "2022-09-08T05:36:53.631Z"
      },
      {
        "duration": 20,
        "start_time": "2022-09-08T05:36:53.658Z"
      },
      {
        "duration": 22,
        "start_time": "2022-09-08T05:36:53.680Z"
      },
      {
        "duration": 14,
        "start_time": "2022-09-08T05:36:53.704Z"
      },
      {
        "duration": 9,
        "start_time": "2022-09-08T05:36:53.720Z"
      },
      {
        "duration": 28,
        "start_time": "2022-09-08T05:38:01.246Z"
      },
      {
        "duration": 64,
        "start_time": "2022-09-08T05:38:26.041Z"
      },
      {
        "duration": 15,
        "start_time": "2022-09-08T05:38:49.717Z"
      },
      {
        "duration": 15,
        "start_time": "2022-09-08T05:38:52.856Z"
      },
      {
        "duration": 16,
        "start_time": "2022-09-08T05:40:46.829Z"
      },
      {
        "duration": 9,
        "start_time": "2022-09-08T05:40:50.428Z"
      },
      {
        "duration": 16,
        "start_time": "2022-09-08T05:41:28.392Z"
      },
      {
        "duration": 10,
        "start_time": "2022-09-08T05:41:32.021Z"
      },
      {
        "duration": 10,
        "start_time": "2022-09-08T05:41:36.379Z"
      },
      {
        "duration": 22,
        "start_time": "2022-09-08T05:48:14.397Z"
      },
      {
        "duration": 29,
        "start_time": "2022-09-08T05:48:40.247Z"
      },
      {
        "duration": 21,
        "start_time": "2022-09-08T05:49:02.850Z"
      },
      {
        "duration": 19,
        "start_time": "2022-09-08T05:50:40.989Z"
      },
      {
        "duration": 19,
        "start_time": "2022-09-08T05:50:59.570Z"
      },
      {
        "duration": 26,
        "start_time": "2022-09-08T05:51:22.272Z"
      },
      {
        "duration": 21,
        "start_time": "2022-09-08T05:51:57.110Z"
      },
      {
        "duration": 18,
        "start_time": "2022-09-08T05:52:13.894Z"
      },
      {
        "duration": 6,
        "start_time": "2022-09-08T05:54:07.401Z"
      },
      {
        "duration": 14,
        "start_time": "2022-09-08T05:54:53.416Z"
      },
      {
        "duration": 370,
        "start_time": "2022-09-08T05:56:10.996Z"
      },
      {
        "duration": 54,
        "start_time": "2022-09-08T05:56:11.371Z"
      },
      {
        "duration": 9,
        "start_time": "2022-09-08T05:56:11.426Z"
      },
      {
        "duration": 18,
        "start_time": "2022-09-08T05:56:11.437Z"
      },
      {
        "duration": 20,
        "start_time": "2022-09-08T05:56:11.459Z"
      },
      {
        "duration": 13,
        "start_time": "2022-09-08T05:56:11.480Z"
      },
      {
        "duration": 6,
        "start_time": "2022-09-08T05:56:11.494Z"
      },
      {
        "duration": 13,
        "start_time": "2022-09-08T05:56:11.502Z"
      },
      {
        "duration": 13,
        "start_time": "2022-09-08T05:56:15.999Z"
      },
      {
        "duration": 11,
        "start_time": "2022-09-08T05:59:30.780Z"
      },
      {
        "duration": 19,
        "start_time": "2022-09-08T06:00:49.310Z"
      },
      {
        "duration": 19,
        "start_time": "2022-09-08T07:48:08.757Z"
      },
      {
        "duration": 36,
        "start_time": "2022-09-08T07:49:45.239Z"
      },
      {
        "duration": 24,
        "start_time": "2022-09-08T07:49:57.114Z"
      },
      {
        "duration": 25,
        "start_time": "2022-09-08T07:51:06.449Z"
      },
      {
        "duration": 14,
        "start_time": "2022-09-08T07:51:10.240Z"
      },
      {
        "duration": 12,
        "start_time": "2022-09-08T07:52:10.435Z"
      },
      {
        "duration": 5,
        "start_time": "2022-09-08T07:53:38.069Z"
      },
      {
        "duration": 5,
        "start_time": "2022-09-08T07:53:53.679Z"
      },
      {
        "duration": 17,
        "start_time": "2022-09-08T07:54:09.872Z"
      },
      {
        "duration": 15,
        "start_time": "2022-09-08T07:54:25.553Z"
      },
      {
        "duration": 5,
        "start_time": "2022-09-08T07:55:27.898Z"
      },
      {
        "duration": 5,
        "start_time": "2022-09-08T07:55:36.321Z"
      },
      {
        "duration": 76,
        "start_time": "2022-09-08T07:57:40.032Z"
      },
      {
        "duration": 5,
        "start_time": "2022-09-08T07:58:22.996Z"
      },
      {
        "duration": 15,
        "start_time": "2022-09-08T07:58:26.012Z"
      },
      {
        "duration": 27,
        "start_time": "2022-09-08T07:58:54.064Z"
      },
      {
        "duration": 5,
        "start_time": "2022-09-08T07:59:51.389Z"
      },
      {
        "duration": 16,
        "start_time": "2022-09-08T08:00:31.170Z"
      },
      {
        "duration": 13,
        "start_time": "2022-09-08T08:02:26.823Z"
      },
      {
        "duration": 13,
        "start_time": "2022-09-08T08:02:33.529Z"
      },
      {
        "duration": 4,
        "start_time": "2022-09-08T08:02:50.405Z"
      },
      {
        "duration": 12,
        "start_time": "2022-09-08T08:02:56.782Z"
      },
      {
        "duration": 14,
        "start_time": "2022-09-08T08:03:36.978Z"
      },
      {
        "duration": 18,
        "start_time": "2022-09-08T08:04:19.416Z"
      },
      {
        "duration": 13,
        "start_time": "2022-09-08T08:05:02.810Z"
      },
      {
        "duration": 21,
        "start_time": "2022-09-08T08:05:39.047Z"
      },
      {
        "duration": 16,
        "start_time": "2022-09-08T08:05:57.283Z"
      },
      {
        "duration": 14,
        "start_time": "2022-09-08T08:06:44.273Z"
      },
      {
        "duration": 11,
        "start_time": "2022-09-08T08:06:54.488Z"
      },
      {
        "duration": 13,
        "start_time": "2022-09-08T08:07:01.966Z"
      },
      {
        "duration": 18,
        "start_time": "2022-09-08T08:07:08.167Z"
      },
      {
        "duration": 13,
        "start_time": "2022-09-08T08:07:14.869Z"
      },
      {
        "duration": 13,
        "start_time": "2022-09-08T08:07:23.394Z"
      },
      {
        "duration": 13,
        "start_time": "2022-09-08T08:07:31.586Z"
      },
      {
        "duration": 14,
        "start_time": "2022-09-08T08:08:02.897Z"
      },
      {
        "duration": 15,
        "start_time": "2022-09-08T08:08:14.114Z"
      },
      {
        "duration": 13,
        "start_time": "2022-09-08T08:08:21.298Z"
      },
      {
        "duration": 23,
        "start_time": "2022-09-08T08:08:52.115Z"
      },
      {
        "duration": 400,
        "start_time": "2022-09-08T08:09:04.074Z"
      },
      {
        "duration": 61,
        "start_time": "2022-09-08T08:09:04.475Z"
      },
      {
        "duration": 7,
        "start_time": "2022-09-08T08:09:04.538Z"
      },
      {
        "duration": 22,
        "start_time": "2022-09-08T08:09:04.547Z"
      },
      {
        "duration": 18,
        "start_time": "2022-09-08T08:09:04.571Z"
      },
      {
        "duration": 13,
        "start_time": "2022-09-08T08:09:04.591Z"
      },
      {
        "duration": 6,
        "start_time": "2022-09-08T08:09:04.605Z"
      },
      {
        "duration": 18,
        "start_time": "2022-09-08T08:09:04.613Z"
      },
      {
        "duration": 34,
        "start_time": "2022-09-08T08:09:04.632Z"
      },
      {
        "duration": 5,
        "start_time": "2022-09-08T08:09:04.669Z"
      },
      {
        "duration": 24,
        "start_time": "2022-09-08T08:09:04.676Z"
      },
      {
        "duration": 22,
        "start_time": "2022-09-08T08:09:04.701Z"
      },
      {
        "duration": 45,
        "start_time": "2022-09-08T08:09:04.725Z"
      },
      {
        "duration": 27,
        "start_time": "2022-09-08T08:09:04.773Z"
      },
      {
        "duration": 21,
        "start_time": "2022-09-08T08:09:04.802Z"
      },
      {
        "duration": 35,
        "start_time": "2022-09-08T08:09:04.825Z"
      },
      {
        "duration": 13,
        "start_time": "2022-09-08T08:09:04.868Z"
      },
      {
        "duration": 5,
        "start_time": "2022-09-08T08:09:04.883Z"
      },
      {
        "duration": 21,
        "start_time": "2022-09-08T08:09:04.889Z"
      },
      {
        "duration": 12,
        "start_time": "2022-09-08T08:09:04.911Z"
      },
      {
        "duration": 55,
        "start_time": "2022-09-08T08:09:04.924Z"
      },
      {
        "duration": 13,
        "start_time": "2022-09-08T08:09:04.981Z"
      },
      {
        "duration": 4,
        "start_time": "2022-09-08T08:09:04.996Z"
      },
      {
        "duration": 22,
        "start_time": "2022-09-08T08:09:05.002Z"
      },
      {
        "duration": 45,
        "start_time": "2022-09-08T08:09:05.026Z"
      },
      {
        "duration": 6,
        "start_time": "2022-09-08T08:09:05.073Z"
      },
      {
        "duration": 10,
        "start_time": "2022-09-08T08:09:05.081Z"
      },
      {
        "duration": 5,
        "start_time": "2022-09-08T08:09:05.095Z"
      },
      {
        "duration": 15,
        "start_time": "2022-09-08T08:09:05.102Z"
      },
      {
        "duration": 3,
        "start_time": "2022-09-08T08:09:05.119Z"
      },
      {
        "duration": 16,
        "start_time": "2022-09-08T08:09:05.123Z"
      },
      {
        "duration": 29,
        "start_time": "2022-09-08T08:09:05.140Z"
      },
      {
        "duration": 20,
        "start_time": "2022-09-08T08:09:05.171Z"
      },
      {
        "duration": 18,
        "start_time": "2022-09-08T08:09:05.192Z"
      },
      {
        "duration": 17,
        "start_time": "2022-09-08T08:09:05.212Z"
      },
      {
        "duration": 15,
        "start_time": "2022-09-08T08:09:05.231Z"
      },
      {
        "duration": 16,
        "start_time": "2022-09-08T08:09:05.247Z"
      },
      {
        "duration": 36,
        "start_time": "2022-09-08T08:09:05.265Z"
      },
      {
        "duration": 30,
        "start_time": "2022-09-08T08:09:05.303Z"
      },
      {
        "duration": 30,
        "start_time": "2022-09-08T08:09:05.335Z"
      },
      {
        "duration": 20,
        "start_time": "2022-09-08T08:09:05.371Z"
      },
      {
        "duration": 4,
        "start_time": "2022-09-08T08:09:05.393Z"
      },
      {
        "duration": 10,
        "start_time": "2022-09-08T08:09:05.399Z"
      },
      {
        "duration": 23,
        "start_time": "2022-09-08T08:09:05.412Z"
      },
      {
        "duration": 8,
        "start_time": "2022-09-08T08:09:05.437Z"
      },
      {
        "duration": 12,
        "start_time": "2022-09-08T08:09:05.447Z"
      },
      {
        "duration": 22,
        "start_time": "2022-09-08T08:09:05.468Z"
      },
      {
        "duration": 24,
        "start_time": "2022-09-08T08:09:05.492Z"
      },
      {
        "duration": 26,
        "start_time": "2022-09-08T08:09:05.518Z"
      },
      {
        "duration": 24,
        "start_time": "2022-09-08T08:09:05.545Z"
      },
      {
        "duration": 13,
        "start_time": "2022-09-08T08:09:05.570Z"
      },
      {
        "duration": 4,
        "start_time": "2022-09-08T08:09:05.585Z"
      },
      {
        "duration": 6,
        "start_time": "2022-09-08T08:09:05.591Z"
      },
      {
        "duration": 17,
        "start_time": "2022-09-08T08:09:05.599Z"
      },
      {
        "duration": 4,
        "start_time": "2022-09-08T08:09:05.618Z"
      },
      {
        "duration": 18,
        "start_time": "2022-09-08T08:09:05.624Z"
      },
      {
        "duration": 36,
        "start_time": "2022-09-08T08:09:05.644Z"
      },
      {
        "duration": 18,
        "start_time": "2022-09-08T08:09:05.682Z"
      },
      {
        "duration": 23,
        "start_time": "2022-09-08T08:09:05.702Z"
      },
      {
        "duration": 4,
        "start_time": "2022-09-08T08:09:05.727Z"
      },
      {
        "duration": 30,
        "start_time": "2022-09-08T08:09:05.733Z"
      },
      {
        "duration": 21,
        "start_time": "2022-09-08T08:09:05.773Z"
      },
      {
        "duration": 4,
        "start_time": "2022-09-08T08:09:05.795Z"
      },
      {
        "duration": 8,
        "start_time": "2022-09-08T08:09:05.801Z"
      },
      {
        "duration": 22,
        "start_time": "2022-09-08T08:09:05.810Z"
      },
      {
        "duration": 7,
        "start_time": "2022-09-08T08:09:05.834Z"
      },
      {
        "duration": 27,
        "start_time": "2022-09-08T08:09:05.842Z"
      },
      {
        "duration": 11,
        "start_time": "2022-09-08T08:09:05.873Z"
      },
      {
        "duration": 18,
        "start_time": "2022-09-08T08:09:05.885Z"
      },
      {
        "duration": 12,
        "start_time": "2022-09-08T08:09:05.904Z"
      },
      {
        "duration": 10,
        "start_time": "2022-09-08T08:09:05.917Z"
      },
      {
        "duration": 4,
        "start_time": "2022-09-08T08:09:05.929Z"
      },
      {
        "duration": 35,
        "start_time": "2022-09-08T08:09:05.934Z"
      },
      {
        "duration": 12,
        "start_time": "2022-09-08T08:09:05.971Z"
      },
      {
        "duration": 33,
        "start_time": "2022-09-08T08:09:05.984Z"
      },
      {
        "duration": 9,
        "start_time": "2022-09-08T08:09:06.019Z"
      },
      {
        "duration": 36,
        "start_time": "2022-09-08T08:09:06.029Z"
      },
      {
        "duration": 9,
        "start_time": "2022-09-08T08:09:06.068Z"
      },
      {
        "duration": 27,
        "start_time": "2022-09-08T08:09:06.079Z"
      },
      {
        "duration": 8,
        "start_time": "2022-09-08T08:09:06.107Z"
      },
      {
        "duration": 27,
        "start_time": "2022-09-08T08:09:06.117Z"
      },
      {
        "duration": 3,
        "start_time": "2022-09-08T08:59:31.335Z"
      },
      {
        "duration": 3,
        "start_time": "2022-09-08T08:59:35.007Z"
      },
      {
        "duration": 5,
        "start_time": "2022-09-08T08:59:37.772Z"
      },
      {
        "duration": 4,
        "start_time": "2022-09-08T09:00:03.345Z"
      },
      {
        "duration": 12,
        "start_time": "2022-09-08T09:00:19.419Z"
      },
      {
        "duration": 18,
        "start_time": "2022-09-08T09:00:25.031Z"
      },
      {
        "duration": 36,
        "start_time": "2022-09-08T09:00:38.239Z"
      },
      {
        "duration": 8,
        "start_time": "2022-09-08T09:01:49.800Z"
      },
      {
        "duration": 7,
        "start_time": "2022-09-08T09:02:02.671Z"
      },
      {
        "duration": 59,
        "start_time": "2022-09-08T09:02:59.285Z"
      },
      {
        "duration": 52,
        "start_time": "2022-09-08T09:05:23.885Z"
      },
      {
        "duration": 18,
        "start_time": "2022-09-08T09:05:39.841Z"
      },
      {
        "duration": 377,
        "start_time": "2022-09-08T09:14:53.202Z"
      },
      {
        "duration": 55,
        "start_time": "2022-09-08T09:14:53.581Z"
      },
      {
        "duration": 8,
        "start_time": "2022-09-08T09:14:53.637Z"
      },
      {
        "duration": 25,
        "start_time": "2022-09-08T09:14:53.647Z"
      },
      {
        "duration": 18,
        "start_time": "2022-09-08T09:14:53.674Z"
      },
      {
        "duration": 14,
        "start_time": "2022-09-08T09:14:53.694Z"
      },
      {
        "duration": 9,
        "start_time": "2022-09-08T09:14:53.709Z"
      },
      {
        "duration": 15,
        "start_time": "2022-09-08T09:14:53.720Z"
      },
      {
        "duration": 43,
        "start_time": "2022-09-08T09:14:53.736Z"
      },
      {
        "duration": 4,
        "start_time": "2022-09-08T09:14:53.781Z"
      },
      {
        "duration": 21,
        "start_time": "2022-09-08T09:14:53.787Z"
      },
      {
        "duration": 17,
        "start_time": "2022-09-08T09:14:53.809Z"
      },
      {
        "duration": 43,
        "start_time": "2022-09-08T09:14:53.827Z"
      },
      {
        "duration": 26,
        "start_time": "2022-09-08T09:14:53.873Z"
      },
      {
        "duration": 20,
        "start_time": "2022-09-08T09:14:53.900Z"
      },
      {
        "duration": 11,
        "start_time": "2022-09-08T09:14:53.922Z"
      },
      {
        "duration": 32,
        "start_time": "2022-09-08T09:14:53.935Z"
      },
      {
        "duration": 5,
        "start_time": "2022-09-08T09:14:53.968Z"
      },
      {
        "duration": 19,
        "start_time": "2022-09-08T09:14:53.975Z"
      },
      {
        "duration": 11,
        "start_time": "2022-09-08T09:14:53.995Z"
      },
      {
        "duration": 20,
        "start_time": "2022-09-08T09:14:54.007Z"
      },
      {
        "duration": 35,
        "start_time": "2022-09-08T09:14:54.028Z"
      },
      {
        "duration": 8,
        "start_time": "2022-09-08T09:14:54.065Z"
      },
      {
        "duration": 24,
        "start_time": "2022-09-08T09:14:54.074Z"
      },
      {
        "duration": 12,
        "start_time": "2022-09-08T09:14:54.099Z"
      },
      {
        "duration": 6,
        "start_time": "2022-09-08T09:14:54.113Z"
      },
      {
        "duration": 9,
        "start_time": "2022-09-08T09:14:54.120Z"
      },
      {
        "duration": 27,
        "start_time": "2022-09-08T09:14:54.131Z"
      },
      {
        "duration": 13,
        "start_time": "2022-09-08T09:14:54.160Z"
      },
      {
        "duration": 9,
        "start_time": "2022-09-08T09:14:54.174Z"
      },
      {
        "duration": 14,
        "start_time": "2022-09-08T09:14:54.184Z"
      },
      {
        "duration": 10,
        "start_time": "2022-09-08T09:14:54.199Z"
      },
      {
        "duration": 11,
        "start_time": "2022-09-08T09:14:54.211Z"
      },
      {
        "duration": 8,
        "start_time": "2022-09-08T09:14:54.224Z"
      },
      {
        "duration": 31,
        "start_time": "2022-09-08T09:14:54.234Z"
      },
      {
        "duration": 16,
        "start_time": "2022-09-08T09:14:54.269Z"
      },
      {
        "duration": 2,
        "start_time": "2022-09-08T09:14:54.287Z"
      },
      {
        "duration": 13,
        "start_time": "2022-09-08T09:14:54.291Z"
      },
      {
        "duration": 24,
        "start_time": "2022-09-08T09:14:54.306Z"
      },
      {
        "duration": 38,
        "start_time": "2022-09-08T09:14:54.332Z"
      },
      {
        "duration": 15,
        "start_time": "2022-09-08T09:14:54.371Z"
      },
      {
        "duration": 4,
        "start_time": "2022-09-08T09:14:54.387Z"
      },
      {
        "duration": 7,
        "start_time": "2022-09-08T09:14:54.392Z"
      },
      {
        "duration": 8,
        "start_time": "2022-09-08T09:14:54.400Z"
      },
      {
        "duration": 7,
        "start_time": "2022-09-08T09:14:54.409Z"
      },
      {
        "duration": 6,
        "start_time": "2022-09-08T09:14:54.417Z"
      },
      {
        "duration": 10,
        "start_time": "2022-09-08T09:14:54.424Z"
      },
      {
        "duration": 32,
        "start_time": "2022-09-08T09:14:54.436Z"
      },
      {
        "duration": 25,
        "start_time": "2022-09-08T09:14:54.470Z"
      },
      {
        "duration": 6,
        "start_time": "2022-09-08T09:14:54.497Z"
      },
      {
        "duration": 55,
        "start_time": "2022-09-08T09:15:02.670Z"
      },
      {
        "duration": 14,
        "start_time": "2022-09-08T09:15:18.870Z"
      },
      {
        "duration": 53,
        "start_time": "2022-09-08T13:44:12.354Z"
      },
      {
        "duration": 389,
        "start_time": "2022-09-08T13:44:23.402Z"
      },
      {
        "duration": 224,
        "start_time": "2022-09-08T13:44:23.793Z"
      },
      {
        "duration": 8,
        "start_time": "2022-09-08T13:44:24.019Z"
      },
      {
        "duration": 18,
        "start_time": "2022-09-08T13:44:24.029Z"
      },
      {
        "duration": 15,
        "start_time": "2022-09-08T13:44:24.048Z"
      },
      {
        "duration": 13,
        "start_time": "2022-09-08T13:44:24.065Z"
      },
      {
        "duration": 6,
        "start_time": "2022-09-08T13:44:24.080Z"
      },
      {
        "duration": 14,
        "start_time": "2022-09-08T13:44:24.088Z"
      },
      {
        "duration": 16,
        "start_time": "2022-09-08T13:44:24.104Z"
      },
      {
        "duration": 3,
        "start_time": "2022-09-08T13:44:24.123Z"
      },
      {
        "duration": 52,
        "start_time": "2022-09-08T13:44:24.128Z"
      },
      {
        "duration": 19,
        "start_time": "2022-09-08T13:44:24.181Z"
      },
      {
        "duration": 15,
        "start_time": "2022-09-08T13:44:24.202Z"
      },
      {
        "duration": 50,
        "start_time": "2022-09-08T13:44:24.219Z"
      },
      {
        "duration": 24,
        "start_time": "2022-09-08T13:44:24.271Z"
      },
      {
        "duration": 13,
        "start_time": "2022-09-08T13:44:24.297Z"
      },
      {
        "duration": 10,
        "start_time": "2022-09-08T13:44:24.312Z"
      },
      {
        "duration": 4,
        "start_time": "2022-09-08T13:44:24.324Z"
      },
      {
        "duration": 54,
        "start_time": "2022-09-08T13:44:24.330Z"
      },
      {
        "duration": 12,
        "start_time": "2022-09-08T13:44:24.386Z"
      },
      {
        "duration": 22,
        "start_time": "2022-09-08T13:44:24.399Z"
      },
      {
        "duration": 14,
        "start_time": "2022-09-08T13:44:24.423Z"
      },
      {
        "duration": 33,
        "start_time": "2022-09-08T13:44:24.439Z"
      },
      {
        "duration": 23,
        "start_time": "2022-09-08T13:44:24.474Z"
      },
      {
        "duration": 12,
        "start_time": "2022-09-08T13:44:24.499Z"
      },
      {
        "duration": 6,
        "start_time": "2022-09-08T13:44:24.513Z"
      },
      {
        "duration": 8,
        "start_time": "2022-09-08T13:44:24.521Z"
      },
      {
        "duration": 5,
        "start_time": "2022-09-08T13:44:24.533Z"
      },
      {
        "duration": 12,
        "start_time": "2022-09-08T13:44:24.568Z"
      },
      {
        "duration": 3,
        "start_time": "2022-09-08T13:44:24.581Z"
      },
      {
        "duration": 14,
        "start_time": "2022-09-08T13:44:24.586Z"
      },
      {
        "duration": 13,
        "start_time": "2022-09-08T13:44:24.601Z"
      },
      {
        "duration": 13,
        "start_time": "2022-09-08T13:44:24.615Z"
      },
      {
        "duration": 40,
        "start_time": "2022-09-08T13:44:24.630Z"
      },
      {
        "duration": 13,
        "start_time": "2022-09-08T13:44:24.672Z"
      },
      {
        "duration": 12,
        "start_time": "2022-09-08T13:44:24.686Z"
      },
      {
        "duration": 3,
        "start_time": "2022-09-08T13:44:24.699Z"
      },
      {
        "duration": 16,
        "start_time": "2022-09-08T13:44:24.703Z"
      },
      {
        "duration": 57,
        "start_time": "2022-09-08T13:44:24.721Z"
      },
      {
        "duration": 20,
        "start_time": "2022-09-08T13:44:24.780Z"
      },
      {
        "duration": 17,
        "start_time": "2022-09-08T13:44:24.801Z"
      },
      {
        "duration": 3,
        "start_time": "2022-09-08T13:44:24.820Z"
      },
      {
        "duration": 5,
        "start_time": "2022-09-08T13:44:24.825Z"
      },
      {
        "duration": 36,
        "start_time": "2022-09-08T13:44:24.832Z"
      },
      {
        "duration": 3,
        "start_time": "2022-09-08T13:44:24.870Z"
      },
      {
        "duration": 8,
        "start_time": "2022-09-08T13:44:24.875Z"
      },
      {
        "duration": 11,
        "start_time": "2022-09-08T13:44:24.885Z"
      },
      {
        "duration": 15,
        "start_time": "2022-09-08T13:44:24.897Z"
      },
      {
        "duration": 25,
        "start_time": "2022-09-08T13:44:29.880Z"
      },
      {
        "duration": 11,
        "start_time": "2022-09-08T13:45:27.108Z"
      },
      {
        "duration": 11,
        "start_time": "2022-09-08T13:45:31.773Z"
      },
      {
        "duration": 24,
        "start_time": "2022-09-08T13:45:36.630Z"
      },
      {
        "duration": 4,
        "start_time": "2022-09-08T13:46:02.641Z"
      },
      {
        "duration": 3,
        "start_time": "2022-09-08T13:47:10.717Z"
      },
      {
        "duration": 30,
        "start_time": "2022-09-08T13:47:15.582Z"
      },
      {
        "duration": 17,
        "start_time": "2022-09-08T13:47:30.333Z"
      },
      {
        "duration": 8,
        "start_time": "2022-09-08T13:49:10.246Z"
      },
      {
        "duration": 8,
        "start_time": "2022-09-08T13:49:21.717Z"
      },
      {
        "duration": 10,
        "start_time": "2022-09-08T13:49:53.254Z"
      },
      {
        "duration": 12,
        "start_time": "2022-09-08T13:51:26.895Z"
      },
      {
        "duration": 10,
        "start_time": "2022-09-08T13:52:17.723Z"
      },
      {
        "duration": 9,
        "start_time": "2022-09-08T13:55:44.416Z"
      },
      {
        "duration": 12,
        "start_time": "2022-09-08T13:56:01.566Z"
      },
      {
        "duration": 8,
        "start_time": "2022-09-08T13:56:21.591Z"
      },
      {
        "duration": 8,
        "start_time": "2022-09-08T13:56:37.096Z"
      },
      {
        "duration": 9,
        "start_time": "2022-09-08T13:56:44.383Z"
      },
      {
        "duration": 9,
        "start_time": "2022-09-08T13:57:02.839Z"
      },
      {
        "duration": 8,
        "start_time": "2022-09-08T13:57:10.466Z"
      },
      {
        "duration": 13,
        "start_time": "2022-09-08T13:58:27.373Z"
      },
      {
        "duration": 10,
        "start_time": "2022-09-08T13:58:30.329Z"
      },
      {
        "duration": 14,
        "start_time": "2022-09-08T13:58:43.312Z"
      },
      {
        "duration": 13,
        "start_time": "2022-09-08T13:59:17.907Z"
      },
      {
        "duration": 8,
        "start_time": "2022-09-08T13:59:20.643Z"
      },
      {
        "duration": 5,
        "start_time": "2022-09-08T13:59:29.931Z"
      },
      {
        "duration": 4,
        "start_time": "2022-09-08T14:00:45.765Z"
      },
      {
        "duration": 2,
        "start_time": "2022-09-08T14:01:12.628Z"
      },
      {
        "duration": 4,
        "start_time": "2022-09-08T14:01:40.291Z"
      },
      {
        "duration": 12,
        "start_time": "2022-09-08T14:01:46.804Z"
      },
      {
        "duration": 23,
        "start_time": "2022-09-08T14:01:53.780Z"
      },
      {
        "duration": 16,
        "start_time": "2022-09-08T14:02:48.245Z"
      },
      {
        "duration": 9,
        "start_time": "2022-09-08T14:03:12.743Z"
      },
      {
        "duration": 11,
        "start_time": "2022-09-08T14:17:55.788Z"
      },
      {
        "duration": 12,
        "start_time": "2022-09-08T14:18:45.299Z"
      },
      {
        "duration": 11,
        "start_time": "2022-09-08T14:18:50.004Z"
      },
      {
        "duration": 14,
        "start_time": "2022-09-08T14:22:39.415Z"
      },
      {
        "duration": 19,
        "start_time": "2022-09-08T14:22:59.470Z"
      },
      {
        "duration": 16,
        "start_time": "2022-09-08T14:23:17.989Z"
      },
      {
        "duration": 13,
        "start_time": "2022-09-08T14:23:40.707Z"
      },
      {
        "duration": 13,
        "start_time": "2022-09-08T14:27:07.226Z"
      },
      {
        "duration": 473,
        "start_time": "2022-09-08T14:33:30.911Z"
      },
      {
        "duration": 65,
        "start_time": "2022-09-08T14:33:31.386Z"
      },
      {
        "duration": 13,
        "start_time": "2022-09-08T14:33:31.453Z"
      },
      {
        "duration": 66,
        "start_time": "2022-09-08T14:33:31.468Z"
      },
      {
        "duration": 29,
        "start_time": "2022-09-08T14:33:31.536Z"
      },
      {
        "duration": 22,
        "start_time": "2022-09-08T14:33:31.568Z"
      },
      {
        "duration": 23,
        "start_time": "2022-09-08T14:33:31.592Z"
      },
      {
        "duration": 22,
        "start_time": "2022-09-08T14:33:31.617Z"
      },
      {
        "duration": 37,
        "start_time": "2022-09-08T14:33:31.641Z"
      },
      {
        "duration": 61,
        "start_time": "2022-09-08T14:33:31.680Z"
      },
      {
        "duration": 21,
        "start_time": "2022-09-08T14:33:31.743Z"
      },
      {
        "duration": 10,
        "start_time": "2022-09-08T14:33:34.887Z"
      },
      {
        "duration": 12,
        "start_time": "2022-09-08T14:33:39.548Z"
      },
      {
        "duration": 11,
        "start_time": "2022-09-08T14:33:46.238Z"
      },
      {
        "duration": 66,
        "start_time": "2022-09-08T14:41:59.303Z"
      },
      {
        "duration": 5,
        "start_time": "2022-09-08T14:42:16.798Z"
      },
      {
        "duration": 87,
        "start_time": "2022-09-08T14:42:16.806Z"
      },
      {
        "duration": 4,
        "start_time": "2022-09-08T14:42:16.895Z"
      },
      {
        "duration": 33,
        "start_time": "2022-09-08T14:42:16.901Z"
      },
      {
        "duration": 24,
        "start_time": "2022-09-08T14:42:16.937Z"
      },
      {
        "duration": 50,
        "start_time": "2022-09-08T14:42:16.963Z"
      },
      {
        "duration": 9,
        "start_time": "2022-09-08T14:42:17.015Z"
      },
      {
        "duration": 34,
        "start_time": "2022-09-08T14:42:17.026Z"
      },
      {
        "duration": 42,
        "start_time": "2022-09-08T14:42:17.062Z"
      },
      {
        "duration": 12,
        "start_time": "2022-09-08T14:42:17.106Z"
      },
      {
        "duration": 17,
        "start_time": "2022-09-08T14:42:17.121Z"
      },
      {
        "duration": 17,
        "start_time": "2022-09-08T14:42:17.140Z"
      },
      {
        "duration": 44,
        "start_time": "2022-09-08T14:42:17.158Z"
      },
      {
        "duration": 28,
        "start_time": "2022-09-08T14:42:17.204Z"
      },
      {
        "duration": 25,
        "start_time": "2022-09-08T14:42:17.234Z"
      },
      {
        "duration": 25,
        "start_time": "2022-09-08T14:42:17.267Z"
      },
      {
        "duration": 15,
        "start_time": "2022-09-08T14:42:17.295Z"
      },
      {
        "duration": 6,
        "start_time": "2022-09-08T14:42:17.311Z"
      },
      {
        "duration": 31,
        "start_time": "2022-09-08T14:42:17.318Z"
      },
      {
        "duration": 43,
        "start_time": "2022-09-08T14:42:17.350Z"
      },
      {
        "duration": 33,
        "start_time": "2022-09-08T14:42:17.394Z"
      },
      {
        "duration": 14,
        "start_time": "2022-09-08T14:42:17.430Z"
      },
      {
        "duration": 27,
        "start_time": "2022-09-08T14:42:17.446Z"
      },
      {
        "duration": 43,
        "start_time": "2022-09-08T14:42:17.475Z"
      },
      {
        "duration": 16,
        "start_time": "2022-09-08T14:42:17.521Z"
      },
      {
        "duration": 4,
        "start_time": "2022-09-08T14:42:17.539Z"
      },
      {
        "duration": 33,
        "start_time": "2022-09-08T14:42:17.545Z"
      },
      {
        "duration": 18,
        "start_time": "2022-09-08T14:42:17.581Z"
      },
      {
        "duration": 16,
        "start_time": "2022-09-08T14:42:17.600Z"
      },
      {
        "duration": 4,
        "start_time": "2022-09-08T14:42:17.618Z"
      },
      {
        "duration": 15,
        "start_time": "2022-09-08T14:42:17.624Z"
      },
      {
        "duration": 13,
        "start_time": "2022-09-08T14:42:17.640Z"
      },
      {
        "duration": 43,
        "start_time": "2022-09-08T14:42:17.655Z"
      },
      {
        "duration": 21,
        "start_time": "2022-09-08T14:42:17.700Z"
      },
      {
        "duration": 19,
        "start_time": "2022-09-08T14:42:17.723Z"
      },
      {
        "duration": 14,
        "start_time": "2022-09-08T14:42:17.743Z"
      },
      {
        "duration": 4,
        "start_time": "2022-09-08T14:42:17.758Z"
      },
      {
        "duration": 40,
        "start_time": "2022-09-08T14:42:17.775Z"
      },
      {
        "duration": 29,
        "start_time": "2022-09-08T14:42:17.817Z"
      },
      {
        "duration": 20,
        "start_time": "2022-09-08T14:42:17.848Z"
      },
      {
        "duration": 21,
        "start_time": "2022-09-08T14:42:17.874Z"
      },
      {
        "duration": 11,
        "start_time": "2022-09-08T14:42:17.898Z"
      },
      {
        "duration": 20,
        "start_time": "2022-09-08T14:42:17.910Z"
      },
      {
        "duration": 9,
        "start_time": "2022-09-08T14:42:17.932Z"
      },
      {
        "duration": 15,
        "start_time": "2022-09-08T14:42:17.943Z"
      },
      {
        "duration": 39,
        "start_time": "2022-09-08T14:42:17.960Z"
      },
      {
        "duration": 19,
        "start_time": "2022-09-08T14:42:18.001Z"
      },
      {
        "duration": 20,
        "start_time": "2022-09-08T14:42:18.023Z"
      },
      {
        "duration": 36,
        "start_time": "2022-09-08T14:42:18.045Z"
      },
      {
        "duration": 11,
        "start_time": "2022-09-08T14:42:18.083Z"
      },
      {
        "duration": 9,
        "start_time": "2022-09-08T14:42:18.096Z"
      },
      {
        "duration": 11,
        "start_time": "2022-09-08T14:42:18.107Z"
      },
      {
        "duration": 8,
        "start_time": "2022-09-08T14:42:18.119Z"
      },
      {
        "duration": 4,
        "start_time": "2022-09-08T14:42:18.129Z"
      },
      {
        "duration": 34,
        "start_time": "2022-09-08T14:42:18.135Z"
      },
      {
        "duration": 3,
        "start_time": "2022-09-08T14:42:18.171Z"
      },
      {
        "duration": 58,
        "start_time": "2022-09-08T14:42:18.176Z"
      },
      {
        "duration": 10,
        "start_time": "2022-09-08T14:42:23.644Z"
      },
      {
        "duration": 14,
        "start_time": "2022-09-08T14:42:48.192Z"
      },
      {
        "duration": 9,
        "start_time": "2022-09-08T14:43:17.878Z"
      },
      {
        "duration": 12,
        "start_time": "2022-09-08T14:43:52.272Z"
      },
      {
        "duration": 10,
        "start_time": "2022-09-08T14:44:10.032Z"
      },
      {
        "duration": 11,
        "start_time": "2022-09-08T14:52:54.309Z"
      },
      {
        "duration": 61,
        "start_time": "2022-09-08T14:53:11.534Z"
      },
      {
        "duration": 474,
        "start_time": "2022-09-08T14:53:16.546Z"
      },
      {
        "duration": 60,
        "start_time": "2022-09-08T14:53:17.022Z"
      },
      {
        "duration": 9,
        "start_time": "2022-09-08T14:53:17.084Z"
      },
      {
        "duration": 19,
        "start_time": "2022-09-08T14:53:17.094Z"
      },
      {
        "duration": 14,
        "start_time": "2022-09-08T14:53:17.115Z"
      },
      {
        "duration": 37,
        "start_time": "2022-09-08T14:53:17.131Z"
      },
      {
        "duration": 7,
        "start_time": "2022-09-08T14:53:17.169Z"
      },
      {
        "duration": 14,
        "start_time": "2022-09-08T14:53:17.177Z"
      },
      {
        "duration": 15,
        "start_time": "2022-09-08T14:53:17.192Z"
      },
      {
        "duration": 10,
        "start_time": "2022-09-08T14:53:17.209Z"
      },
      {
        "duration": 11,
        "start_time": "2022-09-08T14:55:44.357Z"
      },
      {
        "duration": 412,
        "start_time": "2022-09-08T14:59:11.900Z"
      },
      {
        "duration": 62,
        "start_time": "2022-09-08T14:59:12.314Z"
      },
      {
        "duration": 9,
        "start_time": "2022-09-08T14:59:12.378Z"
      },
      {
        "duration": 21,
        "start_time": "2022-09-08T14:59:12.389Z"
      },
      {
        "duration": 17,
        "start_time": "2022-09-08T14:59:12.411Z"
      },
      {
        "duration": 48,
        "start_time": "2022-09-08T14:59:12.429Z"
      },
      {
        "duration": 8,
        "start_time": "2022-09-08T14:59:12.479Z"
      },
      {
        "duration": 25,
        "start_time": "2022-09-08T14:59:12.488Z"
      },
      {
        "duration": 14,
        "start_time": "2022-09-08T14:59:12.515Z"
      },
      {
        "duration": 43,
        "start_time": "2022-09-08T14:59:12.533Z"
      },
      {
        "duration": 11,
        "start_time": "2022-09-08T14:59:12.578Z"
      },
      {
        "duration": 16,
        "start_time": "2022-09-08T14:59:12.591Z"
      },
      {
        "duration": 17,
        "start_time": "2022-09-08T14:59:12.609Z"
      },
      {
        "duration": 62,
        "start_time": "2022-09-08T14:59:12.628Z"
      },
      {
        "duration": 24,
        "start_time": "2022-09-08T14:59:12.691Z"
      },
      {
        "duration": 13,
        "start_time": "2022-09-08T14:59:12.717Z"
      },
      {
        "duration": 41,
        "start_time": "2022-09-08T14:59:12.731Z"
      },
      {
        "duration": 6,
        "start_time": "2022-09-08T14:59:12.774Z"
      },
      {
        "duration": 21,
        "start_time": "2022-09-08T14:59:12.781Z"
      },
      {
        "duration": 12,
        "start_time": "2022-09-08T14:59:12.803Z"
      },
      {
        "duration": 55,
        "start_time": "2022-09-08T14:59:12.817Z"
      },
      {
        "duration": 16,
        "start_time": "2022-09-08T14:59:12.873Z"
      },
      {
        "duration": 6,
        "start_time": "2022-09-08T14:59:12.891Z"
      },
      {
        "duration": 25,
        "start_time": "2022-09-08T14:59:12.898Z"
      },
      {
        "duration": 45,
        "start_time": "2022-09-08T14:59:12.925Z"
      },
      {
        "duration": 4,
        "start_time": "2022-09-08T14:59:12.972Z"
      },
      {
        "duration": 8,
        "start_time": "2022-09-08T14:59:12.978Z"
      },
      {
        "duration": 5,
        "start_time": "2022-09-08T14:59:12.990Z"
      },
      {
        "duration": 17,
        "start_time": "2022-09-08T14:59:12.997Z"
      },
      {
        "duration": 3,
        "start_time": "2022-09-08T14:59:13.016Z"
      },
      {
        "duration": 48,
        "start_time": "2022-09-08T14:59:13.020Z"
      },
      {
        "duration": 14,
        "start_time": "2022-09-08T14:59:13.070Z"
      },
      {
        "duration": 14,
        "start_time": "2022-09-08T14:59:13.086Z"
      },
      {
        "duration": 7,
        "start_time": "2022-09-08T14:59:13.102Z"
      },
      {
        "duration": 13,
        "start_time": "2022-09-08T14:59:13.111Z"
      },
      {
        "duration": 45,
        "start_time": "2022-09-08T14:59:13.126Z"
      },
      {
        "duration": 3,
        "start_time": "2022-09-08T14:59:13.173Z"
      },
      {
        "duration": 15,
        "start_time": "2022-09-08T14:59:13.178Z"
      },
      {
        "duration": 30,
        "start_time": "2022-09-08T14:59:13.194Z"
      },
      {
        "duration": 46,
        "start_time": "2022-09-08T14:59:13.225Z"
      },
      {
        "duration": 17,
        "start_time": "2022-09-08T14:59:13.273Z"
      },
      {
        "duration": 4,
        "start_time": "2022-09-08T14:59:13.291Z"
      },
      {
        "duration": 6,
        "start_time": "2022-09-08T14:59:13.297Z"
      },
      {
        "duration": 7,
        "start_time": "2022-09-08T14:59:13.305Z"
      },
      {
        "duration": 10,
        "start_time": "2022-09-08T14:59:13.315Z"
      },
      {
        "duration": 7,
        "start_time": "2022-09-08T14:59:13.327Z"
      },
      {
        "duration": 36,
        "start_time": "2022-09-08T14:59:13.336Z"
      },
      {
        "duration": 17,
        "start_time": "2022-09-08T14:59:13.374Z"
      },
      {
        "duration": 29,
        "start_time": "2022-09-08T14:59:13.393Z"
      },
      {
        "duration": 8,
        "start_time": "2022-09-08T14:59:13.424Z"
      },
      {
        "duration": 36,
        "start_time": "2022-09-08T14:59:13.434Z"
      },
      {
        "duration": 12,
        "start_time": "2022-09-08T14:59:13.472Z"
      },
      {
        "duration": 9,
        "start_time": "2022-09-08T14:59:13.485Z"
      },
      {
        "duration": 8,
        "start_time": "2022-09-08T14:59:13.496Z"
      },
      {
        "duration": 9,
        "start_time": "2022-09-08T14:59:13.506Z"
      },
      {
        "duration": 15,
        "start_time": "2022-09-08T14:59:13.517Z"
      },
      {
        "duration": 44,
        "start_time": "2022-09-08T14:59:13.534Z"
      },
      {
        "duration": 8,
        "start_time": "2022-09-08T14:59:13.580Z"
      },
      {
        "duration": 13,
        "start_time": "2022-09-08T14:59:13.590Z"
      },
      {
        "duration": 9,
        "start_time": "2022-09-08T14:59:13.605Z"
      },
      {
        "duration": 11,
        "start_time": "2022-09-08T14:59:13.616Z"
      },
      {
        "duration": 42,
        "start_time": "2022-09-08T14:59:13.629Z"
      },
      {
        "duration": 3,
        "start_time": "2022-09-08T14:59:13.673Z"
      },
      {
        "duration": 7,
        "start_time": "2022-09-08T14:59:13.678Z"
      },
      {
        "duration": 4,
        "start_time": "2022-09-08T14:59:13.687Z"
      },
      {
        "duration": 17,
        "start_time": "2022-09-08T14:59:13.693Z"
      },
      {
        "duration": 8,
        "start_time": "2022-09-08T14:59:13.712Z"
      },
      {
        "duration": 52,
        "start_time": "2022-09-08T14:59:13.722Z"
      },
      {
        "duration": 4,
        "start_time": "2022-09-08T14:59:13.776Z"
      },
      {
        "duration": 21,
        "start_time": "2022-09-08T14:59:13.781Z"
      },
      {
        "duration": 11,
        "start_time": "2022-09-08T14:59:13.803Z"
      },
      {
        "duration": 9,
        "start_time": "2022-09-08T14:59:13.815Z"
      },
      {
        "duration": 4,
        "start_time": "2022-09-08T14:59:13.826Z"
      },
      {
        "duration": 46,
        "start_time": "2022-09-08T14:59:13.832Z"
      },
      {
        "duration": 10,
        "start_time": "2022-09-08T14:59:13.879Z"
      },
      {
        "duration": 22,
        "start_time": "2022-09-08T14:59:13.892Z"
      },
      {
        "duration": 10,
        "start_time": "2022-09-08T14:59:13.915Z"
      },
      {
        "duration": 43,
        "start_time": "2022-09-08T14:59:13.927Z"
      },
      {
        "duration": 12,
        "start_time": "2022-09-08T14:59:13.972Z"
      },
      {
        "duration": 21,
        "start_time": "2022-09-08T14:59:13.986Z"
      },
      {
        "duration": 9,
        "start_time": "2022-09-08T14:59:14.009Z"
      },
      {
        "duration": 47,
        "start_time": "2022-09-08T14:59:14.024Z"
      },
      {
        "duration": 384,
        "start_time": "2022-09-09T14:31:24.078Z"
      },
      {
        "duration": 189,
        "start_time": "2022-09-09T14:31:24.464Z"
      },
      {
        "duration": 10,
        "start_time": "2022-09-09T14:31:24.655Z"
      },
      {
        "duration": 32,
        "start_time": "2022-09-09T14:31:24.667Z"
      },
      {
        "duration": 24,
        "start_time": "2022-09-09T14:31:24.702Z"
      },
      {
        "duration": 19,
        "start_time": "2022-09-09T14:31:24.728Z"
      },
      {
        "duration": 10,
        "start_time": "2022-09-09T14:31:24.748Z"
      },
      {
        "duration": 12,
        "start_time": "2022-09-09T14:31:24.759Z"
      },
      {
        "duration": 24,
        "start_time": "2022-09-09T14:31:24.772Z"
      },
      {
        "duration": 25,
        "start_time": "2022-09-09T14:31:24.797Z"
      },
      {
        "duration": 9,
        "start_time": "2022-09-09T14:31:24.824Z"
      },
      {
        "duration": 13,
        "start_time": "2022-09-09T14:31:24.835Z"
      },
      {
        "duration": 16,
        "start_time": "2022-09-09T14:31:24.850Z"
      },
      {
        "duration": 53,
        "start_time": "2022-09-09T14:31:24.869Z"
      },
      {
        "duration": 21,
        "start_time": "2022-09-09T14:31:24.924Z"
      },
      {
        "duration": 12,
        "start_time": "2022-09-09T14:31:24.947Z"
      },
      {
        "duration": 13,
        "start_time": "2022-09-09T14:31:24.960Z"
      },
      {
        "duration": 5,
        "start_time": "2022-09-09T14:31:24.974Z"
      },
      {
        "duration": 49,
        "start_time": "2022-09-09T14:31:24.980Z"
      },
      {
        "duration": 10,
        "start_time": "2022-09-09T14:31:25.031Z"
      },
      {
        "duration": 20,
        "start_time": "2022-09-09T14:31:25.042Z"
      },
      {
        "duration": 11,
        "start_time": "2022-09-09T14:31:25.064Z"
      },
      {
        "duration": 33,
        "start_time": "2022-09-09T14:31:25.076Z"
      },
      {
        "duration": 36,
        "start_time": "2022-09-09T14:31:25.111Z"
      },
      {
        "duration": 12,
        "start_time": "2022-09-09T14:31:25.148Z"
      },
      {
        "duration": 3,
        "start_time": "2022-09-09T14:31:25.161Z"
      },
      {
        "duration": 10,
        "start_time": "2022-09-09T14:31:25.166Z"
      },
      {
        "duration": 14,
        "start_time": "2022-09-09T14:31:25.177Z"
      },
      {
        "duration": 26,
        "start_time": "2022-09-09T14:31:25.193Z"
      },
      {
        "duration": 4,
        "start_time": "2022-09-09T14:31:25.221Z"
      },
      {
        "duration": 14,
        "start_time": "2022-09-09T14:31:25.226Z"
      },
      {
        "duration": 19,
        "start_time": "2022-09-09T14:31:25.242Z"
      },
      {
        "duration": 30,
        "start_time": "2022-09-09T14:31:25.263Z"
      },
      {
        "duration": 21,
        "start_time": "2022-09-09T14:31:25.295Z"
      },
      {
        "duration": 40,
        "start_time": "2022-09-09T14:31:25.318Z"
      },
      {
        "duration": 11,
        "start_time": "2022-09-09T14:31:25.359Z"
      },
      {
        "duration": 18,
        "start_time": "2022-09-09T14:31:25.372Z"
      },
      {
        "duration": 53,
        "start_time": "2022-09-09T14:31:25.391Z"
      },
      {
        "duration": 27,
        "start_time": "2022-09-09T14:31:25.445Z"
      },
      {
        "duration": 17,
        "start_time": "2022-09-09T14:31:25.473Z"
      },
      {
        "duration": 22,
        "start_time": "2022-09-09T14:31:25.494Z"
      },
      {
        "duration": 5,
        "start_time": "2022-09-09T14:31:25.521Z"
      },
      {
        "duration": 12,
        "start_time": "2022-09-09T14:31:25.528Z"
      },
      {
        "duration": 5,
        "start_time": "2022-09-09T14:31:25.542Z"
      },
      {
        "duration": 6,
        "start_time": "2022-09-09T14:31:25.548Z"
      },
      {
        "duration": 9,
        "start_time": "2022-09-09T14:31:25.555Z"
      },
      {
        "duration": 10,
        "start_time": "2022-09-09T14:31:25.566Z"
      },
      {
        "duration": 13,
        "start_time": "2022-09-09T14:31:25.577Z"
      },
      {
        "duration": 29,
        "start_time": "2022-09-09T14:31:25.609Z"
      },
      {
        "duration": 6,
        "start_time": "2022-09-09T14:31:25.639Z"
      },
      {
        "duration": 10,
        "start_time": "2022-09-09T14:31:25.646Z"
      },
      {
        "duration": 11,
        "start_time": "2022-09-09T14:31:25.657Z"
      },
      {
        "duration": 10,
        "start_time": "2022-09-09T14:31:25.670Z"
      },
      {
        "duration": 2,
        "start_time": "2022-09-09T14:31:25.682Z"
      },
      {
        "duration": 5,
        "start_time": "2022-09-09T14:31:25.710Z"
      },
      {
        "duration": 14,
        "start_time": "2022-09-09T14:31:25.716Z"
      },
      {
        "duration": 21,
        "start_time": "2022-09-09T14:31:25.732Z"
      },
      {
        "duration": 10,
        "start_time": "2022-09-09T14:31:25.754Z"
      },
      {
        "duration": 6,
        "start_time": "2022-09-09T14:31:25.766Z"
      },
      {
        "duration": 10,
        "start_time": "2022-09-09T14:31:25.773Z"
      },
      {
        "duration": 24,
        "start_time": "2022-09-09T14:31:25.785Z"
      },
      {
        "duration": 3,
        "start_time": "2022-09-09T14:31:25.811Z"
      },
      {
        "duration": 4,
        "start_time": "2022-09-09T14:31:25.815Z"
      },
      {
        "duration": 9,
        "start_time": "2022-09-09T14:31:25.820Z"
      },
      {
        "duration": 34,
        "start_time": "2022-09-09T14:31:25.830Z"
      },
      {
        "duration": 7,
        "start_time": "2022-09-09T14:31:25.866Z"
      },
      {
        "duration": 19,
        "start_time": "2022-09-09T14:31:25.874Z"
      },
      {
        "duration": 3,
        "start_time": "2022-09-09T14:31:25.894Z"
      },
      {
        "duration": 28,
        "start_time": "2022-09-09T14:31:25.898Z"
      },
      {
        "duration": 9,
        "start_time": "2022-09-09T14:31:25.928Z"
      },
      {
        "duration": 21,
        "start_time": "2022-09-09T14:31:25.938Z"
      },
      {
        "duration": 6,
        "start_time": "2022-09-09T14:31:25.960Z"
      },
      {
        "duration": 12,
        "start_time": "2022-09-09T14:31:25.967Z"
      },
      {
        "duration": 6,
        "start_time": "2022-09-09T14:31:25.980Z"
      },
      {
        "duration": 38,
        "start_time": "2022-09-09T14:31:25.988Z"
      },
      {
        "duration": 10,
        "start_time": "2022-09-09T14:31:26.027Z"
      },
      {
        "duration": 29,
        "start_time": "2022-09-09T14:31:26.038Z"
      },
      {
        "duration": 48,
        "start_time": "2022-09-09T14:31:26.069Z"
      },
      {
        "duration": 20,
        "start_time": "2022-09-09T14:31:26.118Z"
      },
      {
        "duration": 10,
        "start_time": "2022-09-09T14:31:26.140Z"
      },
      {
        "duration": 22,
        "start_time": "2022-09-09T14:31:26.152Z"
      },
      {
        "duration": 408,
        "start_time": "2022-09-09T14:34:13.837Z"
      },
      {
        "duration": 93,
        "start_time": "2022-09-09T14:34:14.248Z"
      },
      {
        "duration": 8,
        "start_time": "2022-09-09T14:34:14.342Z"
      },
      {
        "duration": 17,
        "start_time": "2022-09-09T14:34:14.352Z"
      },
      {
        "duration": 12,
        "start_time": "2022-09-09T14:34:14.371Z"
      },
      {
        "duration": 35,
        "start_time": "2022-09-09T14:34:14.385Z"
      },
      {
        "duration": 7,
        "start_time": "2022-09-09T14:34:14.422Z"
      },
      {
        "duration": 3,
        "start_time": "2022-09-09T14:34:18.467Z"
      },
      {
        "duration": 3,
        "start_time": "2022-09-09T14:37:10.540Z"
      },
      {
        "duration": 17,
        "start_time": "2022-09-09T14:42:14.079Z"
      },
      {
        "duration": 13,
        "start_time": "2022-09-09T14:42:19.226Z"
      },
      {
        "duration": 16,
        "start_time": "2022-09-09T14:43:33.082Z"
      },
      {
        "duration": 16,
        "start_time": "2022-09-09T14:43:47.746Z"
      },
      {
        "duration": 9,
        "start_time": "2022-09-09T14:43:50.182Z"
      },
      {
        "duration": 15,
        "start_time": "2022-09-09T14:44:48.177Z"
      },
      {
        "duration": 4,
        "start_time": "2022-09-09T14:50:09.400Z"
      },
      {
        "duration": 16,
        "start_time": "2022-09-09T14:53:41.166Z"
      },
      {
        "duration": 22,
        "start_time": "2022-09-09T14:55:00.758Z"
      },
      {
        "duration": 9,
        "start_time": "2022-09-09T15:34:16.438Z"
      },
      {
        "duration": 2,
        "start_time": "2022-09-09T15:34:27.392Z"
      },
      {
        "duration": 52,
        "start_time": "2022-09-09T15:34:27.421Z"
      },
      {
        "duration": 3,
        "start_time": "2022-09-09T15:34:27.475Z"
      },
      {
        "duration": 22,
        "start_time": "2022-09-09T15:34:27.479Z"
      },
      {
        "duration": 17,
        "start_time": "2022-09-09T15:34:27.503Z"
      },
      {
        "duration": 18,
        "start_time": "2022-09-09T15:34:27.522Z"
      },
      {
        "duration": 5,
        "start_time": "2022-09-09T15:34:27.541Z"
      },
      {
        "duration": 9,
        "start_time": "2022-09-09T15:34:27.548Z"
      },
      {
        "duration": 15,
        "start_time": "2022-09-09T15:34:27.558Z"
      },
      {
        "duration": 10,
        "start_time": "2022-09-09T15:34:27.575Z"
      },
      {
        "duration": 9,
        "start_time": "2022-09-09T15:34:27.631Z"
      },
      {
        "duration": 10,
        "start_time": "2022-09-09T15:34:27.642Z"
      },
      {
        "duration": 13,
        "start_time": "2022-09-09T15:34:27.654Z"
      },
      {
        "duration": 14,
        "start_time": "2022-09-09T15:34:27.668Z"
      },
      {
        "duration": 12,
        "start_time": "2022-09-09T15:34:27.684Z"
      },
      {
        "duration": 30,
        "start_time": "2022-09-09T15:34:27.697Z"
      },
      {
        "duration": 9,
        "start_time": "2022-09-09T15:34:27.728Z"
      },
      {
        "duration": 19,
        "start_time": "2022-09-09T15:34:27.738Z"
      },
      {
        "duration": 12,
        "start_time": "2022-09-09T15:34:27.759Z"
      },
      {
        "duration": 9,
        "start_time": "2022-09-09T15:34:27.773Z"
      },
      {
        "duration": 29,
        "start_time": "2022-09-09T15:34:27.783Z"
      },
      {
        "duration": 24,
        "start_time": "2022-09-09T15:34:27.814Z"
      },
      {
        "duration": 10,
        "start_time": "2022-09-09T15:34:27.840Z"
      },
      {
        "duration": 14,
        "start_time": "2022-09-09T15:34:27.851Z"
      },
      {
        "duration": 43,
        "start_time": "2022-09-09T15:34:27.867Z"
      },
      {
        "duration": 7,
        "start_time": "2022-09-09T15:35:30.369Z"
      },
      {
        "duration": 5,
        "start_time": "2022-09-09T15:37:22.139Z"
      },
      {
        "duration": 4,
        "start_time": "2022-09-09T15:40:38.175Z"
      },
      {
        "duration": 11,
        "start_time": "2022-09-09T15:41:14.730Z"
      },
      {
        "duration": 5,
        "start_time": "2022-09-09T15:43:11.723Z"
      },
      {
        "duration": 5,
        "start_time": "2022-09-09T15:43:46.744Z"
      },
      {
        "duration": 6,
        "start_time": "2022-09-09T15:44:46.045Z"
      },
      {
        "duration": 12,
        "start_time": "2022-09-09T15:45:23.938Z"
      },
      {
        "duration": 12,
        "start_time": "2022-09-09T15:53:50.725Z"
      },
      {
        "duration": 17,
        "start_time": "2022-09-09T15:54:22.825Z"
      },
      {
        "duration": 16,
        "start_time": "2022-09-09T15:55:26.640Z"
      },
      {
        "duration": 7,
        "start_time": "2022-09-09T16:00:16.757Z"
      },
      {
        "duration": 12,
        "start_time": "2022-09-09T16:00:20.891Z"
      },
      {
        "duration": 4,
        "start_time": "2022-09-09T16:01:36.632Z"
      },
      {
        "duration": 3,
        "start_time": "2022-09-09T16:01:59.133Z"
      },
      {
        "duration": 3,
        "start_time": "2022-09-09T16:02:32.850Z"
      },
      {
        "duration": 5,
        "start_time": "2022-09-09T16:02:44.752Z"
      },
      {
        "duration": 26,
        "start_time": "2022-09-09T16:03:15.036Z"
      },
      {
        "duration": 76,
        "start_time": "2022-09-09T16:04:23.679Z"
      },
      {
        "duration": 4,
        "start_time": "2022-09-09T16:04:32.338Z"
      },
      {
        "duration": 15,
        "start_time": "2022-09-09T16:04:35.560Z"
      },
      {
        "duration": 12,
        "start_time": "2022-09-09T16:04:42.930Z"
      },
      {
        "duration": 37,
        "start_time": "2022-09-09T16:04:50.463Z"
      },
      {
        "duration": 9,
        "start_time": "2022-09-09T16:04:59.006Z"
      },
      {
        "duration": 22,
        "start_time": "2022-09-09T16:05:23.278Z"
      },
      {
        "duration": 15,
        "start_time": "2022-09-09T16:06:03.864Z"
      },
      {
        "duration": 10,
        "start_time": "2022-09-09T16:06:39.627Z"
      },
      {
        "duration": 6,
        "start_time": "2022-09-09T16:07:20.547Z"
      },
      {
        "duration": 19,
        "start_time": "2022-09-09T16:08:00.384Z"
      },
      {
        "duration": 8,
        "start_time": "2022-09-09T16:09:15.483Z"
      },
      {
        "duration": 7,
        "start_time": "2022-09-09T16:09:26.782Z"
      },
      {
        "duration": 10,
        "start_time": "2022-09-09T16:11:02.082Z"
      },
      {
        "duration": 10,
        "start_time": "2022-09-09T16:11:38.985Z"
      },
      {
        "duration": 408,
        "start_time": "2022-09-09T16:22:47.578Z"
      },
      {
        "duration": 93,
        "start_time": "2022-09-09T16:22:47.988Z"
      },
      {
        "duration": 11,
        "start_time": "2022-09-09T16:22:48.083Z"
      },
      {
        "duration": 18,
        "start_time": "2022-09-09T16:22:48.096Z"
      },
      {
        "duration": 87,
        "start_time": "2022-09-09T16:22:48.116Z"
      },
      {
        "duration": 32,
        "start_time": "2022-09-09T16:22:48.205Z"
      },
      {
        "duration": 35,
        "start_time": "2022-09-09T16:22:48.239Z"
      },
      {
        "duration": 12,
        "start_time": "2022-09-09T16:22:48.277Z"
      },
      {
        "duration": 32,
        "start_time": "2022-09-09T16:22:48.291Z"
      },
      {
        "duration": 35,
        "start_time": "2022-09-09T16:22:48.331Z"
      },
      {
        "duration": 20,
        "start_time": "2022-09-09T16:22:48.369Z"
      },
      {
        "duration": 14,
        "start_time": "2022-09-09T16:22:48.391Z"
      },
      {
        "duration": 58,
        "start_time": "2022-09-09T16:22:48.407Z"
      },
      {
        "duration": 18,
        "start_time": "2022-09-09T16:22:48.467Z"
      },
      {
        "duration": 44,
        "start_time": "2022-09-09T16:22:48.487Z"
      },
      {
        "duration": 17,
        "start_time": "2022-09-09T16:22:48.546Z"
      },
      {
        "duration": 15,
        "start_time": "2022-09-09T16:22:48.564Z"
      },
      {
        "duration": 57,
        "start_time": "2022-09-09T16:22:48.580Z"
      },
      {
        "duration": 20,
        "start_time": "2022-09-09T16:22:48.640Z"
      },
      {
        "duration": 16,
        "start_time": "2022-09-09T16:22:48.662Z"
      },
      {
        "duration": 5,
        "start_time": "2022-09-09T16:22:48.680Z"
      },
      {
        "duration": 72,
        "start_time": "2022-09-09T16:22:48.687Z"
      },
      {
        "duration": 21,
        "start_time": "2022-09-09T16:22:48.761Z"
      },
      {
        "duration": 16,
        "start_time": "2022-09-09T16:22:48.785Z"
      },
      {
        "duration": 37,
        "start_time": "2022-09-09T16:22:48.803Z"
      },
      {
        "duration": 29,
        "start_time": "2022-09-09T16:22:48.842Z"
      },
      {
        "duration": 9,
        "start_time": "2022-09-09T16:22:48.875Z"
      },
      {
        "duration": 10,
        "start_time": "2022-09-09T16:22:48.888Z"
      },
      {
        "duration": 52,
        "start_time": "2022-09-09T16:22:48.900Z"
      },
      {
        "duration": 18,
        "start_time": "2022-09-09T16:22:48.954Z"
      },
      {
        "duration": 20,
        "start_time": "2022-09-09T16:22:48.974Z"
      },
      {
        "duration": 5,
        "start_time": "2022-09-09T16:22:48.996Z"
      },
      {
        "duration": 52,
        "start_time": "2022-09-09T16:22:49.003Z"
      },
      {
        "duration": 20,
        "start_time": "2022-09-09T16:22:49.057Z"
      },
      {
        "duration": 18,
        "start_time": "2022-09-09T16:22:49.078Z"
      },
      {
        "duration": 21,
        "start_time": "2022-09-09T16:22:49.097Z"
      },
      {
        "duration": 43,
        "start_time": "2022-09-09T16:22:49.120Z"
      },
      {
        "duration": 26,
        "start_time": "2022-09-09T16:22:49.165Z"
      },
      {
        "duration": 48,
        "start_time": "2022-09-09T16:22:49.193Z"
      },
      {
        "duration": 96,
        "start_time": "2022-09-09T16:22:49.242Z"
      },
      {
        "duration": 38,
        "start_time": "2022-09-09T16:22:49.340Z"
      },
      {
        "duration": 24,
        "start_time": "2022-09-09T16:22:49.380Z"
      },
      {
        "duration": 30,
        "start_time": "2022-09-09T16:22:49.405Z"
      },
      {
        "duration": 23,
        "start_time": "2022-09-09T16:22:49.446Z"
      },
      {
        "duration": 15,
        "start_time": "2022-09-09T16:22:49.471Z"
      },
      {
        "duration": 16,
        "start_time": "2022-09-09T16:22:49.489Z"
      },
      {
        "duration": 60,
        "start_time": "2022-09-09T16:22:49.507Z"
      },
      {
        "duration": 24,
        "start_time": "2022-09-09T16:22:49.569Z"
      },
      {
        "duration": 41,
        "start_time": "2022-09-09T16:22:49.595Z"
      },
      {
        "duration": 45,
        "start_time": "2022-09-09T16:22:49.638Z"
      },
      {
        "duration": 8,
        "start_time": "2022-09-09T16:22:49.684Z"
      },
      {
        "duration": 33,
        "start_time": "2022-09-09T16:22:49.694Z"
      },
      {
        "duration": 32,
        "start_time": "2022-09-09T16:22:49.728Z"
      },
      {
        "duration": 9,
        "start_time": "2022-09-09T16:22:49.762Z"
      },
      {
        "duration": 20,
        "start_time": "2022-09-09T16:22:49.773Z"
      },
      {
        "duration": 36,
        "start_time": "2022-09-09T16:22:49.795Z"
      },
      {
        "duration": 33,
        "start_time": "2022-09-09T16:22:49.832Z"
      },
      {
        "duration": 8,
        "start_time": "2022-09-09T16:22:49.866Z"
      },
      {
        "duration": 11,
        "start_time": "2022-09-09T16:22:49.876Z"
      },
      {
        "duration": 9,
        "start_time": "2022-09-09T16:22:49.888Z"
      },
      {
        "duration": 6,
        "start_time": "2022-09-09T16:22:49.899Z"
      },
      {
        "duration": 52,
        "start_time": "2022-09-09T16:22:49.907Z"
      },
      {
        "duration": 10,
        "start_time": "2022-09-09T16:22:49.960Z"
      },
      {
        "duration": 21,
        "start_time": "2022-09-09T16:22:49.972Z"
      },
      {
        "duration": 4,
        "start_time": "2022-09-09T16:22:49.995Z"
      },
      {
        "duration": 29,
        "start_time": "2022-09-09T16:22:50.001Z"
      },
      {
        "duration": 17,
        "start_time": "2022-09-09T16:22:50.032Z"
      },
      {
        "duration": 12,
        "start_time": "2022-09-09T16:22:50.051Z"
      },
      {
        "duration": 8,
        "start_time": "2022-09-09T16:22:50.065Z"
      },
      {
        "duration": 14,
        "start_time": "2022-09-09T16:22:50.075Z"
      },
      {
        "duration": 9,
        "start_time": "2022-09-09T16:22:50.091Z"
      },
      {
        "duration": 26,
        "start_time": "2022-09-09T16:22:50.102Z"
      },
      {
        "duration": 17,
        "start_time": "2022-09-09T16:22:50.129Z"
      },
      {
        "duration": 35,
        "start_time": "2022-09-09T16:22:50.148Z"
      },
      {
        "duration": 8,
        "start_time": "2022-09-09T16:22:50.184Z"
      },
      {
        "duration": 33,
        "start_time": "2022-09-09T16:22:50.193Z"
      },
      {
        "duration": 11,
        "start_time": "2022-09-09T16:22:50.229Z"
      },
      {
        "duration": 23,
        "start_time": "2022-09-09T16:22:50.241Z"
      },
      {
        "duration": 372,
        "start_time": "2022-09-09T16:43:03.585Z"
      },
      {
        "duration": 83,
        "start_time": "2022-09-09T16:43:03.960Z"
      },
      {
        "duration": 10,
        "start_time": "2022-09-09T16:43:04.045Z"
      },
      {
        "duration": 15,
        "start_time": "2022-09-09T16:43:04.058Z"
      },
      {
        "duration": 14,
        "start_time": "2022-09-09T16:43:04.075Z"
      },
      {
        "duration": 12,
        "start_time": "2022-09-09T16:43:04.090Z"
      },
      {
        "duration": 41,
        "start_time": "2022-09-09T16:43:04.103Z"
      },
      {
        "duration": 5,
        "start_time": "2022-09-09T16:43:04.146Z"
      },
      {
        "duration": 15,
        "start_time": "2022-09-09T16:43:04.153Z"
      },
      {
        "duration": 12,
        "start_time": "2022-09-09T16:43:04.170Z"
      },
      {
        "duration": 8,
        "start_time": "2022-09-09T16:43:04.183Z"
      },
      {
        "duration": 12,
        "start_time": "2022-09-09T16:43:04.192Z"
      },
      {
        "duration": 46,
        "start_time": "2022-09-09T16:43:04.205Z"
      },
      {
        "duration": 39,
        "start_time": "2022-09-09T16:43:04.253Z"
      },
      {
        "duration": 45,
        "start_time": "2022-09-09T16:43:04.294Z"
      },
      {
        "duration": 17,
        "start_time": "2022-09-09T16:43:04.344Z"
      },
      {
        "duration": 10,
        "start_time": "2022-09-09T16:43:04.362Z"
      },
      {
        "duration": 24,
        "start_time": "2022-09-09T16:43:04.374Z"
      },
      {
        "duration": 17,
        "start_time": "2022-09-09T16:43:04.400Z"
      },
      {
        "duration": 58,
        "start_time": "2022-09-09T16:43:04.419Z"
      },
      {
        "duration": 7,
        "start_time": "2022-09-09T16:43:04.479Z"
      },
      {
        "duration": 23,
        "start_time": "2022-09-09T16:43:04.488Z"
      },
      {
        "duration": 20,
        "start_time": "2022-09-09T16:43:04.519Z"
      },
      {
        "duration": 39,
        "start_time": "2022-09-09T16:43:04.545Z"
      },
      {
        "duration": 44,
        "start_time": "2022-09-09T16:43:04.587Z"
      },
      {
        "duration": 10,
        "start_time": "2022-09-09T16:43:04.636Z"
      },
      {
        "duration": 18,
        "start_time": "2022-09-09T16:43:04.648Z"
      },
      {
        "duration": 5,
        "start_time": "2022-09-09T16:43:04.670Z"
      },
      {
        "duration": 9,
        "start_time": "2022-09-09T16:43:04.677Z"
      },
      {
        "duration": 9,
        "start_time": "2022-09-09T16:43:04.687Z"
      },
      {
        "duration": 41,
        "start_time": "2022-09-09T16:43:04.698Z"
      },
      {
        "duration": 15,
        "start_time": "2022-09-09T16:43:04.742Z"
      },
      {
        "duration": 11,
        "start_time": "2022-09-09T16:43:04.759Z"
      },
      {
        "duration": 6,
        "start_time": "2022-09-09T16:43:04.772Z"
      },
      {
        "duration": 21,
        "start_time": "2022-09-09T16:43:04.780Z"
      },
      {
        "duration": 47,
        "start_time": "2022-09-09T16:43:04.804Z"
      },
      {
        "duration": 8,
        "start_time": "2022-09-09T16:43:04.852Z"
      },
      {
        "duration": 20,
        "start_time": "2022-09-09T16:43:04.862Z"
      },
      {
        "duration": 15,
        "start_time": "2022-09-09T16:43:04.884Z"
      },
      {
        "duration": 46,
        "start_time": "2022-09-09T16:43:04.901Z"
      },
      {
        "duration": 19,
        "start_time": "2022-09-09T16:43:04.949Z"
      },
      {
        "duration": 15,
        "start_time": "2022-09-09T16:43:04.970Z"
      },
      {
        "duration": 3,
        "start_time": "2022-09-09T16:43:04.986Z"
      },
      {
        "duration": 9,
        "start_time": "2022-09-09T16:43:04.990Z"
      },
      {
        "duration": 27,
        "start_time": "2022-09-09T16:43:05.000Z"
      },
      {
        "duration": 7,
        "start_time": "2022-09-09T16:43:05.043Z"
      },
      {
        "duration": 7,
        "start_time": "2022-09-09T16:43:05.052Z"
      },
      {
        "duration": 11,
        "start_time": "2022-09-09T16:43:05.060Z"
      },
      {
        "duration": 18,
        "start_time": "2022-09-09T16:43:05.073Z"
      },
      {
        "duration": 50,
        "start_time": "2022-09-09T16:43:05.093Z"
      },
      {
        "duration": 8,
        "start_time": "2022-09-09T16:43:05.146Z"
      },
      {
        "duration": 7,
        "start_time": "2022-09-09T16:43:05.156Z"
      },
      {
        "duration": 10,
        "start_time": "2022-09-09T16:43:05.165Z"
      },
      {
        "duration": 7,
        "start_time": "2022-09-09T16:43:05.177Z"
      },
      {
        "duration": 3,
        "start_time": "2022-09-09T16:43:05.186Z"
      },
      {
        "duration": 47,
        "start_time": "2022-09-09T16:43:05.191Z"
      },
      {
        "duration": 16,
        "start_time": "2022-09-09T16:43:05.242Z"
      },
      {
        "duration": 8,
        "start_time": "2022-09-09T16:43:05.259Z"
      },
      {
        "duration": 19,
        "start_time": "2022-09-09T16:43:05.268Z"
      },
      {
        "duration": 9,
        "start_time": "2022-09-09T16:43:05.289Z"
      },
      {
        "duration": 32,
        "start_time": "2022-09-09T16:43:05.299Z"
      },
      {
        "duration": 20,
        "start_time": "2022-09-09T16:43:05.341Z"
      },
      {
        "duration": 7,
        "start_time": "2022-09-09T16:43:05.362Z"
      },
      {
        "duration": 21,
        "start_time": "2022-09-09T16:43:05.370Z"
      },
      {
        "duration": 15,
        "start_time": "2022-09-09T16:43:05.392Z"
      },
      {
        "duration": 52,
        "start_time": "2022-09-09T16:43:05.408Z"
      },
      {
        "duration": 29,
        "start_time": "2022-09-09T16:43:05.461Z"
      },
      {
        "duration": 7,
        "start_time": "2022-09-09T16:43:05.492Z"
      },
      {
        "duration": 3,
        "start_time": "2022-09-09T16:43:05.500Z"
      },
      {
        "duration": 41,
        "start_time": "2022-09-09T16:43:05.505Z"
      },
      {
        "duration": 9,
        "start_time": "2022-09-09T16:43:05.549Z"
      },
      {
        "duration": 22,
        "start_time": "2022-09-09T16:43:05.560Z"
      },
      {
        "duration": 9,
        "start_time": "2022-09-09T16:43:05.583Z"
      },
      {
        "duration": 73,
        "start_time": "2022-09-09T16:43:05.594Z"
      },
      {
        "duration": 8,
        "start_time": "2022-09-09T16:43:05.668Z"
      },
      {
        "duration": 18,
        "start_time": "2022-09-09T16:43:05.677Z"
      },
      {
        "duration": 7,
        "start_time": "2022-09-09T16:43:05.696Z"
      },
      {
        "duration": 66,
        "start_time": "2022-09-09T16:43:05.705Z"
      }
    ],
    "colab": {
      "provenance": []
    },
    "kernelspec": {
      "display_name": "Python 3 (ipykernel)",
      "language": "python",
      "name": "python3"
    },
    "language_info": {
      "codemirror_mode": {
        "name": "ipython",
        "version": 3
      },
      "file_extension": ".py",
      "mimetype": "text/x-python",
      "name": "python",
      "nbconvert_exporter": "python",
      "pygments_lexer": "ipython3",
      "version": "3.10.6"
    },
    "toc": {
      "base_numbering": 1,
      "nav_menu": {},
      "number_sections": true,
      "sideBar": true,
      "skip_h1_title": true,
      "title_cell": "Table of Contents",
      "title_sidebar": "Contents",
      "toc_cell": false,
      "toc_position": {
        "height": "calc(100% - 180px)",
        "left": "10px",
        "top": "150px",
        "width": "152.637px"
      },
      "toc_section_display": true,
      "toc_window_display": false
    }
  },
  "nbformat": 4,
  "nbformat_minor": 0
}