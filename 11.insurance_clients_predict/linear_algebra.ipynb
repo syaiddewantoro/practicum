{
  "cells": [
    {
      "cell_type": "markdown",
      "source": [
        "# Obfuscating Client Data without Reducing Machine Learning Quality"
      ],
      "metadata": {
        "id": "8D8XSqX9S3e_"
      }
    },
    {
      "cell_type": "markdown",
      "source": [
        "### Table of Contents\n",
        "* [Obfuscating Client Data without Reducing Machine Learning Quality](https://colab.research.google.com/drive/1-g48wg67Fdr8gt5jaL5BJI2WoIhX67LQ#scrollTo=8D8XSqX9S3e_&line=1&uniqifier=1)    \n",
        "    * [Linear Algebra](#scrollTo=h_FhWUmJRLg7)\n",
        "    * [Pre-processing & Data Exploration](#scrollTo=bNjkJLrmRLg_)\n",
        "    * [1. Initialization](#scrollTo=bNjkJLrmRLg_)\n",
        "        * [1.1. Load Data](#scrollTo=T5xSt0DURLhD)\n",
        "        * [1.2. Rename the Columns](#scrollTo=SyvS1nTiRLhF)\n",
        "        * [1.3. Print the Sample of Data](#scrollTo=_PdZ0AGCRLhG)\n",
        "        * [1.4. Get the Information of the Data](#scrollTo=MIXDqnXeRLhJ)\n",
        "    * [2. Improve Data Quality and EDA](#scrollTo=YO2nlwBvRLhN)\n",
        "        * [2.1. Checking Missing Value and Duplicate](#scrollTo=ALkn3qPERLhN)\n",
        "        * [2.2. EDA](#scrollTo=hLix6ZwhRLhS)\n",
        "    * [3. Purpose of Project](#scrollTo=ZRczraZ0RLhW)\n",
        "        * [3.1. Objective 1. Similar Clients](#scrollTo=h7qNw4JQRLhX)\n",
        "            * [3.1.1. Data Scaling](#scrollTo=AIQHfQLIRLhZ)\n",
        "            * [3.1.2. Model without Scale](#scrollTo=yeMywOyERLha)\n",
        "            * [3.1.3. Models with Scale](#scrollTo=7ROsTAAaRLhb)\n",
        "        * [3.2. Objective 2. Is the Client Likely to Receive Insurance Benefits?](#scrollTo=R1OKSvuuRLhd)\n",
        "            * [3.2.1. Create Dummy Model](#scrollTo=0vpSzoSgRLhg)\n",
        "            * [3.2.2. Create Models with Actual Data and Scaled Data](#scrollTo=mjEtRPucRLhi)\n",
        "        * [3.3. Objective 3. Regression (with Linear Regression)](#scrollTo=HmLFyOv9RLhk)\n",
        "        * [3.4. Objective 4. Data Obfuscation](#scrollTo=jFUvZpR6RLh2)\n",
        "        * [3.5. Prove that data obfuscation can work with LR](#scrollTo=hduy1-1wRLiB)\n",
        "        * [3.6 Test Linear Regression With Data Obfuscation](#scrollTo=KZNVOJXDRLiG)\n",
        "    * [4. Conclusion](#scrollTo=l69OGvgaRLiK)\n",
        "\n"
      ],
      "metadata": {
        "colab_type": "toc",
        "id": "_gtXrMVTRbeM"
      }
    },
    {
      "cell_type": "markdown",
      "metadata": {
        "id": "h_FhWUmJRLg7"
      },
      "source": [
        "## Linear Algebra"
      ]
    },
    {
      "cell_type": "markdown",
      "metadata": {
        "id": "EjrVuCjCRLg9"
      },
      "source": [
        "An insurance company called \"Sure Tomorrow\" wants to solve some problems with the help of machine learning. You are asked to evaluate the possibility.\n",
        "\n",
        "**Goals:**\n",
        "\n",
        "- Task 1: Find clients who are similar to specific client criteria. This task will make it easier for the company to do marketing.\n",
        "- Task 2: Predict whether new clients will likely get insurance benefits. Is the model's prediction better than the *dummy* model?\n",
        "- Task 3: Predict the amount of insurance benefits a new client will likely receive using a linear regression model.\n",
        "- Task 4: Protect the client's data without breaking the model from the previous task. It is essential to develop data transformation algorithms that can prevent the misuse of personal information if the data falls into the wrong hands. It is called data hiding or data obfuscation. However, the data protection procedure also needs to be considered so that the quality of the machine learning model does not decrease. You don't need to choose the best model. Just prove that the algorithm works accurately."
      ]
    },
    {
      "cell_type": "markdown",
      "metadata": {
        "id": "bNjkJLrmRLg_"
      },
      "source": [
        "## Pre-processing & Data Exploration\n",
        "\n",
        "## 1. Initialization"
      ]
    },
    {
      "cell_type": "code",
      "execution_count": 1,
      "metadata": {
        "id": "6-FrJptERLhA"
      },
      "outputs": [],
      "source": [
        "# load all libraries\n",
        "import numpy as np\n",
        "import pandas as pd\n",
        "import random, math, itertools\n",
        "import warnings\n",
        "warnings.filterwarnings('ignore')\n",
        "from collections import defaultdict\n",
        "\n",
        "import seaborn as sns\n",
        "import matplotlib.pyplot as plt\n",
        "\n",
        "import sklearn.linear_model\n",
        "import sklearn.metrics\n",
        "import sklearn.neighbors\n",
        "import sklearn.preprocessing\n",
        "\n",
        "from sklearn.neighbors import NearestNeighbors\n",
        "from sklearn.neighbors import KNeighborsClassifier\n",
        "from sklearn.linear_model import LinearRegression\n",
        "\n",
        "from sklearn.model_selection import train_test_split\n",
        "\n",
        "from IPython.display import display"
      ]
    },
    {
      "cell_type": "markdown",
      "metadata": {
        "id": "T5xSt0DURLhD"
      },
      "source": [
        "### 1.1. Load Data"
      ]
    },
    {
      "cell_type": "markdown",
      "metadata": {
        "id": "u1J46sYPRLhE"
      },
      "source": [
        "Load the data and perform checks to ensure it is free of problems."
      ]
    },
    {
      "cell_type": "code",
      "execution_count": 2,
      "metadata": {
        "id": "sL-9yPNwRLhE"
      },
      "outputs": [],
      "source": [
        "# Load Data\n",
        "df = pd.read_csv('https://practicum-content.s3.us-west-1.amazonaws.com/datasets/insurance_us.csv')"
      ]
    },
    {
      "cell_type": "markdown",
      "metadata": {
        "id": "SyvS1nTiRLhF"
      },
      "source": [
        "### 1.2. Rename the Columns"
      ]
    },
    {
      "cell_type": "markdown",
      "metadata": {
        "id": "OBwtZw-9RLhF"
      },
      "source": [
        "Rename the columns to make the code look more consistent."
      ]
    },
    {
      "cell_type": "code",
      "execution_count": 3,
      "metadata": {
        "id": "eHYjBlkrRLhG"
      },
      "outputs": [],
      "source": [
        "# rename the columns\n",
        "df = df.rename(columns={'Gender': 'gender', 'Age': 'age', 'Salary': 'income', 'Family members': 'family_members', 'Insurance benefits': 'insurance_benefits'})"
      ]
    },
    {
      "cell_type": "markdown",
      "metadata": {
        "id": "_PdZ0AGCRLhG"
      },
      "source": [
        "### 1.3. Print the Sample of Data"
      ]
    },
    {
      "cell_type": "code",
      "execution_count": 4,
      "metadata": {
        "scrolled": false,
        "colab": {
          "base_uri": "https://localhost:8080/",
          "height": 363
        },
        "id": "bGb53VYnRLhG",
        "outputId": "c29bcbb9-062c-4012-eb78-bdb51bb6aa39"
      },
      "outputs": [
        {
          "output_type": "execute_result",
          "data": {
            "text/plain": [
              "   gender   age   income  family_members  insurance_benefits\n",
              "0       1  41.0  49600.0               1                   0\n",
              "1       0  46.0  38000.0               1                   1\n",
              "2       0  29.0  21000.0               0                   0\n",
              "3       0  21.0  41700.0               2                   0\n",
              "4       1  28.0  26100.0               0                   0\n",
              "5       1  43.0  41000.0               2                   1\n",
              "6       1  39.0  39700.0               2                   0\n",
              "7       1  25.0  38600.0               4                   0\n",
              "8       1  36.0  49700.0               1                   0\n",
              "9       1  32.0  51700.0               1                   0"
            ],
            "text/html": [
              "\n",
              "  <div id=\"df-0d31b3e0-84d9-4771-8b93-aa6cf4edaaa9\">\n",
              "    <div class=\"colab-df-container\">\n",
              "      <div>\n",
              "<style scoped>\n",
              "    .dataframe tbody tr th:only-of-type {\n",
              "        vertical-align: middle;\n",
              "    }\n",
              "\n",
              "    .dataframe tbody tr th {\n",
              "        vertical-align: top;\n",
              "    }\n",
              "\n",
              "    .dataframe thead th {\n",
              "        text-align: right;\n",
              "    }\n",
              "</style>\n",
              "<table border=\"1\" class=\"dataframe\">\n",
              "  <thead>\n",
              "    <tr style=\"text-align: right;\">\n",
              "      <th></th>\n",
              "      <th>gender</th>\n",
              "      <th>age</th>\n",
              "      <th>income</th>\n",
              "      <th>family_members</th>\n",
              "      <th>insurance_benefits</th>\n",
              "    </tr>\n",
              "  </thead>\n",
              "  <tbody>\n",
              "    <tr>\n",
              "      <th>0</th>\n",
              "      <td>1</td>\n",
              "      <td>41.0</td>\n",
              "      <td>49600.0</td>\n",
              "      <td>1</td>\n",
              "      <td>0</td>\n",
              "    </tr>\n",
              "    <tr>\n",
              "      <th>1</th>\n",
              "      <td>0</td>\n",
              "      <td>46.0</td>\n",
              "      <td>38000.0</td>\n",
              "      <td>1</td>\n",
              "      <td>1</td>\n",
              "    </tr>\n",
              "    <tr>\n",
              "      <th>2</th>\n",
              "      <td>0</td>\n",
              "      <td>29.0</td>\n",
              "      <td>21000.0</td>\n",
              "      <td>0</td>\n",
              "      <td>0</td>\n",
              "    </tr>\n",
              "    <tr>\n",
              "      <th>3</th>\n",
              "      <td>0</td>\n",
              "      <td>21.0</td>\n",
              "      <td>41700.0</td>\n",
              "      <td>2</td>\n",
              "      <td>0</td>\n",
              "    </tr>\n",
              "    <tr>\n",
              "      <th>4</th>\n",
              "      <td>1</td>\n",
              "      <td>28.0</td>\n",
              "      <td>26100.0</td>\n",
              "      <td>0</td>\n",
              "      <td>0</td>\n",
              "    </tr>\n",
              "    <tr>\n",
              "      <th>5</th>\n",
              "      <td>1</td>\n",
              "      <td>43.0</td>\n",
              "      <td>41000.0</td>\n",
              "      <td>2</td>\n",
              "      <td>1</td>\n",
              "    </tr>\n",
              "    <tr>\n",
              "      <th>6</th>\n",
              "      <td>1</td>\n",
              "      <td>39.0</td>\n",
              "      <td>39700.0</td>\n",
              "      <td>2</td>\n",
              "      <td>0</td>\n",
              "    </tr>\n",
              "    <tr>\n",
              "      <th>7</th>\n",
              "      <td>1</td>\n",
              "      <td>25.0</td>\n",
              "      <td>38600.0</td>\n",
              "      <td>4</td>\n",
              "      <td>0</td>\n",
              "    </tr>\n",
              "    <tr>\n",
              "      <th>8</th>\n",
              "      <td>1</td>\n",
              "      <td>36.0</td>\n",
              "      <td>49700.0</td>\n",
              "      <td>1</td>\n",
              "      <td>0</td>\n",
              "    </tr>\n",
              "    <tr>\n",
              "      <th>9</th>\n",
              "      <td>1</td>\n",
              "      <td>32.0</td>\n",
              "      <td>51700.0</td>\n",
              "      <td>1</td>\n",
              "      <td>0</td>\n",
              "    </tr>\n",
              "  </tbody>\n",
              "</table>\n",
              "</div>\n",
              "      <button class=\"colab-df-convert\" onclick=\"convertToInteractive('df-0d31b3e0-84d9-4771-8b93-aa6cf4edaaa9')\"\n",
              "              title=\"Convert this dataframe to an interactive table.\"\n",
              "              style=\"display:none;\">\n",
              "        \n",
              "  <svg xmlns=\"http://www.w3.org/2000/svg\" height=\"24px\"viewBox=\"0 0 24 24\"\n",
              "       width=\"24px\">\n",
              "    <path d=\"M0 0h24v24H0V0z\" fill=\"none\"/>\n",
              "    <path d=\"M18.56 5.44l.94 2.06.94-2.06 2.06-.94-2.06-.94-.94-2.06-.94 2.06-2.06.94zm-11 1L8.5 8.5l.94-2.06 2.06-.94-2.06-.94L8.5 2.5l-.94 2.06-2.06.94zm10 10l.94 2.06.94-2.06 2.06-.94-2.06-.94-.94-2.06-.94 2.06-2.06.94z\"/><path d=\"M17.41 7.96l-1.37-1.37c-.4-.4-.92-.59-1.43-.59-.52 0-1.04.2-1.43.59L10.3 9.45l-7.72 7.72c-.78.78-.78 2.05 0 2.83L4 21.41c.39.39.9.59 1.41.59.51 0 1.02-.2 1.41-.59l7.78-7.78 2.81-2.81c.8-.78.8-2.07 0-2.86zM5.41 20L4 18.59l7.72-7.72 1.47 1.35L5.41 20z\"/>\n",
              "  </svg>\n",
              "      </button>\n",
              "      \n",
              "  <style>\n",
              "    .colab-df-container {\n",
              "      display:flex;\n",
              "      flex-wrap:wrap;\n",
              "      gap: 12px;\n",
              "    }\n",
              "\n",
              "    .colab-df-convert {\n",
              "      background-color: #E8F0FE;\n",
              "      border: none;\n",
              "      border-radius: 50%;\n",
              "      cursor: pointer;\n",
              "      display: none;\n",
              "      fill: #1967D2;\n",
              "      height: 32px;\n",
              "      padding: 0 0 0 0;\n",
              "      width: 32px;\n",
              "    }\n",
              "\n",
              "    .colab-df-convert:hover {\n",
              "      background-color: #E2EBFA;\n",
              "      box-shadow: 0px 1px 2px rgba(60, 64, 67, 0.3), 0px 1px 3px 1px rgba(60, 64, 67, 0.15);\n",
              "      fill: #174EA6;\n",
              "    }\n",
              "\n",
              "    [theme=dark] .colab-df-convert {\n",
              "      background-color: #3B4455;\n",
              "      fill: #D2E3FC;\n",
              "    }\n",
              "\n",
              "    [theme=dark] .colab-df-convert:hover {\n",
              "      background-color: #434B5C;\n",
              "      box-shadow: 0px 1px 3px 1px rgba(0, 0, 0, 0.15);\n",
              "      filter: drop-shadow(0px 1px 2px rgba(0, 0, 0, 0.3));\n",
              "      fill: #FFFFFF;\n",
              "    }\n",
              "  </style>\n",
              "\n",
              "      <script>\n",
              "        const buttonEl =\n",
              "          document.querySelector('#df-0d31b3e0-84d9-4771-8b93-aa6cf4edaaa9 button.colab-df-convert');\n",
              "        buttonEl.style.display =\n",
              "          google.colab.kernel.accessAllowed ? 'block' : 'none';\n",
              "\n",
              "        async function convertToInteractive(key) {\n",
              "          const element = document.querySelector('#df-0d31b3e0-84d9-4771-8b93-aa6cf4edaaa9');\n",
              "          const dataTable =\n",
              "            await google.colab.kernel.invokeFunction('convertToInteractive',\n",
              "                                                     [key], {});\n",
              "          if (!dataTable) return;\n",
              "\n",
              "          const docLinkHtml = 'Like what you see? Visit the ' +\n",
              "            '<a target=\"_blank\" href=https://colab.research.google.com/notebooks/data_table.ipynb>data table notebook</a>'\n",
              "            + ' to learn more about interactive tables.';\n",
              "          element.innerHTML = '';\n",
              "          dataTable['output_type'] = 'display_data';\n",
              "          await google.colab.output.renderOutput(dataTable, element);\n",
              "          const docLink = document.createElement('div');\n",
              "          docLink.innerHTML = docLinkHtml;\n",
              "          element.appendChild(docLink);\n",
              "        }\n",
              "      </script>\n",
              "    </div>\n",
              "  </div>\n",
              "  "
            ]
          },
          "metadata": {},
          "execution_count": 4
        }
      ],
      "source": [
        "# print the sample of data\n",
        "df.head(10)"
      ]
    },
    {
      "cell_type": "markdown",
      "metadata": {
        "id": "MIXDqnXeRLhJ"
      },
      "source": [
        "### 1.4. Get the Information of the Data"
      ]
    },
    {
      "cell_type": "code",
      "execution_count": 5,
      "metadata": {
        "colab": {
          "base_uri": "https://localhost:8080/"
        },
        "id": "yNucundbRLhJ",
        "outputId": "b3405093-1598-491d-ba60-b8bb7a2d2a2a"
      },
      "outputs": [
        {
          "output_type": "stream",
          "name": "stdout",
          "text": [
            "<class 'pandas.core.frame.DataFrame'>\n",
            "RangeIndex: 5000 entries, 0 to 4999\n",
            "Data columns (total 5 columns):\n",
            " #   Column              Non-Null Count  Dtype  \n",
            "---  ------              --------------  -----  \n",
            " 0   gender              5000 non-null   int64  \n",
            " 1   age                 5000 non-null   float64\n",
            " 2   income              5000 non-null   float64\n",
            " 3   family_members      5000 non-null   int64  \n",
            " 4   insurance_benefits  5000 non-null   int64  \n",
            "dtypes: float64(2), int64(3)\n",
            "memory usage: 195.4 KB\n"
          ]
        }
      ],
      "source": [
        "# get the information of the data\n",
        "df.info()"
      ]
    },
    {
      "cell_type": "code",
      "execution_count": 6,
      "metadata": {
        "colab": {
          "base_uri": "https://localhost:8080/"
        },
        "id": "HT82lB4HRLhK",
        "outputId": "cf9faa8c-1b6a-498d-bd2c-d28a701b95b7"
      },
      "outputs": [
        {
          "output_type": "execute_result",
          "data": {
            "text/plain": [
              "dtype('float64')"
            ]
          },
          "metadata": {},
          "execution_count": 6
        }
      ],
      "source": [
        "# we will change the age type (from float to int) even though it is not too important to do sodf['age'] = df['age'].apply(np.int64)\n",
        "df['age'].dtype"
      ]
    },
    {
      "cell_type": "code",
      "execution_count": 7,
      "metadata": {
        "colab": {
          "base_uri": "https://localhost:8080/"
        },
        "id": "aTTEjGc7RLhK",
        "outputId": "05b0ba3f-ae98-4e22-dbb8-dfd40fabc5b7"
      },
      "outputs": [
        {
          "output_type": "stream",
          "name": "stdout",
          "text": [
            "<class 'pandas.core.frame.DataFrame'>\n",
            "RangeIndex: 5000 entries, 0 to 4999\n",
            "Data columns (total 5 columns):\n",
            " #   Column              Non-Null Count  Dtype  \n",
            "---  ------              --------------  -----  \n",
            " 0   gender              5000 non-null   int64  \n",
            " 1   age                 5000 non-null   float64\n",
            " 2   income              5000 non-null   float64\n",
            " 3   family_members      5000 non-null   int64  \n",
            " 4   insurance_benefits  5000 non-null   int64  \n",
            "dtypes: float64(2), int64(3)\n",
            "memory usage: 195.4 KB\n"
          ]
        }
      ],
      "source": [
        "# check if the conversion was successful\n",
        "df.info()"
      ]
    },
    {
      "cell_type": "markdown",
      "metadata": {
        "id": "Wro7IAj0RLhL"
      },
      "source": [
        "We have changed the data type of the `age` column from `float` to `integer`. Now we will proceed to observe the descriptive statistics of the data."
      ]
    },
    {
      "cell_type": "code",
      "execution_count": 8,
      "metadata": {
        "colab": {
          "base_uri": "https://localhost:8080/",
          "height": 300
        },
        "id": "1IJTC-3MRLhL",
        "outputId": "bf5ef343-8024-42d3-c934-b5f9f035f45b"
      },
      "outputs": [
        {
          "output_type": "execute_result",
          "data": {
            "text/plain": [
              "            gender          age        income  family_members  \\\n",
              "count  5000.000000  5000.000000   5000.000000     5000.000000   \n",
              "mean      0.499000    30.952800  39916.360000        1.194200   \n",
              "std       0.500049     8.440807   9900.083569        1.091387   \n",
              "min       0.000000    18.000000   5300.000000        0.000000   \n",
              "25%       0.000000    24.000000  33300.000000        0.000000   \n",
              "50%       0.000000    30.000000  40200.000000        1.000000   \n",
              "75%       1.000000    37.000000  46600.000000        2.000000   \n",
              "max       1.000000    65.000000  79000.000000        6.000000   \n",
              "\n",
              "       insurance_benefits  \n",
              "count         5000.000000  \n",
              "mean             0.148000  \n",
              "std              0.463183  \n",
              "min              0.000000  \n",
              "25%              0.000000  \n",
              "50%              0.000000  \n",
              "75%              0.000000  \n",
              "max              5.000000  "
            ],
            "text/html": [
              "\n",
              "  <div id=\"df-ec799381-85be-4093-a62f-a9ed23c2f18c\">\n",
              "    <div class=\"colab-df-container\">\n",
              "      <div>\n",
              "<style scoped>\n",
              "    .dataframe tbody tr th:only-of-type {\n",
              "        vertical-align: middle;\n",
              "    }\n",
              "\n",
              "    .dataframe tbody tr th {\n",
              "        vertical-align: top;\n",
              "    }\n",
              "\n",
              "    .dataframe thead th {\n",
              "        text-align: right;\n",
              "    }\n",
              "</style>\n",
              "<table border=\"1\" class=\"dataframe\">\n",
              "  <thead>\n",
              "    <tr style=\"text-align: right;\">\n",
              "      <th></th>\n",
              "      <th>gender</th>\n",
              "      <th>age</th>\n",
              "      <th>income</th>\n",
              "      <th>family_members</th>\n",
              "      <th>insurance_benefits</th>\n",
              "    </tr>\n",
              "  </thead>\n",
              "  <tbody>\n",
              "    <tr>\n",
              "      <th>count</th>\n",
              "      <td>5000.000000</td>\n",
              "      <td>5000.000000</td>\n",
              "      <td>5000.000000</td>\n",
              "      <td>5000.000000</td>\n",
              "      <td>5000.000000</td>\n",
              "    </tr>\n",
              "    <tr>\n",
              "      <th>mean</th>\n",
              "      <td>0.499000</td>\n",
              "      <td>30.952800</td>\n",
              "      <td>39916.360000</td>\n",
              "      <td>1.194200</td>\n",
              "      <td>0.148000</td>\n",
              "    </tr>\n",
              "    <tr>\n",
              "      <th>std</th>\n",
              "      <td>0.500049</td>\n",
              "      <td>8.440807</td>\n",
              "      <td>9900.083569</td>\n",
              "      <td>1.091387</td>\n",
              "      <td>0.463183</td>\n",
              "    </tr>\n",
              "    <tr>\n",
              "      <th>min</th>\n",
              "      <td>0.000000</td>\n",
              "      <td>18.000000</td>\n",
              "      <td>5300.000000</td>\n",
              "      <td>0.000000</td>\n",
              "      <td>0.000000</td>\n",
              "    </tr>\n",
              "    <tr>\n",
              "      <th>25%</th>\n",
              "      <td>0.000000</td>\n",
              "      <td>24.000000</td>\n",
              "      <td>33300.000000</td>\n",
              "      <td>0.000000</td>\n",
              "      <td>0.000000</td>\n",
              "    </tr>\n",
              "    <tr>\n",
              "      <th>50%</th>\n",
              "      <td>0.000000</td>\n",
              "      <td>30.000000</td>\n",
              "      <td>40200.000000</td>\n",
              "      <td>1.000000</td>\n",
              "      <td>0.000000</td>\n",
              "    </tr>\n",
              "    <tr>\n",
              "      <th>75%</th>\n",
              "      <td>1.000000</td>\n",
              "      <td>37.000000</td>\n",
              "      <td>46600.000000</td>\n",
              "      <td>2.000000</td>\n",
              "      <td>0.000000</td>\n",
              "    </tr>\n",
              "    <tr>\n",
              "      <th>max</th>\n",
              "      <td>1.000000</td>\n",
              "      <td>65.000000</td>\n",
              "      <td>79000.000000</td>\n",
              "      <td>6.000000</td>\n",
              "      <td>5.000000</td>\n",
              "    </tr>\n",
              "  </tbody>\n",
              "</table>\n",
              "</div>\n",
              "      <button class=\"colab-df-convert\" onclick=\"convertToInteractive('df-ec799381-85be-4093-a62f-a9ed23c2f18c')\"\n",
              "              title=\"Convert this dataframe to an interactive table.\"\n",
              "              style=\"display:none;\">\n",
              "        \n",
              "  <svg xmlns=\"http://www.w3.org/2000/svg\" height=\"24px\"viewBox=\"0 0 24 24\"\n",
              "       width=\"24px\">\n",
              "    <path d=\"M0 0h24v24H0V0z\" fill=\"none\"/>\n",
              "    <path d=\"M18.56 5.44l.94 2.06.94-2.06 2.06-.94-2.06-.94-.94-2.06-.94 2.06-2.06.94zm-11 1L8.5 8.5l.94-2.06 2.06-.94-2.06-.94L8.5 2.5l-.94 2.06-2.06.94zm10 10l.94 2.06.94-2.06 2.06-.94-2.06-.94-.94-2.06-.94 2.06-2.06.94z\"/><path d=\"M17.41 7.96l-1.37-1.37c-.4-.4-.92-.59-1.43-.59-.52 0-1.04.2-1.43.59L10.3 9.45l-7.72 7.72c-.78.78-.78 2.05 0 2.83L4 21.41c.39.39.9.59 1.41.59.51 0 1.02-.2 1.41-.59l7.78-7.78 2.81-2.81c.8-.78.8-2.07 0-2.86zM5.41 20L4 18.59l7.72-7.72 1.47 1.35L5.41 20z\"/>\n",
              "  </svg>\n",
              "      </button>\n",
              "      \n",
              "  <style>\n",
              "    .colab-df-container {\n",
              "      display:flex;\n",
              "      flex-wrap:wrap;\n",
              "      gap: 12px;\n",
              "    }\n",
              "\n",
              "    .colab-df-convert {\n",
              "      background-color: #E8F0FE;\n",
              "      border: none;\n",
              "      border-radius: 50%;\n",
              "      cursor: pointer;\n",
              "      display: none;\n",
              "      fill: #1967D2;\n",
              "      height: 32px;\n",
              "      padding: 0 0 0 0;\n",
              "      width: 32px;\n",
              "    }\n",
              "\n",
              "    .colab-df-convert:hover {\n",
              "      background-color: #E2EBFA;\n",
              "      box-shadow: 0px 1px 2px rgba(60, 64, 67, 0.3), 0px 1px 3px 1px rgba(60, 64, 67, 0.15);\n",
              "      fill: #174EA6;\n",
              "    }\n",
              "\n",
              "    [theme=dark] .colab-df-convert {\n",
              "      background-color: #3B4455;\n",
              "      fill: #D2E3FC;\n",
              "    }\n",
              "\n",
              "    [theme=dark] .colab-df-convert:hover {\n",
              "      background-color: #434B5C;\n",
              "      box-shadow: 0px 1px 3px 1px rgba(0, 0, 0, 0.15);\n",
              "      filter: drop-shadow(0px 1px 2px rgba(0, 0, 0, 0.3));\n",
              "      fill: #FFFFFF;\n",
              "    }\n",
              "  </style>\n",
              "\n",
              "      <script>\n",
              "        const buttonEl =\n",
              "          document.querySelector('#df-ec799381-85be-4093-a62f-a9ed23c2f18c button.colab-df-convert');\n",
              "        buttonEl.style.display =\n",
              "          google.colab.kernel.accessAllowed ? 'block' : 'none';\n",
              "\n",
              "        async function convertToInteractive(key) {\n",
              "          const element = document.querySelector('#df-ec799381-85be-4093-a62f-a9ed23c2f18c');\n",
              "          const dataTable =\n",
              "            await google.colab.kernel.invokeFunction('convertToInteractive',\n",
              "                                                     [key], {});\n",
              "          if (!dataTable) return;\n",
              "\n",
              "          const docLinkHtml = 'Like what you see? Visit the ' +\n",
              "            '<a target=\"_blank\" href=https://colab.research.google.com/notebooks/data_table.ipynb>data table notebook</a>'\n",
              "            + ' to learn more about interactive tables.';\n",
              "          element.innerHTML = '';\n",
              "          dataTable['output_type'] = 'display_data';\n",
              "          await google.colab.output.renderOutput(dataTable, element);\n",
              "          const docLink = document.createElement('div');\n",
              "          docLink.innerHTML = docLinkHtml;\n",
              "          element.appendChild(docLink);\n",
              "        }\n",
              "      </script>\n",
              "    </div>\n",
              "  </div>\n",
              "  "
            ]
          },
          "metadata": {},
          "execution_count": 8
        }
      ],
      "source": [
        "# observed descriptive statistics of the data\n",
        "df.describe()"
      ]
    },
    {
      "cell_type": "markdown",
      "metadata": {
        "id": "1wiTQ2-0RLhM"
      },
      "source": [
        "**Findings:**\n",
        "- There is no dominating `gender` group of our insurance clients as they are equal in number.\n",
        "- We can conclude that the type of insurance in this data is not a family insurance type because, based on the age in the data, there are no clients below the age of **18**, with a maximum age of **65**.\n",
        "- The average income of insurance clients is around **40,000**."
      ]
    },
    {
      "cell_type": "markdown",
      "metadata": {
        "id": "YO2nlwBvRLhN"
      },
      "source": [
        "## 2. Improve Data Quality and EDA"
      ]
    },
    {
      "cell_type": "markdown",
      "metadata": {
        "id": "ALkn3qPERLhN"
      },
      "source": [
        "### 2.1. Checking Missing Value and Duplicate"
      ]
    },
    {
      "cell_type": "code",
      "execution_count": 9,
      "metadata": {
        "colab": {
          "base_uri": "https://localhost:8080/"
        },
        "id": "_Se198uYRLhN",
        "outputId": "621cc78d-ffa2-4443-abc4-7c1c1faaa1f3"
      },
      "outputs": [
        {
          "output_type": "execute_result",
          "data": {
            "text/plain": [
              "gender                0\n",
              "age                   0\n",
              "income                0\n",
              "family_members        0\n",
              "insurance_benefits    0\n",
              "dtype: int64"
            ]
          },
          "metadata": {},
          "execution_count": 9
        }
      ],
      "source": [
        "# checking missing value\n",
        "df.isna().sum()"
      ]
    },
    {
      "cell_type": "code",
      "execution_count": 10,
      "metadata": {
        "colab": {
          "base_uri": "https://localhost:8080/"
        },
        "id": "T416p1LfRLhO",
        "outputId": "36904faa-a9b0-4434-8489-bf3d066796af"
      },
      "outputs": [
        {
          "output_type": "execute_result",
          "data": {
            "text/plain": [
              "153"
            ]
          },
          "metadata": {},
          "execution_count": 10
        }
      ],
      "source": [
        "# checking duplicate\n",
        "df.duplicated().sum()"
      ]
    },
    {
      "cell_type": "code",
      "execution_count": 11,
      "metadata": {
        "colab": {
          "base_uri": "https://localhost:8080/",
          "height": 206
        },
        "id": "nWNUNFSSRLhP",
        "outputId": "4969ea54-2101-48d6-a661-2cb3eb770641"
      },
      "outputs": [
        {
          "output_type": "execute_result",
          "data": {
            "text/plain": [
              "     gender   age   income  family_members  insurance_benefits\n",
              "281       1  39.0  48100.0               1                   0\n",
              "488       1  24.0  32900.0               1                   0\n",
              "513       0  31.0  37400.0               2                   0\n",
              "718       1  22.0  32600.0               1                   0\n",
              "785       0  20.0  35800.0               0                   0"
            ],
            "text/html": [
              "\n",
              "  <div id=\"df-357e5d03-41bc-481d-a86f-2057b8b20dc3\">\n",
              "    <div class=\"colab-df-container\">\n",
              "      <div>\n",
              "<style scoped>\n",
              "    .dataframe tbody tr th:only-of-type {\n",
              "        vertical-align: middle;\n",
              "    }\n",
              "\n",
              "    .dataframe tbody tr th {\n",
              "        vertical-align: top;\n",
              "    }\n",
              "\n",
              "    .dataframe thead th {\n",
              "        text-align: right;\n",
              "    }\n",
              "</style>\n",
              "<table border=\"1\" class=\"dataframe\">\n",
              "  <thead>\n",
              "    <tr style=\"text-align: right;\">\n",
              "      <th></th>\n",
              "      <th>gender</th>\n",
              "      <th>age</th>\n",
              "      <th>income</th>\n",
              "      <th>family_members</th>\n",
              "      <th>insurance_benefits</th>\n",
              "    </tr>\n",
              "  </thead>\n",
              "  <tbody>\n",
              "    <tr>\n",
              "      <th>281</th>\n",
              "      <td>1</td>\n",
              "      <td>39.0</td>\n",
              "      <td>48100.0</td>\n",
              "      <td>1</td>\n",
              "      <td>0</td>\n",
              "    </tr>\n",
              "    <tr>\n",
              "      <th>488</th>\n",
              "      <td>1</td>\n",
              "      <td>24.0</td>\n",
              "      <td>32900.0</td>\n",
              "      <td>1</td>\n",
              "      <td>0</td>\n",
              "    </tr>\n",
              "    <tr>\n",
              "      <th>513</th>\n",
              "      <td>0</td>\n",
              "      <td>31.0</td>\n",
              "      <td>37400.0</td>\n",
              "      <td>2</td>\n",
              "      <td>0</td>\n",
              "    </tr>\n",
              "    <tr>\n",
              "      <th>718</th>\n",
              "      <td>1</td>\n",
              "      <td>22.0</td>\n",
              "      <td>32600.0</td>\n",
              "      <td>1</td>\n",
              "      <td>0</td>\n",
              "    </tr>\n",
              "    <tr>\n",
              "      <th>785</th>\n",
              "      <td>0</td>\n",
              "      <td>20.0</td>\n",
              "      <td>35800.0</td>\n",
              "      <td>0</td>\n",
              "      <td>0</td>\n",
              "    </tr>\n",
              "  </tbody>\n",
              "</table>\n",
              "</div>\n",
              "      <button class=\"colab-df-convert\" onclick=\"convertToInteractive('df-357e5d03-41bc-481d-a86f-2057b8b20dc3')\"\n",
              "              title=\"Convert this dataframe to an interactive table.\"\n",
              "              style=\"display:none;\">\n",
              "        \n",
              "  <svg xmlns=\"http://www.w3.org/2000/svg\" height=\"24px\"viewBox=\"0 0 24 24\"\n",
              "       width=\"24px\">\n",
              "    <path d=\"M0 0h24v24H0V0z\" fill=\"none\"/>\n",
              "    <path d=\"M18.56 5.44l.94 2.06.94-2.06 2.06-.94-2.06-.94-.94-2.06-.94 2.06-2.06.94zm-11 1L8.5 8.5l.94-2.06 2.06-.94-2.06-.94L8.5 2.5l-.94 2.06-2.06.94zm10 10l.94 2.06.94-2.06 2.06-.94-2.06-.94-.94-2.06-.94 2.06-2.06.94z\"/><path d=\"M17.41 7.96l-1.37-1.37c-.4-.4-.92-.59-1.43-.59-.52 0-1.04.2-1.43.59L10.3 9.45l-7.72 7.72c-.78.78-.78 2.05 0 2.83L4 21.41c.39.39.9.59 1.41.59.51 0 1.02-.2 1.41-.59l7.78-7.78 2.81-2.81c.8-.78.8-2.07 0-2.86zM5.41 20L4 18.59l7.72-7.72 1.47 1.35L5.41 20z\"/>\n",
              "  </svg>\n",
              "      </button>\n",
              "      \n",
              "  <style>\n",
              "    .colab-df-container {\n",
              "      display:flex;\n",
              "      flex-wrap:wrap;\n",
              "      gap: 12px;\n",
              "    }\n",
              "\n",
              "    .colab-df-convert {\n",
              "      background-color: #E8F0FE;\n",
              "      border: none;\n",
              "      border-radius: 50%;\n",
              "      cursor: pointer;\n",
              "      display: none;\n",
              "      fill: #1967D2;\n",
              "      height: 32px;\n",
              "      padding: 0 0 0 0;\n",
              "      width: 32px;\n",
              "    }\n",
              "\n",
              "    .colab-df-convert:hover {\n",
              "      background-color: #E2EBFA;\n",
              "      box-shadow: 0px 1px 2px rgba(60, 64, 67, 0.3), 0px 1px 3px 1px rgba(60, 64, 67, 0.15);\n",
              "      fill: #174EA6;\n",
              "    }\n",
              "\n",
              "    [theme=dark] .colab-df-convert {\n",
              "      background-color: #3B4455;\n",
              "      fill: #D2E3FC;\n",
              "    }\n",
              "\n",
              "    [theme=dark] .colab-df-convert:hover {\n",
              "      background-color: #434B5C;\n",
              "      box-shadow: 0px 1px 3px 1px rgba(0, 0, 0, 0.15);\n",
              "      filter: drop-shadow(0px 1px 2px rgba(0, 0, 0, 0.3));\n",
              "      fill: #FFFFFF;\n",
              "    }\n",
              "  </style>\n",
              "\n",
              "      <script>\n",
              "        const buttonEl =\n",
              "          document.querySelector('#df-357e5d03-41bc-481d-a86f-2057b8b20dc3 button.colab-df-convert');\n",
              "        buttonEl.style.display =\n",
              "          google.colab.kernel.accessAllowed ? 'block' : 'none';\n",
              "\n",
              "        async function convertToInteractive(key) {\n",
              "          const element = document.querySelector('#df-357e5d03-41bc-481d-a86f-2057b8b20dc3');\n",
              "          const dataTable =\n",
              "            await google.colab.kernel.invokeFunction('convertToInteractive',\n",
              "                                                     [key], {});\n",
              "          if (!dataTable) return;\n",
              "\n",
              "          const docLinkHtml = 'Like what you see? Visit the ' +\n",
              "            '<a target=\"_blank\" href=https://colab.research.google.com/notebooks/data_table.ipynb>data table notebook</a>'\n",
              "            + ' to learn more about interactive tables.';\n",
              "          element.innerHTML = '';\n",
              "          dataTable['output_type'] = 'display_data';\n",
              "          await google.colab.output.renderOutput(dataTable, element);\n",
              "          const docLink = document.createElement('div');\n",
              "          docLink.innerHTML = docLinkHtml;\n",
              "          element.appendChild(docLink);\n",
              "        }\n",
              "      </script>\n",
              "    </div>\n",
              "  </div>\n",
              "  "
            ]
          },
          "metadata": {},
          "execution_count": 11
        }
      ],
      "source": [
        "# show the duplicates data\n",
        "df[df.duplicated()].head()"
      ]
    },
    {
      "cell_type": "code",
      "execution_count": 12,
      "metadata": {
        "colab": {
          "base_uri": "https://localhost:8080/",
          "height": 206
        },
        "id": "pEYbF4xbRLhP",
        "outputId": "1b127d94-bcb4-4f91-9dde-4b76b1ee4448"
      },
      "outputs": [
        {
          "output_type": "execute_result",
          "data": {
            "text/plain": [
              "     gender   age   income  family_members  insurance_benefits\n",
              "69        1  39.0  48100.0               1                   0\n",
              "281       1  39.0  48100.0               1                   0\n",
              "434       1  32.0  48100.0               2                   0\n",
              "717       1  27.0  48100.0               3                   0\n",
              "906       0  27.0  48100.0               0                   0"
            ],
            "text/html": [
              "\n",
              "  <div id=\"df-cb2a54ec-1674-43b7-a79b-7566416858c7\">\n",
              "    <div class=\"colab-df-container\">\n",
              "      <div>\n",
              "<style scoped>\n",
              "    .dataframe tbody tr th:only-of-type {\n",
              "        vertical-align: middle;\n",
              "    }\n",
              "\n",
              "    .dataframe tbody tr th {\n",
              "        vertical-align: top;\n",
              "    }\n",
              "\n",
              "    .dataframe thead th {\n",
              "        text-align: right;\n",
              "    }\n",
              "</style>\n",
              "<table border=\"1\" class=\"dataframe\">\n",
              "  <thead>\n",
              "    <tr style=\"text-align: right;\">\n",
              "      <th></th>\n",
              "      <th>gender</th>\n",
              "      <th>age</th>\n",
              "      <th>income</th>\n",
              "      <th>family_members</th>\n",
              "      <th>insurance_benefits</th>\n",
              "    </tr>\n",
              "  </thead>\n",
              "  <tbody>\n",
              "    <tr>\n",
              "      <th>69</th>\n",
              "      <td>1</td>\n",
              "      <td>39.0</td>\n",
              "      <td>48100.0</td>\n",
              "      <td>1</td>\n",
              "      <td>0</td>\n",
              "    </tr>\n",
              "    <tr>\n",
              "      <th>281</th>\n",
              "      <td>1</td>\n",
              "      <td>39.0</td>\n",
              "      <td>48100.0</td>\n",
              "      <td>1</td>\n",
              "      <td>0</td>\n",
              "    </tr>\n",
              "    <tr>\n",
              "      <th>434</th>\n",
              "      <td>1</td>\n",
              "      <td>32.0</td>\n",
              "      <td>48100.0</td>\n",
              "      <td>2</td>\n",
              "      <td>0</td>\n",
              "    </tr>\n",
              "    <tr>\n",
              "      <th>717</th>\n",
              "      <td>1</td>\n",
              "      <td>27.0</td>\n",
              "      <td>48100.0</td>\n",
              "      <td>3</td>\n",
              "      <td>0</td>\n",
              "    </tr>\n",
              "    <tr>\n",
              "      <th>906</th>\n",
              "      <td>0</td>\n",
              "      <td>27.0</td>\n",
              "      <td>48100.0</td>\n",
              "      <td>0</td>\n",
              "      <td>0</td>\n",
              "    </tr>\n",
              "  </tbody>\n",
              "</table>\n",
              "</div>\n",
              "      <button class=\"colab-df-convert\" onclick=\"convertToInteractive('df-cb2a54ec-1674-43b7-a79b-7566416858c7')\"\n",
              "              title=\"Convert this dataframe to an interactive table.\"\n",
              "              style=\"display:none;\">\n",
              "        \n",
              "  <svg xmlns=\"http://www.w3.org/2000/svg\" height=\"24px\"viewBox=\"0 0 24 24\"\n",
              "       width=\"24px\">\n",
              "    <path d=\"M0 0h24v24H0V0z\" fill=\"none\"/>\n",
              "    <path d=\"M18.56 5.44l.94 2.06.94-2.06 2.06-.94-2.06-.94-.94-2.06-.94 2.06-2.06.94zm-11 1L8.5 8.5l.94-2.06 2.06-.94-2.06-.94L8.5 2.5l-.94 2.06-2.06.94zm10 10l.94 2.06.94-2.06 2.06-.94-2.06-.94-.94-2.06-.94 2.06-2.06.94z\"/><path d=\"M17.41 7.96l-1.37-1.37c-.4-.4-.92-.59-1.43-.59-.52 0-1.04.2-1.43.59L10.3 9.45l-7.72 7.72c-.78.78-.78 2.05 0 2.83L4 21.41c.39.39.9.59 1.41.59.51 0 1.02-.2 1.41-.59l7.78-7.78 2.81-2.81c.8-.78.8-2.07 0-2.86zM5.41 20L4 18.59l7.72-7.72 1.47 1.35L5.41 20z\"/>\n",
              "  </svg>\n",
              "      </button>\n",
              "      \n",
              "  <style>\n",
              "    .colab-df-container {\n",
              "      display:flex;\n",
              "      flex-wrap:wrap;\n",
              "      gap: 12px;\n",
              "    }\n",
              "\n",
              "    .colab-df-convert {\n",
              "      background-color: #E8F0FE;\n",
              "      border: none;\n",
              "      border-radius: 50%;\n",
              "      cursor: pointer;\n",
              "      display: none;\n",
              "      fill: #1967D2;\n",
              "      height: 32px;\n",
              "      padding: 0 0 0 0;\n",
              "      width: 32px;\n",
              "    }\n",
              "\n",
              "    .colab-df-convert:hover {\n",
              "      background-color: #E2EBFA;\n",
              "      box-shadow: 0px 1px 2px rgba(60, 64, 67, 0.3), 0px 1px 3px 1px rgba(60, 64, 67, 0.15);\n",
              "      fill: #174EA6;\n",
              "    }\n",
              "\n",
              "    [theme=dark] .colab-df-convert {\n",
              "      background-color: #3B4455;\n",
              "      fill: #D2E3FC;\n",
              "    }\n",
              "\n",
              "    [theme=dark] .colab-df-convert:hover {\n",
              "      background-color: #434B5C;\n",
              "      box-shadow: 0px 1px 3px 1px rgba(0, 0, 0, 0.15);\n",
              "      filter: drop-shadow(0px 1px 2px rgba(0, 0, 0, 0.3));\n",
              "      fill: #FFFFFF;\n",
              "    }\n",
              "  </style>\n",
              "\n",
              "      <script>\n",
              "        const buttonEl =\n",
              "          document.querySelector('#df-cb2a54ec-1674-43b7-a79b-7566416858c7 button.colab-df-convert');\n",
              "        buttonEl.style.display =\n",
              "          google.colab.kernel.accessAllowed ? 'block' : 'none';\n",
              "\n",
              "        async function convertToInteractive(key) {\n",
              "          const element = document.querySelector('#df-cb2a54ec-1674-43b7-a79b-7566416858c7');\n",
              "          const dataTable =\n",
              "            await google.colab.kernel.invokeFunction('convertToInteractive',\n",
              "                                                     [key], {});\n",
              "          if (!dataTable) return;\n",
              "\n",
              "          const docLinkHtml = 'Like what you see? Visit the ' +\n",
              "            '<a target=\"_blank\" href=https://colab.research.google.com/notebooks/data_table.ipynb>data table notebook</a>'\n",
              "            + ' to learn more about interactive tables.';\n",
              "          element.innerHTML = '';\n",
              "          dataTable['output_type'] = 'display_data';\n",
              "          await google.colab.output.renderOutput(dataTable, element);\n",
              "          const docLink = document.createElement('div');\n",
              "          docLink.innerHTML = docLinkHtml;\n",
              "          element.appendChild(docLink);\n",
              "        }\n",
              "      </script>\n",
              "    </div>\n",
              "  </div>\n",
              "  "
            ]
          },
          "metadata": {},
          "execution_count": 12
        }
      ],
      "source": [
        "# show the sample od duplicates value\n",
        "df[df['income'] == 48100.0].head()"
      ]
    },
    {
      "cell_type": "markdown",
      "metadata": {
        "id": "mjey1u22RLhQ"
      },
      "source": [
        "- The row **69** has an identical value to the row **281**. \n",
        "- We will drop the duplicate data."
      ]
    },
    {
      "cell_type": "code",
      "execution_count": 13,
      "metadata": {
        "scrolled": true,
        "colab": {
          "base_uri": "https://localhost:8080/"
        },
        "id": "6h34XQ2ORLhR",
        "outputId": "536acf5c-292d-489f-fbb8-42042a446b25"
      },
      "outputs": [
        {
          "output_type": "execute_result",
          "data": {
            "text/plain": [
              "(4847, 5)"
            ]
          },
          "metadata": {},
          "execution_count": 13
        }
      ],
      "source": [
        "# drop the duplicates\n",
        "df = df.drop_duplicates().reset_index(drop=True)\n",
        "\n",
        "# calculating data dimensions\n",
        "df.shape"
      ]
    },
    {
      "cell_type": "markdown",
      "metadata": {
        "id": "rcznZHBFRLhS"
      },
      "source": [
        "- We have removed the duplicate data."
      ]
    },
    {
      "cell_type": "markdown",
      "metadata": {
        "id": "hLix6ZwhRLhS"
      },
      "source": [
        "### 2.2. EDA"
      ]
    },
    {
      "cell_type": "markdown",
      "metadata": {
        "id": "NUcEbu8hRLhT"
      },
      "source": [
        "Whether there is a specific client group by observing a pair of plots."
      ]
    },
    {
      "cell_type": "code",
      "execution_count": 14,
      "metadata": {
        "scrolled": false,
        "colab": {
          "base_uri": "https://localhost:8080/",
          "height": 868
        },
        "id": "DhGvQsRGRLhT",
        "outputId": "680dc022-3321-4628-faca-a0c08723c5ef"
      },
      "outputs": [
        {
          "output_type": "display_data",
          "data": {
            "text/plain": [
              "<Figure size 864x864 with 30 Axes>"
            ],
            "image/png": "[encoded data removed]"
          },
          "metadata": {}
        }
      ],
      "source": [
        "# display the distribution of dataset\n",
        "sns.set()\n",
        "\n",
        "g = sns.pairplot(df, kind='hist')\n",
        "g.fig.set_size_inches(12, 12)"
      ]
    },
    {
      "cell_type": "markdown",
      "metadata": {
        "id": "9HG0Z-YiRLhU"
      },
      "source": [
        "It may be challenging to detect clusters clearly because combining multiple variables (to analyze multivariate distributions) is difficult. However, that's what LA and ML are here."
      ]
    },
    {
      "cell_type": "code",
      "execution_count": 15,
      "metadata": {
        "colab": {
          "base_uri": "https://localhost:8080/",
          "height": 285
        },
        "id": "jUFyT6hBRLhU",
        "outputId": "40576170-3bf3-4a29-a668-4fb9dbf6d4f9"
      },
      "outputs": [
        {
          "output_type": "display_data",
          "data": {
            "text/plain": [
              "<Figure size 864x288 with 2 Axes>"
            ],
            "image/png": "[encoded data removed]"
          },
          "metadata": {}
        }
      ],
      "source": [
        "# showing income and age distribution\n",
        "\n",
        "fig, ax = plt.subplots(1, 2, figsize=(12, 4))\n",
        "sns.histplot(x=df['income'], hue=df['insurance_benefits'], ax=ax[0])\n",
        "sns.histplot(x=df['age'], hue=df['insurance_benefits'], ax=ax[1])\n",
        "plt.show()"
      ]
    },
    {
      "cell_type": "code",
      "execution_count": 16,
      "metadata": {
        "colab": {
          "base_uri": "https://localhost:8080/",
          "height": 288
        },
        "id": "hpsnDR20RLhV",
        "outputId": "d334f271-ee3b-4201-e256-3a909a3025b1"
      },
      "outputs": [
        {
          "output_type": "display_data",
          "data": {
            "text/plain": [
              "<Figure size 864x288 with 2 Axes>"
            ],
            "image/png": "[encoded data removed]"
          },
          "metadata": {}
        }
      ],
      "source": [
        "# displays the distribution of gender and family members\n",
        "fig, ax = plt.subplots(1, 2, figsize=(12, 4))\n",
        "sns.countplot(x=df['gender'], hue=df['insurance_benefits'], ax=ax[0])\n",
        "sns.countplot(x=df['family_members'], hue=df['insurance_benefits'], ax=ax[1])\n",
        "plt.show()"
      ]
    },
    {
      "cell_type": "markdown",
      "metadata": {
        "id": "0JI2HqclRLhW"
      },
      "source": [
        "**Findings:**\n",
        "- We can see that the income distribution of insurance users has a normal distribution with an average income of **40,000**.\n",
        "- There are no young clients who benefit from insurance. All clients who receive insurance are above the age of **40**."
      ]
    },
    {
      "cell_type": "markdown",
      "metadata": {
        "id": "ZRczraZ0RLhW"
      },
      "source": [
        "## 3. Purpose of Project"
      ]
    },
    {
      "cell_type": "markdown",
      "metadata": {
        "id": "h7qNw4JQRLhX"
      },
      "source": [
        "### 3.1. Objective 1. Similar Clients\n",
        "\n",
        "**(Customers with Similar Characteristics)**"
      ]
    },
    {
      "cell_type": "markdown",
      "metadata": {
        "id": "OimS4di4RLhX"
      },
      "source": [
        "In ML programming languages, it is essential to develop procedures to determine the k nearest *neighbors* (objects) to a given object based on the distance to the object.\n",
        "\n",
        "We can use the groundwork below to create a model\n",
        "- Distance Between Vectors -> Euclidean Distance\n",
        "- Distance Between Vectors -> Manhattan Distance\n",
        "\n",
        "To solve this, we will try some metrics."
      ]
    },
    {
      "cell_type": "markdown",
      "metadata": {
        "id": "nesBL7d6RLhX"
      },
      "source": [
        "Create a function that displays the k nearest *neighbors* for the $n^{th}$th object based on a given distance metric. The amount of insurance benefits received is not considered for this purpose, nor do we include the `insurance_benefits` field in the prediction.\n",
        "\n",
        "Using the kNN algorithm implementation available in scikit-learn (we can see from the source [link](https://scikit-learn.org/stable/modules/generated/sklearn.neighbors.NearestNeighbors.html#sklearn.neighbors.NearestNeighbors)) or determining the optimal *hyperparameters*.\n",
        "\n",
        "Test for four combinations of two cases\n",
        "- Scaling\n",
        "  - the data is not scaled\n",
        "  - scale the data with [MaxAbsScaler](https://scikit-learn.org/stable/modules/generated/sklearn.preprocessing.MaxAbsScaler.html) \n",
        "- Distance Metric\n",
        "  - Euclidean\n",
        "  - Manhattan\n",
        "\n",
        "Answer the following questions:\n",
        "- Does unscaled data affect the kNN algorithm? If it does, then what form does it take?\n",
        "- How similar are the results obtained from the Euclidean metric when using the Manhattan distance metric (regardless of scaling)?"
      ]
    },
    {
      "cell_type": "code",
      "execution_count": 17,
      "metadata": {
        "id": "kAtGkjcxRLhY"
      },
      "outputs": [],
      "source": [
        "# define the feature set\n",
        "feature_names = ['gender', 'age', 'income', 'family_members']"
      ]
    },
    {
      "cell_type": "code",
      "execution_count": 18,
      "metadata": {
        "id": "RMx-qed7RLhY"
      },
      "outputs": [],
      "source": [
        "def get_knn(df, n, k, metric):\n",
        "    \n",
        "    \"\"\"\n",
        "    Display the k nearest neighbors\n",
        "\n",
        "    :param df: pandas DataFrame used to find similar objects\n",
        "    :param n: number of objects to find nearest *neighbors* for\n",
        "    :param k: number of nearest *neighbors* displayed\n",
        "    :param metric: distance metric name\n",
        "    \"\"\"\n",
        "\n",
        "    nbrs = NearestNeighbors(n_neighbors=k, metric=metric).fit(df[feature_names]) # unsupervised model\n",
        "    nbrs_distances, nbrs_indices = nbrs.kneighbors([df.iloc[n][feature_names]], k, return_distance=True) # return the indices and distance\n",
        "    \n",
        "    df_res = pd.concat([\n",
        "        df.iloc[nbrs_indices[0]], \n",
        "        pd.DataFrame(nbrs_distances.T, index=nbrs_indices[0], columns=['distance'])\n",
        "        ], axis=1)\n",
        "    \n",
        "    return df_res"
      ]
    },
    {
      "cell_type": "markdown",
      "metadata": {
        "id": "AIQHfQLIRLhZ"
      },
      "source": [
        "#### 3.1.1. Data Scaling"
      ]
    },
    {
      "cell_type": "markdown",
      "metadata": {
        "id": "__mSlknuRLhZ"
      },
      "source": [
        "Set the scale of the data."
      ]
    },
    {
      "cell_type": "code",
      "execution_count": 19,
      "metadata": {
        "id": "ovd65J71RLhZ"
      },
      "outputs": [],
      "source": [
        "# data scalling\n",
        "\n",
        "transformer_mas = sklearn.preprocessing.MaxAbsScaler().fit(df[feature_names].to_numpy())\n",
        "\n",
        "df_scaled = df.copy()\n",
        "df_scaled.loc[:, feature_names] = transformer_mas.transform(df[feature_names].to_numpy())"
      ]
    },
    {
      "cell_type": "code",
      "execution_count": 20,
      "metadata": {
        "colab": {
          "base_uri": "https://localhost:8080/",
          "height": 206
        },
        "id": "riRQD4GSRLha",
        "outputId": "52080618-62ea-49fc-910d-4279feb5efbd"
      },
      "outputs": [
        {
          "output_type": "execute_result",
          "data": {
            "text/plain": [
              "   gender       age    income  family_members  insurance_benefits\n",
              "0     1.0  0.630769  0.627848        0.166667                   0\n",
              "1     0.0  0.707692  0.481013        0.166667                   1\n",
              "2     0.0  0.446154  0.265823        0.000000                   0\n",
              "3     0.0  0.323077  0.527848        0.333333                   0\n",
              "4     1.0  0.430769  0.330380        0.000000                   0"
            ],
            "text/html": [
              "\n",
              "  <div id=\"df-510d8c66-4725-4282-aac2-db26364fa2bf\">\n",
              "    <div class=\"colab-df-container\">\n",
              "      <div>\n",
              "<style scoped>\n",
              "    .dataframe tbody tr th:only-of-type {\n",
              "        vertical-align: middle;\n",
              "    }\n",
              "\n",
              "    .dataframe tbody tr th {\n",
              "        vertical-align: top;\n",
              "    }\n",
              "\n",
              "    .dataframe thead th {\n",
              "        text-align: right;\n",
              "    }\n",
              "</style>\n",
              "<table border=\"1\" class=\"dataframe\">\n",
              "  <thead>\n",
              "    <tr style=\"text-align: right;\">\n",
              "      <th></th>\n",
              "      <th>gender</th>\n",
              "      <th>age</th>\n",
              "      <th>income</th>\n",
              "      <th>family_members</th>\n",
              "      <th>insurance_benefits</th>\n",
              "    </tr>\n",
              "  </thead>\n",
              "  <tbody>\n",
              "    <tr>\n",
              "      <th>0</th>\n",
              "      <td>1.0</td>\n",
              "      <td>0.630769</td>\n",
              "      <td>0.627848</td>\n",
              "      <td>0.166667</td>\n",
              "      <td>0</td>\n",
              "    </tr>\n",
              "    <tr>\n",
              "      <th>1</th>\n",
              "      <td>0.0</td>\n",
              "      <td>0.707692</td>\n",
              "      <td>0.481013</td>\n",
              "      <td>0.166667</td>\n",
              "      <td>1</td>\n",
              "    </tr>\n",
              "    <tr>\n",
              "      <th>2</th>\n",
              "      <td>0.0</td>\n",
              "      <td>0.446154</td>\n",
              "      <td>0.265823</td>\n",
              "      <td>0.000000</td>\n",
              "      <td>0</td>\n",
              "    </tr>\n",
              "    <tr>\n",
              "      <th>3</th>\n",
              "      <td>0.0</td>\n",
              "      <td>0.323077</td>\n",
              "      <td>0.527848</td>\n",
              "      <td>0.333333</td>\n",
              "      <td>0</td>\n",
              "    </tr>\n",
              "    <tr>\n",
              "      <th>4</th>\n",
              "      <td>1.0</td>\n",
              "      <td>0.430769</td>\n",
              "      <td>0.330380</td>\n",
              "      <td>0.000000</td>\n",
              "      <td>0</td>\n",
              "    </tr>\n",
              "  </tbody>\n",
              "</table>\n",
              "</div>\n",
              "      <button class=\"colab-df-convert\" onclick=\"convertToInteractive('df-510d8c66-4725-4282-aac2-db26364fa2bf')\"\n",
              "              title=\"Convert this dataframe to an interactive table.\"\n",
              "              style=\"display:none;\">\n",
              "        \n",
              "  <svg xmlns=\"http://www.w3.org/2000/svg\" height=\"24px\"viewBox=\"0 0 24 24\"\n",
              "       width=\"24px\">\n",
              "    <path d=\"M0 0h24v24H0V0z\" fill=\"none\"/>\n",
              "    <path d=\"M18.56 5.44l.94 2.06.94-2.06 2.06-.94-2.06-.94-.94-2.06-.94 2.06-2.06.94zm-11 1L8.5 8.5l.94-2.06 2.06-.94-2.06-.94L8.5 2.5l-.94 2.06-2.06.94zm10 10l.94 2.06.94-2.06 2.06-.94-2.06-.94-.94-2.06-.94 2.06-2.06.94z\"/><path d=\"M17.41 7.96l-1.37-1.37c-.4-.4-.92-.59-1.43-.59-.52 0-1.04.2-1.43.59L10.3 9.45l-7.72 7.72c-.78.78-.78 2.05 0 2.83L4 21.41c.39.39.9.59 1.41.59.51 0 1.02-.2 1.41-.59l7.78-7.78 2.81-2.81c.8-.78.8-2.07 0-2.86zM5.41 20L4 18.59l7.72-7.72 1.47 1.35L5.41 20z\"/>\n",
              "  </svg>\n",
              "      </button>\n",
              "      \n",
              "  <style>\n",
              "    .colab-df-container {\n",
              "      display:flex;\n",
              "      flex-wrap:wrap;\n",
              "      gap: 12px;\n",
              "    }\n",
              "\n",
              "    .colab-df-convert {\n",
              "      background-color: #E8F0FE;\n",
              "      border: none;\n",
              "      border-radius: 50%;\n",
              "      cursor: pointer;\n",
              "      display: none;\n",
              "      fill: #1967D2;\n",
              "      height: 32px;\n",
              "      padding: 0 0 0 0;\n",
              "      width: 32px;\n",
              "    }\n",
              "\n",
              "    .colab-df-convert:hover {\n",
              "      background-color: #E2EBFA;\n",
              "      box-shadow: 0px 1px 2px rgba(60, 64, 67, 0.3), 0px 1px 3px 1px rgba(60, 64, 67, 0.15);\n",
              "      fill: #174EA6;\n",
              "    }\n",
              "\n",
              "    [theme=dark] .colab-df-convert {\n",
              "      background-color: #3B4455;\n",
              "      fill: #D2E3FC;\n",
              "    }\n",
              "\n",
              "    [theme=dark] .colab-df-convert:hover {\n",
              "      background-color: #434B5C;\n",
              "      box-shadow: 0px 1px 3px 1px rgba(0, 0, 0, 0.15);\n",
              "      filter: drop-shadow(0px 1px 2px rgba(0, 0, 0, 0.3));\n",
              "      fill: #FFFFFF;\n",
              "    }\n",
              "  </style>\n",
              "\n",
              "      <script>\n",
              "        const buttonEl =\n",
              "          document.querySelector('#df-510d8c66-4725-4282-aac2-db26364fa2bf button.colab-df-convert');\n",
              "        buttonEl.style.display =\n",
              "          google.colab.kernel.accessAllowed ? 'block' : 'none';\n",
              "\n",
              "        async function convertToInteractive(key) {\n",
              "          const element = document.querySelector('#df-510d8c66-4725-4282-aac2-db26364fa2bf');\n",
              "          const dataTable =\n",
              "            await google.colab.kernel.invokeFunction('convertToInteractive',\n",
              "                                                     [key], {});\n",
              "          if (!dataTable) return;\n",
              "\n",
              "          const docLinkHtml = 'Like what you see? Visit the ' +\n",
              "            '<a target=\"_blank\" href=https://colab.research.google.com/notebooks/data_table.ipynb>data table notebook</a>'\n",
              "            + ' to learn more about interactive tables.';\n",
              "          element.innerHTML = '';\n",
              "          dataTable['output_type'] = 'display_data';\n",
              "          await google.colab.output.renderOutput(dataTable, element);\n",
              "          const docLink = document.createElement('div');\n",
              "          docLink.innerHTML = docLinkHtml;\n",
              "          element.appendChild(docLink);\n",
              "        }\n",
              "      </script>\n",
              "    </div>\n",
              "  </div>\n",
              "  "
            ]
          },
          "metadata": {},
          "execution_count": 20
        }
      ],
      "source": [
        "# show the sample of data scaled\n",
        "df_scaled.head()"
      ]
    },
    {
      "cell_type": "markdown",
      "metadata": {
        "id": "khV5CDHbRLha"
      },
      "source": [
        "Get similar notes for each combination"
      ]
    },
    {
      "cell_type": "markdown",
      "metadata": {
        "id": "yeMywOyERLha"
      },
      "source": [
        "#### 3.1.2. Model without Scale"
      ]
    },
    {
      "cell_type": "code",
      "execution_count": 21,
      "metadata": {
        "colab": {
          "base_uri": "https://localhost:8080/",
          "height": 467
        },
        "id": "wAJx6bMbRLhb",
        "outputId": "b6fb7e5c-6fe9-4f64-9d84-912459cd7e79"
      },
      "outputs": [
        {
          "output_type": "display_data",
          "data": {
            "text/plain": [
              "'metric = euclidean'"
            ],
            "application/vnd.google.colaboratory.intrinsic+json": {
              "type": "string"
            }
          },
          "metadata": {}
        },
        {
          "output_type": "display_data",
          "data": {
            "text/plain": [
              "      gender   age   income  family_members  insurance_benefits  distance\n",
              "5          1  43.0  41000.0               2                   1  0.000000\n",
              "1965       0  45.0  41000.0               0                   1  3.000000\n",
              "3860       1  40.0  41000.0               1                   0  3.162278\n",
              "4617       1  46.0  41000.0               1                   1  3.162278\n",
              "3695       0  46.0  41000.0               2                   1  3.162278"
            ],
            "text/html": [
              "\n",
              "  <div id=\"df-7f197ae7-0f11-41a7-8e79-6e3a9ce6d594\">\n",
              "    <div class=\"colab-df-container\">\n",
              "      <div>\n",
              "<style scoped>\n",
              "    .dataframe tbody tr th:only-of-type {\n",
              "        vertical-align: middle;\n",
              "    }\n",
              "\n",
              "    .dataframe tbody tr th {\n",
              "        vertical-align: top;\n",
              "    }\n",
              "\n",
              "    .dataframe thead th {\n",
              "        text-align: right;\n",
              "    }\n",
              "</style>\n",
              "<table border=\"1\" class=\"dataframe\">\n",
              "  <thead>\n",
              "    <tr style=\"text-align: right;\">\n",
              "      <th></th>\n",
              "      <th>gender</th>\n",
              "      <th>age</th>\n",
              "      <th>income</th>\n",
              "      <th>family_members</th>\n",
              "      <th>insurance_benefits</th>\n",
              "      <th>distance</th>\n",
              "    </tr>\n",
              "  </thead>\n",
              "  <tbody>\n",
              "    <tr>\n",
              "      <th>5</th>\n",
              "      <td>1</td>\n",
              "      <td>43.0</td>\n",
              "      <td>41000.0</td>\n",
              "      <td>2</td>\n",
              "      <td>1</td>\n",
              "      <td>0.000000</td>\n",
              "    </tr>\n",
              "    <tr>\n",
              "      <th>1965</th>\n",
              "      <td>0</td>\n",
              "      <td>45.0</td>\n",
              "      <td>41000.0</td>\n",
              "      <td>0</td>\n",
              "      <td>1</td>\n",
              "      <td>3.000000</td>\n",
              "    </tr>\n",
              "    <tr>\n",
              "      <th>3860</th>\n",
              "      <td>1</td>\n",
              "      <td>40.0</td>\n",
              "      <td>41000.0</td>\n",
              "      <td>1</td>\n",
              "      <td>0</td>\n",
              "      <td>3.162278</td>\n",
              "    </tr>\n",
              "    <tr>\n",
              "      <th>4617</th>\n",
              "      <td>1</td>\n",
              "      <td>46.0</td>\n",
              "      <td>41000.0</td>\n",
              "      <td>1</td>\n",
              "      <td>1</td>\n",
              "      <td>3.162278</td>\n",
              "    </tr>\n",
              "    <tr>\n",
              "      <th>3695</th>\n",
              "      <td>0</td>\n",
              "      <td>46.0</td>\n",
              "      <td>41000.0</td>\n",
              "      <td>2</td>\n",
              "      <td>1</td>\n",
              "      <td>3.162278</td>\n",
              "    </tr>\n",
              "  </tbody>\n",
              "</table>\n",
              "</div>\n",
              "      <button class=\"colab-df-convert\" onclick=\"convertToInteractive('df-7f197ae7-0f11-41a7-8e79-6e3a9ce6d594')\"\n",
              "              title=\"Convert this dataframe to an interactive table.\"\n",
              "              style=\"display:none;\">\n",
              "        \n",
              "  <svg xmlns=\"http://www.w3.org/2000/svg\" height=\"24px\"viewBox=\"0 0 24 24\"\n",
              "       width=\"24px\">\n",
              "    <path d=\"M0 0h24v24H0V0z\" fill=\"none\"/>\n",
              "    <path d=\"M18.56 5.44l.94 2.06.94-2.06 2.06-.94-2.06-.94-.94-2.06-.94 2.06-2.06.94zm-11 1L8.5 8.5l.94-2.06 2.06-.94-2.06-.94L8.5 2.5l-.94 2.06-2.06.94zm10 10l.94 2.06.94-2.06 2.06-.94-2.06-.94-.94-2.06-.94 2.06-2.06.94z\"/><path d=\"M17.41 7.96l-1.37-1.37c-.4-.4-.92-.59-1.43-.59-.52 0-1.04.2-1.43.59L10.3 9.45l-7.72 7.72c-.78.78-.78 2.05 0 2.83L4 21.41c.39.39.9.59 1.41.59.51 0 1.02-.2 1.41-.59l7.78-7.78 2.81-2.81c.8-.78.8-2.07 0-2.86zM5.41 20L4 18.59l7.72-7.72 1.47 1.35L5.41 20z\"/>\n",
              "  </svg>\n",
              "      </button>\n",
              "      \n",
              "  <style>\n",
              "    .colab-df-container {\n",
              "      display:flex;\n",
              "      flex-wrap:wrap;\n",
              "      gap: 12px;\n",
              "    }\n",
              "\n",
              "    .colab-df-convert {\n",
              "      background-color: #E8F0FE;\n",
              "      border: none;\n",
              "      border-radius: 50%;\n",
              "      cursor: pointer;\n",
              "      display: none;\n",
              "      fill: #1967D2;\n",
              "      height: 32px;\n",
              "      padding: 0 0 0 0;\n",
              "      width: 32px;\n",
              "    }\n",
              "\n",
              "    .colab-df-convert:hover {\n",
              "      background-color: #E2EBFA;\n",
              "      box-shadow: 0px 1px 2px rgba(60, 64, 67, 0.3), 0px 1px 3px 1px rgba(60, 64, 67, 0.15);\n",
              "      fill: #174EA6;\n",
              "    }\n",
              "\n",
              "    [theme=dark] .colab-df-convert {\n",
              "      background-color: #3B4455;\n",
              "      fill: #D2E3FC;\n",
              "    }\n",
              "\n",
              "    [theme=dark] .colab-df-convert:hover {\n",
              "      background-color: #434B5C;\n",
              "      box-shadow: 0px 1px 3px 1px rgba(0, 0, 0, 0.15);\n",
              "      filter: drop-shadow(0px 1px 2px rgba(0, 0, 0, 0.3));\n",
              "      fill: #FFFFFF;\n",
              "    }\n",
              "  </style>\n",
              "\n",
              "      <script>\n",
              "        const buttonEl =\n",
              "          document.querySelector('#df-7f197ae7-0f11-41a7-8e79-6e3a9ce6d594 button.colab-df-convert');\n",
              "        buttonEl.style.display =\n",
              "          google.colab.kernel.accessAllowed ? 'block' : 'none';\n",
              "\n",
              "        async function convertToInteractive(key) {\n",
              "          const element = document.querySelector('#df-7f197ae7-0f11-41a7-8e79-6e3a9ce6d594');\n",
              "          const dataTable =\n",
              "            await google.colab.kernel.invokeFunction('convertToInteractive',\n",
              "                                                     [key], {});\n",
              "          if (!dataTable) return;\n",
              "\n",
              "          const docLinkHtml = 'Like what you see? Visit the ' +\n",
              "            '<a target=\"_blank\" href=https://colab.research.google.com/notebooks/data_table.ipynb>data table notebook</a>'\n",
              "            + ' to learn more about interactive tables.';\n",
              "          element.innerHTML = '';\n",
              "          dataTable['output_type'] = 'display_data';\n",
              "          await google.colab.output.renderOutput(dataTable, element);\n",
              "          const docLink = document.createElement('div');\n",
              "          docLink.innerHTML = docLinkHtml;\n",
              "          element.appendChild(docLink);\n",
              "        }\n",
              "      </script>\n",
              "    </div>\n",
              "  </div>\n",
              "  "
            ]
          },
          "metadata": {}
        },
        {
          "output_type": "stream",
          "name": "stdout",
          "text": [
            "\n"
          ]
        },
        {
          "output_type": "display_data",
          "data": {
            "text/plain": [
              "'metric = manhattan'"
            ],
            "application/vnd.google.colaboratory.intrinsic+json": {
              "type": "string"
            }
          },
          "metadata": {}
        },
        {
          "output_type": "display_data",
          "data": {
            "text/plain": [
              "      gender   age   income  family_members  insurance_benefits  distance\n",
              "5          1  43.0  41000.0               2                   1       0.0\n",
              "3860       1  40.0  41000.0               1                   0       4.0\n",
              "3695       0  46.0  41000.0               2                   1       4.0\n",
              "4617       1  46.0  41000.0               1                   1       4.0\n",
              "1965       0  45.0  41000.0               0                   1       5.0"
            ],
            "text/html": [
              "\n",
              "  <div id=\"df-df09ba11-acd1-48d2-bc83-90a44d0f1892\">\n",
              "    <div class=\"colab-df-container\">\n",
              "      <div>\n",
              "<style scoped>\n",
              "    .dataframe tbody tr th:only-of-type {\n",
              "        vertical-align: middle;\n",
              "    }\n",
              "\n",
              "    .dataframe tbody tr th {\n",
              "        vertical-align: top;\n",
              "    }\n",
              "\n",
              "    .dataframe thead th {\n",
              "        text-align: right;\n",
              "    }\n",
              "</style>\n",
              "<table border=\"1\" class=\"dataframe\">\n",
              "  <thead>\n",
              "    <tr style=\"text-align: right;\">\n",
              "      <th></th>\n",
              "      <th>gender</th>\n",
              "      <th>age</th>\n",
              "      <th>income</th>\n",
              "      <th>family_members</th>\n",
              "      <th>insurance_benefits</th>\n",
              "      <th>distance</th>\n",
              "    </tr>\n",
              "  </thead>\n",
              "  <tbody>\n",
              "    <tr>\n",
              "      <th>5</th>\n",
              "      <td>1</td>\n",
              "      <td>43.0</td>\n",
              "      <td>41000.0</td>\n",
              "      <td>2</td>\n",
              "      <td>1</td>\n",
              "      <td>0.0</td>\n",
              "    </tr>\n",
              "    <tr>\n",
              "      <th>3860</th>\n",
              "      <td>1</td>\n",
              "      <td>40.0</td>\n",
              "      <td>41000.0</td>\n",
              "      <td>1</td>\n",
              "      <td>0</td>\n",
              "      <td>4.0</td>\n",
              "    </tr>\n",
              "    <tr>\n",
              "      <th>3695</th>\n",
              "      <td>0</td>\n",
              "      <td>46.0</td>\n",
              "      <td>41000.0</td>\n",
              "      <td>2</td>\n",
              "      <td>1</td>\n",
              "      <td>4.0</td>\n",
              "    </tr>\n",
              "    <tr>\n",
              "      <th>4617</th>\n",
              "      <td>1</td>\n",
              "      <td>46.0</td>\n",
              "      <td>41000.0</td>\n",
              "      <td>1</td>\n",
              "      <td>1</td>\n",
              "      <td>4.0</td>\n",
              "    </tr>\n",
              "    <tr>\n",
              "      <th>1965</th>\n",
              "      <td>0</td>\n",
              "      <td>45.0</td>\n",
              "      <td>41000.0</td>\n",
              "      <td>0</td>\n",
              "      <td>1</td>\n",
              "      <td>5.0</td>\n",
              "    </tr>\n",
              "  </tbody>\n",
              "</table>\n",
              "</div>\n",
              "      <button class=\"colab-df-convert\" onclick=\"convertToInteractive('df-df09ba11-acd1-48d2-bc83-90a44d0f1892')\"\n",
              "              title=\"Convert this dataframe to an interactive table.\"\n",
              "              style=\"display:none;\">\n",
              "        \n",
              "  <svg xmlns=\"http://www.w3.org/2000/svg\" height=\"24px\"viewBox=\"0 0 24 24\"\n",
              "       width=\"24px\">\n",
              "    <path d=\"M0 0h24v24H0V0z\" fill=\"none\"/>\n",
              "    <path d=\"M18.56 5.44l.94 2.06.94-2.06 2.06-.94-2.06-.94-.94-2.06-.94 2.06-2.06.94zm-11 1L8.5 8.5l.94-2.06 2.06-.94-2.06-.94L8.5 2.5l-.94 2.06-2.06.94zm10 10l.94 2.06.94-2.06 2.06-.94-2.06-.94-.94-2.06-.94 2.06-2.06.94z\"/><path d=\"M17.41 7.96l-1.37-1.37c-.4-.4-.92-.59-1.43-.59-.52 0-1.04.2-1.43.59L10.3 9.45l-7.72 7.72c-.78.78-.78 2.05 0 2.83L4 21.41c.39.39.9.59 1.41.59.51 0 1.02-.2 1.41-.59l7.78-7.78 2.81-2.81c.8-.78.8-2.07 0-2.86zM5.41 20L4 18.59l7.72-7.72 1.47 1.35L5.41 20z\"/>\n",
              "  </svg>\n",
              "      </button>\n",
              "      \n",
              "  <style>\n",
              "    .colab-df-container {\n",
              "      display:flex;\n",
              "      flex-wrap:wrap;\n",
              "      gap: 12px;\n",
              "    }\n",
              "\n",
              "    .colab-df-convert {\n",
              "      background-color: #E8F0FE;\n",
              "      border: none;\n",
              "      border-radius: 50%;\n",
              "      cursor: pointer;\n",
              "      display: none;\n",
              "      fill: #1967D2;\n",
              "      height: 32px;\n",
              "      padding: 0 0 0 0;\n",
              "      width: 32px;\n",
              "    }\n",
              "\n",
              "    .colab-df-convert:hover {\n",
              "      background-color: #E2EBFA;\n",
              "      box-shadow: 0px 1px 2px rgba(60, 64, 67, 0.3), 0px 1px 3px 1px rgba(60, 64, 67, 0.15);\n",
              "      fill: #174EA6;\n",
              "    }\n",
              "\n",
              "    [theme=dark] .colab-df-convert {\n",
              "      background-color: #3B4455;\n",
              "      fill: #D2E3FC;\n",
              "    }\n",
              "\n",
              "    [theme=dark] .colab-df-convert:hover {\n",
              "      background-color: #434B5C;\n",
              "      box-shadow: 0px 1px 3px 1px rgba(0, 0, 0, 0.15);\n",
              "      filter: drop-shadow(0px 1px 2px rgba(0, 0, 0, 0.3));\n",
              "      fill: #FFFFFF;\n",
              "    }\n",
              "  </style>\n",
              "\n",
              "      <script>\n",
              "        const buttonEl =\n",
              "          document.querySelector('#df-df09ba11-acd1-48d2-bc83-90a44d0f1892 button.colab-df-convert');\n",
              "        buttonEl.style.display =\n",
              "          google.colab.kernel.accessAllowed ? 'block' : 'none';\n",
              "\n",
              "        async function convertToInteractive(key) {\n",
              "          const element = document.querySelector('#df-df09ba11-acd1-48d2-bc83-90a44d0f1892');\n",
              "          const dataTable =\n",
              "            await google.colab.kernel.invokeFunction('convertToInteractive',\n",
              "                                                     [key], {});\n",
              "          if (!dataTable) return;\n",
              "\n",
              "          const docLinkHtml = 'Like what you see? Visit the ' +\n",
              "            '<a target=\"_blank\" href=https://colab.research.google.com/notebooks/data_table.ipynb>data table notebook</a>'\n",
              "            + ' to learn more about interactive tables.';\n",
              "          element.innerHTML = '';\n",
              "          dataTable['output_type'] = 'display_data';\n",
              "          await google.colab.output.renderOutput(dataTable, element);\n",
              "          const docLink = document.createElement('div');\n",
              "          docLink.innerHTML = docLinkHtml;\n",
              "          element.appendChild(docLink);\n",
              "        }\n",
              "      </script>\n",
              "    </div>\n",
              "  </div>\n",
              "  "
            ]
          },
          "metadata": {}
        },
        {
          "output_type": "stream",
          "name": "stdout",
          "text": [
            "\n"
          ]
        }
      ],
      "source": [
        "# show the model results from the data without scaling\n",
        "for i in ['euclidean', 'manhattan']:\n",
        "    df_knn_act = get_knn(df, 5, 5, i)\n",
        "    display(f'metric = {i}', df_knn_act)\n",
        "    print()"
      ]
    },
    {
      "cell_type": "markdown",
      "metadata": {
        "id": "7ROsTAAaRLhb"
      },
      "source": [
        "#### 3.1.3. Models with Scale"
      ]
    },
    {
      "cell_type": "code",
      "execution_count": 22,
      "metadata": {
        "colab": {
          "base_uri": "https://localhost:8080/",
          "height": 593
        },
        "id": "Dy6G5fizRLhc",
        "outputId": "9a3124ca-471c-4c8a-f43d-27753cc3f566"
      },
      "outputs": [
        {
          "output_type": "display_data",
          "data": {
            "text/plain": [
              "'metric = euclidean'"
            ],
            "application/vnd.google.colaboratory.intrinsic+json": {
              "type": "string"
            }
          },
          "metadata": {}
        },
        {
          "output_type": "display_data",
          "data": {
            "text/plain": [
              "     actual                                                  scaled            \\\n",
              "     gender   age   income family_members insurance_benefits gender       age   \n",
              "5         1  43.0  41000.0              2                  1    1.0  0.661538   \n",
              "1136      1  42.0  40800.0              2                  0    1.0  0.646154   \n",
              "3955      1  43.0  39600.0              2                  1    1.0  0.661538   \n",
              "1011      1  42.0  39600.0              2                  0    1.0  0.646154   \n",
              "2897      1  41.0  41100.0              2                  0    1.0  0.630769   \n",
              "\n",
              "                                                            \n",
              "        income family_members insurance_benefits  distance  \n",
              "5     0.518987       0.333333                  1  0.000000  \n",
              "1136  0.516456       0.333333                  0  0.015592  \n",
              "3955  0.501266       0.333333                  1  0.017722  \n",
              "1011  0.501266       0.333333                  0  0.023468  \n",
              "2897  0.520253       0.333333                  0  0.030795  "
            ],
            "text/html": [
              "\n",
              "  <div id=\"df-0908b94c-55fb-4692-99f8-c3214c2954fa\">\n",
              "    <div class=\"colab-df-container\">\n",
              "      <div>\n",
              "<style scoped>\n",
              "    .dataframe tbody tr th:only-of-type {\n",
              "        vertical-align: middle;\n",
              "    }\n",
              "\n",
              "    .dataframe tbody tr th {\n",
              "        vertical-align: top;\n",
              "    }\n",
              "\n",
              "    .dataframe thead tr th {\n",
              "        text-align: left;\n",
              "    }\n",
              "</style>\n",
              "<table border=\"1\" class=\"dataframe\">\n",
              "  <thead>\n",
              "    <tr>\n",
              "      <th></th>\n",
              "      <th colspan=\"5\" halign=\"left\">actual</th>\n",
              "      <th colspan=\"6\" halign=\"left\">scaled</th>\n",
              "    </tr>\n",
              "    <tr>\n",
              "      <th></th>\n",
              "      <th>gender</th>\n",
              "      <th>age</th>\n",
              "      <th>income</th>\n",
              "      <th>family_members</th>\n",
              "      <th>insurance_benefits</th>\n",
              "      <th>gender</th>\n",
              "      <th>age</th>\n",
              "      <th>income</th>\n",
              "      <th>family_members</th>\n",
              "      <th>insurance_benefits</th>\n",
              "      <th>distance</th>\n",
              "    </tr>\n",
              "  </thead>\n",
              "  <tbody>\n",
              "    <tr>\n",
              "      <th>5</th>\n",
              "      <td>1</td>\n",
              "      <td>43.0</td>\n",
              "      <td>41000.0</td>\n",
              "      <td>2</td>\n",
              "      <td>1</td>\n",
              "      <td>1.0</td>\n",
              "      <td>0.661538</td>\n",
              "      <td>0.518987</td>\n",
              "      <td>0.333333</td>\n",
              "      <td>1</td>\n",
              "      <td>0.000000</td>\n",
              "    </tr>\n",
              "    <tr>\n",
              "      <th>1136</th>\n",
              "      <td>1</td>\n",
              "      <td>42.0</td>\n",
              "      <td>40800.0</td>\n",
              "      <td>2</td>\n",
              "      <td>0</td>\n",
              "      <td>1.0</td>\n",
              "      <td>0.646154</td>\n",
              "      <td>0.516456</td>\n",
              "      <td>0.333333</td>\n",
              "      <td>0</td>\n",
              "      <td>0.015592</td>\n",
              "    </tr>\n",
              "    <tr>\n",
              "      <th>3955</th>\n",
              "      <td>1</td>\n",
              "      <td>43.0</td>\n",
              "      <td>39600.0</td>\n",
              "      <td>2</td>\n",
              "      <td>1</td>\n",
              "      <td>1.0</td>\n",
              "      <td>0.661538</td>\n",
              "      <td>0.501266</td>\n",
              "      <td>0.333333</td>\n",
              "      <td>1</td>\n",
              "      <td>0.017722</td>\n",
              "    </tr>\n",
              "    <tr>\n",
              "      <th>1011</th>\n",
              "      <td>1</td>\n",
              "      <td>42.0</td>\n",
              "      <td>39600.0</td>\n",
              "      <td>2</td>\n",
              "      <td>0</td>\n",
              "      <td>1.0</td>\n",
              "      <td>0.646154</td>\n",
              "      <td>0.501266</td>\n",
              "      <td>0.333333</td>\n",
              "      <td>0</td>\n",
              "      <td>0.023468</td>\n",
              "    </tr>\n",
              "    <tr>\n",
              "      <th>2897</th>\n",
              "      <td>1</td>\n",
              "      <td>41.0</td>\n",
              "      <td>41100.0</td>\n",
              "      <td>2</td>\n",
              "      <td>0</td>\n",
              "      <td>1.0</td>\n",
              "      <td>0.630769</td>\n",
              "      <td>0.520253</td>\n",
              "      <td>0.333333</td>\n",
              "      <td>0</td>\n",
              "      <td>0.030795</td>\n",
              "    </tr>\n",
              "  </tbody>\n",
              "</table>\n",
              "</div>\n",
              "      <button class=\"colab-df-convert\" onclick=\"convertToInteractive('df-0908b94c-55fb-4692-99f8-c3214c2954fa')\"\n",
              "              title=\"Convert this dataframe to an interactive table.\"\n",
              "              style=\"display:none;\">\n",
              "        \n",
              "  <svg xmlns=\"http://www.w3.org/2000/svg\" height=\"24px\"viewBox=\"0 0 24 24\"\n",
              "       width=\"24px\">\n",
              "    <path d=\"M0 0h24v24H0V0z\" fill=\"none\"/>\n",
              "    <path d=\"M18.56 5.44l.94 2.06.94-2.06 2.06-.94-2.06-.94-.94-2.06-.94 2.06-2.06.94zm-11 1L8.5 8.5l.94-2.06 2.06-.94-2.06-.94L8.5 2.5l-.94 2.06-2.06.94zm10 10l.94 2.06.94-2.06 2.06-.94-2.06-.94-.94-2.06-.94 2.06-2.06.94z\"/><path d=\"M17.41 7.96l-1.37-1.37c-.4-.4-.92-.59-1.43-.59-.52 0-1.04.2-1.43.59L10.3 9.45l-7.72 7.72c-.78.78-.78 2.05 0 2.83L4 21.41c.39.39.9.59 1.41.59.51 0 1.02-.2 1.41-.59l7.78-7.78 2.81-2.81c.8-.78.8-2.07 0-2.86zM5.41 20L4 18.59l7.72-7.72 1.47 1.35L5.41 20z\"/>\n",
              "  </svg>\n",
              "      </button>\n",
              "      \n",
              "  <style>\n",
              "    .colab-df-container {\n",
              "      display:flex;\n",
              "      flex-wrap:wrap;\n",
              "      gap: 12px;\n",
              "    }\n",
              "\n",
              "    .colab-df-convert {\n",
              "      background-color: #E8F0FE;\n",
              "      border: none;\n",
              "      border-radius: 50%;\n",
              "      cursor: pointer;\n",
              "      display: none;\n",
              "      fill: #1967D2;\n",
              "      height: 32px;\n",
              "      padding: 0 0 0 0;\n",
              "      width: 32px;\n",
              "    }\n",
              "\n",
              "    .colab-df-convert:hover {\n",
              "      background-color: #E2EBFA;\n",
              "      box-shadow: 0px 1px 2px rgba(60, 64, 67, 0.3), 0px 1px 3px 1px rgba(60, 64, 67, 0.15);\n",
              "      fill: #174EA6;\n",
              "    }\n",
              "\n",
              "    [theme=dark] .colab-df-convert {\n",
              "      background-color: #3B4455;\n",
              "      fill: #D2E3FC;\n",
              "    }\n",
              "\n",
              "    [theme=dark] .colab-df-convert:hover {\n",
              "      background-color: #434B5C;\n",
              "      box-shadow: 0px 1px 3px 1px rgba(0, 0, 0, 0.15);\n",
              "      filter: drop-shadow(0px 1px 2px rgba(0, 0, 0, 0.3));\n",
              "      fill: #FFFFFF;\n",
              "    }\n",
              "  </style>\n",
              "\n",
              "      <script>\n",
              "        const buttonEl =\n",
              "          document.querySelector('#df-0908b94c-55fb-4692-99f8-c3214c2954fa button.colab-df-convert');\n",
              "        buttonEl.style.display =\n",
              "          google.colab.kernel.accessAllowed ? 'block' : 'none';\n",
              "\n",
              "        async function convertToInteractive(key) {\n",
              "          const element = document.querySelector('#df-0908b94c-55fb-4692-99f8-c3214c2954fa');\n",
              "          const dataTable =\n",
              "            await google.colab.kernel.invokeFunction('convertToInteractive',\n",
              "                                                     [key], {});\n",
              "          if (!dataTable) return;\n",
              "\n",
              "          const docLinkHtml = 'Like what you see? Visit the ' +\n",
              "            '<a target=\"_blank\" href=https://colab.research.google.com/notebooks/data_table.ipynb>data table notebook</a>'\n",
              "            + ' to learn more about interactive tables.';\n",
              "          element.innerHTML = '';\n",
              "          dataTable['output_type'] = 'display_data';\n",
              "          await google.colab.output.renderOutput(dataTable, element);\n",
              "          const docLink = document.createElement('div');\n",
              "          docLink.innerHTML = docLinkHtml;\n",
              "          element.appendChild(docLink);\n",
              "        }\n",
              "      </script>\n",
              "    </div>\n",
              "  </div>\n",
              "  "
            ]
          },
          "metadata": {}
        },
        {
          "output_type": "stream",
          "name": "stdout",
          "text": [
            "\n"
          ]
        },
        {
          "output_type": "display_data",
          "data": {
            "text/plain": [
              "'metric = manhattan'"
            ],
            "application/vnd.google.colaboratory.intrinsic+json": {
              "type": "string"
            }
          },
          "metadata": {}
        },
        {
          "output_type": "display_data",
          "data": {
            "text/plain": [
              "     actual                                                  scaled            \\\n",
              "     gender   age   income family_members insurance_benefits gender       age   \n",
              "5         1  43.0  41000.0              2                  1    1.0  0.661538   \n",
              "3955      1  43.0  39600.0              2                  1    1.0  0.661538   \n",
              "1136      1  42.0  40800.0              2                  0    1.0  0.646154   \n",
              "2897      1  41.0  41100.0              2                  0    1.0  0.630769   \n",
              "1011      1  42.0  39600.0              2                  0    1.0  0.646154   \n",
              "\n",
              "                                                            \n",
              "        income family_members insurance_benefits  distance  \n",
              "5     0.518987       0.333333                  1  0.000000  \n",
              "3955  0.501266       0.333333                  1  0.017722  \n",
              "1136  0.516456       0.333333                  0  0.017916  \n",
              "2897  0.520253       0.333333                  0  0.032035  \n",
              "1011  0.501266       0.333333                  0  0.033106  "
            ],
            "text/html": [
              "\n",
              "  <div id=\"df-77757e07-85c0-43a8-80a9-e8a570b26b56\">\n",
              "    <div class=\"colab-df-container\">\n",
              "      <div>\n",
              "<style scoped>\n",
              "    .dataframe tbody tr th:only-of-type {\n",
              "        vertical-align: middle;\n",
              "    }\n",
              "\n",
              "    .dataframe tbody tr th {\n",
              "        vertical-align: top;\n",
              "    }\n",
              "\n",
              "    .dataframe thead tr th {\n",
              "        text-align: left;\n",
              "    }\n",
              "</style>\n",
              "<table border=\"1\" class=\"dataframe\">\n",
              "  <thead>\n",
              "    <tr>\n",
              "      <th></th>\n",
              "      <th colspan=\"5\" halign=\"left\">actual</th>\n",
              "      <th colspan=\"6\" halign=\"left\">scaled</th>\n",
              "    </tr>\n",
              "    <tr>\n",
              "      <th></th>\n",
              "      <th>gender</th>\n",
              "      <th>age</th>\n",
              "      <th>income</th>\n",
              "      <th>family_members</th>\n",
              "      <th>insurance_benefits</th>\n",
              "      <th>gender</th>\n",
              "      <th>age</th>\n",
              "      <th>income</th>\n",
              "      <th>family_members</th>\n",
              "      <th>insurance_benefits</th>\n",
              "      <th>distance</th>\n",
              "    </tr>\n",
              "  </thead>\n",
              "  <tbody>\n",
              "    <tr>\n",
              "      <th>5</th>\n",
              "      <td>1</td>\n",
              "      <td>43.0</td>\n",
              "      <td>41000.0</td>\n",
              "      <td>2</td>\n",
              "      <td>1</td>\n",
              "      <td>1.0</td>\n",
              "      <td>0.661538</td>\n",
              "      <td>0.518987</td>\n",
              "      <td>0.333333</td>\n",
              "      <td>1</td>\n",
              "      <td>0.000000</td>\n",
              "    </tr>\n",
              "    <tr>\n",
              "      <th>3955</th>\n",
              "      <td>1</td>\n",
              "      <td>43.0</td>\n",
              "      <td>39600.0</td>\n",
              "      <td>2</td>\n",
              "      <td>1</td>\n",
              "      <td>1.0</td>\n",
              "      <td>0.661538</td>\n",
              "      <td>0.501266</td>\n",
              "      <td>0.333333</td>\n",
              "      <td>1</td>\n",
              "      <td>0.017722</td>\n",
              "    </tr>\n",
              "    <tr>\n",
              "      <th>1136</th>\n",
              "      <td>1</td>\n",
              "      <td>42.0</td>\n",
              "      <td>40800.0</td>\n",
              "      <td>2</td>\n",
              "      <td>0</td>\n",
              "      <td>1.0</td>\n",
              "      <td>0.646154</td>\n",
              "      <td>0.516456</td>\n",
              "      <td>0.333333</td>\n",
              "      <td>0</td>\n",
              "      <td>0.017916</td>\n",
              "    </tr>\n",
              "    <tr>\n",
              "      <th>2897</th>\n",
              "      <td>1</td>\n",
              "      <td>41.0</td>\n",
              "      <td>41100.0</td>\n",
              "      <td>2</td>\n",
              "      <td>0</td>\n",
              "      <td>1.0</td>\n",
              "      <td>0.630769</td>\n",
              "      <td>0.520253</td>\n",
              "      <td>0.333333</td>\n",
              "      <td>0</td>\n",
              "      <td>0.032035</td>\n",
              "    </tr>\n",
              "    <tr>\n",
              "      <th>1011</th>\n",
              "      <td>1</td>\n",
              "      <td>42.0</td>\n",
              "      <td>39600.0</td>\n",
              "      <td>2</td>\n",
              "      <td>0</td>\n",
              "      <td>1.0</td>\n",
              "      <td>0.646154</td>\n",
              "      <td>0.501266</td>\n",
              "      <td>0.333333</td>\n",
              "      <td>0</td>\n",
              "      <td>0.033106</td>\n",
              "    </tr>\n",
              "  </tbody>\n",
              "</table>\n",
              "</div>\n",
              "      <button class=\"colab-df-convert\" onclick=\"convertToInteractive('df-77757e07-85c0-43a8-80a9-e8a570b26b56')\"\n",
              "              title=\"Convert this dataframe to an interactive table.\"\n",
              "              style=\"display:none;\">\n",
              "        \n",
              "  <svg xmlns=\"http://www.w3.org/2000/svg\" height=\"24px\"viewBox=\"0 0 24 24\"\n",
              "       width=\"24px\">\n",
              "    <path d=\"M0 0h24v24H0V0z\" fill=\"none\"/>\n",
              "    <path d=\"M18.56 5.44l.94 2.06.94-2.06 2.06-.94-2.06-.94-.94-2.06-.94 2.06-2.06.94zm-11 1L8.5 8.5l.94-2.06 2.06-.94-2.06-.94L8.5 2.5l-.94 2.06-2.06.94zm10 10l.94 2.06.94-2.06 2.06-.94-2.06-.94-.94-2.06-.94 2.06-2.06.94z\"/><path d=\"M17.41 7.96l-1.37-1.37c-.4-.4-.92-.59-1.43-.59-.52 0-1.04.2-1.43.59L10.3 9.45l-7.72 7.72c-.78.78-.78 2.05 0 2.83L4 21.41c.39.39.9.59 1.41.59.51 0 1.02-.2 1.41-.59l7.78-7.78 2.81-2.81c.8-.78.8-2.07 0-2.86zM5.41 20L4 18.59l7.72-7.72 1.47 1.35L5.41 20z\"/>\n",
              "  </svg>\n",
              "      </button>\n",
              "      \n",
              "  <style>\n",
              "    .colab-df-container {\n",
              "      display:flex;\n",
              "      flex-wrap:wrap;\n",
              "      gap: 12px;\n",
              "    }\n",
              "\n",
              "    .colab-df-convert {\n",
              "      background-color: #E8F0FE;\n",
              "      border: none;\n",
              "      border-radius: 50%;\n",
              "      cursor: pointer;\n",
              "      display: none;\n",
              "      fill: #1967D2;\n",
              "      height: 32px;\n",
              "      padding: 0 0 0 0;\n",
              "      width: 32px;\n",
              "    }\n",
              "\n",
              "    .colab-df-convert:hover {\n",
              "      background-color: #E2EBFA;\n",
              "      box-shadow: 0px 1px 2px rgba(60, 64, 67, 0.3), 0px 1px 3px 1px rgba(60, 64, 67, 0.15);\n",
              "      fill: #174EA6;\n",
              "    }\n",
              "\n",
              "    [theme=dark] .colab-df-convert {\n",
              "      background-color: #3B4455;\n",
              "      fill: #D2E3FC;\n",
              "    }\n",
              "\n",
              "    [theme=dark] .colab-df-convert:hover {\n",
              "      background-color: #434B5C;\n",
              "      box-shadow: 0px 1px 3px 1px rgba(0, 0, 0, 0.15);\n",
              "      filter: drop-shadow(0px 1px 2px rgba(0, 0, 0, 0.3));\n",
              "      fill: #FFFFFF;\n",
              "    }\n",
              "  </style>\n",
              "\n",
              "      <script>\n",
              "        const buttonEl =\n",
              "          document.querySelector('#df-77757e07-85c0-43a8-80a9-e8a570b26b56 button.colab-df-convert');\n",
              "        buttonEl.style.display =\n",
              "          google.colab.kernel.accessAllowed ? 'block' : 'none';\n",
              "\n",
              "        async function convertToInteractive(key) {\n",
              "          const element = document.querySelector('#df-77757e07-85c0-43a8-80a9-e8a570b26b56');\n",
              "          const dataTable =\n",
              "            await google.colab.kernel.invokeFunction('convertToInteractive',\n",
              "                                                     [key], {});\n",
              "          if (!dataTable) return;\n",
              "\n",
              "          const docLinkHtml = 'Like what you see? Visit the ' +\n",
              "            '<a target=\"_blank\" href=https://colab.research.google.com/notebooks/data_table.ipynb>data table notebook</a>'\n",
              "            + ' to learn more about interactive tables.';\n",
              "          element.innerHTML = '';\n",
              "          dataTable['output_type'] = 'display_data';\n",
              "          await google.colab.output.renderOutput(dataTable, element);\n",
              "          const docLink = document.createElement('div');\n",
              "          docLink.innerHTML = docLinkHtml;\n",
              "          element.appendChild(docLink);\n",
              "        }\n",
              "      </script>\n",
              "    </div>\n",
              "  </div>\n",
              "  "
            ]
          },
          "metadata": {}
        },
        {
          "output_type": "stream",
          "name": "stdout",
          "text": [
            "\n"
          ]
        }
      ],
      "source": [
        "# show the model results from the data with scaling\n",
        "for i in ['euclidean', 'manhattan']:\n",
        "    df_knn = get_knn(df_scaled, 5, 5, i)\n",
        "    df_knn_compare = pd.concat([df.loc[df_knn.index], df_knn], axis=1, keys=['actual', 'scaled'])\n",
        "    display(f'metric = {i}', df_knn_compare)\n",
        "    print()"
      ]
    },
    {
      "cell_type": "markdown",
      "metadata": {
        "id": "8r1FuXIWRLhc"
      },
      "source": [
        "Answer the question"
      ]
    },
    {
      "cell_type": "markdown",
      "metadata": {
        "id": "9rS3h9flRLhc"
      },
      "source": [
        "**Does unscaled data affect the kNN algorithm? If it does, then what form does it take?** \n",
        "\n",
        "- Of course, scaling does affect the algorithm. The model tends to consider data with a very high *value* more important than a small *value*, for example, comparing `income`, which can have numbers up to **tens of thousands** compared to `age`, which has several **tens** only, especially when compared to `family_members` which has a maximum number of **6**. The model will likely ignore the data in the `age` and `family_members` columns.\n",
        "- Data that is not scaled has a more significant distance than mounted data."
      ]
    },
    {
      "cell_type": "markdown",
      "metadata": {
        "id": "Nl7jDHSqRLhd"
      },
      "source": [
        "**How similar are the results obtained from the Euclidean metric when using the Manhattan distance metric (regardless of scaling)?**\n",
        "\n",
        "- The `Euclidian metric` and the `Manhattan metric` have similar results, although not precisely identical. The `Euclidian metric` tends to have a smaller distance than the `Manhattan metric` due to the nature of the difference being only about **0.01**."
      ]
    },
    {
      "cell_type": "markdown",
      "metadata": {
        "id": "R1OKSvuuRLhd"
      },
      "source": [
        "### 3.2. Objective 2. Is the Client Likely to Receive Insurance Benefits?"
      ]
    },
    {
      "cell_type": "markdown",
      "metadata": {
        "id": "OkbZerg1RLhd"
      },
      "source": [
        "In the context of machine learning, this task is similar to the binary classification task."
      ]
    },
    {
      "cell_type": "markdown",
      "metadata": {
        "id": "zzg6kHtsRLhe"
      },
      "source": [
        "With a target `insurance_benefits` greater than zero, evaluate whether the kNN classification model is a better approach than the *dummy* model.\n",
        "\n",
        "Instructions:\n",
        "- Build a KNN-based classifier and measure its quality with the F1 metric for k=1..10 for the original and scaled data. It will be interesting to see how k can affect the evaluation metric and whether scaling the data makes the results different. Use the implementation of the kNN classification algorithm available on scikit-learn (check [link](https://scikit-learn.org/stable/modules/generated/sklearn.neighbors.KNeighborsClassifier.html)) or your own.\n",
        "- Create a random *dummy* model for this case. The model should output **1** with some probability. Test the model with four probability values: 0, the probability of paying any insurance benefit; 0.5; 1.\n",
        "\n",
        "The probability of paying insurance benefits can be defined as\n",
        "\n",
        "$$\n",
        "P\\{\\text{insurance benefits received}\\}=\\frac{\\text{number of clients receiving insurance benefits}}{\\text{total number of clients}}.\n",
        "$$\n",
        "\n",
        "Split the overall data into 70:30 for the proportion of **training** and **test set**."
      ]
    },
    {
      "cell_type": "code",
      "execution_count": 23,
      "metadata": {
        "scrolled": true,
        "colab": {
          "base_uri": "https://localhost:8080/",
          "height": 206
        },
        "id": "WPblVZYVRLhe",
        "outputId": "a8cd277f-0506-47fc-91e8-cb7f056e86e0"
      },
      "outputs": [
        {
          "output_type": "execute_result",
          "data": {
            "text/plain": [
              "      gender   age   income  family_members  insurance_benefits  \\\n",
              "3214       1  30.0  40800.0               0                   0   \n",
              "1963       0  23.0  31200.0               1                   0   \n",
              "3415       1  32.0  25200.0               1                   0   \n",
              "2791       0  21.0  37200.0               0                   0   \n",
              "3726       1  29.0  32900.0               2                   0   \n",
              "\n",
              "      insurance_benefits_received  \n",
              "3214                            0  \n",
              "1963                            0  \n",
              "3415                            0  \n",
              "2791                            0  \n",
              "3726                            0  "
            ],
            "text/html": [
              "\n",
              "  <div id=\"df-df294925-b31c-48db-b225-ba36862f14ee\">\n",
              "    <div class=\"colab-df-container\">\n",
              "      <div>\n",
              "<style scoped>\n",
              "    .dataframe tbody tr th:only-of-type {\n",
              "        vertical-align: middle;\n",
              "    }\n",
              "\n",
              "    .dataframe tbody tr th {\n",
              "        vertical-align: top;\n",
              "    }\n",
              "\n",
              "    .dataframe thead th {\n",
              "        text-align: right;\n",
              "    }\n",
              "</style>\n",
              "<table border=\"1\" class=\"dataframe\">\n",
              "  <thead>\n",
              "    <tr style=\"text-align: right;\">\n",
              "      <th></th>\n",
              "      <th>gender</th>\n",
              "      <th>age</th>\n",
              "      <th>income</th>\n",
              "      <th>family_members</th>\n",
              "      <th>insurance_benefits</th>\n",
              "      <th>insurance_benefits_received</th>\n",
              "    </tr>\n",
              "  </thead>\n",
              "  <tbody>\n",
              "    <tr>\n",
              "      <th>3214</th>\n",
              "      <td>1</td>\n",
              "      <td>30.0</td>\n",
              "      <td>40800.0</td>\n",
              "      <td>0</td>\n",
              "      <td>0</td>\n",
              "      <td>0</td>\n",
              "    </tr>\n",
              "    <tr>\n",
              "      <th>1963</th>\n",
              "      <td>0</td>\n",
              "      <td>23.0</td>\n",
              "      <td>31200.0</td>\n",
              "      <td>1</td>\n",
              "      <td>0</td>\n",
              "      <td>0</td>\n",
              "    </tr>\n",
              "    <tr>\n",
              "      <th>3415</th>\n",
              "      <td>1</td>\n",
              "      <td>32.0</td>\n",
              "      <td>25200.0</td>\n",
              "      <td>1</td>\n",
              "      <td>0</td>\n",
              "      <td>0</td>\n",
              "    </tr>\n",
              "    <tr>\n",
              "      <th>2791</th>\n",
              "      <td>0</td>\n",
              "      <td>21.0</td>\n",
              "      <td>37200.0</td>\n",
              "      <td>0</td>\n",
              "      <td>0</td>\n",
              "      <td>0</td>\n",
              "    </tr>\n",
              "    <tr>\n",
              "      <th>3726</th>\n",
              "      <td>1</td>\n",
              "      <td>29.0</td>\n",
              "      <td>32900.0</td>\n",
              "      <td>2</td>\n",
              "      <td>0</td>\n",
              "      <td>0</td>\n",
              "    </tr>\n",
              "  </tbody>\n",
              "</table>\n",
              "</div>\n",
              "      <button class=\"colab-df-convert\" onclick=\"convertToInteractive('df-df294925-b31c-48db-b225-ba36862f14ee')\"\n",
              "              title=\"Convert this dataframe to an interactive table.\"\n",
              "              style=\"display:none;\">\n",
              "        \n",
              "  <svg xmlns=\"http://www.w3.org/2000/svg\" height=\"24px\"viewBox=\"0 0 24 24\"\n",
              "       width=\"24px\">\n",
              "    <path d=\"M0 0h24v24H0V0z\" fill=\"none\"/>\n",
              "    <path d=\"M18.56 5.44l.94 2.06.94-2.06 2.06-.94-2.06-.94-.94-2.06-.94 2.06-2.06.94zm-11 1L8.5 8.5l.94-2.06 2.06-.94-2.06-.94L8.5 2.5l-.94 2.06-2.06.94zm10 10l.94 2.06.94-2.06 2.06-.94-2.06-.94-.94-2.06-.94 2.06-2.06.94z\"/><path d=\"M17.41 7.96l-1.37-1.37c-.4-.4-.92-.59-1.43-.59-.52 0-1.04.2-1.43.59L10.3 9.45l-7.72 7.72c-.78.78-.78 2.05 0 2.83L4 21.41c.39.39.9.59 1.41.59.51 0 1.02-.2 1.41-.59l7.78-7.78 2.81-2.81c.8-.78.8-2.07 0-2.86zM5.41 20L4 18.59l7.72-7.72 1.47 1.35L5.41 20z\"/>\n",
              "  </svg>\n",
              "      </button>\n",
              "      \n",
              "  <style>\n",
              "    .colab-df-container {\n",
              "      display:flex;\n",
              "      flex-wrap:wrap;\n",
              "      gap: 12px;\n",
              "    }\n",
              "\n",
              "    .colab-df-convert {\n",
              "      background-color: #E8F0FE;\n",
              "      border: none;\n",
              "      border-radius: 50%;\n",
              "      cursor: pointer;\n",
              "      display: none;\n",
              "      fill: #1967D2;\n",
              "      height: 32px;\n",
              "      padding: 0 0 0 0;\n",
              "      width: 32px;\n",
              "    }\n",
              "\n",
              "    .colab-df-convert:hover {\n",
              "      background-color: #E2EBFA;\n",
              "      box-shadow: 0px 1px 2px rgba(60, 64, 67, 0.3), 0px 1px 3px 1px rgba(60, 64, 67, 0.15);\n",
              "      fill: #174EA6;\n",
              "    }\n",
              "\n",
              "    [theme=dark] .colab-df-convert {\n",
              "      background-color: #3B4455;\n",
              "      fill: #D2E3FC;\n",
              "    }\n",
              "\n",
              "    [theme=dark] .colab-df-convert:hover {\n",
              "      background-color: #434B5C;\n",
              "      box-shadow: 0px 1px 3px 1px rgba(0, 0, 0, 0.15);\n",
              "      filter: drop-shadow(0px 1px 2px rgba(0, 0, 0, 0.3));\n",
              "      fill: #FFFFFF;\n",
              "    }\n",
              "  </style>\n",
              "\n",
              "      <script>\n",
              "        const buttonEl =\n",
              "          document.querySelector('#df-df294925-b31c-48db-b225-ba36862f14ee button.colab-df-convert');\n",
              "        buttonEl.style.display =\n",
              "          google.colab.kernel.accessAllowed ? 'block' : 'none';\n",
              "\n",
              "        async function convertToInteractive(key) {\n",
              "          const element = document.querySelector('#df-df294925-b31c-48db-b225-ba36862f14ee');\n",
              "          const dataTable =\n",
              "            await google.colab.kernel.invokeFunction('convertToInteractive',\n",
              "                                                     [key], {});\n",
              "          if (!dataTable) return;\n",
              "\n",
              "          const docLinkHtml = 'Like what you see? Visit the ' +\n",
              "            '<a target=\"_blank\" href=https://colab.research.google.com/notebooks/data_table.ipynb>data table notebook</a>'\n",
              "            + ' to learn more about interactive tables.';\n",
              "          element.innerHTML = '';\n",
              "          dataTable['output_type'] = 'display_data';\n",
              "          await google.colab.output.renderOutput(dataTable, element);\n",
              "          const docLink = document.createElement('div');\n",
              "          docLink.innerHTML = docLinkHtml;\n",
              "          element.appendChild(docLink);\n",
              "        }\n",
              "      </script>\n",
              "    </div>\n",
              "  </div>\n",
              "  "
            ]
          },
          "metadata": {},
          "execution_count": 23
        }
      ],
      "source": [
        "# calculate the target\n",
        "df['insurance_benefits_received'] = (df['insurance_benefits'] != 0).astype('int')\n",
        "\n",
        "df.sample(5)"
      ]
    },
    {
      "cell_type": "code",
      "execution_count": 24,
      "metadata": {
        "colab": {
          "base_uri": "https://localhost:8080/",
          "height": 457
        },
        "id": "uSLQJIvjRLhf",
        "outputId": "56d8799e-d2c8-4cb6-a480-b8179e10fb43"
      },
      "outputs": [
        {
          "output_type": "stream",
          "name": "stdout",
          "text": [
            "Number of clients receiving insurance benefits\n",
            "0    4284\n",
            "1     563\n",
            "Name: insurance_benefits_received, dtype: int64\n",
            "\n",
            "Comparison of clients receiving insurance benefits\n",
            "0    88.384568\n",
            "1    11.615432\n",
            "Name: insurance_benefits_received, dtype: float64\n"
          ]
        },
        {
          "output_type": "display_data",
          "data": {
            "text/plain": [
              "<Figure size 288x288 with 1 Axes>"
            ],
            "image/png": "[encoded data removed]"
          },
          "metadata": {}
        }
      ],
      "source": [
        "# check class imbalance with value_counts()\n",
        "print(f'Number of clients receiving insurance benefits')\n",
        "print(df['insurance_benefits_received'].value_counts()), print()\n",
        "\n",
        "print(f'Comparison of clients receiving insurance benefits')\n",
        "print(df['insurance_benefits_received'].value_counts() / len(df) * 100)\n",
        "\n",
        "# display plot\n",
        "fig, ax = plt.subplots(figsize=(4, 4))\n",
        "ax = sns.countplot(df['insurance_benefits_received'])\n",
        "for p in ax.patches:\n",
        "        ax.annotate('{:.0f}'.format(p.get_height()), (p.get_x()+0.1, p.get_height()+50))\n",
        "plt.title('Comparison of clients receiving insurance benefits')\n",
        "plt.show()"
      ]
    },
    {
      "cell_type": "markdown",
      "metadata": {
        "id": "-UGDGcYXRLhg"
      },
      "source": [
        "- The number of *customers* who **do not** use insurance benefits is **4436** with a percentage of **89%** compared to **11%** of *customers* who use insurance benefits. If we perform model with this data, *machine learning* will tend to ignore the smaller data.\n",
        "- We will perform model with the original data and the data scaled by the *upsampling* method. We will find the difference between the two."
      ]
    },
    {
      "cell_type": "code",
      "execution_count": 25,
      "metadata": {
        "id": "czMjOrnjRLhg"
      },
      "outputs": [],
      "source": [
        "# defines the evaluation metric function\n",
        "def eval_classifier(y_true, y_pred):\n",
        "    \n",
        "    f1_score = sklearn.metrics.f1_score(y_true, y_pred) # metric evaluation f1 score\n",
        "    print(f'F1: {f1_score:.2f}')\n",
        "    \n",
        "# we will restart the notebook if an error occurs\n",
        "    cm = sklearn.metrics.confusion_matrix(y_true, y_pred, normalize='all')\n",
        "    print('Confusion Matrix')\n",
        "    print(cm)"
      ]
    },
    {
      "cell_type": "markdown",
      "metadata": {
        "id": "0vpSzoSgRLhg"
      },
      "source": [
        "#### 3.2.1. Create Dummy Model"
      ]
    },
    {
      "cell_type": "code",
      "execution_count": 26,
      "metadata": {
        "id": "RvNsvkEKRLhh"
      },
      "outputs": [],
      "source": [
        "# collecting outputs on a randomized model\n",
        "\n",
        "def rnd_model_predict(P, size, seed=42):\n",
        "\n",
        "    rng = np.random.default_rng(seed=seed)\n",
        "    return rng.binomial(n=1, p=P, size=size)"
      ]
    },
    {
      "cell_type": "code",
      "execution_count": 27,
      "metadata": {
        "colab": {
          "base_uri": "https://localhost:8080/"
        },
        "id": "W3TEVhvTRLhh",
        "outputId": "852e1831-09ac-4722-b00c-469061512a95"
      },
      "outputs": [
        {
          "output_type": "stream",
          "name": "stdout",
          "text": [
            "Probability: 0.00\n",
            "F1: 0.00\n",
            "Confusion Matrix\n",
            "[[0.88384568 0.        ]\n",
            " [0.11615432 0.        ]]\n",
            "\n",
            "Probability: 0.12\n",
            "F1: 0.13\n",
            "Confusion Matrix\n",
            "[[0.78502166 0.09882401]\n",
            " [0.1017124  0.01444192]]\n",
            "\n",
            "Probability: 0.50\n",
            "F1: 0.19\n",
            "Confusion Matrix\n",
            "[[0.44873117 0.4351145 ]\n",
            " [0.05921188 0.05694244]]\n",
            "\n",
            "Probability: 1.00\n",
            "F1: 0.21\n",
            "Confusion Matrix\n",
            "[[0.         0.88384568]\n",
            " [0.         0.11615432]]\n",
            "\n"
          ]
        }
      ],
      "source": [
        "# create dummy model\n",
        "for P in [0, df['insurance_benefits_received'].sum() / len(df), 0.5, 1]:\n",
        "\n",
        "    print(f'Probability: {P:.2f}')\n",
        "    y_pred_rnd = rnd_model_predict(P, size=len(df))\n",
        "        \n",
        "    eval_classifier(df['insurance_benefits_received'], y_pred_rnd)\n",
        "    \n",
        "    print()"
      ]
    },
    {
      "cell_type": "markdown",
      "metadata": {
        "id": "mjEtRPucRLhi"
      },
      "source": [
        "#### 3.2.2. Create Models with Actual Data and Scaled Data"
      ]
    },
    {
      "cell_type": "code",
      "execution_count": 28,
      "metadata": {
        "id": "btz1de6cRLhi"
      },
      "outputs": [],
      "source": [
        "# split features and target\n",
        "features = ['age', 'gender', 'income', 'family_members']\n",
        "target = ['insurance_benefits_received']"
      ]
    },
    {
      "cell_type": "code",
      "execution_count": 29,
      "metadata": {
        "colab": {
          "base_uri": "https://localhost:8080/"
        },
        "id": "0OZkpw1JRLhj",
        "outputId": "bd733085-80d0-4c5e-ddb5-cbb4742a1786"
      },
      "outputs": [
        {
          "output_type": "stream",
          "name": "stdout",
          "text": [
            "n_neighbors = 1\n",
            "F1: 0.66\n",
            "Confusion Matrix\n",
            "[[0.86735395 0.02405498]\n",
            " [0.04261168 0.06597938]]\n",
            "\n",
            "n_neighbors = 2\n",
            "F1: 0.47\n",
            "Confusion Matrix\n",
            "[[0.88522337 0.00618557]\n",
            " [0.07353952 0.03505155]]\n",
            "\n",
            "n_neighbors = 3\n",
            "F1: 0.45\n",
            "Confusion Matrix\n",
            "[[0.87353952 0.01786942]\n",
            " [0.07147766 0.0371134 ]]\n",
            "\n",
            "n_neighbors = 4\n",
            "F1: 0.16\n",
            "Confusion Matrix\n",
            "[[0.88934708 0.00206186]\n",
            " [0.09896907 0.00962199]]\n",
            "\n",
            "n_neighbors = 5\n",
            "F1: 0.17\n",
            "Confusion Matrix\n",
            "[[0.88659794 0.004811  ]\n",
            " [0.09828179 0.01030928]]\n",
            "\n",
            "n_neighbors = 6\n",
            "F1: 0.08\n",
            "Confusion Matrix\n",
            "[[8.90721649e-01 6.87285223e-04]\n",
            " [1.03780069e-01 4.81099656e-03]]\n",
            "\n",
            "n_neighbors = 7\n",
            "F1: 0.10\n",
            "Confusion Matrix\n",
            "[[8.90721649e-01 6.87285223e-04]\n",
            " [1.03092784e-01 5.49828179e-03]]\n",
            "\n",
            "n_neighbors = 8\n",
            "F1: 0.02\n",
            "Confusion Matrix\n",
            "[[0.89140893 0.        ]\n",
            " [0.10721649 0.00137457]]\n",
            "\n",
            "n_neighbors = 9\n",
            "F1: 0.04\n",
            "Confusion Matrix\n",
            "[[0.89140893 0.        ]\n",
            " [0.10652921 0.00206186]]\n",
            "\n",
            "n_neighbors = 10\n",
            "F1: 0.02\n",
            "Confusion Matrix\n",
            "[[0.89140893 0.        ]\n",
            " [0.10721649 0.00137457]]\n",
            "\n"
          ]
        }
      ],
      "source": [
        "# model results without scaling\n",
        "X = df[features].to_numpy()\n",
        "y = df[target].to_numpy()\n",
        "\n",
        "X_train, X_test, y_train, y_test = train_test_split(X, y, test_size=0.3, random_state=42)\n",
        "\n",
        "for n in range(1, 11):\n",
        "    knn = KNeighborsClassifier(n_neighbors=n)\n",
        "    knn.fit(X_train, y_train)\n",
        "\n",
        "    y_test_pred = knn.predict(X_test)\n",
        "    \n",
        "    print(f'n_neighbors = {n}')\n",
        "    eval_classifier(y_test, y_test_pred) \n",
        "        \n",
        "    print()"
      ]
    },
    {
      "cell_type": "code",
      "execution_count": 30,
      "metadata": {
        "colab": {
          "base_uri": "https://localhost:8080/"
        },
        "id": "WrMgpiZ6RLhj",
        "outputId": "7c111a36-fdc7-479f-f54a-5f4209018f69"
      },
      "outputs": [
        {
          "output_type": "stream",
          "name": "stdout",
          "text": [
            "n_neighbors = 1\n",
            "F1: 0.95\n",
            "Confusion Matrix\n",
            "[[0.88522337 0.00618557]\n",
            " [0.00549828 0.10309278]]\n",
            "\n",
            "n_neighbors = 2\n",
            "F1: 0.95\n",
            "Confusion Matrix\n",
            "[[0.89003436 0.00137457]\n",
            " [0.00962199 0.09896907]]\n",
            "\n",
            "n_neighbors = 3\n",
            "F1: 0.95\n",
            "Confusion Matrix\n",
            "[[0.88728522 0.00412371]\n",
            " [0.00687285 0.10171821]]\n",
            "\n",
            "n_neighbors = 4\n",
            "F1: 0.94\n",
            "Confusion Matrix\n",
            "[[0.89003436 0.00137457]\n",
            " [0.01099656 0.0975945 ]]\n",
            "\n",
            "n_neighbors = 5\n",
            "F1: 0.95\n",
            "Confusion Matrix\n",
            "[[0.88797251 0.00343643]\n",
            " [0.00756014 0.10103093]]\n",
            "\n",
            "n_neighbors = 6\n",
            "F1: 0.93\n",
            "Confusion Matrix\n",
            "[[0.88934708 0.00206186]\n",
            " [0.01168385 0.09690722]]\n",
            "\n",
            "n_neighbors = 7\n",
            "F1: 0.96\n",
            "Confusion Matrix\n",
            "[[0.88865979 0.00274914]\n",
            " [0.00549828 0.10309278]]\n",
            "\n",
            "n_neighbors = 8\n",
            "F1: 0.94\n",
            "Confusion Matrix\n",
            "[[0.89003436 0.00137457]\n",
            " [0.01099656 0.0975945 ]]\n",
            "\n",
            "n_neighbors = 9\n",
            "F1: 0.94\n",
            "Confusion Matrix\n",
            "[[0.88865979 0.00274914]\n",
            " [0.00893471 0.09965636]]\n",
            "\n",
            "n_neighbors = 10\n",
            "F1: 0.95\n",
            "Confusion Matrix\n",
            "[[8.90721649e-01 6.87285223e-04]\n",
            " [1.03092784e-02 9.82817869e-02]]\n",
            "\n"
          ]
        }
      ],
      "source": [
        "# model results with scaling\n",
        "X = df_scaled[features].to_numpy()\n",
        "y = df[target].to_numpy()\n",
        "\n",
        "X_train, X_test, y_train, y_test = train_test_split(X, y, test_size=0.3, random_state=42)\n",
        "\n",
        "for n in range(1, 11):\n",
        "    knn = KNeighborsClassifier(n_neighbors=n)\n",
        "    knn.fit(X_train, y_train)\n",
        "\n",
        "    y_test_pred = knn.predict(X_test)\n",
        "    \n",
        "    print(f'n_neighbors = {n}')\n",
        "    eval_classifier(y_test, y_test_pred) \n",
        "        \n",
        "    print()"
      ]
    },
    {
      "cell_type": "markdown",
      "metadata": {
        "id": "p-G9C0XBRLhk"
      },
      "source": [
        "- The results obtained from the **KNN** model with *scaling* data and data without scaling have significant differences.\n",
        "- Data with scaling performs much better in predicting the target of *customers* who do not receive insurance benefits."
      ]
    },
    {
      "cell_type": "markdown",
      "metadata": {
        "id": "HmLFyOv9RLhk"
      },
      "source": [
        "### 3.3. Objective 3. Regression (with Linear Regression)"
      ]
    },
    {
      "cell_type": "markdown",
      "metadata": {
        "id": "VJY5hbwORLhk"
      },
      "source": [
        "With `insurance_benefit` as the target, we will try to evaluate what the RMSE is for the linear regression model."
      ]
    },
    {
      "cell_type": "markdown",
      "metadata": {
        "id": "3PhAY70-RLhk"
      },
      "source": [
        "Creating an LR implementation. Determine how the linear regression task solution is formulated in LA terms. We will check the RMSE for both the original data and the scaled data. Can we see the difference in RMSE in these two cases?\n",
        "\n",
        "Deskripsi\n",
        "- $X$ — feature matrix, one row represents one case, each column is a feature, the first column consists of unity\n",
        "- $y$ — target (vector)\n",
        "- $\\hat{y}$ — target estimate (vector)\n",
        "- $w$ — weight vector\n",
        "\n",
        "The matrix for linear regression can be formulated as\n",
        "\n",
        "$$\n",
        "y = Xw\n",
        "$$\n",
        "\n",
        "Training objective to find $w$ that will minimize the distance L2 (MSE) between $Xw$ and $y$:\n",
        "\n",
        "$$\n",
        "\\min_w d_2(Xw, y) \\quad \\text{atau} \\quad \\min_w \\text{MSE}(Xw, y)\n",
        "$$\n",
        "\n",
        "There is an analytical solution to the above:\n",
        "\n",
        "$$\n",
        "w = (X^T X)^{-1} X^T y\n",
        "$$\n",
        "\n",
        "The above formula can be used to find the weight $w$ and finally it can be used to calculate the predicted value\n",
        "\n",
        "$$\n",
        "\\hat{y} = X_{val}w\n",
        "$$"
      ]
    },
    {
      "cell_type": "markdown",
      "metadata": {
        "id": "PksKf6MPRLhz"
      },
      "source": [
        "Split the whole data into **training** and **validation set** with the proportion of 70:30. We use the RMSE metric for model evaluation."
      ]
    },
    {
      "cell_type": "code",
      "execution_count": 31,
      "metadata": {
        "id": "h8qnxB6pRLhz"
      },
      "outputs": [],
      "source": [
        "# defines the linear regression function\n",
        "class MyLinearRegression:\n",
        "    \n",
        "    def __init__(self):\n",
        "        \n",
        "        self.weights = None\n",
        "    \n",
        "    def fit(self, X, y):\n",
        "        \n",
        "        # menambahkan satuan\n",
        "        X2 = np.append(np.ones([len(X), 1]), X, axis=1)\n",
        "        self.weights = np.linalg.inv(X2.T @ X2) @ X2.T @ y\n",
        "\n",
        "    def predict(self, X):\n",
        "        \n",
        "        # menambahkan satuan\n",
        "        X2 = np.append(np.ones([len(X), 1]), X, axis=1)\n",
        "        y_pred = X2 @ self.weights\n",
        "        \n",
        "        return y_pred"
      ]
    },
    {
      "cell_type": "code",
      "execution_count": 32,
      "metadata": {
        "id": "ecBOvj9kRLh0"
      },
      "outputs": [],
      "source": [
        "# create an evaluation metric function\n",
        "def eval_regressor(y_true, y_pred):\n",
        "    \n",
        "    rmse = math.sqrt(sklearn.metrics.mean_squared_error(y_true, y_pred))\n",
        "    print(f'RMSE: {rmse:.2f}')\n",
        "    \n",
        "    r2_score = math.sqrt(sklearn.metrics.r2_score(y_true, y_pred))\n",
        "    print(f'R2: {r2_score:.2f}')    "
      ]
    },
    {
      "cell_type": "code",
      "execution_count": 33,
      "metadata": {
        "colab": {
          "base_uri": "https://localhost:8080/"
        },
        "id": "fDvcXO8BRLh1",
        "outputId": "f67d0174-97c0-4232-9b85-5fabbb0fc57e"
      },
      "outputs": [
        {
          "output_type": "stream",
          "name": "stdout",
          "text": [
            "[-9.77366729e-01  3.58042291e-02  1.95594888e-02  5.85336165e-07\n",
            " -1.21618420e-02]\n",
            "RMSE: 0.36\n",
            "R2: 0.66\n"
          ]
        }
      ],
      "source": [
        "# rmse and r2 score results without data scalling\n",
        "X = df[['age', 'gender', 'income', 'family_members']].to_numpy()\n",
        "y = df['insurance_benefits'].to_numpy()\n",
        "\n",
        "X_train, X_test, y_train, y_test = train_test_split(X, y, test_size=0.3, random_state=12345)\n",
        "\n",
        "lr = MyLinearRegression()\n",
        "\n",
        "lr.fit(X_train, y_train)\n",
        "print(lr.weights)\n",
        "\n",
        "y_test_pred = lr.predict(X_test)\n",
        "eval_regressor(y_test, y_test_pred)"
      ]
    },
    {
      "cell_type": "code",
      "execution_count": 34,
      "metadata": {
        "colab": {
          "base_uri": "https://localhost:8080/"
        },
        "id": "UZ6bEjIpRLh1",
        "outputId": "eb501be3-0998-4b96-a52a-336bbb30fb6b"
      },
      "outputs": [
        {
          "output_type": "stream",
          "name": "stdout",
          "text": [
            "[[-0.6698156 ]\n",
            " [ 1.62473815]\n",
            " [ 0.00440576]\n",
            " [ 0.03780298]\n",
            " [-0.05229838]]\n",
            "RMSE: 0.24\n",
            "R2: 0.67\n"
          ]
        }
      ],
      "source": [
        "# rmse and r2 score results with data scalling\n",
        "X = df_scaled[features].to_numpy()\n",
        "y = df[target].to_numpy()\n",
        "\n",
        "X_train, X_test, y_train, y_test = train_test_split(X, y, test_size=0.3, random_state=12345)\n",
        "\n",
        "lr = MyLinearRegression()\n",
        "\n",
        "lr.fit(X_train, y_train)\n",
        "print(lr.weights)\n",
        "\n",
        "y_test_pred = lr.predict(X_test)\n",
        "eval_regressor(y_test, y_test_pred)"
      ]
    },
    {
      "cell_type": "markdown",
      "metadata": {
        "id": "jFUvZpR6RLh2"
      },
      "source": [
        "### 3.4. Objective 4. Data Obfuscation"
      ]
    },
    {
      "cell_type": "markdown",
      "metadata": {
        "id": "hMnbsfcSRLh3"
      },
      "source": [
        "The best way to obfuscate the data is to multiply the numerical features (keep in mind that these features can be seen in the matrix $X$) with invertible matrix $P$. \n",
        "\n",
        "$$\n",
        "X' = X \\times P\n",
        "$$\n",
        "\n",
        "We will try to do that and check the results of the feature values after transforming. The invertible property is important here, so we make sure $P$ is invertible.\n",
        "\n",
        "We might want to revisit the reference 'Matrices and Matrix Operations -> Matrix Multiplication' to remember the rules of matrix multiplication and its implementation with NumPy."
      ]
    },
    {
      "cell_type": "code",
      "execution_count": 35,
      "metadata": {
        "id": "hrMnBJPoRLh3"
      },
      "outputs": [],
      "source": [
        "# filtering data for randomization\n",
        "personal_info_column_list = ['gender', 'age', 'income', 'family_members']\n",
        "df_pn = df[personal_info_column_list]"
      ]
    },
    {
      "cell_type": "code",
      "execution_count": 36,
      "metadata": {
        "colab": {
          "base_uri": "https://localhost:8080/",
          "height": 206
        },
        "id": "W7JVpUZNRLh4",
        "outputId": "eae715ca-504e-4a14-a048-25a338b912d0"
      },
      "outputs": [
        {
          "output_type": "execute_result",
          "data": {
            "text/plain": [
              "     0     1        2    3\n",
              "0  1.0  41.0  49600.0  1.0\n",
              "1  0.0  46.0  38000.0  1.0\n",
              "2  0.0  29.0  21000.0  0.0\n",
              "3  0.0  21.0  41700.0  2.0\n",
              "4  1.0  28.0  26100.0  0.0"
            ],
            "text/html": [
              "\n",
              "  <div id=\"df-9080acad-b15a-444e-8a29-4d2435b86440\">\n",
              "    <div class=\"colab-df-container\">\n",
              "      <div>\n",
              "<style scoped>\n",
              "    .dataframe tbody tr th:only-of-type {\n",
              "        vertical-align: middle;\n",
              "    }\n",
              "\n",
              "    .dataframe tbody tr th {\n",
              "        vertical-align: top;\n",
              "    }\n",
              "\n",
              "    .dataframe thead th {\n",
              "        text-align: right;\n",
              "    }\n",
              "</style>\n",
              "<table border=\"1\" class=\"dataframe\">\n",
              "  <thead>\n",
              "    <tr style=\"text-align: right;\">\n",
              "      <th></th>\n",
              "      <th>0</th>\n",
              "      <th>1</th>\n",
              "      <th>2</th>\n",
              "      <th>3</th>\n",
              "    </tr>\n",
              "  </thead>\n",
              "  <tbody>\n",
              "    <tr>\n",
              "      <th>0</th>\n",
              "      <td>1.0</td>\n",
              "      <td>41.0</td>\n",
              "      <td>49600.0</td>\n",
              "      <td>1.0</td>\n",
              "    </tr>\n",
              "    <tr>\n",
              "      <th>1</th>\n",
              "      <td>0.0</td>\n",
              "      <td>46.0</td>\n",
              "      <td>38000.0</td>\n",
              "      <td>1.0</td>\n",
              "    </tr>\n",
              "    <tr>\n",
              "      <th>2</th>\n",
              "      <td>0.0</td>\n",
              "      <td>29.0</td>\n",
              "      <td>21000.0</td>\n",
              "      <td>0.0</td>\n",
              "    </tr>\n",
              "    <tr>\n",
              "      <th>3</th>\n",
              "      <td>0.0</td>\n",
              "      <td>21.0</td>\n",
              "      <td>41700.0</td>\n",
              "      <td>2.0</td>\n",
              "    </tr>\n",
              "    <tr>\n",
              "      <th>4</th>\n",
              "      <td>1.0</td>\n",
              "      <td>28.0</td>\n",
              "      <td>26100.0</td>\n",
              "      <td>0.0</td>\n",
              "    </tr>\n",
              "  </tbody>\n",
              "</table>\n",
              "</div>\n",
              "      <button class=\"colab-df-convert\" onclick=\"convertToInteractive('df-9080acad-b15a-444e-8a29-4d2435b86440')\"\n",
              "              title=\"Convert this dataframe to an interactive table.\"\n",
              "              style=\"display:none;\">\n",
              "        \n",
              "  <svg xmlns=\"http://www.w3.org/2000/svg\" height=\"24px\"viewBox=\"0 0 24 24\"\n",
              "       width=\"24px\">\n",
              "    <path d=\"M0 0h24v24H0V0z\" fill=\"none\"/>\n",
              "    <path d=\"M18.56 5.44l.94 2.06.94-2.06 2.06-.94-2.06-.94-.94-2.06-.94 2.06-2.06.94zm-11 1L8.5 8.5l.94-2.06 2.06-.94-2.06-.94L8.5 2.5l-.94 2.06-2.06.94zm10 10l.94 2.06.94-2.06 2.06-.94-2.06-.94-.94-2.06-.94 2.06-2.06.94z\"/><path d=\"M17.41 7.96l-1.37-1.37c-.4-.4-.92-.59-1.43-.59-.52 0-1.04.2-1.43.59L10.3 9.45l-7.72 7.72c-.78.78-.78 2.05 0 2.83L4 21.41c.39.39.9.59 1.41.59.51 0 1.02-.2 1.41-.59l7.78-7.78 2.81-2.81c.8-.78.8-2.07 0-2.86zM5.41 20L4 18.59l7.72-7.72 1.47 1.35L5.41 20z\"/>\n",
              "  </svg>\n",
              "      </button>\n",
              "      \n",
              "  <style>\n",
              "    .colab-df-container {\n",
              "      display:flex;\n",
              "      flex-wrap:wrap;\n",
              "      gap: 12px;\n",
              "    }\n",
              "\n",
              "    .colab-df-convert {\n",
              "      background-color: #E8F0FE;\n",
              "      border: none;\n",
              "      border-radius: 50%;\n",
              "      cursor: pointer;\n",
              "      display: none;\n",
              "      fill: #1967D2;\n",
              "      height: 32px;\n",
              "      padding: 0 0 0 0;\n",
              "      width: 32px;\n",
              "    }\n",
              "\n",
              "    .colab-df-convert:hover {\n",
              "      background-color: #E2EBFA;\n",
              "      box-shadow: 0px 1px 2px rgba(60, 64, 67, 0.3), 0px 1px 3px 1px rgba(60, 64, 67, 0.15);\n",
              "      fill: #174EA6;\n",
              "    }\n",
              "\n",
              "    [theme=dark] .colab-df-convert {\n",
              "      background-color: #3B4455;\n",
              "      fill: #D2E3FC;\n",
              "    }\n",
              "\n",
              "    [theme=dark] .colab-df-convert:hover {\n",
              "      background-color: #434B5C;\n",
              "      box-shadow: 0px 1px 3px 1px rgba(0, 0, 0, 0.15);\n",
              "      filter: drop-shadow(0px 1px 2px rgba(0, 0, 0, 0.3));\n",
              "      fill: #FFFFFF;\n",
              "    }\n",
              "  </style>\n",
              "\n",
              "      <script>\n",
              "        const buttonEl =\n",
              "          document.querySelector('#df-9080acad-b15a-444e-8a29-4d2435b86440 button.colab-df-convert');\n",
              "        buttonEl.style.display =\n",
              "          google.colab.kernel.accessAllowed ? 'block' : 'none';\n",
              "\n",
              "        async function convertToInteractive(key) {\n",
              "          const element = document.querySelector('#df-9080acad-b15a-444e-8a29-4d2435b86440');\n",
              "          const dataTable =\n",
              "            await google.colab.kernel.invokeFunction('convertToInteractive',\n",
              "                                                     [key], {});\n",
              "          if (!dataTable) return;\n",
              "\n",
              "          const docLinkHtml = 'Like what you see? Visit the ' +\n",
              "            '<a target=\"_blank\" href=https://colab.research.google.com/notebooks/data_table.ipynb>data table notebook</a>'\n",
              "            + ' to learn more about interactive tables.';\n",
              "          element.innerHTML = '';\n",
              "          dataTable['output_type'] = 'display_data';\n",
              "          await google.colab.output.renderOutput(dataTable, element);\n",
              "          const docLink = document.createElement('div');\n",
              "          docLink.innerHTML = docLinkHtml;\n",
              "          element.appendChild(docLink);\n",
              "        }\n",
              "      </script>\n",
              "    </div>\n",
              "  </div>\n",
              "  "
            ]
          },
          "metadata": {},
          "execution_count": 36
        }
      ],
      "source": [
        "# convert dataset to numpy\n",
        "X = df_pn.to_numpy()\n",
        "\n",
        "# display sample\n",
        "pd.DataFrame(X).head()"
      ]
    },
    {
      "cell_type": "markdown",
      "metadata": {
        "id": "Y1hsKmmbRLh4"
      },
      "source": [
        "Create a random matrix $P$."
      ]
    },
    {
      "cell_type": "code",
      "execution_count": 37,
      "metadata": {
        "colab": {
          "base_uri": "https://localhost:8080/",
          "height": 175
        },
        "id": "9t0pOU0SRLh5",
        "outputId": "1ee03f0b-8d04-4e01-bf79-1f2b058885b8"
      },
      "outputs": [
        {
          "output_type": "execute_result",
          "data": {
            "text/plain": [
              "          0         1         2         3\n",
              "0  0.773956  0.438878  0.858598  0.697368\n",
              "1  0.094177  0.975622  0.761140  0.786064\n",
              "2  0.128114  0.450386  0.370798  0.926765\n",
              "3  0.643865  0.822762  0.443414  0.227239"
            ],
            "text/html": [
              "\n",
              "  <div id=\"df-49a391a2-f5f9-4779-88f4-2b3c8cf6ed40\">\n",
              "    <div class=\"colab-df-container\">\n",
              "      <div>\n",
              "<style scoped>\n",
              "    .dataframe tbody tr th:only-of-type {\n",
              "        vertical-align: middle;\n",
              "    }\n",
              "\n",
              "    .dataframe tbody tr th {\n",
              "        vertical-align: top;\n",
              "    }\n",
              "\n",
              "    .dataframe thead th {\n",
              "        text-align: right;\n",
              "    }\n",
              "</style>\n",
              "<table border=\"1\" class=\"dataframe\">\n",
              "  <thead>\n",
              "    <tr style=\"text-align: right;\">\n",
              "      <th></th>\n",
              "      <th>0</th>\n",
              "      <th>1</th>\n",
              "      <th>2</th>\n",
              "      <th>3</th>\n",
              "    </tr>\n",
              "  </thead>\n",
              "  <tbody>\n",
              "    <tr>\n",
              "      <th>0</th>\n",
              "      <td>0.773956</td>\n",
              "      <td>0.438878</td>\n",
              "      <td>0.858598</td>\n",
              "      <td>0.697368</td>\n",
              "    </tr>\n",
              "    <tr>\n",
              "      <th>1</th>\n",
              "      <td>0.094177</td>\n",
              "      <td>0.975622</td>\n",
              "      <td>0.761140</td>\n",
              "      <td>0.786064</td>\n",
              "    </tr>\n",
              "    <tr>\n",
              "      <th>2</th>\n",
              "      <td>0.128114</td>\n",
              "      <td>0.450386</td>\n",
              "      <td>0.370798</td>\n",
              "      <td>0.926765</td>\n",
              "    </tr>\n",
              "    <tr>\n",
              "      <th>3</th>\n",
              "      <td>0.643865</td>\n",
              "      <td>0.822762</td>\n",
              "      <td>0.443414</td>\n",
              "      <td>0.227239</td>\n",
              "    </tr>\n",
              "  </tbody>\n",
              "</table>\n",
              "</div>\n",
              "      <button class=\"colab-df-convert\" onclick=\"convertToInteractive('df-49a391a2-f5f9-4779-88f4-2b3c8cf6ed40')\"\n",
              "              title=\"Convert this dataframe to an interactive table.\"\n",
              "              style=\"display:none;\">\n",
              "        \n",
              "  <svg xmlns=\"http://www.w3.org/2000/svg\" height=\"24px\"viewBox=\"0 0 24 24\"\n",
              "       width=\"24px\">\n",
              "    <path d=\"M0 0h24v24H0V0z\" fill=\"none\"/>\n",
              "    <path d=\"M18.56 5.44l.94 2.06.94-2.06 2.06-.94-2.06-.94-.94-2.06-.94 2.06-2.06.94zm-11 1L8.5 8.5l.94-2.06 2.06-.94-2.06-.94L8.5 2.5l-.94 2.06-2.06.94zm10 10l.94 2.06.94-2.06 2.06-.94-2.06-.94-.94-2.06-.94 2.06-2.06.94z\"/><path d=\"M17.41 7.96l-1.37-1.37c-.4-.4-.92-.59-1.43-.59-.52 0-1.04.2-1.43.59L10.3 9.45l-7.72 7.72c-.78.78-.78 2.05 0 2.83L4 21.41c.39.39.9.59 1.41.59.51 0 1.02-.2 1.41-.59l7.78-7.78 2.81-2.81c.8-.78.8-2.07 0-2.86zM5.41 20L4 18.59l7.72-7.72 1.47 1.35L5.41 20z\"/>\n",
              "  </svg>\n",
              "      </button>\n",
              "      \n",
              "  <style>\n",
              "    .colab-df-container {\n",
              "      display:flex;\n",
              "      flex-wrap:wrap;\n",
              "      gap: 12px;\n",
              "    }\n",
              "\n",
              "    .colab-df-convert {\n",
              "      background-color: #E8F0FE;\n",
              "      border: none;\n",
              "      border-radius: 50%;\n",
              "      cursor: pointer;\n",
              "      display: none;\n",
              "      fill: #1967D2;\n",
              "      height: 32px;\n",
              "      padding: 0 0 0 0;\n",
              "      width: 32px;\n",
              "    }\n",
              "\n",
              "    .colab-df-convert:hover {\n",
              "      background-color: #E2EBFA;\n",
              "      box-shadow: 0px 1px 2px rgba(60, 64, 67, 0.3), 0px 1px 3px 1px rgba(60, 64, 67, 0.15);\n",
              "      fill: #174EA6;\n",
              "    }\n",
              "\n",
              "    [theme=dark] .colab-df-convert {\n",
              "      background-color: #3B4455;\n",
              "      fill: #D2E3FC;\n",
              "    }\n",
              "\n",
              "    [theme=dark] .colab-df-convert:hover {\n",
              "      background-color: #434B5C;\n",
              "      box-shadow: 0px 1px 3px 1px rgba(0, 0, 0, 0.15);\n",
              "      filter: drop-shadow(0px 1px 2px rgba(0, 0, 0, 0.3));\n",
              "      fill: #FFFFFF;\n",
              "    }\n",
              "  </style>\n",
              "\n",
              "      <script>\n",
              "        const buttonEl =\n",
              "          document.querySelector('#df-49a391a2-f5f9-4779-88f4-2b3c8cf6ed40 button.colab-df-convert');\n",
              "        buttonEl.style.display =\n",
              "          google.colab.kernel.accessAllowed ? 'block' : 'none';\n",
              "\n",
              "        async function convertToInteractive(key) {\n",
              "          const element = document.querySelector('#df-49a391a2-f5f9-4779-88f4-2b3c8cf6ed40');\n",
              "          const dataTable =\n",
              "            await google.colab.kernel.invokeFunction('convertToInteractive',\n",
              "                                                     [key], {});\n",
              "          if (!dataTable) return;\n",
              "\n",
              "          const docLinkHtml = 'Like what you see? Visit the ' +\n",
              "            '<a target=\"_blank\" href=https://colab.research.google.com/notebooks/data_table.ipynb>data table notebook</a>'\n",
              "            + ' to learn more about interactive tables.';\n",
              "          element.innerHTML = '';\n",
              "          dataTable['output_type'] = 'display_data';\n",
              "          await google.colab.output.renderOutput(dataTable, element);\n",
              "          const docLink = document.createElement('div');\n",
              "          docLink.innerHTML = docLinkHtml;\n",
              "          element.appendChild(docLink);\n",
              "        }\n",
              "      </script>\n",
              "    </div>\n",
              "  </div>\n",
              "  "
            ]
          },
          "metadata": {},
          "execution_count": 37
        }
      ],
      "source": [
        "# generate a random  matrix\n",
        "rng = np.random.default_rng(seed=42)\n",
        "P = rng.random(size=(X.shape[1], X.shape[1]))\n",
        "\n",
        "# display sample\n",
        "pd.DataFrame(P)"
      ]
    },
    {
      "cell_type": "markdown",
      "metadata": {
        "id": "ahuCL0Q-RLh6"
      },
      "source": [
        "Check if matrix $P$ is invertible"
      ]
    },
    {
      "cell_type": "code",
      "execution_count": 38,
      "metadata": {
        "colab": {
          "base_uri": "https://localhost:8080/"
        },
        "id": "FAWxFj4JRLh6",
        "outputId": "af4c49a8-7f4c-4b80-860b-25271bc0be95"
      },
      "outputs": [
        {
          "output_type": "execute_result",
          "data": {
            "text/plain": [
              "0.24339135998015463"
            ]
          },
          "metadata": {},
          "execution_count": 38
        }
      ],
      "source": [
        "# checking if matrix P is invertible\n",
        "P_det = np.linalg.det(P)\n",
        "\n",
        "# if a matrix's determinant is not equal to zero, it is invertible\n",
        "P_det"
      ]
    },
    {
      "cell_type": "markdown",
      "metadata": {
        "id": "V6DhlCMvRLh6"
      },
      "source": [
        "The result shows that the number is not equal to **0** meaning that we can invert the matrix to the original data."
      ]
    },
    {
      "cell_type": "code",
      "execution_count": 39,
      "metadata": {
        "colab": {
          "base_uri": "https://localhost:8080/",
          "height": 424
        },
        "id": "tuH9BKz3RLh7",
        "outputId": "1f9b3626-c7b3-459a-a1c1-8b1aba2ee7f6"
      },
      "outputs": [
        {
          "output_type": "execute_result",
          "data": {
            "text/plain": [
              "                0             1             2             3\n",
              "0     6359.715273  22380.404676  18424.090742  46000.696690\n",
              "1     4873.294065  17160.367030  14125.780761  35253.455773\n",
              "2     2693.117429   9486.397744   7808.831560  19484.860631\n",
              "3     5345.603937  18803.227203  15479.148373  38663.061863\n",
              "4     3347.176735  11782.829283   9699.998942  24211.273378\n",
              "...           ...           ...           ...           ...\n",
              "4842  4577.581382  16107.740932  13259.688205  33107.974380\n",
              "4843  6717.000247  23634.217067  19456.138634  48589.438841\n",
              "4844  4346.223425  15289.241265  12586.162644  31433.508886\n",
              "4845  4194.093242  14751.991024  12144.029306  30323.887634\n",
              "4846  5205.468274  18314.248144  15077.013708  37649.592955\n",
              "\n",
              "[4847 rows x 4 columns]"
            ],
            "text/html": [
              "\n",
              "  <div id=\"df-ba97dc34-e053-4e09-a61a-3364803d8759\">\n",
              "    <div class=\"colab-df-container\">\n",
              "      <div>\n",
              "<style scoped>\n",
              "    .dataframe tbody tr th:only-of-type {\n",
              "        vertical-align: middle;\n",
              "    }\n",
              "\n",
              "    .dataframe tbody tr th {\n",
              "        vertical-align: top;\n",
              "    }\n",
              "\n",
              "    .dataframe thead th {\n",
              "        text-align: right;\n",
              "    }\n",
              "</style>\n",
              "<table border=\"1\" class=\"dataframe\">\n",
              "  <thead>\n",
              "    <tr style=\"text-align: right;\">\n",
              "      <th></th>\n",
              "      <th>0</th>\n",
              "      <th>1</th>\n",
              "      <th>2</th>\n",
              "      <th>3</th>\n",
              "    </tr>\n",
              "  </thead>\n",
              "  <tbody>\n",
              "    <tr>\n",
              "      <th>0</th>\n",
              "      <td>6359.715273</td>\n",
              "      <td>22380.404676</td>\n",
              "      <td>18424.090742</td>\n",
              "      <td>46000.696690</td>\n",
              "    </tr>\n",
              "    <tr>\n",
              "      <th>1</th>\n",
              "      <td>4873.294065</td>\n",
              "      <td>17160.367030</td>\n",
              "      <td>14125.780761</td>\n",
              "      <td>35253.455773</td>\n",
              "    </tr>\n",
              "    <tr>\n",
              "      <th>2</th>\n",
              "      <td>2693.117429</td>\n",
              "      <td>9486.397744</td>\n",
              "      <td>7808.831560</td>\n",
              "      <td>19484.860631</td>\n",
              "    </tr>\n",
              "    <tr>\n",
              "      <th>3</th>\n",
              "      <td>5345.603937</td>\n",
              "      <td>18803.227203</td>\n",
              "      <td>15479.148373</td>\n",
              "      <td>38663.061863</td>\n",
              "    </tr>\n",
              "    <tr>\n",
              "      <th>4</th>\n",
              "      <td>3347.176735</td>\n",
              "      <td>11782.829283</td>\n",
              "      <td>9699.998942</td>\n",
              "      <td>24211.273378</td>\n",
              "    </tr>\n",
              "    <tr>\n",
              "      <th>...</th>\n",
              "      <td>...</td>\n",
              "      <td>...</td>\n",
              "      <td>...</td>\n",
              "      <td>...</td>\n",
              "    </tr>\n",
              "    <tr>\n",
              "      <th>4842</th>\n",
              "      <td>4577.581382</td>\n",
              "      <td>16107.740932</td>\n",
              "      <td>13259.688205</td>\n",
              "      <td>33107.974380</td>\n",
              "    </tr>\n",
              "    <tr>\n",
              "      <th>4843</th>\n",
              "      <td>6717.000247</td>\n",
              "      <td>23634.217067</td>\n",
              "      <td>19456.138634</td>\n",
              "      <td>48589.438841</td>\n",
              "    </tr>\n",
              "    <tr>\n",
              "      <th>4844</th>\n",
              "      <td>4346.223425</td>\n",
              "      <td>15289.241265</td>\n",
              "      <td>12586.162644</td>\n",
              "      <td>31433.508886</td>\n",
              "    </tr>\n",
              "    <tr>\n",
              "      <th>4845</th>\n",
              "      <td>4194.093242</td>\n",
              "      <td>14751.991024</td>\n",
              "      <td>12144.029306</td>\n",
              "      <td>30323.887634</td>\n",
              "    </tr>\n",
              "    <tr>\n",
              "      <th>4846</th>\n",
              "      <td>5205.468274</td>\n",
              "      <td>18314.248144</td>\n",
              "      <td>15077.013708</td>\n",
              "      <td>37649.592955</td>\n",
              "    </tr>\n",
              "  </tbody>\n",
              "</table>\n",
              "<p>4847 rows × 4 columns</p>\n",
              "</div>\n",
              "      <button class=\"colab-df-convert\" onclick=\"convertToInteractive('df-ba97dc34-e053-4e09-a61a-3364803d8759')\"\n",
              "              title=\"Convert this dataframe to an interactive table.\"\n",
              "              style=\"display:none;\">\n",
              "        \n",
              "  <svg xmlns=\"http://www.w3.org/2000/svg\" height=\"24px\"viewBox=\"0 0 24 24\"\n",
              "       width=\"24px\">\n",
              "    <path d=\"M0 0h24v24H0V0z\" fill=\"none\"/>\n",
              "    <path d=\"M18.56 5.44l.94 2.06.94-2.06 2.06-.94-2.06-.94-.94-2.06-.94 2.06-2.06.94zm-11 1L8.5 8.5l.94-2.06 2.06-.94-2.06-.94L8.5 2.5l-.94 2.06-2.06.94zm10 10l.94 2.06.94-2.06 2.06-.94-2.06-.94-.94-2.06-.94 2.06-2.06.94z\"/><path d=\"M17.41 7.96l-1.37-1.37c-.4-.4-.92-.59-1.43-.59-.52 0-1.04.2-1.43.59L10.3 9.45l-7.72 7.72c-.78.78-.78 2.05 0 2.83L4 21.41c.39.39.9.59 1.41.59.51 0 1.02-.2 1.41-.59l7.78-7.78 2.81-2.81c.8-.78.8-2.07 0-2.86zM5.41 20L4 18.59l7.72-7.72 1.47 1.35L5.41 20z\"/>\n",
              "  </svg>\n",
              "      </button>\n",
              "      \n",
              "  <style>\n",
              "    .colab-df-container {\n",
              "      display:flex;\n",
              "      flex-wrap:wrap;\n",
              "      gap: 12px;\n",
              "    }\n",
              "\n",
              "    .colab-df-convert {\n",
              "      background-color: #E8F0FE;\n",
              "      border: none;\n",
              "      border-radius: 50%;\n",
              "      cursor: pointer;\n",
              "      display: none;\n",
              "      fill: #1967D2;\n",
              "      height: 32px;\n",
              "      padding: 0 0 0 0;\n",
              "      width: 32px;\n",
              "    }\n",
              "\n",
              "    .colab-df-convert:hover {\n",
              "      background-color: #E2EBFA;\n",
              "      box-shadow: 0px 1px 2px rgba(60, 64, 67, 0.3), 0px 1px 3px 1px rgba(60, 64, 67, 0.15);\n",
              "      fill: #174EA6;\n",
              "    }\n",
              "\n",
              "    [theme=dark] .colab-df-convert {\n",
              "      background-color: #3B4455;\n",
              "      fill: #D2E3FC;\n",
              "    }\n",
              "\n",
              "    [theme=dark] .colab-df-convert:hover {\n",
              "      background-color: #434B5C;\n",
              "      box-shadow: 0px 1px 3px 1px rgba(0, 0, 0, 0.15);\n",
              "      filter: drop-shadow(0px 1px 2px rgba(0, 0, 0, 0.3));\n",
              "      fill: #FFFFFF;\n",
              "    }\n",
              "  </style>\n",
              "\n",
              "      <script>\n",
              "        const buttonEl =\n",
              "          document.querySelector('#df-ba97dc34-e053-4e09-a61a-3364803d8759 button.colab-df-convert');\n",
              "        buttonEl.style.display =\n",
              "          google.colab.kernel.accessAllowed ? 'block' : 'none';\n",
              "\n",
              "        async function convertToInteractive(key) {\n",
              "          const element = document.querySelector('#df-ba97dc34-e053-4e09-a61a-3364803d8759');\n",
              "          const dataTable =\n",
              "            await google.colab.kernel.invokeFunction('convertToInteractive',\n",
              "                                                     [key], {});\n",
              "          if (!dataTable) return;\n",
              "\n",
              "          const docLinkHtml = 'Like what you see? Visit the ' +\n",
              "            '<a target=\"_blank\" href=https://colab.research.google.com/notebooks/data_table.ipynb>data table notebook</a>'\n",
              "            + ' to learn more about interactive tables.';\n",
              "          element.innerHTML = '';\n",
              "          dataTable['output_type'] = 'display_data';\n",
              "          await google.colab.output.renderOutput(dataTable, element);\n",
              "          const docLink = document.createElement('div');\n",
              "          docLink.innerHTML = docLinkHtml;\n",
              "          element.appendChild(docLink);\n",
              "        }\n",
              "      </script>\n",
              "    </div>\n",
              "  </div>\n",
              "  "
            ]
          },
          "metadata": {},
          "execution_count": 39
        }
      ],
      "source": [
        "# invert metrix\n",
        "X_trans = X @ P\n",
        "\n",
        "# display sample\n",
        "pd.DataFrame(X_trans)"
      ]
    },
    {
      "cell_type": "code",
      "execution_count": 40,
      "metadata": {
        "colab": {
          "base_uri": "https://localhost:8080/",
          "height": 724
        },
        "id": "hejHJpz6RLh7",
        "outputId": "8b5a8da9-ca80-46dc-ba97-27946ed2142b"
      },
      "outputs": [
        {
          "output_type": "display_data",
          "data": {
            "text/plain": [
              "<Figure size 720x720 with 20 Axes>"
            ],
            "image/png": "[encoded data removed]"
          },
          "metadata": {}
        }
      ],
      "source": [
        "# display chart\n",
        "sns.pairplot(pd.DataFrame(X_trans))\n",
        "plt.show()"
      ]
    },
    {
      "cell_type": "markdown",
      "metadata": {
        "id": "51XhYk4hRLh7"
      },
      "source": [
        "Can we guess the client's age or income after transformation?\n",
        "\n",
        "- Transformed data does not display the distribution as in the original data, of course we cannot guess the content of the data."
      ]
    },
    {
      "cell_type": "code",
      "execution_count": 41,
      "metadata": {
        "id": "vKrNxkivRLh8"
      },
      "outputs": [],
      "source": [
        "# compare dataframes\n",
        "df_obsfus = pd.DataFrame(X_trans, columns=df_pn.columns)\n",
        "df_diff = pd.concat([df, df_obsfus], axis=1, keys=['ac', 'transformed'])"
      ]
    },
    {
      "cell_type": "code",
      "execution_count": 42,
      "metadata": {
        "colab": {
          "base_uri": "https://localhost:8080/",
          "height": 302
        },
        "id": "2AHxJsUhRLh8",
        "outputId": "5e6ae3b4-8f63-4dd8-c281-31379f4804af"
      },
      "outputs": [
        {
          "output_type": "execute_result",
          "data": {
            "text/plain": [
              "         ac                                                   \\\n",
              "     gender   age   income family_members insurance_benefits   \n",
              "2077      0  33.0  47500.0              0                  0   \n",
              "517       0  28.0  42300.0              2                  0   \n",
              "1017      1  29.0  43200.0              2                  0   \n",
              "688       1  29.0  48300.0              3                  0   \n",
              "2720      1  25.0  24700.0              1                  0   \n",
              "\n",
              "                                  transformed                              \\\n",
              "     insurance_benefits_received       gender           age        income   \n",
              "2077                           0  6088.505405  21425.527588  17638.023761   \n",
              "517                            0  5423.131358  19080.288122  15706.955165   \n",
              "1017                           0  5539.301761  19487.049967  16042.293125   \n",
              "688                            0  6193.325153  21784.841012  17933.806462   \n",
              "2720                           0  3168.178982  11150.184865   9179.041703   \n",
              "\n",
              "                     \n",
              "     family_members  \n",
              "2077   44047.277092  \n",
              "517    39224.623306  \n",
              "1017   40060.195229  \n",
              "688    44786.923910  \n",
              "2720   22911.671439  "
            ],
            "text/html": [
              "\n",
              "  <div id=\"df-809e93d1-3c3c-4da6-822b-8e9532cefe02\">\n",
              "    <div class=\"colab-df-container\">\n",
              "      <div>\n",
              "<style scoped>\n",
              "    .dataframe tbody tr th:only-of-type {\n",
              "        vertical-align: middle;\n",
              "    }\n",
              "\n",
              "    .dataframe tbody tr th {\n",
              "        vertical-align: top;\n",
              "    }\n",
              "\n",
              "    .dataframe thead tr th {\n",
              "        text-align: left;\n",
              "    }\n",
              "</style>\n",
              "<table border=\"1\" class=\"dataframe\">\n",
              "  <thead>\n",
              "    <tr>\n",
              "      <th></th>\n",
              "      <th colspan=\"6\" halign=\"left\">ac</th>\n",
              "      <th colspan=\"4\" halign=\"left\">transformed</th>\n",
              "    </tr>\n",
              "    <tr>\n",
              "      <th></th>\n",
              "      <th>gender</th>\n",
              "      <th>age</th>\n",
              "      <th>income</th>\n",
              "      <th>family_members</th>\n",
              "      <th>insurance_benefits</th>\n",
              "      <th>insurance_benefits_received</th>\n",
              "      <th>gender</th>\n",
              "      <th>age</th>\n",
              "      <th>income</th>\n",
              "      <th>family_members</th>\n",
              "    </tr>\n",
              "  </thead>\n",
              "  <tbody>\n",
              "    <tr>\n",
              "      <th>2077</th>\n",
              "      <td>0</td>\n",
              "      <td>33.0</td>\n",
              "      <td>47500.0</td>\n",
              "      <td>0</td>\n",
              "      <td>0</td>\n",
              "      <td>0</td>\n",
              "      <td>6088.505405</td>\n",
              "      <td>21425.527588</td>\n",
              "      <td>17638.023761</td>\n",
              "      <td>44047.277092</td>\n",
              "    </tr>\n",
              "    <tr>\n",
              "      <th>517</th>\n",
              "      <td>0</td>\n",
              "      <td>28.0</td>\n",
              "      <td>42300.0</td>\n",
              "      <td>2</td>\n",
              "      <td>0</td>\n",
              "      <td>0</td>\n",
              "      <td>5423.131358</td>\n",
              "      <td>19080.288122</td>\n",
              "      <td>15706.955165</td>\n",
              "      <td>39224.623306</td>\n",
              "    </tr>\n",
              "    <tr>\n",
              "      <th>1017</th>\n",
              "      <td>1</td>\n",
              "      <td>29.0</td>\n",
              "      <td>43200.0</td>\n",
              "      <td>2</td>\n",
              "      <td>0</td>\n",
              "      <td>0</td>\n",
              "      <td>5539.301761</td>\n",
              "      <td>19487.049967</td>\n",
              "      <td>16042.293125</td>\n",
              "      <td>40060.195229</td>\n",
              "    </tr>\n",
              "    <tr>\n",
              "      <th>688</th>\n",
              "      <td>1</td>\n",
              "      <td>29.0</td>\n",
              "      <td>48300.0</td>\n",
              "      <td>3</td>\n",
              "      <td>0</td>\n",
              "      <td>0</td>\n",
              "      <td>6193.325153</td>\n",
              "      <td>21784.841012</td>\n",
              "      <td>17933.806462</td>\n",
              "      <td>44786.923910</td>\n",
              "    </tr>\n",
              "    <tr>\n",
              "      <th>2720</th>\n",
              "      <td>1</td>\n",
              "      <td>25.0</td>\n",
              "      <td>24700.0</td>\n",
              "      <td>1</td>\n",
              "      <td>0</td>\n",
              "      <td>0</td>\n",
              "      <td>3168.178982</td>\n",
              "      <td>11150.184865</td>\n",
              "      <td>9179.041703</td>\n",
              "      <td>22911.671439</td>\n",
              "    </tr>\n",
              "  </tbody>\n",
              "</table>\n",
              "</div>\n",
              "      <button class=\"colab-df-convert\" onclick=\"convertToInteractive('df-809e93d1-3c3c-4da6-822b-8e9532cefe02')\"\n",
              "              title=\"Convert this dataframe to an interactive table.\"\n",
              "              style=\"display:none;\">\n",
              "        \n",
              "  <svg xmlns=\"http://www.w3.org/2000/svg\" height=\"24px\"viewBox=\"0 0 24 24\"\n",
              "       width=\"24px\">\n",
              "    <path d=\"M0 0h24v24H0V0z\" fill=\"none\"/>\n",
              "    <path d=\"M18.56 5.44l.94 2.06.94-2.06 2.06-.94-2.06-.94-.94-2.06-.94 2.06-2.06.94zm-11 1L8.5 8.5l.94-2.06 2.06-.94-2.06-.94L8.5 2.5l-.94 2.06-2.06.94zm10 10l.94 2.06.94-2.06 2.06-.94-2.06-.94-.94-2.06-.94 2.06-2.06.94z\"/><path d=\"M17.41 7.96l-1.37-1.37c-.4-.4-.92-.59-1.43-.59-.52 0-1.04.2-1.43.59L10.3 9.45l-7.72 7.72c-.78.78-.78 2.05 0 2.83L4 21.41c.39.39.9.59 1.41.59.51 0 1.02-.2 1.41-.59l7.78-7.78 2.81-2.81c.8-.78.8-2.07 0-2.86zM5.41 20L4 18.59l7.72-7.72 1.47 1.35L5.41 20z\"/>\n",
              "  </svg>\n",
              "      </button>\n",
              "      \n",
              "  <style>\n",
              "    .colab-df-container {\n",
              "      display:flex;\n",
              "      flex-wrap:wrap;\n",
              "      gap: 12px;\n",
              "    }\n",
              "\n",
              "    .colab-df-convert {\n",
              "      background-color: #E8F0FE;\n",
              "      border: none;\n",
              "      border-radius: 50%;\n",
              "      cursor: pointer;\n",
              "      display: none;\n",
              "      fill: #1967D2;\n",
              "      height: 32px;\n",
              "      padding: 0 0 0 0;\n",
              "      width: 32px;\n",
              "    }\n",
              "\n",
              "    .colab-df-convert:hover {\n",
              "      background-color: #E2EBFA;\n",
              "      box-shadow: 0px 1px 2px rgba(60, 64, 67, 0.3), 0px 1px 3px 1px rgba(60, 64, 67, 0.15);\n",
              "      fill: #174EA6;\n",
              "    }\n",
              "\n",
              "    [theme=dark] .colab-df-convert {\n",
              "      background-color: #3B4455;\n",
              "      fill: #D2E3FC;\n",
              "    }\n",
              "\n",
              "    [theme=dark] .colab-df-convert:hover {\n",
              "      background-color: #434B5C;\n",
              "      box-shadow: 0px 1px 3px 1px rgba(0, 0, 0, 0.15);\n",
              "      filter: drop-shadow(0px 1px 2px rgba(0, 0, 0, 0.3));\n",
              "      fill: #FFFFFF;\n",
              "    }\n",
              "  </style>\n",
              "\n",
              "      <script>\n",
              "        const buttonEl =\n",
              "          document.querySelector('#df-809e93d1-3c3c-4da6-822b-8e9532cefe02 button.colab-df-convert');\n",
              "        buttonEl.style.display =\n",
              "          google.colab.kernel.accessAllowed ? 'block' : 'none';\n",
              "\n",
              "        async function convertToInteractive(key) {\n",
              "          const element = document.querySelector('#df-809e93d1-3c3c-4da6-822b-8e9532cefe02');\n",
              "          const dataTable =\n",
              "            await google.colab.kernel.invokeFunction('convertToInteractive',\n",
              "                                                     [key], {});\n",
              "          if (!dataTable) return;\n",
              "\n",
              "          const docLinkHtml = 'Like what you see? Visit the ' +\n",
              "            '<a target=\"_blank\" href=https://colab.research.google.com/notebooks/data_table.ipynb>data table notebook</a>'\n",
              "            + ' to learn more about interactive tables.';\n",
              "          element.innerHTML = '';\n",
              "          dataTable['output_type'] = 'display_data';\n",
              "          await google.colab.output.renderOutput(dataTable, element);\n",
              "          const docLink = document.createElement('div');\n",
              "          docLink.innerHTML = docLinkHtml;\n",
              "          element.appendChild(docLink);\n",
              "        }\n",
              "      </script>\n",
              "    </div>\n",
              "  </div>\n",
              "  "
            ]
          },
          "metadata": {},
          "execution_count": 42
        }
      ],
      "source": [
        "# display sample\n",
        "df_diff.sample(5)"
      ]
    },
    {
      "cell_type": "markdown",
      "metadata": {
        "id": "tralM_SbRLh8"
      },
      "source": [
        "Can you recover the original data of $X'$ if you already know the $P$? Try checking the calculation by moving $P$ from the top right side of the formula, to the left. The matrix multiplication rule comes in handy here."
      ]
    },
    {
      "cell_type": "code",
      "execution_count": 43,
      "metadata": {
        "colab": {
          "base_uri": "https://localhost:8080/",
          "height": 175
        },
        "id": "EASq-rOXRLh9",
        "outputId": "90c73ce5-0b9c-4d64-99bd-8cccca8355ae"
      },
      "outputs": [
        {
          "output_type": "execute_result",
          "data": {
            "text/plain": [
              "          0         1         2         3\n",
              "0  0.414680 -1.437840  0.627985  1.140013\n",
              "1 -1.061018  0.442193  0.132955  1.184259\n",
              "2  1.423624  1.604616 -2.055382 -1.536997\n",
              "3 -0.111286 -0.658138  1.749955 -0.118163"
            ],
            "text/html": [
              "\n",
              "  <div id=\"df-6d92ab23-045e-48b1-b59b-6f0e97eabf6f\">\n",
              "    <div class=\"colab-df-container\">\n",
              "      <div>\n",
              "<style scoped>\n",
              "    .dataframe tbody tr th:only-of-type {\n",
              "        vertical-align: middle;\n",
              "    }\n",
              "\n",
              "    .dataframe tbody tr th {\n",
              "        vertical-align: top;\n",
              "    }\n",
              "\n",
              "    .dataframe thead th {\n",
              "        text-align: right;\n",
              "    }\n",
              "</style>\n",
              "<table border=\"1\" class=\"dataframe\">\n",
              "  <thead>\n",
              "    <tr style=\"text-align: right;\">\n",
              "      <th></th>\n",
              "      <th>0</th>\n",
              "      <th>1</th>\n",
              "      <th>2</th>\n",
              "      <th>3</th>\n",
              "    </tr>\n",
              "  </thead>\n",
              "  <tbody>\n",
              "    <tr>\n",
              "      <th>0</th>\n",
              "      <td>0.414680</td>\n",
              "      <td>-1.437840</td>\n",
              "      <td>0.627985</td>\n",
              "      <td>1.140013</td>\n",
              "    </tr>\n",
              "    <tr>\n",
              "      <th>1</th>\n",
              "      <td>-1.061018</td>\n",
              "      <td>0.442193</td>\n",
              "      <td>0.132955</td>\n",
              "      <td>1.184259</td>\n",
              "    </tr>\n",
              "    <tr>\n",
              "      <th>2</th>\n",
              "      <td>1.423624</td>\n",
              "      <td>1.604616</td>\n",
              "      <td>-2.055382</td>\n",
              "      <td>-1.536997</td>\n",
              "    </tr>\n",
              "    <tr>\n",
              "      <th>3</th>\n",
              "      <td>-0.111286</td>\n",
              "      <td>-0.658138</td>\n",
              "      <td>1.749955</td>\n",
              "      <td>-0.118163</td>\n",
              "    </tr>\n",
              "  </tbody>\n",
              "</table>\n",
              "</div>\n",
              "      <button class=\"colab-df-convert\" onclick=\"convertToInteractive('df-6d92ab23-045e-48b1-b59b-6f0e97eabf6f')\"\n",
              "              title=\"Convert this dataframe to an interactive table.\"\n",
              "              style=\"display:none;\">\n",
              "        \n",
              "  <svg xmlns=\"http://www.w3.org/2000/svg\" height=\"24px\"viewBox=\"0 0 24 24\"\n",
              "       width=\"24px\">\n",
              "    <path d=\"M0 0h24v24H0V0z\" fill=\"none\"/>\n",
              "    <path d=\"M18.56 5.44l.94 2.06.94-2.06 2.06-.94-2.06-.94-.94-2.06-.94 2.06-2.06.94zm-11 1L8.5 8.5l.94-2.06 2.06-.94-2.06-.94L8.5 2.5l-.94 2.06-2.06.94zm10 10l.94 2.06.94-2.06 2.06-.94-2.06-.94-.94-2.06-.94 2.06-2.06.94z\"/><path d=\"M17.41 7.96l-1.37-1.37c-.4-.4-.92-.59-1.43-.59-.52 0-1.04.2-1.43.59L10.3 9.45l-7.72 7.72c-.78.78-.78 2.05 0 2.83L4 21.41c.39.39.9.59 1.41.59.51 0 1.02-.2 1.41-.59l7.78-7.78 2.81-2.81c.8-.78.8-2.07 0-2.86zM5.41 20L4 18.59l7.72-7.72 1.47 1.35L5.41 20z\"/>\n",
              "  </svg>\n",
              "      </button>\n",
              "      \n",
              "  <style>\n",
              "    .colab-df-container {\n",
              "      display:flex;\n",
              "      flex-wrap:wrap;\n",
              "      gap: 12px;\n",
              "    }\n",
              "\n",
              "    .colab-df-convert {\n",
              "      background-color: #E8F0FE;\n",
              "      border: none;\n",
              "      border-radius: 50%;\n",
              "      cursor: pointer;\n",
              "      display: none;\n",
              "      fill: #1967D2;\n",
              "      height: 32px;\n",
              "      padding: 0 0 0 0;\n",
              "      width: 32px;\n",
              "    }\n",
              "\n",
              "    .colab-df-convert:hover {\n",
              "      background-color: #E2EBFA;\n",
              "      box-shadow: 0px 1px 2px rgba(60, 64, 67, 0.3), 0px 1px 3px 1px rgba(60, 64, 67, 0.15);\n",
              "      fill: #174EA6;\n",
              "    }\n",
              "\n",
              "    [theme=dark] .colab-df-convert {\n",
              "      background-color: #3B4455;\n",
              "      fill: #D2E3FC;\n",
              "    }\n",
              "\n",
              "    [theme=dark] .colab-df-convert:hover {\n",
              "      background-color: #434B5C;\n",
              "      box-shadow: 0px 1px 3px 1px rgba(0, 0, 0, 0.15);\n",
              "      filter: drop-shadow(0px 1px 2px rgba(0, 0, 0, 0.3));\n",
              "      fill: #FFFFFF;\n",
              "    }\n",
              "  </style>\n",
              "\n",
              "      <script>\n",
              "        const buttonEl =\n",
              "          document.querySelector('#df-6d92ab23-045e-48b1-b59b-6f0e97eabf6f button.colab-df-convert');\n",
              "        buttonEl.style.display =\n",
              "          google.colab.kernel.accessAllowed ? 'block' : 'none';\n",
              "\n",
              "        async function convertToInteractive(key) {\n",
              "          const element = document.querySelector('#df-6d92ab23-045e-48b1-b59b-6f0e97eabf6f');\n",
              "          const dataTable =\n",
              "            await google.colab.kernel.invokeFunction('convertToInteractive',\n",
              "                                                     [key], {});\n",
              "          if (!dataTable) return;\n",
              "\n",
              "          const docLinkHtml = 'Like what you see? Visit the ' +\n",
              "            '<a target=\"_blank\" href=https://colab.research.google.com/notebooks/data_table.ipynb>data table notebook</a>'\n",
              "            + ' to learn more about interactive tables.';\n",
              "          element.innerHTML = '';\n",
              "          dataTable['output_type'] = 'display_data';\n",
              "          await google.colab.output.renderOutput(dataTable, element);\n",
              "          const docLink = document.createElement('div');\n",
              "          docLink.innerHTML = docLinkHtml;\n",
              "          element.appendChild(docLink);\n",
              "        }\n",
              "      </script>\n",
              "    </div>\n",
              "  </div>\n",
              "  "
            ]
          },
          "metadata": {},
          "execution_count": 43
        }
      ],
      "source": [
        "# recovering data\n",
        "P_inv = np.linalg.inv(P)\n",
        "\n",
        "# menampilkan sample\n",
        "pd.DataFrame(P_inv)"
      ]
    },
    {
      "cell_type": "code",
      "execution_count": 44,
      "metadata": {
        "colab": {
          "base_uri": "https://localhost:8080/",
          "height": 424
        },
        "id": "5zDftvmaRLh9",
        "outputId": "7fc4ce6e-e51e-4262-bb3e-e1544015d195"
      },
      "outputs": [
        {
          "output_type": "execute_result",
          "data": {
            "text/plain": [
              "                 0     1        2             3\n",
              "0     1.000000e+00  41.0  49600.0  1.000000e+00\n",
              "1    -4.473636e-12  46.0  38000.0  1.000000e+00\n",
              "2    -2.515869e-12  29.0  21000.0  9.524523e-13\n",
              "3    -4.844982e-12  21.0  41700.0  2.000000e+00\n",
              "4     1.000000e+00  28.0  26100.0 -1.019907e-13\n",
              "...            ...   ...      ...           ...\n",
              "4842 -2.559766e-12  28.0  35700.0  2.000000e+00\n",
              "4843 -5.486091e-12  34.0  52400.0  1.000000e+00\n",
              "4844 -1.928379e-12  20.0  33900.0  2.000000e+00\n",
              "4845  1.000000e+00  22.0  32700.0  3.000000e+00\n",
              "4846  1.000000e+00  28.0  40600.0  1.000000e+00\n",
              "\n",
              "[4847 rows x 4 columns]"
            ],
            "text/html": [
              "\n",
              "  <div id=\"df-689e8f8c-e456-45ae-a114-58cc9f09a172\">\n",
              "    <div class=\"colab-df-container\">\n",
              "      <div>\n",
              "<style scoped>\n",
              "    .dataframe tbody tr th:only-of-type {\n",
              "        vertical-align: middle;\n",
              "    }\n",
              "\n",
              "    .dataframe tbody tr th {\n",
              "        vertical-align: top;\n",
              "    }\n",
              "\n",
              "    .dataframe thead th {\n",
              "        text-align: right;\n",
              "    }\n",
              "</style>\n",
              "<table border=\"1\" class=\"dataframe\">\n",
              "  <thead>\n",
              "    <tr style=\"text-align: right;\">\n",
              "      <th></th>\n",
              "      <th>0</th>\n",
              "      <th>1</th>\n",
              "      <th>2</th>\n",
              "      <th>3</th>\n",
              "    </tr>\n",
              "  </thead>\n",
              "  <tbody>\n",
              "    <tr>\n",
              "      <th>0</th>\n",
              "      <td>1.000000e+00</td>\n",
              "      <td>41.0</td>\n",
              "      <td>49600.0</td>\n",
              "      <td>1.000000e+00</td>\n",
              "    </tr>\n",
              "    <tr>\n",
              "      <th>1</th>\n",
              "      <td>-4.473636e-12</td>\n",
              "      <td>46.0</td>\n",
              "      <td>38000.0</td>\n",
              "      <td>1.000000e+00</td>\n",
              "    </tr>\n",
              "    <tr>\n",
              "      <th>2</th>\n",
              "      <td>-2.515869e-12</td>\n",
              "      <td>29.0</td>\n",
              "      <td>21000.0</td>\n",
              "      <td>9.524523e-13</td>\n",
              "    </tr>\n",
              "    <tr>\n",
              "      <th>3</th>\n",
              "      <td>-4.844982e-12</td>\n",
              "      <td>21.0</td>\n",
              "      <td>41700.0</td>\n",
              "      <td>2.000000e+00</td>\n",
              "    </tr>\n",
              "    <tr>\n",
              "      <th>4</th>\n",
              "      <td>1.000000e+00</td>\n",
              "      <td>28.0</td>\n",
              "      <td>26100.0</td>\n",
              "      <td>-1.019907e-13</td>\n",
              "    </tr>\n",
              "    <tr>\n",
              "      <th>...</th>\n",
              "      <td>...</td>\n",
              "      <td>...</td>\n",
              "      <td>...</td>\n",
              "      <td>...</td>\n",
              "    </tr>\n",
              "    <tr>\n",
              "      <th>4842</th>\n",
              "      <td>-2.559766e-12</td>\n",
              "      <td>28.0</td>\n",
              "      <td>35700.0</td>\n",
              "      <td>2.000000e+00</td>\n",
              "    </tr>\n",
              "    <tr>\n",
              "      <th>4843</th>\n",
              "      <td>-5.486091e-12</td>\n",
              "      <td>34.0</td>\n",
              "      <td>52400.0</td>\n",
              "      <td>1.000000e+00</td>\n",
              "    </tr>\n",
              "    <tr>\n",
              "      <th>4844</th>\n",
              "      <td>-1.928379e-12</td>\n",
              "      <td>20.0</td>\n",
              "      <td>33900.0</td>\n",
              "      <td>2.000000e+00</td>\n",
              "    </tr>\n",
              "    <tr>\n",
              "      <th>4845</th>\n",
              "      <td>1.000000e+00</td>\n",
              "      <td>22.0</td>\n",
              "      <td>32700.0</td>\n",
              "      <td>3.000000e+00</td>\n",
              "    </tr>\n",
              "    <tr>\n",
              "      <th>4846</th>\n",
              "      <td>1.000000e+00</td>\n",
              "      <td>28.0</td>\n",
              "      <td>40600.0</td>\n",
              "      <td>1.000000e+00</td>\n",
              "    </tr>\n",
              "  </tbody>\n",
              "</table>\n",
              "<p>4847 rows × 4 columns</p>\n",
              "</div>\n",
              "      <button class=\"colab-df-convert\" onclick=\"convertToInteractive('df-689e8f8c-e456-45ae-a114-58cc9f09a172')\"\n",
              "              title=\"Convert this dataframe to an interactive table.\"\n",
              "              style=\"display:none;\">\n",
              "        \n",
              "  <svg xmlns=\"http://www.w3.org/2000/svg\" height=\"24px\"viewBox=\"0 0 24 24\"\n",
              "       width=\"24px\">\n",
              "    <path d=\"M0 0h24v24H0V0z\" fill=\"none\"/>\n",
              "    <path d=\"M18.56 5.44l.94 2.06.94-2.06 2.06-.94-2.06-.94-.94-2.06-.94 2.06-2.06.94zm-11 1L8.5 8.5l.94-2.06 2.06-.94-2.06-.94L8.5 2.5l-.94 2.06-2.06.94zm10 10l.94 2.06.94-2.06 2.06-.94-2.06-.94-.94-2.06-.94 2.06-2.06.94z\"/><path d=\"M17.41 7.96l-1.37-1.37c-.4-.4-.92-.59-1.43-.59-.52 0-1.04.2-1.43.59L10.3 9.45l-7.72 7.72c-.78.78-.78 2.05 0 2.83L4 21.41c.39.39.9.59 1.41.59.51 0 1.02-.2 1.41-.59l7.78-7.78 2.81-2.81c.8-.78.8-2.07 0-2.86zM5.41 20L4 18.59l7.72-7.72 1.47 1.35L5.41 20z\"/>\n",
              "  </svg>\n",
              "      </button>\n",
              "      \n",
              "  <style>\n",
              "    .colab-df-container {\n",
              "      display:flex;\n",
              "      flex-wrap:wrap;\n",
              "      gap: 12px;\n",
              "    }\n",
              "\n",
              "    .colab-df-convert {\n",
              "      background-color: #E8F0FE;\n",
              "      border: none;\n",
              "      border-radius: 50%;\n",
              "      cursor: pointer;\n",
              "      display: none;\n",
              "      fill: #1967D2;\n",
              "      height: 32px;\n",
              "      padding: 0 0 0 0;\n",
              "      width: 32px;\n",
              "    }\n",
              "\n",
              "    .colab-df-convert:hover {\n",
              "      background-color: #E2EBFA;\n",
              "      box-shadow: 0px 1px 2px rgba(60, 64, 67, 0.3), 0px 1px 3px 1px rgba(60, 64, 67, 0.15);\n",
              "      fill: #174EA6;\n",
              "    }\n",
              "\n",
              "    [theme=dark] .colab-df-convert {\n",
              "      background-color: #3B4455;\n",
              "      fill: #D2E3FC;\n",
              "    }\n",
              "\n",
              "    [theme=dark] .colab-df-convert:hover {\n",
              "      background-color: #434B5C;\n",
              "      box-shadow: 0px 1px 3px 1px rgba(0, 0, 0, 0.15);\n",
              "      filter: drop-shadow(0px 1px 2px rgba(0, 0, 0, 0.3));\n",
              "      fill: #FFFFFF;\n",
              "    }\n",
              "  </style>\n",
              "\n",
              "      <script>\n",
              "        const buttonEl =\n",
              "          document.querySelector('#df-689e8f8c-e456-45ae-a114-58cc9f09a172 button.colab-df-convert');\n",
              "        buttonEl.style.display =\n",
              "          google.colab.kernel.accessAllowed ? 'block' : 'none';\n",
              "\n",
              "        async function convertToInteractive(key) {\n",
              "          const element = document.querySelector('#df-689e8f8c-e456-45ae-a114-58cc9f09a172');\n",
              "          const dataTable =\n",
              "            await google.colab.kernel.invokeFunction('convertToInteractive',\n",
              "                                                     [key], {});\n",
              "          if (!dataTable) return;\n",
              "\n",
              "          const docLinkHtml = 'Like what you see? Visit the ' +\n",
              "            '<a target=\"_blank\" href=https://colab.research.google.com/notebooks/data_table.ipynb>data table notebook</a>'\n",
              "            + ' to learn more about interactive tables.';\n",
              "          element.innerHTML = '';\n",
              "          dataTable['output_type'] = 'display_data';\n",
              "          await google.colab.output.renderOutput(dataTable, element);\n",
              "          const docLink = document.createElement('div');\n",
              "          docLink.innerHTML = docLinkHtml;\n",
              "          element.appendChild(docLink);\n",
              "        }\n",
              "      </script>\n",
              "    </div>\n",
              "  </div>\n",
              "  "
            ]
          },
          "metadata": {},
          "execution_count": 44
        }
      ],
      "source": [
        "# invert metrix\n",
        "X_recover = X_trans @ P_inv\n",
        "\n",
        "# display sample\n",
        "pd.DataFrame(X_recover)"
      ]
    },
    {
      "cell_type": "code",
      "execution_count": 45,
      "metadata": {
        "colab": {
          "base_uri": "https://localhost:8080/",
          "height": 724
        },
        "id": "0ENsO_0iRLh-",
        "outputId": "7a5225ce-833b-4d4d-f5a6-954035c8d16c"
      },
      "outputs": [
        {
          "output_type": "display_data",
          "data": {
            "text/plain": [
              "<Figure size 720x720 with 20 Axes>"
            ],
            "image/png": "[encoded data removed]"
          },
          "metadata": {}
        }
      ],
      "source": [
        "# display chart\n",
        "sns.pairplot(pd.DataFrame(X_recover))\n",
        "plt.show()"
      ]
    },
    {
      "cell_type": "markdown",
      "metadata": {
        "id": "B02mdhzcRLh-"
      },
      "source": [
        "- The data has the same distribution as before but we still need to convert it into `int` form."
      ]
    },
    {
      "cell_type": "code",
      "execution_count": 46,
      "metadata": {
        "id": "pKa1Vi4fRLh_"
      },
      "outputs": [],
      "source": [
        "# comparing dataframes\n",
        "df_recover = pd.DataFrame(X_recover, columns=df_pn.columns)\n",
        "df_diverge = pd.concat([df_pn, df_obsfus, df_recover], axis=1, keys=['actual', 'transformed', 'recovered'])"
      ]
    },
    {
      "cell_type": "markdown",
      "metadata": {
        "id": "ltDiIcNPRLh_"
      },
      "source": [
        "Display all three cases for multiple clients \n",
        "- Original data \n",
        "- Transformed data \n",
        "- Reverted data"
      ]
    },
    {
      "cell_type": "markdown",
      "metadata": {
        "id": "BhmFDdyNRLh_"
      },
      "source": [
        "Maybe we will see that there are some values that are not exactly the same as the data before the transformation. Why is that?"
      ]
    },
    {
      "cell_type": "code",
      "execution_count": 47,
      "metadata": {
        "colab": {
          "base_uri": "https://localhost:8080/",
          "height": 354
        },
        "id": "e5m9mtelRLh_",
        "outputId": "c51d5f24-322b-4ce8-dee1-50a7dac08010"
      },
      "outputs": [
        {
          "output_type": "execute_result",
          "data": {
            "text/plain": [
              "     actual                                transformed                \\\n",
              "     gender   age   income family_members       gender           age   \n",
              "2965      0  34.0  49400.0              0  6332.015484  22282.236492   \n",
              "2747      1  35.0  25200.0              0  3232.533707  11384.311296   \n",
              "1137      0  35.0  36100.0              0  4628.198347  16293.079140   \n",
              "4630      1  18.0  38500.0              2  4936.131737  17359.504213   \n",
              "3843      0  40.0  34700.0              2  4450.597878  15669.062462   \n",
              "\n",
              "                                      recovered                                \n",
              "            income family_members        gender   age   income family_members  \n",
              "2965  18343.301147   45808.916636 -3.629505e-12  34.0  49400.0   3.421594e-12  \n",
              "2747   9371.608698   23382.687338  1.000000e+00  35.0  25200.0   1.978123e-13  \n",
              "1137  13412.448564   33483.728348 -5.234888e-12  35.0  36100.0   1.407663e-12  \n",
              "4630  14291.169874   35695.753074  1.000000e+00  18.0  38500.0   2.000000e+00  \n",
              "3843  12898.023857   32190.642163 -3.137747e-12  40.0  34700.0   2.000000e+00  "
            ],
            "text/html": [
              "\n",
              "  <div id=\"df-70a9c907-d280-4966-9d2a-65ab40009fac\">\n",
              "    <div class=\"colab-df-container\">\n",
              "      <div>\n",
              "<style scoped>\n",
              "    .dataframe tbody tr th:only-of-type {\n",
              "        vertical-align: middle;\n",
              "    }\n",
              "\n",
              "    .dataframe tbody tr th {\n",
              "        vertical-align: top;\n",
              "    }\n",
              "\n",
              "    .dataframe thead tr th {\n",
              "        text-align: left;\n",
              "    }\n",
              "</style>\n",
              "<table border=\"1\" class=\"dataframe\">\n",
              "  <thead>\n",
              "    <tr>\n",
              "      <th></th>\n",
              "      <th colspan=\"4\" halign=\"left\">actual</th>\n",
              "      <th colspan=\"4\" halign=\"left\">transformed</th>\n",
              "      <th colspan=\"4\" halign=\"left\">recovered</th>\n",
              "    </tr>\n",
              "    <tr>\n",
              "      <th></th>\n",
              "      <th>gender</th>\n",
              "      <th>age</th>\n",
              "      <th>income</th>\n",
              "      <th>family_members</th>\n",
              "      <th>gender</th>\n",
              "      <th>age</th>\n",
              "      <th>income</th>\n",
              "      <th>family_members</th>\n",
              "      <th>gender</th>\n",
              "      <th>age</th>\n",
              "      <th>income</th>\n",
              "      <th>family_members</th>\n",
              "    </tr>\n",
              "  </thead>\n",
              "  <tbody>\n",
              "    <tr>\n",
              "      <th>2965</th>\n",
              "      <td>0</td>\n",
              "      <td>34.0</td>\n",
              "      <td>49400.0</td>\n",
              "      <td>0</td>\n",
              "      <td>6332.015484</td>\n",
              "      <td>22282.236492</td>\n",
              "      <td>18343.301147</td>\n",
              "      <td>45808.916636</td>\n",
              "      <td>-3.629505e-12</td>\n",
              "      <td>34.0</td>\n",
              "      <td>49400.0</td>\n",
              "      <td>3.421594e-12</td>\n",
              "    </tr>\n",
              "    <tr>\n",
              "      <th>2747</th>\n",
              "      <td>1</td>\n",
              "      <td>35.0</td>\n",
              "      <td>25200.0</td>\n",
              "      <td>0</td>\n",
              "      <td>3232.533707</td>\n",
              "      <td>11384.311296</td>\n",
              "      <td>9371.608698</td>\n",
              "      <td>23382.687338</td>\n",
              "      <td>1.000000e+00</td>\n",
              "      <td>35.0</td>\n",
              "      <td>25200.0</td>\n",
              "      <td>1.978123e-13</td>\n",
              "    </tr>\n",
              "    <tr>\n",
              "      <th>1137</th>\n",
              "      <td>0</td>\n",
              "      <td>35.0</td>\n",
              "      <td>36100.0</td>\n",
              "      <td>0</td>\n",
              "      <td>4628.198347</td>\n",
              "      <td>16293.079140</td>\n",
              "      <td>13412.448564</td>\n",
              "      <td>33483.728348</td>\n",
              "      <td>-5.234888e-12</td>\n",
              "      <td>35.0</td>\n",
              "      <td>36100.0</td>\n",
              "      <td>1.407663e-12</td>\n",
              "    </tr>\n",
              "    <tr>\n",
              "      <th>4630</th>\n",
              "      <td>1</td>\n",
              "      <td>18.0</td>\n",
              "      <td>38500.0</td>\n",
              "      <td>2</td>\n",
              "      <td>4936.131737</td>\n",
              "      <td>17359.504213</td>\n",
              "      <td>14291.169874</td>\n",
              "      <td>35695.753074</td>\n",
              "      <td>1.000000e+00</td>\n",
              "      <td>18.0</td>\n",
              "      <td>38500.0</td>\n",
              "      <td>2.000000e+00</td>\n",
              "    </tr>\n",
              "    <tr>\n",
              "      <th>3843</th>\n",
              "      <td>0</td>\n",
              "      <td>40.0</td>\n",
              "      <td>34700.0</td>\n",
              "      <td>2</td>\n",
              "      <td>4450.597878</td>\n",
              "      <td>15669.062462</td>\n",
              "      <td>12898.023857</td>\n",
              "      <td>32190.642163</td>\n",
              "      <td>-3.137747e-12</td>\n",
              "      <td>40.0</td>\n",
              "      <td>34700.0</td>\n",
              "      <td>2.000000e+00</td>\n",
              "    </tr>\n",
              "  </tbody>\n",
              "</table>\n",
              "</div>\n",
              "      <button class=\"colab-df-convert\" onclick=\"convertToInteractive('df-70a9c907-d280-4966-9d2a-65ab40009fac')\"\n",
              "              title=\"Convert this dataframe to an interactive table.\"\n",
              "              style=\"display:none;\">\n",
              "        \n",
              "  <svg xmlns=\"http://www.w3.org/2000/svg\" height=\"24px\"viewBox=\"0 0 24 24\"\n",
              "       width=\"24px\">\n",
              "    <path d=\"M0 0h24v24H0V0z\" fill=\"none\"/>\n",
              "    <path d=\"M18.56 5.44l.94 2.06.94-2.06 2.06-.94-2.06-.94-.94-2.06-.94 2.06-2.06.94zm-11 1L8.5 8.5l.94-2.06 2.06-.94-2.06-.94L8.5 2.5l-.94 2.06-2.06.94zm10 10l.94 2.06.94-2.06 2.06-.94-2.06-.94-.94-2.06-.94 2.06-2.06.94z\"/><path d=\"M17.41 7.96l-1.37-1.37c-.4-.4-.92-.59-1.43-.59-.52 0-1.04.2-1.43.59L10.3 9.45l-7.72 7.72c-.78.78-.78 2.05 0 2.83L4 21.41c.39.39.9.59 1.41.59.51 0 1.02-.2 1.41-.59l7.78-7.78 2.81-2.81c.8-.78.8-2.07 0-2.86zM5.41 20L4 18.59l7.72-7.72 1.47 1.35L5.41 20z\"/>\n",
              "  </svg>\n",
              "      </button>\n",
              "      \n",
              "  <style>\n",
              "    .colab-df-container {\n",
              "      display:flex;\n",
              "      flex-wrap:wrap;\n",
              "      gap: 12px;\n",
              "    }\n",
              "\n",
              "    .colab-df-convert {\n",
              "      background-color: #E8F0FE;\n",
              "      border: none;\n",
              "      border-radius: 50%;\n",
              "      cursor: pointer;\n",
              "      display: none;\n",
              "      fill: #1967D2;\n",
              "      height: 32px;\n",
              "      padding: 0 0 0 0;\n",
              "      width: 32px;\n",
              "    }\n",
              "\n",
              "    .colab-df-convert:hover {\n",
              "      background-color: #E2EBFA;\n",
              "      box-shadow: 0px 1px 2px rgba(60, 64, 67, 0.3), 0px 1px 3px 1px rgba(60, 64, 67, 0.15);\n",
              "      fill: #174EA6;\n",
              "    }\n",
              "\n",
              "    [theme=dark] .colab-df-convert {\n",
              "      background-color: #3B4455;\n",
              "      fill: #D2E3FC;\n",
              "    }\n",
              "\n",
              "    [theme=dark] .colab-df-convert:hover {\n",
              "      background-color: #434B5C;\n",
              "      box-shadow: 0px 1px 3px 1px rgba(0, 0, 0, 0.15);\n",
              "      filter: drop-shadow(0px 1px 2px rgba(0, 0, 0, 0.3));\n",
              "      fill: #FFFFFF;\n",
              "    }\n",
              "  </style>\n",
              "\n",
              "      <script>\n",
              "        const buttonEl =\n",
              "          document.querySelector('#df-70a9c907-d280-4966-9d2a-65ab40009fac button.colab-df-convert');\n",
              "        buttonEl.style.display =\n",
              "          google.colab.kernel.accessAllowed ? 'block' : 'none';\n",
              "\n",
              "        async function convertToInteractive(key) {\n",
              "          const element = document.querySelector('#df-70a9c907-d280-4966-9d2a-65ab40009fac');\n",
              "          const dataTable =\n",
              "            await google.colab.kernel.invokeFunction('convertToInteractive',\n",
              "                                                     [key], {});\n",
              "          if (!dataTable) return;\n",
              "\n",
              "          const docLinkHtml = 'Like what you see? Visit the ' +\n",
              "            '<a target=\"_blank\" href=https://colab.research.google.com/notebooks/data_table.ipynb>data table notebook</a>'\n",
              "            + ' to learn more about interactive tables.';\n",
              "          element.innerHTML = '';\n",
              "          dataTable['output_type'] = 'display_data';\n",
              "          await google.colab.output.renderOutput(dataTable, element);\n",
              "          const docLink = document.createElement('div');\n",
              "          docLink.innerHTML = docLinkHtml;\n",
              "          element.appendChild(docLink);\n",
              "        }\n",
              "      </script>\n",
              "    </div>\n",
              "  </div>\n",
              "  "
            ]
          },
          "metadata": {},
          "execution_count": 47
        }
      ],
      "source": [
        "# display sample\n",
        "df_diverge.sample(5)"
      ]
    },
    {
      "cell_type": "markdown",
      "metadata": {
        "id": "jV9mOnMTRLiA"
      },
      "source": [
        "The data is still in `numpy` form, we will convert it into `int` form."
      ]
    },
    {
      "cell_type": "code",
      "execution_count": 48,
      "metadata": {
        "colab": {
          "base_uri": "https://localhost:8080/",
          "height": 302
        },
        "id": "_XqnmMz5RLiA",
        "outputId": "14089e12-9113-497f-b594-a504eb6c4073"
      },
      "outputs": [
        {
          "output_type": "execute_result",
          "data": {
            "text/plain": [
              "     actual                           transformed                \\\n",
              "     gender age income family_members      gender    age income   \n",
              "785       1  31  47900              1        6140  21604  17786   \n",
              "2174      1  49  36300              2        4657  16398  13499   \n",
              "4666      1  19  32400              0        4153  14611  12029   \n",
              "3107      0  25  43200              3        5538  19483  16038   \n",
              "1961      0  18  30400              1        3896  13710  11286   \n",
              "\n",
              "                    recovered                            \n",
              "     family_members    gender age income family_members  \n",
              "785           44417         0  30  47899              1  \n",
              "2174          33681         0  48  36300              2  \n",
              "4666          30042         0  18  32400              0  \n",
              "3107          40056         0  24  43199              3  \n",
              "1961          28188         0  18  30399              0  "
            ],
            "text/html": [
              "\n",
              "  <div id=\"df-cc837395-1c81-472e-9e9b-b34547dd4f83\">\n",
              "    <div class=\"colab-df-container\">\n",
              "      <div>\n",
              "<style scoped>\n",
              "    .dataframe tbody tr th:only-of-type {\n",
              "        vertical-align: middle;\n",
              "    }\n",
              "\n",
              "    .dataframe tbody tr th {\n",
              "        vertical-align: top;\n",
              "    }\n",
              "\n",
              "    .dataframe thead tr th {\n",
              "        text-align: left;\n",
              "    }\n",
              "</style>\n",
              "<table border=\"1\" class=\"dataframe\">\n",
              "  <thead>\n",
              "    <tr>\n",
              "      <th></th>\n",
              "      <th colspan=\"4\" halign=\"left\">actual</th>\n",
              "      <th colspan=\"4\" halign=\"left\">transformed</th>\n",
              "      <th colspan=\"4\" halign=\"left\">recovered</th>\n",
              "    </tr>\n",
              "    <tr>\n",
              "      <th></th>\n",
              "      <th>gender</th>\n",
              "      <th>age</th>\n",
              "      <th>income</th>\n",
              "      <th>family_members</th>\n",
              "      <th>gender</th>\n",
              "      <th>age</th>\n",
              "      <th>income</th>\n",
              "      <th>family_members</th>\n",
              "      <th>gender</th>\n",
              "      <th>age</th>\n",
              "      <th>income</th>\n",
              "      <th>family_members</th>\n",
              "    </tr>\n",
              "  </thead>\n",
              "  <tbody>\n",
              "    <tr>\n",
              "      <th>785</th>\n",
              "      <td>1</td>\n",
              "      <td>31</td>\n",
              "      <td>47900</td>\n",
              "      <td>1</td>\n",
              "      <td>6140</td>\n",
              "      <td>21604</td>\n",
              "      <td>17786</td>\n",
              "      <td>44417</td>\n",
              "      <td>0</td>\n",
              "      <td>30</td>\n",
              "      <td>47899</td>\n",
              "      <td>1</td>\n",
              "    </tr>\n",
              "    <tr>\n",
              "      <th>2174</th>\n",
              "      <td>1</td>\n",
              "      <td>49</td>\n",
              "      <td>36300</td>\n",
              "      <td>2</td>\n",
              "      <td>4657</td>\n",
              "      <td>16398</td>\n",
              "      <td>13499</td>\n",
              "      <td>33681</td>\n",
              "      <td>0</td>\n",
              "      <td>48</td>\n",
              "      <td>36300</td>\n",
              "      <td>2</td>\n",
              "    </tr>\n",
              "    <tr>\n",
              "      <th>4666</th>\n",
              "      <td>1</td>\n",
              "      <td>19</td>\n",
              "      <td>32400</td>\n",
              "      <td>0</td>\n",
              "      <td>4153</td>\n",
              "      <td>14611</td>\n",
              "      <td>12029</td>\n",
              "      <td>30042</td>\n",
              "      <td>0</td>\n",
              "      <td>18</td>\n",
              "      <td>32400</td>\n",
              "      <td>0</td>\n",
              "    </tr>\n",
              "    <tr>\n",
              "      <th>3107</th>\n",
              "      <td>0</td>\n",
              "      <td>25</td>\n",
              "      <td>43200</td>\n",
              "      <td>3</td>\n",
              "      <td>5538</td>\n",
              "      <td>19483</td>\n",
              "      <td>16038</td>\n",
              "      <td>40056</td>\n",
              "      <td>0</td>\n",
              "      <td>24</td>\n",
              "      <td>43199</td>\n",
              "      <td>3</td>\n",
              "    </tr>\n",
              "    <tr>\n",
              "      <th>1961</th>\n",
              "      <td>0</td>\n",
              "      <td>18</td>\n",
              "      <td>30400</td>\n",
              "      <td>1</td>\n",
              "      <td>3896</td>\n",
              "      <td>13710</td>\n",
              "      <td>11286</td>\n",
              "      <td>28188</td>\n",
              "      <td>0</td>\n",
              "      <td>18</td>\n",
              "      <td>30399</td>\n",
              "      <td>0</td>\n",
              "    </tr>\n",
              "  </tbody>\n",
              "</table>\n",
              "</div>\n",
              "      <button class=\"colab-df-convert\" onclick=\"convertToInteractive('df-cc837395-1c81-472e-9e9b-b34547dd4f83')\"\n",
              "              title=\"Convert this dataframe to an interactive table.\"\n",
              "              style=\"display:none;\">\n",
              "        \n",
              "  <svg xmlns=\"http://www.w3.org/2000/svg\" height=\"24px\"viewBox=\"0 0 24 24\"\n",
              "       width=\"24px\">\n",
              "    <path d=\"M0 0h24v24H0V0z\" fill=\"none\"/>\n",
              "    <path d=\"M18.56 5.44l.94 2.06.94-2.06 2.06-.94-2.06-.94-.94-2.06-.94 2.06-2.06.94zm-11 1L8.5 8.5l.94-2.06 2.06-.94-2.06-.94L8.5 2.5l-.94 2.06-2.06.94zm10 10l.94 2.06.94-2.06 2.06-.94-2.06-.94-.94-2.06-.94 2.06-2.06.94z\"/><path d=\"M17.41 7.96l-1.37-1.37c-.4-.4-.92-.59-1.43-.59-.52 0-1.04.2-1.43.59L10.3 9.45l-7.72 7.72c-.78.78-.78 2.05 0 2.83L4 21.41c.39.39.9.59 1.41.59.51 0 1.02-.2 1.41-.59l7.78-7.78 2.81-2.81c.8-.78.8-2.07 0-2.86zM5.41 20L4 18.59l7.72-7.72 1.47 1.35L5.41 20z\"/>\n",
              "  </svg>\n",
              "      </button>\n",
              "      \n",
              "  <style>\n",
              "    .colab-df-container {\n",
              "      display:flex;\n",
              "      flex-wrap:wrap;\n",
              "      gap: 12px;\n",
              "    }\n",
              "\n",
              "    .colab-df-convert {\n",
              "      background-color: #E8F0FE;\n",
              "      border: none;\n",
              "      border-radius: 50%;\n",
              "      cursor: pointer;\n",
              "      display: none;\n",
              "      fill: #1967D2;\n",
              "      height: 32px;\n",
              "      padding: 0 0 0 0;\n",
              "      width: 32px;\n",
              "    }\n",
              "\n",
              "    .colab-df-convert:hover {\n",
              "      background-color: #E2EBFA;\n",
              "      box-shadow: 0px 1px 2px rgba(60, 64, 67, 0.3), 0px 1px 3px 1px rgba(60, 64, 67, 0.15);\n",
              "      fill: #174EA6;\n",
              "    }\n",
              "\n",
              "    [theme=dark] .colab-df-convert {\n",
              "      background-color: #3B4455;\n",
              "      fill: #D2E3FC;\n",
              "    }\n",
              "\n",
              "    [theme=dark] .colab-df-convert:hover {\n",
              "      background-color: #434B5C;\n",
              "      box-shadow: 0px 1px 3px 1px rgba(0, 0, 0, 0.15);\n",
              "      filter: drop-shadow(0px 1px 2px rgba(0, 0, 0, 0.3));\n",
              "      fill: #FFFFFF;\n",
              "    }\n",
              "  </style>\n",
              "\n",
              "      <script>\n",
              "        const buttonEl =\n",
              "          document.querySelector('#df-cc837395-1c81-472e-9e9b-b34547dd4f83 button.colab-df-convert');\n",
              "        buttonEl.style.display =\n",
              "          google.colab.kernel.accessAllowed ? 'block' : 'none';\n",
              "\n",
              "        async function convertToInteractive(key) {\n",
              "          const element = document.querySelector('#df-cc837395-1c81-472e-9e9b-b34547dd4f83');\n",
              "          const dataTable =\n",
              "            await google.colab.kernel.invokeFunction('convertToInteractive',\n",
              "                                                     [key], {});\n",
              "          if (!dataTable) return;\n",
              "\n",
              "          const docLinkHtml = 'Like what you see? Visit the ' +\n",
              "            '<a target=\"_blank\" href=https://colab.research.google.com/notebooks/data_table.ipynb>data table notebook</a>'\n",
              "            + ' to learn more about interactive tables.';\n",
              "          element.innerHTML = '';\n",
              "          dataTable['output_type'] = 'display_data';\n",
              "          await google.colab.output.renderOutput(dataTable, element);\n",
              "          const docLink = document.createElement('div');\n",
              "          docLink.innerHTML = docLinkHtml;\n",
              "          element.appendChild(docLink);\n",
              "        }\n",
              "      </script>\n",
              "    </div>\n",
              "  </div>\n",
              "  "
            ]
          },
          "metadata": {},
          "execution_count": 48
        }
      ],
      "source": [
        "# convert the dataset\n",
        "df_diverge.sample(5).astype('int')"
      ]
    },
    {
      "cell_type": "markdown",
      "metadata": {
        "id": "1dbKFre4RLiB"
      },
      "source": [
        "The converted data shows the same result, we managed to recover the data that we **'darkened'** before."
      ]
    },
    {
      "cell_type": "markdown",
      "metadata": {
        "id": "hduy1-1wRLiB"
      },
      "source": [
        "### 3.5. Prove that data obfuscation can work with LR"
      ]
    },
    {
      "cell_type": "markdown",
      "metadata": {
        "id": "5dU1qqbCRLiB"
      },
      "source": [
        "The regression task has been solved with linear regression here. The next mission is to prove analytically that specific data obfuscation methods will not affect the predicted values of the linear regression, i.e., the predicted values will not change from the initial results. Are you sure? You have to prove it!"
      ]
    },
    {
      "cell_type": "markdown",
      "metadata": {
        "id": "gJyrYhdORLiC"
      },
      "source": [
        "So, the data is obfuscated and there is $X \\times P$ instead of just $X$ now. Consequently, there are other weights $w_P$ as\n",
        "$$\n",
        "w = (X^T X)^{-1} X^T y \\quad \\Rightarrow \\quad w_P = [(XP)^T XP]^{-1} (XP)^T y\n",
        "$$\n",
        "\n",
        "How would $w$ and $w_P$ be linked if you simplify the formula for $w_P$ above? \n",
        "\n",
        "What would be predicted values with $w_P$? \n",
        "\n",
        "What does that mean for the quality of linear regression if you measure it with RMSE?\n",
        "\n",
        "Check Appendix B Properties of Matrices in the end of the notebook. There are useful formulas in there!\n",
        "\n",
        "No code is necessary in this section!"
      ]
    },
    {
      "cell_type": "markdown",
      "metadata": {
        "id": "qWUgtYmbRLiC"
      },
      "source": [
        "**Answer**"
      ]
    },
    {
      "cell_type": "markdown",
      "metadata": {
        "id": "RD7dbgPmRLiC"
      },
      "source": [
        "The quality of Linear Regression as measured with RMSE or R2 is not changed because of the transformation."
      ]
    },
    {
      "cell_type": "markdown",
      "metadata": {
        "id": "11m5YUrZRLiD"
      },
      "source": [
        "**Analytical proof**"
      ]
    },
    {
      "cell_type": "markdown",
      "metadata": {
        "id": "d-c_oTjLRLiD"
      },
      "source": [
        "$$\n",
        "\\begin{align}\n",
        "w_P &= [(XP)^T XP]^{-1} (XP)^T y \\\\\n",
        "    &= [P^T X^T X P]^{-1} (XP)^T y \\\\\n",
        "    &= [(P^T X^T X) P]^{-1} (XP)^T y \\\\\n",
        "    &= P^{-1} [P^T X^T X]^{-1} (XP)^T y \\\\\n",
        "    &= P^{-1} [X^T X]^{-1} [P^T]^{-1} (XP)^T y \\\\\n",
        "    &= P^{-1} [X^T X]^{-1} [P^T]^{-1} P^T X^T y \\\\\n",
        "    &= P^{-1} [X^T X]^{-1} I X^T y \\\\\n",
        "    &= P^{-1} [X^T X]^{-1} X^T y \\\\    \n",
        "    &= P^{-1} \\boxed{[X^T X]^{-1} X^T y}\n",
        "\\end{align}\n",
        "$$"
      ]
    },
    {
      "cell_type": "markdown",
      "metadata": {
        "id": "ejh4R02xRLiD"
      },
      "source": [
        "So, we have derived that"
      ]
    },
    {
      "cell_type": "markdown",
      "metadata": {
        "id": "bhtmDewuRLiE"
      },
      "source": [
        "$$w_P = P^{-1} [X^T X]^{-1} X^T y $$"
      ]
    },
    {
      "cell_type": "markdown",
      "metadata": {
        "id": "3Ryy_S5oRLiE"
      },
      "source": [
        "or"
      ]
    },
    {
      "cell_type": "markdown",
      "metadata": {
        "id": "l6TUYWxhRLiE"
      },
      "source": [
        "$$\n",
        "\\begin{align}\n",
        "w_P &= P^{-1} w \\\\\n",
        "P w_P &= P P^{-1} w \\\\\n",
        "P w_P &= w \\\\\n",
        "w &= P w_P \\\\\n",
        "\\end{align}\n",
        "$$"
      ]
    },
    {
      "cell_type": "markdown",
      "metadata": {
        "id": "7KSYxOQBRLiF"
      },
      "source": [
        "Accordingly"
      ]
    },
    {
      "cell_type": "markdown",
      "metadata": {
        "id": "6qOC3PpHRLiF"
      },
      "source": [
        "$$\\hat{y} = X w = X P w_p = \\boxed{X' w_P}$$ "
      ]
    },
    {
      "cell_type": "markdown",
      "metadata": {
        "id": "UutUfsZzRLiF"
      },
      "source": [
        "One can see that the predicted value are not changed so any evaluation metrics that compare true values and predicted ones will return same values regardless of the transformation."
      ]
    },
    {
      "cell_type": "markdown",
      "metadata": {
        "id": "KZNVOJXDRLiG"
      },
      "source": [
        "### 3.6 Test Linear Regression With Data Obfuscation"
      ]
    },
    {
      "cell_type": "markdown",
      "metadata": {
        "id": "Oyl_uq2bRLiG"
      },
      "source": [
        "Now, let's prove Linear Regression can work with the chosen obfuscation transformation computationally.\n",
        "\n",
        "Build a procedure or a class that runs Linear Regression optionally with the obfuscation. You can use either a ready implementation of Linear Regression from sciki-learn or your own.\n",
        "\n",
        "Run Linear Regression for the original data and the obfuscated one, compare the predicted values and the RMSE, $R^2$ metric values. Is there any difference?"
      ]
    },
    {
      "cell_type": "markdown",
      "metadata": {
        "id": "WXN7Az6BRLiG"
      },
      "source": [
        "**Procedure**\n",
        "\n",
        "- Create a square matrix $P$ of random numbers\n",
        "- Check that it is invertible. If not, repeat the generation until we get an invertible matrix..\n",
        "- Multiply the feature matrix $X$ by matrix $P$\n",
        "- Use $XP$ as the new feature matrix"
      ]
    },
    {
      "cell_type": "markdown",
      "metadata": {
        "id": "iJj-nIkxRLiH"
      },
      "source": [
        "**Validation**\n",
        "\n",
        "We will use results of the previous paragraph: that when multiplying features by an invertible matrix, the quality of the linear regression as measured with MSE will not change. But multiplying by random numbers will make the initial values unrecoverable without knowing the random matrix."
      ]
    },
    {
      "cell_type": "code",
      "execution_count": 49,
      "metadata": {
        "id": "MOZRzbAvRLiH"
      },
      "outputs": [],
      "source": [
        "# split the data\n",
        "X = df[features].to_numpy()\n",
        "y = df[target].to_numpy()\n",
        "\n",
        "X_train, X_test, y_train, y_test = train_test_split(X, y, test_size=0.3, random_state=42)"
      ]
    },
    {
      "cell_type": "code",
      "execution_count": 50,
      "metadata": {
        "colab": {
          "base_uri": "https://localhost:8080/"
        },
        "id": "AUf36IFERLiH",
        "outputId": "dc1c969e-549f-44eb-a2a2-1d2e420b6c96"
      },
      "outputs": [
        {
          "output_type": "stream",
          "name": "stdout",
          "text": [
            "Generated the random matrix P with the determinant 0.02\n",
            "          0         1         2         3\n",
            "0  0.627104  0.249130  0.324744  0.183775\n",
            "1  0.711506  0.362027  0.020469  0.071802\n",
            "2  0.445249  0.626522  0.786614  0.545805\n",
            "3  0.100291  0.608882  0.992101  0.843648\n",
            "\n"
          ]
        }
      ],
      "source": [
        "# obscure data\n",
        "det = 0\n",
        "eps = 1e-5\n",
        "\n",
        "while det < eps:\n",
        "    rng = np.random.default_rng()\n",
        "    P = rng.random(size=(X_train.shape[1], X_train.shape[1]))\n",
        "\n",
        "    # let's check that the matrix is invertible\n",
        "    det = np.linalg.det(P)\n",
        "\n",
        "X_trans = X @ P\n",
        "\n",
        "Xt_train = X_train @ P\n",
        "Xt_test = X_test @ P\n",
        "\n",
        "# if a matrix's determinant is not equal to zero, it is invertible\n",
        "print(f'Generated the random matrix P with the determinant {det:.2f}')\n",
        "print(pd.DataFrame(P))\n",
        "print()"
      ]
    },
    {
      "cell_type": "code",
      "execution_count": 51,
      "metadata": {
        "colab": {
          "base_uri": "https://localhost:8080/",
          "height": 206
        },
        "id": "Cgj8XJjcRLiI",
        "outputId": "70e4df22-cb08-4aa4-dc97-5039d3075434"
      },
      "outputs": [
        {
          "output_type": "execute_result",
          "data": {
            "text/plain": [
              "              0             1             2             3\n",
              "0  22110.882941  31086.663537  39030.360865  27080.370497\n",
              "1  16948.416335  23819.894980  29907.246533  20749.881372\n",
              "2   9368.419028  13164.181310  16528.302848  11467.231199\n",
              "3  18580.261039  26132.406044  32810.590303  22765.608578\n",
              "4  11639.274305  16359.555079  20539.727854  14250.723933"
            ],
            "text/html": [
              "\n",
              "  <div id=\"df-f98d9a29-beda-477e-a14d-590a71062522\">\n",
              "    <div class=\"colab-df-container\">\n",
              "      <div>\n",
              "<style scoped>\n",
              "    .dataframe tbody tr th:only-of-type {\n",
              "        vertical-align: middle;\n",
              "    }\n",
              "\n",
              "    .dataframe tbody tr th {\n",
              "        vertical-align: top;\n",
              "    }\n",
              "\n",
              "    .dataframe thead th {\n",
              "        text-align: right;\n",
              "    }\n",
              "</style>\n",
              "<table border=\"1\" class=\"dataframe\">\n",
              "  <thead>\n",
              "    <tr style=\"text-align: right;\">\n",
              "      <th></th>\n",
              "      <th>0</th>\n",
              "      <th>1</th>\n",
              "      <th>2</th>\n",
              "      <th>3</th>\n",
              "    </tr>\n",
              "  </thead>\n",
              "  <tbody>\n",
              "    <tr>\n",
              "      <th>0</th>\n",
              "      <td>22110.882941</td>\n",
              "      <td>31086.663537</td>\n",
              "      <td>39030.360865</td>\n",
              "      <td>27080.370497</td>\n",
              "    </tr>\n",
              "    <tr>\n",
              "      <th>1</th>\n",
              "      <td>16948.416335</td>\n",
              "      <td>23819.894980</td>\n",
              "      <td>29907.246533</td>\n",
              "      <td>20749.881372</td>\n",
              "    </tr>\n",
              "    <tr>\n",
              "      <th>2</th>\n",
              "      <td>9368.419028</td>\n",
              "      <td>13164.181310</td>\n",
              "      <td>16528.302848</td>\n",
              "      <td>11467.231199</td>\n",
              "    </tr>\n",
              "    <tr>\n",
              "      <th>3</th>\n",
              "      <td>18580.261039</td>\n",
              "      <td>26132.406044</td>\n",
              "      <td>32810.590303</td>\n",
              "      <td>22765.608578</td>\n",
              "    </tr>\n",
              "    <tr>\n",
              "      <th>4</th>\n",
              "      <td>11639.274305</td>\n",
              "      <td>16359.555079</td>\n",
              "      <td>20539.727854</td>\n",
              "      <td>14250.723933</td>\n",
              "    </tr>\n",
              "  </tbody>\n",
              "</table>\n",
              "</div>\n",
              "      <button class=\"colab-df-convert\" onclick=\"convertToInteractive('df-f98d9a29-beda-477e-a14d-590a71062522')\"\n",
              "              title=\"Convert this dataframe to an interactive table.\"\n",
              "              style=\"display:none;\">\n",
              "        \n",
              "  <svg xmlns=\"http://www.w3.org/2000/svg\" height=\"24px\"viewBox=\"0 0 24 24\"\n",
              "       width=\"24px\">\n",
              "    <path d=\"M0 0h24v24H0V0z\" fill=\"none\"/>\n",
              "    <path d=\"M18.56 5.44l.94 2.06.94-2.06 2.06-.94-2.06-.94-.94-2.06-.94 2.06-2.06.94zm-11 1L8.5 8.5l.94-2.06 2.06-.94-2.06-.94L8.5 2.5l-.94 2.06-2.06.94zm10 10l.94 2.06.94-2.06 2.06-.94-2.06-.94-.94-2.06-.94 2.06-2.06.94z\"/><path d=\"M17.41 7.96l-1.37-1.37c-.4-.4-.92-.59-1.43-.59-.52 0-1.04.2-1.43.59L10.3 9.45l-7.72 7.72c-.78.78-.78 2.05 0 2.83L4 21.41c.39.39.9.59 1.41.59.51 0 1.02-.2 1.41-.59l7.78-7.78 2.81-2.81c.8-.78.8-2.07 0-2.86zM5.41 20L4 18.59l7.72-7.72 1.47 1.35L5.41 20z\"/>\n",
              "  </svg>\n",
              "      </button>\n",
              "      \n",
              "  <style>\n",
              "    .colab-df-container {\n",
              "      display:flex;\n",
              "      flex-wrap:wrap;\n",
              "      gap: 12px;\n",
              "    }\n",
              "\n",
              "    .colab-df-convert {\n",
              "      background-color: #E8F0FE;\n",
              "      border: none;\n",
              "      border-radius: 50%;\n",
              "      cursor: pointer;\n",
              "      display: none;\n",
              "      fill: #1967D2;\n",
              "      height: 32px;\n",
              "      padding: 0 0 0 0;\n",
              "      width: 32px;\n",
              "    }\n",
              "\n",
              "    .colab-df-convert:hover {\n",
              "      background-color: #E2EBFA;\n",
              "      box-shadow: 0px 1px 2px rgba(60, 64, 67, 0.3), 0px 1px 3px 1px rgba(60, 64, 67, 0.15);\n",
              "      fill: #174EA6;\n",
              "    }\n",
              "\n",
              "    [theme=dark] .colab-df-convert {\n",
              "      background-color: #3B4455;\n",
              "      fill: #D2E3FC;\n",
              "    }\n",
              "\n",
              "    [theme=dark] .colab-df-convert:hover {\n",
              "      background-color: #434B5C;\n",
              "      box-shadow: 0px 1px 3px 1px rgba(0, 0, 0, 0.15);\n",
              "      filter: drop-shadow(0px 1px 2px rgba(0, 0, 0, 0.3));\n",
              "      fill: #FFFFFF;\n",
              "    }\n",
              "  </style>\n",
              "\n",
              "      <script>\n",
              "        const buttonEl =\n",
              "          document.querySelector('#df-f98d9a29-beda-477e-a14d-590a71062522 button.colab-df-convert');\n",
              "        buttonEl.style.display =\n",
              "          google.colab.kernel.accessAllowed ? 'block' : 'none';\n",
              "\n",
              "        async function convertToInteractive(key) {\n",
              "          const element = document.querySelector('#df-f98d9a29-beda-477e-a14d-590a71062522');\n",
              "          const dataTable =\n",
              "            await google.colab.kernel.invokeFunction('convertToInteractive',\n",
              "                                                     [key], {});\n",
              "          if (!dataTable) return;\n",
              "\n",
              "          const docLinkHtml = 'Like what you see? Visit the ' +\n",
              "            '<a target=\"_blank\" href=https://colab.research.google.com/notebooks/data_table.ipynb>data table notebook</a>'\n",
              "            + ' to learn more about interactive tables.';\n",
              "          element.innerHTML = '';\n",
              "          dataTable['output_type'] = 'display_data';\n",
              "          await google.colab.output.renderOutput(dataTable, element);\n",
              "          const docLink = document.createElement('div');\n",
              "          docLink.innerHTML = docLinkHtml;\n",
              "          element.appendChild(docLink);\n",
              "        }\n",
              "      </script>\n",
              "    </div>\n",
              "  </div>\n",
              "  "
            ]
          },
          "metadata": {},
          "execution_count": 51
        }
      ],
      "source": [
        "# display sample X_trans\n",
        "df_X_trans = pd.DataFrame(X_trans)\n",
        "df_X_trans.head()"
      ]
    },
    {
      "cell_type": "code",
      "execution_count": 52,
      "metadata": {
        "colab": {
          "base_uri": "https://localhost:8080/",
          "height": 724
        },
        "id": "5S1H5715RLiI",
        "outputId": "4be3accc-8bea-4907-c464-65982d6caf52"
      },
      "outputs": [
        {
          "output_type": "display_data",
          "data": {
            "text/plain": [
              "<Figure size 720x720 with 20 Axes>"
            ],
            "image/png": "[encoded data removed]"
          },
          "metadata": {}
        }
      ],
      "source": [
        "# display chart\n",
        "sns.pairplot(df_X_trans)\n",
        "plt.show()"
      ]
    },
    {
      "cell_type": "code",
      "execution_count": 53,
      "metadata": {
        "colab": {
          "base_uri": "https://localhost:8080/"
        },
        "id": "8RZZ3PI1RLiJ",
        "outputId": "fafd473a-c1a4-4b13-f555-df96b32eea93"
      },
      "outputs": [
        {
          "output_type": "stream",
          "name": "stdout",
          "text": [
            "RMSE: 0.23\n",
            "R2: 0.66\n"
          ]
        }
      ],
      "source": [
        "# train a model with actual data\n",
        "lin_reg = LinearRegression()\n",
        "\n",
        "lin_reg.fit(X_train, y_train)\n",
        "\n",
        "y_pred_train = lin_reg.predict(X_train)\n",
        "y_pred_test = lin_reg.predict(X_test)\n",
        "\n",
        "eval_regressor(y_test, y_pred_test)"
      ]
    },
    {
      "cell_type": "code",
      "execution_count": 54,
      "metadata": {
        "colab": {
          "base_uri": "https://localhost:8080/"
        },
        "id": "ywPdv4WHRLiJ",
        "outputId": "6183f340-a135-470a-ffb2-3d84f9e743fc"
      },
      "outputs": [
        {
          "output_type": "stream",
          "name": "stdout",
          "text": [
            "RMSE: 0.23\n",
            "R2: 0.66\n"
          ]
        }
      ],
      "source": [
        "# train a model with obfuscated data\n",
        "lr_trans = LinearRegression()\n",
        "\n",
        "lr_trans.fit(Xt_train, y_train)\n",
        "\n",
        "yt_pred_train = lr_trans.predict(Xt_train)\n",
        "yt_pred_test = lr_trans.predict(Xt_test)\n",
        "\n",
        "eval_regressor(y_test, yt_pred_test)"
      ]
    },
    {
      "cell_type": "markdown",
      "metadata": {
        "id": "vyS1niLARLiJ"
      },
      "source": [
        "- The blurred data has the same results in the **Linear Regression** model as the original data.\n",
        "- The blurring data process may change the data distribution when visualized, but it still gives the same results in the learning model."
      ]
    },
    {
      "cell_type": "markdown",
      "metadata": {
        "id": "l69OGvgaRLiK"
      },
      "source": [
        "## 4. Conclusion"
      ]
    },
    {
      "cell_type": "markdown",
      "metadata": {
        "id": "tbA6svvcRLiK"
      },
      "source": [
        "**1. Data Preparation**\n",
        "- We start by loading a dataset with a total of **5000** rows and **5** columns.\n",
        "- We rename the columns to lowercase to make it easier to analyze.\n",
        "- No *missing value* is found, but there are some duplicates, and we decided to remove the duplicates.\n",
        "\n",
        "**2. EDA and Data Visualization**\n",
        "- The number of male and female *customers* is equal, and the income distribution is normal, with the average income at **40,000**.\n",
        "- All insurance *customers* are aged between **18** years old and **65** years old. There are no young *customers* who receive insurance benefits. All *customers* who receive insurance benefits are above the age of **40** years.\n",
        "\n",
        "**3. Model**\n",
        "- In *objective* 1, we look for clients with similar characteristics and find that the scaled data has a smaller *distance* than the original data.\n",
        "- In *objective* 2, we look for a comparison between the number of clients who receive insurance benefits and those who do not. The data shows that the number of insurance beneficiaries is much less than the number of clients who receive insurance benefits. The results of the *evaluation metric* on the model also show that the model with scaling has much better results than the model without *scaling*.\n",
        "- The result of regression test on *objective* 3 shows that the result of **RMSE** on the model with *scaling* is better by **10%** than the model without *scaling*.\n",
        "- We successfully performed data blurring on *objective* 4, by multiplying the numerical features. We also managed to restore the data to its original state.\n",
        "\n",
        "\n",
        "**Main Conclusion**\n",
        "- In the blurred data, we can see that the data has a different distribution from the original data through the results shown by some diagrams. Even though the data has a different distribution, it still shows the same results when we *train* the model.\n"
      ]
    }
  ],
  "metadata": {
    "kernelspec": {
      "display_name": "Python 3 (ipykernel)",
      "language": "python",
      "name": "python3"
    },
    "language_info": {
      "codemirror_mode": {
        "name": "ipython",
        "version": 3
      },
      "file_extension": ".py",
      "mimetype": "text/x-python",
      "name": "python",
      "nbconvert_exporter": "python",
      "pygments_lexer": "ipython3",
      "version": "3.10.6"
    },
    "toc": {
      "base_numbering": 1,
      "nav_menu": {},
      "number_sections": true,
      "sideBar": true,
      "skip_h1_title": true,
      "title_cell": "Table of Contents",
      "title_sidebar": "Contents",
      "toc_cell": false,
      "toc_position": {
        "height": "calc(100% - 180px)",
        "left": "10px",
        "top": "150px",
        "width": "249.797px"
      },
      "toc_section_display": true,
      "toc_window_display": true
    },
    "colab": {
      "provenance": [],
      "toc_visible": true
    }
  },
  "nbformat": 4,
  "nbformat_minor": 0
}